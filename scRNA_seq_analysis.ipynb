{
 "cells": [
  {
   "cell_type": "markdown",
   "metadata": {},
   "source": [
    "### Analysis of scRNA-seq of Etv2 reprogramming"
   ]
  },
  {
   "cell_type": "code",
   "execution_count": 22,
   "metadata": {},
   "outputs": [
    {
     "name": "stderr",
     "output_type": "stream",
     "text": [
      "Loading required package: BiasedUrn\n",
      "Loading required package: geneLenDataBase\n",
      "\n",
      "Attaching package: ‘geneLenDataBase’\n",
      "\n",
      "The following object is masked from ‘package:S4Vectors’:\n",
      "\n",
      "    unfactor\n",
      "\n",
      "\n"
     ]
    }
   ],
   "source": [
    "library(SummarizedExperiment)\n",
    "library(RColorBrewer)\n",
    "library(dplyr)\n",
    "library(parallel)\n",
    "library(ggplot2)\n",
    "library(goseq)\n",
    "library(stringr)"
   ]
  },
  {
   "cell_type": "markdown",
   "metadata": {},
   "source": [
    "Read the processed scRNA-seq data (~2.1G)\n",
    "The scRNA-seq dataset was prepared in scRNA_seq_preprocess.Rmd"
   ]
  },
  {
   "cell_type": "code",
   "execution_count": 24,
   "metadata": {},
   "outputs": [
    {
     "data": {
      "text/plain": [
       "class: SummarizedExperiment \n",
       "dim: 17010 15475 \n",
       "metadata(1): curves\n",
       "assays(3): counts normalized_counts scaled_counts\n",
       "rownames: NULL\n",
       "rowData names(6): id name ... is_hvg clusters\n",
       "colnames: NULL\n",
       "colData names(7): barcodes group ... umap cluster"
      ]
     },
     "metadata": {},
     "output_type": "display_data"
    }
   ],
   "source": [
    "se <- readRDS(gzcon(url('https://s3.msi.umn.edu/garry_projects/etv2_pioneer/processed_Etv2_scRNAseq.rds')))\n",
    "se"
   ]
  },
  {
   "cell_type": "code",
   "execution_count": 26,
   "metadata": {},
   "outputs": [
    {
     "name": "stdout",
     "output_type": "stream",
     "text": [
      "class: SummarizedExperiment \n",
      "dim: 17010 15475 \n",
      "metadata(1): curves\n",
      "assays(3): counts normalized_counts scaled_counts\n",
      "rownames: NULL\n",
      "rowData names(6): id name ... is_hvg clusters\n",
      "colnames: NULL\n",
      "colData names(7): barcodes group ... umap cluster\n"
     ]
    }
   ],
   "source": []
  },
  {
   "cell_type": "code",
   "execution_count": null,
   "metadata": {},
   "outputs": [],
   "source": []
  }
 ],
 "metadata": {
  "kernelspec": {
   "display_name": "R",
   "language": "R",
   "name": "ir"
  },
  "language_info": {
   "codemirror_mode": "r",
   "file_extension": ".r",
   "mimetype": "text/x-r-source",
   "name": "R",
   "pygments_lexer": "r",
   "version": "3.6.2"
  }
 },
 "nbformat": 4,
 "nbformat_minor": 2
}
