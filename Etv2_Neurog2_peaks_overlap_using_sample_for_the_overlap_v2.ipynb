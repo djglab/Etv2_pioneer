{
  "nbformat": 4,
  "nbformat_minor": 0,
  "metadata": {
    "kernelspec": {
      "display_name": "R",
      "language": "R",
      "name": "ir"
    },
    "language_info": {
      "codemirror_mode": "r",
      "file_extension": ".r",
      "mimetype": "text/x-r-source",
      "name": "R",
      "pygments_lexer": "r",
      "version": "3.3.1"
    },
    "colab": {
      "name": "Etv2_Neurog2_peaks_overlap_using_sample_for_the_overlap_v2.ipynb",
      "provenance": [],
      "collapsed_sections": [],
      "toc_visible": true,
      "machine_shape": "hm",
      "include_colab_link": true
    }
  },
  "cells": [
    {
      "cell_type": "markdown",
      "metadata": {
        "id": "view-in-github",
        "colab_type": "text"
      },
      "source": [
        "<a href=\"https://colab.research.google.com/github/gongx030/Etv2_pioneer/blob/master/Etv2_Neurog2_peaks_overlap_using_sample_for_the_overlap_v2.ipynb\" target=\"_parent\"><img src=\"https://colab.research.google.com/assets/colab-badge.svg\" alt=\"Open In Colab\"/></a>"
      ]
    },
    {
      "cell_type": "markdown",
      "metadata": {
        "id": "Qrik5h5w5C5M"
      },
      "source": [
        "**The goal of this notebook is to get a higher percent overlap in D7 vs D1 and also answer the reviewers question about rproducibility. We use Biological replicates.**"
      ]
    },
    {
      "cell_type": "code",
      "metadata": {
        "id": "6OhqEEeZHroa"
      },
      "source": [
        "start_time0 <- Sys.time()\n",
        "options(max.print=1000)"
      ],
      "execution_count": null,
      "outputs": []
    },
    {
      "cell_type": "markdown",
      "metadata": {
        "id": "obcf6pAcw6TQ"
      },
      "source": [
        "### Install external packages"
      ]
    },
    {
      "cell_type": "code",
      "metadata": {
        "id": "99vS8MZUxApi",
        "colab": {
          "base_uri": "https://localhost:8080/",
          "height": 173
        },
        "outputId": "cc067762-9174-4251-8f1a-9d20ad747f0d"
      },
      "source": [
        "system('apt-get -q install libgsl-dev', intern = TRUE)"
      ],
      "execution_count": null,
      "outputs": [
        {
          "output_type": "display_data",
          "data": {
            "text/plain": [
              " [1] \"Reading package lists...\"                                                                                                                                                                                                                                                                                                                                                                                                                                                                                                                                                                                                                                      \n",
              " [2] \"Building dependency tree...\"                                                                                                                                                                                                                                                                                                                                                                                                                                                                                                                                                                                                                                   \n",
              " [3] \"Reading state information...\"                                                                                                                                                                                                                                                                                                                                                                                                                                                                                                                                                                                                                                  \n",
              " [4] \"The following additional packages will be installed:\"                                                                                                                                                                                                                                                                                                                                                                                                                                                                                                                                                                                                          \n",
              " [5] \"  libgsl23 libgslcblas0\"                                                                                                                                                                                                                                                                                                                                                                                                                                                                                                                                                                                                                                       \n",
              " [6] \"Suggested packages:\"                                                                                                                                                                                                                                                                                                                                                                                                                                                                                                                                                                                                                                           \n",
              " [7] \"  gsl-ref-psdoc | gsl-doc-pdf | gsl-doc-info | gsl-ref-html\"                                                                                                                                                                                                                                                                                                                                                                                                                                                                                                                                                                                                   \n",
              " [8] \"The following NEW packages will be installed:\"                                                                                                                                                                                                                                                                                                                                                                                                                                                                                                                                                                                                                 \n",
              " [9] \"  libgsl-dev libgsl23 libgslcblas0\"                                                                                                                                                                                                                                                                                                                                                                                                                                                                                                                                                                                                                            \n",
              "[10] \"0 upgraded, 3 newly installed, 0 to remove and 39 not upgraded.\"                                                                                                                                                                                                                                                                                                                                                                                                                                                                                                                                                                                               \n",
              "[11] \"Need to get 1,926 kB of archives.\"                                                                                                                                                                                                                                                                                                                                                                                                                                                                                                                                                                                                                             \n",
              "[12] \"After this operation, 9,474 kB of additional disk space will be used.\"                                                                                                                                                                                                                                                                                                                                                                                                                                                                                                                                                                                         \n",
              "[13] \"Get:1 http://archive.ubuntu.com/ubuntu bionic/universe amd64 libgslcblas0 amd64 2.4+dfsg-6 [79.7 kB]\"                                                                                                                                                                                                                                                                                                                                                                                                                                                                                                                                                          \n",
              "[14] \"Get:2 http://archive.ubuntu.com/ubuntu bionic/universe amd64 libgsl23 amd64 2.4+dfsg-6 [823 kB]\"                                                                                                                                                                                                                                                                                                                                                                                                                                                                                                                                                               \n",
              "[15] \"Get:3 http://archive.ubuntu.com/ubuntu bionic/universe amd64 libgsl-dev amd64 2.4+dfsg-6 [1,023 kB]\"                                                                                                                                                                                                                                                                                                                                                                                                                                                                                                                                                           \n",
              "[16] \"Fetched 1,926 kB in 0s (14.1 MB/s)\"                                                                                                                                                                                                                                                                                                                                                                                                                                                                                                                                                                                                                            \n",
              "[17] \"Selecting previously unselected package libgslcblas0:amd64.\\r\"                                                                                                                                                                                                                                                                                                                                                                                                                                                                                                                                                                                                 \n",
              "[18] \"(Reading database ... \\r(Reading database ... 5%\\r(Reading database ... 10%\\r(Reading database ... 15%\\r(Reading database ... 20%\\r(Reading database ... 25%\\r(Reading database ... 30%\\r(Reading database ... 35%\\r(Reading database ... 40%\\r(Reading database ... 45%\\r(Reading database ... 50%\\r(Reading database ... 55%\\r(Reading database ... 60%\\r(Reading database ... 65%\\r(Reading database ... 70%\\r(Reading database ... 75%\\r(Reading database ... 80%\\r(Reading database ... 85%\\r(Reading database ... 90%\\r(Reading database ... 95%\\r(Reading database ... 100%\\r(Reading database ... 160815 files and directories currently installed.)\\r\"\n",
              "[19] \"Preparing to unpack .../libgslcblas0_2.4+dfsg-6_amd64.deb ...\\r\"                                                                                                                                                                                                                                                                                                                                                                                                                                                                                                                                                                                               \n",
              "[20] \"Unpacking libgslcblas0:amd64 (2.4+dfsg-6) ...\\r\"                                                                                                                                                                                                                                                                                                                                                                                                                                                                                                                                                                                                               \n",
              "[21] \"Selecting previously unselected package libgsl23:amd64.\\r\"                                                                                                                                                                                                                                                                                                                                                                                                                                                                                                                                                                                                     \n",
              "[22] \"Preparing to unpack .../libgsl23_2.4+dfsg-6_amd64.deb ...\\r\"                                                                                                                                                                                                                                                                                                                                                                                                                                                                                                                                                                                                   \n",
              "[23] \"Unpacking libgsl23:amd64 (2.4+dfsg-6) ...\\r\"                                                                                                                                                                                                                                                                                                                                                                                                                                                                                                                                                                                                                   \n",
              "[24] \"Selecting previously unselected package libgsl-dev.\\r\"                                                                                                                                                                                                                                                                                                                                                                                                                                                                                                                                                                                                         \n",
              "[25] \"Preparing to unpack .../libgsl-dev_2.4+dfsg-6_amd64.deb ...\\r\"                                                                                                                                                                                                                                                                                                                                                                                                                                                                                                                                                                                                 \n",
              "[26] \"Unpacking libgsl-dev (2.4+dfsg-6) ...\\r\"                                                                                                                                                                                                                                                                                                                                                                                                                                                                                                                                                                                                                       \n",
              "[27] \"Setting up libgslcblas0:amd64 (2.4+dfsg-6) ...\\r\"                                                                                                                                                                                                                                                                                                                                                                                                                                                                                                                                                                                                              \n",
              "[28] \"Setting up libgsl23:amd64 (2.4+dfsg-6) ...\\r\"                                                                                                                                                                                                                                                                                                                                                                                                                                                                                                                                                                                                                  \n",
              "[29] \"Setting up libgsl-dev (2.4+dfsg-6) ...\\r\"                                                                                                                                                                                                                                                                                                                                                                                                                                                                                                                                                                                                                      \n",
              "[30] \"Processing triggers for man-db (2.8.3-2ubuntu0.1) ...\\r\"                                                                                                                                                                                                                                                                                                                                                                                                                                                                                                                                                                                                       \n",
              "[31] \"Processing triggers for libc-bin (2.27-3ubuntu1.2) ...\\r\"                                                                                                                                                                                                                                                                                                                                                                                                                                                                                                                                                                                                      \n",
              "[32] \"/sbin/ldconfig.real: /usr/local/lib/python3.7/dist-packages/ideep4py/lib/libmkldnn.so.0 is not a symbolic link\\r\"                                                                                                                                                                                                                                                                                                                                                                                                                                                                                                                                              \n",
              "[33] \"\\r\"                                                                                                                                                                                                                                                                                                                                                                                                                                                                                                                                                                                                                                                            "
            ],
            "text/latex": "\\begin{enumerate*}\n\\item 'Reading package lists...'\n\\item 'Building dependency tree...'\n\\item 'Reading state information...'\n\\item 'The following additional packages will be installed:'\n\\item '  libgsl23 libgslcblas0'\n\\item 'Suggested packages:'\n\\item '  gsl-ref-psdoc \\textbar{} gsl-doc-pdf \\textbar{} gsl-doc-info \\textbar{} gsl-ref-html'\n\\item 'The following NEW packages will be installed:'\n\\item '  libgsl-dev libgsl23 libgslcblas0'\n\\item '0 upgraded, 3 newly installed, 0 to remove and 39 not upgraded.'\n\\item 'Need to get 1,926 kB of archives.'\n\\item 'After this operation, 9,474 kB of additional disk space will be used.'\n\\item 'Get:1 http://archive.ubuntu.com/ubuntu bionic/universe amd64 libgslcblas0 amd64 2.4+dfsg-6 {[}79.7 kB{]}'\n\\item 'Get:2 http://archive.ubuntu.com/ubuntu bionic/universe amd64 libgsl23 amd64 2.4+dfsg-6 {[}823 kB{]}'\n\\item 'Get:3 http://archive.ubuntu.com/ubuntu bionic/universe amd64 libgsl-dev amd64 2.4+dfsg-6 {[}1,023 kB{]}'\n\\item 'Fetched 1,926 kB in 0s (14.1 MB/s)'\n\\item 'Selecting previously unselected package libgslcblas0:amd64.\\textbackslash{}r'\n\\item '(Reading database ... \\textbackslash{}r(Reading database ... 5\\%\\textbackslash{}r(Reading database ... 10\\%\\textbackslash{}r(Reading database ... 15\\%\\textbackslash{}r(Reading database ... 20\\%\\textbackslash{}r(Reading database ... 25\\%\\textbackslash{}r(Reading database ... 30\\%\\textbackslash{}r(Reading database ... 35\\%\\textbackslash{}r(Reading database ... 40\\%\\textbackslash{}r(Reading database ... 45\\%\\textbackslash{}r(Reading database ... 50\\%\\textbackslash{}r(Reading database ... 55\\%\\textbackslash{}r(Reading database ... 60\\%\\textbackslash{}r(Reading database ... 65\\%\\textbackslash{}r(Reading database ... 70\\%\\textbackslash{}r(Reading database ... 75\\%\\textbackslash{}r(Reading database ... 80\\%\\textbackslash{}r(Reading database ... 85\\%\\textbackslash{}r(Reading database ... 90\\%\\textbackslash{}r(Reading database ... 95\\%\\textbackslash{}r(Reading database ... 100\\%\\textbackslash{}r(Reading database ... 160815 files and directories currently installed.)\\textbackslash{}r'\n\\item 'Preparing to unpack .../libgslcblas0\\_2.4+dfsg-6\\_amd64.deb ...\\textbackslash{}r'\n\\item 'Unpacking libgslcblas0:amd64 (2.4+dfsg-6) ...\\textbackslash{}r'\n\\item 'Selecting previously unselected package libgsl23:amd64.\\textbackslash{}r'\n\\item 'Preparing to unpack .../libgsl23\\_2.4+dfsg-6\\_amd64.deb ...\\textbackslash{}r'\n\\item 'Unpacking libgsl23:amd64 (2.4+dfsg-6) ...\\textbackslash{}r'\n\\item 'Selecting previously unselected package libgsl-dev.\\textbackslash{}r'\n\\item 'Preparing to unpack .../libgsl-dev\\_2.4+dfsg-6\\_amd64.deb ...\\textbackslash{}r'\n\\item 'Unpacking libgsl-dev (2.4+dfsg-6) ...\\textbackslash{}r'\n\\item 'Setting up libgslcblas0:amd64 (2.4+dfsg-6) ...\\textbackslash{}r'\n\\item 'Setting up libgsl23:amd64 (2.4+dfsg-6) ...\\textbackslash{}r'\n\\item 'Setting up libgsl-dev (2.4+dfsg-6) ...\\textbackslash{}r'\n\\item 'Processing triggers for man-db (2.8.3-2ubuntu0.1) ...\\textbackslash{}r'\n\\item 'Processing triggers for libc-bin (2.27-3ubuntu1.2) ...\\textbackslash{}r'\n\\item '/sbin/ldconfig.real: /usr/local/lib/python3.7/dist-packages/ideep4py/lib/libmkldnn.so.0 is not a symbolic link\\textbackslash{}r'\n\\item '\\textbackslash{}r'\n\\end{enumerate*}\n",
            "text/markdown": "1. 'Reading package lists...'\n2. 'Building dependency tree...'\n3. 'Reading state information...'\n4. 'The following additional packages will be installed:'\n5. <span style=white-space:pre-wrap>'  libgsl23 libgslcblas0'</span>\n6. 'Suggested packages:'\n7. <span style=white-space:pre-wrap>'  gsl-ref-psdoc | gsl-doc-pdf | gsl-doc-info | gsl-ref-html'</span>\n8. 'The following NEW packages will be installed:'\n9. <span style=white-space:pre-wrap>'  libgsl-dev libgsl23 libgslcblas0'</span>\n10. '0 upgraded, 3 newly installed, 0 to remove and 39 not upgraded.'\n11. 'Need to get 1,926 kB of archives.'\n12. 'After this operation, 9,474 kB of additional disk space will be used.'\n13. 'Get:1 http://archive.ubuntu.com/ubuntu bionic/universe amd64 libgslcblas0 amd64 2.4+dfsg-6 [79.7 kB]'\n14. 'Get:2 http://archive.ubuntu.com/ubuntu bionic/universe amd64 libgsl23 amd64 2.4+dfsg-6 [823 kB]'\n15. 'Get:3 http://archive.ubuntu.com/ubuntu bionic/universe amd64 libgsl-dev amd64 2.4+dfsg-6 [1,023 kB]'\n16. 'Fetched 1,926 kB in 0s (14.1 MB/s)'\n17. 'Selecting previously unselected package libgslcblas0:amd64.\\r'\n18. '(Reading database ... \\r(Reading database ... 5%\\r(Reading database ... 10%\\r(Reading database ... 15%\\r(Reading database ... 20%\\r(Reading database ... 25%\\r(Reading database ... 30%\\r(Reading database ... 35%\\r(Reading database ... 40%\\r(Reading database ... 45%\\r(Reading database ... 50%\\r(Reading database ... 55%\\r(Reading database ... 60%\\r(Reading database ... 65%\\r(Reading database ... 70%\\r(Reading database ... 75%\\r(Reading database ... 80%\\r(Reading database ... 85%\\r(Reading database ... 90%\\r(Reading database ... 95%\\r(Reading database ... 100%\\r(Reading database ... 160815 files and directories currently installed.)\\r'\n19. 'Preparing to unpack .../libgslcblas0_2.4+dfsg-6_amd64.deb ...\\r'\n20. 'Unpacking libgslcblas0:amd64 (2.4+dfsg-6) ...\\r'\n21. 'Selecting previously unselected package libgsl23:amd64.\\r'\n22. 'Preparing to unpack .../libgsl23_2.4+dfsg-6_amd64.deb ...\\r'\n23. 'Unpacking libgsl23:amd64 (2.4+dfsg-6) ...\\r'\n24. 'Selecting previously unselected package libgsl-dev.\\r'\n25. 'Preparing to unpack .../libgsl-dev_2.4+dfsg-6_amd64.deb ...\\r'\n26. 'Unpacking libgsl-dev (2.4+dfsg-6) ...\\r'\n27. 'Setting up libgslcblas0:amd64 (2.4+dfsg-6) ...\\r'\n28. 'Setting up libgsl23:amd64 (2.4+dfsg-6) ...\\r'\n29. 'Setting up libgsl-dev (2.4+dfsg-6) ...\\r'\n30. 'Processing triggers for man-db (2.8.3-2ubuntu0.1) ...\\r'\n31. 'Processing triggers for libc-bin (2.27-3ubuntu1.2) ...\\r'\n32. '/sbin/ldconfig.real: /usr/local/lib/python3.7/dist-packages/ideep4py/lib/libmkldnn.so.0 is not a symbolic link\\r'\n33. '\\r'\n\n\n",
            "text/html": [
              "<style>\n",
              ".list-inline {list-style: none; margin:0; padding: 0}\n",
              ".list-inline>li {display: inline-block}\n",
              ".list-inline>li:not(:last-child)::after {content: \"\\00b7\"; padding: 0 .5ex}\n",
              "</style>\n",
              "<ol class=list-inline><li>'Reading package lists...'</li><li>'Building dependency tree...'</li><li>'Reading state information...'</li><li>'The following additional packages will be installed:'</li><li><span style=white-space:pre-wrap>'  libgsl23 libgslcblas0'</span></li><li>'Suggested packages:'</li><li><span style=white-space:pre-wrap>'  gsl-ref-psdoc | gsl-doc-pdf | gsl-doc-info | gsl-ref-html'</span></li><li>'The following NEW packages will be installed:'</li><li><span style=white-space:pre-wrap>'  libgsl-dev libgsl23 libgslcblas0'</span></li><li>'0 upgraded, 3 newly installed, 0 to remove and 39 not upgraded.'</li><li>'Need to get 1,926 kB of archives.'</li><li>'After this operation, 9,474 kB of additional disk space will be used.'</li><li>'Get:1 http://archive.ubuntu.com/ubuntu bionic/universe amd64 libgslcblas0 amd64 2.4+dfsg-6 [79.7 kB]'</li><li>'Get:2 http://archive.ubuntu.com/ubuntu bionic/universe amd64 libgsl23 amd64 2.4+dfsg-6 [823 kB]'</li><li>'Get:3 http://archive.ubuntu.com/ubuntu bionic/universe amd64 libgsl-dev amd64 2.4+dfsg-6 [1,023 kB]'</li><li>'Fetched 1,926 kB in 0s (14.1 MB/s)'</li><li>'Selecting previously unselected package libgslcblas0:amd64.\\r'</li><li>'(Reading database ... \\r(Reading database ... 5%\\r(Reading database ... 10%\\r(Reading database ... 15%\\r(Reading database ... 20%\\r(Reading database ... 25%\\r(Reading database ... 30%\\r(Reading database ... 35%\\r(Reading database ... 40%\\r(Reading database ... 45%\\r(Reading database ... 50%\\r(Reading database ... 55%\\r(Reading database ... 60%\\r(Reading database ... 65%\\r(Reading database ... 70%\\r(Reading database ... 75%\\r(Reading database ... 80%\\r(Reading database ... 85%\\r(Reading database ... 90%\\r(Reading database ... 95%\\r(Reading database ... 100%\\r(Reading database ... 160815 files and directories currently installed.)\\r'</li><li>'Preparing to unpack .../libgslcblas0_2.4+dfsg-6_amd64.deb ...\\r'</li><li>'Unpacking libgslcblas0:amd64 (2.4+dfsg-6) ...\\r'</li><li>'Selecting previously unselected package libgsl23:amd64.\\r'</li><li>'Preparing to unpack .../libgsl23_2.4+dfsg-6_amd64.deb ...\\r'</li><li>'Unpacking libgsl23:amd64 (2.4+dfsg-6) ...\\r'</li><li>'Selecting previously unselected package libgsl-dev.\\r'</li><li>'Preparing to unpack .../libgsl-dev_2.4+dfsg-6_amd64.deb ...\\r'</li><li>'Unpacking libgsl-dev (2.4+dfsg-6) ...\\r'</li><li>'Setting up libgslcblas0:amd64 (2.4+dfsg-6) ...\\r'</li><li>'Setting up libgsl23:amd64 (2.4+dfsg-6) ...\\r'</li><li>'Setting up libgsl-dev (2.4+dfsg-6) ...\\r'</li><li>'Processing triggers for man-db (2.8.3-2ubuntu0.1) ...\\r'</li><li>'Processing triggers for libc-bin (2.27-3ubuntu1.2) ...\\r'</li><li>'/sbin/ldconfig.real: /usr/local/lib/python3.7/dist-packages/ideep4py/lib/libmkldnn.so.0 is not a symbolic link\\r'</li><li>'\\r'</li></ol>\n"
            ]
          },
          "metadata": {
            "tags": []
          }
        }
      ]
    },
    {
      "cell_type": "code",
      "metadata": {
        "id": "HgPXAFx1xZHE",
        "colab": {
          "base_uri": "https://localhost:8080/",
          "height": 243
        },
        "outputId": "3acaf129-e824-438f-db96-7846edd432fd"
      },
      "source": [
        "system('apt-get install libcairo2-dev', intern = TRUE) # for Cairo package that is required by ComplexHeatmap package"
      ],
      "execution_count": null,
      "outputs": [
        {
          "output_type": "display_data",
          "data": {
            "text/plain": [
              " [1] \"Reading package lists...\"                                                                                                                                                                                                                                                                                                                                                                                                                                                                                                                                                                                                                                      \n",
              " [2] \"Building dependency tree...\"                                                                                                                                                                                                                                                                                                                                                                                                                                                                                                                                                                                                                                   \n",
              " [3] \"Reading state information...\"                                                                                                                                                                                                                                                                                                                                                                                                                                                                                                                                                                                                                                  \n",
              " [4] \"The following additional packages will be installed:\"                                                                                                                                                                                                                                                                                                                                                                                                                                                                                                                                                                                                          \n",
              " [5] \"  libcairo-script-interpreter2 libpixman-1-dev libxcb-shm0-dev\"                                                                                                                                                                                                                                                                                                                                                                                                                                                                                                                                                                                                \n",
              " [6] \"Suggested packages:\"                                                                                                                                                                                                                                                                                                                                                                                                                                                                                                                                                                                                                                           \n",
              " [7] \"  libcairo2-doc\"                                                                                                                                                                                                                                                                                                                                                                                                                                                                                                                                                                                                                                               \n",
              " [8] \"The following NEW packages will be installed:\"                                                                                                                                                                                                                                                                                                                                                                                                                                                                                                                                                                                                                 \n",
              " [9] \"  libcairo-script-interpreter2 libcairo2-dev libpixman-1-dev libxcb-shm0-dev\"                                                                                                                                                                                                                                                                                                                                                                                                                                                                                                                                                                                  \n",
              "[10] \"0 upgraded, 4 newly installed, 0 to remove and 39 not upgraded.\"                                                                                                                                                                                                                                                                                                                                                                                                                                                                                                                                                                                               \n",
              "[11] \"Need to get 930 kB of archives.\"                                                                                                                                                                                                                                                                                                                                                                                                                                                                                                                                                                                                                               \n",
              "[12] \"After this operation, 3,986 kB of additional disk space will be used.\"                                                                                                                                                                                                                                                                                                                                                                                                                                                                                                                                                                                         \n",
              "[13] \"Get:1 http://archive.ubuntu.com/ubuntu bionic-updates/main amd64 libcairo-script-interpreter2 amd64 1.15.10-2ubuntu0.1 [53.5 kB]\"                                                                                                                                                                                                                                                                                                                                                                                                                                                                                                                              \n",
              "[14] \"Get:2 http://archive.ubuntu.com/ubuntu bionic/main amd64 libpixman-1-dev amd64 0.34.0-2 [244 kB]\"                                                                                                                                                                                                                                                                                                                                                                                                                                                                                                                                                              \n",
              "[15] \"Get:3 http://archive.ubuntu.com/ubuntu bionic-updates/main amd64 libxcb-shm0-dev amd64 1.13-2~ubuntu18.04 [6,684 B]\"                                                                                                                                                                                                                                                                                                                                                                                                                                                                                                                                           \n",
              "[16] \"Get:4 http://archive.ubuntu.com/ubuntu bionic-updates/main amd64 libcairo2-dev amd64 1.15.10-2ubuntu0.1 [626 kB]\"                                                                                                                                                                                                                                                                                                                                                                                                                                                                                                                                              \n",
              "[17] \"Fetched 930 kB in 0s (7,579 kB/s)\"                                                                                                                                                                                                                                                                                                                                                                                                                                                                                                                                                                                                                             \n",
              "[18] \"Selecting previously unselected package libcairo-script-interpreter2:amd64.\\r\"                                                                                                                                                                                                                                                                                                                                                                                                                                                                                                                                                                                 \n",
              "[19] \"(Reading database ... \\r(Reading database ... 5%\\r(Reading database ... 10%\\r(Reading database ... 15%\\r(Reading database ... 20%\\r(Reading database ... 25%\\r(Reading database ... 30%\\r(Reading database ... 35%\\r(Reading database ... 40%\\r(Reading database ... 45%\\r(Reading database ... 50%\\r(Reading database ... 55%\\r(Reading database ... 60%\\r(Reading database ... 65%\\r(Reading database ... 70%\\r(Reading database ... 75%\\r(Reading database ... 80%\\r(Reading database ... 85%\\r(Reading database ... 90%\\r(Reading database ... 95%\\r(Reading database ... 100%\\r(Reading database ... 161087 files and directories currently installed.)\\r\"\n",
              "[20] \"Preparing to unpack .../libcairo-script-interpreter2_1.15.10-2ubuntu0.1_amd64.deb ...\\r\"                                                                                                                                                                                                                                                                                                                                                                                                                                                                                                                                                                       \n",
              "[21] \"Unpacking libcairo-script-interpreter2:amd64 (1.15.10-2ubuntu0.1) ...\\r\"                                                                                                                                                                                                                                                                                                                                                                                                                                                                                                                                                                                       \n",
              "[22] \"Selecting previously unselected package libpixman-1-dev:amd64.\\r\"                                                                                                                                                                                                                                                                                                                                                                                                                                                                                                                                                                                              \n",
              "[23] \"Preparing to unpack .../libpixman-1-dev_0.34.0-2_amd64.deb ...\\r\"                                                                                                                                                                                                                                                                                                                                                                                                                                                                                                                                                                                              \n",
              "[24] \"Unpacking libpixman-1-dev:amd64 (0.34.0-2) ...\\r\"                                                                                                                                                                                                                                                                                                                                                                                                                                                                                                                                                                                                              \n",
              "[25] \"Selecting previously unselected package libxcb-shm0-dev:amd64.\\r\"                                                                                                                                                                                                                                                                                                                                                                                                                                                                                                                                                                                              \n",
              "[26] \"Preparing to unpack .../libxcb-shm0-dev_1.13-2~ubuntu18.04_amd64.deb ...\\r\"                                                                                                                                                                                                                                                                                                                                                                                                                                                                                                                                                                                    \n",
              "[27] \"Unpacking libxcb-shm0-dev:amd64 (1.13-2~ubuntu18.04) ...\\r\"                                                                                                                                                                                                                                                                                                                                                                                                                                                                                                                                                                                                    \n",
              "[28] \"Selecting previously unselected package libcairo2-dev:amd64.\\r\"                                                                                                                                                                                                                                                                                                                                                                                                                                                                                                                                                                                                \n",
              "[29] \"Preparing to unpack .../libcairo2-dev_1.15.10-2ubuntu0.1_amd64.deb ...\\r\"                                                                                                                                                                                                                                                                                                                                                                                                                                                                                                                                                                                      \n",
              "[30] \"Unpacking libcairo2-dev:amd64 (1.15.10-2ubuntu0.1) ...\\r\"                                                                                                                                                                                                                                                                                                                                                                                                                                                                                                                                                                                                      \n",
              "[31] \"Setting up libcairo-script-interpreter2:amd64 (1.15.10-2ubuntu0.1) ...\\r\"                                                                                                                                                                                                                                                                                                                                                                                                                                                                                                                                                                                      \n",
              "[32] \"Setting up libxcb-shm0-dev:amd64 (1.13-2~ubuntu18.04) ...\\r\"                                                                                                                                                                                                                                                                                                                                                                                                                                                                                                                                                                                                   \n",
              "[33] \"Setting up libpixman-1-dev:amd64 (0.34.0-2) ...\\r\"                                                                                                                                                                                                                                                                                                                                                                                                                                                                                                                                                                                                             \n",
              "[34] \"Setting up libcairo2-dev:amd64 (1.15.10-2ubuntu0.1) ...\\r\"                                                                                                                                                                                                                                                                                                                                                                                                                                                                                                                                                                                                     \n",
              "[35] \"Processing triggers for libc-bin (2.27-3ubuntu1.2) ...\\r\"                                                                                                                                                                                                                                                                                                                                                                                                                                                                                                                                                                                                      \n",
              "[36] \"/sbin/ldconfig.real: /usr/local/lib/python3.7/dist-packages/ideep4py/lib/libmkldnn.so.0 is not a symbolic link\\r\"                                                                                                                                                                                                                                                                                                                                                                                                                                                                                                                                              \n",
              "[37] \"\\r\"                                                                                                                                                                                                                                                                                                                                                                                                                                                                                                                                                                                                                                                            "
            ],
            "text/latex": "\\begin{enumerate*}\n\\item 'Reading package lists...'\n\\item 'Building dependency tree...'\n\\item 'Reading state information...'\n\\item 'The following additional packages will be installed:'\n\\item '  libcairo-script-interpreter2 libpixman-1-dev libxcb-shm0-dev'\n\\item 'Suggested packages:'\n\\item '  libcairo2-doc'\n\\item 'The following NEW packages will be installed:'\n\\item '  libcairo-script-interpreter2 libcairo2-dev libpixman-1-dev libxcb-shm0-dev'\n\\item '0 upgraded, 4 newly installed, 0 to remove and 39 not upgraded.'\n\\item 'Need to get 930 kB of archives.'\n\\item 'After this operation, 3,986 kB of additional disk space will be used.'\n\\item 'Get:1 http://archive.ubuntu.com/ubuntu bionic-updates/main amd64 libcairo-script-interpreter2 amd64 1.15.10-2ubuntu0.1 {[}53.5 kB{]}'\n\\item 'Get:2 http://archive.ubuntu.com/ubuntu bionic/main amd64 libpixman-1-dev amd64 0.34.0-2 {[}244 kB{]}'\n\\item 'Get:3 http://archive.ubuntu.com/ubuntu bionic-updates/main amd64 libxcb-shm0-dev amd64 1.13-2\\textasciitilde{}ubuntu18.04 {[}6,684 B{]}'\n\\item 'Get:4 http://archive.ubuntu.com/ubuntu bionic-updates/main amd64 libcairo2-dev amd64 1.15.10-2ubuntu0.1 {[}626 kB{]}'\n\\item 'Fetched 930 kB in 0s (7,579 kB/s)'\n\\item 'Selecting previously unselected package libcairo-script-interpreter2:amd64.\\textbackslash{}r'\n\\item '(Reading database ... \\textbackslash{}r(Reading database ... 5\\%\\textbackslash{}r(Reading database ... 10\\%\\textbackslash{}r(Reading database ... 15\\%\\textbackslash{}r(Reading database ... 20\\%\\textbackslash{}r(Reading database ... 25\\%\\textbackslash{}r(Reading database ... 30\\%\\textbackslash{}r(Reading database ... 35\\%\\textbackslash{}r(Reading database ... 40\\%\\textbackslash{}r(Reading database ... 45\\%\\textbackslash{}r(Reading database ... 50\\%\\textbackslash{}r(Reading database ... 55\\%\\textbackslash{}r(Reading database ... 60\\%\\textbackslash{}r(Reading database ... 65\\%\\textbackslash{}r(Reading database ... 70\\%\\textbackslash{}r(Reading database ... 75\\%\\textbackslash{}r(Reading database ... 80\\%\\textbackslash{}r(Reading database ... 85\\%\\textbackslash{}r(Reading database ... 90\\%\\textbackslash{}r(Reading database ... 95\\%\\textbackslash{}r(Reading database ... 100\\%\\textbackslash{}r(Reading database ... 161087 files and directories currently installed.)\\textbackslash{}r'\n\\item 'Preparing to unpack .../libcairo-script-interpreter2\\_1.15.10-2ubuntu0.1\\_amd64.deb ...\\textbackslash{}r'\n\\item 'Unpacking libcairo-script-interpreter2:amd64 (1.15.10-2ubuntu0.1) ...\\textbackslash{}r'\n\\item 'Selecting previously unselected package libpixman-1-dev:amd64.\\textbackslash{}r'\n\\item 'Preparing to unpack .../libpixman-1-dev\\_0.34.0-2\\_amd64.deb ...\\textbackslash{}r'\n\\item 'Unpacking libpixman-1-dev:amd64 (0.34.0-2) ...\\textbackslash{}r'\n\\item 'Selecting previously unselected package libxcb-shm0-dev:amd64.\\textbackslash{}r'\n\\item 'Preparing to unpack .../libxcb-shm0-dev\\_1.13-2\\textasciitilde{}ubuntu18.04\\_amd64.deb ...\\textbackslash{}r'\n\\item 'Unpacking libxcb-shm0-dev:amd64 (1.13-2\\textasciitilde{}ubuntu18.04) ...\\textbackslash{}r'\n\\item 'Selecting previously unselected package libcairo2-dev:amd64.\\textbackslash{}r'\n\\item 'Preparing to unpack .../libcairo2-dev\\_1.15.10-2ubuntu0.1\\_amd64.deb ...\\textbackslash{}r'\n\\item 'Unpacking libcairo2-dev:amd64 (1.15.10-2ubuntu0.1) ...\\textbackslash{}r'\n\\item 'Setting up libcairo-script-interpreter2:amd64 (1.15.10-2ubuntu0.1) ...\\textbackslash{}r'\n\\item 'Setting up libxcb-shm0-dev:amd64 (1.13-2\\textasciitilde{}ubuntu18.04) ...\\textbackslash{}r'\n\\item 'Setting up libpixman-1-dev:amd64 (0.34.0-2) ...\\textbackslash{}r'\n\\item 'Setting up libcairo2-dev:amd64 (1.15.10-2ubuntu0.1) ...\\textbackslash{}r'\n\\item 'Processing triggers for libc-bin (2.27-3ubuntu1.2) ...\\textbackslash{}r'\n\\item '/sbin/ldconfig.real: /usr/local/lib/python3.7/dist-packages/ideep4py/lib/libmkldnn.so.0 is not a symbolic link\\textbackslash{}r'\n\\item '\\textbackslash{}r'\n\\end{enumerate*}\n",
            "text/markdown": "1. 'Reading package lists...'\n2. 'Building dependency tree...'\n3. 'Reading state information...'\n4. 'The following additional packages will be installed:'\n5. <span style=white-space:pre-wrap>'  libcairo-script-interpreter2 libpixman-1-dev libxcb-shm0-dev'</span>\n6. 'Suggested packages:'\n7. <span style=white-space:pre-wrap>'  libcairo2-doc'</span>\n8. 'The following NEW packages will be installed:'\n9. <span style=white-space:pre-wrap>'  libcairo-script-interpreter2 libcairo2-dev libpixman-1-dev libxcb-shm0-dev'</span>\n10. '0 upgraded, 4 newly installed, 0 to remove and 39 not upgraded.'\n11. 'Need to get 930 kB of archives.'\n12. 'After this operation, 3,986 kB of additional disk space will be used.'\n13. 'Get:1 http://archive.ubuntu.com/ubuntu bionic-updates/main amd64 libcairo-script-interpreter2 amd64 1.15.10-2ubuntu0.1 [53.5 kB]'\n14. 'Get:2 http://archive.ubuntu.com/ubuntu bionic/main amd64 libpixman-1-dev amd64 0.34.0-2 [244 kB]'\n15. 'Get:3 http://archive.ubuntu.com/ubuntu bionic-updates/main amd64 libxcb-shm0-dev amd64 1.13-2~ubuntu18.04 [6,684 B]'\n16. 'Get:4 http://archive.ubuntu.com/ubuntu bionic-updates/main amd64 libcairo2-dev amd64 1.15.10-2ubuntu0.1 [626 kB]'\n17. 'Fetched 930 kB in 0s (7,579 kB/s)'\n18. 'Selecting previously unselected package libcairo-script-interpreter2:amd64.\\r'\n19. '(Reading database ... \\r(Reading database ... 5%\\r(Reading database ... 10%\\r(Reading database ... 15%\\r(Reading database ... 20%\\r(Reading database ... 25%\\r(Reading database ... 30%\\r(Reading database ... 35%\\r(Reading database ... 40%\\r(Reading database ... 45%\\r(Reading database ... 50%\\r(Reading database ... 55%\\r(Reading database ... 60%\\r(Reading database ... 65%\\r(Reading database ... 70%\\r(Reading database ... 75%\\r(Reading database ... 80%\\r(Reading database ... 85%\\r(Reading database ... 90%\\r(Reading database ... 95%\\r(Reading database ... 100%\\r(Reading database ... 161087 files and directories currently installed.)\\r'\n20. 'Preparing to unpack .../libcairo-script-interpreter2_1.15.10-2ubuntu0.1_amd64.deb ...\\r'\n21. 'Unpacking libcairo-script-interpreter2:amd64 (1.15.10-2ubuntu0.1) ...\\r'\n22. 'Selecting previously unselected package libpixman-1-dev:amd64.\\r'\n23. 'Preparing to unpack .../libpixman-1-dev_0.34.0-2_amd64.deb ...\\r'\n24. 'Unpacking libpixman-1-dev:amd64 (0.34.0-2) ...\\r'\n25. 'Selecting previously unselected package libxcb-shm0-dev:amd64.\\r'\n26. 'Preparing to unpack .../libxcb-shm0-dev_1.13-2~ubuntu18.04_amd64.deb ...\\r'\n27. 'Unpacking libxcb-shm0-dev:amd64 (1.13-2~ubuntu18.04) ...\\r'\n28. 'Selecting previously unselected package libcairo2-dev:amd64.\\r'\n29. 'Preparing to unpack .../libcairo2-dev_1.15.10-2ubuntu0.1_amd64.deb ...\\r'\n30. 'Unpacking libcairo2-dev:amd64 (1.15.10-2ubuntu0.1) ...\\r'\n31. 'Setting up libcairo-script-interpreter2:amd64 (1.15.10-2ubuntu0.1) ...\\r'\n32. 'Setting up libxcb-shm0-dev:amd64 (1.13-2~ubuntu18.04) ...\\r'\n33. 'Setting up libpixman-1-dev:amd64 (0.34.0-2) ...\\r'\n34. 'Setting up libcairo2-dev:amd64 (1.15.10-2ubuntu0.1) ...\\r'\n35. 'Processing triggers for libc-bin (2.27-3ubuntu1.2) ...\\r'\n36. '/sbin/ldconfig.real: /usr/local/lib/python3.7/dist-packages/ideep4py/lib/libmkldnn.so.0 is not a symbolic link\\r'\n37. '\\r'\n\n\n",
            "text/html": [
              "<style>\n",
              ".list-inline {list-style: none; margin:0; padding: 0}\n",
              ".list-inline>li {display: inline-block}\n",
              ".list-inline>li:not(:last-child)::after {content: \"\\00b7\"; padding: 0 .5ex}\n",
              "</style>\n",
              "<ol class=list-inline><li>'Reading package lists...'</li><li>'Building dependency tree...'</li><li>'Reading state information...'</li><li>'The following additional packages will be installed:'</li><li><span style=white-space:pre-wrap>'  libcairo-script-interpreter2 libpixman-1-dev libxcb-shm0-dev'</span></li><li>'Suggested packages:'</li><li><span style=white-space:pre-wrap>'  libcairo2-doc'</span></li><li>'The following NEW packages will be installed:'</li><li><span style=white-space:pre-wrap>'  libcairo-script-interpreter2 libcairo2-dev libpixman-1-dev libxcb-shm0-dev'</span></li><li>'0 upgraded, 4 newly installed, 0 to remove and 39 not upgraded.'</li><li>'Need to get 930 kB of archives.'</li><li>'After this operation, 3,986 kB of additional disk space will be used.'</li><li>'Get:1 http://archive.ubuntu.com/ubuntu bionic-updates/main amd64 libcairo-script-interpreter2 amd64 1.15.10-2ubuntu0.1 [53.5 kB]'</li><li>'Get:2 http://archive.ubuntu.com/ubuntu bionic/main amd64 libpixman-1-dev amd64 0.34.0-2 [244 kB]'</li><li>'Get:3 http://archive.ubuntu.com/ubuntu bionic-updates/main amd64 libxcb-shm0-dev amd64 1.13-2~ubuntu18.04 [6,684 B]'</li><li>'Get:4 http://archive.ubuntu.com/ubuntu bionic-updates/main amd64 libcairo2-dev amd64 1.15.10-2ubuntu0.1 [626 kB]'</li><li>'Fetched 930 kB in 0s (7,579 kB/s)'</li><li>'Selecting previously unselected package libcairo-script-interpreter2:amd64.\\r'</li><li>'(Reading database ... \\r(Reading database ... 5%\\r(Reading database ... 10%\\r(Reading database ... 15%\\r(Reading database ... 20%\\r(Reading database ... 25%\\r(Reading database ... 30%\\r(Reading database ... 35%\\r(Reading database ... 40%\\r(Reading database ... 45%\\r(Reading database ... 50%\\r(Reading database ... 55%\\r(Reading database ... 60%\\r(Reading database ... 65%\\r(Reading database ... 70%\\r(Reading database ... 75%\\r(Reading database ... 80%\\r(Reading database ... 85%\\r(Reading database ... 90%\\r(Reading database ... 95%\\r(Reading database ... 100%\\r(Reading database ... 161087 files and directories currently installed.)\\r'</li><li>'Preparing to unpack .../libcairo-script-interpreter2_1.15.10-2ubuntu0.1_amd64.deb ...\\r'</li><li>'Unpacking libcairo-script-interpreter2:amd64 (1.15.10-2ubuntu0.1) ...\\r'</li><li>'Selecting previously unselected package libpixman-1-dev:amd64.\\r'</li><li>'Preparing to unpack .../libpixman-1-dev_0.34.0-2_amd64.deb ...\\r'</li><li>'Unpacking libpixman-1-dev:amd64 (0.34.0-2) ...\\r'</li><li>'Selecting previously unselected package libxcb-shm0-dev:amd64.\\r'</li><li>'Preparing to unpack .../libxcb-shm0-dev_1.13-2~ubuntu18.04_amd64.deb ...\\r'</li><li>'Unpacking libxcb-shm0-dev:amd64 (1.13-2~ubuntu18.04) ...\\r'</li><li>'Selecting previously unselected package libcairo2-dev:amd64.\\r'</li><li>'Preparing to unpack .../libcairo2-dev_1.15.10-2ubuntu0.1_amd64.deb ...\\r'</li><li>'Unpacking libcairo2-dev:amd64 (1.15.10-2ubuntu0.1) ...\\r'</li><li>'Setting up libcairo-script-interpreter2:amd64 (1.15.10-2ubuntu0.1) ...\\r'</li><li>'Setting up libxcb-shm0-dev:amd64 (1.13-2~ubuntu18.04) ...\\r'</li><li>'Setting up libpixman-1-dev:amd64 (0.34.0-2) ...\\r'</li><li>'Setting up libcairo2-dev:amd64 (1.15.10-2ubuntu0.1) ...\\r'</li><li>'Processing triggers for libc-bin (2.27-3ubuntu1.2) ...\\r'</li><li>'/sbin/ldconfig.real: /usr/local/lib/python3.7/dist-packages/ideep4py/lib/libmkldnn.so.0 is not a symbolic link\\r'</li><li>'\\r'</li></ol>\n"
            ]
          },
          "metadata": {
            "tags": []
          }
        }
      ]
    },
    {
      "cell_type": "markdown",
      "metadata": {
        "id": "wFuTF2MUEiAk"
      },
      "source": [
        "## Install R packages"
      ]
    },
    {
      "cell_type": "code",
      "metadata": {
        "colab": {
          "base_uri": "https://localhost:8080/"
        },
        "id": "0c02HPWEh2nU",
        "outputId": "b5c546a8-d700-46b8-9f8c-acc190683a18"
      },
      "source": [
        "install.packages('BiocManager')"
      ],
      "execution_count": null,
      "outputs": [
        {
          "output_type": "stream",
          "text": [
            "Installing package into ‘/usr/local/lib/R/site-library’\n",
            "(as ‘lib’ is unspecified)\n",
            "\n"
          ],
          "name": "stderr"
        }
      ]
    },
    {
      "cell_type": "code",
      "metadata": {
        "id": "8EZ8Zm7zagc0"
      },
      "source": [
        "required_packages <- c(\n",
        "  'devtools', 'BiocManager', \n",
        "  'circlize',\n",
        "  'GenomicRanges', 'rtracklayer', 'ggrepel'\n",
        "\n",
        ")"
      ],
      "execution_count": null,
      "outputs": []
    },
    {
      "cell_type": "code",
      "metadata": {
        "id": "icve41ciuJim",
        "colab": {
          "base_uri": "https://localhost:8080/"
        },
        "outputId": "a169c054-84f1-4c68-d0ca-3cdfd9d8655c"
      },
      "source": [
        "missing_packages <- required_packages[!required_packages %in% rownames(installed.packages())]\n",
        "if (length(missing_packages) > 0){\n",
        "    BiocManager::install(missing_packages)\n",
        "}"
      ],
      "execution_count": null,
      "outputs": [
        {
          "output_type": "stream",
          "text": [
            "'getOption(\"repos\")' replaces Bioconductor standard repositories, see\n",
            "'?repositories' for details\n",
            "\n",
            "replacement repositories:\n",
            "    CRAN: https://cran.rstudio.com\n",
            "\n",
            "\n",
            "Bioconductor version 3.13 (BiocManager 1.30.16), R 4.1.0 (2021-05-18)\n",
            "\n",
            "Installing package(s) 'BiocVersion', 'circlize', 'GenomicRanges',\n",
            "  'rtracklayer', 'ggrepel'\n",
            "\n",
            "also installing the dependencies ‘formatR’, ‘lambda.r’, ‘futile.options’, ‘matrixStats’, ‘futile.logger’, ‘snow’, ‘MatrixGenerics’, ‘Biobase’, ‘DelayedArray’, ‘GenomeInfoDbData’, ‘bitops’, ‘BiocParallel’, ‘Rhtslib’, ‘SummarizedExperiment’, ‘rjson’, ‘GlobalOptions’, ‘shape’, ‘BiocGenerics’, ‘S4Vectors’, ‘IRanges’, ‘GenomeInfoDb’, ‘XVector’, ‘XML’, ‘Biostrings’, ‘zlibbioc’, ‘RCurl’, ‘Rsamtools’, ‘GenomicAlignments’, ‘BiocIO’, ‘restfulr’\n",
            "\n",
            "\n",
            "Old packages: 'cli', 'gargle', 'googledrive', 'isoband', 'openssl', 'Rcpp',\n",
            "  'testthat'\n",
            "\n"
          ],
          "name": "stderr"
        }
      ]
    },
    {
      "cell_type": "code",
      "metadata": {
        "colab": {
          "base_uri": "https://localhost:8080/"
        },
        "id": "Tby3mjiy_3U-",
        "outputId": "f65ac945-8f13-4900-c2d1-e3190e1ad175"
      },
      "source": [
        "BiocManager::install('cowplot')\n",
        "library(cowplot)"
      ],
      "execution_count": null,
      "outputs": [
        {
          "output_type": "stream",
          "text": [
            "'getOption(\"repos\")' replaces Bioconductor standard repositories, see\n",
            "'?repositories' for details\n",
            "\n",
            "replacement repositories:\n",
            "    CRAN: https://cran.rstudio.com\n",
            "\n",
            "\n",
            "Bioconductor version 3.13 (BiocManager 1.30.16), R 4.1.0 (2021-05-18)\n",
            "\n",
            "Installing package(s) 'cowplot'\n",
            "\n",
            "Old packages: 'cli', 'gargle', 'googledrive', 'isoband', 'openssl', 'Rcpp',\n",
            "  'testthat'\n",
            "\n"
          ],
          "name": "stderr"
        }
      ]
    },
    {
      "cell_type": "code",
      "metadata": {
        "colab": {
          "base_uri": "https://localhost:8080/"
        },
        "id": "cO3HAyNUxjaW",
        "outputId": "0dff406d-20c1-4c3d-8890-9650abb41ce5"
      },
      "source": [
        "BiocManager::install('gridExtra')\n",
        "library(gridExtra)\n"
      ],
      "execution_count": null,
      "outputs": [
        {
          "output_type": "stream",
          "text": [
            "'getOption(\"repos\")' replaces Bioconductor standard repositories, see\n",
            "'?repositories' for details\n",
            "\n",
            "replacement repositories:\n",
            "    CRAN: https://cran.rstudio.com\n",
            "\n",
            "\n",
            "Bioconductor version 3.13 (BiocManager 1.30.16), R 4.1.0 (2021-05-18)\n",
            "\n",
            "Installing package(s) 'gridExtra'\n",
            "\n",
            "Old packages: 'cli', 'gargle', 'googledrive', 'isoband', 'openssl', 'Rcpp',\n",
            "  'testthat'\n",
            "\n",
            "\n",
            "Attaching package: ‘gridExtra’\n",
            "\n",
            "\n",
            "The following object is masked from ‘package:Biobase’:\n",
            "\n",
            "    combine\n",
            "\n",
            "\n",
            "The following object is masked from ‘package:dplyr’:\n",
            "\n",
            "    combine\n",
            "\n",
            "\n",
            "The following object is masked from ‘package:BiocGenerics’:\n",
            "\n",
            "    combine\n",
            "\n",
            "\n"
          ],
          "name": "stderr"
        }
      ]
    },
    {
      "cell_type": "markdown",
      "metadata": {
        "id": "-r47NH7jiD99"
      },
      "source": [
        "## Load R packages"
      ]
    },
    {
      "cell_type": "code",
      "metadata": {
        "id": "nQFQk04TzjFj",
        "colab": {
          "base_uri": "https://localhost:8080/"
        },
        "outputId": "6179e4ea-1143-49d7-b659-b24d24ebfa78"
      },
      "source": [
        "library(GenomicRanges)\n",
        "library(dplyr)\n",
        "library(SummarizedExperiment)\n",
        "library(ggplot2)\n",
        "library(circlize) # colorRamp2\n",
        "library(tidyr)\n",
        "library(ggrepel)"
      ],
      "execution_count": null,
      "outputs": [
        {
          "output_type": "stream",
          "text": [
            "Loading required package: stats4\n",
            "\n",
            "Loading required package: BiocGenerics\n",
            "\n",
            "Loading required package: parallel\n",
            "\n",
            "\n",
            "Attaching package: ‘BiocGenerics’\n",
            "\n",
            "\n",
            "The following objects are masked from ‘package:parallel’:\n",
            "\n",
            "    clusterApply, clusterApplyLB, clusterCall, clusterEvalQ,\n",
            "    clusterExport, clusterMap, parApply, parCapply, parLapply,\n",
            "    parLapplyLB, parRapply, parSapply, parSapplyLB\n",
            "\n",
            "\n",
            "The following objects are masked from ‘package:stats’:\n",
            "\n",
            "    IQR, mad, sd, var, xtabs\n",
            "\n",
            "\n",
            "The following objects are masked from ‘package:base’:\n",
            "\n",
            "    anyDuplicated, append, as.data.frame, basename, cbind, colnames,\n",
            "    dirname, do.call, duplicated, eval, evalq, Filter, Find, get, grep,\n",
            "    grepl, intersect, is.unsorted, lapply, Map, mapply, match, mget,\n",
            "    order, paste, pmax, pmax.int, pmin, pmin.int, Position, rank,\n",
            "    rbind, Reduce, rownames, sapply, setdiff, sort, table, tapply,\n",
            "    union, unique, unsplit, which.max, which.min\n",
            "\n",
            "\n",
            "Loading required package: S4Vectors\n",
            "\n",
            "\n",
            "Attaching package: ‘S4Vectors’\n",
            "\n",
            "\n",
            "The following objects are masked from ‘package:base’:\n",
            "\n",
            "    expand.grid, I, unname\n",
            "\n",
            "\n",
            "Loading required package: IRanges\n",
            "\n",
            "Loading required package: GenomeInfoDb\n",
            "\n",
            "\n",
            "Attaching package: ‘dplyr’\n",
            "\n",
            "\n",
            "The following objects are masked from ‘package:GenomicRanges’:\n",
            "\n",
            "    intersect, setdiff, union\n",
            "\n",
            "\n",
            "The following object is masked from ‘package:GenomeInfoDb’:\n",
            "\n",
            "    intersect\n",
            "\n",
            "\n",
            "The following objects are masked from ‘package:IRanges’:\n",
            "\n",
            "    collapse, desc, intersect, setdiff, slice, union\n",
            "\n",
            "\n",
            "The following objects are masked from ‘package:S4Vectors’:\n",
            "\n",
            "    first, intersect, rename, setdiff, setequal, union\n",
            "\n",
            "\n",
            "The following objects are masked from ‘package:BiocGenerics’:\n",
            "\n",
            "    combine, intersect, setdiff, union\n",
            "\n",
            "\n",
            "The following objects are masked from ‘package:stats’:\n",
            "\n",
            "    filter, lag\n",
            "\n",
            "\n",
            "The following objects are masked from ‘package:base’:\n",
            "\n",
            "    intersect, setdiff, setequal, union\n",
            "\n",
            "\n",
            "Loading required package: MatrixGenerics\n",
            "\n",
            "Loading required package: matrixStats\n",
            "\n",
            "\n",
            "Attaching package: ‘matrixStats’\n",
            "\n",
            "\n",
            "The following object is masked from ‘package:dplyr’:\n",
            "\n",
            "    count\n",
            "\n",
            "\n",
            "\n",
            "Attaching package: ‘MatrixGenerics’\n",
            "\n",
            "\n",
            "The following objects are masked from ‘package:matrixStats’:\n",
            "\n",
            "    colAlls, colAnyNAs, colAnys, colAvgsPerRowSet, colCollapse,\n",
            "    colCounts, colCummaxs, colCummins, colCumprods, colCumsums,\n",
            "    colDiffs, colIQRDiffs, colIQRs, colLogSumExps, colMadDiffs,\n",
            "    colMads, colMaxs, colMeans2, colMedians, colMins, colOrderStats,\n",
            "    colProds, colQuantiles, colRanges, colRanks, colSdDiffs, colSds,\n",
            "    colSums2, colTabulates, colVarDiffs, colVars, colWeightedMads,\n",
            "    colWeightedMeans, colWeightedMedians, colWeightedSds,\n",
            "    colWeightedVars, rowAlls, rowAnyNAs, rowAnys, rowAvgsPerColSet,\n",
            "    rowCollapse, rowCounts, rowCummaxs, rowCummins, rowCumprods,\n",
            "    rowCumsums, rowDiffs, rowIQRDiffs, rowIQRs, rowLogSumExps,\n",
            "    rowMadDiffs, rowMads, rowMaxs, rowMeans2, rowMedians, rowMins,\n",
            "    rowOrderStats, rowProds, rowQuantiles, rowRanges, rowRanks,\n",
            "    rowSdDiffs, rowSds, rowSums2, rowTabulates, rowVarDiffs, rowVars,\n",
            "    rowWeightedMads, rowWeightedMeans, rowWeightedMedians,\n",
            "    rowWeightedSds, rowWeightedVars\n",
            "\n",
            "\n",
            "Loading required package: Biobase\n",
            "\n",
            "Welcome to Bioconductor\n",
            "\n",
            "    Vignettes contain introductory material; view with\n",
            "    'browseVignettes()'. To cite Bioconductor, see\n",
            "    'citation(\"Biobase\")', and for packages 'citation(\"pkgname\")'.\n",
            "\n",
            "\n",
            "\n",
            "Attaching package: ‘Biobase’\n",
            "\n",
            "\n",
            "The following object is masked from ‘package:MatrixGenerics’:\n",
            "\n",
            "    rowMedians\n",
            "\n",
            "\n",
            "The following objects are masked from ‘package:matrixStats’:\n",
            "\n",
            "    anyMissing, rowMedians\n",
            "\n",
            "\n",
            "========================================\n",
            "circlize version 0.4.13\n",
            "CRAN page: https://cran.r-project.org/package=circlize\n",
            "Github page: https://github.com/jokergoo/circlize\n",
            "Documentation: https://jokergoo.github.io/circlize_book/book/\n",
            "\n",
            "If you use it in published research, please cite:\n",
            "Gu, Z. circlize implements and enhances circular visualization\n",
            "  in R. Bioinformatics 2014.\n",
            "\n",
            "This message can be suppressed by:\n",
            "  suppressPackageStartupMessages(library(circlize))\n",
            "========================================\n",
            "\n",
            "\n",
            "\n",
            "Attaching package: ‘tidyr’\n",
            "\n",
            "\n",
            "The following object is masked from ‘package:S4Vectors’:\n",
            "\n",
            "    expand\n",
            "\n",
            "\n"
          ],
          "name": "stderr"
        }
      ]
    },
    {
      "cell_type": "markdown",
      "metadata": {
        "id": "Dw40RM99Gsfh"
      },
      "source": [
        "# Sample level summit files "
      ]
    },
    {
      "cell_type": "code",
      "metadata": {
        "id": "GwcEvCgt2fy9"
      },
      "source": [
        "bed <- c(\n",
        "  'MEF_Dox_d1_Etv2' = 'https://s3.msi.umn.edu/gongx030/datasets/dataset=Etv2PioneerChIPseq_version=20191203a/MEF_Dox_d1_Etv2_summits.bed',\n",
        "  'MEF_Dox_d2_Etv2' = 'https://s3.msi.umn.edu/gongx030/datasets/dataset=Etv2PioneerChIPseq_version=20191203a/MEF_Dox_d2_Etv2_summits.bed',\n",
        "  'MEF_Dox_d7_Etv2' = 'https://s3.msi.umn.edu/gongx030/datasets/dataset=Etv2PioneerChIPseq_version=20191203a/MEF_Dox_d7_Etv2_summits.bed',\n",
        "  'IP_Neurog2_0.5DPT' = 'https://s3.msi.umn.edu/dsouz072/datasets/dataset=smith_version=20210608a/IP_NEUROG2_N_0.5DPT_peaks.narrowPeak',\n",
        "  'IP_Neurog2_1DPT' = 'https://s3.msi.umn.edu/dsouz072/datasets/dataset=smith_version=20210608a/IP_NEUROG2_N_1DPT_peaks.narrowPeak',\n",
        "  'IP_Neurog2_2DPT' = 'https://s3.msi.umn.edu/dsouz072/datasets/dataset=smith_version=20210608a/IP_NEUROG2_N_2DPT_peaks.narrowPeak'\n",
        ")"
      ],
      "execution_count": null,
      "outputs": []
    },
    {
      "cell_type": "code",
      "metadata": {
        "id": "OuR2fVn92id1"
      },
      "source": [
        "gr_summit <- lapply(1:length(bed), function(i){\n",
        "  x <- read.table(bed[i], header = FALSE, sep = '\\t')\n",
        "  gr <- GRanges(seqnames = x[, 1], range = IRanges(x[, 2], x[, 3]), peak_id = x[, 4], score = x[, 5])\n",
        "  gr$source <- names(bed)[i]\n",
        "  gr\n",
        "})"
      ],
      "execution_count": null,
      "outputs": []
    },
    {
      "cell_type": "code",
      "metadata": {
        "id": "TtXjbE9n2qM9"
      },
      "source": [
        "names(gr_summit) <- names(bed)"
      ],
      "execution_count": null,
      "outputs": []
    },
    {
      "cell_type": "markdown",
      "metadata": {
        "id": "-XnPHylsJDpw"
      },
      "source": [
        "# Etv2 Replicate level narrowpeak files\n"
      ]
    },
    {
      "cell_type": "code",
      "metadata": {
        "id": "TWUwnMRt4u2B"
      },
      "source": [
        "bed_files <- c('MEF_Dox_d1_Etv2_S5' = 'https://s3.msi.umn.edu/dsouz072/datasets/dataset=Etv2_PioneerFactor_Manuscript_version=20200714b/DoxD1Etv2lib-1_S5.dedup_peaks.narrowPeak',\n",
        "\t            'MEF_Dox_d1_Etv2_S6' = 'https://s3.msi.umn.edu/dsouz072/datasets/dataset=Etv2_PioneerFactor_Manuscript_version=20200714b/DoxD1Etv2lib-2_S6.dedup_peaks.narrowPeak',\n",
        "              'MEF_Dox_d2_Etv2_S7' = 'https://s3.msi.umn.edu/dsouz072/datasets/dataset=Etv2_PioneerFactor_Manuscript_version=20200714b/DoxD2Etv2lib-1_S7.dedup_peaks.narrowPeak',\n",
        "              'MEF_Dox_d2_Etv2_S8' = 'https://s3.msi.umn.edu/dsouz072/datasets/dataset=Etv2_PioneerFactor_Manuscript_version=20200714b/DoxD2Etv2lib-2_S8.dedup_peaks.narrowPeak',\n",
        "              'MEF_Dox_d7_Etv2_S7' = 'https://s3.msi.umn.edu/dsouz072/datasets/dataset=Etv2_PioneerFactor_Manuscript_version=20200714b/DoxD7Etv2lib-1_S7.dedup_peaks.narrowPeak',\n",
        "              'MEF_Dox_d7_Etv2_S8' = 'https://s3.msi.umn.edu/dsouz072/datasets/dataset=Etv2_PioneerFactor_Manuscript_version=20200714b/DoxD7Etv2lib-2_S8.dedup_peaks.narrowPeak',\n",
        "              'IP1_Neurog2_0.5DPT' = 'https://s3.msi.umn.edu/dsouz072/datasets/dataset=smith_version=20210608a/IP1_NEUROG2_N_0.5DPT_peaks.narrowPeak',\n",
        "              'IP2_Neurog2_0.5DPT' = 'https://s3.msi.umn.edu/dsouz072/datasets/dataset=smith_version=20210608a/IP2_NEUROG2_N_0.5DPT_peaks.narrowPeak',\n",
        "              'IP1_Neurog2_1DPT' = 'https://s3.msi.umn.edu/dsouz072/datasets/dataset=smith_version=20210608a/IP1_NEUROG2_N_1DPT_peaks.narrowPeak',\n",
        "              'IP2_Neurog2_1DPT' = 'https://s3.msi.umn.edu/dsouz072/datasets/dataset=smith_version=20210608a/IP2_NEUROG2_N_1DPT_peaks.narrowPeak',\n",
        "              'IP1_Neurog2_2DPT' = 'https://s3.msi.umn.edu/dsouz072/datasets/dataset=smith_version=20210608a/IP1_NEUROG2_N_2DPT_peaks.narrowPeak',\n",
        "              'IP2_Neurog2_2DPT' = 'https://s3.msi.umn.edu/dsouz072/datasets/dataset=smith_version=20210608a/IP2_NEUROG2_N_2DPT_peaks.narrowPeak'\n",
        ")"
      ],
      "execution_count": null,
      "outputs": []
    },
    {
      "cell_type": "code",
      "metadata": {
        "colab": {
          "base_uri": "https://localhost:8080/"
        },
        "id": "e_rd7H5i1chz",
        "outputId": "fa017fb6-36b0-47c1-d6d1-18b5c8fe0a3f"
      },
      "source": [
        "for (i in 1:length(bed_files)){\n",
        "  sprintf('wget -x -c -nH %s', bed_files[i]) %>% system()\n",
        "}\n",
        "bed_files <- gsub('https://s3.msi.umn.edu/', './', bed_files)\n",
        "message(sprintf('all bed_files exist: %s', all(file.exists(bed_files))))"
      ],
      "execution_count": null,
      "outputs": [
        {
          "output_type": "stream",
          "text": [
            "all bed_files exist: TRUE\n",
            "\n"
          ],
          "name": "stderr"
        }
      ]
    },
    {
      "cell_type": "markdown",
      "metadata": {
        "id": "wEe0QJj9yFrJ"
      },
      "source": [
        "# Read and name the columns of the narrow peaks file obtained from MACS2 called using p of 0.001"
      ]
    },
    {
      "cell_type": "code",
      "metadata": {
        "id": "zF-Q5kQS1iRo"
      },
      "source": [
        "tab <- lapply(1:length(bed_files), function(i){\n",
        "  x <- read.table(bed_files[i], header = FALSE, sep = '\\t')})\n",
        "  names(tab) <- names(bed_files)"
      ],
      "execution_count": null,
      "outputs": []
    },
    {
      "cell_type": "code",
      "metadata": {
        "id": "S3h1MgKa1uPQ"
      },
      "source": [
        "for (i in 1:length(tab)){\n",
        "  colnames(tab[[i]]) <- c('chr', 'start', 'end', 'name', 'score', 'strand', 'signalValue', 'neglog10_pval', 'neglog10_qval', 'peak')\n",
        "}"
      ],
      "execution_count": null,
      "outputs": []
    },
    {
      "cell_type": "code",
      "metadata": {
        "colab": {
          "base_uri": "https://localhost:8080/",
          "height": 462
        },
        "id": "J-c8Pq0257KZ",
        "outputId": "d9b56a19-4089-4c94-8e9a-d1cabc131ac0"
      },
      "source": [
        "lapply(tab, function(t){range(t$score)})"
      ],
      "execution_count": null,
      "outputs": [
        {
          "output_type": "display_data",
          "data": {
            "text/plain": [
              "$MEF_Dox_d1_Etv2_S5\n",
              "[1]   30 5821\n",
              "\n",
              "$MEF_Dox_d1_Etv2_S6\n",
              "[1]   30 5875\n",
              "\n",
              "$MEF_Dox_d2_Etv2_S7\n",
              "[1]   30 7458\n",
              "\n",
              "$MEF_Dox_d2_Etv2_S8\n",
              "[1]   30 9027\n",
              "\n",
              "$MEF_Dox_d7_Etv2_S7\n",
              "[1]   30 6757\n",
              "\n",
              "$MEF_Dox_d7_Etv2_S8\n",
              "[1]   30 1015\n",
              "\n",
              "$IP1_Neurog2_0.5DPT\n",
              "[1]   20 1240\n",
              "\n",
              "$IP2_Neurog2_0.5DPT\n",
              "[1]   20 1129\n",
              "\n",
              "$IP1_Neurog2_1DPT\n",
              "[1]   20 2208\n",
              "\n",
              "$IP2_Neurog2_1DPT\n",
              "[1]   20 2094\n",
              "\n",
              "$IP1_Neurog2_2DPT\n",
              "[1]   20 1459\n",
              "\n",
              "$IP2_Neurog2_2DPT\n",
              "[1]   20 1820\n"
            ],
            "text/latex": "\\begin{description}\n\\item[\\$MEF\\_Dox\\_d1\\_Etv2\\_S5] \\begin{enumerate*}\n\\item 30\n\\item 5821\n\\end{enumerate*}\n\n\\item[\\$MEF\\_Dox\\_d1\\_Etv2\\_S6] \\begin{enumerate*}\n\\item 30\n\\item 5875\n\\end{enumerate*}\n\n\\item[\\$MEF\\_Dox\\_d2\\_Etv2\\_S7] \\begin{enumerate*}\n\\item 30\n\\item 7458\n\\end{enumerate*}\n\n\\item[\\$MEF\\_Dox\\_d2\\_Etv2\\_S8] \\begin{enumerate*}\n\\item 30\n\\item 9027\n\\end{enumerate*}\n\n\\item[\\$MEF\\_Dox\\_d7\\_Etv2\\_S7] \\begin{enumerate*}\n\\item 30\n\\item 6757\n\\end{enumerate*}\n\n\\item[\\$MEF\\_Dox\\_d7\\_Etv2\\_S8] \\begin{enumerate*}\n\\item 30\n\\item 1015\n\\end{enumerate*}\n\n\\item[\\$IP1\\_Neurog2\\_0.5DPT] \\begin{enumerate*}\n\\item 20\n\\item 1240\n\\end{enumerate*}\n\n\\item[\\$IP2\\_Neurog2\\_0.5DPT] \\begin{enumerate*}\n\\item 20\n\\item 1129\n\\end{enumerate*}\n\n\\item[\\$IP1\\_Neurog2\\_1DPT] \\begin{enumerate*}\n\\item 20\n\\item 2208\n\\end{enumerate*}\n\n\\item[\\$IP2\\_Neurog2\\_1DPT] \\begin{enumerate*}\n\\item 20\n\\item 2094\n\\end{enumerate*}\n\n\\item[\\$IP1\\_Neurog2\\_2DPT] \\begin{enumerate*}\n\\item 20\n\\item 1459\n\\end{enumerate*}\n\n\\item[\\$IP2\\_Neurog2\\_2DPT] \\begin{enumerate*}\n\\item 20\n\\item 1820\n\\end{enumerate*}\n\n\\end{description}\n",
            "text/markdown": "$MEF_Dox_d1_Etv2_S5\n:   1. 30\n2. 5821\n\n\n\n$MEF_Dox_d1_Etv2_S6\n:   1. 30\n2. 5875\n\n\n\n$MEF_Dox_d2_Etv2_S7\n:   1. 30\n2. 7458\n\n\n\n$MEF_Dox_d2_Etv2_S8\n:   1. 30\n2. 9027\n\n\n\n$MEF_Dox_d7_Etv2_S7\n:   1. 30\n2. 6757\n\n\n\n$MEF_Dox_d7_Etv2_S8\n:   1. 30\n2. 1015\n\n\n\n$IP1_Neurog2_0.5DPT\n:   1. 20\n2. 1240\n\n\n\n$IP2_Neurog2_0.5DPT\n:   1. 20\n2. 1129\n\n\n\n$IP1_Neurog2_1DPT\n:   1. 20\n2. 2208\n\n\n\n$IP2_Neurog2_1DPT\n:   1. 20\n2. 2094\n\n\n\n$IP1_Neurog2_2DPT\n:   1. 20\n2. 1459\n\n\n\n$IP2_Neurog2_2DPT\n:   1. 20\n2. 1820\n\n\n\n\n\n",
            "text/html": [
              "<dl>\n",
              "\t<dt>$MEF_Dox_d1_Etv2_S5</dt>\n",
              "\t\t<dd><style>\n",
              ".list-inline {list-style: none; margin:0; padding: 0}\n",
              ".list-inline>li {display: inline-block}\n",
              ".list-inline>li:not(:last-child)::after {content: \"\\00b7\"; padding: 0 .5ex}\n",
              "</style>\n",
              "<ol class=list-inline><li>30</li><li>5821</li></ol>\n",
              "</dd>\n",
              "\t<dt>$MEF_Dox_d1_Etv2_S6</dt>\n",
              "\t\t<dd><style>\n",
              ".list-inline {list-style: none; margin:0; padding: 0}\n",
              ".list-inline>li {display: inline-block}\n",
              ".list-inline>li:not(:last-child)::after {content: \"\\00b7\"; padding: 0 .5ex}\n",
              "</style>\n",
              "<ol class=list-inline><li>30</li><li>5875</li></ol>\n",
              "</dd>\n",
              "\t<dt>$MEF_Dox_d2_Etv2_S7</dt>\n",
              "\t\t<dd><style>\n",
              ".list-inline {list-style: none; margin:0; padding: 0}\n",
              ".list-inline>li {display: inline-block}\n",
              ".list-inline>li:not(:last-child)::after {content: \"\\00b7\"; padding: 0 .5ex}\n",
              "</style>\n",
              "<ol class=list-inline><li>30</li><li>7458</li></ol>\n",
              "</dd>\n",
              "\t<dt>$MEF_Dox_d2_Etv2_S8</dt>\n",
              "\t\t<dd><style>\n",
              ".list-inline {list-style: none; margin:0; padding: 0}\n",
              ".list-inline>li {display: inline-block}\n",
              ".list-inline>li:not(:last-child)::after {content: \"\\00b7\"; padding: 0 .5ex}\n",
              "</style>\n",
              "<ol class=list-inline><li>30</li><li>9027</li></ol>\n",
              "</dd>\n",
              "\t<dt>$MEF_Dox_d7_Etv2_S7</dt>\n",
              "\t\t<dd><style>\n",
              ".list-inline {list-style: none; margin:0; padding: 0}\n",
              ".list-inline>li {display: inline-block}\n",
              ".list-inline>li:not(:last-child)::after {content: \"\\00b7\"; padding: 0 .5ex}\n",
              "</style>\n",
              "<ol class=list-inline><li>30</li><li>6757</li></ol>\n",
              "</dd>\n",
              "\t<dt>$MEF_Dox_d7_Etv2_S8</dt>\n",
              "\t\t<dd><style>\n",
              ".list-inline {list-style: none; margin:0; padding: 0}\n",
              ".list-inline>li {display: inline-block}\n",
              ".list-inline>li:not(:last-child)::after {content: \"\\00b7\"; padding: 0 .5ex}\n",
              "</style>\n",
              "<ol class=list-inline><li>30</li><li>1015</li></ol>\n",
              "</dd>\n",
              "\t<dt>$IP1_Neurog2_0.5DPT</dt>\n",
              "\t\t<dd><style>\n",
              ".list-inline {list-style: none; margin:0; padding: 0}\n",
              ".list-inline>li {display: inline-block}\n",
              ".list-inline>li:not(:last-child)::after {content: \"\\00b7\"; padding: 0 .5ex}\n",
              "</style>\n",
              "<ol class=list-inline><li>20</li><li>1240</li></ol>\n",
              "</dd>\n",
              "\t<dt>$IP2_Neurog2_0.5DPT</dt>\n",
              "\t\t<dd><style>\n",
              ".list-inline {list-style: none; margin:0; padding: 0}\n",
              ".list-inline>li {display: inline-block}\n",
              ".list-inline>li:not(:last-child)::after {content: \"\\00b7\"; padding: 0 .5ex}\n",
              "</style>\n",
              "<ol class=list-inline><li>20</li><li>1129</li></ol>\n",
              "</dd>\n",
              "\t<dt>$IP1_Neurog2_1DPT</dt>\n",
              "\t\t<dd><style>\n",
              ".list-inline {list-style: none; margin:0; padding: 0}\n",
              ".list-inline>li {display: inline-block}\n",
              ".list-inline>li:not(:last-child)::after {content: \"\\00b7\"; padding: 0 .5ex}\n",
              "</style>\n",
              "<ol class=list-inline><li>20</li><li>2208</li></ol>\n",
              "</dd>\n",
              "\t<dt>$IP2_Neurog2_1DPT</dt>\n",
              "\t\t<dd><style>\n",
              ".list-inline {list-style: none; margin:0; padding: 0}\n",
              ".list-inline>li {display: inline-block}\n",
              ".list-inline>li:not(:last-child)::after {content: \"\\00b7\"; padding: 0 .5ex}\n",
              "</style>\n",
              "<ol class=list-inline><li>20</li><li>2094</li></ol>\n",
              "</dd>\n",
              "\t<dt>$IP1_Neurog2_2DPT</dt>\n",
              "\t\t<dd><style>\n",
              ".list-inline {list-style: none; margin:0; padding: 0}\n",
              ".list-inline>li {display: inline-block}\n",
              ".list-inline>li:not(:last-child)::after {content: \"\\00b7\"; padding: 0 .5ex}\n",
              "</style>\n",
              "<ol class=list-inline><li>20</li><li>1459</li></ol>\n",
              "</dd>\n",
              "\t<dt>$IP2_Neurog2_2DPT</dt>\n",
              "\t\t<dd><style>\n",
              ".list-inline {list-style: none; margin:0; padding: 0}\n",
              ".list-inline>li {display: inline-block}\n",
              ".list-inline>li:not(:last-child)::after {content: \"\\00b7\"; padding: 0 .5ex}\n",
              "</style>\n",
              "<ol class=list-inline><li>20</li><li>1820</li></ol>\n",
              "</dd>\n",
              "</dl>\n"
            ]
          },
          "metadata": {
            "tags": []
          }
        }
      ]
    },
    {
      "cell_type": "code",
      "metadata": {
        "colab": {
          "base_uri": "https://localhost:8080/",
          "height": 462
        },
        "id": "95yatKxs6IWo",
        "outputId": "49126943-1f5b-4a8c-e5c9-2136acacf460"
      },
      "source": [
        "lapply(tab, function(t){range(t$signalValue)})"
      ],
      "execution_count": null,
      "outputs": [
        {
          "output_type": "display_data",
          "data": {
            "text/plain": [
              "$MEF_Dox_d1_Etv2_S5\n",
              "[1]   1.43757 120.01800\n",
              "\n",
              "$MEF_Dox_d1_Etv2_S6\n",
              "[1]   2.0133 128.2860\n",
              "\n",
              "$MEF_Dox_d2_Etv2_S7\n",
              "[1]   1.90575 221.41600\n",
              "\n",
              "$MEF_Dox_d2_Etv2_S8\n",
              "[1]   1.78392 256.88000\n",
              "\n",
              "$MEF_Dox_d7_Etv2_S7\n",
              "[1]   2.2879 180.1280\n",
              "\n",
              "$MEF_Dox_d7_Etv2_S8\n",
              "[1]  2.40115 31.27190\n",
              "\n",
              "$IP1_Neurog2_0.5DPT\n",
              "[1]  1.20032 22.75170\n",
              "\n",
              "$IP2_Neurog2_0.5DPT\n",
              "[1]  1.17967 21.60200\n",
              "\n",
              "$IP1_Neurog2_1DPT\n",
              "[1]  1.14616 31.86680\n",
              "\n",
              "$IP2_Neurog2_1DPT\n",
              "[1]  1.15404 31.62480\n",
              "\n",
              "$IP1_Neurog2_2DPT\n",
              "[1]  1.1424 23.5078\n",
              "\n",
              "$IP2_Neurog2_2DPT\n",
              "[1]  1.14221 27.67190\n"
            ],
            "text/latex": "\\begin{description}\n\\item[\\$MEF\\_Dox\\_d1\\_Etv2\\_S5] \\begin{enumerate*}\n\\item 1.43757\n\\item 120.018\n\\end{enumerate*}\n\n\\item[\\$MEF\\_Dox\\_d1\\_Etv2\\_S6] \\begin{enumerate*}\n\\item 2.0133\n\\item 128.286\n\\end{enumerate*}\n\n\\item[\\$MEF\\_Dox\\_d2\\_Etv2\\_S7] \\begin{enumerate*}\n\\item 1.90575\n\\item 221.416\n\\end{enumerate*}\n\n\\item[\\$MEF\\_Dox\\_d2\\_Etv2\\_S8] \\begin{enumerate*}\n\\item 1.78392\n\\item 256.88\n\\end{enumerate*}\n\n\\item[\\$MEF\\_Dox\\_d7\\_Etv2\\_S7] \\begin{enumerate*}\n\\item 2.2879\n\\item 180.128\n\\end{enumerate*}\n\n\\item[\\$MEF\\_Dox\\_d7\\_Etv2\\_S8] \\begin{enumerate*}\n\\item 2.40115\n\\item 31.2719\n\\end{enumerate*}\n\n\\item[\\$IP1\\_Neurog2\\_0.5DPT] \\begin{enumerate*}\n\\item 1.20032\n\\item 22.7517\n\\end{enumerate*}\n\n\\item[\\$IP2\\_Neurog2\\_0.5DPT] \\begin{enumerate*}\n\\item 1.17967\n\\item 21.602\n\\end{enumerate*}\n\n\\item[\\$IP1\\_Neurog2\\_1DPT] \\begin{enumerate*}\n\\item 1.14616\n\\item 31.8668\n\\end{enumerate*}\n\n\\item[\\$IP2\\_Neurog2\\_1DPT] \\begin{enumerate*}\n\\item 1.15404\n\\item 31.6248\n\\end{enumerate*}\n\n\\item[\\$IP1\\_Neurog2\\_2DPT] \\begin{enumerate*}\n\\item 1.1424\n\\item 23.5078\n\\end{enumerate*}\n\n\\item[\\$IP2\\_Neurog2\\_2DPT] \\begin{enumerate*}\n\\item 1.14221\n\\item 27.6719\n\\end{enumerate*}\n\n\\end{description}\n",
            "text/markdown": "$MEF_Dox_d1_Etv2_S5\n:   1. 1.43757\n2. 120.018\n\n\n\n$MEF_Dox_d1_Etv2_S6\n:   1. 2.0133\n2. 128.286\n\n\n\n$MEF_Dox_d2_Etv2_S7\n:   1. 1.90575\n2. 221.416\n\n\n\n$MEF_Dox_d2_Etv2_S8\n:   1. 1.78392\n2. 256.88\n\n\n\n$MEF_Dox_d7_Etv2_S7\n:   1. 2.2879\n2. 180.128\n\n\n\n$MEF_Dox_d7_Etv2_S8\n:   1. 2.40115\n2. 31.2719\n\n\n\n$IP1_Neurog2_0.5DPT\n:   1. 1.20032\n2. 22.7517\n\n\n\n$IP2_Neurog2_0.5DPT\n:   1. 1.17967\n2. 21.602\n\n\n\n$IP1_Neurog2_1DPT\n:   1. 1.14616\n2. 31.8668\n\n\n\n$IP2_Neurog2_1DPT\n:   1. 1.15404\n2. 31.6248\n\n\n\n$IP1_Neurog2_2DPT\n:   1. 1.1424\n2. 23.5078\n\n\n\n$IP2_Neurog2_2DPT\n:   1. 1.14221\n2. 27.6719\n\n\n\n\n\n",
            "text/html": [
              "<dl>\n",
              "\t<dt>$MEF_Dox_d1_Etv2_S5</dt>\n",
              "\t\t<dd><style>\n",
              ".list-inline {list-style: none; margin:0; padding: 0}\n",
              ".list-inline>li {display: inline-block}\n",
              ".list-inline>li:not(:last-child)::after {content: \"\\00b7\"; padding: 0 .5ex}\n",
              "</style>\n",
              "<ol class=list-inline><li>1.43757</li><li>120.018</li></ol>\n",
              "</dd>\n",
              "\t<dt>$MEF_Dox_d1_Etv2_S6</dt>\n",
              "\t\t<dd><style>\n",
              ".list-inline {list-style: none; margin:0; padding: 0}\n",
              ".list-inline>li {display: inline-block}\n",
              ".list-inline>li:not(:last-child)::after {content: \"\\00b7\"; padding: 0 .5ex}\n",
              "</style>\n",
              "<ol class=list-inline><li>2.0133</li><li>128.286</li></ol>\n",
              "</dd>\n",
              "\t<dt>$MEF_Dox_d2_Etv2_S7</dt>\n",
              "\t\t<dd><style>\n",
              ".list-inline {list-style: none; margin:0; padding: 0}\n",
              ".list-inline>li {display: inline-block}\n",
              ".list-inline>li:not(:last-child)::after {content: \"\\00b7\"; padding: 0 .5ex}\n",
              "</style>\n",
              "<ol class=list-inline><li>1.90575</li><li>221.416</li></ol>\n",
              "</dd>\n",
              "\t<dt>$MEF_Dox_d2_Etv2_S8</dt>\n",
              "\t\t<dd><style>\n",
              ".list-inline {list-style: none; margin:0; padding: 0}\n",
              ".list-inline>li {display: inline-block}\n",
              ".list-inline>li:not(:last-child)::after {content: \"\\00b7\"; padding: 0 .5ex}\n",
              "</style>\n",
              "<ol class=list-inline><li>1.78392</li><li>256.88</li></ol>\n",
              "</dd>\n",
              "\t<dt>$MEF_Dox_d7_Etv2_S7</dt>\n",
              "\t\t<dd><style>\n",
              ".list-inline {list-style: none; margin:0; padding: 0}\n",
              ".list-inline>li {display: inline-block}\n",
              ".list-inline>li:not(:last-child)::after {content: \"\\00b7\"; padding: 0 .5ex}\n",
              "</style>\n",
              "<ol class=list-inline><li>2.2879</li><li>180.128</li></ol>\n",
              "</dd>\n",
              "\t<dt>$MEF_Dox_d7_Etv2_S8</dt>\n",
              "\t\t<dd><style>\n",
              ".list-inline {list-style: none; margin:0; padding: 0}\n",
              ".list-inline>li {display: inline-block}\n",
              ".list-inline>li:not(:last-child)::after {content: \"\\00b7\"; padding: 0 .5ex}\n",
              "</style>\n",
              "<ol class=list-inline><li>2.40115</li><li>31.2719</li></ol>\n",
              "</dd>\n",
              "\t<dt>$IP1_Neurog2_0.5DPT</dt>\n",
              "\t\t<dd><style>\n",
              ".list-inline {list-style: none; margin:0; padding: 0}\n",
              ".list-inline>li {display: inline-block}\n",
              ".list-inline>li:not(:last-child)::after {content: \"\\00b7\"; padding: 0 .5ex}\n",
              "</style>\n",
              "<ol class=list-inline><li>1.20032</li><li>22.7517</li></ol>\n",
              "</dd>\n",
              "\t<dt>$IP2_Neurog2_0.5DPT</dt>\n",
              "\t\t<dd><style>\n",
              ".list-inline {list-style: none; margin:0; padding: 0}\n",
              ".list-inline>li {display: inline-block}\n",
              ".list-inline>li:not(:last-child)::after {content: \"\\00b7\"; padding: 0 .5ex}\n",
              "</style>\n",
              "<ol class=list-inline><li>1.17967</li><li>21.602</li></ol>\n",
              "</dd>\n",
              "\t<dt>$IP1_Neurog2_1DPT</dt>\n",
              "\t\t<dd><style>\n",
              ".list-inline {list-style: none; margin:0; padding: 0}\n",
              ".list-inline>li {display: inline-block}\n",
              ".list-inline>li:not(:last-child)::after {content: \"\\00b7\"; padding: 0 .5ex}\n",
              "</style>\n",
              "<ol class=list-inline><li>1.14616</li><li>31.8668</li></ol>\n",
              "</dd>\n",
              "\t<dt>$IP2_Neurog2_1DPT</dt>\n",
              "\t\t<dd><style>\n",
              ".list-inline {list-style: none; margin:0; padding: 0}\n",
              ".list-inline>li {display: inline-block}\n",
              ".list-inline>li:not(:last-child)::after {content: \"\\00b7\"; padding: 0 .5ex}\n",
              "</style>\n",
              "<ol class=list-inline><li>1.15404</li><li>31.6248</li></ol>\n",
              "</dd>\n",
              "\t<dt>$IP1_Neurog2_2DPT</dt>\n",
              "\t\t<dd><style>\n",
              ".list-inline {list-style: none; margin:0; padding: 0}\n",
              ".list-inline>li {display: inline-block}\n",
              ".list-inline>li:not(:last-child)::after {content: \"\\00b7\"; padding: 0 .5ex}\n",
              "</style>\n",
              "<ol class=list-inline><li>1.1424</li><li>23.5078</li></ol>\n",
              "</dd>\n",
              "\t<dt>$IP2_Neurog2_2DPT</dt>\n",
              "\t\t<dd><style>\n",
              ".list-inline {list-style: none; margin:0; padding: 0}\n",
              ".list-inline>li {display: inline-block}\n",
              ".list-inline>li:not(:last-child)::after {content: \"\\00b7\"; padding: 0 .5ex}\n",
              "</style>\n",
              "<ol class=list-inline><li>1.14221</li><li>27.6719</li></ol>\n",
              "</dd>\n",
              "</dl>\n"
            ]
          },
          "metadata": {
            "tags": []
          }
        }
      ]
    },
    {
      "cell_type": "markdown",
      "metadata": {
        "id": "ctfoyABGyU14"
      },
      "source": [
        "# Normalizing the Enrichment and Score column of the replicate level data using min-max normalization"
      ]
    },
    {
      "cell_type": "code",
      "metadata": {
        "id": "rWn8iL1a8T9y"
      },
      "source": [
        "for(i in 1:length(tab)){\n",
        "  tab[[i]]$norm_fe <- tab[[i]]$signalValue/sum(tab[[i]]$signalValue)\n",
        "  tab[[i]]$norm_score <- tab[[i]]$score/sum(tab[[i]]$score)\n",
        "}"
      ],
      "execution_count": null,
      "outputs": []
    },
    {
      "cell_type": "code",
      "metadata": {
        "id": "3QuLZFxJWPNN"
      },
      "source": [
        "for(i in 1:length(tab)){\n",
        "  tab[[i]]$norm_fe <- (tab[[i]]$signalValue - min(tab[[i]]$signalValue))/(max(tab[[i]]$signalValue) - min(tab[[i]]$signalValue))\n",
        "  tab[[i]]$norm_score <- (tab[[i]]$score - min(tab[[i]]$score))/(max(tab[[i]]$score) - min(tab[[i]]$score))\n",
        "}"
      ],
      "execution_count": null,
      "outputs": []
    },
    {
      "cell_type": "markdown",
      "metadata": {
        "id": "kAAdbfJkylMk"
      },
      "source": [
        "# Generating granges object from the narrowpeak files"
      ]
    },
    {
      "cell_type": "code",
      "metadata": {
        "id": "Nuxb57m310NA"
      },
      "source": [
        "gr_list <- lapply(tab, function(t){\n",
        "  gr <- GRanges(seqnames = t$chr, range = IRanges(t$start, t$end), peak_id = t$name, \n",
        "  fe = t$signalValue, pval = t$neglog10_pval, score = t$score, \n",
        "  qval = t$neglog10_qval, norm_fe = t$norm_fe, norm_score = t$norm_score)\n",
        "  gr\n",
        "  })"
      ],
      "execution_count": null,
      "outputs": []
    },
    {
      "cell_type": "markdown",
      "metadata": {
        "id": "hbX7Km2fy91d"
      },
      "source": [
        "# Subsetting and calculating the Granges to include ranges with normalized Score > 0.1 & normalized Enrichment > 0.01"
      ]
    },
    {
      "cell_type": "code",
      "metadata": {
        "id": "NamNRd5_4Ixs"
      },
      "source": [
        "subset_gr <- lapply(gr_list, function(g){\n",
        "  g[(elementMetadata(g)[, \"norm_score\"] > 0.1) &(elementMetadata(g)[, \"norm_fe\"] > 0.01),]\n",
        "})"
      ],
      "execution_count": null,
      "outputs": []
    },
    {
      "cell_type": "code",
      "metadata": {
        "colab": {
          "base_uri": "https://localhost:8080/",
          "height": 462
        },
        "id": "PgJf9Qpvwbgb",
        "outputId": "639da007-6bc5-49a2-b0ac-acecd1147c53"
      },
      "source": [
        "lapply(subset_gr, function(s){length(reduce(resize(s, width = 200, fix = 'center')))})"
      ],
      "execution_count": null,
      "outputs": [
        {
          "output_type": "display_data",
          "data": {
            "text/plain": [
              "$MEF_Dox_d1_Etv2_S5\n",
              "[1] 3061\n",
              "\n",
              "$MEF_Dox_d1_Etv2_S6\n",
              "[1] 1273\n",
              "\n",
              "$MEF_Dox_d2_Etv2_S7\n",
              "[1] 1224\n",
              "\n",
              "$MEF_Dox_d2_Etv2_S8\n",
              "[1] 1261\n",
              "\n",
              "$MEF_Dox_d7_Etv2_S7\n",
              "[1] 1126\n",
              "\n",
              "$MEF_Dox_d7_Etv2_S8\n",
              "[1] 2422\n",
              "\n",
              "$IP1_Neurog2_0.5DPT\n",
              "[1] 3988\n",
              "\n",
              "$IP2_Neurog2_0.5DPT\n",
              "[1] 4844\n",
              "\n",
              "$IP1_Neurog2_1DPT\n",
              "[1] 7260\n",
              "\n",
              "$IP2_Neurog2_1DPT\n",
              "[1] 6629\n",
              "\n",
              "$IP1_Neurog2_2DPT\n",
              "[1] 7775\n",
              "\n",
              "$IP2_Neurog2_2DPT\n",
              "[1] 8235\n"
            ],
            "text/latex": "\\begin{description}\n\\item[\\$MEF\\_Dox\\_d1\\_Etv2\\_S5] 3061\n\\item[\\$MEF\\_Dox\\_d1\\_Etv2\\_S6] 1273\n\\item[\\$MEF\\_Dox\\_d2\\_Etv2\\_S7] 1224\n\\item[\\$MEF\\_Dox\\_d2\\_Etv2\\_S8] 1261\n\\item[\\$MEF\\_Dox\\_d7\\_Etv2\\_S7] 1126\n\\item[\\$MEF\\_Dox\\_d7\\_Etv2\\_S8] 2422\n\\item[\\$IP1\\_Neurog2\\_0.5DPT] 3988\n\\item[\\$IP2\\_Neurog2\\_0.5DPT] 4844\n\\item[\\$IP1\\_Neurog2\\_1DPT] 7260\n\\item[\\$IP2\\_Neurog2\\_1DPT] 6629\n\\item[\\$IP1\\_Neurog2\\_2DPT] 7775\n\\item[\\$IP2\\_Neurog2\\_2DPT] 8235\n\\end{description}\n",
            "text/markdown": "$MEF_Dox_d1_Etv2_S5\n:   3061\n$MEF_Dox_d1_Etv2_S6\n:   1273\n$MEF_Dox_d2_Etv2_S7\n:   1224\n$MEF_Dox_d2_Etv2_S8\n:   1261\n$MEF_Dox_d7_Etv2_S7\n:   1126\n$MEF_Dox_d7_Etv2_S8\n:   2422\n$IP1_Neurog2_0.5DPT\n:   3988\n$IP2_Neurog2_0.5DPT\n:   4844\n$IP1_Neurog2_1DPT\n:   7260\n$IP2_Neurog2_1DPT\n:   6629\n$IP1_Neurog2_2DPT\n:   7775\n$IP2_Neurog2_2DPT\n:   8235\n\n\n",
            "text/html": [
              "<dl>\n",
              "\t<dt>$MEF_Dox_d1_Etv2_S5</dt>\n",
              "\t\t<dd>3061</dd>\n",
              "\t<dt>$MEF_Dox_d1_Etv2_S6</dt>\n",
              "\t\t<dd>1273</dd>\n",
              "\t<dt>$MEF_Dox_d2_Etv2_S7</dt>\n",
              "\t\t<dd>1224</dd>\n",
              "\t<dt>$MEF_Dox_d2_Etv2_S8</dt>\n",
              "\t\t<dd>1261</dd>\n",
              "\t<dt>$MEF_Dox_d7_Etv2_S7</dt>\n",
              "\t\t<dd>1126</dd>\n",
              "\t<dt>$MEF_Dox_d7_Etv2_S8</dt>\n",
              "\t\t<dd>2422</dd>\n",
              "\t<dt>$IP1_Neurog2_0.5DPT</dt>\n",
              "\t\t<dd>3988</dd>\n",
              "\t<dt>$IP2_Neurog2_0.5DPT</dt>\n",
              "\t\t<dd>4844</dd>\n",
              "\t<dt>$IP1_Neurog2_1DPT</dt>\n",
              "\t\t<dd>7260</dd>\n",
              "\t<dt>$IP2_Neurog2_1DPT</dt>\n",
              "\t\t<dd>6629</dd>\n",
              "\t<dt>$IP1_Neurog2_2DPT</dt>\n",
              "\t\t<dd>7775</dd>\n",
              "\t<dt>$IP2_Neurog2_2DPT</dt>\n",
              "\t\t<dd>8235</dd>\n",
              "</dl>\n"
            ]
          },
          "metadata": {
            "tags": []
          }
        }
      ]
    },
    {
      "cell_type": "code",
      "metadata": {
        "id": "EwD8uzd8ngmh"
      },
      "source": [
        "subset_gr_length <- lapply(gr_list, function(g){\n",
        "  length(g[(elementMetadata(g)[, \"norm_score\"] > 0.1) &(elementMetadata(g)[, \"norm_fe\"] > 0.01),])\n",
        "})"
      ],
      "execution_count": null,
      "outputs": []
    },
    {
      "cell_type": "code",
      "metadata": {
        "colab": {
          "base_uri": "https://localhost:8080/",
          "height": 462
        },
        "id": "Cw_sZlZNn7qB",
        "outputId": "0b3ab170-c3b1-426f-f67c-11a46bc551fc"
      },
      "source": [
        "subset_gr_length"
      ],
      "execution_count": null,
      "outputs": [
        {
          "output_type": "display_data",
          "data": {
            "text/plain": [
              "$MEF_Dox_d1_Etv2_S5\n",
              "[1] 3061\n",
              "\n",
              "$MEF_Dox_d1_Etv2_S6\n",
              "[1] 1273\n",
              "\n",
              "$MEF_Dox_d2_Etv2_S7\n",
              "[1] 1224\n",
              "\n",
              "$MEF_Dox_d2_Etv2_S8\n",
              "[1] 1261\n",
              "\n",
              "$MEF_Dox_d7_Etv2_S7\n",
              "[1] 1126\n",
              "\n",
              "$MEF_Dox_d7_Etv2_S8\n",
              "[1] 2422\n",
              "\n",
              "$IP1_Neurog2_0.5DPT\n",
              "[1] 3988\n",
              "\n",
              "$IP2_Neurog2_0.5DPT\n",
              "[1] 4844\n",
              "\n",
              "$IP1_Neurog2_1DPT\n",
              "[1] 7260\n",
              "\n",
              "$IP2_Neurog2_1DPT\n",
              "[1] 6629\n",
              "\n",
              "$IP1_Neurog2_2DPT\n",
              "[1] 7775\n",
              "\n",
              "$IP2_Neurog2_2DPT\n",
              "[1] 8235\n"
            ],
            "text/latex": "\\begin{description}\n\\item[\\$MEF\\_Dox\\_d1\\_Etv2\\_S5] 3061\n\\item[\\$MEF\\_Dox\\_d1\\_Etv2\\_S6] 1273\n\\item[\\$MEF\\_Dox\\_d2\\_Etv2\\_S7] 1224\n\\item[\\$MEF\\_Dox\\_d2\\_Etv2\\_S8] 1261\n\\item[\\$MEF\\_Dox\\_d7\\_Etv2\\_S7] 1126\n\\item[\\$MEF\\_Dox\\_d7\\_Etv2\\_S8] 2422\n\\item[\\$IP1\\_Neurog2\\_0.5DPT] 3988\n\\item[\\$IP2\\_Neurog2\\_0.5DPT] 4844\n\\item[\\$IP1\\_Neurog2\\_1DPT] 7260\n\\item[\\$IP2\\_Neurog2\\_1DPT] 6629\n\\item[\\$IP1\\_Neurog2\\_2DPT] 7775\n\\item[\\$IP2\\_Neurog2\\_2DPT] 8235\n\\end{description}\n",
            "text/markdown": "$MEF_Dox_d1_Etv2_S5\n:   3061\n$MEF_Dox_d1_Etv2_S6\n:   1273\n$MEF_Dox_d2_Etv2_S7\n:   1224\n$MEF_Dox_d2_Etv2_S8\n:   1261\n$MEF_Dox_d7_Etv2_S7\n:   1126\n$MEF_Dox_d7_Etv2_S8\n:   2422\n$IP1_Neurog2_0.5DPT\n:   3988\n$IP2_Neurog2_0.5DPT\n:   4844\n$IP1_Neurog2_1DPT\n:   7260\n$IP2_Neurog2_1DPT\n:   6629\n$IP1_Neurog2_2DPT\n:   7775\n$IP2_Neurog2_2DPT\n:   8235\n\n\n",
            "text/html": [
              "<dl>\n",
              "\t<dt>$MEF_Dox_d1_Etv2_S5</dt>\n",
              "\t\t<dd>3061</dd>\n",
              "\t<dt>$MEF_Dox_d1_Etv2_S6</dt>\n",
              "\t\t<dd>1273</dd>\n",
              "\t<dt>$MEF_Dox_d2_Etv2_S7</dt>\n",
              "\t\t<dd>1224</dd>\n",
              "\t<dt>$MEF_Dox_d2_Etv2_S8</dt>\n",
              "\t\t<dd>1261</dd>\n",
              "\t<dt>$MEF_Dox_d7_Etv2_S7</dt>\n",
              "\t\t<dd>1126</dd>\n",
              "\t<dt>$MEF_Dox_d7_Etv2_S8</dt>\n",
              "\t\t<dd>2422</dd>\n",
              "\t<dt>$IP1_Neurog2_0.5DPT</dt>\n",
              "\t\t<dd>3988</dd>\n",
              "\t<dt>$IP2_Neurog2_0.5DPT</dt>\n",
              "\t\t<dd>4844</dd>\n",
              "\t<dt>$IP1_Neurog2_1DPT</dt>\n",
              "\t\t<dd>7260</dd>\n",
              "\t<dt>$IP2_Neurog2_1DPT</dt>\n",
              "\t\t<dd>6629</dd>\n",
              "\t<dt>$IP1_Neurog2_2DPT</dt>\n",
              "\t\t<dd>7775</dd>\n",
              "\t<dt>$IP2_Neurog2_2DPT</dt>\n",
              "\t\t<dd>8235</dd>\n",
              "</dl>\n"
            ]
          },
          "metadata": {
            "tags": []
          }
        }
      ]
    },
    {
      "cell_type": "markdown",
      "metadata": {
        "id": "LWTvysRjzRzP"
      },
      "source": [
        "# Using the formula \n",
        "overlap_peaks(sample bed & replicate1) + overlap_peaks(sample bed & replicate2)/ peaks(replicate1) + peaks(replicate2)\n",
        "\n",
        "and width 200\n"
      ]
    },
    {
      "cell_type": "markdown",
      "metadata": {
        "id": "cmF2DVRuDcUY"
      },
      "source": [
        "# Etv2"
      ]
    },
    {
      "cell_type": "markdown",
      "metadata": {
        "id": "-R0qaDjo1DOQ"
      },
      "source": [
        "## D1"
      ]
    },
    {
      "cell_type": "code",
      "metadata": {
        "id": "tgwXmtJ3oj41"
      },
      "source": [
        "d1 <- lapply(subset_gr[c('MEF_Dox_d1_Etv2_S5','MEF_Dox_d1_Etv2_S6')], function(d1){\n",
        "  length(subsetByOverlaps(reduce(resize(d1, fix = 'center', width = 200)), reduce(resize(gr_summit$MEF_Dox_d1_Etv2, fix = 'center', width = 200))))\n",
        "})"
      ],
      "execution_count": null,
      "outputs": []
    },
    {
      "cell_type": "code",
      "metadata": {
        "colab": {
          "base_uri": "https://localhost:8080/",
          "height": 114
        },
        "id": "a7tsZGndrpbO",
        "outputId": "6f51b45d-566f-4886-84d4-6838b276ec27"
      },
      "source": [
        "d1"
      ],
      "execution_count": null,
      "outputs": [
        {
          "output_type": "display_data",
          "data": {
            "text/plain": [
              "$MEF_Dox_d1_Etv2_S5\n",
              "[1] 2671\n",
              "\n",
              "$MEF_Dox_d1_Etv2_S6\n",
              "[1] 1103\n"
            ],
            "text/latex": "\\begin{description}\n\\item[\\$MEF\\_Dox\\_d1\\_Etv2\\_S5] 2671\n\\item[\\$MEF\\_Dox\\_d1\\_Etv2\\_S6] 1103\n\\end{description}\n",
            "text/markdown": "$MEF_Dox_d1_Etv2_S5\n:   2671\n$MEF_Dox_d1_Etv2_S6\n:   1103\n\n\n",
            "text/html": [
              "<dl>\n",
              "\t<dt>$MEF_Dox_d1_Etv2_S5</dt>\n",
              "\t\t<dd>2671</dd>\n",
              "\t<dt>$MEF_Dox_d1_Etv2_S6</dt>\n",
              "\t\t<dd>1103</dd>\n",
              "</dl>\n"
            ]
          },
          "metadata": {
            "tags": []
          }
        }
      ]
    },
    {
      "cell_type": "markdown",
      "metadata": {
        "id": "XOgjIoec1FKf"
      },
      "source": [
        "## D7"
      ]
    },
    {
      "cell_type": "code",
      "metadata": {
        "id": "xQXQ26CTrbT0"
      },
      "source": [
        "d7 <- lapply(subset_gr[c('MEF_Dox_d7_Etv2_S7','MEF_Dox_d7_Etv2_S8')], function(d7){\n",
        "  length(subsetByOverlaps(reduce(resize(d7, fix = 'center', width = 200)), reduce(resize(gr_summit$MEF_Dox_d7_Etv2, fix = 'center', width = 200))))\n",
        "})"
      ],
      "execution_count": null,
      "outputs": []
    },
    {
      "cell_type": "code",
      "metadata": {
        "colab": {
          "base_uri": "https://localhost:8080/",
          "height": 114
        },
        "id": "O19CWR_FtfWX",
        "outputId": "6330bbcc-d716-46b1-fd17-87cf53dcdd23"
      },
      "source": [
        "d7"
      ],
      "execution_count": null,
      "outputs": [
        {
          "output_type": "display_data",
          "data": {
            "text/plain": [
              "$MEF_Dox_d7_Etv2_S7\n",
              "[1] 890\n",
              "\n",
              "$MEF_Dox_d7_Etv2_S8\n",
              "[1] 2419\n"
            ],
            "text/latex": "\\begin{description}\n\\item[\\$MEF\\_Dox\\_d7\\_Etv2\\_S7] 890\n\\item[\\$MEF\\_Dox\\_d7\\_Etv2\\_S8] 2419\n\\end{description}\n",
            "text/markdown": "$MEF_Dox_d7_Etv2_S7\n:   890\n$MEF_Dox_d7_Etv2_S8\n:   2419\n\n\n",
            "text/html": [
              "<dl>\n",
              "\t<dt>$MEF_Dox_d7_Etv2_S7</dt>\n",
              "\t\t<dd>890</dd>\n",
              "\t<dt>$MEF_Dox_d7_Etv2_S8</dt>\n",
              "\t\t<dd>2419</dd>\n",
              "</dl>\n"
            ]
          },
          "metadata": {
            "tags": []
          }
        }
      ]
    },
    {
      "cell_type": "markdown",
      "metadata": {
        "id": "1TD4avDJt9Gi"
      },
      "source": [
        "# Dataset of the percent overlap for D1 and D7 "
      ]
    },
    {
      "cell_type": "code",
      "metadata": {
        "id": "ZkadpjIRtiF_"
      },
      "source": [
        "overlap_dat <- data.frame(percent_overlap = c((d1$MEF_Dox_d1_Etv2_S5+d1$MEF_Dox_d1_Etv2_S6)*100/(subset_gr_length$MEF_Dox_d1_Etv2_S5+subset_gr_length$MEF_Dox_d1_Etv2_S6),\n",
        "(d7$MEF_Dox_d7_Etv2_S7+d7$MEF_Dox_d7_Etv2_S8)*100/(subset_gr_length$MEF_Dox_d7_Etv2_S7+subset_gr_length$MEF_Dox_d7_Etv2_S8)), time = c('d1','d7'))"
      ],
      "execution_count": null,
      "outputs": []
    },
    {
      "cell_type": "markdown",
      "metadata": {
        "id": "PETGVvys9tF6"
      },
      "source": [
        "We get a higher percent for D7 (87.08%) vs D1 (93.26%) subsetting data based on normalized Score and normalized Enrichment fro all 4 replicates and using a width of 200 to overlap with the sample level data."
      ]
    },
    {
      "cell_type": "markdown",
      "metadata": {
        "id": "4aKIvVHf_w6J"
      },
      "source": [
        "# Neurog2"
      ]
    },
    {
      "cell_type": "markdown",
      "metadata": {
        "id": "Q2YhHM1JAErh"
      },
      "source": [
        "# 0.5 DPT"
      ]
    },
    {
      "cell_type": "code",
      "metadata": {
        "colab": {
          "base_uri": "https://localhost:8080/",
          "height": 34
        },
        "id": "IMJd7ToG_2g3",
        "outputId": "b0ff1580-f854-482c-e825-802cfa5ee92a"
      },
      "source": [
        "names(subset_gr)"
      ],
      "execution_count": null,
      "outputs": [
        {
          "output_type": "display_data",
          "data": {
            "text/plain": [
              " [1] \"MEF_Dox_d1_Etv2_S5\" \"MEF_Dox_d1_Etv2_S6\" \"MEF_Dox_d2_Etv2_S7\"\n",
              " [4] \"MEF_Dox_d2_Etv2_S8\" \"MEF_Dox_d7_Etv2_S7\" \"MEF_Dox_d7_Etv2_S8\"\n",
              " [7] \"IP1_Neurog2_0.5DPT\" \"IP2_Neurog2_0.5DPT\" \"IP1_Neurog2_1DPT\"  \n",
              "[10] \"IP2_Neurog2_1DPT\"   \"IP1_Neurog2_2DPT\"   \"IP2_Neurog2_2DPT\"  "
            ],
            "text/latex": "\\begin{enumerate*}\n\\item 'MEF\\_Dox\\_d1\\_Etv2\\_S5'\n\\item 'MEF\\_Dox\\_d1\\_Etv2\\_S6'\n\\item 'MEF\\_Dox\\_d2\\_Etv2\\_S7'\n\\item 'MEF\\_Dox\\_d2\\_Etv2\\_S8'\n\\item 'MEF\\_Dox\\_d7\\_Etv2\\_S7'\n\\item 'MEF\\_Dox\\_d7\\_Etv2\\_S8'\n\\item 'IP1\\_Neurog2\\_0.5DPT'\n\\item 'IP2\\_Neurog2\\_0.5DPT'\n\\item 'IP1\\_Neurog2\\_1DPT'\n\\item 'IP2\\_Neurog2\\_1DPT'\n\\item 'IP1\\_Neurog2\\_2DPT'\n\\item 'IP2\\_Neurog2\\_2DPT'\n\\end{enumerate*}\n",
            "text/markdown": "1. 'MEF_Dox_d1_Etv2_S5'\n2. 'MEF_Dox_d1_Etv2_S6'\n3. 'MEF_Dox_d2_Etv2_S7'\n4. 'MEF_Dox_d2_Etv2_S8'\n5. 'MEF_Dox_d7_Etv2_S7'\n6. 'MEF_Dox_d7_Etv2_S8'\n7. 'IP1_Neurog2_0.5DPT'\n8. 'IP2_Neurog2_0.5DPT'\n9. 'IP1_Neurog2_1DPT'\n10. 'IP2_Neurog2_1DPT'\n11. 'IP1_Neurog2_2DPT'\n12. 'IP2_Neurog2_2DPT'\n\n\n",
            "text/html": [
              "<style>\n",
              ".list-inline {list-style: none; margin:0; padding: 0}\n",
              ".list-inline>li {display: inline-block}\n",
              ".list-inline>li:not(:last-child)::after {content: \"\\00b7\"; padding: 0 .5ex}\n",
              "</style>\n",
              "<ol class=list-inline><li>'MEF_Dox_d1_Etv2_S5'</li><li>'MEF_Dox_d1_Etv2_S6'</li><li>'MEF_Dox_d2_Etv2_S7'</li><li>'MEF_Dox_d2_Etv2_S8'</li><li>'MEF_Dox_d7_Etv2_S7'</li><li>'MEF_Dox_d7_Etv2_S8'</li><li>'IP1_Neurog2_0.5DPT'</li><li>'IP2_Neurog2_0.5DPT'</li><li>'IP1_Neurog2_1DPT'</li><li>'IP2_Neurog2_1DPT'</li><li>'IP1_Neurog2_2DPT'</li><li>'IP2_Neurog2_2DPT'</li></ol>\n"
            ]
          },
          "metadata": {
            "tags": []
          }
        }
      ]
    },
    {
      "cell_type": "code",
      "metadata": {
        "id": "p9oY05QV_zBn"
      },
      "source": [
        "dpt_0.5 <- lapply(subset_gr[c('IP1_Neurog2_0.5DPT','IP2_Neurog2_0.5DPT')], function(d1){\n",
        "  length(subsetByOverlaps(reduce(resize(d1, fix = 'center', width = 200)), reduce(resize(gr_summit$IP_Neurog2_0.5DPT, fix = 'center', width = 200))))\n",
        "})"
      ],
      "execution_count": null,
      "outputs": []
    },
    {
      "cell_type": "code",
      "metadata": {
        "colab": {
          "base_uri": "https://localhost:8080/",
          "height": 114
        },
        "id": "GS-Da3dvABzC",
        "outputId": "e1e2892f-2052-4a68-935e-773db51e6b1b"
      },
      "source": [
        "dpt_0.5"
      ],
      "execution_count": null,
      "outputs": [
        {
          "output_type": "display_data",
          "data": {
            "text/plain": [
              "$IP1_Neurog2_0.5DPT\n",
              "[1] 3867\n",
              "\n",
              "$IP2_Neurog2_0.5DPT\n",
              "[1] 4589\n"
            ],
            "text/latex": "\\begin{description}\n\\item[\\$IP1\\_Neurog2\\_0.5DPT] 3867\n\\item[\\$IP2\\_Neurog2\\_0.5DPT] 4589\n\\end{description}\n",
            "text/markdown": "$IP1_Neurog2_0.5DPT\n:   3867\n$IP2_Neurog2_0.5DPT\n:   4589\n\n\n",
            "text/html": [
              "<dl>\n",
              "\t<dt>$IP1_Neurog2_0.5DPT</dt>\n",
              "\t\t<dd>3867</dd>\n",
              "\t<dt>$IP2_Neurog2_0.5DPT</dt>\n",
              "\t\t<dd>4589</dd>\n",
              "</dl>\n"
            ]
          },
          "metadata": {
            "tags": []
          }
        }
      ]
    },
    {
      "cell_type": "markdown",
      "metadata": {
        "id": "cll8XUGjALBR"
      },
      "source": [
        "# 2 DPT"
      ]
    },
    {
      "cell_type": "code",
      "metadata": {
        "id": "Zb5VcTXGAHWx"
      },
      "source": [
        "dpt_2 <- lapply(subset_gr[c('IP1_Neurog2_2DPT','IP2_Neurog2_2DPT')], function(d1){\n",
        "  length(subsetByOverlaps(reduce(resize(d1, fix = 'center', width = 200)), reduce(resize(gr_summit$IP_Neurog2_2DPT, fix = 'center', width = 200))))\n",
        "})"
      ],
      "execution_count": null,
      "outputs": []
    },
    {
      "cell_type": "code",
      "metadata": {
        "colab": {
          "base_uri": "https://localhost:8080/",
          "height": 114
        },
        "id": "ED70TmpgAR0r",
        "outputId": "01792b5c-6084-45a3-a29b-72d66df6e5e1"
      },
      "source": [
        "dpt_2"
      ],
      "execution_count": null,
      "outputs": [
        {
          "output_type": "display_data",
          "data": {
            "text/plain": [
              "$IP1_Neurog2_2DPT\n",
              "[1] 7721\n",
              "\n",
              "$IP2_Neurog2_2DPT\n",
              "[1] 8185\n"
            ],
            "text/latex": "\\begin{description}\n\\item[\\$IP1\\_Neurog2\\_2DPT] 7721\n\\item[\\$IP2\\_Neurog2\\_2DPT] 8185\n\\end{description}\n",
            "text/markdown": "$IP1_Neurog2_2DPT\n:   7721\n$IP2_Neurog2_2DPT\n:   8185\n\n\n",
            "text/html": [
              "<dl>\n",
              "\t<dt>$IP1_Neurog2_2DPT</dt>\n",
              "\t\t<dd>7721</dd>\n",
              "\t<dt>$IP2_Neurog2_2DPT</dt>\n",
              "\t\t<dd>8185</dd>\n",
              "</dl>\n"
            ]
          },
          "metadata": {
            "tags": []
          }
        }
      ]
    },
    {
      "cell_type": "markdown",
      "metadata": {
        "id": "L7k3TGPFB5qW"
      },
      "source": [
        "# Dataset of the percent overlap for 0.5DPT and 2DPT"
      ]
    },
    {
      "cell_type": "code",
      "metadata": {
        "id": "l3jW5lbzAVrL"
      },
      "source": [
        "neurog2_overlap_dat <- data.frame(percent_overlap = c((dpt_0.5$IP1_Neurog2_0.5DPT+dpt_0.5$IP2_Neurog2_0.5DPT)*100/(subset_gr_length$IP1_Neurog2_0.5DPT+subset_gr_length$IP2_Neurog2_0.5DPT),\n",
        "(dpt_2$IP1_Neurog2_2DPT+dpt_2$IP2_Neurog2_2DPT)*100/(subset_gr_length$IP1_Neurog2_2DPT+subset_gr_length$IP2_Neurog2_2DPT)), time = c('dpt_0.5','dpt_2'))"
      ],
      "execution_count": null,
      "outputs": []
    },
    {
      "cell_type": "markdown",
      "metadata": {
        "id": "TKD-Mu3uDiu7"
      },
      "source": [
        "We get a higher percent for 0.5DPT (95.74%) vs D1 (99.35%) subsetting data based on normalized Score and normalized Enrichment for all 4 replicates and using a width of 200 to overlap with the sample level data."
      ]
    },
    {
      "cell_type": "markdown",
      "metadata": {
        "id": "zFxU9uejBz_n"
      },
      "source": [
        "# Barplot displaying percent calculated using the above formula for Etv2 & Neurog2"
      ]
    },
    {
      "cell_type": "code",
      "metadata": {
        "id": "oCC_e6avvDrB"
      },
      "source": [
        "etv2 <- ggplot(overlap_dat, aes(x=time, y=percent_overlap, fill = time, label = round(percent_overlap,2)))+\n",
        "geom_bar(stat = 'identity') + \n",
        "scale_fill_manual(values = c('lightblue','blue')) +\n",
        "geom_text_repel(nudge_y = 0.25, size = 8) +\n",
        "theme_bw() + \n",
        "  theme(panel.grid.minor = element_blank(),\n",
        "        panel.background = element_blank(), axis.line = element_line(colour = \"black\"))"
      ],
      "execution_count": null,
      "outputs": []
    },
    {
      "cell_type": "code",
      "metadata": {
        "id": "C99NsgzWA1Ru"
      },
      "source": [
        "neurog2 <- ggplot(neurog2_overlap_dat, aes(x=time, y=percent_overlap, fill = time, label = round(percent_overlap,2)))+\n",
        "geom_bar(stat = 'identity') + \n",
        "scale_fill_manual(values = c('lightblue','blue')) +\n",
        "geom_text_repel(nudge_y = 0.25, size = 8) +\n",
        "theme_bw() + \n",
        "  theme(panel.grid.minor = element_blank(),\n",
        "        panel.background = element_blank(), axis.line = element_line(colour = \"black\"))"
      ],
      "execution_count": null,
      "outputs": []
    },
    {
      "cell_type": "code",
      "metadata": {
        "colab": {
          "base_uri": "https://localhost:8080/",
          "height": 497
        },
        "id": "_0dzNHD9Cgdc",
        "outputId": "d677ed88-e2d4-4271-f1e4-e672a22bd849"
      },
      "source": [
        "options(repr.plot.width = 10, repr.plot.height = 8)\n",
        "plot_grid(etv2, neurog2, labels = c('Etv2', 'Neurog2'), label_size = 15, label_x = 0, label_y = 0,\n",
        "  hjust = -0.5, vjust = -0.5)"
      ],
      "execution_count": null,
      "outputs": [
        {
          "output_type": "display_data",
          "data": {
            "image/png": "[encoded data removed]",
            "text/plain": [
              "plot without title"
            ]
          },
          "metadata": {
            "tags": [],
            "image/png": {
              "width": 600,
              "height": 480
            }
          }
        }
      ]
    },
    {
      "cell_type": "markdown",
      "metadata": {
        "id": "H0QDBu8QcaKh"
      },
      "source": [
        "We do see a increase in the percent of overlap in D7 Etv2 and 2DPT Neurog2 data. "
      ]
    },
    {
      "cell_type": "code",
      "metadata": {
        "id": "DLYh9wPhxed2",
        "colab": {
          "base_uri": "https://localhost:8080/",
          "height": 911
        },
        "outputId": "b85d76ae-4011-46b8-d71c-b722836df744"
      },
      "source": [
        "sessionInfo()"
      ],
      "execution_count": null,
      "outputs": [
        {
          "output_type": "display_data",
          "data": {
            "text/plain": [
              "R version 4.1.0 (2021-05-18)\n",
              "Platform: x86_64-pc-linux-gnu (64-bit)\n",
              "Running under: Ubuntu 18.04.5 LTS\n",
              "\n",
              "Matrix products: default\n",
              "BLAS:   /usr/lib/x86_64-linux-gnu/openblas/libblas.so.3\n",
              "LAPACK: /usr/lib/x86_64-linux-gnu/libopenblasp-r0.2.20.so\n",
              "\n",
              "locale:\n",
              " [1] LC_CTYPE=en_US.UTF-8       LC_NUMERIC=C              \n",
              " [3] LC_TIME=en_US.UTF-8        LC_COLLATE=en_US.UTF-8    \n",
              " [5] LC_MONETARY=en_US.UTF-8    LC_MESSAGES=en_US.UTF-8   \n",
              " [7] LC_PAPER=en_US.UTF-8       LC_NAME=C                 \n",
              " [9] LC_ADDRESS=C               LC_TELEPHONE=C            \n",
              "[11] LC_MEASUREMENT=en_US.UTF-8 LC_IDENTIFICATION=C       \n",
              "\n",
              "attached base packages:\n",
              "[1] parallel  stats4    stats     graphics  grDevices utils     datasets \n",
              "[8] methods   base     \n",
              "\n",
              "other attached packages:\n",
              " [1] cowplot_1.1.1               gridExtra_2.3              \n",
              " [3] ggrepel_0.9.1               tidyr_1.1.3                \n",
              " [5] circlize_0.4.13             ggplot2_3.3.5              \n",
              " [7] SummarizedExperiment_1.22.0 Biobase_2.52.0             \n",
              " [9] MatrixGenerics_1.4.0        matrixStats_0.59.0         \n",
              "[11] dplyr_1.0.7                 GenomicRanges_1.44.0       \n",
              "[13] GenomeInfoDb_1.28.1         IRanges_2.26.0             \n",
              "[15] S4Vectors_0.30.0            BiocGenerics_0.38.0        \n",
              "\n",
              "loaded via a namespace (and not attached):\n",
              " [1] pbdZMQ_0.3-5           shape_1.4.6            tidyselect_1.1.1      \n",
              " [4] repr_1.1.3             purrr_0.3.4            lattice_0.20-44       \n",
              " [7] colorspace_2.0-2       vctrs_0.3.8            generics_0.1.0        \n",
              "[10] htmltools_0.5.1.1      base64enc_0.1-3        utf8_1.2.1            \n",
              "[13] rlang_0.4.11           pillar_1.6.1           glue_1.4.2            \n",
              "[16] withr_2.4.2            DBI_1.1.1              uuid_0.1-4            \n",
              "[19] GenomeInfoDbData_1.2.6 lifecycle_1.0.0        zlibbioc_1.38.0       \n",
              "[22] munsell_0.5.0          gtable_0.3.0           GlobalOptions_0.1.2   \n",
              "[25] evaluate_0.14          labeling_0.4.2         fansi_0.5.0           \n",
              "[28] Rcpp_1.0.6             IRdisplay_1.0          scales_1.1.1          \n",
              "[31] BiocManager_1.30.16    IRkernel_1.2           DelayedArray_0.18.0   \n",
              "[34] jsonlite_1.7.2         XVector_0.32.0         farver_2.1.0          \n",
              "[37] digest_0.6.27          grid_4.1.0             tools_4.1.0           \n",
              "[40] bitops_1.0-7           magrittr_2.0.1         RCurl_1.98-1.3        \n",
              "[43] tibble_3.1.2           crayon_1.4.1           pkgconfig_2.0.3       \n",
              "[46] ellipsis_0.3.2         Matrix_1.3-4           assertthat_0.2.1      \n",
              "[49] R6_2.5.0               compiler_4.1.0        "
            ]
          },
          "metadata": {
            "tags": []
          }
        }
      ]
    }
  ]
}