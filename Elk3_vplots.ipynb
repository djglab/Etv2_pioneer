{
  "nbformat": 4,
  "nbformat_minor": 0,
  "metadata": {
    "kernelspec": {
      "display_name": "R",
      "language": "R",
      "name": "ir"
    },
    "language_info": {
      "codemirror_mode": "r",
      "file_extension": ".r",
      "mimetype": "text/x-r-source",
      "name": "R",
      "pygments_lexer": "r",
      "version": "3.3.1"
    },
    "colab": {
      "name": "Elk3_vplots.ipynb",
      "provenance": [],
      "collapsed_sections": [
        "uY3cIu62WZd0",
        "OVyYghqGB0rf",
        "FfduHH8aWZd1",
        "LYEAr8FYYA6t",
        "jK9hpIfCqGZk",
        "wjg4jMFjHz_P"
      ],
      "toc_visible": true,
      "machine_shape": "hm",
      "include_colab_link": true
    },
    "accelerator": "GPU"
  },
  "cells": [
    {
      "cell_type": "markdown",
      "metadata": {
        "id": "view-in-github",
        "colab_type": "text"
      },
      "source": [
        "<a href=\"https://colab.research.google.com/github/gongx030/Etv2_pioneer/blob/master/Elk3_vplots.ipynb\" target=\"_parent\"><img src=\"https://colab.research.google.com/assets/colab-badge.svg\" alt=\"Open In Colab\"/></a>"
      ]
    },
    {
      "cell_type": "markdown",
      "metadata": {
        "id": "M0jDe-m_5aq4"
      },
      "source": [
        "# Examine the V-plots of Elk3 binding sites in D4 WT EB and D4 Brg1 KO EB.\n",
        "by Wuming Gong\n"
      ]
    },
    {
      "cell_type": "code",
      "metadata": {
        "id": "6OhqEEeZHroa"
      },
      "source": [
        "start_time <- Sys.time()"
      ],
      "execution_count": 1,
      "outputs": []
    },
    {
      "cell_type": "markdown",
      "metadata": {
        "id": "obcf6pAcw6TQ"
      },
      "source": [
        "### Install external packages"
      ]
    },
    {
      "cell_type": "code",
      "metadata": {
        "id": "99vS8MZUxApi",
        "colab": {
          "base_uri": "https://localhost:8080/",
          "height": 34
        },
        "outputId": "c3e52765-fec6-4243-8f88-8e85f56d2235"
      },
      "source": [
        "system('apt-get -q install libgsl-dev', intern = TRUE)"
      ],
      "execution_count": 2,
      "outputs": [
        {
          "output_type": "display_data",
          "data": {
            "text/plain": [
              "[1] \"Reading package lists...\"                                       \n",
              "[2] \"Building dependency tree...\"                                    \n",
              "[3] \"Reading state information...\"                                   \n",
              "[4] \"libgsl-dev is already the newest version (2.4+dfsg-6).\"         \n",
              "[5] \"0 upgraded, 0 newly installed, 0 to remove and 37 not upgraded.\""
            ],
            "text/latex": "\\begin{enumerate*}\n\\item 'Reading package lists...'\n\\item 'Building dependency tree...'\n\\item 'Reading state information...'\n\\item 'libgsl-dev is already the newest version (2.4+dfsg-6).'\n\\item '0 upgraded, 0 newly installed, 0 to remove and 37 not upgraded.'\n\\end{enumerate*}\n",
            "text/markdown": "1. 'Reading package lists...'\n2. 'Building dependency tree...'\n3. 'Reading state information...'\n4. 'libgsl-dev is already the newest version (2.4+dfsg-6).'\n5. '0 upgraded, 0 newly installed, 0 to remove and 37 not upgraded.'\n\n\n",
            "text/html": [
              "<style>\n",
              ".list-inline {list-style: none; margin:0; padding: 0}\n",
              ".list-inline>li {display: inline-block}\n",
              ".list-inline>li:not(:last-child)::after {content: \"\\00b7\"; padding: 0 .5ex}\n",
              "</style>\n",
              "<ol class=list-inline><li>'Reading package lists...'</li><li>'Building dependency tree...'</li><li>'Reading state information...'</li><li>'libgsl-dev is already the newest version (2.4+dfsg-6).'</li><li>'0 upgraded, 0 newly installed, 0 to remove and 37 not upgraded.'</li></ol>\n"
            ]
          },
          "metadata": {}
        }
      ]
    },
    {
      "cell_type": "code",
      "metadata": {
        "id": "HgPXAFx1xZHE",
        "colab": {
          "base_uri": "https://localhost:8080/",
          "height": 34
        },
        "outputId": "d6f8af4b-4623-4647-9edd-5b0834a05df0"
      },
      "source": [
        "system('apt-get install libcairo2-dev', intern = TRUE) # for Cairo package that is required by ComplexHeatmap package"
      ],
      "execution_count": 3,
      "outputs": [
        {
          "output_type": "display_data",
          "data": {
            "text/plain": [
              "[1] \"Reading package lists...\"                                         \n",
              "[2] \"Building dependency tree...\"                                      \n",
              "[3] \"Reading state information...\"                                     \n",
              "[4] \"libcairo2-dev is already the newest version (1.15.10-2ubuntu0.1).\"\n",
              "[5] \"0 upgraded, 0 newly installed, 0 to remove and 37 not upgraded.\"  "
            ],
            "text/latex": "\\begin{enumerate*}\n\\item 'Reading package lists...'\n\\item 'Building dependency tree...'\n\\item 'Reading state information...'\n\\item 'libcairo2-dev is already the newest version (1.15.10-2ubuntu0.1).'\n\\item '0 upgraded, 0 newly installed, 0 to remove and 37 not upgraded.'\n\\end{enumerate*}\n",
            "text/markdown": "1. 'Reading package lists...'\n2. 'Building dependency tree...'\n3. 'Reading state information...'\n4. 'libcairo2-dev is already the newest version (1.15.10-2ubuntu0.1).'\n5. '0 upgraded, 0 newly installed, 0 to remove and 37 not upgraded.'\n\n\n",
            "text/html": [
              "<style>\n",
              ".list-inline {list-style: none; margin:0; padding: 0}\n",
              ".list-inline>li {display: inline-block}\n",
              ".list-inline>li:not(:last-child)::after {content: \"\\00b7\"; padding: 0 .5ex}\n",
              "</style>\n",
              "<ol class=list-inline><li>'Reading package lists...'</li><li>'Building dependency tree...'</li><li>'Reading state information...'</li><li>'libcairo2-dev is already the newest version (1.15.10-2ubuntu0.1).'</li><li>'0 upgraded, 0 newly installed, 0 to remove and 37 not upgraded.'</li></ol>\n"
            ]
          },
          "metadata": {}
        }
      ]
    },
    {
      "cell_type": "markdown",
      "metadata": {
        "id": "uY3cIu62WZd0"
      },
      "source": [
        "### Install R packages from CRAN"
      ]
    },
    {
      "cell_type": "code",
      "metadata": {
        "colab": {
          "base_uri": "https://localhost:8080/"
        },
        "id": "yfBnWIqfWZd0",
        "outputId": "e77f2b40-46fc-44e0-c8bc-392e5224347e"
      },
      "source": [
        "install.packages('BiocManager')"
      ],
      "execution_count": 4,
      "outputs": [
        {
          "output_type": "stream",
          "name": "stderr",
          "text": [
            "Installing package into ‘/usr/local/lib/R/site-library’\n",
            "(as ‘lib’ is unspecified)\n",
            "\n"
          ]
        }
      ]
    },
    {
      "cell_type": "code",
      "metadata": {
        "id": "e5KbNCmTWZd0"
      },
      "source": [
        "required_packages <- c(\n",
        "  \"BSgenome.Mmusculus.UCSC.mm10\", \n",
        "  \"dplyr\", \n",
        "  'motifmatchr'\n",
        ")"
      ],
      "execution_count": 5,
      "outputs": []
    },
    {
      "cell_type": "code",
      "metadata": {
        "id": "FzhTYT3EWZd0"
      },
      "source": [
        "missing_packages <- required_packages[!required_packages %in% rownames(installed.packages())]\n",
        "if (length(missing_packages) > 0){\n",
        "    BiocManager::install(missing_packages)\n",
        "}"
      ],
      "execution_count": 6,
      "outputs": []
    },
    {
      "cell_type": "code",
      "metadata": {
        "id": "BMptTKnyWZd1",
        "colab": {
          "base_uri": "https://localhost:8080/"
        },
        "outputId": "7681870f-02da-45da-d942-f6a5d6d30281"
      },
      "source": [
        "library(devtools)"
      ],
      "execution_count": 7,
      "outputs": [
        {
          "output_type": "stream",
          "name": "stderr",
          "text": [
            "Loading required package: usethis\n",
            "\n"
          ]
        }
      ]
    },
    {
      "cell_type": "markdown",
      "metadata": {
        "id": "KHjoODrS2hKo"
      },
      "source": [
        "### Install R packages from github"
      ]
    },
    {
      "cell_type": "code",
      "metadata": {
        "colab": {
          "base_uri": "https://localhost:8080/"
        },
        "id": "30uvd1_Nrpy_",
        "outputId": "2b717281-0924-4568-fe71-975af81d7669"
      },
      "source": [
        "install_github(\"GreenleafLab/chromVARmotifs\")"
      ],
      "execution_count": 8,
      "outputs": [
        {
          "output_type": "stream",
          "name": "stderr",
          "text": [
            "Skipping install of 'chromVARmotifs' from a github remote, the SHA1 (38bed559) has not changed since last install.\n",
            "  Use `force = TRUE` to force installation\n",
            "\n"
          ]
        }
      ]
    },
    {
      "cell_type": "markdown",
      "metadata": {
        "id": "FfduHH8aWZd1"
      },
      "source": [
        "### Install `seatac` from github"
      ]
    },
    {
      "cell_type": "code",
      "metadata": {
        "colab": {
          "base_uri": "https://localhost:8080/"
        },
        "id": "6cbnrdk2WZd1",
        "outputId": "b8557db6-e0b7-4c4a-8251-c9d8cc17ad86"
      },
      "source": [
        "install_github('gongx030/seatac', quiet = FALSE)\n",
        "devtools::reload(pkgload::inst(\"seatac\"))\n",
        "library(seatac)"
      ],
      "execution_count": 9,
      "outputs": [
        {
          "output_type": "stream",
          "name": "stderr",
          "text": [
            "Skipping install of 'seatac' from a github remote, the SHA1 (a8a0de74) has not changed since last install.\n",
            "  Use `force = TRUE` to force installation\n",
            "\n",
            "Loading required package: tensorflow\n",
            "\n",
            "Loading required package: tfprobability\n",
            "\n",
            "Loading required package: tfdatasets\n",
            "\n",
            "Loading required package: GenomicRanges\n",
            "\n",
            "Loading required package: stats4\n",
            "\n",
            "Loading required package: BiocGenerics\n",
            "\n",
            "Loading required package: parallel\n",
            "\n",
            "\n",
            "Attaching package: ‘BiocGenerics’\n",
            "\n",
            "\n",
            "The following objects are masked from ‘package:parallel’:\n",
            "\n",
            "    clusterApply, clusterApplyLB, clusterCall, clusterEvalQ,\n",
            "    clusterExport, clusterMap, parApply, parCapply, parLapply,\n",
            "    parLapplyLB, parRapply, parSapply, parSapplyLB\n",
            "\n",
            "\n",
            "The following objects are masked from ‘package:stats’:\n",
            "\n",
            "    IQR, mad, sd, var, xtabs\n",
            "\n",
            "\n",
            "The following objects are masked from ‘package:base’:\n",
            "\n",
            "    anyDuplicated, append, as.data.frame, basename, cbind, colnames,\n",
            "    dirname, do.call, duplicated, eval, evalq, Filter, Find, get, grep,\n",
            "    grepl, intersect, is.unsorted, lapply, Map, mapply, match, mget,\n",
            "    order, paste, pmax, pmax.int, pmin, pmin.int, Position, rank,\n",
            "    rbind, Reduce, rownames, sapply, setdiff, sort, table, tapply,\n",
            "    union, unique, unsplit, which.max, which.min\n",
            "\n",
            "\n",
            "Loading required package: S4Vectors\n",
            "\n",
            "\n",
            "Attaching package: ‘S4Vectors’\n",
            "\n",
            "\n",
            "The following objects are masked from ‘package:base’:\n",
            "\n",
            "    expand.grid, I, unname\n",
            "\n",
            "\n",
            "Loading required package: IRanges\n",
            "\n",
            "Loading required package: GenomeInfoDb\n",
            "\n",
            "Loading required package: SummarizedExperiment\n",
            "\n",
            "Loading required package: MatrixGenerics\n",
            "\n",
            "Loading required package: matrixStats\n",
            "\n",
            "\n",
            "Attaching package: ‘MatrixGenerics’\n",
            "\n",
            "\n",
            "The following objects are masked from ‘package:matrixStats’:\n",
            "\n",
            "    colAlls, colAnyNAs, colAnys, colAvgsPerRowSet, colCollapse,\n",
            "    colCounts, colCummaxs, colCummins, colCumprods, colCumsums,\n",
            "    colDiffs, colIQRDiffs, colIQRs, colLogSumExps, colMadDiffs,\n",
            "    colMads, colMaxs, colMeans2, colMedians, colMins, colOrderStats,\n",
            "    colProds, colQuantiles, colRanges, colRanks, colSdDiffs, colSds,\n",
            "    colSums2, colTabulates, colVarDiffs, colVars, colWeightedMads,\n",
            "    colWeightedMeans, colWeightedMedians, colWeightedSds,\n",
            "    colWeightedVars, rowAlls, rowAnyNAs, rowAnys, rowAvgsPerColSet,\n",
            "    rowCollapse, rowCounts, rowCummaxs, rowCummins, rowCumprods,\n",
            "    rowCumsums, rowDiffs, rowIQRDiffs, rowIQRs, rowLogSumExps,\n",
            "    rowMadDiffs, rowMads, rowMaxs, rowMeans2, rowMedians, rowMins,\n",
            "    rowOrderStats, rowProds, rowQuantiles, rowRanges, rowRanks,\n",
            "    rowSdDiffs, rowSds, rowSums2, rowTabulates, rowVarDiffs, rowVars,\n",
            "    rowWeightedMads, rowWeightedMeans, rowWeightedMedians,\n",
            "    rowWeightedSds, rowWeightedVars\n",
            "\n",
            "\n",
            "Loading required package: Biobase\n",
            "\n",
            "Welcome to Bioconductor\n",
            "\n",
            "    Vignettes contain introductory material; view with\n",
            "    'browseVignettes()'. To cite Bioconductor, see\n",
            "    'citation(\"Biobase\")', and for packages 'citation(\"pkgname\")'.\n",
            "\n",
            "\n",
            "\n",
            "Attaching package: ‘Biobase’\n",
            "\n",
            "\n",
            "The following object is masked from ‘package:MatrixGenerics’:\n",
            "\n",
            "    rowMedians\n",
            "\n",
            "\n",
            "The following objects are masked from ‘package:matrixStats’:\n",
            "\n",
            "    anyMissing, rowMedians\n",
            "\n",
            "\n",
            "\n",
            "Attaching package: ‘seatac’\n",
            "\n",
            "\n",
            "The following object is masked from ‘package:tfdatasets’:\n",
            "\n",
            "    fit\n",
            "\n",
            "\n",
            "The following object is masked from ‘package:stats’:\n",
            "\n",
            "    predict\n",
            "\n",
            "\n"
          ]
        }
      ]
    },
    {
      "cell_type": "markdown",
      "metadata": {
        "id": "8LRcZG575RIi"
      },
      "source": [
        "### Load R packages"
      ]
    },
    {
      "cell_type": "code",
      "metadata": {
        "id": "xxvI6xd05RIi",
        "colab": {
          "base_uri": "https://localhost:8080/"
        },
        "outputId": "8d939421-3cc4-483d-94f1-744f2f3f43fd"
      },
      "source": [
        "library(BSgenome.Mmusculus.UCSC.mm10)\n",
        "library(dplyr)\n",
        "library(motifmatchr)\n",
        "library(chromVARmotifs)"
      ],
      "execution_count": 10,
      "outputs": [
        {
          "output_type": "stream",
          "name": "stderr",
          "text": [
            "Loading required package: BSgenome\n",
            "\n",
            "Loading required package: Biostrings\n",
            "\n",
            "Loading required package: XVector\n",
            "\n",
            "\n",
            "Attaching package: ‘Biostrings’\n",
            "\n",
            "\n",
            "The following object is masked from ‘package:base’:\n",
            "\n",
            "    strsplit\n",
            "\n",
            "\n",
            "Loading required package: rtracklayer\n",
            "\n",
            "\n",
            "Attaching package: ‘dplyr’\n",
            "\n",
            "\n",
            "The following objects are masked from ‘package:Biostrings’:\n",
            "\n",
            "    collapse, intersect, setdiff, setequal, union\n",
            "\n",
            "\n",
            "The following object is masked from ‘package:XVector’:\n",
            "\n",
            "    slice\n",
            "\n",
            "\n",
            "The following object is masked from ‘package:Biobase’:\n",
            "\n",
            "    combine\n",
            "\n",
            "\n",
            "The following object is masked from ‘package:matrixStats’:\n",
            "\n",
            "    count\n",
            "\n",
            "\n",
            "The following objects are masked from ‘package:GenomicRanges’:\n",
            "\n",
            "    intersect, setdiff, union\n",
            "\n",
            "\n",
            "The following object is masked from ‘package:GenomeInfoDb’:\n",
            "\n",
            "    intersect\n",
            "\n",
            "\n",
            "The following objects are masked from ‘package:IRanges’:\n",
            "\n",
            "    collapse, desc, intersect, setdiff, slice, union\n",
            "\n",
            "\n",
            "The following objects are masked from ‘package:S4Vectors’:\n",
            "\n",
            "    first, intersect, rename, setdiff, setequal, union\n",
            "\n",
            "\n",
            "The following objects are masked from ‘package:BiocGenerics’:\n",
            "\n",
            "    combine, intersect, setdiff, union\n",
            "\n",
            "\n",
            "The following objects are masked from ‘package:stats’:\n",
            "\n",
            "    filter, lag\n",
            "\n",
            "\n",
            "The following objects are masked from ‘package:base’:\n",
            "\n",
            "    intersect, setdiff, setequal, union\n",
            "\n",
            "\n",
            "\n",
            "\n"
          ]
        }
      ]
    },
    {
      "cell_type": "markdown",
      "metadata": {
        "id": "j-TPW4ME18Vg"
      },
      "source": [
        "### TensorFlow setup"
      ]
    },
    {
      "cell_type": "code",
      "metadata": {
        "id": "BvMo6o4K18Vh",
        "colab": {
          "base_uri": "https://localhost:8080/"
        },
        "outputId": "73ef9c45-8b2c-41a2-ae83-52f5bbfce600"
      },
      "source": [
        "gpus <- tf$config$list_physical_devices('GPU')\n",
        "for (gpu in gpus){\n",
        "  tf$config$experimental$set_memory_growth(gpu, TRUE)\n",
        "}\n",
        "logical_gpus <- tf$config$experimental$list_logical_devices('GPU')\n",
        "sprintf('Physical GPUs: %d', length(gpus)) %>% message()\n",
        "sprintf('Logical GPUs: %d', length(logical_gpus)) %>% message()"
      ],
      "execution_count": 11,
      "outputs": [
        {
          "output_type": "stream",
          "name": "stderr",
          "text": [
            "Physical GPUs: 1\n",
            "\n",
            "Logical GPUs: 1\n",
            "\n"
          ]
        }
      ]
    },
    {
      "cell_type": "code",
      "metadata": {
        "id": "GfWHODPbHZ0s",
        "colab": {
          "base_uri": "https://localhost:8080/",
          "height": 34
        },
        "outputId": "4768fb75-c655-4957-95c6-7fd29d74538f"
      },
      "source": [
        "Sys.time() - start_time"
      ],
      "execution_count": 12,
      "outputs": [
        {
          "output_type": "display_data",
          "data": {
            "text/plain": [
              "Time difference of 34.13127 secs"
            ]
          },
          "metadata": {}
        }
      ]
    },
    {
      "cell_type": "markdown",
      "metadata": {
        "id": "hl2lXOAv9ljx"
      },
      "source": [
        "## Parameters"
      ]
    },
    {
      "cell_type": "code",
      "metadata": {
        "id": "KMfU5_KD9nN9"
      },
      "source": [
        "ARGS <- list(\n",
        "  bin_size = 5L,\n",
        "  fragment_size_range_max = 640L,\n",
        "  fragment_size_interval = 20L,\n",
        "  window_size = 1000L,\n",
        "  block_size = 640L,\n",
        "  sliding_step = 20L,\n",
        "  min_reads = 10L,\n",
        "\n",
        "  vae_num_peaks = 5000L,\n",
        "  vae_latent = c(10L),\n",
        "  vae_filters0 = c(128L),\n",
        "  vae_filters = c(32L),\n",
        "  vae_downsample_layers = 4L,\n",
        "  vae_upsample_layers = 4L,\n",
        "  vae_base_learning_rate = c(1e-2),\n",
        "  vae_epochs = 200L,\n",
        "  vae_beta_schedule_method = c('constant'),\n",
        "  vae_beta0 = 1,\n",
        "  vae_batch_size = c(128L),\n",
        "  vae_warmup_ratio = 0.1\n",
        ")"
      ],
      "execution_count": 13,
      "outputs": []
    },
    {
      "cell_type": "markdown",
      "metadata": {
        "id": "KTlR7IjcYeAI"
      },
      "source": [
        "## Load data"
      ]
    },
    {
      "cell_type": "code",
      "metadata": {
        "id": "4C5C4mrdymmE"
      },
      "source": [
        "remote_bam_files = c(\n",
        "  EB_Dox_D4 =  'https://s3.msi.umn.edu/dsouz072/datasets/dataset=Etv2_PioneerFactor_Manuscript/Brg1-floxed_D4.bam',\n",
        "  EB_Brg1_KO_Dox_D4 = 'https://s3.msi.umn.edu/dsouz072/datasets/dataset=Etv2_PioneerFactor_Manuscript/Brg1-floxed_4OHT_D4.bam'\n",
        ")\n",
        "for (f in remote_bam_files){\n",
        "  system(sprintf('wget -x -c -nH %s', f))\n",
        "}\n",
        "local_bam_files <- gsub('https://.+?/', './', remote_bam_files)"
      ],
      "execution_count": 14,
      "outputs": []
    },
    {
      "cell_type": "code",
      "metadata": {
        "id": "09ujkOkCyxtv"
      },
      "source": [
        "remote_bed_files <- gsub('.bam', '_summits.bed', remote_bam_files)\n",
        "for (f in remote_bed_files){\n",
        "  system(sprintf('wget -x -c -nH %s', f))\n",
        "}\n",
        "local_bed_files <- gsub('https://.+?/', './', remote_bed_files)"
      ],
      "execution_count": 15,
      "outputs": []
    },
    {
      "cell_type": "markdown",
      "metadata": {
        "id": "pIlGm6CFnr6k"
      },
      "source": [
        "## Read V-plots"
      ]
    },
    {
      "cell_type": "code",
      "metadata": {
        "id": "JnXiPxoSnbMM",
        "colab": {
          "base_uri": "https://localhost:8080/"
        },
        "outputId": "e3ff0d81-c904-4f06-95be-3ea738a1b019"
      },
      "source": [
        "gr0 <- lapply(local_bed_files, function(bed_file){\n",
        "  peaks <- read.table(bed_file, header = FALSE, sep = '\\t')\n",
        "  peaks <- GRanges(seqnames = peaks[, 1], range = IRanges(start = peaks[, 2], end = peaks[, 3]))\n",
        "  peaks <- resize(peaks, fix = 'center', width = 200L)\n",
        "  peaks\n",
        "}) %>%\n",
        "  GRangesList() %>%\n",
        "  coverage() %>%\n",
        "  IRanges::slice(lower = 1, rangesOnly = TRUE) %>%\n",
        "  GRanges() %>%\n",
        "  resize(fix = 'center', width = ARGS[['window_size']])\n",
        "gr0 <- gr0[!seqnames(gr0) %in% c('chrM', 'chrY')]\n",
        "gr <- slidingWindows(gr0, width = ARGS[['block_size']], step = ARGS[['sliding_step']]) %>% unlist()\n",
        "set.seed(1L); gr <- sample(gr, ARGS[['vae_num_peaks']])\n",
        "counts <- count_reads(gr, local_bam_files, genome = BSgenome.Mmusculus.UCSC.mm10,  fragment_size_range = c(0, ARGS[['fragment_size_range_max']]))"
      ],
      "execution_count": 16,
      "outputs": [
        {
          "output_type": "stream",
          "name": "stderr",
          "text": [
            "read_bam | reading ./dsouz072/datasets/dataset=Etv2_PioneerFactor_Manuscript/Brg1-floxed_D4.bam\n",
            "\n",
            "read_bam | reading ./dsouz072/datasets/dataset=Etv2_PioneerFactor_Manuscript/Brg1-floxed_4OHT_D4.bam\n",
            "\n"
          ]
        }
      ]
    },
    {
      "cell_type": "code",
      "metadata": {
        "id": "b7f3QZ0W_DXL",
        "colab": {
          "base_uri": "https://localhost:8080/"
        },
        "outputId": "e8d53c5c-c034-44ae-f227-687cef3cd758"
      },
      "source": [
        "counts <- matrix(counts, nrow = length(counts) / length(local_bam_files), ncol = length(local_bam_files), dimnames = list(NULL, local_bam_files))\n",
        "valid <- rowSums(counts >= ARGS[['min_reads']]) == length(local_bam_files)\n",
        "gr <- gr[valid]\n",
        "sprintf('number of training peaks for VaeModel: %d', length(gr)) %>% message()\n",
        "x <- read_vplot(gr, filenames = local_bam_files, genome = BSgenome.Mmusculus.UCSC.mm10, bin_size = ARGS[['bin_size']], fragment_size_range = c(0, ARGS[['fragment_size_range_max']]), fragment_size_interval = ARGS[['fragment_size_interval']])"
      ],
      "execution_count": 17,
      "outputs": [
        {
          "output_type": "stream",
          "name": "stderr",
          "text": [
            "number of training peaks for VaeModel: 4079\n",
            "\n",
            "read_bam | reading ./dsouz072/datasets/dataset=Etv2_PioneerFactor_Manuscript/Brg1-floxed_D4.bam\n",
            "\n",
            "read_bam | reading ./dsouz072/datasets/dataset=Etv2_PioneerFactor_Manuscript/Brg1-floxed_4OHT_D4.bam\n",
            "\n"
          ]
        }
      ]
    },
    {
      "cell_type": "markdown",
      "metadata": {
        "id": "HcRTNNFJ94xf"
      },
      "source": [
        "## Training VAE model for V-plots"
      ]
    },
    {
      "cell_type": "code",
      "metadata": {
        "id": "BdWzYOndyjhu",
        "colab": {
          "base_uri": "https://localhost:8080/"
        },
        "outputId": "11ea2b19-ef75-46e6-87b1-c3dca5dd09be"
      },
      "source": [
        "model <- new('VaeModel', model = VaeModel(\n",
        "  latent_dim = ARGS[['vae_latent']],\n",
        "  block_size = ARGS[['block_size']],\n",
        "  bin_size = ARGS[['bin_size']],\n",
        "  filters0 = ARGS[['vae_filters0']],\n",
        "  filters = ARGS[['vae_filters']],\n",
        "  upsample_layers = ARGS[['vae_upsample_layers']],\n",
        "  downsample_layers = ARGS[['vae_downsample_layers']],\n",
        "  fragment_size_range  = c(0, ARGS[['fragment_size_range_max']]),\n",
        "  fragment_size_interval = ARGS[['fragment_size_interval']],\n",
        "  n_batches = x@n_samples\n",
        "))\n",
        "lr <- WarmUpAndCosineDecay(\n",
        "  base_learning_rate = ARGS[['vae_base_learning_rate']],\n",
        "  num_examples = nrow(x),\n",
        "  batch_size = ARGS[['vae_batch_size']],\n",
        "  epochs = ARGS[['vae_epochs']],\n",
        "  warmup_epochs = as.integer(ARGS[['vae_epochs']] * ARGS[['vae_warmup_ratio']])\n",
        ")\n",
        "beta <- beta_schedule(\n",
        "  method = ARGS[['vae_beta_schedule_method']],\n",
        "  beta0 = ARGS[['vae_beta0']],\n",
        "  epochs = ARGS[['vae_epochs']]\n",
        ")\n",
        "d <- model %>% prepare_data(x)\n",
        "d <- d %>% tensor_slices_dataset()"
      ],
      "execution_count": 19,
      "outputs": [
        {
          "output_type": "stream",
          "name": "stderr",
          "text": [
            "dimnames(.) <- NULL:  translated to \n",
            "dimnames(.) <- list(NULL,NULL)  <==>  unname(.)\n",
            "\n"
          ]
        }
      ]
    },
    {
      "cell_type": "code",
      "metadata": {
        "colab": {
          "base_uri": "https://localhost:8080/"
        },
        "id": "K_k8sOJUbq05",
        "outputId": "98f582dc-9249-4059-8fd4-27739ef88b41"
      },
      "source": [
        "# this command will fail when being executed at the first time but runs file at the second time. \n",
        "model <- model %>% fit(d, batch_size =  ARGS[['vae_batch_size']], epochs = ARGS[['vae_epochs']], learning_rate = lr, compile = TRUE, beta = beta)"
      ],
      "execution_count": 20,
      "outputs": [
        {
          "output_type": "stream",
          "name": "stderr",
          "text": [
            "epoch=     1/   200 | beta=1.000e+00 | loss= 3227.1079979 | loss_reconstruction= 3225.9560432 | loss_kl=    1.1519500\n",
            "\n",
            "epoch=    10/   200 | beta=1.000e+00 | loss=  222.2962623 | loss_reconstruction=  220.5007780 | loss_kl=    1.7954841\n",
            "\n",
            "epoch=    20/   200 | beta=1.000e+00 | loss=  207.9788346 | loss_reconstruction=  203.3764849 | loss_kl=    4.6023492\n",
            "\n",
            "epoch=    30/   200 | beta=1.000e+00 | loss=  206.7400515 | loss_reconstruction=  201.4382679 | loss_kl=    5.3017833\n",
            "\n",
            "epoch=    40/   200 | beta=1.000e+00 | loss=  206.4211287 | loss_reconstruction=  200.9428906 | loss_kl=    5.4782399\n",
            "\n",
            "epoch=    50/   200 | beta=1.000e+00 | loss=  206.1895583 | loss_reconstruction=  200.5382688 | loss_kl=    5.6512890\n",
            "\n",
            "epoch=    60/   200 | beta=1.000e+00 | loss=  206.0038900 | loss_reconstruction=  200.1954556 | loss_kl=    5.8084336\n",
            "\n",
            "epoch=    70/   200 | beta=1.000e+00 | loss=  205.8108108 | loss_reconstruction=  199.8821673 | loss_kl=    5.9286437\n",
            "\n",
            "epoch=    80/   200 | beta=1.000e+00 | loss=  205.5976727 | loss_reconstruction=  199.5658836 | loss_kl=    6.0317892\n",
            "\n",
            "epoch=    90/   200 | beta=1.000e+00 | loss=  205.4199634 | loss_reconstruction=  199.2969804 | loss_kl=    6.1229828\n",
            "\n",
            "epoch=   100/   200 | beta=1.000e+00 | loss=  205.2187135 | loss_reconstruction=  198.9849968 | loss_kl=    6.2337160\n",
            "\n",
            "epoch=   110/   200 | beta=1.000e+00 | loss=  205.0313616 | loss_reconstruction=  198.6468115 | loss_kl=    6.3845499\n",
            "\n",
            "epoch=   120/   200 | beta=1.000e+00 | loss=  204.8000145 | loss_reconstruction=  198.2790692 | loss_kl=    6.5209450\n",
            "\n",
            "epoch=   130/   200 | beta=1.000e+00 | loss=  204.5485191 | loss_reconstruction=  197.8922434 | loss_kl=    6.6562767\n",
            "\n",
            "epoch=   140/   200 | beta=1.000e+00 | loss=  204.3564165 | loss_reconstruction=  197.5285785 | loss_kl=    6.8278375\n",
            "\n",
            "epoch=   150/   200 | beta=1.000e+00 | loss=  204.1015720 | loss_reconstruction=  197.1146996 | loss_kl=    6.9868731\n",
            "\n",
            "epoch=   160/   200 | beta=1.000e+00 | loss=  203.8615158 | loss_reconstruction=  196.8098714 | loss_kl=    7.0516429\n",
            "\n",
            "epoch=   170/   200 | beta=1.000e+00 | loss=  203.7040951 | loss_reconstruction=  196.5252194 | loss_kl=    7.1788762\n",
            "\n",
            "epoch=   180/   200 | beta=1.000e+00 | loss=  203.5884478 | loss_reconstruction=  196.3000188 | loss_kl=    7.2884301\n",
            "\n",
            "epoch=   190/   200 | beta=1.000e+00 | loss=  203.4965489 | loss_reconstruction=  196.2265413 | loss_kl=    7.2700075\n",
            "\n",
            "epoch=   200/   200 | beta=1.000e+00 | loss=  203.5011320 | loss_reconstruction=  196.1800280 | loss_kl=    7.3211046\n",
            "\n"
          ]
        }
      ]
    },
    {
      "cell_type": "markdown",
      "metadata": {
        "id": "Tys_iLvnjlun"
      },
      "source": [
        "## Compare Elk motif centric V-plots between WT EB and Brg1 KO EB"
      ]
    },
    {
      "cell_type": "markdown",
      "metadata": {
        "id": "HFi3FyWGes3d"
      },
      "source": [
        "### Extract motif centric regions"
      ]
    },
    {
      "cell_type": "code",
      "metadata": {
        "id": "DGqCiI2reZzF"
      },
      "source": [
        "data('homer_pwms') # 321 TF motifs from Homer database"
      ],
      "execution_count": 21,
      "outputs": []
    },
    {
      "cell_type": "code",
      "metadata": {
        "id": "pRnZ76W5eh2T"
      },
      "source": [
        "j <- 'Elk1(ETS)/Hela-Elk1-ChIP-Seq(GSE31477)/Homer'"
      ],
      "execution_count": 22,
      "outputs": []
    },
    {
      "cell_type": "code",
      "metadata": {
        "id": "XOipI1Vf0w-k"
      },
      "source": [
        "j <- 69"
      ],
      "execution_count": 62,
      "outputs": []
    },
    {
      "cell_type": "code",
      "metadata": {
        "id": "y92NANobehIy"
      },
      "source": [
        "gr <- matchMotifs(homer_pwms[j], gr0, genome = BSgenome.Mmusculus.UCSC.mm10,  p.cutoff = 1e-04, out = 'positions')[[1]] %>%\n",
        "  resize(width = ARGS[['block_size']], fix = 'center')"
      ],
      "execution_count": 85,
      "outputs": []
    },
    {
      "cell_type": "code",
      "metadata": {
        "colab": {
          "base_uri": "https://localhost:8080/"
        },
        "id": "QijS2vz2fJAI",
        "outputId": "fa394124-abdd-474d-9119-2f864375c84f"
      },
      "source": [
        "sprintf('number of motif-centric regions: %s', length(gr)) %>% message()"
      ],
      "execution_count": 86,
      "outputs": [
        {
          "output_type": "stream",
          "name": "stderr",
          "text": [
            "number of motif-centric regions: 6979\n",
            "\n"
          ]
        }
      ]
    },
    {
      "cell_type": "markdown",
      "metadata": {
        "id": "W1s_MLEnfeNW"
      },
      "source": [
        "### Read V-plots"
      ]
    },
    {
      "cell_type": "code",
      "metadata": {
        "id": "YZKSTzZ0V3gR",
        "colab": {
          "base_uri": "https://localhost:8080/"
        },
        "outputId": "ca70df13-b87d-4d61-fad7-04af0b0e36f3"
      },
      "source": [
        "x <- read_vplot(gr, filenames = local_bam_files, genome = BSgenome.Mmusculus.UCSC.mm10, bin_size = ARGS[['bin_size']], fragment_size_range = c(0, ARGS[['fragment_size_range_max']]), fragment_size_interval = ARGS[['fragment_size_interval']])"
      ],
      "execution_count": 87,
      "outputs": [
        {
          "output_type": "stream",
          "name": "stderr",
          "text": [
            "read_bam | reading ./dsouz072/datasets/dataset=Etv2_PioneerFactor_Manuscript/Brg1-floxed_D4.bam\n",
            "\n",
            "read_bam | reading ./dsouz072/datasets/dataset=Etv2_PioneerFactor_Manuscript/Brg1-floxed_4OHT_D4.bam\n",
            "\n"
          ]
        }
      ]
    },
    {
      "cell_type": "markdown",
      "metadata": {
        "id": "h6lhLCtYfhqw"
      },
      "source": [
        "### Get the latent representations of the V-plots"
      ]
    },
    {
      "cell_type": "code",
      "metadata": {
        "id": "qnCyKD4iwpFG",
        "colab": {
          "base_uri": "https://localhost:8080/"
        },
        "outputId": "45017ce2-0661-4d1a-a4e3-bfeddf6846de"
      },
      "source": [
        "x <- model %>% predict(x, batch_size = ARGS[['vae_batch_size']], vplots = FALSE)"
      ],
      "execution_count": 88,
      "outputs": [
        {
          "output_type": "stream",
          "name": "stderr",
          "text": [
            "dimnames(.) <- NULL:  translated to \n",
            "dimnames(.) <- list(NULL,NULL)  <==>  unname(.)\n",
            "\n"
          ]
        }
      ]
    },
    {
      "cell_type": "markdown",
      "metadata": {
        "id": "zTZFIssWfoaQ"
      },
      "source": [
        "### Testing whether the V-plots between two conditions are significantly different"
      ]
    },
    {
      "cell_type": "code",
      "metadata": {
        "id": "gaKq3d-5MDOm",
        "colab": {
          "base_uri": "https://localhost:8080/"
        },
        "outputId": "94ffc785-4a57-450e-c336-84a5a6e20014"
      },
      "source": [
        "res <- model %>% results(x, type = 'vplots', contrast = c('batch', 'EB_Dox_D4', 'EB_Brg1_KO_Dox_D4'), batch_size = 64L)"
      ],
      "execution_count": 89,
      "outputs": [
        {
          "output_type": "stream",
          "name": "stderr",
          "text": [
            "dimnames(.) <- NULL:  translated to \n",
            "dimnames(.) <- list(NULL,NULL)  <==>  unname(.)\n",
            "\n",
            "results_vplots | batch=    10/   219\n",
            "\n",
            "results_vplots | batch=    20/   219\n",
            "\n",
            "results_vplots | batch=    30/   219\n",
            "\n",
            "results_vplots | batch=    40/   219\n",
            "\n",
            "results_vplots | batch=    50/   219\n",
            "\n",
            "results_vplots | batch=    60/   219\n",
            "\n",
            "results_vplots | batch=    70/   219\n",
            "\n",
            "results_vplots | batch=    80/   219\n",
            "\n",
            "results_vplots | batch=    90/   219\n",
            "\n",
            "results_vplots | batch=   100/   219\n",
            "\n",
            "results_vplots | batch=   110/   219\n",
            "\n",
            "results_vplots | batch=   120/   219\n",
            "\n",
            "results_vplots | batch=   130/   219\n",
            "\n",
            "results_vplots | batch=   140/   219\n",
            "\n",
            "results_vplots | batch=   150/   219\n",
            "\n",
            "results_vplots | batch=   160/   219\n",
            "\n",
            "results_vplots | batch=   170/   219\n",
            "\n",
            "results_vplots | batch=   180/   219\n",
            "\n",
            "results_vplots | batch=   190/   219\n",
            "\n",
            "results_vplots | batch=   200/   219\n",
            "\n",
            "results_vplots | batch=   210/   219\n",
            "\n"
          ]
        }
      ]
    },
    {
      "cell_type": "markdown",
      "metadata": {
        "id": "LV2m0krn2RJ3"
      },
      "source": [
        "### Plot the V-plots"
      ]
    },
    {
      "cell_type": "code",
      "metadata": {
        "id": "r6iGAEjq16Zs"
      },
      "source": [
        "xm <- x[rowData(x)$id %in% res$id[res$pvalue_z < 0.05]]"
      ],
      "execution_count": 90,
      "outputs": []
    },
    {
      "cell_type": "code",
      "metadata": {
        "colab": {
          "base_uri": "https://localhost:8080/"
        },
        "id": "A-cIpgQoxv3y",
        "outputId": "1136cd07-000f-4157-a19e-e8ef57010c3c"
      },
      "source": [
        "sprintf('number of significantly different V-plots: %d', length(xm)) %>% message()"
      ],
      "execution_count": 91,
      "outputs": [
        {
          "output_type": "stream",
          "name": "stderr",
          "text": [
            "number of significantly different V-plots: 2230\n",
            "\n"
          ]
        }
      ]
    },
    {
      "cell_type": "code",
      "metadata": {
        "colab": {
          "base_uri": "https://localhost:8080/",
          "height": 419
        },
        "id": "C6QXMvEYx5qx",
        "outputId": "0392366d-2935-450c-bc18-42f9049b0e88"
      },
      "source": [
        "options(repr.plot.width = 10, repr.plot.height = 5)\n",
        "par(mfrow = c(1, 2))\n",
        "for (h in x@samples){\n",
        "  i <- rowData(xm)$batch == h\n",
        "  vplot(xm[i], 'counts', main = h)\n",
        "}"
      ],
      "execution_count": 95,
      "outputs": [
        {
          "output_type": "stream",
          "name": "stderr",
          "text": [
            "dimnames(.) <- NULL:  translated to \n",
            "dimnames(.) <- list(NULL,NULL)  <==>  unname(.)\n",
            "\n",
            "dimnames(.) <- NULL:  translated to \n",
            "dimnames(.) <- list(NULL,NULL)  <==>  unname(.)\n",
            "\n"
          ]
        },
        {
          "output_type": "display_data",
          "data": {
            "image/png": "[encoded data removed]",
            "text/plain": [
              "Plot with title “EB_Brg1_KO_Dox_D4”"
            ]
          },
          "metadata": {
            "image/png": {
              "width": 600,
              "height": 300
            }
          }
        }
      ]
    },
    {
      "cell_type": "markdown",
      "metadata": {
        "id": "wjg4jMFjHz_P"
      },
      "source": [
        "## SessionInfo"
      ]
    },
    {
      "cell_type": "code",
      "metadata": {
        "id": "1O6H0QYdIBSN",
        "colab": {
          "base_uri": "https://localhost:8080/",
          "height": 1000
        },
        "outputId": "68f4bf9e-beb2-4b6c-8185-d898149c0fb5"
      },
      "source": [
        "sessionInfo()"
      ],
      "execution_count": 96,
      "outputs": [
        {
          "output_type": "display_data",
          "data": {
            "text/plain": [
              "R version 4.1.1 (2021-08-10)\n",
              "Platform: x86_64-pc-linux-gnu (64-bit)\n",
              "Running under: Ubuntu 18.04.5 LTS\n",
              "\n",
              "Matrix products: default\n",
              "BLAS:   /usr/lib/x86_64-linux-gnu/openblas/libblas.so.3\n",
              "LAPACK: /usr/lib/x86_64-linux-gnu/libopenblasp-r0.2.20.so\n",
              "\n",
              "locale:\n",
              " [1] LC_CTYPE=en_US.UTF-8       LC_NUMERIC=C              \n",
              " [3] LC_TIME=en_US.UTF-8        LC_COLLATE=en_US.UTF-8    \n",
              " [5] LC_MONETARY=en_US.UTF-8    LC_MESSAGES=en_US.UTF-8   \n",
              " [7] LC_PAPER=en_US.UTF-8       LC_NAME=C                 \n",
              " [9] LC_ADDRESS=C               LC_TELEPHONE=C            \n",
              "[11] LC_MEASUREMENT=en_US.UTF-8 LC_IDENTIFICATION=C       \n",
              "\n",
              "attached base packages:\n",
              "[1] parallel  stats4    stats     graphics  grDevices utils     datasets \n",
              "[8] methods   base     \n",
              "\n",
              "other attached packages:\n",
              " [1] chromVARmotifs_0.2.0               motifmatchr_1.14.0                \n",
              " [3] dplyr_1.0.7                        BSgenome.Mmusculus.UCSC.mm10_1.4.0\n",
              " [5] BSgenome_1.60.0                    rtracklayer_1.52.1                \n",
              " [7] Biostrings_2.60.2                  XVector_0.32.0                    \n",
              " [9] seatac_0.3.32                      SummarizedExperiment_1.22.0       \n",
              "[11] Biobase_2.52.0                     MatrixGenerics_1.4.3              \n",
              "[13] matrixStats_0.61.0                 GenomicRanges_1.44.0              \n",
              "[15] GenomeInfoDb_1.28.4                IRanges_2.26.0                    \n",
              "[17] S4Vectors_0.30.2                   BiocGenerics_0.38.0               \n",
              "[19] tfdatasets_2.6.0                   tfprobability_0.12.0.0            \n",
              "[21] tensorflow_2.6.0                   devtools_2.4.2                    \n",
              "[23] usethis_2.0.1                     \n",
              "\n",
              "loaded via a namespace (and not attached):\n",
              "  [1] colorspace_2.0-2            rjson_0.2.20               \n",
              "  [3] ellipsis_0.3.2              rprojroot_2.0.2            \n",
              "  [5] IRdisplay_1.0               base64enc_0.1-3            \n",
              "  [7] fs_1.5.0                    remotes_2.4.0              \n",
              "  [9] bit64_4.0.5                 AnnotationDbi_1.54.1       \n",
              " [11] fansi_0.5.0                 R.methodsS3_1.8.1          \n",
              " [13] cachem_1.0.6                pkgload_1.2.2              \n",
              " [15] zeallot_0.1.0               IRkernel_1.2               \n",
              " [17] jsonlite_1.7.2              Rsamtools_2.8.0            \n",
              " [19] seqLogo_1.58.0              annotate_1.70.0            \n",
              " [21] GO.db_3.13.0                R.oo_1.24.0                \n",
              " [23] png_0.1-7                   tfruns_1.5.0               \n",
              " [25] httr_1.4.2                  readr_2.0.2                \n",
              " [27] compiler_4.1.1              backports_1.2.1            \n",
              " [29] assertthat_0.2.1            Matrix_1.3-4               \n",
              " [31] fastmap_1.1.0               cli_3.0.1                  \n",
              " [33] htmltools_0.5.2             prettyunits_1.1.1          \n",
              " [35] tools_4.1.1                 gtable_0.3.0               \n",
              " [37] glue_1.4.2                  TFMPvalue_0.0.8            \n",
              " [39] GenomeInfoDbData_1.2.6      reshape2_1.4.4             \n",
              " [41] rappdirs_0.3.3              tfautograph_0.3.2          \n",
              " [43] Rcpp_1.0.7                  vctrs_0.3.8                \n",
              " [45] CNEr_1.28.0                 stringr_1.4.0              \n",
              " [47] ps_1.6.0                    testthat_3.0.4             \n",
              " [49] lifecycle_1.0.1             restfulr_0.0.13            \n",
              " [51] poweRlaw_0.70.6             gtools_3.9.2               \n",
              " [53] XML_3.99-0.8                zlibbioc_1.38.0            \n",
              " [55] scales_1.1.1                hms_1.1.1                  \n",
              " [57] yaml_2.2.1                  curl_4.3.2                 \n",
              " [59] memoise_2.0.0               reticulate_1.22            \n",
              " [61] ggplot2_3.3.5               keras_2.6.1                \n",
              " [63] stringi_1.7.5               RSQLite_2.2.8              \n",
              " [65] BiocIO_1.2.0                desc_1.3.0                 \n",
              " [67] caTools_1.18.2              pkgbuild_1.2.0             \n",
              " [69] BiocParallel_1.26.2         repr_1.1.3                 \n",
              " [71] rlang_0.4.11                pkgconfig_2.0.3            \n",
              " [73] bitops_1.0-7                pracma_2.3.3               \n",
              " [75] evaluate_0.14               lattice_0.20-45            \n",
              " [77] purrr_0.3.4                 GenomicAlignments_1.28.0   \n",
              " [79] bit_4.0.4                   processx_3.5.2             \n",
              " [81] tidyselect_1.1.1            here_1.0.1                 \n",
              " [83] plyr_1.8.6                  magrittr_2.0.1             \n",
              " [85] R6_2.5.1                    gplots_3.1.1               \n",
              " [87] generics_0.1.0              pbdZMQ_0.3-5               \n",
              " [89] DelayedArray_0.18.0         DBI_1.1.1                  \n",
              " [91] pillar_1.6.3                whisker_0.4                \n",
              " [93] withr_2.4.2                 KEGGREST_1.32.0            \n",
              " [95] abind_1.4-5                 RCurl_1.98-1.5             \n",
              " [97] tibble_3.1.5                crayon_1.4.1               \n",
              " [99] uuid_0.1-4                  KernSmooth_2.23-20         \n",
              "[101] utf8_1.2.2                  tzdb_0.1.2                 \n",
              "[103] TFBSTools_1.30.0            grid_4.1.1                 \n",
              "[105] blob_1.2.2                  callr_3.7.0                \n",
              "[107] digest_0.6.28               xtable_1.8-4               \n",
              "[109] R.utils_2.11.0              munsell_0.5.0              \n",
              "[111] DirichletMultinomial_1.34.0 sessioninfo_1.1.1          "
            ]
          },
          "metadata": {}
        }
      ]
    },
    {
      "cell_type": "code",
      "metadata": {
        "id": "-4pQeVrGHxXr",
        "colab": {
          "base_uri": "https://localhost:8080/",
          "height": 34
        },
        "outputId": "147ca9da-2cbb-44ef-f537-fec7c0ec0f8b"
      },
      "source": [
        "Sys.time() - start_time"
      ],
      "execution_count": 97,
      "outputs": [
        {
          "output_type": "display_data",
          "data": {
            "text/plain": [
              "Time difference of 1.05317 hours"
            ]
          },
          "metadata": {}
        }
      ]
    }
  ]
}