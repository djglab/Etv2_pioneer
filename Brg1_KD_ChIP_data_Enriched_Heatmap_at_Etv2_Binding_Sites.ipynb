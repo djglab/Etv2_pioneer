{
  "nbformat": 4,
  "nbformat_minor": 0,
  "metadata": {
    "kernelspec": {
      "display_name": "R",
      "language": "R",
      "name": "ir"
    },
    "language_info": {
      "codemirror_mode": "r",
      "file_extension": ".r",
      "mimetype": "text/x-r-source",
      "name": "R",
      "pygments_lexer": "r",
      "version": "3.3.1"
    },
    "colab": {
      "name": "Brg1_KD_ChIP_data_Enriched_Heatmap_at_Etv2_Binding_Sites.ipynb",
      "provenance": [],
      "collapsed_sections": [],
      "machine_shape": "hm",
      "include_colab_link": true
    }
  },
  "cells": [
    {
      "cell_type": "markdown",
      "metadata": {
        "id": "view-in-github",
        "colab_type": "text"
      },
      "source": [
        "<a href=\"https://colab.research.google.com/github/gongx030/Etv2_pioneer/blob/master/Brg1_KD_ChIP_data_Enriched_Heatmap_at_Etv2_Binding_Sites.ipynb\" target=\"_parent\"><img src=\"https://colab.research.google.com/assets/colab-badge.svg\" alt=\"Open In Colab\"/></a>"
      ]
    },
    {
      "cell_type": "markdown",
      "metadata": {
        "id": "_5SKMSFGzknU"
      },
      "source": [
        "By Nikita Dsouza"
      ]
    },
    {
      "cell_type": "markdown",
      "metadata": {
        "id": "dBYaHiQXzpES"
      },
      "source": [
        "The goal of this notebook is to look at the BRG1 Knocked Down ChIP seq data's enrichment at canonical Etv2 binding sites."
      ]
    },
    {
      "cell_type": "code",
      "metadata": {
        "id": "6OhqEEeZHroa"
      },
      "source": [
        "start_time0 <- Sys.time()\n",
        "options(max.print=1000)"
      ],
      "execution_count": 1,
      "outputs": []
    },
    {
      "cell_type": "markdown",
      "metadata": {
        "id": "obcf6pAcw6TQ"
      },
      "source": [
        "### Install external packages"
      ]
    },
    {
      "cell_type": "code",
      "metadata": {
        "id": "99vS8MZUxApi",
        "colab": {
          "base_uri": "https://localhost:8080/",
          "height": 156
        },
        "outputId": "6578b661-4835-4409-ec3f-79b630382cfa"
      },
      "source": [
        "system('apt-get -q install libgsl-dev', intern = TRUE)"
      ],
      "execution_count": 2,
      "outputs": [
        {
          "output_type": "display_data",
          "data": {
            "text/plain": [
              " [1] \"Reading package lists...\"                                                                                                                                                                                                                                                                                                                                                                                                                                                                                                                                                                                                                                      \n",
              " [2] \"Building dependency tree...\"                                                                                                                                                                                                                                                                                                                                                                                                                                                                                                                                                                                                                                   \n",
              " [3] \"Reading state information...\"                                                                                                                                                                                                                                                                                                                                                                                                                                                                                                                                                                                                                                  \n",
              " [4] \"The following additional packages will be installed:\"                                                                                                                                                                                                                                                                                                                                                                                                                                                                                                                                                                                                          \n",
              " [5] \"  libgsl23 libgslcblas0\"                                                                                                                                                                                                                                                                                                                                                                                                                                                                                                                                                                                                                                       \n",
              " [6] \"Suggested packages:\"                                                                                                                                                                                                                                                                                                                                                                                                                                                                                                                                                                                                                                           \n",
              " [7] \"  gsl-ref-psdoc | gsl-doc-pdf | gsl-doc-info | gsl-ref-html\"                                                                                                                                                                                                                                                                                                                                                                                                                                                                                                                                                                                                   \n",
              " [8] \"The following NEW packages will be installed:\"                                                                                                                                                                                                                                                                                                                                                                                                                                                                                                                                                                                                                 \n",
              " [9] \"  libgsl-dev libgsl23 libgslcblas0\"                                                                                                                                                                                                                                                                                                                                                                                                                                                                                                                                                                                                                            \n",
              "[10] \"0 upgraded, 3 newly installed, 0 to remove and 37 not upgraded.\"                                                                                                                                                                                                                                                                                                                                                                                                                                                                                                                                                                                               \n",
              "[11] \"Need to get 1,926 kB of archives.\"                                                                                                                                                                                                                                                                                                                                                                                                                                                                                                                                                                                                                             \n",
              "[12] \"After this operation, 9,474 kB of additional disk space will be used.\"                                                                                                                                                                                                                                                                                                                                                                                                                                                                                                                                                                                         \n",
              "[13] \"Get:1 http://archive.ubuntu.com/ubuntu bionic/universe amd64 libgslcblas0 amd64 2.4+dfsg-6 [79.7 kB]\"                                                                                                                                                                                                                                                                                                                                                                                                                                                                                                                                                          \n",
              "[14] \"Get:2 http://archive.ubuntu.com/ubuntu bionic/universe amd64 libgsl23 amd64 2.4+dfsg-6 [823 kB]\"                                                                                                                                                                                                                                                                                                                                                                                                                                                                                                                                                               \n",
              "[15] \"Get:3 http://archive.ubuntu.com/ubuntu bionic/universe amd64 libgsl-dev amd64 2.4+dfsg-6 [1,023 kB]\"                                                                                                                                                                                                                                                                                                                                                                                                                                                                                                                                                           \n",
              "[16] \"Fetched 1,926 kB in 0s (13.8 MB/s)\"                                                                                                                                                                                                                                                                                                                                                                                                                                                                                                                                                                                                                            \n",
              "[17] \"Selecting previously unselected package libgslcblas0:amd64.\\r\"                                                                                                                                                                                                                                                                                                                                                                                                                                                                                                                                                                                                 \n",
              "[18] \"(Reading database ... \\r(Reading database ... 5%\\r(Reading database ... 10%\\r(Reading database ... 15%\\r(Reading database ... 20%\\r(Reading database ... 25%\\r(Reading database ... 30%\\r(Reading database ... 35%\\r(Reading database ... 40%\\r(Reading database ... 45%\\r(Reading database ... 50%\\r(Reading database ... 55%\\r(Reading database ... 60%\\r(Reading database ... 65%\\r(Reading database ... 70%\\r(Reading database ... 75%\\r(Reading database ... 80%\\r(Reading database ... 85%\\r(Reading database ... 90%\\r(Reading database ... 95%\\r(Reading database ... 100%\\r(Reading database ... 155047 files and directories currently installed.)\\r\"\n",
              "[19] \"Preparing to unpack .../libgslcblas0_2.4+dfsg-6_amd64.deb ...\\r\"                                                                                                                                                                                                                                                                                                                                                                                                                                                                                                                                                                                               \n",
              "[20] \"Unpacking libgslcblas0:amd64 (2.4+dfsg-6) ...\\r\"                                                                                                                                                                                                                                                                                                                                                                                                                                                                                                                                                                                                               \n",
              "[21] \"Selecting previously unselected package libgsl23:amd64.\\r\"                                                                                                                                                                                                                                                                                                                                                                                                                                                                                                                                                                                                     \n",
              "[22] \"Preparing to unpack .../libgsl23_2.4+dfsg-6_amd64.deb ...\\r\"                                                                                                                                                                                                                                                                                                                                                                                                                                                                                                                                                                                                   \n",
              "[23] \"Unpacking libgsl23:amd64 (2.4+dfsg-6) ...\\r\"                                                                                                                                                                                                                                                                                                                                                                                                                                                                                                                                                                                                                   \n",
              "[24] \"Selecting previously unselected package libgsl-dev.\\r\"                                                                                                                                                                                                                                                                                                                                                                                                                                                                                                                                                                                                         \n",
              "[25] \"Preparing to unpack .../libgsl-dev_2.4+dfsg-6_amd64.deb ...\\r\"                                                                                                                                                                                                                                                                                                                                                                                                                                                                                                                                                                                                 \n",
              "[26] \"Unpacking libgsl-dev (2.4+dfsg-6) ...\\r\"                                                                                                                                                                                                                                                                                                                                                                                                                                                                                                                                                                                                                       \n",
              "[27] \"Setting up libgslcblas0:amd64 (2.4+dfsg-6) ...\\r\"                                                                                                                                                                                                                                                                                                                                                                                                                                                                                                                                                                                                              \n",
              "[28] \"Setting up libgsl23:amd64 (2.4+dfsg-6) ...\\r\"                                                                                                                                                                                                                                                                                                                                                                                                                                                                                                                                                                                                                  \n",
              "[29] \"Setting up libgsl-dev (2.4+dfsg-6) ...\\r\"                                                                                                                                                                                                                                                                                                                                                                                                                                                                                                                                                                                                                      \n",
              "[30] \"Processing triggers for man-db (2.8.3-2ubuntu0.1) ...\\r\"                                                                                                                                                                                                                                                                                                                                                                                                                                                                                                                                                                                                       \n",
              "[31] \"Processing triggers for libc-bin (2.27-3ubuntu1.3) ...\\r\"                                                                                                                                                                                                                                                                                                                                                                                                                                                                                                                                                                                                      \n",
              "[32] \"/sbin/ldconfig.real: /usr/local/lib/python3.7/dist-packages/ideep4py/lib/libmkldnn.so.0 is not a symbolic link\\r\"                                                                                                                                                                                                                                                                                                                                                                                                                                                                                                                                              \n",
              "[33] \"\\r\"                                                                                                                                                                                                                                                                                                                                                                                                                                                                                                                                                                                                                                                            "
            ],
            "text/latex": "\\begin{enumerate*}\n\\item 'Reading package lists...'\n\\item 'Building dependency tree...'\n\\item 'Reading state information...'\n\\item 'The following additional packages will be installed:'\n\\item '  libgsl23 libgslcblas0'\n\\item 'Suggested packages:'\n\\item '  gsl-ref-psdoc \\textbar{} gsl-doc-pdf \\textbar{} gsl-doc-info \\textbar{} gsl-ref-html'\n\\item 'The following NEW packages will be installed:'\n\\item '  libgsl-dev libgsl23 libgslcblas0'\n\\item '0 upgraded, 3 newly installed, 0 to remove and 37 not upgraded.'\n\\item 'Need to get 1,926 kB of archives.'\n\\item 'After this operation, 9,474 kB of additional disk space will be used.'\n\\item 'Get:1 http://archive.ubuntu.com/ubuntu bionic/universe amd64 libgslcblas0 amd64 2.4+dfsg-6 {[}79.7 kB{]}'\n\\item 'Get:2 http://archive.ubuntu.com/ubuntu bionic/universe amd64 libgsl23 amd64 2.4+dfsg-6 {[}823 kB{]}'\n\\item 'Get:3 http://archive.ubuntu.com/ubuntu bionic/universe amd64 libgsl-dev amd64 2.4+dfsg-6 {[}1,023 kB{]}'\n\\item 'Fetched 1,926 kB in 0s (13.8 MB/s)'\n\\item 'Selecting previously unselected package libgslcblas0:amd64.\\textbackslash{}r'\n\\item '(Reading database ... \\textbackslash{}r(Reading database ... 5\\%\\textbackslash{}r(Reading database ... 10\\%\\textbackslash{}r(Reading database ... 15\\%\\textbackslash{}r(Reading database ... 20\\%\\textbackslash{}r(Reading database ... 25\\%\\textbackslash{}r(Reading database ... 30\\%\\textbackslash{}r(Reading database ... 35\\%\\textbackslash{}r(Reading database ... 40\\%\\textbackslash{}r(Reading database ... 45\\%\\textbackslash{}r(Reading database ... 50\\%\\textbackslash{}r(Reading database ... 55\\%\\textbackslash{}r(Reading database ... 60\\%\\textbackslash{}r(Reading database ... 65\\%\\textbackslash{}r(Reading database ... 70\\%\\textbackslash{}r(Reading database ... 75\\%\\textbackslash{}r(Reading database ... 80\\%\\textbackslash{}r(Reading database ... 85\\%\\textbackslash{}r(Reading database ... 90\\%\\textbackslash{}r(Reading database ... 95\\%\\textbackslash{}r(Reading database ... 100\\%\\textbackslash{}r(Reading database ... 155047 files and directories currently installed.)\\textbackslash{}r'\n\\item 'Preparing to unpack .../libgslcblas0\\_2.4+dfsg-6\\_amd64.deb ...\\textbackslash{}r'\n\\item 'Unpacking libgslcblas0:amd64 (2.4+dfsg-6) ...\\textbackslash{}r'\n\\item 'Selecting previously unselected package libgsl23:amd64.\\textbackslash{}r'\n\\item 'Preparing to unpack .../libgsl23\\_2.4+dfsg-6\\_amd64.deb ...\\textbackslash{}r'\n\\item 'Unpacking libgsl23:amd64 (2.4+dfsg-6) ...\\textbackslash{}r'\n\\item 'Selecting previously unselected package libgsl-dev.\\textbackslash{}r'\n\\item 'Preparing to unpack .../libgsl-dev\\_2.4+dfsg-6\\_amd64.deb ...\\textbackslash{}r'\n\\item 'Unpacking libgsl-dev (2.4+dfsg-6) ...\\textbackslash{}r'\n\\item 'Setting up libgslcblas0:amd64 (2.4+dfsg-6) ...\\textbackslash{}r'\n\\item 'Setting up libgsl23:amd64 (2.4+dfsg-6) ...\\textbackslash{}r'\n\\item 'Setting up libgsl-dev (2.4+dfsg-6) ...\\textbackslash{}r'\n\\item 'Processing triggers for man-db (2.8.3-2ubuntu0.1) ...\\textbackslash{}r'\n\\item 'Processing triggers for libc-bin (2.27-3ubuntu1.3) ...\\textbackslash{}r'\n\\item '/sbin/ldconfig.real: /usr/local/lib/python3.7/dist-packages/ideep4py/lib/libmkldnn.so.0 is not a symbolic link\\textbackslash{}r'\n\\item '\\textbackslash{}r'\n\\end{enumerate*}\n",
            "text/markdown": "1. 'Reading package lists...'\n2. 'Building dependency tree...'\n3. 'Reading state information...'\n4. 'The following additional packages will be installed:'\n5. <span style=white-space:pre-wrap>'  libgsl23 libgslcblas0'</span>\n6. 'Suggested packages:'\n7. <span style=white-space:pre-wrap>'  gsl-ref-psdoc | gsl-doc-pdf | gsl-doc-info | gsl-ref-html'</span>\n8. 'The following NEW packages will be installed:'\n9. <span style=white-space:pre-wrap>'  libgsl-dev libgsl23 libgslcblas0'</span>\n10. '0 upgraded, 3 newly installed, 0 to remove and 37 not upgraded.'\n11. 'Need to get 1,926 kB of archives.'\n12. 'After this operation, 9,474 kB of additional disk space will be used.'\n13. 'Get:1 http://archive.ubuntu.com/ubuntu bionic/universe amd64 libgslcblas0 amd64 2.4+dfsg-6 [79.7 kB]'\n14. 'Get:2 http://archive.ubuntu.com/ubuntu bionic/universe amd64 libgsl23 amd64 2.4+dfsg-6 [823 kB]'\n15. 'Get:3 http://archive.ubuntu.com/ubuntu bionic/universe amd64 libgsl-dev amd64 2.4+dfsg-6 [1,023 kB]'\n16. 'Fetched 1,926 kB in 0s (13.8 MB/s)'\n17. 'Selecting previously unselected package libgslcblas0:amd64.\\r'\n18. '(Reading database ... \\r(Reading database ... 5%\\r(Reading database ... 10%\\r(Reading database ... 15%\\r(Reading database ... 20%\\r(Reading database ... 25%\\r(Reading database ... 30%\\r(Reading database ... 35%\\r(Reading database ... 40%\\r(Reading database ... 45%\\r(Reading database ... 50%\\r(Reading database ... 55%\\r(Reading database ... 60%\\r(Reading database ... 65%\\r(Reading database ... 70%\\r(Reading database ... 75%\\r(Reading database ... 80%\\r(Reading database ... 85%\\r(Reading database ... 90%\\r(Reading database ... 95%\\r(Reading database ... 100%\\r(Reading database ... 155047 files and directories currently installed.)\\r'\n19. 'Preparing to unpack .../libgslcblas0_2.4+dfsg-6_amd64.deb ...\\r'\n20. 'Unpacking libgslcblas0:amd64 (2.4+dfsg-6) ...\\r'\n21. 'Selecting previously unselected package libgsl23:amd64.\\r'\n22. 'Preparing to unpack .../libgsl23_2.4+dfsg-6_amd64.deb ...\\r'\n23. 'Unpacking libgsl23:amd64 (2.4+dfsg-6) ...\\r'\n24. 'Selecting previously unselected package libgsl-dev.\\r'\n25. 'Preparing to unpack .../libgsl-dev_2.4+dfsg-6_amd64.deb ...\\r'\n26. 'Unpacking libgsl-dev (2.4+dfsg-6) ...\\r'\n27. 'Setting up libgslcblas0:amd64 (2.4+dfsg-6) ...\\r'\n28. 'Setting up libgsl23:amd64 (2.4+dfsg-6) ...\\r'\n29. 'Setting up libgsl-dev (2.4+dfsg-6) ...\\r'\n30. 'Processing triggers for man-db (2.8.3-2ubuntu0.1) ...\\r'\n31. 'Processing triggers for libc-bin (2.27-3ubuntu1.3) ...\\r'\n32. '/sbin/ldconfig.real: /usr/local/lib/python3.7/dist-packages/ideep4py/lib/libmkldnn.so.0 is not a symbolic link\\r'\n33. '\\r'\n\n\n",
            "text/html": [
              "<style>\n",
              ".list-inline {list-style: none; margin:0; padding: 0}\n",
              ".list-inline>li {display: inline-block}\n",
              ".list-inline>li:not(:last-child)::after {content: \"\\00b7\"; padding: 0 .5ex}\n",
              "</style>\n",
              "<ol class=list-inline><li>'Reading package lists...'</li><li>'Building dependency tree...'</li><li>'Reading state information...'</li><li>'The following additional packages will be installed:'</li><li><span style=white-space:pre-wrap>'  libgsl23 libgslcblas0'</span></li><li>'Suggested packages:'</li><li><span style=white-space:pre-wrap>'  gsl-ref-psdoc | gsl-doc-pdf | gsl-doc-info | gsl-ref-html'</span></li><li>'The following NEW packages will be installed:'</li><li><span style=white-space:pre-wrap>'  libgsl-dev libgsl23 libgslcblas0'</span></li><li>'0 upgraded, 3 newly installed, 0 to remove and 37 not upgraded.'</li><li>'Need to get 1,926 kB of archives.'</li><li>'After this operation, 9,474 kB of additional disk space will be used.'</li><li>'Get:1 http://archive.ubuntu.com/ubuntu bionic/universe amd64 libgslcblas0 amd64 2.4+dfsg-6 [79.7 kB]'</li><li>'Get:2 http://archive.ubuntu.com/ubuntu bionic/universe amd64 libgsl23 amd64 2.4+dfsg-6 [823 kB]'</li><li>'Get:3 http://archive.ubuntu.com/ubuntu bionic/universe amd64 libgsl-dev amd64 2.4+dfsg-6 [1,023 kB]'</li><li>'Fetched 1,926 kB in 0s (13.8 MB/s)'</li><li>'Selecting previously unselected package libgslcblas0:amd64.\\r'</li><li>'(Reading database ... \\r(Reading database ... 5%\\r(Reading database ... 10%\\r(Reading database ... 15%\\r(Reading database ... 20%\\r(Reading database ... 25%\\r(Reading database ... 30%\\r(Reading database ... 35%\\r(Reading database ... 40%\\r(Reading database ... 45%\\r(Reading database ... 50%\\r(Reading database ... 55%\\r(Reading database ... 60%\\r(Reading database ... 65%\\r(Reading database ... 70%\\r(Reading database ... 75%\\r(Reading database ... 80%\\r(Reading database ... 85%\\r(Reading database ... 90%\\r(Reading database ... 95%\\r(Reading database ... 100%\\r(Reading database ... 155047 files and directories currently installed.)\\r'</li><li>'Preparing to unpack .../libgslcblas0_2.4+dfsg-6_amd64.deb ...\\r'</li><li>'Unpacking libgslcblas0:amd64 (2.4+dfsg-6) ...\\r'</li><li>'Selecting previously unselected package libgsl23:amd64.\\r'</li><li>'Preparing to unpack .../libgsl23_2.4+dfsg-6_amd64.deb ...\\r'</li><li>'Unpacking libgsl23:amd64 (2.4+dfsg-6) ...\\r'</li><li>'Selecting previously unselected package libgsl-dev.\\r'</li><li>'Preparing to unpack .../libgsl-dev_2.4+dfsg-6_amd64.deb ...\\r'</li><li>'Unpacking libgsl-dev (2.4+dfsg-6) ...\\r'</li><li>'Setting up libgslcblas0:amd64 (2.4+dfsg-6) ...\\r'</li><li>'Setting up libgsl23:amd64 (2.4+dfsg-6) ...\\r'</li><li>'Setting up libgsl-dev (2.4+dfsg-6) ...\\r'</li><li>'Processing triggers for man-db (2.8.3-2ubuntu0.1) ...\\r'</li><li>'Processing triggers for libc-bin (2.27-3ubuntu1.3) ...\\r'</li><li>'/sbin/ldconfig.real: /usr/local/lib/python3.7/dist-packages/ideep4py/lib/libmkldnn.so.0 is not a symbolic link\\r'</li><li>'\\r'</li></ol>\n"
            ]
          },
          "metadata": {}
        }
      ]
    },
    {
      "cell_type": "code",
      "metadata": {
        "id": "HgPXAFx1xZHE",
        "colab": {
          "base_uri": "https://localhost:8080/",
          "height": 208
        },
        "outputId": "cfe69b44-714e-4101-a653-4456628dafd4"
      },
      "source": [
        "system('apt-get install libcairo2-dev', intern = TRUE) # for Cairo package that is required by ComplexHeatmap package"
      ],
      "execution_count": 3,
      "outputs": [
        {
          "output_type": "display_data",
          "data": {
            "text/plain": [
              " [1] \"Reading package lists...\"                                                                                                                                                                                                                                                                                                                                                                                                                                                                                                                                                                                                                                      \n",
              " [2] \"Building dependency tree...\"                                                                                                                                                                                                                                                                                                                                                                                                                                                                                                                                                                                                                                   \n",
              " [3] \"Reading state information...\"                                                                                                                                                                                                                                                                                                                                                                                                                                                                                                                                                                                                                                  \n",
              " [4] \"The following additional packages will be installed:\"                                                                                                                                                                                                                                                                                                                                                                                                                                                                                                                                                                                                          \n",
              " [5] \"  libcairo-script-interpreter2 libpixman-1-dev libxcb-shm0-dev\"                                                                                                                                                                                                                                                                                                                                                                                                                                                                                                                                                                                                \n",
              " [6] \"Suggested packages:\"                                                                                                                                                                                                                                                                                                                                                                                                                                                                                                                                                                                                                                           \n",
              " [7] \"  libcairo2-doc\"                                                                                                                                                                                                                                                                                                                                                                                                                                                                                                                                                                                                                                               \n",
              " [8] \"The following NEW packages will be installed:\"                                                                                                                                                                                                                                                                                                                                                                                                                                                                                                                                                                                                                 \n",
              " [9] \"  libcairo-script-interpreter2 libcairo2-dev libpixman-1-dev libxcb-shm0-dev\"                                                                                                                                                                                                                                                                                                                                                                                                                                                                                                                                                                                  \n",
              "[10] \"0 upgraded, 4 newly installed, 0 to remove and 37 not upgraded.\"                                                                                                                                                                                                                                                                                                                                                                                                                                                                                                                                                                                               \n",
              "[11] \"Need to get 930 kB of archives.\"                                                                                                                                                                                                                                                                                                                                                                                                                                                                                                                                                                                                                               \n",
              "[12] \"After this operation, 3,986 kB of additional disk space will be used.\"                                                                                                                                                                                                                                                                                                                                                                                                                                                                                                                                                                                         \n",
              "[13] \"Get:1 http://archive.ubuntu.com/ubuntu bionic-updates/main amd64 libcairo-script-interpreter2 amd64 1.15.10-2ubuntu0.1 [53.5 kB]\"                                                                                                                                                                                                                                                                                                                                                                                                                                                                                                                              \n",
              "[14] \"Get:2 http://archive.ubuntu.com/ubuntu bionic/main amd64 libpixman-1-dev amd64 0.34.0-2 [244 kB]\"                                                                                                                                                                                                                                                                                                                                                                                                                                                                                                                                                              \n",
              "[15] \"Get:3 http://archive.ubuntu.com/ubuntu bionic-updates/main amd64 libxcb-shm0-dev amd64 1.13-2~ubuntu18.04 [6,684 B]\"                                                                                                                                                                                                                                                                                                                                                                                                                                                                                                                                           \n",
              "[16] \"Get:4 http://archive.ubuntu.com/ubuntu bionic-updates/main amd64 libcairo2-dev amd64 1.15.10-2ubuntu0.1 [626 kB]\"                                                                                                                                                                                                                                                                                                                                                                                                                                                                                                                                              \n",
              "[17] \"Fetched 930 kB in 0s (9,038 kB/s)\"                                                                                                                                                                                                                                                                                                                                                                                                                                                                                                                                                                                                                             \n",
              "[18] \"Selecting previously unselected package libcairo-script-interpreter2:amd64.\\r\"                                                                                                                                                                                                                                                                                                                                                                                                                                                                                                                                                                                 \n",
              "[19] \"(Reading database ... \\r(Reading database ... 5%\\r(Reading database ... 10%\\r(Reading database ... 15%\\r(Reading database ... 20%\\r(Reading database ... 25%\\r(Reading database ... 30%\\r(Reading database ... 35%\\r(Reading database ... 40%\\r(Reading database ... 45%\\r(Reading database ... 50%\\r(Reading database ... 55%\\r(Reading database ... 60%\\r(Reading database ... 65%\\r(Reading database ... 70%\\r(Reading database ... 75%\\r(Reading database ... 80%\\r(Reading database ... 85%\\r(Reading database ... 90%\\r(Reading database ... 95%\\r(Reading database ... 100%\\r(Reading database ... 155319 files and directories currently installed.)\\r\"\n",
              "[20] \"Preparing to unpack .../libcairo-script-interpreter2_1.15.10-2ubuntu0.1_amd64.deb ...\\r\"                                                                                                                                                                                                                                                                                                                                                                                                                                                                                                                                                                       \n",
              "[21] \"Unpacking libcairo-script-interpreter2:amd64 (1.15.10-2ubuntu0.1) ...\\r\"                                                                                                                                                                                                                                                                                                                                                                                                                                                                                                                                                                                       \n",
              "[22] \"Selecting previously unselected package libpixman-1-dev:amd64.\\r\"                                                                                                                                                                                                                                                                                                                                                                                                                                                                                                                                                                                              \n",
              "[23] \"Preparing to unpack .../libpixman-1-dev_0.34.0-2_amd64.deb ...\\r\"                                                                                                                                                                                                                                                                                                                                                                                                                                                                                                                                                                                              \n",
              "[24] \"Unpacking libpixman-1-dev:amd64 (0.34.0-2) ...\\r\"                                                                                                                                                                                                                                                                                                                                                                                                                                                                                                                                                                                                              \n",
              "[25] \"Selecting previously unselected package libxcb-shm0-dev:amd64.\\r\"                                                                                                                                                                                                                                                                                                                                                                                                                                                                                                                                                                                              \n",
              "[26] \"Preparing to unpack .../libxcb-shm0-dev_1.13-2~ubuntu18.04_amd64.deb ...\\r\"                                                                                                                                                                                                                                                                                                                                                                                                                                                                                                                                                                                    \n",
              "[27] \"Unpacking libxcb-shm0-dev:amd64 (1.13-2~ubuntu18.04) ...\\r\"                                                                                                                                                                                                                                                                                                                                                                                                                                                                                                                                                                                                    \n",
              "[28] \"Selecting previously unselected package libcairo2-dev:amd64.\\r\"                                                                                                                                                                                                                                                                                                                                                                                                                                                                                                                                                                                                \n",
              "[29] \"Preparing to unpack .../libcairo2-dev_1.15.10-2ubuntu0.1_amd64.deb ...\\r\"                                                                                                                                                                                                                                                                                                                                                                                                                                                                                                                                                                                      \n",
              "[30] \"Unpacking libcairo2-dev:amd64 (1.15.10-2ubuntu0.1) ...\\r\"                                                                                                                                                                                                                                                                                                                                                                                                                                                                                                                                                                                                      \n",
              "[31] \"Setting up libcairo-script-interpreter2:amd64 (1.15.10-2ubuntu0.1) ...\\r\"                                                                                                                                                                                                                                                                                                                                                                                                                                                                                                                                                                                      \n",
              "[32] \"Setting up libxcb-shm0-dev:amd64 (1.13-2~ubuntu18.04) ...\\r\"                                                                                                                                                                                                                                                                                                                                                                                                                                                                                                                                                                                                   \n",
              "[33] \"Setting up libpixman-1-dev:amd64 (0.34.0-2) ...\\r\"                                                                                                                                                                                                                                                                                                                                                                                                                                                                                                                                                                                                             \n",
              "[34] \"Setting up libcairo2-dev:amd64 (1.15.10-2ubuntu0.1) ...\\r\"                                                                                                                                                                                                                                                                                                                                                                                                                                                                                                                                                                                                     \n",
              "[35] \"Processing triggers for libc-bin (2.27-3ubuntu1.3) ...\\r\"                                                                                                                                                                                                                                                                                                                                                                                                                                                                                                                                                                                                      \n",
              "[36] \"/sbin/ldconfig.real: /usr/local/lib/python3.7/dist-packages/ideep4py/lib/libmkldnn.so.0 is not a symbolic link\\r\"                                                                                                                                                                                                                                                                                                                                                                                                                                                                                                                                              \n",
              "[37] \"\\r\"                                                                                                                                                                                                                                                                                                                                                                                                                                                                                                                                                                                                                                                            "
            ],
            "text/latex": "\\begin{enumerate*}\n\\item 'Reading package lists...'\n\\item 'Building dependency tree...'\n\\item 'Reading state information...'\n\\item 'The following additional packages will be installed:'\n\\item '  libcairo-script-interpreter2 libpixman-1-dev libxcb-shm0-dev'\n\\item 'Suggested packages:'\n\\item '  libcairo2-doc'\n\\item 'The following NEW packages will be installed:'\n\\item '  libcairo-script-interpreter2 libcairo2-dev libpixman-1-dev libxcb-shm0-dev'\n\\item '0 upgraded, 4 newly installed, 0 to remove and 37 not upgraded.'\n\\item 'Need to get 930 kB of archives.'\n\\item 'After this operation, 3,986 kB of additional disk space will be used.'\n\\item 'Get:1 http://archive.ubuntu.com/ubuntu bionic-updates/main amd64 libcairo-script-interpreter2 amd64 1.15.10-2ubuntu0.1 {[}53.5 kB{]}'\n\\item 'Get:2 http://archive.ubuntu.com/ubuntu bionic/main amd64 libpixman-1-dev amd64 0.34.0-2 {[}244 kB{]}'\n\\item 'Get:3 http://archive.ubuntu.com/ubuntu bionic-updates/main amd64 libxcb-shm0-dev amd64 1.13-2\\textasciitilde{}ubuntu18.04 {[}6,684 B{]}'\n\\item 'Get:4 http://archive.ubuntu.com/ubuntu bionic-updates/main amd64 libcairo2-dev amd64 1.15.10-2ubuntu0.1 {[}626 kB{]}'\n\\item 'Fetched 930 kB in 0s (9,038 kB/s)'\n\\item 'Selecting previously unselected package libcairo-script-interpreter2:amd64.\\textbackslash{}r'\n\\item '(Reading database ... \\textbackslash{}r(Reading database ... 5\\%\\textbackslash{}r(Reading database ... 10\\%\\textbackslash{}r(Reading database ... 15\\%\\textbackslash{}r(Reading database ... 20\\%\\textbackslash{}r(Reading database ... 25\\%\\textbackslash{}r(Reading database ... 30\\%\\textbackslash{}r(Reading database ... 35\\%\\textbackslash{}r(Reading database ... 40\\%\\textbackslash{}r(Reading database ... 45\\%\\textbackslash{}r(Reading database ... 50\\%\\textbackslash{}r(Reading database ... 55\\%\\textbackslash{}r(Reading database ... 60\\%\\textbackslash{}r(Reading database ... 65\\%\\textbackslash{}r(Reading database ... 70\\%\\textbackslash{}r(Reading database ... 75\\%\\textbackslash{}r(Reading database ... 80\\%\\textbackslash{}r(Reading database ... 85\\%\\textbackslash{}r(Reading database ... 90\\%\\textbackslash{}r(Reading database ... 95\\%\\textbackslash{}r(Reading database ... 100\\%\\textbackslash{}r(Reading database ... 155319 files and directories currently installed.)\\textbackslash{}r'\n\\item 'Preparing to unpack .../libcairo-script-interpreter2\\_1.15.10-2ubuntu0.1\\_amd64.deb ...\\textbackslash{}r'\n\\item 'Unpacking libcairo-script-interpreter2:amd64 (1.15.10-2ubuntu0.1) ...\\textbackslash{}r'\n\\item 'Selecting previously unselected package libpixman-1-dev:amd64.\\textbackslash{}r'\n\\item 'Preparing to unpack .../libpixman-1-dev\\_0.34.0-2\\_amd64.deb ...\\textbackslash{}r'\n\\item 'Unpacking libpixman-1-dev:amd64 (0.34.0-2) ...\\textbackslash{}r'\n\\item 'Selecting previously unselected package libxcb-shm0-dev:amd64.\\textbackslash{}r'\n\\item 'Preparing to unpack .../libxcb-shm0-dev\\_1.13-2\\textasciitilde{}ubuntu18.04\\_amd64.deb ...\\textbackslash{}r'\n\\item 'Unpacking libxcb-shm0-dev:amd64 (1.13-2\\textasciitilde{}ubuntu18.04) ...\\textbackslash{}r'\n\\item 'Selecting previously unselected package libcairo2-dev:amd64.\\textbackslash{}r'\n\\item 'Preparing to unpack .../libcairo2-dev\\_1.15.10-2ubuntu0.1\\_amd64.deb ...\\textbackslash{}r'\n\\item 'Unpacking libcairo2-dev:amd64 (1.15.10-2ubuntu0.1) ...\\textbackslash{}r'\n\\item 'Setting up libcairo-script-interpreter2:amd64 (1.15.10-2ubuntu0.1) ...\\textbackslash{}r'\n\\item 'Setting up libxcb-shm0-dev:amd64 (1.13-2\\textasciitilde{}ubuntu18.04) ...\\textbackslash{}r'\n\\item 'Setting up libpixman-1-dev:amd64 (0.34.0-2) ...\\textbackslash{}r'\n\\item 'Setting up libcairo2-dev:amd64 (1.15.10-2ubuntu0.1) ...\\textbackslash{}r'\n\\item 'Processing triggers for libc-bin (2.27-3ubuntu1.3) ...\\textbackslash{}r'\n\\item '/sbin/ldconfig.real: /usr/local/lib/python3.7/dist-packages/ideep4py/lib/libmkldnn.so.0 is not a symbolic link\\textbackslash{}r'\n\\item '\\textbackslash{}r'\n\\end{enumerate*}\n",
            "text/markdown": "1. 'Reading package lists...'\n2. 'Building dependency tree...'\n3. 'Reading state information...'\n4. 'The following additional packages will be installed:'\n5. <span style=white-space:pre-wrap>'  libcairo-script-interpreter2 libpixman-1-dev libxcb-shm0-dev'</span>\n6. 'Suggested packages:'\n7. <span style=white-space:pre-wrap>'  libcairo2-doc'</span>\n8. 'The following NEW packages will be installed:'\n9. <span style=white-space:pre-wrap>'  libcairo-script-interpreter2 libcairo2-dev libpixman-1-dev libxcb-shm0-dev'</span>\n10. '0 upgraded, 4 newly installed, 0 to remove and 37 not upgraded.'\n11. 'Need to get 930 kB of archives.'\n12. 'After this operation, 3,986 kB of additional disk space will be used.'\n13. 'Get:1 http://archive.ubuntu.com/ubuntu bionic-updates/main amd64 libcairo-script-interpreter2 amd64 1.15.10-2ubuntu0.1 [53.5 kB]'\n14. 'Get:2 http://archive.ubuntu.com/ubuntu bionic/main amd64 libpixman-1-dev amd64 0.34.0-2 [244 kB]'\n15. 'Get:3 http://archive.ubuntu.com/ubuntu bionic-updates/main amd64 libxcb-shm0-dev amd64 1.13-2~ubuntu18.04 [6,684 B]'\n16. 'Get:4 http://archive.ubuntu.com/ubuntu bionic-updates/main amd64 libcairo2-dev amd64 1.15.10-2ubuntu0.1 [626 kB]'\n17. 'Fetched 930 kB in 0s (9,038 kB/s)'\n18. 'Selecting previously unselected package libcairo-script-interpreter2:amd64.\\r'\n19. '(Reading database ... \\r(Reading database ... 5%\\r(Reading database ... 10%\\r(Reading database ... 15%\\r(Reading database ... 20%\\r(Reading database ... 25%\\r(Reading database ... 30%\\r(Reading database ... 35%\\r(Reading database ... 40%\\r(Reading database ... 45%\\r(Reading database ... 50%\\r(Reading database ... 55%\\r(Reading database ... 60%\\r(Reading database ... 65%\\r(Reading database ... 70%\\r(Reading database ... 75%\\r(Reading database ... 80%\\r(Reading database ... 85%\\r(Reading database ... 90%\\r(Reading database ... 95%\\r(Reading database ... 100%\\r(Reading database ... 155319 files and directories currently installed.)\\r'\n20. 'Preparing to unpack .../libcairo-script-interpreter2_1.15.10-2ubuntu0.1_amd64.deb ...\\r'\n21. 'Unpacking libcairo-script-interpreter2:amd64 (1.15.10-2ubuntu0.1) ...\\r'\n22. 'Selecting previously unselected package libpixman-1-dev:amd64.\\r'\n23. 'Preparing to unpack .../libpixman-1-dev_0.34.0-2_amd64.deb ...\\r'\n24. 'Unpacking libpixman-1-dev:amd64 (0.34.0-2) ...\\r'\n25. 'Selecting previously unselected package libxcb-shm0-dev:amd64.\\r'\n26. 'Preparing to unpack .../libxcb-shm0-dev_1.13-2~ubuntu18.04_amd64.deb ...\\r'\n27. 'Unpacking libxcb-shm0-dev:amd64 (1.13-2~ubuntu18.04) ...\\r'\n28. 'Selecting previously unselected package libcairo2-dev:amd64.\\r'\n29. 'Preparing to unpack .../libcairo2-dev_1.15.10-2ubuntu0.1_amd64.deb ...\\r'\n30. 'Unpacking libcairo2-dev:amd64 (1.15.10-2ubuntu0.1) ...\\r'\n31. 'Setting up libcairo-script-interpreter2:amd64 (1.15.10-2ubuntu0.1) ...\\r'\n32. 'Setting up libxcb-shm0-dev:amd64 (1.13-2~ubuntu18.04) ...\\r'\n33. 'Setting up libpixman-1-dev:amd64 (0.34.0-2) ...\\r'\n34. 'Setting up libcairo2-dev:amd64 (1.15.10-2ubuntu0.1) ...\\r'\n35. 'Processing triggers for libc-bin (2.27-3ubuntu1.3) ...\\r'\n36. '/sbin/ldconfig.real: /usr/local/lib/python3.7/dist-packages/ideep4py/lib/libmkldnn.so.0 is not a symbolic link\\r'\n37. '\\r'\n\n\n",
            "text/html": [
              "<style>\n",
              ".list-inline {list-style: none; margin:0; padding: 0}\n",
              ".list-inline>li {display: inline-block}\n",
              ".list-inline>li:not(:last-child)::after {content: \"\\00b7\"; padding: 0 .5ex}\n",
              "</style>\n",
              "<ol class=list-inline><li>'Reading package lists...'</li><li>'Building dependency tree...'</li><li>'Reading state information...'</li><li>'The following additional packages will be installed:'</li><li><span style=white-space:pre-wrap>'  libcairo-script-interpreter2 libpixman-1-dev libxcb-shm0-dev'</span></li><li>'Suggested packages:'</li><li><span style=white-space:pre-wrap>'  libcairo2-doc'</span></li><li>'The following NEW packages will be installed:'</li><li><span style=white-space:pre-wrap>'  libcairo-script-interpreter2 libcairo2-dev libpixman-1-dev libxcb-shm0-dev'</span></li><li>'0 upgraded, 4 newly installed, 0 to remove and 37 not upgraded.'</li><li>'Need to get 930 kB of archives.'</li><li>'After this operation, 3,986 kB of additional disk space will be used.'</li><li>'Get:1 http://archive.ubuntu.com/ubuntu bionic-updates/main amd64 libcairo-script-interpreter2 amd64 1.15.10-2ubuntu0.1 [53.5 kB]'</li><li>'Get:2 http://archive.ubuntu.com/ubuntu bionic/main amd64 libpixman-1-dev amd64 0.34.0-2 [244 kB]'</li><li>'Get:3 http://archive.ubuntu.com/ubuntu bionic-updates/main amd64 libxcb-shm0-dev amd64 1.13-2~ubuntu18.04 [6,684 B]'</li><li>'Get:4 http://archive.ubuntu.com/ubuntu bionic-updates/main amd64 libcairo2-dev amd64 1.15.10-2ubuntu0.1 [626 kB]'</li><li>'Fetched 930 kB in 0s (9,038 kB/s)'</li><li>'Selecting previously unselected package libcairo-script-interpreter2:amd64.\\r'</li><li>'(Reading database ... \\r(Reading database ... 5%\\r(Reading database ... 10%\\r(Reading database ... 15%\\r(Reading database ... 20%\\r(Reading database ... 25%\\r(Reading database ... 30%\\r(Reading database ... 35%\\r(Reading database ... 40%\\r(Reading database ... 45%\\r(Reading database ... 50%\\r(Reading database ... 55%\\r(Reading database ... 60%\\r(Reading database ... 65%\\r(Reading database ... 70%\\r(Reading database ... 75%\\r(Reading database ... 80%\\r(Reading database ... 85%\\r(Reading database ... 90%\\r(Reading database ... 95%\\r(Reading database ... 100%\\r(Reading database ... 155319 files and directories currently installed.)\\r'</li><li>'Preparing to unpack .../libcairo-script-interpreter2_1.15.10-2ubuntu0.1_amd64.deb ...\\r'</li><li>'Unpacking libcairo-script-interpreter2:amd64 (1.15.10-2ubuntu0.1) ...\\r'</li><li>'Selecting previously unselected package libpixman-1-dev:amd64.\\r'</li><li>'Preparing to unpack .../libpixman-1-dev_0.34.0-2_amd64.deb ...\\r'</li><li>'Unpacking libpixman-1-dev:amd64 (0.34.0-2) ...\\r'</li><li>'Selecting previously unselected package libxcb-shm0-dev:amd64.\\r'</li><li>'Preparing to unpack .../libxcb-shm0-dev_1.13-2~ubuntu18.04_amd64.deb ...\\r'</li><li>'Unpacking libxcb-shm0-dev:amd64 (1.13-2~ubuntu18.04) ...\\r'</li><li>'Selecting previously unselected package libcairo2-dev:amd64.\\r'</li><li>'Preparing to unpack .../libcairo2-dev_1.15.10-2ubuntu0.1_amd64.deb ...\\r'</li><li>'Unpacking libcairo2-dev:amd64 (1.15.10-2ubuntu0.1) ...\\r'</li><li>'Setting up libcairo-script-interpreter2:amd64 (1.15.10-2ubuntu0.1) ...\\r'</li><li>'Setting up libxcb-shm0-dev:amd64 (1.13-2~ubuntu18.04) ...\\r'</li><li>'Setting up libpixman-1-dev:amd64 (0.34.0-2) ...\\r'</li><li>'Setting up libcairo2-dev:amd64 (1.15.10-2ubuntu0.1) ...\\r'</li><li>'Processing triggers for libc-bin (2.27-3ubuntu1.3) ...\\r'</li><li>'/sbin/ldconfig.real: /usr/local/lib/python3.7/dist-packages/ideep4py/lib/libmkldnn.so.0 is not a symbolic link\\r'</li><li>'\\r'</li></ol>\n"
            ]
          },
          "metadata": {}
        }
      ]
    },
    {
      "cell_type": "markdown",
      "metadata": {
        "id": "wFuTF2MUEiAk"
      },
      "source": [
        "## Install R packages"
      ]
    },
    {
      "cell_type": "code",
      "metadata": {
        "colab": {
          "base_uri": "https://localhost:8080/"
        },
        "id": "0c02HPWEh2nU",
        "outputId": "ade8ed6d-a12c-43c5-fa04-272be7803407"
      },
      "source": [
        "install.packages('BiocManager')"
      ],
      "execution_count": 4,
      "outputs": [
        {
          "output_type": "stream",
          "name": "stderr",
          "text": [
            "Installing package into ‘/usr/local/lib/R/site-library’\n",
            "(as ‘lib’ is unspecified)\n",
            "\n"
          ]
        }
      ]
    },
    {
      "cell_type": "code",
      "metadata": {
        "id": "8EZ8Zm7zagc0"
      },
      "source": [
        "required_packages <- c(\n",
        "  'devtools', 'BiocManager', \n",
        "  'circlize',\n",
        "  'GenomicRanges', 'rtracklayer', 'EnrichedHeatmap', 'BSgenome.Mmusculus.UCSC.mm10', \n",
        "   'motifmatchr', 'chromVAR'\n",
        ")"
      ],
      "execution_count": 5,
      "outputs": []
    },
    {
      "cell_type": "code",
      "metadata": {
        "id": "icve41ciuJim",
        "colab": {
          "base_uri": "https://localhost:8080/"
        },
        "outputId": "e3deec9c-170c-4404-86e6-b6ed464de22f"
      },
      "source": [
        "missing_packages <- required_packages[!required_packages %in% rownames(installed.packages())]\n",
        "if (length(missing_packages) > 0){\n",
        "    BiocManager::install(missing_packages)\n",
        "}"
      ],
      "execution_count": 6,
      "outputs": [
        {
          "output_type": "stream",
          "name": "stderr",
          "text": [
            "'getOption(\"repos\")' replaces Bioconductor standard repositories, see\n",
            "'?repositories' for details\n",
            "\n",
            "replacement repositories:\n",
            "    CRAN: https://cran.rstudio.com\n",
            "\n",
            "\n",
            "Bioconductor version 3.13 (BiocManager 1.30.16), R 4.1.1 (2021-08-10)\n",
            "\n",
            "Installing package(s) 'BiocVersion', 'circlize', 'GenomicRanges',\n",
            "  'rtracklayer', 'EnrichedHeatmap', 'BSgenome.Mmusculus.UCSC.mm10',\n",
            "  'motifmatchr', 'chromVAR'\n",
            "\n",
            "also installing the dependencies ‘plyr’, ‘pracma’, ‘AnnotationDbi’, ‘R.oo’, ‘R.methodsS3’, ‘formatR’, ‘iterators’, ‘reshape2’, ‘poweRlaw’, ‘annotate’, ‘GO.db’, ‘R.utils’, ‘KEGGREST’, ‘plogr’, ‘lambda.r’, ‘futile.options’, ‘sass’, ‘GenomeInfoDbData’, ‘bitops’, ‘Rhtslib’, ‘rjson’, ‘clue’, ‘png’, ‘Cairo’, ‘foreach’, ‘doParallel’, ‘Biobase’, ‘caTools’, ‘CNEr’, ‘DirichletMultinomial’, ‘gtools’, ‘RSQLite’, ‘seqLogo’, ‘TFMPvalue’, ‘MatrixGenerics’, ‘DelayedArray’, ‘RcppEigen’, ‘BH’, ‘futile.logger’, ‘snow’, ‘htmlwidgets’, ‘lazyeval’, ‘crosstalk’, ‘promises’, ‘httpuv’, ‘xtable’, ‘fontawesome’, ‘sourcetools’, ‘later’, ‘bslib’, ‘GlobalOptions’, ‘shape’, ‘BiocGenerics’, ‘S4Vectors’, ‘IRanges’, ‘GenomeInfoDb’, ‘XVector’, ‘XML’, ‘Biostrings’, ‘zlibbioc’, ‘RCurl’, ‘Rsamtools’, ‘GenomicAlignments’, ‘BiocIO’, ‘restfulr’, ‘ComplexHeatmap’, ‘matrixStats’, ‘GetoptLong’, ‘locfit’, ‘BSgenome’, ‘TFBSTools’, ‘SummarizedExperiment’, ‘RcppArmadillo’, ‘nabor’, ‘BiocParallel’, ‘plotly’, ‘shiny’, ‘miniUI’, ‘DT’, ‘Rtsne’\n",
            "\n",
            "\n",
            "Old packages: 'cpp11', 'data.table', 'desc', 'diffobj', 'digest', 'hms',\n",
            "  'knitr', 'lifecycle', 'lubridate', 'mime', 'openssl', 'pillar', 'rcmdcheck',\n",
            "  'readr', 'remotes', 'stringi', 'systemfonts', 'testthat', 'tibble', 'tidyr',\n",
            "  'tinytex', 'mgcv', 'nlme'\n",
            "\n"
          ]
        }
      ]
    },
    {
      "cell_type": "code",
      "metadata": {
        "id": "-_8xrWHvdUyQ",
        "colab": {
          "base_uri": "https://localhost:8080/"
        },
        "outputId": "2ec51c8e-a308-4035-964a-de610ac6d0e5"
      },
      "source": [
        "library(devtools)"
      ],
      "execution_count": 7,
      "outputs": [
        {
          "output_type": "stream",
          "name": "stderr",
          "text": [
            "Loading required package: usethis\n",
            "\n"
          ]
        }
      ]
    },
    {
      "cell_type": "markdown",
      "metadata": {
        "id": "9g5wfSlVIro3"
      },
      "source": [
        "### Install R packages that are not available on CRAN or Bioc"
      ]
    },
    {
      "cell_type": "code",
      "metadata": {
        "id": "wINp9j--IFpj",
        "colab": {
          "base_uri": "https://localhost:8080/"
        },
        "outputId": "1bf2e5f4-a02d-40a1-fccf-81472e994463"
      },
      "source": [
        "if (!require('chromVARmotifs'))\n",
        "  devtools::install_github(\"GreenleafLab/chromVARmotifs\")"
      ],
      "execution_count": 8,
      "outputs": [
        {
          "output_type": "stream",
          "name": "stderr",
          "text": [
            "Loading required package: chromVARmotifs\n",
            "\n",
            "Warning message in library(package, lib.loc = lib.loc, character.only = TRUE, logical.return = TRUE, :\n",
            "“there is no package called ‘chromVARmotifs’”\n",
            "Downloading GitHub repo GreenleafLab/chromVARmotifs@HEAD\n",
            "\n"
          ]
        },
        {
          "output_type": "stream",
          "name": "stdout",
          "text": [
            "pillar    (1.6.2  -> 1.6.3 ) [CRAN]\n",
            "stringi   (1.7.4  -> 1.7.5 ) [CRAN]\n",
            "openssl   (1.4.3  -> 1.4.5 ) [CRAN]\n",
            "mime      (0.11   -> 0.12  ) [CRAN]\n",
            "cpp11     (0.3.1  -> 0.4.0 ) [CRAN]\n",
            "lifecycle (1.0.0  -> 1.0.1 ) [CRAN]\n",
            "hms       (1.1.0  -> 1.1.1 ) [CRAN]\n",
            "tibble    (3.1.4  -> 3.1.5 ) [CRAN]\n",
            "digest    (0.6.27 -> 0.6.28) [CRAN]\n",
            "readr     (2.0.1  -> 2.0.2 ) [CRAN]\n"
          ]
        },
        {
          "output_type": "stream",
          "name": "stderr",
          "text": [
            "Installing 10 packages: pillar, stringi, openssl, mime, cpp11, lifecycle, hms, tibble, digest, readr\n",
            "\n",
            "Installing packages into ‘/usr/local/lib/R/site-library’\n",
            "(as ‘lib’ is unspecified)\n",
            "\n"
          ]
        },
        {
          "output_type": "stream",
          "name": "stdout",
          "text": [
            "\u001b[32m✔\u001b[39m  \u001b[90mchecking for file ‘/tmp/RtmpZMQkKx/remotes4c68971415/GreenleafLab-chromVARmotifs-38bed55/DESCRIPTION’\u001b[39m\u001b[36m\u001b[39m\n",
            "\u001b[90m─\u001b[39m\u001b[90m  \u001b[39m\u001b[90mpreparing ‘chromVARmotifs’:\u001b[39m\u001b[36m\u001b[39m\n",
            "\u001b[32m✔\u001b[39m  \u001b[90mchecking DESCRIPTION meta-information\u001b[39m\u001b[36m\u001b[39m\n",
            "\u001b[90m─\u001b[39m\u001b[90m  \u001b[39m\u001b[90mchecking for LF line-endings in source and make files and shell scripts\u001b[39m\u001b[36m\u001b[39m\n",
            "\u001b[90m─\u001b[39m\u001b[90m  \u001b[39m\u001b[90mchecking for empty or unneeded directories\u001b[39m\u001b[36m\u001b[39m\n",
            "\u001b[90m─\u001b[39m\u001b[90m  \u001b[39m\u001b[90mbuilding ‘chromVARmotifs_0.2.0.tar.gz’\u001b[39m\u001b[36m\u001b[39m\n",
            "   \n"
          ]
        },
        {
          "output_type": "stream",
          "name": "stderr",
          "text": [
            "Installing package into ‘/usr/local/lib/R/site-library’\n",
            "(as ‘lib’ is unspecified)\n",
            "\n"
          ]
        }
      ]
    },
    {
      "cell_type": "markdown",
      "metadata": {
        "id": "-r47NH7jiD99"
      },
      "source": [
        "## Load R packages"
      ]
    },
    {
      "cell_type": "code",
      "metadata": {
        "id": "nQFQk04TzjFj",
        "colab": {
          "base_uri": "https://localhost:8080/"
        },
        "outputId": "eab740ce-0122-4494-d379-6ff2fc6d092f"
      },
      "source": [
        "library(GenomicRanges)\n",
        "library(dplyr)\n",
        "library(BSgenome.Mmusculus.UCSC.mm10)\n",
        "library(motifmatchr)\n",
        "library(chromVARmotifs)\n",
        "library(SummarizedExperiment)\n",
        "library(ggplot2)\n",
        "library(ComplexHeatmap)\n",
        "library(EnrichedHeatmap)\n",
        "library(circlize) # colorRamp2"
      ],
      "execution_count": 9,
      "outputs": [
        {
          "output_type": "stream",
          "name": "stderr",
          "text": [
            "Loading required package: stats4\n",
            "\n",
            "Loading required package: BiocGenerics\n",
            "\n",
            "Loading required package: parallel\n",
            "\n",
            "\n",
            "Attaching package: ‘BiocGenerics’\n",
            "\n",
            "\n",
            "The following objects are masked from ‘package:parallel’:\n",
            "\n",
            "    clusterApply, clusterApplyLB, clusterCall, clusterEvalQ,\n",
            "    clusterExport, clusterMap, parApply, parCapply, parLapply,\n",
            "    parLapplyLB, parRapply, parSapply, parSapplyLB\n",
            "\n",
            "\n",
            "The following objects are masked from ‘package:stats’:\n",
            "\n",
            "    IQR, mad, sd, var, xtabs\n",
            "\n",
            "\n",
            "The following objects are masked from ‘package:base’:\n",
            "\n",
            "    anyDuplicated, append, as.data.frame, basename, cbind, colnames,\n",
            "    dirname, do.call, duplicated, eval, evalq, Filter, Find, get, grep,\n",
            "    grepl, intersect, is.unsorted, lapply, Map, mapply, match, mget,\n",
            "    order, paste, pmax, pmax.int, pmin, pmin.int, Position, rank,\n",
            "    rbind, Reduce, rownames, sapply, setdiff, sort, table, tapply,\n",
            "    union, unique, unsplit, which.max, which.min\n",
            "\n",
            "\n",
            "Loading required package: S4Vectors\n",
            "\n",
            "\n",
            "Attaching package: ‘S4Vectors’\n",
            "\n",
            "\n",
            "The following objects are masked from ‘package:base’:\n",
            "\n",
            "    expand.grid, I, unname\n",
            "\n",
            "\n",
            "Loading required package: IRanges\n",
            "\n",
            "Loading required package: GenomeInfoDb\n",
            "\n",
            "\n",
            "Attaching package: ‘dplyr’\n",
            "\n",
            "\n",
            "The following objects are masked from ‘package:GenomicRanges’:\n",
            "\n",
            "    intersect, setdiff, union\n",
            "\n",
            "\n",
            "The following object is masked from ‘package:GenomeInfoDb’:\n",
            "\n",
            "    intersect\n",
            "\n",
            "\n",
            "The following objects are masked from ‘package:IRanges’:\n",
            "\n",
            "    collapse, desc, intersect, setdiff, slice, union\n",
            "\n",
            "\n",
            "The following objects are masked from ‘package:S4Vectors’:\n",
            "\n",
            "    first, intersect, rename, setdiff, setequal, union\n",
            "\n",
            "\n",
            "The following objects are masked from ‘package:BiocGenerics’:\n",
            "\n",
            "    combine, intersect, setdiff, union\n",
            "\n",
            "\n",
            "The following objects are masked from ‘package:stats’:\n",
            "\n",
            "    filter, lag\n",
            "\n",
            "\n",
            "The following objects are masked from ‘package:base’:\n",
            "\n",
            "    intersect, setdiff, setequal, union\n",
            "\n",
            "\n",
            "Loading required package: BSgenome\n",
            "\n",
            "Loading required package: Biostrings\n",
            "\n",
            "Loading required package: XVector\n",
            "\n",
            "\n",
            "Attaching package: ‘Biostrings’\n",
            "\n",
            "\n",
            "The following object is masked from ‘package:base’:\n",
            "\n",
            "    strsplit\n",
            "\n",
            "\n",
            "Loading required package: rtracklayer\n",
            "\n",
            "\n",
            "\n",
            "Loading required package: MatrixGenerics\n",
            "\n",
            "Loading required package: matrixStats\n",
            "\n",
            "\n",
            "Attaching package: ‘matrixStats’\n",
            "\n",
            "\n",
            "The following object is masked from ‘package:dplyr’:\n",
            "\n",
            "    count\n",
            "\n",
            "\n",
            "\n",
            "Attaching package: ‘MatrixGenerics’\n",
            "\n",
            "\n",
            "The following objects are masked from ‘package:matrixStats’:\n",
            "\n",
            "    colAlls, colAnyNAs, colAnys, colAvgsPerRowSet, colCollapse,\n",
            "    colCounts, colCummaxs, colCummins, colCumprods, colCumsums,\n",
            "    colDiffs, colIQRDiffs, colIQRs, colLogSumExps, colMadDiffs,\n",
            "    colMads, colMaxs, colMeans2, colMedians, colMins, colOrderStats,\n",
            "    colProds, colQuantiles, colRanges, colRanks, colSdDiffs, colSds,\n",
            "    colSums2, colTabulates, colVarDiffs, colVars, colWeightedMads,\n",
            "    colWeightedMeans, colWeightedMedians, colWeightedSds,\n",
            "    colWeightedVars, rowAlls, rowAnyNAs, rowAnys, rowAvgsPerColSet,\n",
            "    rowCollapse, rowCounts, rowCummaxs, rowCummins, rowCumprods,\n",
            "    rowCumsums, rowDiffs, rowIQRDiffs, rowIQRs, rowLogSumExps,\n",
            "    rowMadDiffs, rowMads, rowMaxs, rowMeans2, rowMedians, rowMins,\n",
            "    rowOrderStats, rowProds, rowQuantiles, rowRanges, rowRanks,\n",
            "    rowSdDiffs, rowSds, rowSums2, rowTabulates, rowVarDiffs, rowVars,\n",
            "    rowWeightedMads, rowWeightedMeans, rowWeightedMedians,\n",
            "    rowWeightedSds, rowWeightedVars\n",
            "\n",
            "\n",
            "Loading required package: Biobase\n",
            "\n",
            "Welcome to Bioconductor\n",
            "\n",
            "    Vignettes contain introductory material; view with\n",
            "    'browseVignettes()'. To cite Bioconductor, see\n",
            "    'citation(\"Biobase\")', and for packages 'citation(\"pkgname\")'.\n",
            "\n",
            "\n",
            "\n",
            "Attaching package: ‘Biobase’\n",
            "\n",
            "\n",
            "The following object is masked from ‘package:MatrixGenerics’:\n",
            "\n",
            "    rowMedians\n",
            "\n",
            "\n",
            "The following objects are masked from ‘package:matrixStats’:\n",
            "\n",
            "    anyMissing, rowMedians\n",
            "\n",
            "\n",
            "Loading required package: grid\n",
            "\n",
            "\n",
            "Attaching package: ‘grid’\n",
            "\n",
            "\n",
            "The following object is masked from ‘package:Biostrings’:\n",
            "\n",
            "    pattern\n",
            "\n",
            "\n",
            "========================================\n",
            "ComplexHeatmap version 2.8.0\n",
            "Bioconductor page: http://bioconductor.org/packages/ComplexHeatmap/\n",
            "Github page: https://github.com/jokergoo/ComplexHeatmap\n",
            "Documentation: http://jokergoo.github.io/ComplexHeatmap-reference\n",
            "\n",
            "If you use it in published research, please cite:\n",
            "Gu, Z. Complex heatmaps reveal patterns and correlations in multidimensional \n",
            "  genomic data. Bioinformatics 2016.\n",
            "\n",
            "The new InteractiveComplexHeatmap package can directly export static \n",
            "complex heatmaps into an interactive Shiny app with zero effort. Have a try!\n",
            "\n",
            "This message can be suppressed by:\n",
            "  suppressPackageStartupMessages(library(ComplexHeatmap))\n",
            "========================================\n",
            "\n",
            "\n",
            "========================================\n",
            "EnrichedHeatmap version 1.22.0\n",
            "Bioconductor page: http://bioconductor.org/packages/EnrichedHeatmap/\n",
            "Github page: https://github.com/jokergoo/EnrichedHeatmap\n",
            "Documentation: http://bioconductor.org/packages/EnrichedHeatmap/\n",
            "\n",
            "If you use it in published research, please cite:\n",
            "Gu, Z. EnrichedHeatmap: an R/Bioconductor package for comprehensive \n",
            "visualization of genomic signal associations. BMC Genomics 2018.\n",
            "\n",
            "This message can be suppressed by:\n",
            "  suppressPackageStartupMessages(library(EnrichedHeatmap))\n",
            "========================================\n",
            "\n",
            "\n",
            "========================================\n",
            "circlize version 0.4.13\n",
            "CRAN page: https://cran.r-project.org/package=circlize\n",
            "Github page: https://github.com/jokergoo/circlize\n",
            "Documentation: https://jokergoo.github.io/circlize_book/book/\n",
            "\n",
            "If you use it in published research, please cite:\n",
            "Gu, Z. circlize implements and enhances circular visualization\n",
            "  in R. Bioinformatics 2014.\n",
            "\n",
            "This message can be suppressed by:\n",
            "  suppressPackageStartupMessages(library(circlize))\n",
            "========================================\n",
            "\n",
            "\n"
          ]
        }
      ]
    },
    {
      "cell_type": "code",
      "metadata": {
        "colab": {
          "base_uri": "https://localhost:8080/"
        },
        "id": "VsLvfIkEdZ8K",
        "outputId": "2180858b-9778-424f-a491-23b984feba38"
      },
      "source": [
        "devtools::install_github(\"YuLab-SMU/ChIPseeker\")\n",
        "library(ChIPseeker)"
      ],
      "execution_count": 10,
      "outputs": [
        {
          "output_type": "stream",
          "name": "stderr",
          "text": [
            "Downloading GitHub repo YuLab-SMU/ChIPseeker@HEAD\n",
            "\n"
          ]
        },
        {
          "output_type": "stream",
          "name": "stdout",
          "text": [
            "enrichplot   (NA     -> d11b60bb6...) [GitHub]\n",
            "filelock     (NA     -> 1.0.2       ) [CRAN]\n",
            "BiocFileC... (NA     -> 2.0.0       ) [CRAN]\n",
            "biomaRt      (NA     -> 2.48.3      ) [CRAN]\n",
            "gridGraphics (NA     -> 0.5-1       ) [CRAN]\n",
            "patchwork    (NA     -> 1.1.1       ) [CRAN]\n",
            "ggplotify    (NA     -> 0.1.0       ) [CRAN]\n",
            "yulab.utils  (NA     -> 0.0.4       ) [CRAN]\n",
            "treeio       (NA     -> 1.16.2      ) [CRAN]\n",
            "tidytree     (NA     -> 0.3.5       ) [CRAN]\n",
            "tidyr        (1.1.3  -> 1.1.4       ) [CRAN]\n",
            "ggfun        (NA     -> 0.0.4       ) [CRAN]\n",
            "aplot        (NA     -> 0.1.1       ) [CRAN]\n",
            "ape          (NA     -> 5.5         ) [CRAN]\n",
            "polyclip     (NA     -> 1.10-0      ) [CRAN]\n",
            "tweenr       (NA     -> 1.0.2       ) [CRAN]\n",
            "ggforce      (NA     -> 0.3.3       ) [CRAN]\n",
            "gridExtra    (NA     -> 2.3         ) [CRAN]\n",
            "graphlayouts (NA     -> 0.7.1       ) [CRAN]\n",
            "tidygraph    (NA     -> 1.2.0       ) [CRAN]\n",
            "viridis      (NA     -> 0.6.1       ) [CRAN]\n",
            "ggrepel      (NA     -> 0.9.1       ) [CRAN]\n",
            "igraph       (NA     -> 1.2.6       ) [CRAN]\n",
            "fastmatch    (NA     -> 1.1-3       ) [CRAN]\n",
            "data.table   (1.14.0 -> 1.14.2      ) [CRAN]\n",
            "qvalue       (NA     -> 2.24.0      ) [CRAN]\n",
            "GOSemSim     (NA     -> 2.18.1      ) [CRAN]\n",
            "fgsea        (NA     -> 1.18.0      ) [CRAN]\n",
            "DO.db        (NA     -> 2.9         ) [CRAN]\n",
            "GenomicFe... (NA     -> 1.44.2      ) [CRAN]\n",
            "ggtree       (NA     -> 3.0.4       ) [CRAN]\n",
            "shadowtext   (NA     -> 0.0.9       ) [CRAN]\n",
            "scatterpie   (NA     -> 0.1.7       ) [CRAN]\n",
            "ggraph       (NA     -> 2.0.5       ) [CRAN]\n",
            "DOSE         (NA     -> 3.18.3      ) [CRAN]\n",
            "cowplot      (NA     -> 1.1.1       ) [CRAN]\n",
            "TxDb.Hsap... (NA     -> 3.2.2       ) [CRAN]\n",
            "plotrix      (NA     -> 3.8-2       ) [CRAN]\n",
            "gplots       (NA     -> 3.1.1       ) [CRAN]\n"
          ]
        },
        {
          "output_type": "stream",
          "name": "stderr",
          "text": [
            "Downloading GitHub repo GuangchuangYu/enrichplot@HEAD\n",
            "\n"
          ]
        },
        {
          "output_type": "stream",
          "name": "stdout",
          "text": [
            "tidyr        (1.1.3  -> 1.1.4 ) [CRAN]\n",
            "tidytree     (NA     -> 0.3.5 ) [CRAN]\n",
            "ape          (NA     -> 5.5   ) [CRAN]\n",
            "gridGraphics (NA     -> 0.5-1 ) [CRAN]\n",
            "yulab.utils  (NA     -> 0.0.4 ) [CRAN]\n",
            "patchwork    (NA     -> 1.1.1 ) [CRAN]\n",
            "ggplotify    (NA     -> 0.1.0 ) [CRAN]\n",
            "ggfun        (NA     -> 0.0.4 ) [CRAN]\n",
            "igraph       (NA     -> 1.2.6 ) [CRAN]\n",
            "gridExtra    (NA     -> 2.3   ) [CRAN]\n",
            "polyclip     (NA     -> 1.10-0) [CRAN]\n",
            "tweenr       (NA     -> 1.0.2 ) [CRAN]\n",
            "fastmatch    (NA     -> 1.1-3 ) [CRAN]\n",
            "data.table   (1.14.0 -> 1.14.2) [CRAN]\n",
            "treeio       (NA     -> 1.16.2) [CRAN]\n",
            "aplot        (NA     -> 0.1.1 ) [CRAN]\n",
            "ggforce      (NA     -> 0.3.3 ) [CRAN]\n",
            "graphlayouts (NA     -> 0.7.1 ) [CRAN]\n",
            "tidygraph    (NA     -> 1.2.0 ) [CRAN]\n",
            "viridis      (NA     -> 0.6.1 ) [CRAN]\n",
            "ggrepel      (NA     -> 0.9.1 ) [CRAN]\n",
            "qvalue       (NA     -> 2.24.0) [CRAN]\n",
            "GOSemSim     (NA     -> 2.18.1) [CRAN]\n",
            "fgsea        (NA     -> 1.18.0) [CRAN]\n",
            "DO.db        (NA     -> 2.9   ) [CRAN]\n",
            "ggtree       (NA     -> 3.0.4 ) [CRAN]\n",
            "shadowtext   (NA     -> 0.0.9 ) [CRAN]\n",
            "scatterpie   (NA     -> 0.1.7 ) [CRAN]\n",
            "ggraph       (NA     -> 2.0.5 ) [CRAN]\n",
            "DOSE         (NA     -> 3.18.3) [CRAN]\n"
          ]
        },
        {
          "output_type": "stream",
          "name": "stderr",
          "text": [
            "Installing 30 packages: tidyr, tidytree, ape, gridGraphics, yulab.utils, patchwork, ggplotify, ggfun, igraph, gridExtra, polyclip, tweenr, fastmatch, data.table, treeio, aplot, ggforce, graphlayouts, tidygraph, viridis, ggrepel, qvalue, GOSemSim, fgsea, DO.db, ggtree, shadowtext, scatterpie, ggraph, DOSE\n",
            "\n",
            "Installing packages into ‘/usr/local/lib/R/site-library’\n",
            "(as ‘lib’ is unspecified)\n",
            "\n"
          ]
        },
        {
          "output_type": "stream",
          "name": "stdout",
          "text": [
            "\u001b[32m✔\u001b[39m  \u001b[90mchecking for file ‘/tmp/RtmpZMQkKx/remotes4c4a15568d/GuangchuangYu-enrichplot-d11b60b/DESCRIPTION’\u001b[39m\u001b[36m\u001b[39m\n",
            "\u001b[90m─\u001b[39m\u001b[90m  \u001b[39m\u001b[90mpreparing ‘enrichplot’:\u001b[39m\u001b[36m\u001b[39m\n",
            "\u001b[32m✔\u001b[39m  \u001b[90mchecking DESCRIPTION meta-information\u001b[39m\u001b[36m\u001b[39m\n",
            "\u001b[90m─\u001b[39m\u001b[90m  \u001b[39m\u001b[90mchecking for LF line-endings in source and make files and shell scripts\u001b[39m\u001b[36m\u001b[39m\n",
            "\u001b[90m─\u001b[39m\u001b[90m  \u001b[39m\u001b[90mchecking for empty or unneeded directories\u001b[39m\u001b[36m\u001b[39m\n",
            "\u001b[90m─\u001b[39m\u001b[90m  \u001b[39m\u001b[90mbuilding ‘enrichplot_1.13.1.992.tar.gz’\u001b[39m\u001b[36m\u001b[39m\n",
            "   \n"
          ]
        },
        {
          "output_type": "stream",
          "name": "stderr",
          "text": [
            "Installing package into ‘/usr/local/lib/R/site-library’\n",
            "(as ‘lib’ is unspecified)\n",
            "\n",
            "Installing 38 packages: filelock, BiocFileCache, biomaRt, gridGraphics, patchwork, ggplotify, yulab.utils, treeio, tidytree, tidyr, ggfun, aplot, ape, polyclip, tweenr, ggforce, gridExtra, graphlayouts, tidygraph, viridis, ggrepel, igraph, fastmatch, data.table, qvalue, GOSemSim, fgsea, DO.db, GenomicFeatures, ggtree, shadowtext, scatterpie, ggraph, DOSE, cowplot, TxDb.Hsapiens.UCSC.hg19.knownGene, plotrix, gplots\n",
            "\n",
            "Installing packages into ‘/usr/local/lib/R/site-library’\n",
            "(as ‘lib’ is unspecified)\n",
            "\n",
            "Skipping install of 'enrichplot' from a github remote, the SHA1 (d11b60bb) has not changed since last install.\n",
            "  Use `force = TRUE` to force installation\n",
            "\n"
          ]
        },
        {
          "output_type": "stream",
          "name": "stdout",
          "text": [
            "\u001b[32m✔\u001b[39m  \u001b[90mchecking for file ‘/tmp/RtmpZMQkKx/remotes4c64159712/YuLab-SMU-ChIPseeker-c8878be/DESCRIPTION’\u001b[39m\u001b[36m\u001b[39m\n",
            "\u001b[90m─\u001b[39m\u001b[90m  \u001b[39m\u001b[90mpreparing ‘ChIPseeker’:\u001b[39m\u001b[36m\u001b[39m\n",
            "\u001b[32m✔\u001b[39m  \u001b[90mchecking DESCRIPTION meta-information\u001b[39m\u001b[36m\u001b[39m\n",
            "\u001b[90m─\u001b[39m\u001b[90m  \u001b[39m\u001b[90mchecking for LF line-endings in source and make files and shell scripts\u001b[39m\u001b[36m\u001b[39m\n",
            "\u001b[90m─\u001b[39m\u001b[90m  \u001b[39m\u001b[90mchecking for empty or unneeded directories\u001b[39m\u001b[36m\u001b[39m\n",
            "\u001b[90m─\u001b[39m\u001b[90m  \u001b[39m\u001b[90mlooking to see if a ‘data/datalist’ file should be added\u001b[39m\u001b[36m\u001b[39m\n",
            "\u001b[90m─\u001b[39m\u001b[90m  \u001b[39m\u001b[90mbuilding ‘ChIPseeker_1.29.1.991.tar.gz’\u001b[39m\u001b[36m\u001b[36m (2.4s)\u001b[36m\u001b[39m\n",
            "   \n"
          ]
        },
        {
          "output_type": "stream",
          "name": "stderr",
          "text": [
            "Installing package into ‘/usr/local/lib/R/site-library’\n",
            "(as ‘lib’ is unspecified)\n",
            "\n",
            "ChIPseeker v1.29.1.991  For help: https://guangchuangyu.github.io/software/ChIPseeker\n",
            "\n",
            "If you use ChIPseeker in published research, please cite:\n",
            "Guangchuang Yu, Li-Gen Wang, Qing-Yu He. ChIPseeker: an R/Bioconductor package for ChIP peak annotation, comparison and visualization. Bioinformatics 2015, 31(14):2382-2383\n",
            "\n"
          ]
        }
      ]
    },
    {
      "cell_type": "markdown",
      "metadata": {
        "id": "PyJoh9bxbC1C"
      },
      "source": [
        "## Read a combined Etv2 ChIP-seq peak set"
      ]
    },
    {
      "cell_type": "code",
      "metadata": {
        "id": "ojuU1ngisM0z",
        "colab": {
          "base_uri": "https://localhost:8080/",
          "height": 562
        },
        "outputId": "56287f86-be2e-4b10-800f-2f23f84f5c4f"
      },
      "source": [
        "all_etv2_peaks_url <- 'https://s3.msi.umn.edu/gongx030/datasets/dataset=Etv2PioneerChIPseq_version=20191203a/all_Etv2_peaks.rds'\n",
        "gr <- all_etv2_peaks_url %>%\n",
        "  url() %>%\n",
        "  gzcon() %>%\n",
        "  readRDS()\n",
        "gr\n",
        "colnames(gr$group)"
      ],
      "execution_count": 11,
      "outputs": [
        {
          "output_type": "display_data",
          "data": {
            "text/plain": [
              "GRanges object with 162010 ranges and 4 metadata columns:\n",
              "           seqnames            ranges strand |                peak_id     score\n",
              "              <Rle>         <IRanges>  <Rle> |            <character> <numeric>\n",
              "       [1]     chr1   3037784-3037983      * | /panfs/roc/scratch/g..  16.22768\n",
              "       [2]     chr1   3263790-3263989      * | /panfs/roc/scratch/g..   8.36521\n",
              "       [3]     chr1   3344682-3344881      * | /panfs/roc/scratch/g..   9.73217\n",
              "       [4]     chr1   3460640-3460839      * | /panfs/roc/scratch/g..   3.92081\n",
              "       [5]     chr1   3490314-3490513      * | /panfs/roc/scratch/g..  12.29730\n",
              "       ...      ...               ...    ... .                    ...       ...\n",
              "  [162006]     chrY 90828936-90829135      * | /panfs/roc/scratch/g.. 160.15463\n",
              "  [162007]     chrY 90836259-90836458      * | /panfs/roc/scratch/g..   8.27339\n",
              "  [162008]     chrY 90841624-90841823      * | /panfs/roc/scratch/g..   1.53792\n",
              "  [162009]     chrY 90842563-90842762      * | /panfs/roc/scratch/g..  11.78216\n",
              "  [162010]     chrY 90843810-90844009      * | /panfs/roc/scratch/g..   5.92807\n",
              "                    source                 group\n",
              "               <character>              <matrix>\n",
              "       [1] MEF_Dox_d2_Etv2   TRUE:TRUE:FALSE:...\n",
              "       [2]  EB_Dox_3h_Etv2 FALSE:FALSE:FALSE:...\n",
              "       [3] MEF_Dox_d2_Etv2  FALSE:TRUE:FALSE:...\n",
              "       [4] MEF_Dox_d2_Etv2  FALSE:TRUE:FALSE:...\n",
              "       [5] MEF_Dox_d2_Etv2   TRUE:TRUE:FALSE:...\n",
              "       ...             ...                   ...\n",
              "  [162006] MEF_Dox_d2_Etv2    TRUE:TRUE:TRUE:...\n",
              "  [162007] MEF_Dox_d7_Etv2  FALSE:FALSE:TRUE:...\n",
              "  [162008] MEF_Dox_d1_Etv2  TRUE:FALSE:FALSE:...\n",
              "  [162009] MEF_Dox_d1_Etv2  TRUE:FALSE:FALSE:...\n",
              "  [162010] MEF_Dox_d1_Etv2  TRUE:FALSE:FALSE:...\n",
              "  -------\n",
              "  seqinfo: 21 sequences from an unspecified genome; no seqlengths"
            ]
          },
          "metadata": {}
        },
        {
          "output_type": "display_data",
          "data": {
            "text/plain": [
              "[1] \"MEF_Dox_d1_Etv2\" \"MEF_Dox_d2_Etv2\" \"MEF_Dox_d7_Etv2\" \"EB_Dox_3h_Etv2\" \n",
              "[5] \"EB_Dox_12h_Etv2\""
            ],
            "text/latex": "\\begin{enumerate*}\n\\item 'MEF\\_Dox\\_d1\\_Etv2'\n\\item 'MEF\\_Dox\\_d2\\_Etv2'\n\\item 'MEF\\_Dox\\_d7\\_Etv2'\n\\item 'EB\\_Dox\\_3h\\_Etv2'\n\\item 'EB\\_Dox\\_12h\\_Etv2'\n\\end{enumerate*}\n",
            "text/markdown": "1. 'MEF_Dox_d1_Etv2'\n2. 'MEF_Dox_d2_Etv2'\n3. 'MEF_Dox_d7_Etv2'\n4. 'EB_Dox_3h_Etv2'\n5. 'EB_Dox_12h_Etv2'\n\n\n",
            "text/html": [
              "<style>\n",
              ".list-inline {list-style: none; margin:0; padding: 0}\n",
              ".list-inline>li {display: inline-block}\n",
              ".list-inline>li:not(:last-child)::after {content: \"\\00b7\"; padding: 0 .5ex}\n",
              "</style>\n",
              "<ol class=list-inline><li>'MEF_Dox_d1_Etv2'</li><li>'MEF_Dox_d2_Etv2'</li><li>'MEF_Dox_d7_Etv2'</li><li>'EB_Dox_3h_Etv2'</li><li>'EB_Dox_12h_Etv2'</li></ol>\n"
            ]
          },
          "metadata": {}
        }
      ]
    },
    {
      "cell_type": "markdown",
      "metadata": {
        "id": "H955kYDsAlxh"
      },
      "source": [
        "## Download related `pileup` and `fold enrichment` bigwig files"
      ]
    },
    {
      "cell_type": "code",
      "metadata": {
        "id": "556fcwk5cAWq"
      },
      "source": [
        "bw_files <- c(\n",
        "\t'MEF_Dox_D1_Etv2' \t\t\t\t\t\t\t\t\t= 'https://s3.msi.umn.edu/gongx030/datasets/dataset=Etv2PioneerChIPseq_version=20191203a/MEF_Dox_d1_Etv2_FE.bw',\n",
        "\t'MEF_Dox_D7_Etv2' \t\t\t\t\t\t\t\t\t= 'https://s3.msi.umn.edu/gongx030/datasets/dataset=Etv2PioneerChIPseq_version=20191203a/MEF_Dox_d7_Etv2_FE.bw',\n",
        "\t'Brg1_KD_D1' \t\t\t\t\t\t\t\t\t\t= 'https://s3.msi.umn.edu/dsouz072/datasets/dataset=Etv2_PioneerFactor_Manuscript/Brg1_KD_D1_Etv2_Repeat.dedup_FE_sorted.bw',\n",
        "\t'Brg1_KD_D7' \t\t\t\t\t\t\t\t\t\t= 'https://s3.msi.umn.edu/dsouz072/datasets/dataset=Etv2_PioneerFactor_Manuscript/Brg1_KD_D7_Etv2_Repeat.dedup_FE_sorted.bw'\n",
        ")"
      ],
      "execution_count": 12,
      "outputs": []
    },
    {
      "cell_type": "code",
      "metadata": {
        "id": "JwWXtA14AwNX",
        "colab": {
          "base_uri": "https://localhost:8080/"
        },
        "outputId": "56358552-3d95-40e9-bacf-f34d6659d40b"
      },
      "source": [
        "for (i in 1:length(bw_files)){\n",
        "  sprintf('wget -x -c -nH %s', bw_files[i]) %>% system()\n",
        "}\n",
        "local_bw_files <- gsub('https://s3.msi.umn.edu/', './', bw_files)\n",
        "message(sprintf('all local_bw_files exist: %s', all(file.exists(local_bw_files))))"
      ],
      "execution_count": 13,
      "outputs": [
        {
          "output_type": "stream",
          "name": "stderr",
          "text": [
            "all local_bw_files exist: TRUE\n",
            "\n"
          ]
        }
      ]
    },
    {
      "cell_type": "markdown",
      "metadata": {
        "id": "a1hv-1rW-Qji"
      },
      "source": [
        "## Split the Etv2 MEF D1 peaks into three groups\n",
        "1. on at D1 and off at D7 (early)\n",
        "2. off at D1 and on at D7 (late)\n",
        "3. on at both D1 and D7 (sustained)"
      ]
    },
    {
      "cell_type": "code",
      "metadata": {
        "id": "hOy8j6dS-PB9",
        "colab": {
          "base_uri": "https://localhost:8080/"
        },
        "outputId": "2c507e74-808a-4749-e609-c3dcfe745083"
      },
      "source": [
        "peaks <- gr[gr$group[, 'MEF_Dox_d1_Etv2'] | gr$group[, 'MEF_Dox_d7_Etv2']]\n",
        "message(sprintf('number of early peaks: %d\\n', sum(peaks$group[, 'MEF_Dox_d1_Etv2'] & !peaks$group[, 'MEF_Dox_d7_Etv2'])))\n",
        "message(sprintf('number of late peaks: %d\\n', sum(!peaks$group[, 'MEF_Dox_d1_Etv2'] & peaks$group[, 'MEF_Dox_d7_Etv2'])))\n",
        "message(sprintf('number of sustained peaks: %d\\n', sum(peaks$group[, 'MEF_Dox_d1_Etv2'] & peaks$group[, 'MEF_Dox_d7_Etv2'])))"
      ],
      "execution_count": 14,
      "outputs": [
        {
          "output_type": "stream",
          "name": "stderr",
          "text": [
            "number of early peaks: 111167\n",
            "\n",
            "\n",
            "number of late peaks: 4222\n",
            "\n",
            "\n",
            "number of sustained peaks: 12170\n",
            "\n",
            "\n"
          ]
        }
      ]
    },
    {
      "cell_type": "markdown",
      "metadata": {
        "id": "vyT2iPxhe4Y8"
      },
      "source": [
        "## Load motifs and get binding sites containing Etv2 canonical motif"
      ]
    },
    {
      "cell_type": "code",
      "metadata": {
        "id": "r5n2v0oPe2mK"
      },
      "source": [
        "data('homer_pwms')"
      ],
      "execution_count": 15,
      "outputs": []
    },
    {
      "cell_type": "code",
      "metadata": {
        "id": "okwfYJmLn1y-",
        "colab": {
          "base_uri": "https://localhost:8080/",
          "height": 508
        },
        "outputId": "07ffe9ed-0b00-4a2d-c099-123c449a2d4c"
      },
      "source": [
        "data('homer_pwms')\n",
        "Etv2_canonical <- homer_pwms[['Etv2(ETS)/ES-ER71-ChIP-Seq(GSE59402)/Homer(0.967)']]\n",
        "Etv2_canonical"
      ],
      "execution_count": 16,
      "outputs": [
        {
          "output_type": "display_data",
          "data": {
            "text/plain": [
              "An object of class PWMatrix\n",
              "ID: Etv2(ETS)/ES-ER71-ChIP-Seq(GSE59402)/Homer(0.967)\n",
              "Name: Etv2(ETS)\n",
              "Matrix Class: Unknown\n",
              "strand: +\n",
              "Pseudocounts: \n",
              "Tags: \n",
              "$evidence\n",
              "[1] \"ES-ER71-ChIP-Seq(GSE59402)\"\n",
              "\n",
              "$source\n",
              "[1] \"Homer(0.967)\"\n",
              "\n",
              "Background: \n",
              "   A    C    G    T \n",
              "0.25 0.25 0.25 0.25 \n",
              "Matrix: \n",
              "         [,1]       [,2]        [,3]       [,4]        [,5]      [,6]      [,7]\n",
              "A -0.16016875 -0.3856625  0.60758929 -2.3859667  0.08801088 -5.521461 -5.521461\n",
              "C  0.18564935  0.1988509 -0.60880603  0.6418539 -5.52146092 -5.521461  1.383290\n",
              "G  0.02371653 -0.0618754  0.06203539 -0.9571127 -2.74887220 -5.521461 -5.521461\n",
              "T -0.08338161  0.1484200 -0.58698698  0.4848922  1.04380405  1.383290 -5.521461\n",
              "       [,8]       [,9]       [,10]      [,11]       [,12]\n",
              "A -5.521461 -2.4304185 -1.53247687 -0.1544844 -0.46621461\n",
              "C  1.383290 -2.4304185 -0.03666398  0.1071607  0.09066769\n",
              "G -5.521461  0.4134333  0.69912925 -0.3787969  0.09431068\n",
              "T -5.521461  0.8381130 -0.21319322  0.2966507  0.16451494"
            ]
          },
          "metadata": {}
        }
      ]
    },
    {
      "cell_type": "markdown",
      "metadata": {
        "id": "l3mmZ2D1zgcu"
      },
      "source": [
        "## Parameter selected by Dr. Wuming's colab notebook"
      ]
    },
    {
      "cell_type": "code",
      "metadata": {
        "id": "Si1VvUfvljrC"
      },
      "source": [
        "cutoff <- 5e-4\n",
        "width <- 50L"
      ],
      "execution_count": 17,
      "outputs": []
    },
    {
      "cell_type": "code",
      "metadata": {
        "id": "WxQggf_qlhyR"
      },
      "source": [
        "motif_ix <- matchMotifs(\n",
        "  homer_pwms['Etv2(ETS)/ES-ER71-ChIP-Seq(GSE59402)/Homer(0.967)'], \n",
        "  resize(peaks, width = width, fix = 'center'), \n",
        "  genome = BSgenome.Mmusculus.UCSC.mm10,\n",
        "  p.cutoff = cutoff\n",
        ")\n",
        "has_motif_MEF  <- assays(motif_ix)$motifMatches\n",
        "colnames(has_motif_MEF) <- c('canonical')"
      ],
      "execution_count": 18,
      "outputs": []
    },
    {
      "cell_type": "code",
      "metadata": {
        "id": "i3nRpKtqmShJ"
      },
      "source": [
        "params <- expand.grid(\n",
        "  cutoff = c(5e-2, 5e-3, 5e-4, 5e-5, 5e-6, 5e-7),\n",
        "  width = c(25L, 50L, 75L, 100L)\n",
        ")"
      ],
      "execution_count": 19,
      "outputs": []
    },
    {
      "cell_type": "code",
      "metadata": {
        "id": "vEwL03-DmSeV"
      },
      "source": [
        "B <- do.call('cbind', lapply(1:nrow(params), function(i){ \n",
        "  motif_ix <- matchMotifs(\n",
        "    homer_pwms['Etv2(ETS)/ES-ER71-ChIP-Seq(GSE59402)/Homer(0.967)'], \n",
        "    resize(peaks, width = params[i, 'width'], fix = 'center'), \n",
        "    genome = BSgenome.Mmusculus.UCSC.mm10,\n",
        "    p.cutoff = params[i, 'cutoff']\n",
        "  )\n",
        "  assays(motif_ix)$motifMatches[, 1]\n",
        "}))"
      ],
      "execution_count": 20,
      "outputs": []
    },
    {
      "cell_type": "code",
      "metadata": {
        "id": "X34WD_2KmSbX"
      },
      "source": [
        "has_motif <- B[, which(params$width == 50 & params$cutoff == 5e-4)]"
      ],
      "execution_count": 21,
      "outputs": []
    },
    {
      "cell_type": "code",
      "metadata": {
        "id": "Fr-87sP4mK7-",
        "colab": {
          "base_uri": "https://localhost:8080/"
        },
        "outputId": "356d487e-9f2c-430a-9d94-e78e41988504"
      },
      "source": [
        "sprintf('number of Etv2 peaks in MEFS: %d', length(peaks)) %>% message()\n",
        "sprintf('number of Etv2 peaks with canonical Etv2 motifs in MEFS: %d', length(peaks[has_motif])) %>% message()"
      ],
      "execution_count": 22,
      "outputs": [
        {
          "output_type": "stream",
          "name": "stderr",
          "text": [
            "number of Etv2 peaks in MEFS: 127559\n",
            "\n",
            "number of Etv2 peaks with canonical Etv2 motifs in MEFS: 21343\n",
            "\n"
          ]
        }
      ]
    },
    {
      "cell_type": "code",
      "metadata": {
        "id": "-3Xf9lszOJmq",
        "colab": {
          "base_uri": "https://localhost:8080/"
        },
        "outputId": "3e31d327-7aeb-4f0a-9250-dfe6cd6298d3"
      },
      "source": [
        "peaks <- gr[gr$group[, 'MEF_Dox_d1_Etv2'] | gr$group[, 'MEF_Dox_d7_Etv2']]\n",
        "message(sprintf('number of early peaks: %d\\n', sum(has_motif & peaks$group[, 'MEF_Dox_d1_Etv2'] & !peaks$group[, 'MEF_Dox_d7_Etv2'])))\n",
        "message(sprintf('number of late peaks: %d\\n', sum(has_motif & !peaks$group[, 'MEF_Dox_d1_Etv2'] & peaks$group[, 'MEF_Dox_d7_Etv2'])))\n",
        "message(sprintf('number of sustained peaks: %d\\n', sum(has_motif& peaks$group[, 'MEF_Dox_d1_Etv2'] & peaks$group[, 'MEF_Dox_d7_Etv2'])))"
      ],
      "execution_count": 23,
      "outputs": [
        {
          "output_type": "stream",
          "name": "stderr",
          "text": [
            "number of early peaks: 14074\n",
            "\n",
            "\n",
            "number of late peaks: 2304\n",
            "\n",
            "\n",
            "number of sustained peaks: 4965\n",
            "\n",
            "\n"
          ]
        }
      ]
    },
    {
      "cell_type": "markdown",
      "metadata": {
        "id": "FMn7Tvxg-hEu"
      },
      "source": [
        "## Prepare normalized matrix for `EnrichedHeatmap`"
      ]
    },
    {
      "cell_type": "code",
      "metadata": {
        "id": "C7S-JgxRl4IA",
        "colab": {
          "base_uri": "https://localhost:8080/",
          "height": 544
        },
        "outputId": "dd23af8a-f8e2-4ed0-bf82-b956b6f5f358"
      },
      "source": [
        "peaks[has_motif]"
      ],
      "execution_count": 24,
      "outputs": [
        {
          "output_type": "display_data",
          "data": {
            "text/plain": [
              "GRanges object with 21343 ranges and 4 metadata columns:\n",
              "          seqnames            ranges strand |                peak_id     score\n",
              "             <Rle>         <IRanges>  <Rle> |            <character> <numeric>\n",
              "      [1]     chr1   4433661-4433860      * | /panfs/roc/scratch/g..   17.3565\n",
              "      [2]     chr1   4496394-4496593      * | /panfs/roc/scratch/g..   11.5497\n",
              "      [3]     chr1   4775141-4775340      * | /panfs/roc/scratch/g..    3.5591\n",
              "      [4]     chr1   4857544-4857743      * | /panfs/roc/scratch/g..   52.1944\n",
              "      [5]     chr1   5019447-5019646      * | /panfs/roc/scratch/g..   20.3490\n",
              "      ...      ...               ...    ... .                    ...       ...\n",
              "  [21339]     chrY 90792123-90792322      * | /panfs/roc/scratch/g..   27.7675\n",
              "  [21340]     chrY 90798976-90799175      * | /panfs/roc/scratch/g..   51.0622\n",
              "  [21341]     chrY 90805721-90805920      * | /panfs/roc/scratch/g..   19.0219\n",
              "  [21342]     chrY 90808403-90808602      * | /panfs/roc/scratch/g..   23.5163\n",
              "  [21343]     chrY 90842563-90842762      * | /panfs/roc/scratch/g..   11.7822\n",
              "                   source                group\n",
              "              <character>             <matrix>\n",
              "      [1] MEF_Dox_d7_Etv2 FALSE:FALSE:TRUE:...\n",
              "      [2] EB_Dox_12h_Etv2 TRUE:FALSE:FALSE:...\n",
              "      [3] MEF_Dox_d7_Etv2 FALSE:FALSE:TRUE:...\n",
              "      [4] MEF_Dox_d1_Etv2  TRUE:FALSE:TRUE:...\n",
              "      [5] MEF_Dox_d1_Etv2  TRUE:TRUE:FALSE:...\n",
              "      ...             ...                  ...\n",
              "  [21339]  EB_Dox_3h_Etv2  TRUE:TRUE:FALSE:...\n",
              "  [21340] MEF_Dox_d2_Etv2  TRUE:TRUE:FALSE:...\n",
              "  [21341]  EB_Dox_3h_Etv2 FALSE:FALSE:TRUE:...\n",
              "  [21342]  EB_Dox_3h_Etv2  FALSE:TRUE:TRUE:...\n",
              "  [21343] MEF_Dox_d1_Etv2 TRUE:FALSE:FALSE:...\n",
              "  -------\n",
              "  seqinfo: 21 sequences from an unspecified genome; no seqlengths"
            ]
          },
          "metadata": {}
        }
      ]
    },
    {
      "cell_type": "code",
      "metadata": {
        "id": "WV4fG0M9J9IN",
        "colab": {
          "base_uri": "https://localhost:8080/"
        },
        "outputId": "7139ca6f-15f4-4dfa-8572-b5ed426af80c"
      },
      "source": [
        "sprintf('number of Etv2 peaks in MEFS: %d', length(peaks)) %>% message()\n",
        "sprintf('number of Etv2 peaks with canonical Etv2 motifs in MEFS: %d', length(peaks[has_motif])) %>% message()"
      ],
      "execution_count": 25,
      "outputs": [
        {
          "output_type": "stream",
          "name": "stderr",
          "text": [
            "number of Etv2 peaks in MEFS: 127559\n",
            "\n",
            "number of Etv2 peaks with canonical Etv2 motifs in MEFS: 21343\n",
            "\n"
          ]
        }
      ]
    },
    {
      "cell_type": "code",
      "metadata": {
        "id": "djhtUzHXH2lx"
      },
      "source": [
        "peaks <- peaks[has_motif] #Peaks with canonical Etv2 motif"
      ],
      "execution_count": 26,
      "outputs": []
    },
    {
      "cell_type": "markdown",
      "metadata": {
        "id": "mfScyyCnx9X2"
      },
      "source": [
        "# Enriched Heatmap"
      ]
    },
    {
      "cell_type": "markdown",
      "metadata": {
        "id": "13y9CJQTx5fo"
      },
      "source": [
        "## Parameters for enriched heatmap"
      ]
    },
    {
      "cell_type": "code",
      "metadata": {
        "id": "JXCBI_lSAPiy",
        "colab": {
          "base_uri": "https://localhost:8080/"
        },
        "outputId": "fe766813-39c7-438b-b185-fdc1c05b6add"
      },
      "source": [
        "extend <- 1000\n",
        "w <- 50\n",
        "smooth <- FALSE\n",
        "target_ratio <- 0.2\n",
        "mc.cores <- 2\n",
        "target_width <- width(peaks)[1]\n",
        "message(sprintf('target width: %d\\n', target_width))"
      ],
      "execution_count": 27,
      "outputs": [
        {
          "output_type": "stream",
          "name": "stderr",
          "text": [
            "target width: 200\n",
            "\n",
            "\n"
          ]
        }
      ]
    },
    {
      "cell_type": "markdown",
      "metadata": {
        "id": "HCgfSnqWyAiy"
      },
      "source": [
        "## Normalized Matrix"
      ]
    },
    {
      "cell_type": "code",
      "metadata": {
        "id": "AxPghLVvBKqh"
      },
      "source": [
        "mat <- mclapply(bw_files, function(bw_file){\n",
        "  cvg <- rtracklayer::import(\n",
        "    bw_file, \n",
        "    which = trim(GenomicRanges::reduce(resize(peaks, fix = 'center', width = target_width + extend * 2)))\n",
        "  )  # returned as a GRanges object\n",
        "  normalizeToMatrix(\n",
        "    cvg, \n",
        "    peaks, \n",
        "    extend = extend, \n",
        "    value_column = 'score', \n",
        "    mean_mode = 'w0', \n",
        "    w = w, \n",
        "    smooth = smooth, \n",
        "    target_ratio = target_ratio\n",
        "  )\n",
        "}, mc.cores = 2)"
      ],
      "execution_count": 28,
      "outputs": []
    },
    {
      "cell_type": "markdown",
      "metadata": {
        "id": "NhACPghwxxMD"
      },
      "source": [
        "## Color annotation"
      ]
    },
    {
      "cell_type": "code",
      "metadata": {
        "id": "-DN8WAqQxuKh"
      },
      "source": [
        "group_cols <- rep('red', length(bw_files)) \n",
        "names(group_cols) <- names(bw_files)\n",
        "col_fun <- lapply(1:length(mat), function(i) colorRamp2(quantile(mat[[i]], c(0.005, 0.995)), c('white', group_cols[i])))\n",
        "names(col_fun) <- names(bw_files)\n"
      ],
      "execution_count": 29,
      "outputs": []
    },
    {
      "cell_type": "markdown",
      "metadata": {
        "id": "AijwS9oUxy3e"
      },
      "source": [
        "# Enriched Heatmap Etv2 and Brg1 for sustained peaks"
      ]
    },
    {
      "cell_type": "code",
      "metadata": {
        "id": "MJRe_SzFovF_"
      },
      "source": [
        "sp <- factor(sprintf('%s_%s', peaks$group[, 'MEF_Dox_d1_Etv2'], peaks$group[, 'MEF_Dox_d7_Etv2']))"
      ],
      "execution_count": 30,
      "outputs": []
    },
    {
      "cell_type": "code",
      "metadata": {
        "id": "HAWP_CuUNBz7"
      },
      "source": [
        "mat_sub <- lapply(mat, function(m){\n",
        "  m[sp == 'TRUE_TRUE',]\n",
        "})"
      ],
      "execution_count": 31,
      "outputs": []
    },
    {
      "cell_type": "code",
      "metadata": {
        "id": "cBRWnUYNOo0g"
      },
      "source": [
        "peaks$sp <- sp"
      ],
      "execution_count": 32,
      "outputs": []
    },
    {
      "cell_type": "code",
      "metadata": {
        "id": "DPggulFeNeOA"
      },
      "source": [
        "group_cols <- rep('red', length(bw_files)) \n",
        "names(group_cols) <- names(bw_files)\n",
        "col_fun <- lapply(1:length(mat_sub), function(i) colorRamp2(quantile(mat_sub[[i]], c(0.005, 0.995)), c('white', group_cols[i])))\n",
        "names(col_fun) <- names(bw_files)\n"
      ],
      "execution_count": 33,
      "outputs": []
    },
    {
      "cell_type": "code",
      "metadata": {
        "id": "r-ifdhOHOZQJ"
      },
      "source": [
        "peaks_sub <- peaks[peaks$sp == 'TRUE_TRUE',]"
      ],
      "execution_count": 34,
      "outputs": []
    },
    {
      "cell_type": "code",
      "metadata": {
        "colab": {
          "base_uri": "https://localhost:8080/",
          "height": 544
        },
        "id": "7hIacmeiOkTv",
        "outputId": "d1ab8280-12d5-46fe-f97c-cca29e4a9d08"
      },
      "source": [
        "peaks_sub"
      ],
      "execution_count": 35,
      "outputs": [
        {
          "output_type": "display_data",
          "data": {
            "text/plain": [
              "GRanges object with 4965 ranges and 5 metadata columns:\n",
              "         seqnames              ranges strand |                peak_id     score\n",
              "            <Rle>           <IRanges>  <Rle> |            <character> <numeric>\n",
              "     [1]     chr1     4857544-4857743      * | /panfs/roc/scratch/g..   52.1944\n",
              "     [2]     chr1     7395522-7395721      * | /panfs/roc/scratch/g..   10.1690\n",
              "     [3]     chr1     9637114-9637313      * | /panfs/roc/scratch/g..  106.8682\n",
              "     [4]     chr1     9700579-9700778      * | /panfs/roc/scratch/g..  121.0125\n",
              "     [5]     chr1     9748431-9748630      * | /panfs/roc/scratch/g..   20.3490\n",
              "     ...      ...                 ...    ... .                    ...       ...\n",
              "  [4961]     chrX 166316894-166317093      * | /panfs/roc/scratch/g..   27.1496\n",
              "  [4962]     chrX 166510286-166510485      * | /panfs/roc/scratch/g..  137.4440\n",
              "  [4963]     chrX 169411827-169412026      * | /panfs/roc/scratch/g..   64.3067\n",
              "  [4964]     chrX 169986874-169987073      * | /panfs/roc/scratch/g..  243.0145\n",
              "  [4965]     chrX 170677903-170678102      * | /panfs/roc/scratch/g..   87.5629\n",
              "                  source               group        sp\n",
              "             <character>            <matrix>  <factor>\n",
              "     [1] MEF_Dox_d1_Etv2 TRUE:FALSE:TRUE:... TRUE_TRUE\n",
              "     [2] EB_Dox_12h_Etv2 TRUE:FALSE:TRUE:... TRUE_TRUE\n",
              "     [3] MEF_Dox_d1_Etv2  TRUE:TRUE:TRUE:... TRUE_TRUE\n",
              "     [4] MEF_Dox_d2_Etv2  TRUE:TRUE:TRUE:... TRUE_TRUE\n",
              "     [5] MEF_Dox_d1_Etv2  TRUE:TRUE:TRUE:... TRUE_TRUE\n",
              "     ...             ...                 ...       ...\n",
              "  [4961] MEF_Dox_d7_Etv2  TRUE:TRUE:TRUE:... TRUE_TRUE\n",
              "  [4962] MEF_Dox_d2_Etv2  TRUE:TRUE:TRUE:... TRUE_TRUE\n",
              "  [4963] MEF_Dox_d2_Etv2  TRUE:TRUE:TRUE:... TRUE_TRUE\n",
              "  [4964] MEF_Dox_d2_Etv2  TRUE:TRUE:TRUE:... TRUE_TRUE\n",
              "  [4965] MEF_Dox_d2_Etv2  TRUE:TRUE:TRUE:... TRUE_TRUE\n",
              "  -------\n",
              "  seqinfo: 21 sequences from an unspecified genome; no seqlengths"
            ]
          },
          "metadata": {}
        }
      ]
    },
    {
      "cell_type": "code",
      "metadata": {
        "colab": {
          "base_uri": "https://localhost:8080/",
          "height": 1000
        },
        "id": "f2cWBBl7M1AZ",
        "outputId": "25d516de-f3ae-4c9e-94d6-ded1410375ff"
      },
      "source": [
        "i <- 1:length(peaks_sub)\n",
        "sp <- sp[sp == 'TRUE_TRUE']\n",
        "ta <- HeatmapAnnotation(\n",
        "  enriched = anno_enriched(\n",
        "    gp = gpar(lty = 1, lwd = 2, col = 1:nlevels(sp)), \n",
        "    axis_param = list(facing = 'inside', at = -1000),\n",
        "        ylim = c(0, 30)\n",
        "  )\n",
        ")\n",
        "h <- EnrichedHeatmap(\n",
        "  mat_sub[['MEF_Dox_D1_Etv2']][i, ], \n",
        "  col = col_fun[['MEF_Dox_D1_Etv2']],\n",
        "  name = 'MEF_Dox_D1_Etv2', \n",
        "  top_annotation = ta, \n",
        "  pos_line = FALSE\n",
        ")\n",
        "ss <- c(\n",
        "  'MEF_Dox_D7_Etv2', 'Brg1_KD_D1', 'Brg1_KD_D7'\n",
        ")\n",
        "for (s in ss[ss %in% names(bw_files)]){\n",
        "  h <- h + EnrichedHeatmap(mat_sub[[s]][i, ], col = col_fun[[s]], name = s, top_annotation = ta, pos_line = FALSE)\n",
        "}\n",
        "options(repr.plot.width = 5, repr.plot.height = 10)\n",
        "draw(h, heatmap_legend_side = 'bottom', row_order = order(enriched_score(mat_sub[['Brg1_KD_D7']]), decreasing = TRUE))"
      ],
      "execution_count": 36,
      "outputs": [
        {
          "output_type": "stream",
          "name": "stderr",
          "text": [
            "`use_raster` is automatically set to TRUE for a matrix with more than\n",
            "2000 rows. You can control `use_raster` argument by explicitly setting\n",
            "TRUE/FALSE to it.\n",
            "\n",
            "Set `ht_opt$message = FALSE` to turn off this message.\n",
            "\n",
            "'magick' package is suggested to install to give better rasterization.\n",
            "\n",
            "Set `ht_opt$message = FALSE` to turn off this message.\n",
            "\n",
            "`use_raster` is automatically set to TRUE for a matrix with more than\n",
            "2000 rows. You can control `use_raster` argument by explicitly setting\n",
            "TRUE/FALSE to it.\n",
            "\n",
            "Set `ht_opt$message = FALSE` to turn off this message.\n",
            "\n",
            "'magick' package is suggested to install to give better rasterization.\n",
            "\n",
            "Set `ht_opt$message = FALSE` to turn off this message.\n",
            "\n",
            "`use_raster` is automatically set to TRUE for a matrix with more than\n",
            "2000 rows. You can control `use_raster` argument by explicitly setting\n",
            "TRUE/FALSE to it.\n",
            "\n",
            "Set `ht_opt$message = FALSE` to turn off this message.\n",
            "\n",
            "'magick' package is suggested to install to give better rasterization.\n",
            "\n",
            "Set `ht_opt$message = FALSE` to turn off this message.\n",
            "\n",
            "`use_raster` is automatically set to TRUE for a matrix with more than\n",
            "2000 rows. You can control `use_raster` argument by explicitly setting\n",
            "TRUE/FALSE to it.\n",
            "\n",
            "Set `ht_opt$message = FALSE` to turn off this message.\n",
            "\n",
            "'magick' package is suggested to install to give better rasterization.\n",
            "\n",
            "Set `ht_opt$message = FALSE` to turn off this message.\n",
            "\n"
          ]
        },
        {
          "output_type": "display_data",
          "data": {
            "image/png": "[encoded data removed]",
            "text/plain": [
              "plot without title"
            ]
          },
          "metadata": {
            "image/png": {
              "width": 300,
              "height": 600
            }
          }
        }
      ]
    },
    {
      "cell_type": "markdown",
      "metadata": {
        "id": "5AuGC0ugz0zS"
      },
      "source": [
        "We visually see reduced intensity at the center for Brg1_KD_D7 conditiona as compared to the other 3 conditions."
      ]
    },
    {
      "cell_type": "code",
      "metadata": {
        "id": "DLYh9wPhxed2",
        "colab": {
          "base_uri": "https://localhost:8080/",
          "height": 1000
        },
        "outputId": "a9ec20c0-bfae-4498-da16-39a2ed623208"
      },
      "source": [
        "sessionInfo()"
      ],
      "execution_count": 37,
      "outputs": [
        {
          "output_type": "display_data",
          "data": {
            "text/plain": [
              "R version 4.1.1 (2021-08-10)\n",
              "Platform: x86_64-pc-linux-gnu (64-bit)\n",
              "Running under: Ubuntu 18.04.5 LTS\n",
              "\n",
              "Matrix products: default\n",
              "BLAS:   /usr/lib/x86_64-linux-gnu/openblas/libblas.so.3\n",
              "LAPACK: /usr/lib/x86_64-linux-gnu/libopenblasp-r0.2.20.so\n",
              "\n",
              "locale:\n",
              " [1] LC_CTYPE=en_US.UTF-8       LC_NUMERIC=C              \n",
              " [3] LC_TIME=en_US.UTF-8        LC_COLLATE=en_US.UTF-8    \n",
              " [5] LC_MONETARY=en_US.UTF-8    LC_MESSAGES=en_US.UTF-8   \n",
              " [7] LC_PAPER=en_US.UTF-8       LC_NAME=C                 \n",
              " [9] LC_ADDRESS=C               LC_TELEPHONE=C            \n",
              "[11] LC_MEASUREMENT=en_US.UTF-8 LC_IDENTIFICATION=C       \n",
              "\n",
              "attached base packages:\n",
              " [1] grid      parallel  stats4    stats     graphics  grDevices utils    \n",
              " [8] datasets  methods   base     \n",
              "\n",
              "other attached packages:\n",
              " [1] ChIPseeker_1.29.1.991              circlize_0.4.13                   \n",
              " [3] EnrichedHeatmap_1.22.0             ComplexHeatmap_2.8.0              \n",
              " [5] ggplot2_3.3.5                      SummarizedExperiment_1.22.0       \n",
              " [7] Biobase_2.52.0                     MatrixGenerics_1.4.3              \n",
              " [9] matrixStats_0.61.0                 chromVARmotifs_0.2.0              \n",
              "[11] motifmatchr_1.14.0                 BSgenome.Mmusculus.UCSC.mm10_1.4.0\n",
              "[13] BSgenome_1.60.0                    rtracklayer_1.52.1                \n",
              "[15] Biostrings_2.60.2                  XVector_0.32.0                    \n",
              "[17] dplyr_1.0.7                        GenomicRanges_1.44.0              \n",
              "[19] GenomeInfoDb_1.28.4                IRanges_2.26.0                    \n",
              "[21] S4Vectors_0.30.2                   BiocGenerics_0.38.0               \n",
              "[23] devtools_2.4.2                     usethis_2.0.1                     \n",
              "\n",
              "loaded via a namespace (and not attached):\n",
              "  [1] utf8_1.2.2                             \n",
              "  [2] R.utils_2.11.0                         \n",
              "  [3] tidyselect_1.1.1                       \n",
              "  [4] poweRlaw_0.70.6                        \n",
              "  [5] RSQLite_2.2.8                          \n",
              "  [6] AnnotationDbi_1.54.1                   \n",
              "  [7] BiocParallel_1.26.2                    \n",
              "  [8] scatterpie_0.1.7                       \n",
              "  [9] munsell_0.5.0                          \n",
              " [10] codetools_0.2-18                       \n",
              " [11] pbdZMQ_0.3-5                           \n",
              " [12] withr_2.4.2                            \n",
              " [13] colorspace_2.0-2                       \n",
              " [14] GOSemSim_2.18.1                        \n",
              " [15] filelock_1.0.2                         \n",
              " [16] uuid_0.1-4                             \n",
              " [17] DOSE_3.18.3                            \n",
              " [18] repr_1.1.3                             \n",
              " [19] GenomeInfoDbData_1.2.6                 \n",
              " [20] polyclip_1.10-0                        \n",
              " [21] bit64_4.0.5                            \n",
              " [22] farver_2.1.0                           \n",
              " [23] rprojroot_2.0.2                        \n",
              " [24] treeio_1.16.2                          \n",
              " [25] vctrs_0.3.8                            \n",
              " [26] generics_0.1.0                         \n",
              " [27] BiocFileCache_2.0.0                    \n",
              " [28] R6_2.5.1                               \n",
              " [29] doParallel_1.0.16                      \n",
              " [30] clue_0.3-60                            \n",
              " [31] graphlayouts_0.7.1                     \n",
              " [32] locfit_1.5-9.4                         \n",
              " [33] gridGraphics_0.5-1                     \n",
              " [34] bitops_1.0-7                           \n",
              " [35] cachem_1.0.6                           \n",
              " [36] fgsea_1.18.0                           \n",
              " [37] DelayedArray_0.18.0                    \n",
              " [38] assertthat_0.2.1                       \n",
              " [39] BiocIO_1.2.0                           \n",
              " [40] scales_1.1.1                           \n",
              " [41] ggraph_2.0.5                           \n",
              " [42] enrichplot_1.13.1.992                  \n",
              " [43] gtable_0.3.0                           \n",
              " [44] Cairo_1.5-12.2                         \n",
              " [45] processx_3.5.2                         \n",
              " [46] tidygraph_1.2.0                        \n",
              " [47] seqLogo_1.58.0                         \n",
              " [48] rlang_0.4.11                           \n",
              " [49] GlobalOptions_0.1.2                    \n",
              " [50] splines_4.1.1                          \n",
              " [51] lazyeval_0.2.2                         \n",
              " [52] BiocManager_1.30.16                    \n",
              " [53] yaml_2.2.1                             \n",
              " [54] reshape2_1.4.4                         \n",
              " [55] GenomicFeatures_1.44.2                 \n",
              " [56] qvalue_2.24.0                          \n",
              " [57] tools_4.1.1                            \n",
              " [58] ggplotify_0.1.0                        \n",
              " [59] gplots_3.1.1                           \n",
              " [60] ellipsis_0.3.2                         \n",
              " [61] RColorBrewer_1.1-2                     \n",
              " [62] sessioninfo_1.1.1                      \n",
              " [63] Rcpp_1.0.7                             \n",
              " [64] plyr_1.8.6                             \n",
              " [65] base64enc_0.1-3                        \n",
              " [66] progress_1.2.2                         \n",
              " [67] zlibbioc_1.38.0                        \n",
              " [68] purrr_0.3.4                            \n",
              " [69] RCurl_1.98-1.5                         \n",
              " [70] ps_1.6.0                               \n",
              " [71] prettyunits_1.1.1                      \n",
              " [72] GetoptLong_1.0.5                       \n",
              " [73] viridis_0.6.1                          \n",
              " [74] ggrepel_0.9.1                          \n",
              " [75] cluster_2.1.2                          \n",
              " [76] fs_1.5.0                               \n",
              " [77] magrittr_2.0.1                         \n",
              " [78] data.table_1.14.2                      \n",
              " [79] DO.db_2.9                              \n",
              " [80] pkgload_1.2.2                          \n",
              " [81] patchwork_1.1.1                        \n",
              " [82] hms_1.1.1                              \n",
              " [83] evaluate_0.14                          \n",
              " [84] xtable_1.8-4                           \n",
              " [85] XML_3.99-0.8                           \n",
              " [86] gridExtra_2.3                          \n",
              " [87] shape_1.4.6                            \n",
              " [88] testthat_3.0.4                         \n",
              " [89] compiler_4.1.1                         \n",
              " [90] biomaRt_2.48.3                         \n",
              " [91] tibble_3.1.5                           \n",
              " [92] KernSmooth_2.23-20                     \n",
              " [93] shadowtext_0.0.9                       \n",
              " [94] crayon_1.4.1                           \n",
              " [95] R.oo_1.24.0                            \n",
              " [96] htmltools_0.5.2                        \n",
              " [97] ggfun_0.0.4                            \n",
              " [98] tzdb_0.1.2                             \n",
              " [99] TFBSTools_1.30.0                       \n",
              "[100] tidyr_1.1.4                            \n",
              "[101] aplot_0.1.1                            \n",
              "[102] DBI_1.1.1                              \n",
              "[103] tweenr_1.0.2                           \n",
              "[104] dbplyr_2.1.1                           \n",
              "[105] MASS_7.3-54                            \n",
              "[106] rappdirs_0.3.3                         \n",
              "[107] boot_1.3-28                            \n",
              "[108] Matrix_1.3-4                           \n",
              "[109] readr_2.0.2                            \n",
              "[110] cli_3.0.1                              \n",
              "[111] R.methodsS3_1.8.1                      \n",
              "[112] igraph_1.2.6                           \n",
              "[113] pkgconfig_2.0.3                        \n",
              "[114] TxDb.Hsapiens.UCSC.hg19.knownGene_3.2.2\n",
              "[115] GenomicAlignments_1.28.0               \n",
              "[116] TFMPvalue_0.0.8                        \n",
              "[117] IRdisplay_1.0                          \n",
              "[118] xml2_1.3.2                             \n",
              "[119] foreach_1.5.1                          \n",
              "[120] ggtree_3.0.4                           \n",
              "[121] annotate_1.70.0                        \n",
              "[122] DirichletMultinomial_1.34.0            \n",
              "[123] yulab.utils_0.0.4                      \n",
              "[124] stringr_1.4.0                          \n",
              "[125] callr_3.7.0                            \n",
              "[126] digest_0.6.27                          \n",
              "[127] pracma_2.3.3                           \n",
              "[128] CNEr_1.28.0                            \n",
              "[129] fastmatch_1.1-3                        \n",
              "[130] tidytree_0.3.5                         \n",
              "[131] restfulr_0.0.13                        \n",
              "[132] curl_4.3.2                             \n",
              "[133] Rsamtools_2.8.0                        \n",
              "[134] gtools_3.9.2                           \n",
              "[135] rjson_0.2.20                           \n",
              "[136] nlme_3.1-152                           \n",
              "[137] lifecycle_1.0.0                        \n",
              "[138] jsonlite_1.7.2                         \n",
              "[139] desc_1.3.0                             \n",
              "[140] viridisLite_0.4.0                      \n",
              "[141] fansi_0.5.0                            \n",
              "[142] pillar_1.6.2                           \n",
              "[143] lattice_0.20-45                        \n",
              "[144] plotrix_3.8-2                          \n",
              "[145] KEGGREST_1.32.0                        \n",
              "[146] fastmap_1.1.0                          \n",
              "[147] httr_1.4.2                             \n",
              "[148] pkgbuild_1.2.0                         \n",
              "[149] GO.db_3.13.0                           \n",
              "[150] glue_1.4.2                             \n",
              "[151] remotes_2.4.0                          \n",
              "[152] png_0.1-7                              \n",
              "[153] iterators_1.0.13                       \n",
              "[154] bit_4.0.4                              \n",
              "[155] ggforce_0.3.3                          \n",
              "[156] stringi_1.7.5                          \n",
              "[157] blob_1.2.2                             \n",
              "[158] caTools_1.18.2                         \n",
              "[159] memoise_2.0.0                          \n",
              "[160] IRkernel_1.2                           \n",
              "[161] ape_5.5                                "
            ]
          },
          "metadata": {}
        }
      ]
    },
    {
      "cell_type": "code",
      "metadata": {
        "id": "t8JLxMUeybHs",
        "colab": {
          "base_uri": "https://localhost:8080/",
          "height": 35
        },
        "outputId": "ba8d19c6-76c7-4d86-bf59-c39d55ecf4be"
      },
      "source": [
        "Sys.time() - start_time0"
      ],
      "execution_count": 38,
      "outputs": [
        {
          "output_type": "display_data",
          "data": {
            "text/plain": [
              "Time difference of 1.612924 hours"
            ]
          },
          "metadata": {}
        }
      ]
    }
  ]
}