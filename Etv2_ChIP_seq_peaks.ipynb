{
  "nbformat": 4,
  "nbformat_minor": 0,
  "metadata": {
    "kernelspec": {
      "display_name": "R",
      "language": "R",
      "name": "ir"
    },
    "language_info": {
      "codemirror_mode": "r",
      "file_extension": ".r",
      "mimetype": "text/x-r-source",
      "name": "R",
      "pygments_lexer": "r",
      "version": "3.3.1"
    },
    "colab": {
      "name": "Etv2_ChIP-seq_peaks.ipynb",
      "provenance": [],
      "collapsed_sections": [
        "wFuTF2MUEiAk"
      ],
      "toc_visible": true,
      "machine_shape": "hm",
      "include_colab_link": true
    },
    "accelerator": "GPU"
  },
  "cells": [
    {
      "cell_type": "markdown",
      "metadata": {
        "id": "view-in-github",
        "colab_type": "text"
      },
      "source": [
        "<a href=\"https://colab.research.google.com/github/gongx030/etv2_pioneer/blob/master/Etv2_ChIP_seq_peaks.ipynb\" target=\"_parent\"><img src=\"https://colab.research.google.com/assets/colab-badge.svg\" alt=\"Open In Colab\"/></a>"
      ]
    },
    {
      "cell_type": "markdown",
      "metadata": {
        "id": "4TLq2MbDD3zq"
      },
      "source": [
        "# Compare the overlap of Etv2 ChIP-seq peaks\n",
        "by Wuming Gong\n",
        "\n"
      ]
    },
    {
      "cell_type": "code",
      "metadata": {
        "id": "6OhqEEeZHroa"
      },
      "source": [
        "start_time0 <- Sys.time()"
      ],
      "execution_count": 13,
      "outputs": []
    },
    {
      "cell_type": "markdown",
      "metadata": {
        "id": "wFuTF2MUEiAk"
      },
      "source": [
        "## Install R packages"
      ]
    },
    {
      "cell_type": "code",
      "metadata": {
        "id": "8EZ8Zm7zagc0",
        "outputId": "d074c28d-4c57-4036-fdae-fa6f34ecb364",
        "colab": {
          "base_uri": "https://localhost:8080/",
          "height": 119
        }
      },
      "source": [
        "if (!requireNamespace(\"BiocManager\", quietly = TRUE))\n",
        "  install.packages(\"BiocManager\")\n",
        "BiocManager::install(c(\n",
        "  'GenomicRanges', 'VennDiagram'\n",
        "), Ncpus = 2)"
      ],
      "execution_count": 14,
      "outputs": [
        {
          "output_type": "stream",
          "text": [
            "Bioconductor version 3.11 (BiocManager 1.30.10), R 4.0.2 (2020-06-22)\n",
            "\n",
            "Installing package(s) 'GenomicRanges', 'VennDiagram'\n",
            "\n",
            "Old packages: 'htmlwidgets', 'readr', 'foreign'\n",
            "\n"
          ],
          "name": "stderr"
        }
      ]
    },
    {
      "cell_type": "code",
      "metadata": {
        "id": "nQFQk04TzjFj"
      },
      "source": [
        "library(GenomicRanges)\n",
        "library(VennDiagram)"
      ],
      "execution_count": 15,
      "outputs": []
    },
    {
      "cell_type": "markdown",
      "metadata": {
        "id": "PyJoh9bxbC1C"
      },
      "source": [
        "## Read a combined Etv2 ChIP-seq peak set"
      ]
    },
    {
      "cell_type": "code",
      "metadata": {
        "id": "ojuU1ngisM0z",
        "outputId": "95499ce7-41e7-47a1-b8ed-8b2fa4f04aea",
        "colab": {
          "base_uri": "https://localhost:8080/",
          "height": 748
        }
      },
      "source": [
        "all_etv2_peaks_url <- 'https://s3.msi.umn.edu/gongx030/datasets/dataset=Etv2PioneerChIPseq_version=20191203a/all_Etv2_peaks.rds'\n",
        "gr <- readRDS(gzcon(url(all_etv2_peaks_url)))\n",
        "gr\n",
        "colnames(gr$group)"
      ],
      "execution_count": 16,
      "outputs": [
        {
          "output_type": "display_data",
          "data": {
            "text/plain": [
              "GRanges object with 162010 ranges and 4 metadata columns:\n",
              "           seqnames            ranges strand |\n",
              "              <Rle>         <IRanges>  <Rle> |\n",
              "       [1]     chr1   3037784-3037983      * |\n",
              "       [2]     chr1   3263790-3263989      * |\n",
              "       [3]     chr1   3344682-3344881      * |\n",
              "       [4]     chr1   3460640-3460839      * |\n",
              "       [5]     chr1   3490314-3490513      * |\n",
              "       ...      ...               ...    ... .\n",
              "  [162006]     chrY 90828936-90829135      * |\n",
              "  [162007]     chrY 90836259-90836458      * |\n",
              "  [162008]     chrY 90841624-90841823      * |\n",
              "  [162009]     chrY 90842563-90842762      * |\n",
              "  [162010]     chrY 90843810-90844009      * |\n",
              "                                                                                                                 peak_id\n",
              "                                                                                                             <character>\n",
              "       [1]      /panfs/roc/scratch/gongx030/datasets/dataset=Etv2PioneerChIPseq_version=20191203a/MEF_Dox_d2_Etv2_peak_1\n",
              "       [2]       /panfs/roc/scratch/gongx030/datasets/dataset=Etv2PioneerChIPseq_version=20191203a/EB_Dox_3h_Etv2_peak_1\n",
              "       [3]      /panfs/roc/scratch/gongx030/datasets/dataset=Etv2PioneerChIPseq_version=20191203a/MEF_Dox_d2_Etv2_peak_2\n",
              "       [4]      /panfs/roc/scratch/gongx030/datasets/dataset=Etv2PioneerChIPseq_version=20191203a/MEF_Dox_d2_Etv2_peak_3\n",
              "       [5]      /panfs/roc/scratch/gongx030/datasets/dataset=Etv2PioneerChIPseq_version=20191203a/MEF_Dox_d2_Etv2_peak_4\n",
              "       ...                                                                                                           ...\n",
              "  [162006] /panfs/roc/scratch/gongx030/datasets/dataset=Etv2PioneerChIPseq_version=20191203a/MEF_Dox_d2_Etv2_peak_61360b\n",
              "  [162007]  /panfs/roc/scratch/gongx030/datasets/dataset=Etv2PioneerChIPseq_version=20191203a/MEF_Dox_d7_Etv2_peak_16842\n",
              "  [162008] /panfs/roc/scratch/gongx030/datasets/dataset=Etv2PioneerChIPseq_version=20191203a/MEF_Dox_d1_Etv2_peak_114014\n",
              "  [162009] /panfs/roc/scratch/gongx030/datasets/dataset=Etv2PioneerChIPseq_version=20191203a/MEF_Dox_d1_Etv2_peak_114015\n",
              "  [162010] /panfs/roc/scratch/gongx030/datasets/dataset=Etv2PioneerChIPseq_version=20191203a/MEF_Dox_d1_Etv2_peak_114016\n",
              "               score          source                 group\n",
              "           <numeric>     <character>              <matrix>\n",
              "       [1]  16.22768 MEF_Dox_d2_Etv2   TRUE:TRUE:FALSE:...\n",
              "       [2]   8.36521  EB_Dox_3h_Etv2 FALSE:FALSE:FALSE:...\n",
              "       [3]   9.73217 MEF_Dox_d2_Etv2  FALSE:TRUE:FALSE:...\n",
              "       [4]   3.92081 MEF_Dox_d2_Etv2  FALSE:TRUE:FALSE:...\n",
              "       [5]  12.29730 MEF_Dox_d2_Etv2   TRUE:TRUE:FALSE:...\n",
              "       ...       ...             ...                   ...\n",
              "  [162006] 160.15463 MEF_Dox_d2_Etv2    TRUE:TRUE:TRUE:...\n",
              "  [162007]   8.27339 MEF_Dox_d7_Etv2  FALSE:FALSE:TRUE:...\n",
              "  [162008]   1.53792 MEF_Dox_d1_Etv2  TRUE:FALSE:FALSE:...\n",
              "  [162009]  11.78216 MEF_Dox_d1_Etv2  TRUE:FALSE:FALSE:...\n",
              "  [162010]   5.92807 MEF_Dox_d1_Etv2  TRUE:FALSE:FALSE:...\n",
              "  -------\n",
              "  seqinfo: 21 sequences from an unspecified genome; no seqlengths"
            ]
          },
          "metadata": {
            "tags": []
          }
        },
        {
          "output_type": "display_data",
          "data": {
            "text/plain": [
              "[1] \"MEF_Dox_d1_Etv2\" \"MEF_Dox_d2_Etv2\" \"MEF_Dox_d7_Etv2\" \"EB_Dox_3h_Etv2\" \n",
              "[5] \"EB_Dox_12h_Etv2\""
            ],
            "text/latex": "\\begin{enumerate*}\n\\item 'MEF\\_Dox\\_d1\\_Etv2'\n\\item 'MEF\\_Dox\\_d2\\_Etv2'\n\\item 'MEF\\_Dox\\_d7\\_Etv2'\n\\item 'EB\\_Dox\\_3h\\_Etv2'\n\\item 'EB\\_Dox\\_12h\\_Etv2'\n\\end{enumerate*}\n",
            "text/markdown": "1. 'MEF_Dox_d1_Etv2'\n2. 'MEF_Dox_d2_Etv2'\n3. 'MEF_Dox_d7_Etv2'\n4. 'EB_Dox_3h_Etv2'\n5. 'EB_Dox_12h_Etv2'\n\n\n",
            "text/html": [
              "<style>\n",
              ".list-inline {list-style: none; margin:0; padding: 0}\n",
              ".list-inline>li {display: inline-block}\n",
              ".list-inline>li:not(:last-child)::after {content: \"\\00b7\"; padding: 0 .5ex}\n",
              "</style>\n",
              "<ol class=list-inline><li>'MEF_Dox_d1_Etv2'</li><li>'MEF_Dox_d2_Etv2'</li><li>'MEF_Dox_d7_Etv2'</li><li>'EB_Dox_3h_Etv2'</li><li>'EB_Dox_12h_Etv2'</li></ol>\n"
            ]
          },
          "metadata": {
            "tags": []
          }
        }
      ]
    },
    {
      "cell_type": "code",
      "metadata": {
        "id": "gFjZopZkb1xX",
        "outputId": "aa24f4d9-080b-4835-e4b9-27819c1cba99",
        "colab": {
          "base_uri": "https://localhost:8080/",
          "height": 85
        }
      },
      "source": [
        "n_MEF_peaks <- sum(gr$group[, 'MEF_Dox_d1_Etv2'] | gr$group[, 'MEF_Dox_d2_Etv2'] | gr$group[, 'MEF_Dox_d7_Etv2'])\n",
        "cat(sprintf('total number of Etv2 peaks in MEF: %d\\n', n_MEF_peaks))\n",
        "n_EB_peaks <- sum(gr$group[, 'EB_Dox_3h_Etv2'] | gr$group[, 'EB_Dox_12h_Etv2'])\n",
        "cat(sprintf('total number of Etv2 peaks in MEF: %d\\n', n_EB_peaks))\n",
        "cat(sprintf('day 1 peaks in all MEF peaks: %%%.3f\\n', 100 * sum(gr$group[, 'MEF_Dox_d1_Etv2']) / n_MEF_peaks))\n",
        "cat(sprintf('3h peaks in all EB peaks: %%%.3f\\n', 100 * sum(gr$group[, 'EB_Dox_3h_Etv2']) / n_EB_peaks))"
      ],
      "execution_count": 17,
      "outputs": [
        {
          "output_type": "stream",
          "text": [
            "total number of Etv2 peaks in MEF: 154468\n",
            "total number of Etv2 peaks in MEF: 19651\n",
            "day 1 peaks in all MEF peaks: %79.846\n",
            "3h peaks in all EB peaks: %82.922\n"
          ],
          "name": "stdout"
        }
      ]
    },
    {
      "cell_type": "code",
      "metadata": {
        "id": "556fcwk5cAWq",
        "outputId": "85b289d0-3fb9-4d35-d5da-bb7d7f0a4223",
        "colab": {
          "base_uri": "https://localhost:8080/",
          "height": 294
        }
      },
      "source": [
        "options(repr.plot.width=4, repr.plot.height=4)\n",
        "draw.triple.venn(\n",
        "  area1 = sum(gr$group[, 'MEF_Dox_d1_Etv2']),\n",
        "  area2 = sum(gr$group[, 'MEF_Dox_d2_Etv2']), \n",
        "  area3 = sum(gr$group[, 'MEF_Dox_d7_Etv2']), \n",
        "  n12 = sum(gr$group[, 'MEF_Dox_d1_Etv2'] & gr$group[, 'MEF_Dox_d2_Etv2']), \n",
        "  n23 = sum(gr$group[, 'MEF_Dox_d2_Etv2'] & gr$group[, 'MEF_Dox_d7_Etv2']), \n",
        "  n13 = sum(gr$group[, 'MEF_Dox_d1_Etv2'] & gr$group[, 'MEF_Dox_d7_Etv2']), \n",
        "  n123 = sum(gr$group[, 'MEF_Dox_d1_Etv2'] & gr$group[, 'MEF_Dox_d2_Etv2'] & gr$group[, 'MEF_Dox_d7_Etv2']),\n",
        "  category = c(\"D1\", \"D2\", \"D7\"), \n",
        "  lty = \"blank\", \n",
        "  fill = c(\"skyblue\", \"pink1\", \"mediumorchid\"),\n",
        "  cex = 2,\n",
        "  cat.cex = 1\n",
        ")"
      ],
      "execution_count": 18,
      "outputs": [
        {
          "output_type": "display_data",
          "data": {
            "text/plain": [
              "(polygon[GRID.polygon.26], polygon[GRID.polygon.27], polygon[GRID.polygon.28], polygon[GRID.polygon.29], polygon[GRID.polygon.30], polygon[GRID.polygon.31], text[GRID.text.32], text[GRID.text.33], text[GRID.text.34], text[GRID.text.35], text[GRID.text.36], text[GRID.text.37], text[GRID.text.38], text[GRID.text.39], text[GRID.text.40], text[GRID.text.41]) "
            ]
          },
          "metadata": {
            "tags": []
          }
        },
        {
          "output_type": "display_data",
          "data": {
            "image/png": "[encoded data removed]",
            "text/plain": [
              "plot without title"
            ]
          },
          "metadata": {
            "tags": [],
            "image/png": {
              "width": 240,
              "height": 240
            }
          }
        }
      ]
    },
    {
      "cell_type": "code",
      "metadata": {
        "id": "iGplSK6GsYPk",
        "outputId": "cab0613f-f134-4047-f233-42dca4a70834",
        "colab": {
          "base_uri": "https://localhost:8080/",
          "height": 274
        }
      },
      "source": [
        "options(repr.plot.width=4, repr.plot.height=4)\n",
        "draw.pairwise.venn(\n",
        "  area1 = sum(gr$group[, 'EB_Dox_3h_Etv2']),\n",
        "  area2 = sum(gr$group[, 'EB_Dox_12h_Etv2']), \n",
        "  cross.area = sum(gr$group[, 'EB_Dox_3h_Etv2'] & gr$group[, 'EB_Dox_12h_Etv2']), \n",
        "  category = c(\"3h\", '12h'), \n",
        "  lty = \"blank\", \n",
        "  fill = c(\"skyblue\", \"pink1\"),\n",
        "  cex = 2,\n",
        "  cat.cex = 1\n",
        ")"
      ],
      "execution_count": 19,
      "outputs": [
        {
          "output_type": "display_data",
          "data": {
            "text/plain": [
              "(polygon[GRID.polygon.42], polygon[GRID.polygon.43], polygon[GRID.polygon.44], polygon[GRID.polygon.45], text[GRID.text.46], text[GRID.text.47], text[GRID.text.48], text[GRID.text.49], text[GRID.text.50]) "
            ]
          },
          "metadata": {
            "tags": []
          }
        },
        {
          "output_type": "display_data",
          "data": {
            "image/png": "[encoded data removed]",
            "text/plain": [
              "plot without title"
            ]
          },
          "metadata": {
            "tags": [],
            "image/png": {
              "width": 240,
              "height": 240
            }
          }
        }
      ]
    },
    {
      "cell_type": "code",
      "metadata": {
        "id": "DLYh9wPhxed2",
        "outputId": "23fb80b7-f232-4bcb-fe91-50e442466950",
        "colab": {
          "base_uri": "https://localhost:8080/",
          "height": 612
        }
      },
      "source": [
        "sessionInfo()"
      ],
      "execution_count": 20,
      "outputs": [
        {
          "output_type": "display_data",
          "data": {
            "text/plain": [
              "R version 4.0.2 (2020-06-22)\n",
              "Platform: x86_64-pc-linux-gnu (64-bit)\n",
              "Running under: Ubuntu 18.04.5 LTS\n",
              "\n",
              "Matrix products: default\n",
              "BLAS:   /usr/lib/x86_64-linux-gnu/openblas/libblas.so.3\n",
              "LAPACK: /usr/lib/x86_64-linux-gnu/libopenblasp-r0.2.20.so\n",
              "\n",
              "locale:\n",
              " [1] LC_CTYPE=en_US.UTF-8       LC_NUMERIC=C              \n",
              " [3] LC_TIME=en_US.UTF-8        LC_COLLATE=en_US.UTF-8    \n",
              " [5] LC_MONETARY=en_US.UTF-8    LC_MESSAGES=en_US.UTF-8   \n",
              " [7] LC_PAPER=en_US.UTF-8       LC_NAME=C                 \n",
              " [9] LC_ADDRESS=C               LC_TELEPHONE=C            \n",
              "[11] LC_MEASUREMENT=en_US.UTF-8 LC_IDENTIFICATION=C       \n",
              "\n",
              "attached base packages:\n",
              " [1] grid      parallel  stats4    stats     graphics  grDevices utils    \n",
              " [8] datasets  methods   base     \n",
              "\n",
              "other attached packages:\n",
              "[1] VennDiagram_1.6.20   futile.logger_1.4.3  GenomicRanges_1.40.0\n",
              "[4] GenomeInfoDb_1.24.2  IRanges_2.22.2       S4Vectors_0.26.1    \n",
              "[7] BiocGenerics_0.34.0 \n",
              "\n",
              "loaded via a namespace (and not attached):\n",
              " [1] XVector_0.28.0         zlibbioc_1.34.0        uuid_0.1-4            \n",
              " [4] rlang_0.4.7            tools_4.0.2            lambda.r_1.2.4        \n",
              " [7] htmltools_0.5.0        ellipsis_0.3.1         digest_0.6.25         \n",
              "[10] lifecycle_0.2.0        crayon_1.3.4           GenomeInfoDbData_1.2.3\n",
              "[13] IRdisplay_0.7.0        formatR_1.7            BiocManager_1.30.10   \n",
              "[16] repr_1.1.0             futile.options_1.0.1   base64enc_0.1-3       \n",
              "[19] bitops_1.0-6           RCurl_1.98-1.2         IRkernel_1.1.1        \n",
              "[22] evaluate_0.14          pbdZMQ_0.3-3           compiler_4.0.2        \n",
              "[25] pillar_1.4.6           jsonlite_1.7.1        "
            ]
          },
          "metadata": {
            "tags": []
          }
        }
      ]
    },
    {
      "cell_type": "code",
      "metadata": {
        "id": "t8JLxMUeybHs",
        "outputId": "3be54450-14d2-40ac-c204-79546bf38fe5",
        "colab": {
          "base_uri": "https://localhost:8080/",
          "height": 34
        }
      },
      "source": [
        "Sys.time() - start_time0"
      ],
      "execution_count": 21,
      "outputs": [
        {
          "output_type": "display_data",
          "data": {
            "text/plain": [
              "Time difference of 21.32674 secs"
            ]
          },
          "metadata": {
            "tags": []
          }
        }
      ]
    },
    {
      "cell_type": "code",
      "metadata": {
        "id": "K89EGe2ByhLp"
      },
      "source": [
        ""
      ],
      "execution_count": 22,
      "outputs": []
    }
  ]
}