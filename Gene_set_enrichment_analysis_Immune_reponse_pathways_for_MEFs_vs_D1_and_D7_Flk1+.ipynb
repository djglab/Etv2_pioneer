{
  "nbformat": 4,
  "nbformat_minor": 0,
  "metadata": {
    "kernelspec": {
      "display_name": "R",
      "language": "R",
      "name": "ir"
    },
    "language_info": {
      "codemirror_mode": "r",
      "file_extension": ".r",
      "mimetype": "text/x-r-source",
      "name": "R",
      "pygments_lexer": "r",
      "version": "3.3.1"
    },
    "colab": {
      "name": "Gene set enrichment analysis Immune reponse pathways for MEFs vs D1 and D7 Flk1+.ipynb",
      "provenance": [],
      "collapsed_sections": [],
      "toc_visible": true,
      "machine_shape": "hm",
      "include_colab_link": true
    }
  },
  "cells": [
    {
      "cell_type": "markdown",
      "metadata": {
        "id": "view-in-github",
        "colab_type": "text"
      },
      "source": [
        "<a href=\"https://colab.research.google.com/github/gongx030/Etv2_pioneer/blob/master/Gene_set_enrichment_analysis_Immune_reponse_pathways_for_MEFs_vs_D1_and_D7_Flk1%2B.ipynb\" target=\"_parent\"><img src=\"https://colab.research.google.com/assets/colab-badge.svg\" alt=\"Open In Colab\"/></a>"
      ]
    },
    {
      "cell_type": "markdown",
      "metadata": {
        "id": "WM5f7iKj6fur"
      },
      "source": [
        "By Nikita Dsouza"
      ]
    },
    {
      "cell_type": "markdown",
      "metadata": {
        "id": "iKasz-eA6nmh"
      },
      "source": [
        "The goal of this notebook is to use gene set enrichment analysis to see the pathways within immune reponse upregualted in Dox D7 Flk1+ and Dox D1 vs MEFs"
      ]
    },
    {
      "cell_type": "code",
      "metadata": {
        "id": "6OhqEEeZHroa"
      },
      "source": [
        "start_time0 <- Sys.time()"
      ],
      "execution_count": null,
      "outputs": []
    },
    {
      "cell_type": "markdown",
      "metadata": {
        "id": "wFuTF2MUEiAk"
      },
      "source": [
        "### Install R packages\n",
        "A large fraction of the running time of this notebook is in installing the Seurat R package, since it has lots of dependencies and many of them use Rcpp which results in the need to compile lots of C++ code."
      ]
    },
    {
      "cell_type": "code",
      "metadata": {
        "id": "8EZ8Zm7zagc0",
        "colab": {
          "base_uri": "https://localhost:8080/"
        },
        "outputId": "6e852d14-07d2-475b-c927-1f6f582c51a3"
      },
      "source": [
        "if (!requireNamespace(\"BiocManager\", quietly = TRUE))\n",
        "  install.packages(\"BiocManager\")\n",
        "BiocManager::install(c(\n",
        "  'SummarizedExperiment', 'rhdf5', 'SingleCellExperiment', 'limma', 'goseq', \n",
        "  'stringr', 'ggplot2', 'TxDb.Mmusculus.UCSC.mm10.knownGene', 'org.Mm.eg.db',\n",
        "  'wordcloud', 'plotrix', 'DESeq2','fgsea','cowplot','GO.db','GOfuncR','Mus.musculus'\n",
        "), Ncpus = 2)\n",
        "install.packages(c('farver', \"Seurat\"), Ncpus = 2)\n",
        "install.packages('devtools')\n",
        "devtools::install_github('rstudio/reticulate')"
      ],
      "execution_count": null,
      "outputs": [
        {
          "output_type": "stream",
          "name": "stderr",
          "text": [
            "Installing package into ‘/usr/local/lib/R/site-library’\n",
            "(as ‘lib’ is unspecified)\n",
            "\n",
            "'getOption(\"repos\")' replaces Bioconductor standard repositories, see\n",
            "'?repositories' for details\n",
            "\n",
            "replacement repositories:\n",
            "    CRAN: https://cran.rstudio.com\n",
            "\n",
            "\n",
            "Bioconductor version 3.13 (BiocManager 1.30.16), R 4.1.1 (2021-08-10)\n",
            "\n",
            "Warning message:\n",
            "“package(s) not installed when version(s) same as current; use `force = TRUE` to\n",
            "  re-install: 'stringr' 'ggplot2'”\n",
            "Installing package(s) 'BiocVersion', 'SummarizedExperiment', 'rhdf5',\n",
            "  'SingleCellExperiment', 'limma', 'goseq',\n",
            "  'TxDb.Mmusculus.UCSC.mm10.knownGene', 'org.Mm.eg.db', 'wordcloud', 'plotrix',\n",
            "  'DESeq2', 'fgsea', 'cowplot', 'GO.db', 'GOfuncR', 'Mus.musculus'\n",
            "\n",
            "also installing the dependencies ‘Rhtslib’, ‘rjson’, ‘filelock’, ‘formatR’, ‘zlibbioc’, ‘bitops’, ‘XML’, ‘Rsamtools’, ‘GenomicAlignments’, ‘restfulr’, ‘plogr’, ‘png’, ‘BiocFileCache’, ‘lambda.r’, ‘futile.options’, ‘xtable’, ‘matrixStats’, ‘XVector’, ‘RCurl’, ‘GenomeInfoDbData’, ‘rtracklayer’, ‘RSQLite’, ‘KEGGREST’, ‘Biostrings’, ‘BiocIO’, ‘biomaRt’, ‘futile.logger’, ‘snow’, ‘annotate’, ‘sm’, ‘zoo’, ‘graph’, ‘RBGL’, ‘MatrixGenerics’, ‘GenomicRanges’, ‘Biobase’, ‘BiocGenerics’, ‘S4Vectors’, ‘IRanges’, ‘GenomeInfoDb’, ‘DelayedArray’, ‘Rhdf5lib’, ‘rhdf5filters’, ‘BiasedUrn’, ‘geneLenDataBase’, ‘AnnotationDbi’, ‘GenomicFeatures’, ‘BiocParallel’, ‘genefilter’, ‘locfit’, ‘geneplotter’, ‘RcppArmadillo’, ‘gridExtra’, ‘fastmatch’, ‘BH’, ‘vioplot’, ‘mapplots’, ‘gtools’, ‘OrganismDbi’\n",
            "\n",
            "\n",
            "Old packages: 'cpp11', 'data.table', 'desc', 'diffobj', 'digest', 'hms',\n",
            "  'knitr', 'lifecycle', 'lubridate', 'mime', 'openssl', 'pillar', 'pkgload',\n",
            "  'rcmdcheck', 'readr', 'remotes', 'rvest', 'stringi', 'systemfonts',\n",
            "  'testthat', 'tibble', 'tidyr', 'tinytex', 'usethis', 'mgcv', 'nlme'\n",
            "\n",
            "Installing packages into ‘/usr/local/lib/R/site-library’\n",
            "(as ‘lib’ is unspecified)\n",
            "\n",
            "also installing the dependencies ‘caTools’, ‘sass’, ‘sitmo’, ‘globals’, ‘listenv’, ‘parallelly’, ‘plyr’, ‘htmlwidgets’, ‘lazyeval’, ‘crosstalk’, ‘promises’, ‘here’, ‘gplots’, ‘reshape2’, ‘httpuv’, ‘fontawesome’, ‘sourcetools’, ‘later’, ‘bslib’, ‘spatstat.data’, ‘spatstat.utils’, ‘spatstat.sparse’, ‘abind’, ‘tensor’, ‘goftest’, ‘deldir’, ‘polyclip’, ‘FNN’, ‘RSpectra’, ‘dqrng’, ‘fitdistrplus’, ‘future’, ‘future.apply’, ‘ggrepel’, ‘ggridges’, ‘ica’, ‘igraph’, ‘irlba’, ‘leiden’, ‘lmtest’, ‘miniUI’, ‘patchwork’, ‘pbapply’, ‘plotly’, ‘RANN’, ‘RcppAnnoy’, ‘reticulate’, ‘ROCR’, ‘Rtsne’, ‘scattermore’, ‘sctransform’, ‘SeuratObject’, ‘shiny’, ‘spatstat.core’, ‘spatstat.geom’, ‘uwot’, ‘RcppEigen’, ‘RcppProgress’\n",
            "\n",
            "\n",
            "Installing package into ‘/usr/local/lib/R/site-library’\n",
            "(as ‘lib’ is unspecified)\n",
            "\n",
            "Downloading GitHub repo rstudio/reticulate@HEAD\n",
            "\n"
          ]
        },
        {
          "output_type": "stream",
          "name": "stdout",
          "text": [
            "\n",
            "\u001b[32m✔\u001b[39m  \u001b[90mchecking for file ‘/tmp/Rtmp0Lny9D/remotes4f2548b202/rstudio-reticulate-3eda565/DESCRIPTION’\u001b[39m\u001b[36m\u001b[39m\n",
            "\u001b[90m─\u001b[39m\u001b[90m  \u001b[39m\u001b[90mpreparing ‘reticulate’:\u001b[39m\u001b[36m\u001b[39m\n",
            "\u001b[32m✔\u001b[39m  \u001b[90mchecking DESCRIPTION meta-information\u001b[39m\u001b[36m\u001b[39m\n",
            "\u001b[90m─\u001b[39m\u001b[90m  \u001b[39m\u001b[90mcleaning src\u001b[39m\u001b[36m\u001b[39m\n",
            "\u001b[90m─\u001b[39m\u001b[90m  \u001b[39m\u001b[90mchecking for LF line-endings in source and make files and shell scripts\u001b[39m\u001b[36m\u001b[39m\n",
            "\u001b[90m─\u001b[39m\u001b[90m  \u001b[39m\u001b[90mchecking for empty or unneeded directories\u001b[39m\u001b[36m\u001b[39m\n",
            "\u001b[90m─\u001b[39m\u001b[90m  \u001b[39m\u001b[90mbuilding ‘reticulate_1.22-9000.tar.gz’\u001b[39m\u001b[36m\u001b[39m\n",
            "   \n"
          ]
        },
        {
          "output_type": "stream",
          "name": "stderr",
          "text": [
            "Installing package into ‘/usr/local/lib/R/site-library’\n",
            "(as ‘lib’ is unspecified)\n",
            "\n"
          ]
        }
      ]
    },
    {
      "cell_type": "code",
      "metadata": {
        "id": "nQFQk04TzjFj",
        "colab": {
          "base_uri": "https://localhost:8080/"
        },
        "outputId": "0d9b5b8c-b625-4976-c675-dc90bfc2ba11"
      },
      "source": [
        "library(SummarizedExperiment)\n",
        "library(RColorBrewer)\n",
        "library(plyr)\n",
        "library(dplyr)\n",
        "library(parallel)\n",
        "library(ggplot2)\n",
        "library(goseq)\n",
        "library(stringr)\n",
        "library(TxDb.Mmusculus.UCSC.mm10.knownGene)\n",
        "library(org.Mm.eg.db)\n",
        "library(wordcloud)\n",
        "library(plotrix)\n",
        "library(DESeq2)\n",
        "library(fgsea)\n",
        "library(cowplot)\n",
        "library(tidyverse)\n",
        "library(magrittr)\n",
        "library(GO.db)\n",
        "library(GOfuncR)\n",
        "library(Mus.musculus)\n",
        "library(SingleCellExperiment)\n",
        "library(Seurat)"
      ],
      "execution_count": null,
      "outputs": [
        {
          "output_type": "stream",
          "name": "stderr",
          "text": [
            "Loading required package: MatrixGenerics\n",
            "\n",
            "Loading required package: matrixStats\n",
            "\n",
            "\n",
            "Attaching package: ‘MatrixGenerics’\n",
            "\n",
            "\n",
            "The following objects are masked from ‘package:matrixStats’:\n",
            "\n",
            "    colAlls, colAnyNAs, colAnys, colAvgsPerRowSet, colCollapse,\n",
            "    colCounts, colCummaxs, colCummins, colCumprods, colCumsums,\n",
            "    colDiffs, colIQRDiffs, colIQRs, colLogSumExps, colMadDiffs,\n",
            "    colMads, colMaxs, colMeans2, colMedians, colMins, colOrderStats,\n",
            "    colProds, colQuantiles, colRanges, colRanks, colSdDiffs, colSds,\n",
            "    colSums2, colTabulates, colVarDiffs, colVars, colWeightedMads,\n",
            "    colWeightedMeans, colWeightedMedians, colWeightedSds,\n",
            "    colWeightedVars, rowAlls, rowAnyNAs, rowAnys, rowAvgsPerColSet,\n",
            "    rowCollapse, rowCounts, rowCummaxs, rowCummins, rowCumprods,\n",
            "    rowCumsums, rowDiffs, rowIQRDiffs, rowIQRs, rowLogSumExps,\n",
            "    rowMadDiffs, rowMads, rowMaxs, rowMeans2, rowMedians, rowMins,\n",
            "    rowOrderStats, rowProds, rowQuantiles, rowRanges, rowRanks,\n",
            "    rowSdDiffs, rowSds, rowSums2, rowTabulates, rowVarDiffs, rowVars,\n",
            "    rowWeightedMads, rowWeightedMeans, rowWeightedMedians,\n",
            "    rowWeightedSds, rowWeightedVars\n",
            "\n",
            "\n",
            "Loading required package: GenomicRanges\n",
            "\n",
            "Loading required package: stats4\n",
            "\n",
            "Loading required package: BiocGenerics\n",
            "\n",
            "Loading required package: parallel\n",
            "\n",
            "\n",
            "Attaching package: ‘BiocGenerics’\n",
            "\n",
            "\n",
            "The following objects are masked from ‘package:parallel’:\n",
            "\n",
            "    clusterApply, clusterApplyLB, clusterCall, clusterEvalQ,\n",
            "    clusterExport, clusterMap, parApply, parCapply, parLapply,\n",
            "    parLapplyLB, parRapply, parSapply, parSapplyLB\n",
            "\n",
            "\n",
            "The following objects are masked from ‘package:stats’:\n",
            "\n",
            "    IQR, mad, sd, var, xtabs\n",
            "\n",
            "\n",
            "The following objects are masked from ‘package:base’:\n",
            "\n",
            "    anyDuplicated, append, as.data.frame, basename, cbind, colnames,\n",
            "    dirname, do.call, duplicated, eval, evalq, Filter, Find, get, grep,\n",
            "    grepl, intersect, is.unsorted, lapply, Map, mapply, match, mget,\n",
            "    order, paste, pmax, pmax.int, pmin, pmin.int, Position, rank,\n",
            "    rbind, Reduce, rownames, sapply, setdiff, sort, table, tapply,\n",
            "    union, unique, unsplit, which.max, which.min\n",
            "\n",
            "\n",
            "Loading required package: S4Vectors\n",
            "\n",
            "\n",
            "Attaching package: ‘S4Vectors’\n",
            "\n",
            "\n",
            "The following objects are masked from ‘package:base’:\n",
            "\n",
            "    expand.grid, I, unname\n",
            "\n",
            "\n",
            "Loading required package: IRanges\n",
            "\n",
            "Loading required package: GenomeInfoDb\n",
            "\n",
            "Loading required package: Biobase\n",
            "\n",
            "Welcome to Bioconductor\n",
            "\n",
            "    Vignettes contain introductory material; view with\n",
            "    'browseVignettes()'. To cite Bioconductor, see\n",
            "    'citation(\"Biobase\")', and for packages 'citation(\"pkgname\")'.\n",
            "\n",
            "\n",
            "\n",
            "Attaching package: ‘Biobase’\n",
            "\n",
            "\n",
            "The following object is masked from ‘package:MatrixGenerics’:\n",
            "\n",
            "    rowMedians\n",
            "\n",
            "\n",
            "The following objects are masked from ‘package:matrixStats’:\n",
            "\n",
            "    anyMissing, rowMedians\n",
            "\n",
            "\n",
            "\n",
            "Attaching package: ‘plyr’\n",
            "\n",
            "\n",
            "The following object is masked from ‘package:IRanges’:\n",
            "\n",
            "    desc\n",
            "\n",
            "\n",
            "The following object is masked from ‘package:S4Vectors’:\n",
            "\n",
            "    rename\n",
            "\n",
            "\n",
            "The following object is masked from ‘package:matrixStats’:\n",
            "\n",
            "    count\n",
            "\n",
            "\n",
            "\n",
            "Attaching package: ‘dplyr’\n",
            "\n",
            "\n",
            "The following objects are masked from ‘package:plyr’:\n",
            "\n",
            "    arrange, count, desc, failwith, id, mutate, rename, summarise,\n",
            "    summarize\n",
            "\n",
            "\n",
            "The following object is masked from ‘package:Biobase’:\n",
            "\n",
            "    combine\n",
            "\n",
            "\n",
            "The following objects are masked from ‘package:GenomicRanges’:\n",
            "\n",
            "    intersect, setdiff, union\n",
            "\n",
            "\n",
            "The following object is masked from ‘package:GenomeInfoDb’:\n",
            "\n",
            "    intersect\n",
            "\n",
            "\n",
            "The following objects are masked from ‘package:IRanges’:\n",
            "\n",
            "    collapse, desc, intersect, setdiff, slice, union\n",
            "\n",
            "\n",
            "The following objects are masked from ‘package:S4Vectors’:\n",
            "\n",
            "    first, intersect, rename, setdiff, setequal, union\n",
            "\n",
            "\n",
            "The following objects are masked from ‘package:BiocGenerics’:\n",
            "\n",
            "    combine, intersect, setdiff, union\n",
            "\n",
            "\n",
            "The following object is masked from ‘package:matrixStats’:\n",
            "\n",
            "    count\n",
            "\n",
            "\n",
            "The following objects are masked from ‘package:stats’:\n",
            "\n",
            "    filter, lag\n",
            "\n",
            "\n",
            "The following objects are masked from ‘package:base’:\n",
            "\n",
            "    intersect, setdiff, setequal, union\n",
            "\n",
            "\n",
            "Loading required package: BiasedUrn\n",
            "\n",
            "Loading required package: geneLenDataBase\n",
            "\n",
            "\n",
            "Attaching package: ‘geneLenDataBase’\n",
            "\n",
            "\n",
            "The following object is masked from ‘package:S4Vectors’:\n",
            "\n",
            "    unfactor\n",
            "\n",
            "\n",
            "\n",
            "\n",
            "Loading required package: GenomicFeatures\n",
            "\n",
            "Loading required package: AnnotationDbi\n",
            "\n",
            "\n",
            "Attaching package: ‘AnnotationDbi’\n",
            "\n",
            "\n",
            "The following object is masked from ‘package:dplyr’:\n",
            "\n",
            "    select\n",
            "\n",
            "\n",
            "\n",
            "\n",
            "Warning message in system(\"timedatectl\", intern = TRUE):\n",
            "“running command 'timedatectl' had status 1”\n",
            "── \u001b[1mAttaching packages\u001b[22m ─────────────────────────────────────── tidyverse 1.3.1 ──\n",
            "\n",
            "\u001b[32m✔\u001b[39m \u001b[34mtibble \u001b[39m 3.1.4     \u001b[32m✔\u001b[39m \u001b[34mpurrr  \u001b[39m 0.3.4\n",
            "\u001b[32m✔\u001b[39m \u001b[34mtidyr  \u001b[39m 1.1.3     \u001b[32m✔\u001b[39m \u001b[34mforcats\u001b[39m 0.5.1\n",
            "\u001b[32m✔\u001b[39m \u001b[34mreadr  \u001b[39m 2.0.1     \n",
            "\n",
            "── \u001b[1mConflicts\u001b[22m ────────────────────────────────────────── tidyverse_conflicts() ──\n",
            "\u001b[31m✖\u001b[39m \u001b[34mdplyr\u001b[39m::\u001b[32marrange()\u001b[39m        masks \u001b[34mplyr\u001b[39m::arrange()\n",
            "\u001b[31m✖\u001b[39m \u001b[34mdplyr\u001b[39m::\u001b[32mcollapse()\u001b[39m       masks \u001b[34mIRanges\u001b[39m::collapse()\n",
            "\u001b[31m✖\u001b[39m \u001b[34mdplyr\u001b[39m::\u001b[32mcombine()\u001b[39m        masks \u001b[34mBiobase\u001b[39m::combine(), \u001b[34mBiocGenerics\u001b[39m::combine()\n",
            "\u001b[31m✖\u001b[39m \u001b[34mpurrr\u001b[39m::\u001b[32mcompact()\u001b[39m        masks \u001b[34mplyr\u001b[39m::compact()\n",
            "\u001b[31m✖\u001b[39m \u001b[34mdplyr\u001b[39m::\u001b[32mcount()\u001b[39m          masks \u001b[34mplyr\u001b[39m::count(), \u001b[34mmatrixStats\u001b[39m::count()\n",
            "\u001b[31m✖\u001b[39m \u001b[34mdplyr\u001b[39m::\u001b[32mdesc()\u001b[39m           masks \u001b[34mplyr\u001b[39m::desc(), \u001b[34mIRanges\u001b[39m::desc()\n",
            "\u001b[31m✖\u001b[39m \u001b[34mtidyr\u001b[39m::\u001b[32mexpand()\u001b[39m         masks \u001b[34mS4Vectors\u001b[39m::expand()\n",
            "\u001b[31m✖\u001b[39m \u001b[34mdplyr\u001b[39m::\u001b[32mfailwith()\u001b[39m       masks \u001b[34mplyr\u001b[39m::failwith()\n",
            "\u001b[31m✖\u001b[39m \u001b[34mdplyr\u001b[39m::\u001b[32mfilter()\u001b[39m         masks \u001b[34mstats\u001b[39m::filter()\n",
            "\u001b[31m✖\u001b[39m \u001b[34mdplyr\u001b[39m::\u001b[32mfirst()\u001b[39m          masks \u001b[34mS4Vectors\u001b[39m::first()\n",
            "\u001b[31m✖\u001b[39m \u001b[34mdplyr\u001b[39m::\u001b[32mid()\u001b[39m             masks \u001b[34mplyr\u001b[39m::id()\n",
            "\u001b[31m✖\u001b[39m \u001b[34mdplyr\u001b[39m::\u001b[32mlag()\u001b[39m            masks \u001b[34mstats\u001b[39m::lag()\n",
            "\u001b[31m✖\u001b[39m \u001b[34mdplyr\u001b[39m::\u001b[32mmutate()\u001b[39m         masks \u001b[34mplyr\u001b[39m::mutate()\n",
            "\u001b[31m✖\u001b[39m \u001b[34mggplot2\u001b[39m::\u001b[32mPosition()\u001b[39m     masks \u001b[34mBiocGenerics\u001b[39m::Position(), \u001b[34mbase\u001b[39m::Position()\n",
            "\u001b[31m✖\u001b[39m \u001b[34mpurrr\u001b[39m::\u001b[32mreduce()\u001b[39m         masks \u001b[34mGenomicRanges\u001b[39m::reduce(), \u001b[34mIRanges\u001b[39m::reduce()\n",
            "\u001b[31m✖\u001b[39m \u001b[34mdplyr\u001b[39m::\u001b[32mrename()\u001b[39m         masks \u001b[34mplyr\u001b[39m::rename(), \u001b[34mS4Vectors\u001b[39m::rename()\n",
            "\u001b[31m✖\u001b[39m \u001b[34mAnnotationDbi\u001b[39m::\u001b[32mselect()\u001b[39m masks \u001b[34mdplyr\u001b[39m::select()\n",
            "\u001b[31m✖\u001b[39m \u001b[34mdplyr\u001b[39m::\u001b[32mslice()\u001b[39m          masks \u001b[34mIRanges\u001b[39m::slice()\n",
            "\u001b[31m✖\u001b[39m \u001b[34mdplyr\u001b[39m::\u001b[32msummarise()\u001b[39m      masks \u001b[34mplyr\u001b[39m::summarise()\n",
            "\u001b[31m✖\u001b[39m \u001b[34mdplyr\u001b[39m::\u001b[32msummarize()\u001b[39m      masks \u001b[34mplyr\u001b[39m::summarize()\n",
            "\n",
            "\n",
            "Attaching package: ‘magrittr’\n",
            "\n",
            "\n",
            "The following object is masked from ‘package:purrr’:\n",
            "\n",
            "    set_names\n",
            "\n",
            "\n",
            "The following object is masked from ‘package:tidyr’:\n",
            "\n",
            "    extract\n",
            "\n",
            "\n",
            "Loading required package: vioplot\n",
            "\n",
            "Loading required package: sm\n",
            "\n",
            "Package 'sm', version 2.2-5.7: type help(sm) for summary information\n",
            "\n",
            "Loading required package: zoo\n",
            "\n",
            "\n",
            "Attaching package: ‘zoo’\n",
            "\n",
            "\n",
            "The following objects are masked from ‘package:base’:\n",
            "\n",
            "    as.Date, as.Date.numeric\n",
            "\n",
            "\n",
            "Loading required package: OrganismDbi\n",
            "\n",
            "Registered S3 method overwritten by 'spatstat.geom':\n",
            "  method     from\n",
            "  print.boxx cli \n",
            "\n",
            "Attaching SeuratObject\n",
            "\n",
            "\n",
            "Attaching package: ‘Seurat’\n",
            "\n",
            "\n",
            "The following object is masked from ‘package:SummarizedExperiment’:\n",
            "\n",
            "    Assays\n",
            "\n",
            "\n"
          ]
        }
      ]
    },
    {
      "cell_type": "markdown",
      "metadata": {
        "id": "hxKES91Rq7PH"
      },
      "source": [
        "# Get immune reponse related child terms from GO database"
      ]
    },
    {
      "cell_type": "code",
      "metadata": {
        "id": "T71DNMzPcAXh"
      },
      "source": [
        "goterms <- get_child_nodes(\"GO:0006955\") \n"
      ],
      "execution_count": null,
      "outputs": []
    },
    {
      "cell_type": "code",
      "metadata": {
        "colab": {
          "base_uri": "https://localhost:8080/",
          "height": 286
        },
        "id": "bvxhSN1kf4Zh",
        "outputId": "92972a0e-480f-46c9-e499-501c0d84520f"
      },
      "source": [
        "head(goterms)"
      ],
      "execution_count": null,
      "outputs": [
        {
          "output_type": "display_data",
          "data": {
            "text/plain": [
              "  parent_go_id child_go_id child_name                                     \n",
              "1 GO:0006955   GO:0006955  immune response                                \n",
              "2 GO:0006955   GO:0002250  adaptive immune response                       \n",
              "3 GO:0006955   GO:0002251  organ or tissue specific immune response       \n",
              "4 GO:0006955   GO:0002263  cell activation involved in immune response    \n",
              "5 GO:0006955   GO:0002367  cytokine production involved in immune response\n",
              "6 GO:0006955   GO:0002418  immune response to tumor cell                  \n",
              "  distance\n",
              "1 0       \n",
              "2 1       \n",
              "3 1       \n",
              "4 1       \n",
              "5 1       \n",
              "6 1       "
            ],
            "text/latex": "A data.frame: 6 × 4\n\\begin{tabular}{r|llll}\n  & parent\\_go\\_id & child\\_go\\_id & child\\_name & distance\\\\\n  & <chr> & <chr> & <chr> & <int>\\\\\n\\hline\n\t1 & GO:0006955 & GO:0006955 & immune response                                 & 0\\\\\n\t2 & GO:0006955 & GO:0002250 & adaptive immune response                        & 1\\\\\n\t3 & GO:0006955 & GO:0002251 & organ or tissue specific immune response        & 1\\\\\n\t4 & GO:0006955 & GO:0002263 & cell activation involved in immune response     & 1\\\\\n\t5 & GO:0006955 & GO:0002367 & cytokine production involved in immune response & 1\\\\\n\t6 & GO:0006955 & GO:0002418 & immune response to tumor cell                   & 1\\\\\n\\end{tabular}\n",
            "text/markdown": "\nA data.frame: 6 × 4\n\n| <!--/--> | parent_go_id &lt;chr&gt; | child_go_id &lt;chr&gt; | child_name &lt;chr&gt; | distance &lt;int&gt; |\n|---|---|---|---|---|\n| 1 | GO:0006955 | GO:0006955 | immune response                                 | 0 |\n| 2 | GO:0006955 | GO:0002250 | adaptive immune response                        | 1 |\n| 3 | GO:0006955 | GO:0002251 | organ or tissue specific immune response        | 1 |\n| 4 | GO:0006955 | GO:0002263 | cell activation involved in immune response     | 1 |\n| 5 | GO:0006955 | GO:0002367 | cytokine production involved in immune response | 1 |\n| 6 | GO:0006955 | GO:0002418 | immune response to tumor cell                   | 1 |\n\n",
            "text/html": [
              "<table class=\"dataframe\">\n",
              "<caption>A data.frame: 6 × 4</caption>\n",
              "<thead>\n",
              "\t<tr><th></th><th scope=col>parent_go_id</th><th scope=col>child_go_id</th><th scope=col>child_name</th><th scope=col>distance</th></tr>\n",
              "\t<tr><th></th><th scope=col>&lt;chr&gt;</th><th scope=col>&lt;chr&gt;</th><th scope=col>&lt;chr&gt;</th><th scope=col>&lt;int&gt;</th></tr>\n",
              "</thead>\n",
              "<tbody>\n",
              "\t<tr><th scope=row>1</th><td>GO:0006955</td><td>GO:0006955</td><td>immune response                                </td><td>0</td></tr>\n",
              "\t<tr><th scope=row>2</th><td>GO:0006955</td><td>GO:0002250</td><td>adaptive immune response                       </td><td>1</td></tr>\n",
              "\t<tr><th scope=row>3</th><td>GO:0006955</td><td>GO:0002251</td><td>organ or tissue specific immune response       </td><td>1</td></tr>\n",
              "\t<tr><th scope=row>4</th><td>GO:0006955</td><td>GO:0002263</td><td>cell activation involved in immune response    </td><td>1</td></tr>\n",
              "\t<tr><th scope=row>5</th><td>GO:0006955</td><td>GO:0002367</td><td>cytokine production involved in immune response</td><td>1</td></tr>\n",
              "\t<tr><th scope=row>6</th><td>GO:0006955</td><td>GO:0002418</td><td>immune response to tumor cell                  </td><td>1</td></tr>\n",
              "</tbody>\n",
              "</table>\n"
            ]
          },
          "metadata": {}
        }
      ]
    },
    {
      "cell_type": "markdown",
      "metadata": {
        "id": "ByYqMIPxrhez"
      },
      "source": [
        "## Terms containing Pathway and Cascade and exluding regulation, positive and negative terms for the pathways"
      ]
    },
    {
      "cell_type": "code",
      "metadata": {
        "id": "2f6xZNNicLZE"
      },
      "source": [
        "pathway_terms <- goterms %>% filter(str_detect(child_name, 'pathway|cascade')) %>% filter(!str_detect(child_name, 'regulation|negative|positive'))"
      ],
      "execution_count": null,
      "outputs": []
    },
    {
      "cell_type": "code",
      "metadata": {
        "colab": {
          "base_uri": "https://localhost:8080/"
        },
        "id": "PFfypuc8g7CX",
        "outputId": "c9876a79-7b0d-4c84-ae1c-ae171f0550a8"
      },
      "source": [
        "go_genes <- get_anno_genes(go_ids=pathway_terms$child_go_id, database = 'Mus.musculus')"
      ],
      "execution_count": null,
      "outputs": [
        {
          "output_type": "stream",
          "name": "stderr",
          "text": [
            "find child nodes of GO-categories...\n",
            "\n",
            "find genes annotated to child nodes using database 'Mus.musculus'...\n",
            "\n",
            "Remove annotated categories not present in GO-graph...\n",
            "\n",
            "Done.\n",
            "\n"
          ]
        }
      ]
    },
    {
      "cell_type": "code",
      "metadata": {
        "colab": {
          "base_uri": "https://localhost:8080/",
          "height": 286
        },
        "id": "e-tlwT6-g6nu",
        "outputId": "c2887e31-6b44-4d6a-e807-b03ecd452b64"
      },
      "source": [
        "head(go_genes)"
      ],
      "execution_count": null,
      "outputs": [
        {
          "output_type": "display_data",
          "data": {
            "text/plain": [
              "  go_id      gene   \n",
              "1 GO:0001867 A2m    \n",
              "2 GO:0001867 Colec11\n",
              "3 GO:0001867 Fcna   \n",
              "4 GO:0001867 Fcnb   \n",
              "5 GO:0001867 Krt1   \n",
              "6 GO:0001867 Masp1  "
            ],
            "text/latex": "A data.frame: 6 × 2\n\\begin{tabular}{r|ll}\n  & go\\_id & gene\\\\\n  & <chr> & <chr>\\\\\n\\hline\n\t1 & GO:0001867 & A2m    \\\\\n\t2 & GO:0001867 & Colec11\\\\\n\t3 & GO:0001867 & Fcna   \\\\\n\t4 & GO:0001867 & Fcnb   \\\\\n\t5 & GO:0001867 & Krt1   \\\\\n\t6 & GO:0001867 & Masp1  \\\\\n\\end{tabular}\n",
            "text/markdown": "\nA data.frame: 6 × 2\n\n| <!--/--> | go_id &lt;chr&gt; | gene &lt;chr&gt; |\n|---|---|---|\n| 1 | GO:0001867 | A2m     |\n| 2 | GO:0001867 | Colec11 |\n| 3 | GO:0001867 | Fcna    |\n| 4 | GO:0001867 | Fcnb    |\n| 5 | GO:0001867 | Krt1    |\n| 6 | GO:0001867 | Masp1   |\n\n",
            "text/html": [
              "<table class=\"dataframe\">\n",
              "<caption>A data.frame: 6 × 2</caption>\n",
              "<thead>\n",
              "\t<tr><th></th><th scope=col>go_id</th><th scope=col>gene</th></tr>\n",
              "\t<tr><th></th><th scope=col>&lt;chr&gt;</th><th scope=col>&lt;chr&gt;</th></tr>\n",
              "</thead>\n",
              "<tbody>\n",
              "\t<tr><th scope=row>1</th><td>GO:0001867</td><td>A2m    </td></tr>\n",
              "\t<tr><th scope=row>2</th><td>GO:0001867</td><td>Colec11</td></tr>\n",
              "\t<tr><th scope=row>3</th><td>GO:0001867</td><td>Fcna   </td></tr>\n",
              "\t<tr><th scope=row>4</th><td>GO:0001867</td><td>Fcnb   </td></tr>\n",
              "\t<tr><th scope=row>5</th><td>GO:0001867</td><td>Krt1   </td></tr>\n",
              "\t<tr><th scope=row>6</th><td>GO:0001867</td><td>Masp1  </td></tr>\n",
              "</tbody>\n",
              "</table>\n"
            ]
          },
          "metadata": {}
        }
      ]
    },
    {
      "cell_type": "markdown",
      "metadata": {
        "id": "o8QS5rXkrxdi"
      },
      "source": [
        "## Get the gene set for all pathways in the parent inflammatory reponse GO terms"
      ]
    },
    {
      "cell_type": "code",
      "metadata": {
        "id": "G6UDXi9nrakT"
      },
      "source": [
        "go_set <- split(go_genes$gene,go_genes$go_id)"
      ],
      "execution_count": null,
      "outputs": []
    },
    {
      "cell_type": "code",
      "metadata": {
        "id": "zzfETXj_nMhz"
      },
      "source": [
        "names(go_set) <- goterms$child_name[match(names(go_set),goterms$child_go_id)]"
      ],
      "execution_count": null,
      "outputs": []
    },
    {
      "cell_type": "code",
      "metadata": {
        "colab": {
          "base_uri": "https://localhost:8080/",
          "height": 392
        },
        "id": "pdAthP8ho93A",
        "outputId": "c56a2d2f-1d45-4228-89ea-fdad403a84c6"
      },
      "source": [
        "head(go_set)"
      ],
      "execution_count": null,
      "outputs": [
        {
          "output_type": "display_data",
          "data": {
            "text/plain": [
              "$`complement activation, lectin pathway`\n",
              " [1] \"A2m\"      \"Colec11\"  \"Fcna\"     \"Fcnb\"     \"Krt1\"     \"Masp1\"   \n",
              " [7] \"Masp2\"    \"Mbl1\"     \"Mbl2\"     \"Mfap4\"    \"Serping1\"\n",
              "\n",
              "$`innate immune response activating cell surface receptor signaling pathway`\n",
              "[1] \"Fcnb\"   \"Ffar2\"  \"Klrd1\"  \"Klre1\"  \"Klrk1\"  \"Tlr2\"   \"Tyrobp\"\n",
              "\n",
              "$`stimulatory killer cell immunoglobulin-like receptor signaling pathway`\n",
              "[1] \"Tyrobp\"\n",
              "\n",
              "$`stimulatory C-type lectin receptor signaling pathway`\n",
              "[1] \"Klrd1\"  \"Klre1\"  \"Klrk1\"  \"Tyrobp\"\n",
              "\n",
              "$`immune response-activating cell surface receptor signaling pathway`\n",
              "  [1] \"Abl1\"       \"Ada\"        \"Appl1\"      \"Appl2\"      \"Bag6\"      \n",
              "  [6] \"Bax\"        \"Bcar1\"      \"Bcl10\"      \"Bcl2\"       \"Bcl2a1d\"   \n",
              " [11] \"Blk\"        \"Blnk\"       \"Bmx\"        \"Braf\"       \"Btn1a1\"    \n",
              " [16] \"Btn2a2\"     \"Btnl1\"      \"Btnl10\"     \"Btnl2\"      \"Btnl4\"     \n",
              " [21] \"Btnl6\"      \"Btnl9\"      \"C3ar1\"      \"C5ar1\"      \"C5ar2\"     \n",
              " [26] \"Cacna1f\"    \"Cacnb3\"     \"Cacnb4\"     \"Card11\"     \"Carmil2\"   \n",
              " [31] \"Cblb\"       \"Ccr7\"       \"Cd160\"      \"Cd19\"       \"Cd22\"      \n",
              " [36] \"Cd226\"      \"Cd247\"      \"Cd276\"      \"Cd28\"       \"Cd300a\"    \n",
              " [41] \"Cd38\"       \"Cd3e\"       \"Cd47\"       \"Cd79a\"      \"Cd79b\"     \n",
              " [46] \"Cd81\"       \"Clec2i\"     \"Cmklr1\"     \"Cmtm3\"      \"Crkl\"      \n",
              " [51] \"Csk\"        \"Ctla4\"      \"Cyld\"       \"Dennd1b\"    \"Dgkz\"      \n",
              " [56] \"Dusp22\"     \"Dusp3\"      \"Eif2b1\"     \"Eif2b2\"     \"Eif2b3\"    \n",
              " [61] \"Eif2b4\"     \"Eif2b5\"     \"Elf1\"       \"Ermap\"      \"Ezr\"       \n",
              " [66] \"Fcer1g\"     \"Fcgr2b\"     \"Fcnb\"       \"Fcrl5\"      \"Ffar2\"     \n",
              " [71] \"Foxp3\"      \"Fpr-rs3\"    \"Fpr-rs4\"    \"Fpr-rs6\"    \"Fpr-rs7\"   \n",
              " [76] \"Fpr1\"       \"Fpr2\"       \"Fpr3\"       \"Fyb\"        \"Fyb2\"      \n",
              " [81] \"Fyn\"        \"Gata3\"      \"Gcsam\"      \"Gm36028\"    \"Gpld1\"     \n",
              " [86] \"Gpr33\"      \"Gps2\"       \"H2-Ab1\"     \"Hras\"       \"Icosl\"     \n",
              " [91] \"Ifng\"       \"Igh-J\"      \"Igh-VJ558\"  \"Igh-VX24\"   \"Igha\"      \n",
              " [96] \"Ighd\"       \"Ighe\"       \"Ighg\"       \"Ighg1\"      \"Ighg2a\"    \n",
              "[101] \"Ighg2b\"     \"Ighg2c\"     \"Ighg3\"      \"Ighm\"       \"Ighv1-11\"  \n",
              "[106] \"Ighv1-12\"   \"Ighv1-15\"   \"Ighv1-16\"   \"Ighv1-18\"   \"Ighv1-19\"  \n",
              "[111] \"Ighv1-20\"   \"Ighv1-22\"   \"Ighv1-23\"   \"Ighv1-24\"   \"Ighv1-26\"  \n",
              "[116] \"Ighv1-31\"   \"Ighv1-34\"   \"Ighv1-36\"   \"Ighv1-37\"   \"Ighv1-39\"  \n",
              "[121] \"Ighv1-4\"    \"Ighv1-42\"   \"Ighv1-43\"   \"Ighv1-47\"   \"Ighv1-49\"  \n",
              "[126] \"Ighv1-5\"    \"Ighv1-50\"   \"Ighv1-52\"   \"Ighv1-53\"   \"Ighv1-54\"  \n",
              "[131] \"Ighv1-55\"   \"Ighv1-56\"   \"Ighv1-58\"   \"Ighv1-59\"   \"Ighv1-61\"  \n",
              "[136] \"Ighv1-62-2\" \"Ighv1-62-3\" \"Ighv1-63\"   \"Ighv1-64\"   \"Ighv1-66\"  \n",
              "[141] \"Ighv1-67\"   \"Ighv1-69\"   \"Ighv1-7\"    \"Ighv1-72\"   \"Ighv1-74\"  \n",
              "[146] \"Ighv1-75\"   \"Ighv1-76\"   \"Ighv1-77\"   \"Ighv1-78\"   \"Ighv1-80\"  \n",
              "[151] \"Ighv1-81\"   \"Ighv1-82\"   \"Ighv1-84\"   \"Ighv1-85\"   \"Ighv1-9\"   \n",
              "[156] \"Ighv10-1\"   \"Ighv10-3\"   \"Ighv11-1\"   \"Ighv11-2\"   \"Ighv12-3\"  \n",
              "[161] \"Ighv13-2\"   \"Ighv14-1\"   \"Ighv14-2\"   \"Ighv14-3\"   \"Ighv14-4\"  \n",
              "[166] \"Ighv15-2\"   \"Ighv16-1\"   \"Ighv2-2\"    \"Ighv2-3\"    \"Ighv2-4\"   \n",
              "[171] \"Ighv2-5\"    \"Ighv2-6\"    \"Ighv2-6-8\"  \"Ighv2-7\"    \"Ighv2-9\"   \n",
              "[176] \"Ighv2-9-1\"  \"Ighv3-1\"    \"Ighv3-3\"    \"Ighv3-4\"    \"Ighv3-5\"   \n",
              "[181] \"Ighv3-6\"    \"Ighv3-8\"    \"Ighv4-1\"    \"Ighv5-12\"   \"Ighv5-12-4\"\n",
              "[186] \"Ighv5-15\"   \"Ighv5-16\"   \"Ighv5-17\"   \"Ighv5-2\"    \"Ighv5-4\"   \n",
              "[191] \"Ighv5-6\"    \"Ighv5-9\"    \"Ighv5-9-1\"  \"Ighv6-3\"    \"Ighv6-4\"   \n",
              "[196] \"Ighv6-5\"    \"Ighv6-6\"    \"Ighv6-7\"    \"Ighv7-1\"    \"Ighv7-2\"   \n",
              "[201] \"Ighv7-3\"    \"Ighv7-4\"    \"Ighv8-11\"   \"Ighv8-12\"   \"Ighv8-13\"  \n",
              "[206] \"Ighv8-2\"    \"Ighv8-4\"    \"Ighv8-5\"    \"Ighv8-6\"    \"Ighv8-8\"   \n",
              "[211] \"Ighv8-9\"    \"Ighv9-1\"    \"Ighv9-2\"    \"Ighv9-3\"    \"Ighv9-4\"   \n",
              "[216] \"Igkc\"       \"Iglc1\"      \"Iglc2\"      \"Iglc3\"      \"Iglc4\"     \n",
              "[221] \"Igll1\"      \"Itk\"        \"Kcnn4\"      \"Khdrbs1\"    \"Klhl6\"     \n",
              "[226] \"Klrd1\"      \"Klre1\"      \"Klrk1\"      \"Laptm5\"     \"Lat2\"      \n",
              "[231] \"Lax1\"       \"Lck\"        \"Lcp2\"       \"Lgals3\"     \"Lime1\"     \n",
              "[236] \"Lpxn\"       \"Lyn\"        \"Malt1\"      \"Mapk1\"      \"Mef2c\"     \n",
              "[241] \"Mill2\"      \"Mog\"        \"Ms4a1\"      \"Myo1g\"      \"Nckap1l\"   \n",
              "[246] \"Nectin2\"    \"Nfam1\"      \"Nfatc2\"     \"Nfkbid\"     \"Nfkbiz\"    \n",
              "[251] \"Nr4a3\"      \"Nras\"       \"Pawr\"       \"Pde4b\"      \"Phpt1\"     \n",
              "[256] \"Plcg1\"      \"Plcg2\"      \"Plcl2\"      \"Plekha1\"    \"Plscr1\"    \n",
              "[261] \"Pram1\"      \"Prkcb\"      \"Prkch\"      \"Prkd2\"      \"Prnp\"      \n",
              "[266] \"Psen1\"      \"Psen2\"      \"Ptpn2\"      \"Ptpn22\"     \"Ptpn6\"     \n",
              "[271] \"Ptprc\"      \"Ptprj\"      \"Pvrig\"      \"Rab29\"      \"Rabgef1\"   \n",
              "[276] \"Rap1a\"      \"Rapgef1\"    \"Rbck1\"      \"Rc3h1\"      \"Rc3h2\"     \n",
              "[281] \"Rela\"       \"Rftn1\"      \"Ripk2\"      \"Rnf31\"      \"Rps3\"      \n",
              "[286] \"Sh2b2\"      \"Sh2d1a\"     \"Shb\"        \"Skap1\"      \"Skint1\"    \n",
              "[291] \"Skint10\"    \"Skint11\"    \"Skint2\"     \"Skint3\"     \"Skint4\"    \n",
              "[296] \"Skint5\"     \"Skint6\"     \"Skint7\"     \"Skint8\"     \"Skint9\"    \n",
              "[301] \"Sla2\"       \"Slc39a10\"   \"Spn\"        \"Sppl3\"      \"Stap1\"     \n",
              "[306] \"Stk11\"      \"Stoml2\"     \"Syk\"        \"Tec\"        \"Tespa1\"    \n",
              "[311] \"Themis\"     \"Themis2\"    \"Themis3\"    \"Thy1\"       \"Tlr2\"      \n",
              "[316] \"Tnfrsf21\"   \"Traf6\"      \"Trat1\"      \"Trbc1\"      \"Trbc2\"     \n",
              "[321] \"Trdc\"       \"Trdv4\"      \"Txk\"        \"Tyrobp\"     \"Ubash3a\"   \n",
              "[326] \"Ube2n\"      \"Usp12\"      \"Usp46\"      \"Usp9x\"      \"Vav3\"      \n",
              "[331] \"Vtcn1\"      \"Wnk1\"       \"Zap70\"      \"Zc3h12a\"   \n",
              "\n",
              "$`complement receptor mediated signaling pathway`\n",
              " [1] \"C3ar1\"   \"C5ar1\"   \"C5ar2\"   \"Cmklr1\"  \"Fpr-rs3\" \"Fpr-rs4\" \"Fpr-rs6\"\n",
              " [8] \"Fpr-rs7\" \"Fpr1\"    \"Fpr2\"    \"Fpr3\"    \"Gpld1\"   \"Gpr33\"  \n"
            ],
            "text/latex": "\\begin{description}\n\\item[\\$`complement activation, lectin pathway`] \\begin{enumerate*}\n\\item 'A2m'\n\\item 'Colec11'\n\\item 'Fcna'\n\\item 'Fcnb'\n\\item 'Krt1'\n\\item 'Masp1'\n\\item 'Masp2'\n\\item 'Mbl1'\n\\item 'Mbl2'\n\\item 'Mfap4'\n\\item 'Serping1'\n\\end{enumerate*}\n\n\\item[\\$`innate immune response activating cell surface receptor signaling pathway`] \\begin{enumerate*}\n\\item 'Fcnb'\n\\item 'Ffar2'\n\\item 'Klrd1'\n\\item 'Klre1'\n\\item 'Klrk1'\n\\item 'Tlr2'\n\\item 'Tyrobp'\n\\end{enumerate*}\n\n\\item[\\$`stimulatory killer cell immunoglobulin-like receptor signaling pathway`] 'Tyrobp'\n\\item[\\$`stimulatory C-type lectin receptor signaling pathway`] \\begin{enumerate*}\n\\item 'Klrd1'\n\\item 'Klre1'\n\\item 'Klrk1'\n\\item 'Tyrobp'\n\\end{enumerate*}\n\n\\item[\\$`immune response-activating cell surface receptor signaling pathway`] \\begin{enumerate*}\n\\item 'Abl1'\n\\item 'Ada'\n\\item 'Appl1'\n\\item 'Appl2'\n\\item 'Bag6'\n\\item 'Bax'\n\\item 'Bcar1'\n\\item 'Bcl10'\n\\item 'Bcl2'\n\\item 'Bcl2a1d'\n\\item 'Blk'\n\\item 'Blnk'\n\\item 'Bmx'\n\\item 'Braf'\n\\item 'Btn1a1'\n\\item 'Btn2a2'\n\\item 'Btnl1'\n\\item 'Btnl10'\n\\item 'Btnl2'\n\\item 'Btnl4'\n\\item 'Btnl6'\n\\item 'Btnl9'\n\\item 'C3ar1'\n\\item 'C5ar1'\n\\item 'C5ar2'\n\\item 'Cacna1f'\n\\item 'Cacnb3'\n\\item 'Cacnb4'\n\\item 'Card11'\n\\item 'Carmil2'\n\\item 'Cblb'\n\\item 'Ccr7'\n\\item 'Cd160'\n\\item 'Cd19'\n\\item 'Cd22'\n\\item 'Cd226'\n\\item 'Cd247'\n\\item 'Cd276'\n\\item 'Cd28'\n\\item 'Cd300a'\n\\item 'Cd38'\n\\item 'Cd3e'\n\\item 'Cd47'\n\\item 'Cd79a'\n\\item 'Cd79b'\n\\item 'Cd81'\n\\item 'Clec2i'\n\\item 'Cmklr1'\n\\item 'Cmtm3'\n\\item 'Crkl'\n\\item 'Csk'\n\\item 'Ctla4'\n\\item 'Cyld'\n\\item 'Dennd1b'\n\\item 'Dgkz'\n\\item 'Dusp22'\n\\item 'Dusp3'\n\\item 'Eif2b1'\n\\item 'Eif2b2'\n\\item 'Eif2b3'\n\\item 'Eif2b4'\n\\item 'Eif2b5'\n\\item 'Elf1'\n\\item 'Ermap'\n\\item 'Ezr'\n\\item 'Fcer1g'\n\\item 'Fcgr2b'\n\\item 'Fcnb'\n\\item 'Fcrl5'\n\\item 'Ffar2'\n\\item 'Foxp3'\n\\item 'Fpr-rs3'\n\\item 'Fpr-rs4'\n\\item 'Fpr-rs6'\n\\item 'Fpr-rs7'\n\\item 'Fpr1'\n\\item 'Fpr2'\n\\item 'Fpr3'\n\\item 'Fyb'\n\\item 'Fyb2'\n\\item 'Fyn'\n\\item 'Gata3'\n\\item 'Gcsam'\n\\item 'Gm36028'\n\\item 'Gpld1'\n\\item 'Gpr33'\n\\item 'Gps2'\n\\item 'H2-Ab1'\n\\item 'Hras'\n\\item 'Icosl'\n\\item 'Ifng'\n\\item 'Igh-J'\n\\item 'Igh-VJ558'\n\\item 'Igh-VX24'\n\\item 'Igha'\n\\item 'Ighd'\n\\item 'Ighe'\n\\item 'Ighg'\n\\item 'Ighg1'\n\\item 'Ighg2a'\n\\item 'Ighg2b'\n\\item 'Ighg2c'\n\\item 'Ighg3'\n\\item 'Ighm'\n\\item 'Ighv1-11'\n\\item 'Ighv1-12'\n\\item 'Ighv1-15'\n\\item 'Ighv1-16'\n\\item 'Ighv1-18'\n\\item 'Ighv1-19'\n\\item 'Ighv1-20'\n\\item 'Ighv1-22'\n\\item 'Ighv1-23'\n\\item 'Ighv1-24'\n\\item 'Ighv1-26'\n\\item 'Ighv1-31'\n\\item 'Ighv1-34'\n\\item 'Ighv1-36'\n\\item 'Ighv1-37'\n\\item 'Ighv1-39'\n\\item 'Ighv1-4'\n\\item 'Ighv1-42'\n\\item 'Ighv1-43'\n\\item 'Ighv1-47'\n\\item 'Ighv1-49'\n\\item 'Ighv1-5'\n\\item 'Ighv1-50'\n\\item 'Ighv1-52'\n\\item 'Ighv1-53'\n\\item 'Ighv1-54'\n\\item 'Ighv1-55'\n\\item 'Ighv1-56'\n\\item 'Ighv1-58'\n\\item 'Ighv1-59'\n\\item 'Ighv1-61'\n\\item 'Ighv1-62-2'\n\\item 'Ighv1-62-3'\n\\item 'Ighv1-63'\n\\item 'Ighv1-64'\n\\item 'Ighv1-66'\n\\item 'Ighv1-67'\n\\item 'Ighv1-69'\n\\item 'Ighv1-7'\n\\item 'Ighv1-72'\n\\item 'Ighv1-74'\n\\item 'Ighv1-75'\n\\item 'Ighv1-76'\n\\item 'Ighv1-77'\n\\item 'Ighv1-78'\n\\item 'Ighv1-80'\n\\item 'Ighv1-81'\n\\item 'Ighv1-82'\n\\item 'Ighv1-84'\n\\item 'Ighv1-85'\n\\item 'Ighv1-9'\n\\item 'Ighv10-1'\n\\item 'Ighv10-3'\n\\item 'Ighv11-1'\n\\item 'Ighv11-2'\n\\item 'Ighv12-3'\n\\item 'Ighv13-2'\n\\item 'Ighv14-1'\n\\item 'Ighv14-2'\n\\item 'Ighv14-3'\n\\item 'Ighv14-4'\n\\item 'Ighv15-2'\n\\item 'Ighv16-1'\n\\item 'Ighv2-2'\n\\item 'Ighv2-3'\n\\item 'Ighv2-4'\n\\item 'Ighv2-5'\n\\item 'Ighv2-6'\n\\item 'Ighv2-6-8'\n\\item 'Ighv2-7'\n\\item 'Ighv2-9'\n\\item 'Ighv2-9-1'\n\\item 'Ighv3-1'\n\\item 'Ighv3-3'\n\\item 'Ighv3-4'\n\\item 'Ighv3-5'\n\\item 'Ighv3-6'\n\\item 'Ighv3-8'\n\\item 'Ighv4-1'\n\\item 'Ighv5-12'\n\\item 'Ighv5-12-4'\n\\item 'Ighv5-15'\n\\item 'Ighv5-16'\n\\item 'Ighv5-17'\n\\item 'Ighv5-2'\n\\item 'Ighv5-4'\n\\item 'Ighv5-6'\n\\item 'Ighv5-9'\n\\item 'Ighv5-9-1'\n\\item 'Ighv6-3'\n\\item 'Ighv6-4'\n\\item 'Ighv6-5'\n\\item 'Ighv6-6'\n\\item 'Ighv6-7'\n\\item 'Ighv7-1'\n\\item 'Ighv7-2'\n\\item 'Ighv7-3'\n\\item 'Ighv7-4'\n\\item 'Ighv8-11'\n\\item 'Ighv8-12'\n\\item 'Ighv8-13'\n\\item 'Ighv8-2'\n\\item 'Ighv8-4'\n\\item 'Ighv8-5'\n\\item 'Ighv8-6'\n\\item 'Ighv8-8'\n\\item 'Ighv8-9'\n\\item 'Ighv9-1'\n\\item 'Ighv9-2'\n\\item 'Ighv9-3'\n\\item 'Ighv9-4'\n\\item 'Igkc'\n\\item 'Iglc1'\n\\item 'Iglc2'\n\\item 'Iglc3'\n\\item 'Iglc4'\n\\item 'Igll1'\n\\item 'Itk'\n\\item 'Kcnn4'\n\\item 'Khdrbs1'\n\\item 'Klhl6'\n\\item 'Klrd1'\n\\item 'Klre1'\n\\item 'Klrk1'\n\\item 'Laptm5'\n\\item 'Lat2'\n\\item 'Lax1'\n\\item 'Lck'\n\\item 'Lcp2'\n\\item 'Lgals3'\n\\item 'Lime1'\n\\item 'Lpxn'\n\\item 'Lyn'\n\\item 'Malt1'\n\\item 'Mapk1'\n\\item 'Mef2c'\n\\item 'Mill2'\n\\item 'Mog'\n\\item 'Ms4a1'\n\\item 'Myo1g'\n\\item 'Nckap1l'\n\\item 'Nectin2'\n\\item 'Nfam1'\n\\item 'Nfatc2'\n\\item 'Nfkbid'\n\\item 'Nfkbiz'\n\\item 'Nr4a3'\n\\item 'Nras'\n\\item 'Pawr'\n\\item 'Pde4b'\n\\item 'Phpt1'\n\\item 'Plcg1'\n\\item 'Plcg2'\n\\item 'Plcl2'\n\\item 'Plekha1'\n\\item 'Plscr1'\n\\item 'Pram1'\n\\item 'Prkcb'\n\\item 'Prkch'\n\\item 'Prkd2'\n\\item 'Prnp'\n\\item 'Psen1'\n\\item 'Psen2'\n\\item 'Ptpn2'\n\\item 'Ptpn22'\n\\item 'Ptpn6'\n\\item 'Ptprc'\n\\item 'Ptprj'\n\\item 'Pvrig'\n\\item 'Rab29'\n\\item 'Rabgef1'\n\\item 'Rap1a'\n\\item 'Rapgef1'\n\\item 'Rbck1'\n\\item 'Rc3h1'\n\\item 'Rc3h2'\n\\item 'Rela'\n\\item 'Rftn1'\n\\item 'Ripk2'\n\\item 'Rnf31'\n\\item 'Rps3'\n\\item 'Sh2b2'\n\\item 'Sh2d1a'\n\\item 'Shb'\n\\item 'Skap1'\n\\item 'Skint1'\n\\item 'Skint10'\n\\item 'Skint11'\n\\item 'Skint2'\n\\item 'Skint3'\n\\item 'Skint4'\n\\item 'Skint5'\n\\item 'Skint6'\n\\item 'Skint7'\n\\item 'Skint8'\n\\item 'Skint9'\n\\item 'Sla2'\n\\item 'Slc39a10'\n\\item 'Spn'\n\\item 'Sppl3'\n\\item 'Stap1'\n\\item 'Stk11'\n\\item 'Stoml2'\n\\item 'Syk'\n\\item 'Tec'\n\\item 'Tespa1'\n\\item 'Themis'\n\\item 'Themis2'\n\\item 'Themis3'\n\\item 'Thy1'\n\\item 'Tlr2'\n\\item 'Tnfrsf21'\n\\item 'Traf6'\n\\item 'Trat1'\n\\item 'Trbc1'\n\\item 'Trbc2'\n\\item 'Trdc'\n\\item 'Trdv4'\n\\item 'Txk'\n\\item 'Tyrobp'\n\\item 'Ubash3a'\n\\item 'Ube2n'\n\\item 'Usp12'\n\\item 'Usp46'\n\\item 'Usp9x'\n\\item 'Vav3'\n\\item 'Vtcn1'\n\\item 'Wnk1'\n\\item 'Zap70'\n\\item 'Zc3h12a'\n\\end{enumerate*}\n\n\\item[\\$`complement receptor mediated signaling pathway`] \\begin{enumerate*}\n\\item 'C3ar1'\n\\item 'C5ar1'\n\\item 'C5ar2'\n\\item 'Cmklr1'\n\\item 'Fpr-rs3'\n\\item 'Fpr-rs4'\n\\item 'Fpr-rs6'\n\\item 'Fpr-rs7'\n\\item 'Fpr1'\n\\item 'Fpr2'\n\\item 'Fpr3'\n\\item 'Gpld1'\n\\item 'Gpr33'\n\\end{enumerate*}\n\n\\end{description}\n",
            "text/markdown": "$`complement activation, lectin pathway`\n:   1. 'A2m'\n2. 'Colec11'\n3. 'Fcna'\n4. 'Fcnb'\n5. 'Krt1'\n6. 'Masp1'\n7. 'Masp2'\n8. 'Mbl1'\n9. 'Mbl2'\n10. 'Mfap4'\n11. 'Serping1'\n\n\n\n$`innate immune response activating cell surface receptor signaling pathway`\n:   1. 'Fcnb'\n2. 'Ffar2'\n3. 'Klrd1'\n4. 'Klre1'\n5. 'Klrk1'\n6. 'Tlr2'\n7. 'Tyrobp'\n\n\n\n$`stimulatory killer cell immunoglobulin-like receptor signaling pathway`\n:   'Tyrobp'\n$`stimulatory C-type lectin receptor signaling pathway`\n:   1. 'Klrd1'\n2. 'Klre1'\n3. 'Klrk1'\n4. 'Tyrobp'\n\n\n\n$`immune response-activating cell surface receptor signaling pathway`\n:   1. 'Abl1'\n2. 'Ada'\n3. 'Appl1'\n4. 'Appl2'\n5. 'Bag6'\n6. 'Bax'\n7. 'Bcar1'\n8. 'Bcl10'\n9. 'Bcl2'\n10. 'Bcl2a1d'\n11. 'Blk'\n12. 'Blnk'\n13. 'Bmx'\n14. 'Braf'\n15. 'Btn1a1'\n16. 'Btn2a2'\n17. 'Btnl1'\n18. 'Btnl10'\n19. 'Btnl2'\n20. 'Btnl4'\n21. 'Btnl6'\n22. 'Btnl9'\n23. 'C3ar1'\n24. 'C5ar1'\n25. 'C5ar2'\n26. 'Cacna1f'\n27. 'Cacnb3'\n28. 'Cacnb4'\n29. 'Card11'\n30. 'Carmil2'\n31. 'Cblb'\n32. 'Ccr7'\n33. 'Cd160'\n34. 'Cd19'\n35. 'Cd22'\n36. 'Cd226'\n37. 'Cd247'\n38. 'Cd276'\n39. 'Cd28'\n40. 'Cd300a'\n41. 'Cd38'\n42. 'Cd3e'\n43. 'Cd47'\n44. 'Cd79a'\n45. 'Cd79b'\n46. 'Cd81'\n47. 'Clec2i'\n48. 'Cmklr1'\n49. 'Cmtm3'\n50. 'Crkl'\n51. 'Csk'\n52. 'Ctla4'\n53. 'Cyld'\n54. 'Dennd1b'\n55. 'Dgkz'\n56. 'Dusp22'\n57. 'Dusp3'\n58. 'Eif2b1'\n59. 'Eif2b2'\n60. 'Eif2b3'\n61. 'Eif2b4'\n62. 'Eif2b5'\n63. 'Elf1'\n64. 'Ermap'\n65. 'Ezr'\n66. 'Fcer1g'\n67. 'Fcgr2b'\n68. 'Fcnb'\n69. 'Fcrl5'\n70. 'Ffar2'\n71. 'Foxp3'\n72. 'Fpr-rs3'\n73. 'Fpr-rs4'\n74. 'Fpr-rs6'\n75. 'Fpr-rs7'\n76. 'Fpr1'\n77. 'Fpr2'\n78. 'Fpr3'\n79. 'Fyb'\n80. 'Fyb2'\n81. 'Fyn'\n82. 'Gata3'\n83. 'Gcsam'\n84. 'Gm36028'\n85. 'Gpld1'\n86. 'Gpr33'\n87. 'Gps2'\n88. 'H2-Ab1'\n89. 'Hras'\n90. 'Icosl'\n91. 'Ifng'\n92. 'Igh-J'\n93. 'Igh-VJ558'\n94. 'Igh-VX24'\n95. 'Igha'\n96. 'Ighd'\n97. 'Ighe'\n98. 'Ighg'\n99. 'Ighg1'\n100. 'Ighg2a'\n101. 'Ighg2b'\n102. 'Ighg2c'\n103. 'Ighg3'\n104. 'Ighm'\n105. 'Ighv1-11'\n106. 'Ighv1-12'\n107. 'Ighv1-15'\n108. 'Ighv1-16'\n109. 'Ighv1-18'\n110. 'Ighv1-19'\n111. 'Ighv1-20'\n112. 'Ighv1-22'\n113. 'Ighv1-23'\n114. 'Ighv1-24'\n115. 'Ighv1-26'\n116. 'Ighv1-31'\n117. 'Ighv1-34'\n118. 'Ighv1-36'\n119. 'Ighv1-37'\n120. 'Ighv1-39'\n121. 'Ighv1-4'\n122. 'Ighv1-42'\n123. 'Ighv1-43'\n124. 'Ighv1-47'\n125. 'Ighv1-49'\n126. 'Ighv1-5'\n127. 'Ighv1-50'\n128. 'Ighv1-52'\n129. 'Ighv1-53'\n130. 'Ighv1-54'\n131. 'Ighv1-55'\n132. 'Ighv1-56'\n133. 'Ighv1-58'\n134. 'Ighv1-59'\n135. 'Ighv1-61'\n136. 'Ighv1-62-2'\n137. 'Ighv1-62-3'\n138. 'Ighv1-63'\n139. 'Ighv1-64'\n140. 'Ighv1-66'\n141. 'Ighv1-67'\n142. 'Ighv1-69'\n143. 'Ighv1-7'\n144. 'Ighv1-72'\n145. 'Ighv1-74'\n146. 'Ighv1-75'\n147. 'Ighv1-76'\n148. 'Ighv1-77'\n149. 'Ighv1-78'\n150. 'Ighv1-80'\n151. 'Ighv1-81'\n152. 'Ighv1-82'\n153. 'Ighv1-84'\n154. 'Ighv1-85'\n155. 'Ighv1-9'\n156. 'Ighv10-1'\n157. 'Ighv10-3'\n158. 'Ighv11-1'\n159. 'Ighv11-2'\n160. 'Ighv12-3'\n161. 'Ighv13-2'\n162. 'Ighv14-1'\n163. 'Ighv14-2'\n164. 'Ighv14-3'\n165. 'Ighv14-4'\n166. 'Ighv15-2'\n167. 'Ighv16-1'\n168. 'Ighv2-2'\n169. 'Ighv2-3'\n170. 'Ighv2-4'\n171. 'Ighv2-5'\n172. 'Ighv2-6'\n173. 'Ighv2-6-8'\n174. 'Ighv2-7'\n175. 'Ighv2-9'\n176. 'Ighv2-9-1'\n177. 'Ighv3-1'\n178. 'Ighv3-3'\n179. 'Ighv3-4'\n180. 'Ighv3-5'\n181. 'Ighv3-6'\n182. 'Ighv3-8'\n183. 'Ighv4-1'\n184. 'Ighv5-12'\n185. 'Ighv5-12-4'\n186. 'Ighv5-15'\n187. 'Ighv5-16'\n188. 'Ighv5-17'\n189. 'Ighv5-2'\n190. 'Ighv5-4'\n191. 'Ighv5-6'\n192. 'Ighv5-9'\n193. 'Ighv5-9-1'\n194. 'Ighv6-3'\n195. 'Ighv6-4'\n196. 'Ighv6-5'\n197. 'Ighv6-6'\n198. 'Ighv6-7'\n199. 'Ighv7-1'\n200. 'Ighv7-2'\n201. 'Ighv7-3'\n202. 'Ighv7-4'\n203. 'Ighv8-11'\n204. 'Ighv8-12'\n205. 'Ighv8-13'\n206. 'Ighv8-2'\n207. 'Ighv8-4'\n208. 'Ighv8-5'\n209. 'Ighv8-6'\n210. 'Ighv8-8'\n211. 'Ighv8-9'\n212. 'Ighv9-1'\n213. 'Ighv9-2'\n214. 'Ighv9-3'\n215. 'Ighv9-4'\n216. 'Igkc'\n217. 'Iglc1'\n218. 'Iglc2'\n219. 'Iglc3'\n220. 'Iglc4'\n221. 'Igll1'\n222. 'Itk'\n223. 'Kcnn4'\n224. 'Khdrbs1'\n225. 'Klhl6'\n226. 'Klrd1'\n227. 'Klre1'\n228. 'Klrk1'\n229. 'Laptm5'\n230. 'Lat2'\n231. 'Lax1'\n232. 'Lck'\n233. 'Lcp2'\n234. 'Lgals3'\n235. 'Lime1'\n236. 'Lpxn'\n237. 'Lyn'\n238. 'Malt1'\n239. 'Mapk1'\n240. 'Mef2c'\n241. 'Mill2'\n242. 'Mog'\n243. 'Ms4a1'\n244. 'Myo1g'\n245. 'Nckap1l'\n246. 'Nectin2'\n247. 'Nfam1'\n248. 'Nfatc2'\n249. 'Nfkbid'\n250. 'Nfkbiz'\n251. 'Nr4a3'\n252. 'Nras'\n253. 'Pawr'\n254. 'Pde4b'\n255. 'Phpt1'\n256. 'Plcg1'\n257. 'Plcg2'\n258. 'Plcl2'\n259. 'Plekha1'\n260. 'Plscr1'\n261. 'Pram1'\n262. 'Prkcb'\n263. 'Prkch'\n264. 'Prkd2'\n265. 'Prnp'\n266. 'Psen1'\n267. 'Psen2'\n268. 'Ptpn2'\n269. 'Ptpn22'\n270. 'Ptpn6'\n271. 'Ptprc'\n272. 'Ptprj'\n273. 'Pvrig'\n274. 'Rab29'\n275. 'Rabgef1'\n276. 'Rap1a'\n277. 'Rapgef1'\n278. 'Rbck1'\n279. 'Rc3h1'\n280. 'Rc3h2'\n281. 'Rela'\n282. 'Rftn1'\n283. 'Ripk2'\n284. 'Rnf31'\n285. 'Rps3'\n286. 'Sh2b2'\n287. 'Sh2d1a'\n288. 'Shb'\n289. 'Skap1'\n290. 'Skint1'\n291. 'Skint10'\n292. 'Skint11'\n293. 'Skint2'\n294. 'Skint3'\n295. 'Skint4'\n296. 'Skint5'\n297. 'Skint6'\n298. 'Skint7'\n299. 'Skint8'\n300. 'Skint9'\n301. 'Sla2'\n302. 'Slc39a10'\n303. 'Spn'\n304. 'Sppl3'\n305. 'Stap1'\n306. 'Stk11'\n307. 'Stoml2'\n308. 'Syk'\n309. 'Tec'\n310. 'Tespa1'\n311. 'Themis'\n312. 'Themis2'\n313. 'Themis3'\n314. 'Thy1'\n315. 'Tlr2'\n316. 'Tnfrsf21'\n317. 'Traf6'\n318. 'Trat1'\n319. 'Trbc1'\n320. 'Trbc2'\n321. 'Trdc'\n322. 'Trdv4'\n323. 'Txk'\n324. 'Tyrobp'\n325. 'Ubash3a'\n326. 'Ube2n'\n327. 'Usp12'\n328. 'Usp46'\n329. 'Usp9x'\n330. 'Vav3'\n331. 'Vtcn1'\n332. 'Wnk1'\n333. 'Zap70'\n334. 'Zc3h12a'\n\n\n\n$`complement receptor mediated signaling pathway`\n:   1. 'C3ar1'\n2. 'C5ar1'\n3. 'C5ar2'\n4. 'Cmklr1'\n5. 'Fpr-rs3'\n6. 'Fpr-rs4'\n7. 'Fpr-rs6'\n8. 'Fpr-rs7'\n9. 'Fpr1'\n10. 'Fpr2'\n11. 'Fpr3'\n12. 'Gpld1'\n13. 'Gpr33'\n\n\n\n\n\n",
            "text/html": [
              "<dl>\n",
              "\t<dt>$`complement activation, lectin pathway`</dt>\n",
              "\t\t<dd><style>\n",
              ".list-inline {list-style: none; margin:0; padding: 0}\n",
              ".list-inline>li {display: inline-block}\n",
              ".list-inline>li:not(:last-child)::after {content: \"\\00b7\"; padding: 0 .5ex}\n",
              "</style>\n",
              "<ol class=list-inline><li>'A2m'</li><li>'Colec11'</li><li>'Fcna'</li><li>'Fcnb'</li><li>'Krt1'</li><li>'Masp1'</li><li>'Masp2'</li><li>'Mbl1'</li><li>'Mbl2'</li><li>'Mfap4'</li><li>'Serping1'</li></ol>\n",
              "</dd>\n",
              "\t<dt>$`innate immune response activating cell surface receptor signaling pathway`</dt>\n",
              "\t\t<dd><style>\n",
              ".list-inline {list-style: none; margin:0; padding: 0}\n",
              ".list-inline>li {display: inline-block}\n",
              ".list-inline>li:not(:last-child)::after {content: \"\\00b7\"; padding: 0 .5ex}\n",
              "</style>\n",
              "<ol class=list-inline><li>'Fcnb'</li><li>'Ffar2'</li><li>'Klrd1'</li><li>'Klre1'</li><li>'Klrk1'</li><li>'Tlr2'</li><li>'Tyrobp'</li></ol>\n",
              "</dd>\n",
              "\t<dt>$`stimulatory killer cell immunoglobulin-like receptor signaling pathway`</dt>\n",
              "\t\t<dd>'Tyrobp'</dd>\n",
              "\t<dt>$`stimulatory C-type lectin receptor signaling pathway`</dt>\n",
              "\t\t<dd><style>\n",
              ".list-inline {list-style: none; margin:0; padding: 0}\n",
              ".list-inline>li {display: inline-block}\n",
              ".list-inline>li:not(:last-child)::after {content: \"\\00b7\"; padding: 0 .5ex}\n",
              "</style>\n",
              "<ol class=list-inline><li>'Klrd1'</li><li>'Klre1'</li><li>'Klrk1'</li><li>'Tyrobp'</li></ol>\n",
              "</dd>\n",
              "\t<dt>$`immune response-activating cell surface receptor signaling pathway`</dt>\n",
              "\t\t<dd><style>\n",
              ".list-inline {list-style: none; margin:0; padding: 0}\n",
              ".list-inline>li {display: inline-block}\n",
              ".list-inline>li:not(:last-child)::after {content: \"\\00b7\"; padding: 0 .5ex}\n",
              "</style>\n",
              "<ol class=list-inline><li>'Abl1'</li><li>'Ada'</li><li>'Appl1'</li><li>'Appl2'</li><li>'Bag6'</li><li>'Bax'</li><li>'Bcar1'</li><li>'Bcl10'</li><li>'Bcl2'</li><li>'Bcl2a1d'</li><li>'Blk'</li><li>'Blnk'</li><li>'Bmx'</li><li>'Braf'</li><li>'Btn1a1'</li><li>'Btn2a2'</li><li>'Btnl1'</li><li>'Btnl10'</li><li>'Btnl2'</li><li>'Btnl4'</li><li>'Btnl6'</li><li>'Btnl9'</li><li>'C3ar1'</li><li>'C5ar1'</li><li>'C5ar2'</li><li>'Cacna1f'</li><li>'Cacnb3'</li><li>'Cacnb4'</li><li>'Card11'</li><li>'Carmil2'</li><li>'Cblb'</li><li>'Ccr7'</li><li>'Cd160'</li><li>'Cd19'</li><li>'Cd22'</li><li>'Cd226'</li><li>'Cd247'</li><li>'Cd276'</li><li>'Cd28'</li><li>'Cd300a'</li><li>'Cd38'</li><li>'Cd3e'</li><li>'Cd47'</li><li>'Cd79a'</li><li>'Cd79b'</li><li>'Cd81'</li><li>'Clec2i'</li><li>'Cmklr1'</li><li>'Cmtm3'</li><li>'Crkl'</li><li>'Csk'</li><li>'Ctla4'</li><li>'Cyld'</li><li>'Dennd1b'</li><li>'Dgkz'</li><li>'Dusp22'</li><li>'Dusp3'</li><li>'Eif2b1'</li><li>'Eif2b2'</li><li>'Eif2b3'</li><li>'Eif2b4'</li><li>'Eif2b5'</li><li>'Elf1'</li><li>'Ermap'</li><li>'Ezr'</li><li>'Fcer1g'</li><li>'Fcgr2b'</li><li>'Fcnb'</li><li>'Fcrl5'</li><li>'Ffar2'</li><li>'Foxp3'</li><li>'Fpr-rs3'</li><li>'Fpr-rs4'</li><li>'Fpr-rs6'</li><li>'Fpr-rs7'</li><li>'Fpr1'</li><li>'Fpr2'</li><li>'Fpr3'</li><li>'Fyb'</li><li>'Fyb2'</li><li>'Fyn'</li><li>'Gata3'</li><li>'Gcsam'</li><li>'Gm36028'</li><li>'Gpld1'</li><li>'Gpr33'</li><li>'Gps2'</li><li>'H2-Ab1'</li><li>'Hras'</li><li>'Icosl'</li><li>'Ifng'</li><li>'Igh-J'</li><li>'Igh-VJ558'</li><li>'Igh-VX24'</li><li>'Igha'</li><li>'Ighd'</li><li>'Ighe'</li><li>'Ighg'</li><li>'Ighg1'</li><li>'Ighg2a'</li><li>'Ighg2b'</li><li>'Ighg2c'</li><li>'Ighg3'</li><li>'Ighm'</li><li>'Ighv1-11'</li><li>'Ighv1-12'</li><li>'Ighv1-15'</li><li>'Ighv1-16'</li><li>'Ighv1-18'</li><li>'Ighv1-19'</li><li>'Ighv1-20'</li><li>'Ighv1-22'</li><li>'Ighv1-23'</li><li>'Ighv1-24'</li><li>'Ighv1-26'</li><li>'Ighv1-31'</li><li>'Ighv1-34'</li><li>'Ighv1-36'</li><li>'Ighv1-37'</li><li>'Ighv1-39'</li><li>'Ighv1-4'</li><li>'Ighv1-42'</li><li>'Ighv1-43'</li><li>'Ighv1-47'</li><li>'Ighv1-49'</li><li>'Ighv1-5'</li><li>'Ighv1-50'</li><li>'Ighv1-52'</li><li>'Ighv1-53'</li><li>'Ighv1-54'</li><li>'Ighv1-55'</li><li>'Ighv1-56'</li><li>'Ighv1-58'</li><li>'Ighv1-59'</li><li>'Ighv1-61'</li><li>'Ighv1-62-2'</li><li>'Ighv1-62-3'</li><li>'Ighv1-63'</li><li>'Ighv1-64'</li><li>'Ighv1-66'</li><li>'Ighv1-67'</li><li>'Ighv1-69'</li><li>'Ighv1-7'</li><li>'Ighv1-72'</li><li>'Ighv1-74'</li><li>'Ighv1-75'</li><li>'Ighv1-76'</li><li>'Ighv1-77'</li><li>'Ighv1-78'</li><li>'Ighv1-80'</li><li>'Ighv1-81'</li><li>'Ighv1-82'</li><li>'Ighv1-84'</li><li>'Ighv1-85'</li><li>'Ighv1-9'</li><li>'Ighv10-1'</li><li>'Ighv10-3'</li><li>'Ighv11-1'</li><li>'Ighv11-2'</li><li>'Ighv12-3'</li><li>'Ighv13-2'</li><li>'Ighv14-1'</li><li>'Ighv14-2'</li><li>'Ighv14-3'</li><li>'Ighv14-4'</li><li>'Ighv15-2'</li><li>'Ighv16-1'</li><li>'Ighv2-2'</li><li>'Ighv2-3'</li><li>'Ighv2-4'</li><li>'Ighv2-5'</li><li>'Ighv2-6'</li><li>'Ighv2-6-8'</li><li>'Ighv2-7'</li><li>'Ighv2-9'</li><li>'Ighv2-9-1'</li><li>'Ighv3-1'</li><li>'Ighv3-3'</li><li>'Ighv3-4'</li><li>'Ighv3-5'</li><li>'Ighv3-6'</li><li>'Ighv3-8'</li><li>'Ighv4-1'</li><li>'Ighv5-12'</li><li>'Ighv5-12-4'</li><li>'Ighv5-15'</li><li>'Ighv5-16'</li><li>'Ighv5-17'</li><li>'Ighv5-2'</li><li>'Ighv5-4'</li><li>'Ighv5-6'</li><li>'Ighv5-9'</li><li>'Ighv5-9-1'</li><li>'Ighv6-3'</li><li>'Ighv6-4'</li><li>'Ighv6-5'</li><li>'Ighv6-6'</li><li>'Ighv6-7'</li><li>'Ighv7-1'</li><li>'Ighv7-2'</li><li>'Ighv7-3'</li><li>'Ighv7-4'</li><li>'Ighv8-11'</li><li>'Ighv8-12'</li><li>'Ighv8-13'</li><li>'Ighv8-2'</li><li>'Ighv8-4'</li><li>'Ighv8-5'</li><li>'Ighv8-6'</li><li>'Ighv8-8'</li><li>'Ighv8-9'</li><li>'Ighv9-1'</li><li>'Ighv9-2'</li><li>'Ighv9-3'</li><li>'Ighv9-4'</li><li>'Igkc'</li><li>'Iglc1'</li><li>'Iglc2'</li><li>'Iglc3'</li><li>'Iglc4'</li><li>'Igll1'</li><li>'Itk'</li><li>'Kcnn4'</li><li>'Khdrbs1'</li><li>'Klhl6'</li><li>'Klrd1'</li><li>'Klre1'</li><li>'Klrk1'</li><li>'Laptm5'</li><li>'Lat2'</li><li>'Lax1'</li><li>'Lck'</li><li>'Lcp2'</li><li>'Lgals3'</li><li>'Lime1'</li><li>'Lpxn'</li><li>'Lyn'</li><li>'Malt1'</li><li>'Mapk1'</li><li>'Mef2c'</li><li>'Mill2'</li><li>'Mog'</li><li>'Ms4a1'</li><li>'Myo1g'</li><li>'Nckap1l'</li><li>'Nectin2'</li><li>'Nfam1'</li><li>'Nfatc2'</li><li>'Nfkbid'</li><li>'Nfkbiz'</li><li>'Nr4a3'</li><li>'Nras'</li><li>'Pawr'</li><li>'Pde4b'</li><li>'Phpt1'</li><li>'Plcg1'</li><li>'Plcg2'</li><li>'Plcl2'</li><li>'Plekha1'</li><li>'Plscr1'</li><li>'Pram1'</li><li>'Prkcb'</li><li>'Prkch'</li><li>'Prkd2'</li><li>'Prnp'</li><li>'Psen1'</li><li>'Psen2'</li><li>'Ptpn2'</li><li>'Ptpn22'</li><li>'Ptpn6'</li><li>'Ptprc'</li><li>'Ptprj'</li><li>'Pvrig'</li><li>'Rab29'</li><li>'Rabgef1'</li><li>'Rap1a'</li><li>'Rapgef1'</li><li>'Rbck1'</li><li>'Rc3h1'</li><li>'Rc3h2'</li><li>'Rela'</li><li>'Rftn1'</li><li>'Ripk2'</li><li>'Rnf31'</li><li>'Rps3'</li><li>'Sh2b2'</li><li>'Sh2d1a'</li><li>'Shb'</li><li>'Skap1'</li><li>'Skint1'</li><li>'Skint10'</li><li>'Skint11'</li><li>'Skint2'</li><li>'Skint3'</li><li>'Skint4'</li><li>'Skint5'</li><li>'Skint6'</li><li>'Skint7'</li><li>'Skint8'</li><li>'Skint9'</li><li>'Sla2'</li><li>'Slc39a10'</li><li>'Spn'</li><li>'Sppl3'</li><li>'Stap1'</li><li>'Stk11'</li><li>'Stoml2'</li><li>'Syk'</li><li>'Tec'</li><li>'Tespa1'</li><li>'Themis'</li><li>'Themis2'</li><li>'Themis3'</li><li>'Thy1'</li><li>'Tlr2'</li><li>'Tnfrsf21'</li><li>'Traf6'</li><li>'Trat1'</li><li>'Trbc1'</li><li>'Trbc2'</li><li>'Trdc'</li><li>'Trdv4'</li><li>'Txk'</li><li>'Tyrobp'</li><li>'Ubash3a'</li><li>'Ube2n'</li><li>'Usp12'</li><li>'Usp46'</li><li>'Usp9x'</li><li>'Vav3'</li><li>'Vtcn1'</li><li>'Wnk1'</li><li>'Zap70'</li><li>'Zc3h12a'</li></ol>\n",
              "</dd>\n",
              "\t<dt>$`complement receptor mediated signaling pathway`</dt>\n",
              "\t\t<dd><style>\n",
              ".list-inline {list-style: none; margin:0; padding: 0}\n",
              ".list-inline>li {display: inline-block}\n",
              ".list-inline>li:not(:last-child)::after {content: \"\\00b7\"; padding: 0 .5ex}\n",
              "</style>\n",
              "<ol class=list-inline><li>'C3ar1'</li><li>'C5ar1'</li><li>'C5ar2'</li><li>'Cmklr1'</li><li>'Fpr-rs3'</li><li>'Fpr-rs4'</li><li>'Fpr-rs6'</li><li>'Fpr-rs7'</li><li>'Fpr1'</li><li>'Fpr2'</li><li>'Fpr3'</li><li>'Gpld1'</li><li>'Gpr33'</li></ol>\n",
              "</dd>\n",
              "</dl>\n"
            ]
          },
          "metadata": {}
        }
      ]
    },
    {
      "cell_type": "markdown",
      "metadata": {
        "id": "X7jl3EBdW22C"
      },
      "source": [
        "## Load processed scRNA-seq data"
      ]
    },
    {
      "cell_type": "code",
      "metadata": {
        "id": "kRAzJq1xJsNR"
      },
      "source": [
        "se_file <- c(\n",
        "  \"se\" = \"https://s3.msi.umn.edu/gongx030/etv2_pioneer/data/processed_Etv2_scRNAseq.rds\")"
      ],
      "execution_count": null,
      "outputs": []
    },
    {
      "cell_type": "code",
      "metadata": {
        "colab": {
          "base_uri": "https://localhost:8080/"
        },
        "id": "ZRGse0fmJt94",
        "outputId": "8f2b43a9-3d84-4457-bc16-900e431da2c8"
      },
      "source": [
        "for (i in 1:length(se_file)){\n",
        "  sprintf('wget -x -c -nH %s', se_file[i]) %>% system()\n",
        "}\n",
        "se_file <- gsub('https://s3.msi.umn.edu/', './', se_file)\n",
        "message(sprintf('all se_file exist: %s', all(file.exists(se_file))))"
      ],
      "execution_count": null,
      "outputs": [
        {
          "output_type": "stream",
          "name": "stderr",
          "text": [
            "all se_file exist: TRUE\n",
            "\n"
          ]
        }
      ]
    },
    {
      "cell_type": "code",
      "metadata": {
        "id": "hzbdKcMEJv9L"
      },
      "source": [
        "se <- lapply(se_file, function(s){s %>%\n",
        "  readRDS()})"
      ],
      "execution_count": null,
      "outputs": []
    },
    {
      "cell_type": "code",
      "metadata": {
        "id": "2v1bGeXgKiet"
      },
      "source": [
        "se <- se$se\n"
      ],
      "execution_count": null,
      "outputs": []
    },
    {
      "cell_type": "markdown",
      "metadata": {
        "id": "dB3mu5ATpb3S"
      },
      "source": [
        "## Determine the number of clusters by running k-means on the scVI latent space"
      ]
    },
    {
      "cell_type": "code",
      "metadata": {
        "id": "ehvF1tSWUe3_",
        "colab": {
          "base_uri": "https://localhost:8080/",
          "height": 317
        },
        "outputId": "350b445b-d422-4148-d0e0-81a8e07da9c4"
      },
      "source": [
        "options(repr.plot.width = 10, repr.plot.height = 5)\n",
        "wss <- (nrow(colData(se)$umap)-1) * sum(apply(colData(se)$umap, 2, var))\n",
        "for (i in 2:15) wss[i] <- sum(kmeans(colData(se)$umap,centers = i, nstart = 10)$withinss)\n",
        "options(repr.plot.width=7, repr.plot.height=5)\n",
        "plot(1:15, wss, type=\"b\", xlab=\"Number of Clusters\", ylab=\"Within groups sum of squares\")\n",
        "n_cluster <- 7\n",
        "abline(v = n_cluster, col = 'blue', lty = 2)"
      ],
      "execution_count": null,
      "outputs": [
        {
          "output_type": "display_data",
          "data": {
            "image/png": "[encoded data removed]",
            "text/plain": [
              "plot without title"
            ]
          },
          "metadata": {
            "image/png": {
              "width": 420,
              "height": 300
            }
          }
        }
      ]
    },
    {
      "cell_type": "code",
      "metadata": {
        "id": "uBGDMzDAUe9i",
        "colab": {
          "base_uri": "https://localhost:8080/",
          "height": 349
        },
        "outputId": "124cc9b7-1e1f-4cb2-a6a1-78528c195d84"
      },
      "source": [
        "set.seed(1)\n",
        "# it is important to set nstart to a large number to get a relatively robust clustering result. \n",
        "cls <- kmeans(colData(se)$umap, n_cluster, nstart = 100)$cluster\n",
        "table(cls, colData(se)$group)\n",
        "cls <- as.numeric(factor(cls, c(4, 5, 2, 3, 1, 7, 6)))\n",
        "table(cls, colData(se)$group)"
      ],
      "execution_count": null,
      "outputs": [
        {
          "output_type": "display_data",
          "data": {
            "text/plain": [
              "   \n",
              "cls MEF_NoDox MEF_Dox_D1 MEF_Dox_D2 MEF_Dox_D7a MEF_Dox_D7b\n",
              "  1         1          0         17        1493           3\n",
              "  2         0          6       1443           1           0\n",
              "  3         0          4       1435          23           0\n",
              "  4      2878        541         21           2           3\n",
              "  5       657        381          1           0           0\n",
              "  6         0          2          0           1         813\n",
              "  7        26         14         19        5682           8"
            ]
          },
          "metadata": {}
        },
        {
          "output_type": "display_data",
          "data": {
            "text/plain": [
              "   \n",
              "cls MEF_NoDox MEF_Dox_D1 MEF_Dox_D2 MEF_Dox_D7a MEF_Dox_D7b\n",
              "  1      2878        541         21           2           3\n",
              "  2       657        381          1           0           0\n",
              "  3         0          6       1443           1           0\n",
              "  4         0          4       1435          23           0\n",
              "  5         1          0         17        1493           3\n",
              "  6        26         14         19        5682           8\n",
              "  7         0          2          0           1         813"
            ]
          },
          "metadata": {}
        }
      ]
    },
    {
      "cell_type": "markdown",
      "metadata": {
        "id": "cWVzG939T3KT"
      },
      "source": [
        "# Seurat: converting Single cell experiment to seurat object"
      ]
    },
    {
      "cell_type": "code",
      "metadata": {
        "colab": {
          "base_uri": "https://localhost:8080/",
          "height": 441
        },
        "id": "tocu6eQRTp_z",
        "outputId": "9da3e62a-cffd-461f-ee46-322f939992ef"
      },
      "source": [
        "system(\"wget -x -c -nH https://s3.msi.umn.edu/gongx030/etv2_pioneer/data/processed_Etv2_scRNAseq.rds\")\n",
        "sce = readRDS(file = \"gongx030/etv2_pioneer/data/processed_Etv2_scRNAseq.rds\")\n",
        "sce = as(sce, \"SingleCellExperiment\")\n",
        "print(sce)\n",
        "rownames(sce) = rowData(sce)$name\n",
        "colnames(sce)  = colData(sce)$barcodes\n",
        "so = as.Seurat(sce, data = NULL)\n",
        "so = CreateSeuratObject(counts = GetAssayData(so, slot = \"counts\"), meta.data = so@meta.data)\n",
        "so[[\"percent.mt\"]] = PercentageFeatureSet(so, pattern = \"^mt-\")\n",
        "so[[\"percent.rpl\"]] = PercentageFeatureSet(so, pattern = \"^Rpl\")\n",
        "so[[\"percent.rps\"]] = PercentageFeatureSet(so, pattern = \"^Rps\")\n",
        "s.genes <- cc.genes$s.genes %>% str_to_title()\n",
        "g2m.genes <- cc.genes$g2m.genes %>% str_to_title()\n",
        "so <- CellCycleScoring(so, s.features = s.genes, g2m.features = g2m.genes, set.ident = TRUE)\n",
        "#normalize and scaling#\n",
        "rownames(sce) = rownames(so)\n",
        "colnames(sce) = colnames(so)\n",
        "so <- SetAssayData(object = so, slot = \"scale.data\", new.data = assays(sce)$scaled_counts)\n",
        "so <- SetAssayData(object = so, slot = \"data\", new.data = assays(sce)$normalized_counts)\n",
        "#assign UMAP #\n",
        "so[[\"umap\"]] <- CreateDimReducObject(embeddings = as.matrix(so@meta.data[,c(\"umap.V1\", \"umap.V2\")]), key = \"umap_\", assay = DefaultAssay(so))\n",
        "so"
      ],
      "execution_count": null,
      "outputs": [
        {
          "output_type": "stream",
          "name": "stdout",
          "text": [
            "class: SingleCellExperiment \n",
            "dim: 17010 15475 \n",
            "metadata(1): curves\n",
            "assays(3): counts normalized_counts scaled_counts\n",
            "rownames: NULL\n",
            "rowData names(6): id name ... is_hvg clusters\n",
            "colnames: NULL\n",
            "colData names(7): barcodes group ... umap cluster\n",
            "reducedDimNames(0):\n",
            "mainExpName: NULL\n",
            "altExpNames(0):\n"
          ]
        },
        {
          "output_type": "stream",
          "name": "stderr",
          "text": [
            "Warning message:\n",
            "“Non-unique features (rownames) present in the input matrix, making unique”\n",
            "Warning message:\n",
            "“Non-unique cell names (colnames) present in the input matrix, making unique”\n",
            "Warning message:\n",
            "“The following features are not present in the object: Mlf1ip, not searching for symbol synonyms”\n",
            "Warning message:\n",
            "“The following features are not present in the object: Fam64a, Hn1, not searching for symbol synonyms”\n"
          ]
        },
        {
          "output_type": "display_data",
          "data": {
            "text/plain": [
              "An object of class Seurat \n",
              "17010 features across 15475 samples within 1 assay \n",
              "Active assay: RNA (17010 features, 0 variable features)\n",
              " 1 dimensional reduction calculated: umap"
            ]
          },
          "metadata": {}
        }
      ]
    },
    {
      "cell_type": "markdown",
      "metadata": {
        "id": "DE-ix6JfvN9d"
      },
      "source": [
        "# MEF_D7 Fl1+ vs MEF_ND"
      ]
    },
    {
      "cell_type": "code",
      "metadata": {
        "colab": {
          "base_uri": "https://localhost:8080/"
        },
        "id": "DgkJJ4gVPXi2",
        "outputId": "1730653d-bed2-4cb3-e0bc-ef09e0ad8fc0"
      },
      "source": [
        "X <- assays(se)$scaled_counts\n",
        "control <- colData(se)$group == 'MEF_NoDox'\n",
        "treatment <- colData(se)$group == 'MEF_Dox_D7b'\n",
        "fc_ct <- rowMeans(X[, treatment]) - rowMeans(X[, control])\n",
        "names(fc_ct) <- rowData(se)$name"
      ],
      "execution_count": null,
      "outputs": [
        {
          "output_type": "stream",
          "name": "stderr",
          "text": [
            "dimnames(.) <- NULL:  translated to \n",
            "dimnames(.) <- list(NULL,NULL)  <==>  unname(.)\n",
            "\n",
            "dimnames(.) <- NULL:  translated to \n",
            "dimnames(.) <- list(NULL,NULL)  <==>  unname(.)\n",
            "\n"
          ]
        }
      ]
    },
    {
      "cell_type": "code",
      "metadata": {
        "id": "udwy6jv-SNo1"
      },
      "source": [
        "fc_ct <- na.omit(fc_ct)\n",
        "fc_ct <- sort(fc_ct, decreasing = TRUE)"
      ],
      "execution_count": null,
      "outputs": []
    },
    {
      "cell_type": "markdown",
      "metadata": {
        "id": "lewhqP4G5sb0"
      },
      "source": [
        "## Fold change arranged in descending order for GSEA"
      ]
    },
    {
      "cell_type": "code",
      "metadata": {
        "colab": {
          "base_uri": "https://localhost:8080/",
          "height": 317
        },
        "id": "oKF9itauSQbQ",
        "outputId": "8966a6b3-84c5-46e5-90ff-97b23e401578"
      },
      "source": [
        "plot(fc_ct)"
      ],
      "execution_count": null,
      "outputs": [
        {
          "output_type": "display_data",
          "data": {
            "image/png": "[encoded data removed]",
            "text/plain": [
              "plot without title"
            ]
          },
          "metadata": {
            "image/png": {
              "width": 420,
              "height": 300
            }
          }
        }
      ]
    },
    {
      "cell_type": "markdown",
      "metadata": {
        "id": "sfEYIMh35xUK"
      },
      "source": [
        "## Gene set enrichment analysis using the genes from inflammatory terms"
      ]
    },
    {
      "cell_type": "code",
      "metadata": {
        "id": "f3iJVap0SWhI",
        "colab": {
          "base_uri": "https://localhost:8080/"
        },
        "outputId": "3fac2f16-33e7-430c-8658-a2c0b05699dd"
      },
      "source": [
        "set.seed(7)\n",
        "fgseaRes <-  fgseaMultilevel(pathways = go_set, \n",
        "                  stats    = fc_ct,\n",
        "                  minSize  = 1,\n",
        "                  maxSize  = 2000,\n",
        "                  nPermSimple = 50000)"
      ],
      "execution_count": null,
      "outputs": [
        {
          "output_type": "stream",
          "name": "stderr",
          "text": [
            "Warning message in preparePathwaysAndStats(pathways, stats, minSize, maxSize, gseaParam, :\n",
            "“There are duplicate gene names, fgsea may produce unexpected results.”\n"
          ]
        }
      ]
    },
    {
      "cell_type": "code",
      "metadata": {
        "id": "lXXaK8H_0Twy"
      },
      "source": [
        "dat_d7 <- fgseaRes %>%\n",
        "  mutate(val = ifelse(fgseaRes$ES > 0,\n",
        "                                 log10(pval),\n",
        "                                 -log10(pval))) #Log10 pval"
      ],
      "execution_count": null,
      "outputs": []
    },
    {
      "cell_type": "code",
      "metadata": {
        "id": "ju9hKvv30Uyp"
      },
      "source": [
        "dat_d7$ES_score <- ifelse(dat_d7$ES > 0, \"lightblue\", \"lightblue\")"
      ],
      "execution_count": null,
      "outputs": []
    },
    {
      "cell_type": "code",
      "metadata": {
        "id": "I5kCQM-L3Lyh"
      },
      "source": [
        "gs <- dat_d7 %>% \n",
        "arrange(val)"
      ],
      "execution_count": null,
      "outputs": []
    },
    {
      "cell_type": "code",
      "metadata": {
        "colab": {
          "base_uri": "https://localhost:8080/",
          "height": 882
        },
        "id": "cvoL9ixw3_TW",
        "outputId": "d58aaf74-4184-41c1-9584-48974acf27d5"
      },
      "source": [
        "gs"
      ],
      "execution_count": null,
      "outputs": [
        {
          "output_type": "display_data",
          "data": {
            "text/plain": [
              "   pathway                                                                                    \n",
              "1  B cell receptor signaling pathway                                                          \n",
              "2  Fc receptor mediated stimulatory signaling pathway                                         \n",
              "3  Fc-gamma receptor signaling pathway                                                        \n",
              "4  Fc-gamma receptor signaling pathway involved in phagocytosis                               \n",
              "5  immune response-regulating cell surface receptor signaling pathway involved in phagocytosis\n",
              "6  immune response-regulating signaling pathway                                               \n",
              "7  immune response-regulating cell surface receptor signaling pathway                         \n",
              "8  immune response-activating cell surface receptor signaling pathway                         \n",
              "9  Fc receptor signaling pathway                                                              \n",
              "10 Fc receptor mediated inhibitory signaling pathway                                          \n",
              "11 type I interferon signaling pathway                                                        \n",
              "12 immune response-inhibiting cell surface receptor signaling pathway                         \n",
              "13 antigen receptor-mediated signaling pathway                                                \n",
              "14 complement activation, classical pathway                                                   \n",
              "15 cell surface pattern recognition receptor signaling pathway                                \n",
              "16 interferon-gamma-mediated signaling pathway                                                \n",
              "17 complement activation, alternative pathway                                                 \n",
              "18 innate immune response activating cell surface receptor signaling pathway                  \n",
              "19 stimulatory C-type lectin receptor signaling pathway                                       \n",
              "20 T cell receptor signaling pathway                                                          \n",
              "21 natural killer cell inhibitory signaling pathway                                           \n",
              "22 complement activation, lectin pathway                                                      \n",
              "23 complement receptor mediated signaling pathway                                             \n",
              "24 B cell receptor apoptotic signaling pathway                                                \n",
              "25 Fc-epsilon receptor signaling pathway                                                      \n",
              "   pval         padj        log2err     ES         NES        size\n",
              "1  6.751028e-05 0.001687757 0.538434096  0.6907049  1.9748750  39 \n",
              "2  9.821787e-04 0.012277234 0.455059867  0.8287541  1.8668336  14 \n",
              "3  4.395866e-03 0.036632213 0.168154339  0.8144783  1.7654641  12 \n",
              "4  1.393497e-02 0.068402919 0.090742400  0.8436575  1.6436426   8 \n",
              "5  1.393497e-02 0.068402919 0.090742400  0.8436575  1.6436426   8 \n",
              "6  1.641670e-02 0.068402919 0.160665976  0.3650546  1.2978937 157 \n",
              "7  2.317750e-02 0.073855244 0.133506897  0.3569677  1.2661629 154 \n",
              "8  2.363368e-02 0.073855244 0.127603887  0.3643429  1.2826267 144 \n",
              "9  2.904747e-02 0.080687415 0.066845942  0.6786401  1.5786192  16 \n",
              "10 4.245659e-02 0.106141469 0.043724054  0.9795990  1.3073817   1 \n",
              "11 1.273508e-01 0.265314085 0.035129937  0.4417762  1.2427547  36 \n",
              "12 1.573839e-01 0.302661394 0.024565397  0.8110781  1.3317248   4 \n",
              "13 1.822973e-01 0.325530925 0.041581214  0.3201815  1.1036853 122 \n",
              "14 2.360907e-01 0.364531195 0.023379042  0.4664352  1.1610959  21 \n",
              "15 3.942738e-01 0.534940849 0.013869139  0.7773364  1.1127565   2 \n",
              "16 4.747153e-01 0.593394077 0.015612372  0.4014623  0.9758764  19 \n",
              "17 6.234894e-01 0.708510711 0.011767616  0.4610745  0.8671948   7 \n",
              "18 7.069845e-01 0.768461408 0.010346892  0.4565383  0.7910293   5 \n",
              "19 8.354735e-01 0.835473515 0.006730900 -0.5115263 -0.7507730   3 \n",
              "20 7.884592e-01 0.821311716 0.004611575 -0.3051896 -0.8395087  91 \n",
              "21 5.405977e-01 0.643568652 0.009934207 -0.7124084 -0.9908321   2 \n",
              "22 4.065550e-01 0.534940849 0.011129086 -0.6436450 -1.0839653   6 \n",
              "23 2.478812e-01 0.364531195 0.015589856 -0.7701721 -1.1902886   4 \n",
              "24 2.126215e-01 0.354369192 0.018752085 -0.8925863 -1.1897023   1 \n",
              "25 1.172961e-01 0.265314085 0.023664566 -0.8357227 -1.2915960   4 \n",
              "   leadingEdge                                                                                                                                                                                                                             \n",
              "1  Cd81 , Vav3 , Lyn  , Cd38 , Cmtm3, Klhl6, Abl1 , Mef2c                                                                                                                                                                                  \n",
              "2  Cd47  , Plscr1, Lyn   , Appl2 , Rap1a                                                                                                                                                                                                   \n",
              "3  Cd47 , Appl2, Rap1a                                                                                                                                                                                                                     \n",
              "4  Cd47 , Appl2, Rap1a                                                                                                                                                                                                                     \n",
              "5  Cd47 , Appl2, Rap1a                                                                                                                                                                                                                     \n",
              "6  Cd81   , Cd47   , Lax1   , Vav3   , Plscr1 , Lyn    , Cd38   , Cmtm3  , Klhl6  , Abl1   , Appl2  , Pde4b  , Mef2c  , Rap1a  , Fyn    , Tlr4   , Psen2  , Dusp3  , Phpt1  , H2-M3  , Sppl3  , Dennd1b, Nfkbiz , Plcg1  , Elf1   , Ctsh   \n",
              "7  Cd81   , Cd47   , Lax1   , Vav3   , Plscr1 , Lyn    , Cd38   , Cmtm3  , Klhl6  , Abl1   , Appl2  , Pde4b  , Mef2c  , Rap1a  , Fyn    , Psen2  , Dusp3  , Phpt1  , H2-M3  , Sppl3  , Dennd1b, Nfkbiz , Plcg1  , Elf1                     \n",
              "8  Cd81   , Cd47   , Lax1   , Vav3   , Plscr1 , Lyn    , Cd38   , Cmtm3  , Klhl6  , Abl1   , Appl2  , Pde4b  , Mef2c  , Rap1a  , Fyn    , Psen2  , Dusp3  , Phpt1  , Sppl3  , Dennd1b, Nfkbiz , Plcg1  , Elf1                              \n",
              "9  Cd47 , Appl2, Rap1a                                                                                                                                                                                                                     \n",
              "10 Lyn                                                                                                                                                                                                                                     \n",
              "11 Ifitm2, Ifitm3, Wnt5a , Stat1 , Ythdf3, Ikbke                                                                                                                                                                                           \n",
              "12 Lyn  , H2-M3                                                                                                                                                                                                                            \n",
              "13 Cd81   , Lax1   , Vav3   , Lyn    , Cd38   , Cmtm3  , Klhl6  , Abl1   , Pde4b  , Mef2c  , Fyn    , Psen2  , Dusp3  , Phpt1  , Sppl3  , Dennd1b, Nfkbiz , Plcg1  , Elf1                                                                  \n",
              "14 C1s1    , Susd4   , C1ra    , Trbc2   , Cr1l    , C1rl    , Trbc1   , C8g     , Serping1                                                                                                                                                \n",
              "15 Ffar2, Tlr2                                                                                                                                                                                                                             \n",
              "16 Jak2 , Arg1 , Irgm1, Stat1, Nmi  , Parp9, Irgm2, Irf1                                                                                                                                                                                   \n",
              "17 Susd4, C8g  , C3                                                                                                                                                                                                                        \n",
              "18 Ffar2, Tlr2 , Klrk1                                                                                                                                                                                                                     \n",
              "19 Klre1, Klrd1                                                                                                                                                                                                                            \n",
              "20 Ube2n   , Ripk2   , Ezr     , Nras    , Hras    , Stoml2  , Khdrbs1 , Eif2b5  , Eif2b3  , Rps3    , Skap1   , Stk11   , Tnfrsf21, Eif2b1  , Ada     , Cyld    , Usp12   , Fyb     , Eif2b4  , Cacnb3  , Pawr    , Kcnn4                 \n",
              "21 Sh2d1b1                                                                                                                                                                                                                                 \n",
              "22 Masp1                                                                                                                                                                                                                                   \n",
              "23 C3ar1                                                                                                                                                                                                                                   \n",
              "24 Bax                                                                                                                                                                                                                                     \n",
              "25 Fer                                                                                                                                                                                                                                     \n",
              "   val         ES_score \n",
              "1  -4.17063012 lightblue\n",
              "2  -3.00780948 lightblue\n",
              "3  -2.35695560 lightblue\n",
              "4  -1.85589396 lightblue\n",
              "5  -1.85589396 lightblue\n",
              "6  -1.78471413 lightblue\n",
              "7  -1.63493348 lightblue\n",
              "8  -1.62646869 lightblue\n",
              "9  -1.53689170 lightblue\n",
              "10 -1.37205492 lightblue\n",
              "11 -0.89499846 lightblue\n",
              "12 -0.80303963 lightblue\n",
              "13 -0.73921972 lightblue\n",
              "14 -0.62692107 lightblue\n",
              "15 -0.40420207 lightblue\n",
              "16 -0.32356681 lightblue\n",
              "17 -0.20517091 lightblue\n",
              "18 -0.15059011 lightblue\n",
              "19  0.07806731 lightblue\n",
              "20  0.10322075 lightblue\n",
              "21  0.26712583 lightblue\n",
              "22  0.39088064 lightblue\n",
              "23  0.60575639 lightblue\n",
              "24  0.67239279 lightblue\n",
              "25  0.93071647 lightblue"
            ],
            "text/latex": "A data.table: 25 × 10\n\\begin{tabular}{llllllllll}\n pathway & pval & padj & log2err & ES & NES & size & leadingEdge & val & ES\\_score\\\\\n <chr> & <dbl> & <dbl> & <dbl> & <dbl> & <dbl> & <int> & <list> & <dbl> & <chr>\\\\\n\\hline\n\t B cell receptor signaling pathway                                                           & 6.751028e-05 & 0.001687757 & 0.538434096 &  0.6907049 &  1.9748750 &  39 & Cd81 , Vav3 , Lyn  , Cd38 , Cmtm3, Klhl6, Abl1 , Mef2c & -4.17063012 & lightblue\\\\\n\t Fc receptor mediated stimulatory signaling pathway                                          & 9.821787e-04 & 0.012277234 & 0.455059867 &  0.8287541 &  1.8668336 &  14 & Cd47  , Plscr1, Lyn   , Appl2 , Rap1a  & -3.00780948 & lightblue\\\\\n\t Fc-gamma receptor signaling pathway                                                         & 4.395866e-03 & 0.036632213 & 0.168154339 &  0.8144783 &  1.7654641 &  12 & Cd47 , Appl2, Rap1a & -2.35695560 & lightblue\\\\\n\t Fc-gamma receptor signaling pathway involved in phagocytosis                                & 1.393497e-02 & 0.068402919 & 0.090742400 &  0.8436575 &  1.6436426 &   8 & Cd47 , Appl2, Rap1a & -1.85589396 & lightblue\\\\\n\t immune response-regulating cell surface receptor signaling pathway involved in phagocytosis & 1.393497e-02 & 0.068402919 & 0.090742400 &  0.8436575 &  1.6436426 &   8 & Cd47 , Appl2, Rap1a & -1.85589396 & lightblue\\\\\n\t immune response-regulating signaling pathway                                                & 1.641670e-02 & 0.068402919 & 0.160665976 &  0.3650546 &  1.2978937 & 157 & Cd81   , Cd47   , Lax1   , Vav3   , Plscr1 , Lyn    , Cd38   , Cmtm3  , Klhl6  , Abl1   , Appl2  , Pde4b  , Mef2c  , Rap1a  , Fyn    , Tlr4   , Psen2  , Dusp3  , Phpt1  , H2-M3  , Sppl3  , Dennd1b, Nfkbiz , Plcg1  , Elf1   , Ctsh    & -1.78471413 & lightblue\\\\\n\t immune response-regulating cell surface receptor signaling pathway                          & 2.317750e-02 & 0.073855244 & 0.133506897 &  0.3569677 &  1.2661629 & 154 & Cd81   , Cd47   , Lax1   , Vav3   , Plscr1 , Lyn    , Cd38   , Cmtm3  , Klhl6  , Abl1   , Appl2  , Pde4b  , Mef2c  , Rap1a  , Fyn    , Psen2  , Dusp3  , Phpt1  , H2-M3  , Sppl3  , Dennd1b, Nfkbiz , Plcg1  , Elf1    & -1.63493348 & lightblue\\\\\n\t immune response-activating cell surface receptor signaling pathway                          & 2.363368e-02 & 0.073855244 & 0.127603887 &  0.3643429 &  1.2826267 & 144 & Cd81   , Cd47   , Lax1   , Vav3   , Plscr1 , Lyn    , Cd38   , Cmtm3  , Klhl6  , Abl1   , Appl2  , Pde4b  , Mef2c  , Rap1a  , Fyn    , Psen2  , Dusp3  , Phpt1  , Sppl3  , Dennd1b, Nfkbiz , Plcg1  , Elf1    & -1.62646869 & lightblue\\\\\n\t Fc receptor signaling pathway                                                               & 2.904747e-02 & 0.080687415 & 0.066845942 &  0.6786401 &  1.5786192 &  16 & Cd47 , Appl2, Rap1a & -1.53689170 & lightblue\\\\\n\t Fc receptor mediated inhibitory signaling pathway                                           & 4.245659e-02 & 0.106141469 & 0.043724054 &  0.9795990 &  1.3073817 &   1 & Lyn & -1.37205492 & lightblue\\\\\n\t type I interferon signaling pathway                                                         & 1.273508e-01 & 0.265314085 & 0.035129937 &  0.4417762 &  1.2427547 &  36 & Ifitm2, Ifitm3, Wnt5a , Stat1 , Ythdf3, Ikbke  & -0.89499846 & lightblue\\\\\n\t immune response-inhibiting cell surface receptor signaling pathway                          & 1.573839e-01 & 0.302661394 & 0.024565397 &  0.8110781 &  1.3317248 &   4 & Lyn  , H2-M3 & -0.80303963 & lightblue\\\\\n\t antigen receptor-mediated signaling pathway                                                 & 1.822973e-01 & 0.325530925 & 0.041581214 &  0.3201815 &  1.1036853 & 122 & Cd81   , Lax1   , Vav3   , Lyn    , Cd38   , Cmtm3  , Klhl6  , Abl1   , Pde4b  , Mef2c  , Fyn    , Psen2  , Dusp3  , Phpt1  , Sppl3  , Dennd1b, Nfkbiz , Plcg1  , Elf1    & -0.73921972 & lightblue\\\\\n\t complement activation, classical pathway                                                    & 2.360907e-01 & 0.364531195 & 0.023379042 &  0.4664352 &  1.1610959 &  21 & C1s1    , Susd4   , C1ra    , Trbc2   , Cr1l    , C1rl    , Trbc1   , C8g     , Serping1 & -0.62692107 & lightblue\\\\\n\t cell surface pattern recognition receptor signaling pathway                                 & 3.942738e-01 & 0.534940849 & 0.013869139 &  0.7773364 &  1.1127565 &   2 & Ffar2, Tlr2  & -0.40420207 & lightblue\\\\\n\t interferon-gamma-mediated signaling pathway                                                 & 4.747153e-01 & 0.593394077 & 0.015612372 &  0.4014623 &  0.9758764 &  19 & Jak2 , Arg1 , Irgm1, Stat1, Nmi  , Parp9, Irgm2, Irf1  & -0.32356681 & lightblue\\\\\n\t complement activation, alternative pathway                                                  & 6.234894e-01 & 0.708510711 & 0.011767616 &  0.4610745 &  0.8671948 &   7 & Susd4, C8g  , C3    & -0.20517091 & lightblue\\\\\n\t innate immune response activating cell surface receptor signaling pathway                   & 7.069845e-01 & 0.768461408 & 0.010346892 &  0.4565383 &  0.7910293 &   5 & Ffar2, Tlr2 , Klrk1 & -0.15059011 & lightblue\\\\\n\t stimulatory C-type lectin receptor signaling pathway                                        & 8.354735e-01 & 0.835473515 & 0.006730900 & -0.5115263 & -0.7507730 &   3 & Klre1, Klrd1 &  0.07806731 & lightblue\\\\\n\t T cell receptor signaling pathway                                                           & 7.884592e-01 & 0.821311716 & 0.004611575 & -0.3051896 & -0.8395087 &  91 & Ube2n   , Ripk2   , Ezr     , Nras    , Hras    , Stoml2  , Khdrbs1 , Eif2b5  , Eif2b3  , Rps3    , Skap1   , Stk11   , Tnfrsf21, Eif2b1  , Ada     , Cyld    , Usp12   , Fyb     , Eif2b4  , Cacnb3  , Pawr    , Kcnn4    &  0.10322075 & lightblue\\\\\n\t natural killer cell inhibitory signaling pathway                                            & 5.405977e-01 & 0.643568652 & 0.009934207 & -0.7124084 & -0.9908321 &   2 & Sh2d1b1 &  0.26712583 & lightblue\\\\\n\t complement activation, lectin pathway                                                       & 4.065550e-01 & 0.534940849 & 0.011129086 & -0.6436450 & -1.0839653 &   6 & Masp1 &  0.39088064 & lightblue\\\\\n\t complement receptor mediated signaling pathway                                              & 2.478812e-01 & 0.364531195 & 0.015589856 & -0.7701721 & -1.1902886 &   4 & C3ar1 &  0.60575639 & lightblue\\\\\n\t B cell receptor apoptotic signaling pathway                                                 & 2.126215e-01 & 0.354369192 & 0.018752085 & -0.8925863 & -1.1897023 &   1 & Bax &  0.67239279 & lightblue\\\\\n\t Fc-epsilon receptor signaling pathway                                                       & 1.172961e-01 & 0.265314085 & 0.023664566 & -0.8357227 & -1.2915960 &   4 & Fer &  0.93071647 & lightblue\\\\\n\\end{tabular}\n",
            "text/markdown": "\nA data.table: 25 × 10\n\n| pathway &lt;chr&gt; | pval &lt;dbl&gt; | padj &lt;dbl&gt; | log2err &lt;dbl&gt; | ES &lt;dbl&gt; | NES &lt;dbl&gt; | size &lt;int&gt; | leadingEdge &lt;list&gt; | val &lt;dbl&gt; | ES_score &lt;chr&gt; |\n|---|---|---|---|---|---|---|---|---|---|\n| B cell receptor signaling pathway                                                           | 6.751028e-05 | 0.001687757 | 0.538434096 |  0.6907049 |  1.9748750 |  39 | Cd81 , Vav3 , Lyn  , Cd38 , Cmtm3, Klhl6, Abl1 , Mef2c | -4.17063012 | lightblue |\n| Fc receptor mediated stimulatory signaling pathway                                          | 9.821787e-04 | 0.012277234 | 0.455059867 |  0.8287541 |  1.8668336 |  14 | Cd47  , Plscr1, Lyn   , Appl2 , Rap1a  | -3.00780948 | lightblue |\n| Fc-gamma receptor signaling pathway                                                         | 4.395866e-03 | 0.036632213 | 0.168154339 |  0.8144783 |  1.7654641 |  12 | Cd47 , Appl2, Rap1a | -2.35695560 | lightblue |\n| Fc-gamma receptor signaling pathway involved in phagocytosis                                | 1.393497e-02 | 0.068402919 | 0.090742400 |  0.8436575 |  1.6436426 |   8 | Cd47 , Appl2, Rap1a | -1.85589396 | lightblue |\n| immune response-regulating cell surface receptor signaling pathway involved in phagocytosis | 1.393497e-02 | 0.068402919 | 0.090742400 |  0.8436575 |  1.6436426 |   8 | Cd47 , Appl2, Rap1a | -1.85589396 | lightblue |\n| immune response-regulating signaling pathway                                                | 1.641670e-02 | 0.068402919 | 0.160665976 |  0.3650546 |  1.2978937 | 157 | Cd81   , Cd47   , Lax1   , Vav3   , Plscr1 , Lyn    , Cd38   , Cmtm3  , Klhl6  , Abl1   , Appl2  , Pde4b  , Mef2c  , Rap1a  , Fyn    , Tlr4   , Psen2  , Dusp3  , Phpt1  , H2-M3  , Sppl3  , Dennd1b, Nfkbiz , Plcg1  , Elf1   , Ctsh    | -1.78471413 | lightblue |\n| immune response-regulating cell surface receptor signaling pathway                          | 2.317750e-02 | 0.073855244 | 0.133506897 |  0.3569677 |  1.2661629 | 154 | Cd81   , Cd47   , Lax1   , Vav3   , Plscr1 , Lyn    , Cd38   , Cmtm3  , Klhl6  , Abl1   , Appl2  , Pde4b  , Mef2c  , Rap1a  , Fyn    , Psen2  , Dusp3  , Phpt1  , H2-M3  , Sppl3  , Dennd1b, Nfkbiz , Plcg1  , Elf1    | -1.63493348 | lightblue |\n| immune response-activating cell surface receptor signaling pathway                          | 2.363368e-02 | 0.073855244 | 0.127603887 |  0.3643429 |  1.2826267 | 144 | Cd81   , Cd47   , Lax1   , Vav3   , Plscr1 , Lyn    , Cd38   , Cmtm3  , Klhl6  , Abl1   , Appl2  , Pde4b  , Mef2c  , Rap1a  , Fyn    , Psen2  , Dusp3  , Phpt1  , Sppl3  , Dennd1b, Nfkbiz , Plcg1  , Elf1    | -1.62646869 | lightblue |\n| Fc receptor signaling pathway                                                               | 2.904747e-02 | 0.080687415 | 0.066845942 |  0.6786401 |  1.5786192 |  16 | Cd47 , Appl2, Rap1a | -1.53689170 | lightblue |\n| Fc receptor mediated inhibitory signaling pathway                                           | 4.245659e-02 | 0.106141469 | 0.043724054 |  0.9795990 |  1.3073817 |   1 | Lyn | -1.37205492 | lightblue |\n| type I interferon signaling pathway                                                         | 1.273508e-01 | 0.265314085 | 0.035129937 |  0.4417762 |  1.2427547 |  36 | Ifitm2, Ifitm3, Wnt5a , Stat1 , Ythdf3, Ikbke  | -0.89499846 | lightblue |\n| immune response-inhibiting cell surface receptor signaling pathway                          | 1.573839e-01 | 0.302661394 | 0.024565397 |  0.8110781 |  1.3317248 |   4 | Lyn  , H2-M3 | -0.80303963 | lightblue |\n| antigen receptor-mediated signaling pathway                                                 | 1.822973e-01 | 0.325530925 | 0.041581214 |  0.3201815 |  1.1036853 | 122 | Cd81   , Lax1   , Vav3   , Lyn    , Cd38   , Cmtm3  , Klhl6  , Abl1   , Pde4b  , Mef2c  , Fyn    , Psen2  , Dusp3  , Phpt1  , Sppl3  , Dennd1b, Nfkbiz , Plcg1  , Elf1    | -0.73921972 | lightblue |\n| complement activation, classical pathway                                                    | 2.360907e-01 | 0.364531195 | 0.023379042 |  0.4664352 |  1.1610959 |  21 | C1s1    , Susd4   , C1ra    , Trbc2   , Cr1l    , C1rl    , Trbc1   , C8g     , Serping1 | -0.62692107 | lightblue |\n| cell surface pattern recognition receptor signaling pathway                                 | 3.942738e-01 | 0.534940849 | 0.013869139 |  0.7773364 |  1.1127565 |   2 | Ffar2, Tlr2  | -0.40420207 | lightblue |\n| interferon-gamma-mediated signaling pathway                                                 | 4.747153e-01 | 0.593394077 | 0.015612372 |  0.4014623 |  0.9758764 |  19 | Jak2 , Arg1 , Irgm1, Stat1, Nmi  , Parp9, Irgm2, Irf1  | -0.32356681 | lightblue |\n| complement activation, alternative pathway                                                  | 6.234894e-01 | 0.708510711 | 0.011767616 |  0.4610745 |  0.8671948 |   7 | Susd4, C8g  , C3    | -0.20517091 | lightblue |\n| innate immune response activating cell surface receptor signaling pathway                   | 7.069845e-01 | 0.768461408 | 0.010346892 |  0.4565383 |  0.7910293 |   5 | Ffar2, Tlr2 , Klrk1 | -0.15059011 | lightblue |\n| stimulatory C-type lectin receptor signaling pathway                                        | 8.354735e-01 | 0.835473515 | 0.006730900 | -0.5115263 | -0.7507730 |   3 | Klre1, Klrd1 |  0.07806731 | lightblue |\n| T cell receptor signaling pathway                                                           | 7.884592e-01 | 0.821311716 | 0.004611575 | -0.3051896 | -0.8395087 |  91 | Ube2n   , Ripk2   , Ezr     , Nras    , Hras    , Stoml2  , Khdrbs1 , Eif2b5  , Eif2b3  , Rps3    , Skap1   , Stk11   , Tnfrsf21, Eif2b1  , Ada     , Cyld    , Usp12   , Fyb     , Eif2b4  , Cacnb3  , Pawr    , Kcnn4    |  0.10322075 | lightblue |\n| natural killer cell inhibitory signaling pathway                                            | 5.405977e-01 | 0.643568652 | 0.009934207 | -0.7124084 | -0.9908321 |   2 | Sh2d1b1 |  0.26712583 | lightblue |\n| complement activation, lectin pathway                                                       | 4.065550e-01 | 0.534940849 | 0.011129086 | -0.6436450 | -1.0839653 |   6 | Masp1 |  0.39088064 | lightblue |\n| complement receptor mediated signaling pathway                                              | 2.478812e-01 | 0.364531195 | 0.015589856 | -0.7701721 | -1.1902886 |   4 | C3ar1 |  0.60575639 | lightblue |\n| B cell receptor apoptotic signaling pathway                                                 | 2.126215e-01 | 0.354369192 | 0.018752085 | -0.8925863 | -1.1897023 |   1 | Bax |  0.67239279 | lightblue |\n| Fc-epsilon receptor signaling pathway                                                       | 1.172961e-01 | 0.265314085 | 0.023664566 | -0.8357227 | -1.2915960 |   4 | Fer |  0.93071647 | lightblue |\n\n",
            "text/html": [
              "<table class=\"dataframe\">\n",
              "<caption>A data.table: 25 × 10</caption>\n",
              "<thead>\n",
              "\t<tr><th scope=col>pathway</th><th scope=col>pval</th><th scope=col>padj</th><th scope=col>log2err</th><th scope=col>ES</th><th scope=col>NES</th><th scope=col>size</th><th scope=col>leadingEdge</th><th scope=col>val</th><th scope=col>ES_score</th></tr>\n",
              "\t<tr><th scope=col>&lt;chr&gt;</th><th scope=col>&lt;dbl&gt;</th><th scope=col>&lt;dbl&gt;</th><th scope=col>&lt;dbl&gt;</th><th scope=col>&lt;dbl&gt;</th><th scope=col>&lt;dbl&gt;</th><th scope=col>&lt;int&gt;</th><th scope=col>&lt;list&gt;</th><th scope=col>&lt;dbl&gt;</th><th scope=col>&lt;chr&gt;</th></tr>\n",
              "</thead>\n",
              "<tbody>\n",
              "\t<tr><td>B cell receptor signaling pathway                                                          </td><td>6.751028e-05</td><td>0.001687757</td><td>0.538434096</td><td> 0.6907049</td><td> 1.9748750</td><td> 39</td><td>Cd81 , Vav3 , Lyn  , Cd38 , Cmtm3, Klhl6, Abl1 , Mef2c</td><td>-4.17063012</td><td>lightblue</td></tr>\n",
              "\t<tr><td>Fc receptor mediated stimulatory signaling pathway                                         </td><td>9.821787e-04</td><td>0.012277234</td><td>0.455059867</td><td> 0.8287541</td><td> 1.8668336</td><td> 14</td><td>Cd47  , Plscr1, Lyn   , Appl2 , Rap1a </td><td>-3.00780948</td><td>lightblue</td></tr>\n",
              "\t<tr><td>Fc-gamma receptor signaling pathway                                                        </td><td>4.395866e-03</td><td>0.036632213</td><td>0.168154339</td><td> 0.8144783</td><td> 1.7654641</td><td> 12</td><td>Cd47 , Appl2, Rap1a</td><td>-2.35695560</td><td>lightblue</td></tr>\n",
              "\t<tr><td>Fc-gamma receptor signaling pathway involved in phagocytosis                               </td><td>1.393497e-02</td><td>0.068402919</td><td>0.090742400</td><td> 0.8436575</td><td> 1.6436426</td><td>  8</td><td>Cd47 , Appl2, Rap1a</td><td>-1.85589396</td><td>lightblue</td></tr>\n",
              "\t<tr><td>immune response-regulating cell surface receptor signaling pathway involved in phagocytosis</td><td>1.393497e-02</td><td>0.068402919</td><td>0.090742400</td><td> 0.8436575</td><td> 1.6436426</td><td>  8</td><td>Cd47 , Appl2, Rap1a</td><td>-1.85589396</td><td>lightblue</td></tr>\n",
              "\t<tr><td>immune response-regulating signaling pathway                                               </td><td>1.641670e-02</td><td>0.068402919</td><td>0.160665976</td><td> 0.3650546</td><td> 1.2978937</td><td>157</td><td>Cd81   , Cd47   , Lax1   , Vav3   , Plscr1 , Lyn    , Cd38   , Cmtm3  , Klhl6  , Abl1   , Appl2  , Pde4b  , Mef2c  , Rap1a  , Fyn    , Tlr4   , Psen2  , Dusp3  , Phpt1  , H2-M3  , Sppl3  , Dennd1b, Nfkbiz , Plcg1  , Elf1   , Ctsh   </td><td>-1.78471413</td><td>lightblue</td></tr>\n",
              "\t<tr><td>immune response-regulating cell surface receptor signaling pathway                         </td><td>2.317750e-02</td><td>0.073855244</td><td>0.133506897</td><td> 0.3569677</td><td> 1.2661629</td><td>154</td><td>Cd81   , Cd47   , Lax1   , Vav3   , Plscr1 , Lyn    , Cd38   , Cmtm3  , Klhl6  , Abl1   , Appl2  , Pde4b  , Mef2c  , Rap1a  , Fyn    , Psen2  , Dusp3  , Phpt1  , H2-M3  , Sppl3  , Dennd1b, Nfkbiz , Plcg1  , Elf1   </td><td>-1.63493348</td><td>lightblue</td></tr>\n",
              "\t<tr><td>immune response-activating cell surface receptor signaling pathway                         </td><td>2.363368e-02</td><td>0.073855244</td><td>0.127603887</td><td> 0.3643429</td><td> 1.2826267</td><td>144</td><td>Cd81   , Cd47   , Lax1   , Vav3   , Plscr1 , Lyn    , Cd38   , Cmtm3  , Klhl6  , Abl1   , Appl2  , Pde4b  , Mef2c  , Rap1a  , Fyn    , Psen2  , Dusp3  , Phpt1  , Sppl3  , Dennd1b, Nfkbiz , Plcg1  , Elf1   </td><td>-1.62646869</td><td>lightblue</td></tr>\n",
              "\t<tr><td>Fc receptor signaling pathway                                                              </td><td>2.904747e-02</td><td>0.080687415</td><td>0.066845942</td><td> 0.6786401</td><td> 1.5786192</td><td> 16</td><td>Cd47 , Appl2, Rap1a</td><td>-1.53689170</td><td>lightblue</td></tr>\n",
              "\t<tr><td>Fc receptor mediated inhibitory signaling pathway                                          </td><td>4.245659e-02</td><td>0.106141469</td><td>0.043724054</td><td> 0.9795990</td><td> 1.3073817</td><td>  1</td><td>Lyn</td><td>-1.37205492</td><td>lightblue</td></tr>\n",
              "\t<tr><td>type I interferon signaling pathway                                                        </td><td>1.273508e-01</td><td>0.265314085</td><td>0.035129937</td><td> 0.4417762</td><td> 1.2427547</td><td> 36</td><td>Ifitm2, Ifitm3, Wnt5a , Stat1 , Ythdf3, Ikbke </td><td>-0.89499846</td><td>lightblue</td></tr>\n",
              "\t<tr><td>immune response-inhibiting cell surface receptor signaling pathway                         </td><td>1.573839e-01</td><td>0.302661394</td><td>0.024565397</td><td> 0.8110781</td><td> 1.3317248</td><td>  4</td><td>Lyn  , H2-M3</td><td>-0.80303963</td><td>lightblue</td></tr>\n",
              "\t<tr><td>antigen receptor-mediated signaling pathway                                                </td><td>1.822973e-01</td><td>0.325530925</td><td>0.041581214</td><td> 0.3201815</td><td> 1.1036853</td><td>122</td><td>Cd81   , Lax1   , Vav3   , Lyn    , Cd38   , Cmtm3  , Klhl6  , Abl1   , Pde4b  , Mef2c  , Fyn    , Psen2  , Dusp3  , Phpt1  , Sppl3  , Dennd1b, Nfkbiz , Plcg1  , Elf1   </td><td>-0.73921972</td><td>lightblue</td></tr>\n",
              "\t<tr><td>complement activation, classical pathway                                                   </td><td>2.360907e-01</td><td>0.364531195</td><td>0.023379042</td><td> 0.4664352</td><td> 1.1610959</td><td> 21</td><td>C1s1    , Susd4   , C1ra    , Trbc2   , Cr1l    , C1rl    , Trbc1   , C8g     , Serping1</td><td>-0.62692107</td><td>lightblue</td></tr>\n",
              "\t<tr><td>cell surface pattern recognition receptor signaling pathway                                </td><td>3.942738e-01</td><td>0.534940849</td><td>0.013869139</td><td> 0.7773364</td><td> 1.1127565</td><td>  2</td><td>Ffar2, Tlr2 </td><td>-0.40420207</td><td>lightblue</td></tr>\n",
              "\t<tr><td>interferon-gamma-mediated signaling pathway                                                </td><td>4.747153e-01</td><td>0.593394077</td><td>0.015612372</td><td> 0.4014623</td><td> 0.9758764</td><td> 19</td><td>Jak2 , Arg1 , Irgm1, Stat1, Nmi  , Parp9, Irgm2, Irf1 </td><td>-0.32356681</td><td>lightblue</td></tr>\n",
              "\t<tr><td>complement activation, alternative pathway                                                 </td><td>6.234894e-01</td><td>0.708510711</td><td>0.011767616</td><td> 0.4610745</td><td> 0.8671948</td><td>  7</td><td>Susd4, C8g  , C3   </td><td>-0.20517091</td><td>lightblue</td></tr>\n",
              "\t<tr><td>innate immune response activating cell surface receptor signaling pathway                  </td><td>7.069845e-01</td><td>0.768461408</td><td>0.010346892</td><td> 0.4565383</td><td> 0.7910293</td><td>  5</td><td>Ffar2, Tlr2 , Klrk1</td><td>-0.15059011</td><td>lightblue</td></tr>\n",
              "\t<tr><td>stimulatory C-type lectin receptor signaling pathway                                       </td><td>8.354735e-01</td><td>0.835473515</td><td>0.006730900</td><td>-0.5115263</td><td>-0.7507730</td><td>  3</td><td>Klre1, Klrd1</td><td> 0.07806731</td><td>lightblue</td></tr>\n",
              "\t<tr><td>T cell receptor signaling pathway                                                          </td><td>7.884592e-01</td><td>0.821311716</td><td>0.004611575</td><td>-0.3051896</td><td>-0.8395087</td><td> 91</td><td>Ube2n   , Ripk2   , Ezr     , Nras    , Hras    , Stoml2  , Khdrbs1 , Eif2b5  , Eif2b3  , Rps3    , Skap1   , Stk11   , Tnfrsf21, Eif2b1  , Ada     , Cyld    , Usp12   , Fyb     , Eif2b4  , Cacnb3  , Pawr    , Kcnn4   </td><td> 0.10322075</td><td>lightblue</td></tr>\n",
              "\t<tr><td>natural killer cell inhibitory signaling pathway                                           </td><td>5.405977e-01</td><td>0.643568652</td><td>0.009934207</td><td>-0.7124084</td><td>-0.9908321</td><td>  2</td><td>Sh2d1b1</td><td> 0.26712583</td><td>lightblue</td></tr>\n",
              "\t<tr><td>complement activation, lectin pathway                                                      </td><td>4.065550e-01</td><td>0.534940849</td><td>0.011129086</td><td>-0.6436450</td><td>-1.0839653</td><td>  6</td><td>Masp1</td><td> 0.39088064</td><td>lightblue</td></tr>\n",
              "\t<tr><td>complement receptor mediated signaling pathway                                             </td><td>2.478812e-01</td><td>0.364531195</td><td>0.015589856</td><td>-0.7701721</td><td>-1.1902886</td><td>  4</td><td>C3ar1</td><td> 0.60575639</td><td>lightblue</td></tr>\n",
              "\t<tr><td>B cell receptor apoptotic signaling pathway                                                </td><td>2.126215e-01</td><td>0.354369192</td><td>0.018752085</td><td>-0.8925863</td><td>-1.1897023</td><td>  1</td><td>Bax</td><td> 0.67239279</td><td>lightblue</td></tr>\n",
              "\t<tr><td>Fc-epsilon receptor signaling pathway                                                      </td><td>1.172961e-01</td><td>0.265314085</td><td>0.023664566</td><td>-0.8357227</td><td>-1.2915960</td><td>  4</td><td>Fer</td><td> 0.93071647</td><td>lightblue</td></tr>\n",
              "</tbody>\n",
              "</table>\n"
            ]
          },
          "metadata": {}
        }
      ]
    },
    {
      "cell_type": "markdown",
      "metadata": {
        "id": "oK-Tgj6d6E5K"
      },
      "source": [
        "## Plot of infammatory related terms with a significant pvalue and arranged according to the pvalue."
      ]
    },
    {
      "cell_type": "code",
      "metadata": {
        "colab": {
          "base_uri": "https://localhost:8080/",
          "height": 737
        },
        "id": "ienSvIBV5EYX",
        "outputId": "2f43964d-45ab-434b-a24f-f158d6127b64"
      },
      "source": [
        "options(repr.plot.width = 15, repr.plot.height = 12)\n",
        "ggplot(gs[gs$pval < 0.05 & gs$size > 5,],aes(x = reorder(pathway, -val), y = val, fill = ES_score)) + \n",
        "geom_bar(stat = 'identity') + \n",
        "coord_flip() +\n",
        "scale_fill_identity()  + \n",
        "geom_hline(yintercept=log10(0.05), color = 'red', linetype='dashed', size = 2) + \n",
        "geom_hline(yintercept= -log10(0.05), color = 'red', linetype='dashed', size = 2) + \n",
        "xlab('Pathway') + ylab('log10(Pvalue)') +\n",
        "theme_bw() + \n",
        "theme(panel.border = element_rect(colour = 'black', size = 2), panel.grid.major = element_blank(),\n",
        "panel.grid.minor = element_blank())"
      ],
      "execution_count": null,
      "outputs": [
        {
          "output_type": "display_data",
          "data": {
            "image/png": "[encoded data removed]",
            "text/plain": [
              "plot without title"
            ]
          },
          "metadata": {
            "image/png": {
              "width": 900,
              "height": 720
            }
          }
        }
      ]
    },
    {
      "cell_type": "markdown",
      "metadata": {
        "id": "HgQh_vGOMdk4"
      },
      "source": [
        "# MEF D1 vs MEF ND"
      ]
    },
    {
      "cell_type": "code",
      "metadata": {
        "colab": {
          "base_uri": "https://localhost:8080/"
        },
        "id": "xyZg6-8SMQgy",
        "outputId": "792b44cf-a874-485e-e022-cb2277b63467"
      },
      "source": [
        "X <- assays(se)$scaled_counts\n",
        "control <- colData(se)$group == 'MEF_NoDox'\n",
        "treatment <- colData(se)$group == 'MEF_Dox_D1'\n",
        "fc_ct <- rowMeans(X[, treatment]) - rowMeans(X[, control])\n",
        "names(fc_ct) <- rowData(se)$name"
      ],
      "execution_count": null,
      "outputs": [
        {
          "output_type": "stream",
          "name": "stderr",
          "text": [
            "dimnames(.) <- NULL:  translated to \n",
            "dimnames(.) <- list(NULL,NULL)  <==>  unname(.)\n",
            "\n",
            "dimnames(.) <- NULL:  translated to \n",
            "dimnames(.) <- list(NULL,NULL)  <==>  unname(.)\n",
            "\n"
          ]
        }
      ]
    },
    {
      "cell_type": "code",
      "metadata": {
        "id": "M8gg0eIzMixb"
      },
      "source": [
        "fc_ct <- na.omit(fc_ct)\n",
        "fc_ct <- sort(fc_ct, decreasing = TRUE)"
      ],
      "execution_count": null,
      "outputs": []
    },
    {
      "cell_type": "markdown",
      "metadata": {
        "id": "nVFxbA3i4ySp"
      },
      "source": [
        "## Fold change arranged in descending order for GSEA"
      ]
    },
    {
      "cell_type": "code",
      "metadata": {
        "colab": {
          "base_uri": "https://localhost:8080/",
          "height": 737
        },
        "id": "al1qklj7MkL9",
        "outputId": "caec44ce-3c7c-4fcd-d00b-c908987c59c4"
      },
      "source": [
        "plot(fc_ct)"
      ],
      "execution_count": null,
      "outputs": [
        {
          "output_type": "display_data",
          "data": {
            "image/png": "[encoded data removed]",
            "text/plain": [
              "plot without title"
            ]
          },
          "metadata": {
            "image/png": {
              "width": 900,
              "height": 720
            }
          }
        }
      ]
    },
    {
      "cell_type": "markdown",
      "metadata": {
        "id": "_IPtglS_4_af"
      },
      "source": [
        "## Gene set enrichment analysis using the genes from inflammatory terms"
      ]
    },
    {
      "cell_type": "code",
      "metadata": {
        "id": "16XkgBlBMtyT",
        "colab": {
          "base_uri": "https://localhost:8080/"
        },
        "outputId": "615f6a29-9cbe-4708-f3df-29af0cddbe5e"
      },
      "source": [
        "set.seed(7)\n",
        "fgseaRes <-  fgseaMultilevel(pathways = go_set, \n",
        "                  stats    = fc_ct,\n",
        "                  minSize  = 1,\n",
        "                  maxSize  = 2000,\n",
        "                  nPermSimple = 50000)"
      ],
      "execution_count": null,
      "outputs": [
        {
          "output_type": "stream",
          "name": "stderr",
          "text": [
            "Warning message in preparePathwaysAndStats(pathways, stats, minSize, maxSize, gseaParam, :\n",
            "“There are duplicate gene names, fgsea may produce unexpected results.”\n"
          ]
        }
      ]
    },
    {
      "cell_type": "code",
      "metadata": {
        "id": "J2ojd-LaM0_O"
      },
      "source": [
        "dat_d1 <- fgseaRes %>%\n",
        "  mutate(val = ifelse(fgseaRes$ES > 0,\n",
        "                                 log10(pval),\n",
        "                                 -log10(pval))) #Log10 pval"
      ],
      "execution_count": null,
      "outputs": []
    },
    {
      "cell_type": "code",
      "metadata": {
        "id": "WlrxzyNEM5yK"
      },
      "source": [
        "dat_d1$ES_score <- ifelse(dat_d1$ES > 0, \"lightblue\", \"lightblue\")"
      ],
      "execution_count": null,
      "outputs": []
    },
    {
      "cell_type": "code",
      "metadata": {
        "id": "m6J6-XgRM93k"
      },
      "source": [
        "gs_d1 <- dat_d1 %>% \n",
        "arrange(val)"
      ],
      "execution_count": null,
      "outputs": []
    },
    {
      "cell_type": "markdown",
      "metadata": {
        "id": "064Uh42-5OgO"
      },
      "source": [
        "## Plot of infammatory related terms with a significant pvalue and arranged according to the pvalue."
      ]
    },
    {
      "cell_type": "code",
      "metadata": {
        "colab": {
          "base_uri": "https://localhost:8080/",
          "height": 737
        },
        "id": "cB2XGAW1NCgz",
        "outputId": "f3a41c7c-33d9-4991-b9d5-1b0afd17f034"
      },
      "source": [
        "options(repr.plot.width = 15, repr.plot.height = 12)\n",
        "ggplot(gs_d1[gs_d1$pval < 0.05 & gs_d1$size > 5,],aes(x = reorder(pathway, -val), y = val, fill = ES_score)) + \n",
        "geom_bar(stat = 'identity') + \n",
        "coord_flip() +\n",
        "scale_fill_identity()  + \n",
        "geom_hline(yintercept=log10(0.05), color = 'red', linetype='dashed', size = 2) + \n",
        "geom_hline(yintercept= -log10(0.05), color = 'red', linetype='dashed', size = 2) + \n",
        "xlab('Pathway') + ylab('log10(Pvalue)') +\n",
        "theme_bw() + \n",
        "theme(panel.border = element_rect(colour = 'black', size = 2), panel.grid.major = element_blank(),\n",
        "panel.grid.minor = element_blank()) + \n",
        "theme(text=element_text(size=12, family=\"Arial\", face=\"bold\")) \n"
      ],
      "execution_count": null,
      "outputs": [
        {
          "output_type": "display_data",
          "data": {
            "image/png": "[encoded data removed]",
            "text/plain": [
              "plot without title"
            ]
          },
          "metadata": {
            "image/png": {
              "width": 900,
              "height": 720
            }
          }
        }
      ]
    },
    {
      "cell_type": "code",
      "metadata": {
        "id": "9GomLPkntWy0",
        "colab": {
          "base_uri": "https://localhost:8080/",
          "height": 1000
        },
        "outputId": "eaf2456e-a95a-43a2-a89b-ab300a40b125"
      },
      "source": [
        "sessionInfo()"
      ],
      "execution_count": null,
      "outputs": [
        {
          "output_type": "display_data",
          "data": {
            "text/plain": [
              "R version 4.1.1 (2021-08-10)\n",
              "Platform: x86_64-pc-linux-gnu (64-bit)\n",
              "Running under: Ubuntu 18.04.5 LTS\n",
              "\n",
              "Matrix products: default\n",
              "BLAS:   /usr/lib/x86_64-linux-gnu/openblas/libblas.so.3\n",
              "LAPACK: /usr/lib/x86_64-linux-gnu/libopenblasp-r0.2.20.so\n",
              "\n",
              "locale:\n",
              " [1] LC_CTYPE=en_US.UTF-8       LC_NUMERIC=C              \n",
              " [3] LC_TIME=en_US.UTF-8        LC_COLLATE=en_US.UTF-8    \n",
              " [5] LC_MONETARY=en_US.UTF-8    LC_MESSAGES=en_US.UTF-8   \n",
              " [7] LC_PAPER=en_US.UTF-8       LC_NAME=C                 \n",
              " [9] LC_ADDRESS=C               LC_TELEPHONE=C            \n",
              "[11] LC_MEASUREMENT=en_US.UTF-8 LC_IDENTIFICATION=C       \n",
              "\n",
              "attached base packages:\n",
              "[1] parallel  stats4    stats     graphics  grDevices utils     datasets \n",
              "[8] methods   base     \n",
              "\n",
              "other attached packages:\n",
              " [1] SeuratObject_4.0.2                       \n",
              " [2] Seurat_4.0.5                             \n",
              " [3] SingleCellExperiment_1.14.1              \n",
              " [4] Mus.musculus_1.3.1                       \n",
              " [5] OrganismDbi_1.34.0                       \n",
              " [6] GOfuncR_1.12.0                           \n",
              " [7] vioplot_0.3.7                            \n",
              " [8] zoo_1.8-9                                \n",
              " [9] sm_2.2-5.7                               \n",
              "[10] GO.db_3.13.0                             \n",
              "[11] magrittr_2.0.1                           \n",
              "[12] forcats_0.5.1                            \n",
              "[13] purrr_0.3.4                              \n",
              "[14] readr_2.0.1                              \n",
              "[15] tidyr_1.1.3                              \n",
              "[16] tibble_3.1.4                             \n",
              "[17] tidyverse_1.3.1                          \n",
              "[18] cowplot_1.1.1                            \n",
              "[19] fgsea_1.18.0                             \n",
              "[20] DESeq2_1.32.0                            \n",
              "[21] plotrix_3.8-2                            \n",
              "[22] wordcloud_2.6                            \n",
              "[23] org.Mm.eg.db_3.13.0                      \n",
              "[24] TxDb.Mmusculus.UCSC.mm10.knownGene_3.10.0\n",
              "[25] GenomicFeatures_1.44.2                   \n",
              "[26] AnnotationDbi_1.54.1                     \n",
              "[27] stringr_1.4.0                            \n",
              "[28] goseq_1.44.0                             \n",
              "[29] geneLenDataBase_1.28.0                   \n",
              "[30] BiasedUrn_1.07                           \n",
              "[31] ggplot2_3.3.5                            \n",
              "[32] dplyr_1.0.7                              \n",
              "[33] plyr_1.8.6                               \n",
              "[34] RColorBrewer_1.1-2                       \n",
              "[35] SummarizedExperiment_1.22.0              \n",
              "[36] Biobase_2.52.0                           \n",
              "[37] GenomicRanges_1.44.0                     \n",
              "[38] GenomeInfoDb_1.28.4                      \n",
              "[39] IRanges_2.26.0                           \n",
              "[40] S4Vectors_0.30.2                         \n",
              "[41] BiocGenerics_0.38.0                      \n",
              "[42] MatrixGenerics_1.4.3                     \n",
              "[43] matrixStats_0.61.0                       \n",
              "\n",
              "loaded via a namespace (and not attached):\n",
              "  [1] rappdirs_0.3.3           rtracklayer_1.52.1       pbdZMQ_0.3-5            \n",
              "  [4] scattermore_0.7          bit64_4.0.5              irlba_2.3.3             \n",
              "  [7] DelayedArray_0.18.0      rpart_4.1-15             data.table_1.14.0       \n",
              " [10] KEGGREST_1.32.0          RCurl_1.98-1.5           generics_0.1.0          \n",
              " [13] callr_3.7.0              usethis_2.0.1            RSQLite_2.2.8           \n",
              " [16] RANN_2.6.1               future_1.22.1            bit_4.0.4               \n",
              " [19] tzdb_0.1.2               spatstat.data_2.1-0      xml2_1.3.2              \n",
              " [22] lubridate_1.7.10         httpuv_1.6.3             assertthat_0.2.1        \n",
              " [25] hms_1.1.0                evaluate_0.14            promises_1.2.0.1        \n",
              " [28] fansi_0.5.0              restfulr_0.0.13          progress_1.2.2          \n",
              " [31] dbplyr_2.1.1             readxl_1.3.1             igraph_1.2.7            \n",
              " [34] DBI_1.1.1                geneplotter_1.70.0       htmlwidgets_1.5.4       \n",
              " [37] spatstat.geom_2.3-0      ellipsis_0.3.2           backports_1.2.1         \n",
              " [40] annotate_1.70.0          deldir_1.0-5             biomaRt_2.48.3          \n",
              " [43] vctrs_0.3.8              remotes_2.4.0            ROCR_1.0-11             \n",
              " [46] abind_1.4-5              cachem_1.0.6             withr_2.4.2             \n",
              " [49] sctransform_0.3.2        GenomicAlignments_1.28.0 prettyunits_1.1.1       \n",
              " [52] goftest_1.2-3            cluster_2.1.2            IRdisplay_1.0           \n",
              " [55] lazyeval_0.2.2           crayon_1.4.1             genefilter_1.74.1       \n",
              " [58] labeling_0.4.2           pkgconfig_2.0.3          nlme_3.1-152            \n",
              " [61] pkgload_1.2.2            devtools_2.4.2           rlang_0.4.11            \n",
              " [64] globals_0.14.0           lifecycle_1.0.0          miniUI_0.1.1.1          \n",
              " [67] filelock_1.0.2           BiocFileCache_2.0.0      modelr_0.1.8            \n",
              " [70] polyclip_1.10-0          cellranger_1.1.0         rprojroot_2.0.2         \n",
              " [73] lmtest_0.9-38            graph_1.70.0             Matrix_1.3-4            \n",
              " [76] IRkernel_1.2             reprex_2.0.1             base64enc_0.1-3         \n",
              " [79] ggridges_0.5.3           processx_3.5.2           png_0.1-7               \n",
              " [82] viridisLite_0.4.0        rjson_0.2.20             bitops_1.0-7            \n",
              " [85] KernSmooth_2.23-20       Biostrings_2.60.2        blob_1.2.2              \n",
              " [88] parallelly_1.28.1        mapplots_1.5.1           scales_1.1.1            \n",
              " [91] memoise_2.0.0            ica_1.0-2                zlibbioc_1.38.0         \n",
              " [94] compiler_4.1.1           BiocIO_1.2.0             fitdistrplus_1.1-6      \n",
              " [97] Rsamtools_2.8.0          cli_3.0.1                XVector_0.32.0          \n",
              "[100] listenv_0.8.0            patchwork_1.1.1          pbapply_1.5-0           \n",
              "[103] ps_1.6.0                 MASS_7.3-54              mgcv_1.8-37             \n",
              "[106] tidyselect_1.1.1         stringi_1.7.4            yaml_2.2.1              \n",
              "[109] locfit_1.5-9.4           ggrepel_0.9.1            grid_4.1.1              \n",
              "[112] fastmatch_1.1-3          tools_4.1.1              future.apply_1.8.1      \n",
              "[115] rstudioapi_0.13          uuid_0.1-4               gridExtra_2.3           \n",
              "[118] farver_2.1.0             Rtsne_0.15               digest_0.6.27           \n",
              "[121] BiocManager_1.30.16      shiny_1.7.1              Rcpp_1.0.7              \n",
              "[124] broom_0.7.9              later_1.3.0              RcppAnnoy_0.0.19        \n",
              "[127] httr_1.4.2               colorspace_2.0-2         tensor_1.5              \n",
              "[130] rvest_1.0.1              XML_3.99-0.8             fs_1.5.0                \n",
              "[133] reticulate_1.22-9000     splines_4.1.1            uwot_0.1.10             \n",
              "[136] RBGL_1.68.0              spatstat.utils_2.2-0     plotly_4.10.0           \n",
              "[139] sessioninfo_1.1.1        xtable_1.8-4             jsonlite_1.7.2          \n",
              "[142] testthat_3.0.4           R6_2.5.1                 pillar_1.6.2            \n",
              "[145] htmltools_0.5.2          mime_0.11                glue_1.4.2              \n",
              "[148] fastmap_1.1.0            BiocParallel_1.26.2      codetools_0.2-18        \n",
              "[151] pkgbuild_1.2.0           utf8_1.2.2               spatstat.sparse_2.0-0   \n",
              "[154] lattice_0.20-45          curl_4.3.2               leiden_0.3.9            \n",
              "[157] gtools_3.9.2             survival_3.2-13          repr_1.1.3              \n",
              "[160] desc_1.3.0               munsell_0.5.0            GenomeInfoDbData_1.2.6  \n",
              "[163] haven_2.4.3              reshape2_1.4.4           gtable_0.3.0            \n",
              "[166] spatstat.core_2.3-0     "
            ]
          },
          "metadata": {}
        }
      ]
    },
    {
      "cell_type": "code",
      "metadata": {
        "id": "D6tO3Ns-UbZf",
        "colab": {
          "base_uri": "https://localhost:8080/",
          "height": 35
        },
        "outputId": "fbcd4673-075b-46a0-aaea-46e13fe4b89e"
      },
      "source": [
        "Sys.time() - start_time0"
      ],
      "execution_count": null,
      "outputs": [
        {
          "output_type": "display_data",
          "data": {
            "text/plain": [
              "Time difference of 30.55582 mins"
            ]
          },
          "metadata": {}
        }
      ]
    }
  ]
}