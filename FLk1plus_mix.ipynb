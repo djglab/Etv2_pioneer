{
  "nbformat": 4,
  "nbformat_minor": 0,
  "metadata": {
    "kernelspec": {
      "display_name": "R",
      "language": "R",
      "name": "ir"
    },
    "language_info": {
      "codemirror_mode": "r",
      "file_extension": ".r",
      "mimetype": "text/x-r-source",
      "name": "R",
      "pygments_lexer": "r",
      "version": "3.3.1"
    },
    "colab": {
      "name": "FLk1plus_mix.ipynb",
      "provenance": [],
      "collapsed_sections": [
        "obcf6pAcw6TQ",
        "uY3cIu62WZd0",
        "KHjoODrS2hKo"
      ],
      "toc_visible": true,
      "machine_shape": "hm",
      "include_colab_link": true
    }
  },
  "cells": [
    {
      "cell_type": "markdown",
      "metadata": {
        "id": "view-in-github",
        "colab_type": "text"
      },
      "source": [
        "<a href=\"https://colab.research.google.com/github/gongx030/Etv2_pioneer/blob/master/FLk1plus_mix.ipynb\" target=\"_parent\"><img src=\"https://colab.research.google.com/assets/colab-badge.svg\" alt=\"Open In Colab\"/></a>"
      ]
    },
    {
      "cell_type": "markdown",
      "metadata": {
        "id": "M0jDe-m_5aq4"
      },
      "source": [
        "# Explore the fragment size distribution between Flk1+ cells and unsorted mixture cells in Etv2 induced EB differentiation and MEF reprogramming\n",
        "by Wuming Gong\n"
      ]
    },
    {
      "cell_type": "code",
      "metadata": {
        "id": "6OhqEEeZHroa"
      },
      "source": [
        "start_time <- Sys.time()"
      ],
      "execution_count": 1,
      "outputs": []
    },
    {
      "cell_type": "markdown",
      "metadata": {
        "id": "obcf6pAcw6TQ"
      },
      "source": [
        "### Install external packages"
      ]
    },
    {
      "cell_type": "code",
      "metadata": {
        "id": "99vS8MZUxApi",
        "colab": {
          "base_uri": "https://localhost:8080/",
          "height": 0
        },
        "outputId": "b7d5a50c-2ae3-4ff9-d4c0-190fdb2a14bf"
      },
      "source": [
        "system('apt-get -q install libgsl-dev', intern = TRUE)"
      ],
      "execution_count": 2,
      "outputs": [
        {
          "output_type": "display_data",
          "data": {
            "text/plain": [
              " [1] \"Reading package lists...\"                                                                                                                                                                                                                                                                                                                                                                                                                                                                                                                                                                                                                                      \n",
              " [2] \"Building dependency tree...\"                                                                                                                                                                                                                                                                                                                                                                                                                                                                                                                                                                                                                                   \n",
              " [3] \"Reading state information...\"                                                                                                                                                                                                                                                                                                                                                                                                                                                                                                                                                                                                                                  \n",
              " [4] \"The following additional packages will be installed:\"                                                                                                                                                                                                                                                                                                                                                                                                                                                                                                                                                                                                          \n",
              " [5] \"  libgsl23 libgslcblas0\"                                                                                                                                                                                                                                                                                                                                                                                                                                                                                                                                                                                                                                       \n",
              " [6] \"Suggested packages:\"                                                                                                                                                                                                                                                                                                                                                                                                                                                                                                                                                                                                                                           \n",
              " [7] \"  gsl-ref-psdoc | gsl-doc-pdf | gsl-doc-info | gsl-ref-html\"                                                                                                                                                                                                                                                                                                                                                                                                                                                                                                                                                                                                   \n",
              " [8] \"The following NEW packages will be installed:\"                                                                                                                                                                                                                                                                                                                                                                                                                                                                                                                                                                                                                 \n",
              " [9] \"  libgsl-dev libgsl23 libgslcblas0\"                                                                                                                                                                                                                                                                                                                                                                                                                                                                                                                                                                                                                            \n",
              "[10] \"0 upgraded, 3 newly installed, 0 to remove and 37 not upgraded.\"                                                                                                                                                                                                                                                                                                                                                                                                                                                                                                                                                                                               \n",
              "[11] \"Need to get 1,926 kB of archives.\"                                                                                                                                                                                                                                                                                                                                                                                                                                                                                                                                                                                                                             \n",
              "[12] \"After this operation, 9,474 kB of additional disk space will be used.\"                                                                                                                                                                                                                                                                                                                                                                                                                                                                                                                                                                                         \n",
              "[13] \"Get:1 http://archive.ubuntu.com/ubuntu bionic/universe amd64 libgslcblas0 amd64 2.4+dfsg-6 [79.7 kB]\"                                                                                                                                                                                                                                                                                                                                                                                                                                                                                                                                                          \n",
              "[14] \"Get:2 http://archive.ubuntu.com/ubuntu bionic/universe amd64 libgsl23 amd64 2.4+dfsg-6 [823 kB]\"                                                                                                                                                                                                                                                                                                                                                                                                                                                                                                                                                               \n",
              "[15] \"Get:3 http://archive.ubuntu.com/ubuntu bionic/universe amd64 libgsl-dev amd64 2.4+dfsg-6 [1,023 kB]\"                                                                                                                                                                                                                                                                                                                                                                                                                                                                                                                                                           \n",
              "[16] \"Fetched 1,926 kB in 1s (1,993 kB/s)\"                                                                                                                                                                                                                                                                                                                                                                                                                                                                                                                                                                                                                           \n",
              "[17] \"Selecting previously unselected package libgslcblas0:amd64.\\r\"                                                                                                                                                                                                                                                                                                                                                                                                                                                                                                                                                                                                 \n",
              "[18] \"(Reading database ... \\r(Reading database ... 5%\\r(Reading database ... 10%\\r(Reading database ... 15%\\r(Reading database ... 20%\\r(Reading database ... 25%\\r(Reading database ... 30%\\r(Reading database ... 35%\\r(Reading database ... 40%\\r(Reading database ... 45%\\r(Reading database ... 50%\\r(Reading database ... 55%\\r(Reading database ... 60%\\r(Reading database ... 65%\\r(Reading database ... 70%\\r(Reading database ... 75%\\r(Reading database ... 80%\\r(Reading database ... 85%\\r(Reading database ... 90%\\r(Reading database ... 95%\\r(Reading database ... 100%\\r(Reading database ... 155047 files and directories currently installed.)\\r\"\n",
              "[19] \"Preparing to unpack .../libgslcblas0_2.4+dfsg-6_amd64.deb ...\\r\"                                                                                                                                                                                                                                                                                                                                                                                                                                                                                                                                                                                               \n",
              "[20] \"Unpacking libgslcblas0:amd64 (2.4+dfsg-6) ...\\r\"                                                                                                                                                                                                                                                                                                                                                                                                                                                                                                                                                                                                               \n",
              "[21] \"Selecting previously unselected package libgsl23:amd64.\\r\"                                                                                                                                                                                                                                                                                                                                                                                                                                                                                                                                                                                                     \n",
              "[22] \"Preparing to unpack .../libgsl23_2.4+dfsg-6_amd64.deb ...\\r\"                                                                                                                                                                                                                                                                                                                                                                                                                                                                                                                                                                                                   \n",
              "[23] \"Unpacking libgsl23:amd64 (2.4+dfsg-6) ...\\r\"                                                                                                                                                                                                                                                                                                                                                                                                                                                                                                                                                                                                                   \n",
              "[24] \"Selecting previously unselected package libgsl-dev.\\r\"                                                                                                                                                                                                                                                                                                                                                                                                                                                                                                                                                                                                         \n",
              "[25] \"Preparing to unpack .../libgsl-dev_2.4+dfsg-6_amd64.deb ...\\r\"                                                                                                                                                                                                                                                                                                                                                                                                                                                                                                                                                                                                 \n",
              "[26] \"Unpacking libgsl-dev (2.4+dfsg-6) ...\\r\"                                                                                                                                                                                                                                                                                                                                                                                                                                                                                                                                                                                                                       \n",
              "[27] \"Setting up libgslcblas0:amd64 (2.4+dfsg-6) ...\\r\"                                                                                                                                                                                                                                                                                                                                                                                                                                                                                                                                                                                                              \n",
              "[28] \"Setting up libgsl23:amd64 (2.4+dfsg-6) ...\\r\"                                                                                                                                                                                                                                                                                                                                                                                                                                                                                                                                                                                                                  \n",
              "[29] \"Setting up libgsl-dev (2.4+dfsg-6) ...\\r\"                                                                                                                                                                                                                                                                                                                                                                                                                                                                                                                                                                                                                      \n",
              "[30] \"Processing triggers for man-db (2.8.3-2ubuntu0.1) ...\\r\"                                                                                                                                                                                                                                                                                                                                                                                                                                                                                                                                                                                                       \n",
              "[31] \"Processing triggers for libc-bin (2.27-3ubuntu1.3) ...\\r\"                                                                                                                                                                                                                                                                                                                                                                                                                                                                                                                                                                                                      \n",
              "[32] \"/sbin/ldconfig.real: /usr/local/lib/python3.7/dist-packages/ideep4py/lib/libmkldnn.so.0 is not a symbolic link\\r\"                                                                                                                                                                                                                                                                                                                                                                                                                                                                                                                                              \n",
              "[33] \"\\r\"                                                                                                                                                                                                                                                                                                                                                                                                                                                                                                                                                                                                                                                            "
            ],
            "text/latex": "\\begin{enumerate*}\n\\item 'Reading package lists...'\n\\item 'Building dependency tree...'\n\\item 'Reading state information...'\n\\item 'The following additional packages will be installed:'\n\\item '  libgsl23 libgslcblas0'\n\\item 'Suggested packages:'\n\\item '  gsl-ref-psdoc \\textbar{} gsl-doc-pdf \\textbar{} gsl-doc-info \\textbar{} gsl-ref-html'\n\\item 'The following NEW packages will be installed:'\n\\item '  libgsl-dev libgsl23 libgslcblas0'\n\\item '0 upgraded, 3 newly installed, 0 to remove and 37 not upgraded.'\n\\item 'Need to get 1,926 kB of archives.'\n\\item 'After this operation, 9,474 kB of additional disk space will be used.'\n\\item 'Get:1 http://archive.ubuntu.com/ubuntu bionic/universe amd64 libgslcblas0 amd64 2.4+dfsg-6 {[}79.7 kB{]}'\n\\item 'Get:2 http://archive.ubuntu.com/ubuntu bionic/universe amd64 libgsl23 amd64 2.4+dfsg-6 {[}823 kB{]}'\n\\item 'Get:3 http://archive.ubuntu.com/ubuntu bionic/universe amd64 libgsl-dev amd64 2.4+dfsg-6 {[}1,023 kB{]}'\n\\item 'Fetched 1,926 kB in 1s (1,993 kB/s)'\n\\item 'Selecting previously unselected package libgslcblas0:amd64.\\textbackslash{}r'\n\\item '(Reading database ... \\textbackslash{}r(Reading database ... 5\\%\\textbackslash{}r(Reading database ... 10\\%\\textbackslash{}r(Reading database ... 15\\%\\textbackslash{}r(Reading database ... 20\\%\\textbackslash{}r(Reading database ... 25\\%\\textbackslash{}r(Reading database ... 30\\%\\textbackslash{}r(Reading database ... 35\\%\\textbackslash{}r(Reading database ... 40\\%\\textbackslash{}r(Reading database ... 45\\%\\textbackslash{}r(Reading database ... 50\\%\\textbackslash{}r(Reading database ... 55\\%\\textbackslash{}r(Reading database ... 60\\%\\textbackslash{}r(Reading database ... 65\\%\\textbackslash{}r(Reading database ... 70\\%\\textbackslash{}r(Reading database ... 75\\%\\textbackslash{}r(Reading database ... 80\\%\\textbackslash{}r(Reading database ... 85\\%\\textbackslash{}r(Reading database ... 90\\%\\textbackslash{}r(Reading database ... 95\\%\\textbackslash{}r(Reading database ... 100\\%\\textbackslash{}r(Reading database ... 155047 files and directories currently installed.)\\textbackslash{}r'\n\\item 'Preparing to unpack .../libgslcblas0\\_2.4+dfsg-6\\_amd64.deb ...\\textbackslash{}r'\n\\item 'Unpacking libgslcblas0:amd64 (2.4+dfsg-6) ...\\textbackslash{}r'\n\\item 'Selecting previously unselected package libgsl23:amd64.\\textbackslash{}r'\n\\item 'Preparing to unpack .../libgsl23\\_2.4+dfsg-6\\_amd64.deb ...\\textbackslash{}r'\n\\item 'Unpacking libgsl23:amd64 (2.4+dfsg-6) ...\\textbackslash{}r'\n\\item 'Selecting previously unselected package libgsl-dev.\\textbackslash{}r'\n\\item 'Preparing to unpack .../libgsl-dev\\_2.4+dfsg-6\\_amd64.deb ...\\textbackslash{}r'\n\\item 'Unpacking libgsl-dev (2.4+dfsg-6) ...\\textbackslash{}r'\n\\item 'Setting up libgslcblas0:amd64 (2.4+dfsg-6) ...\\textbackslash{}r'\n\\item 'Setting up libgsl23:amd64 (2.4+dfsg-6) ...\\textbackslash{}r'\n\\item 'Setting up libgsl-dev (2.4+dfsg-6) ...\\textbackslash{}r'\n\\item 'Processing triggers for man-db (2.8.3-2ubuntu0.1) ...\\textbackslash{}r'\n\\item 'Processing triggers for libc-bin (2.27-3ubuntu1.3) ...\\textbackslash{}r'\n\\item '/sbin/ldconfig.real: /usr/local/lib/python3.7/dist-packages/ideep4py/lib/libmkldnn.so.0 is not a symbolic link\\textbackslash{}r'\n\\item '\\textbackslash{}r'\n\\end{enumerate*}\n",
            "text/markdown": "1. 'Reading package lists...'\n2. 'Building dependency tree...'\n3. 'Reading state information...'\n4. 'The following additional packages will be installed:'\n5. <span style=white-space:pre-wrap>'  libgsl23 libgslcblas0'</span>\n6. 'Suggested packages:'\n7. <span style=white-space:pre-wrap>'  gsl-ref-psdoc | gsl-doc-pdf | gsl-doc-info | gsl-ref-html'</span>\n8. 'The following NEW packages will be installed:'\n9. <span style=white-space:pre-wrap>'  libgsl-dev libgsl23 libgslcblas0'</span>\n10. '0 upgraded, 3 newly installed, 0 to remove and 37 not upgraded.'\n11. 'Need to get 1,926 kB of archives.'\n12. 'After this operation, 9,474 kB of additional disk space will be used.'\n13. 'Get:1 http://archive.ubuntu.com/ubuntu bionic/universe amd64 libgslcblas0 amd64 2.4+dfsg-6 [79.7 kB]'\n14. 'Get:2 http://archive.ubuntu.com/ubuntu bionic/universe amd64 libgsl23 amd64 2.4+dfsg-6 [823 kB]'\n15. 'Get:3 http://archive.ubuntu.com/ubuntu bionic/universe amd64 libgsl-dev amd64 2.4+dfsg-6 [1,023 kB]'\n16. 'Fetched 1,926 kB in 1s (1,993 kB/s)'\n17. 'Selecting previously unselected package libgslcblas0:amd64.\\r'\n18. '(Reading database ... \\r(Reading database ... 5%\\r(Reading database ... 10%\\r(Reading database ... 15%\\r(Reading database ... 20%\\r(Reading database ... 25%\\r(Reading database ... 30%\\r(Reading database ... 35%\\r(Reading database ... 40%\\r(Reading database ... 45%\\r(Reading database ... 50%\\r(Reading database ... 55%\\r(Reading database ... 60%\\r(Reading database ... 65%\\r(Reading database ... 70%\\r(Reading database ... 75%\\r(Reading database ... 80%\\r(Reading database ... 85%\\r(Reading database ... 90%\\r(Reading database ... 95%\\r(Reading database ... 100%\\r(Reading database ... 155047 files and directories currently installed.)\\r'\n19. 'Preparing to unpack .../libgslcblas0_2.4+dfsg-6_amd64.deb ...\\r'\n20. 'Unpacking libgslcblas0:amd64 (2.4+dfsg-6) ...\\r'\n21. 'Selecting previously unselected package libgsl23:amd64.\\r'\n22. 'Preparing to unpack .../libgsl23_2.4+dfsg-6_amd64.deb ...\\r'\n23. 'Unpacking libgsl23:amd64 (2.4+dfsg-6) ...\\r'\n24. 'Selecting previously unselected package libgsl-dev.\\r'\n25. 'Preparing to unpack .../libgsl-dev_2.4+dfsg-6_amd64.deb ...\\r'\n26. 'Unpacking libgsl-dev (2.4+dfsg-6) ...\\r'\n27. 'Setting up libgslcblas0:amd64 (2.4+dfsg-6) ...\\r'\n28. 'Setting up libgsl23:amd64 (2.4+dfsg-6) ...\\r'\n29. 'Setting up libgsl-dev (2.4+dfsg-6) ...\\r'\n30. 'Processing triggers for man-db (2.8.3-2ubuntu0.1) ...\\r'\n31. 'Processing triggers for libc-bin (2.27-3ubuntu1.3) ...\\r'\n32. '/sbin/ldconfig.real: /usr/local/lib/python3.7/dist-packages/ideep4py/lib/libmkldnn.so.0 is not a symbolic link\\r'\n33. '\\r'\n\n\n",
            "text/html": [
              "<style>\n",
              ".list-inline {list-style: none; margin:0; padding: 0}\n",
              ".list-inline>li {display: inline-block}\n",
              ".list-inline>li:not(:last-child)::after {content: \"\\00b7\"; padding: 0 .5ex}\n",
              "</style>\n",
              "<ol class=list-inline><li>'Reading package lists...'</li><li>'Building dependency tree...'</li><li>'Reading state information...'</li><li>'The following additional packages will be installed:'</li><li><span style=white-space:pre-wrap>'  libgsl23 libgslcblas0'</span></li><li>'Suggested packages:'</li><li><span style=white-space:pre-wrap>'  gsl-ref-psdoc | gsl-doc-pdf | gsl-doc-info | gsl-ref-html'</span></li><li>'The following NEW packages will be installed:'</li><li><span style=white-space:pre-wrap>'  libgsl-dev libgsl23 libgslcblas0'</span></li><li>'0 upgraded, 3 newly installed, 0 to remove and 37 not upgraded.'</li><li>'Need to get 1,926 kB of archives.'</li><li>'After this operation, 9,474 kB of additional disk space will be used.'</li><li>'Get:1 http://archive.ubuntu.com/ubuntu bionic/universe amd64 libgslcblas0 amd64 2.4+dfsg-6 [79.7 kB]'</li><li>'Get:2 http://archive.ubuntu.com/ubuntu bionic/universe amd64 libgsl23 amd64 2.4+dfsg-6 [823 kB]'</li><li>'Get:3 http://archive.ubuntu.com/ubuntu bionic/universe amd64 libgsl-dev amd64 2.4+dfsg-6 [1,023 kB]'</li><li>'Fetched 1,926 kB in 1s (1,993 kB/s)'</li><li>'Selecting previously unselected package libgslcblas0:amd64.\\r'</li><li>'(Reading database ... \\r(Reading database ... 5%\\r(Reading database ... 10%\\r(Reading database ... 15%\\r(Reading database ... 20%\\r(Reading database ... 25%\\r(Reading database ... 30%\\r(Reading database ... 35%\\r(Reading database ... 40%\\r(Reading database ... 45%\\r(Reading database ... 50%\\r(Reading database ... 55%\\r(Reading database ... 60%\\r(Reading database ... 65%\\r(Reading database ... 70%\\r(Reading database ... 75%\\r(Reading database ... 80%\\r(Reading database ... 85%\\r(Reading database ... 90%\\r(Reading database ... 95%\\r(Reading database ... 100%\\r(Reading database ... 155047 files and directories currently installed.)\\r'</li><li>'Preparing to unpack .../libgslcblas0_2.4+dfsg-6_amd64.deb ...\\r'</li><li>'Unpacking libgslcblas0:amd64 (2.4+dfsg-6) ...\\r'</li><li>'Selecting previously unselected package libgsl23:amd64.\\r'</li><li>'Preparing to unpack .../libgsl23_2.4+dfsg-6_amd64.deb ...\\r'</li><li>'Unpacking libgsl23:amd64 (2.4+dfsg-6) ...\\r'</li><li>'Selecting previously unselected package libgsl-dev.\\r'</li><li>'Preparing to unpack .../libgsl-dev_2.4+dfsg-6_amd64.deb ...\\r'</li><li>'Unpacking libgsl-dev (2.4+dfsg-6) ...\\r'</li><li>'Setting up libgslcblas0:amd64 (2.4+dfsg-6) ...\\r'</li><li>'Setting up libgsl23:amd64 (2.4+dfsg-6) ...\\r'</li><li>'Setting up libgsl-dev (2.4+dfsg-6) ...\\r'</li><li>'Processing triggers for man-db (2.8.3-2ubuntu0.1) ...\\r'</li><li>'Processing triggers for libc-bin (2.27-3ubuntu1.3) ...\\r'</li><li>'/sbin/ldconfig.real: /usr/local/lib/python3.7/dist-packages/ideep4py/lib/libmkldnn.so.0 is not a symbolic link\\r'</li><li>'\\r'</li></ol>\n"
            ]
          },
          "metadata": {}
        }
      ]
    },
    {
      "cell_type": "code",
      "metadata": {
        "id": "HgPXAFx1xZHE",
        "colab": {
          "base_uri": "https://localhost:8080/",
          "height": 0
        },
        "outputId": "f5d482fa-3873-46d8-d32b-069497690a53"
      },
      "source": [
        "system('apt-get install libcairo2-dev', intern = TRUE) # for Cairo package that is required by ComplexHeatmap package"
      ],
      "execution_count": 3,
      "outputs": [
        {
          "output_type": "display_data",
          "data": {
            "text/plain": [
              " [1] \"Reading package lists...\"                                                                                                                                                                                                                                                                                                                                                                                                                                                                                                                                                                                                                                      \n",
              " [2] \"Building dependency tree...\"                                                                                                                                                                                                                                                                                                                                                                                                                                                                                                                                                                                                                                   \n",
              " [3] \"Reading state information...\"                                                                                                                                                                                                                                                                                                                                                                                                                                                                                                                                                                                                                                  \n",
              " [4] \"The following additional packages will be installed:\"                                                                                                                                                                                                                                                                                                                                                                                                                                                                                                                                                                                                          \n",
              " [5] \"  libcairo-script-interpreter2 libpixman-1-dev libxcb-shm0-dev\"                                                                                                                                                                                                                                                                                                                                                                                                                                                                                                                                                                                                \n",
              " [6] \"Suggested packages:\"                                                                                                                                                                                                                                                                                                                                                                                                                                                                                                                                                                                                                                           \n",
              " [7] \"  libcairo2-doc\"                                                                                                                                                                                                                                                                                                                                                                                                                                                                                                                                                                                                                                               \n",
              " [8] \"The following NEW packages will be installed:\"                                                                                                                                                                                                                                                                                                                                                                                                                                                                                                                                                                                                                 \n",
              " [9] \"  libcairo-script-interpreter2 libcairo2-dev libpixman-1-dev libxcb-shm0-dev\"                                                                                                                                                                                                                                                                                                                                                                                                                                                                                                                                                                                  \n",
              "[10] \"0 upgraded, 4 newly installed, 0 to remove and 37 not upgraded.\"                                                                                                                                                                                                                                                                                                                                                                                                                                                                                                                                                                                               \n",
              "[11] \"Need to get 930 kB of archives.\"                                                                                                                                                                                                                                                                                                                                                                                                                                                                                                                                                                                                                               \n",
              "[12] \"After this operation, 3,986 kB of additional disk space will be used.\"                                                                                                                                                                                                                                                                                                                                                                                                                                                                                                                                                                                         \n",
              "[13] \"Get:1 http://archive.ubuntu.com/ubuntu bionic-updates/main amd64 libcairo-script-interpreter2 amd64 1.15.10-2ubuntu0.1 [53.5 kB]\"                                                                                                                                                                                                                                                                                                                                                                                                                                                                                                                              \n",
              "[14] \"Get:2 http://archive.ubuntu.com/ubuntu bionic/main amd64 libpixman-1-dev amd64 0.34.0-2 [244 kB]\"                                                                                                                                                                                                                                                                                                                                                                                                                                                                                                                                                              \n",
              "[15] \"Get:3 http://archive.ubuntu.com/ubuntu bionic-updates/main amd64 libxcb-shm0-dev amd64 1.13-2~ubuntu18.04 [6,684 B]\"                                                                                                                                                                                                                                                                                                                                                                                                                                                                                                                                           \n",
              "[16] \"Get:4 http://archive.ubuntu.com/ubuntu bionic-updates/main amd64 libcairo2-dev amd64 1.15.10-2ubuntu0.1 [626 kB]\"                                                                                                                                                                                                                                                                                                                                                                                                                                                                                                                                              \n",
              "[17] \"Fetched 930 kB in 1s (1,095 kB/s)\"                                                                                                                                                                                                                                                                                                                                                                                                                                                                                                                                                                                                                             \n",
              "[18] \"Selecting previously unselected package libcairo-script-interpreter2:amd64.\\r\"                                                                                                                                                                                                                                                                                                                                                                                                                                                                                                                                                                                 \n",
              "[19] \"(Reading database ... \\r(Reading database ... 5%\\r(Reading database ... 10%\\r(Reading database ... 15%\\r(Reading database ... 20%\\r(Reading database ... 25%\\r(Reading database ... 30%\\r(Reading database ... 35%\\r(Reading database ... 40%\\r(Reading database ... 45%\\r(Reading database ... 50%\\r(Reading database ... 55%\\r(Reading database ... 60%\\r(Reading database ... 65%\\r(Reading database ... 70%\\r(Reading database ... 75%\\r(Reading database ... 80%\\r(Reading database ... 85%\\r(Reading database ... 90%\\r(Reading database ... 95%\\r(Reading database ... 100%\\r(Reading database ... 155319 files and directories currently installed.)\\r\"\n",
              "[20] \"Preparing to unpack .../libcairo-script-interpreter2_1.15.10-2ubuntu0.1_amd64.deb ...\\r\"                                                                                                                                                                                                                                                                                                                                                                                                                                                                                                                                                                       \n",
              "[21] \"Unpacking libcairo-script-interpreter2:amd64 (1.15.10-2ubuntu0.1) ...\\r\"                                                                                                                                                                                                                                                                                                                                                                                                                                                                                                                                                                                       \n",
              "[22] \"Selecting previously unselected package libpixman-1-dev:amd64.\\r\"                                                                                                                                                                                                                                                                                                                                                                                                                                                                                                                                                                                              \n",
              "[23] \"Preparing to unpack .../libpixman-1-dev_0.34.0-2_amd64.deb ...\\r\"                                                                                                                                                                                                                                                                                                                                                                                                                                                                                                                                                                                              \n",
              "[24] \"Unpacking libpixman-1-dev:amd64 (0.34.0-2) ...\\r\"                                                                                                                                                                                                                                                                                                                                                                                                                                                                                                                                                                                                              \n",
              "[25] \"Selecting previously unselected package libxcb-shm0-dev:amd64.\\r\"                                                                                                                                                                                                                                                                                                                                                                                                                                                                                                                                                                                              \n",
              "[26] \"Preparing to unpack .../libxcb-shm0-dev_1.13-2~ubuntu18.04_amd64.deb ...\\r\"                                                                                                                                                                                                                                                                                                                                                                                                                                                                                                                                                                                    \n",
              "[27] \"Unpacking libxcb-shm0-dev:amd64 (1.13-2~ubuntu18.04) ...\\r\"                                                                                                                                                                                                                                                                                                                                                                                                                                                                                                                                                                                                    \n",
              "[28] \"Selecting previously unselected package libcairo2-dev:amd64.\\r\"                                                                                                                                                                                                                                                                                                                                                                                                                                                                                                                                                                                                \n",
              "[29] \"Preparing to unpack .../libcairo2-dev_1.15.10-2ubuntu0.1_amd64.deb ...\\r\"                                                                                                                                                                                                                                                                                                                                                                                                                                                                                                                                                                                      \n",
              "[30] \"Unpacking libcairo2-dev:amd64 (1.15.10-2ubuntu0.1) ...\\r\"                                                                                                                                                                                                                                                                                                                                                                                                                                                                                                                                                                                                      \n",
              "[31] \"Setting up libcairo-script-interpreter2:amd64 (1.15.10-2ubuntu0.1) ...\\r\"                                                                                                                                                                                                                                                                                                                                                                                                                                                                                                                                                                                      \n",
              "[32] \"Setting up libxcb-shm0-dev:amd64 (1.13-2~ubuntu18.04) ...\\r\"                                                                                                                                                                                                                                                                                                                                                                                                                                                                                                                                                                                                   \n",
              "[33] \"Setting up libpixman-1-dev:amd64 (0.34.0-2) ...\\r\"                                                                                                                                                                                                                                                                                                                                                                                                                                                                                                                                                                                                             \n",
              "[34] \"Setting up libcairo2-dev:amd64 (1.15.10-2ubuntu0.1) ...\\r\"                                                                                                                                                                                                                                                                                                                                                                                                                                                                                                                                                                                                     \n",
              "[35] \"Processing triggers for libc-bin (2.27-3ubuntu1.3) ...\\r\"                                                                                                                                                                                                                                                                                                                                                                                                                                                                                                                                                                                                      \n",
              "[36] \"/sbin/ldconfig.real: /usr/local/lib/python3.7/dist-packages/ideep4py/lib/libmkldnn.so.0 is not a symbolic link\\r\"                                                                                                                                                                                                                                                                                                                                                                                                                                                                                                                                              \n",
              "[37] \"\\r\"                                                                                                                                                                                                                                                                                                                                                                                                                                                                                                                                                                                                                                                            "
            ],
            "text/latex": "\\begin{enumerate*}\n\\item 'Reading package lists...'\n\\item 'Building dependency tree...'\n\\item 'Reading state information...'\n\\item 'The following additional packages will be installed:'\n\\item '  libcairo-script-interpreter2 libpixman-1-dev libxcb-shm0-dev'\n\\item 'Suggested packages:'\n\\item '  libcairo2-doc'\n\\item 'The following NEW packages will be installed:'\n\\item '  libcairo-script-interpreter2 libcairo2-dev libpixman-1-dev libxcb-shm0-dev'\n\\item '0 upgraded, 4 newly installed, 0 to remove and 37 not upgraded.'\n\\item 'Need to get 930 kB of archives.'\n\\item 'After this operation, 3,986 kB of additional disk space will be used.'\n\\item 'Get:1 http://archive.ubuntu.com/ubuntu bionic-updates/main amd64 libcairo-script-interpreter2 amd64 1.15.10-2ubuntu0.1 {[}53.5 kB{]}'\n\\item 'Get:2 http://archive.ubuntu.com/ubuntu bionic/main amd64 libpixman-1-dev amd64 0.34.0-2 {[}244 kB{]}'\n\\item 'Get:3 http://archive.ubuntu.com/ubuntu bionic-updates/main amd64 libxcb-shm0-dev amd64 1.13-2\\textasciitilde{}ubuntu18.04 {[}6,684 B{]}'\n\\item 'Get:4 http://archive.ubuntu.com/ubuntu bionic-updates/main amd64 libcairo2-dev amd64 1.15.10-2ubuntu0.1 {[}626 kB{]}'\n\\item 'Fetched 930 kB in 1s (1,095 kB/s)'\n\\item 'Selecting previously unselected package libcairo-script-interpreter2:amd64.\\textbackslash{}r'\n\\item '(Reading database ... \\textbackslash{}r(Reading database ... 5\\%\\textbackslash{}r(Reading database ... 10\\%\\textbackslash{}r(Reading database ... 15\\%\\textbackslash{}r(Reading database ... 20\\%\\textbackslash{}r(Reading database ... 25\\%\\textbackslash{}r(Reading database ... 30\\%\\textbackslash{}r(Reading database ... 35\\%\\textbackslash{}r(Reading database ... 40\\%\\textbackslash{}r(Reading database ... 45\\%\\textbackslash{}r(Reading database ... 50\\%\\textbackslash{}r(Reading database ... 55\\%\\textbackslash{}r(Reading database ... 60\\%\\textbackslash{}r(Reading database ... 65\\%\\textbackslash{}r(Reading database ... 70\\%\\textbackslash{}r(Reading database ... 75\\%\\textbackslash{}r(Reading database ... 80\\%\\textbackslash{}r(Reading database ... 85\\%\\textbackslash{}r(Reading database ... 90\\%\\textbackslash{}r(Reading database ... 95\\%\\textbackslash{}r(Reading database ... 100\\%\\textbackslash{}r(Reading database ... 155319 files and directories currently installed.)\\textbackslash{}r'\n\\item 'Preparing to unpack .../libcairo-script-interpreter2\\_1.15.10-2ubuntu0.1\\_amd64.deb ...\\textbackslash{}r'\n\\item 'Unpacking libcairo-script-interpreter2:amd64 (1.15.10-2ubuntu0.1) ...\\textbackslash{}r'\n\\item 'Selecting previously unselected package libpixman-1-dev:amd64.\\textbackslash{}r'\n\\item 'Preparing to unpack .../libpixman-1-dev\\_0.34.0-2\\_amd64.deb ...\\textbackslash{}r'\n\\item 'Unpacking libpixman-1-dev:amd64 (0.34.0-2) ...\\textbackslash{}r'\n\\item 'Selecting previously unselected package libxcb-shm0-dev:amd64.\\textbackslash{}r'\n\\item 'Preparing to unpack .../libxcb-shm0-dev\\_1.13-2\\textasciitilde{}ubuntu18.04\\_amd64.deb ...\\textbackslash{}r'\n\\item 'Unpacking libxcb-shm0-dev:amd64 (1.13-2\\textasciitilde{}ubuntu18.04) ...\\textbackslash{}r'\n\\item 'Selecting previously unselected package libcairo2-dev:amd64.\\textbackslash{}r'\n\\item 'Preparing to unpack .../libcairo2-dev\\_1.15.10-2ubuntu0.1\\_amd64.deb ...\\textbackslash{}r'\n\\item 'Unpacking libcairo2-dev:amd64 (1.15.10-2ubuntu0.1) ...\\textbackslash{}r'\n\\item 'Setting up libcairo-script-interpreter2:amd64 (1.15.10-2ubuntu0.1) ...\\textbackslash{}r'\n\\item 'Setting up libxcb-shm0-dev:amd64 (1.13-2\\textasciitilde{}ubuntu18.04) ...\\textbackslash{}r'\n\\item 'Setting up libpixman-1-dev:amd64 (0.34.0-2) ...\\textbackslash{}r'\n\\item 'Setting up libcairo2-dev:amd64 (1.15.10-2ubuntu0.1) ...\\textbackslash{}r'\n\\item 'Processing triggers for libc-bin (2.27-3ubuntu1.3) ...\\textbackslash{}r'\n\\item '/sbin/ldconfig.real: /usr/local/lib/python3.7/dist-packages/ideep4py/lib/libmkldnn.so.0 is not a symbolic link\\textbackslash{}r'\n\\item '\\textbackslash{}r'\n\\end{enumerate*}\n",
            "text/markdown": "1. 'Reading package lists...'\n2. 'Building dependency tree...'\n3. 'Reading state information...'\n4. 'The following additional packages will be installed:'\n5. <span style=white-space:pre-wrap>'  libcairo-script-interpreter2 libpixman-1-dev libxcb-shm0-dev'</span>\n6. 'Suggested packages:'\n7. <span style=white-space:pre-wrap>'  libcairo2-doc'</span>\n8. 'The following NEW packages will be installed:'\n9. <span style=white-space:pre-wrap>'  libcairo-script-interpreter2 libcairo2-dev libpixman-1-dev libxcb-shm0-dev'</span>\n10. '0 upgraded, 4 newly installed, 0 to remove and 37 not upgraded.'\n11. 'Need to get 930 kB of archives.'\n12. 'After this operation, 3,986 kB of additional disk space will be used.'\n13. 'Get:1 http://archive.ubuntu.com/ubuntu bionic-updates/main amd64 libcairo-script-interpreter2 amd64 1.15.10-2ubuntu0.1 [53.5 kB]'\n14. 'Get:2 http://archive.ubuntu.com/ubuntu bionic/main amd64 libpixman-1-dev amd64 0.34.0-2 [244 kB]'\n15. 'Get:3 http://archive.ubuntu.com/ubuntu bionic-updates/main amd64 libxcb-shm0-dev amd64 1.13-2~ubuntu18.04 [6,684 B]'\n16. 'Get:4 http://archive.ubuntu.com/ubuntu bionic-updates/main amd64 libcairo2-dev amd64 1.15.10-2ubuntu0.1 [626 kB]'\n17. 'Fetched 930 kB in 1s (1,095 kB/s)'\n18. 'Selecting previously unselected package libcairo-script-interpreter2:amd64.\\r'\n19. '(Reading database ... \\r(Reading database ... 5%\\r(Reading database ... 10%\\r(Reading database ... 15%\\r(Reading database ... 20%\\r(Reading database ... 25%\\r(Reading database ... 30%\\r(Reading database ... 35%\\r(Reading database ... 40%\\r(Reading database ... 45%\\r(Reading database ... 50%\\r(Reading database ... 55%\\r(Reading database ... 60%\\r(Reading database ... 65%\\r(Reading database ... 70%\\r(Reading database ... 75%\\r(Reading database ... 80%\\r(Reading database ... 85%\\r(Reading database ... 90%\\r(Reading database ... 95%\\r(Reading database ... 100%\\r(Reading database ... 155319 files and directories currently installed.)\\r'\n20. 'Preparing to unpack .../libcairo-script-interpreter2_1.15.10-2ubuntu0.1_amd64.deb ...\\r'\n21. 'Unpacking libcairo-script-interpreter2:amd64 (1.15.10-2ubuntu0.1) ...\\r'\n22. 'Selecting previously unselected package libpixman-1-dev:amd64.\\r'\n23. 'Preparing to unpack .../libpixman-1-dev_0.34.0-2_amd64.deb ...\\r'\n24. 'Unpacking libpixman-1-dev:amd64 (0.34.0-2) ...\\r'\n25. 'Selecting previously unselected package libxcb-shm0-dev:amd64.\\r'\n26. 'Preparing to unpack .../libxcb-shm0-dev_1.13-2~ubuntu18.04_amd64.deb ...\\r'\n27. 'Unpacking libxcb-shm0-dev:amd64 (1.13-2~ubuntu18.04) ...\\r'\n28. 'Selecting previously unselected package libcairo2-dev:amd64.\\r'\n29. 'Preparing to unpack .../libcairo2-dev_1.15.10-2ubuntu0.1_amd64.deb ...\\r'\n30. 'Unpacking libcairo2-dev:amd64 (1.15.10-2ubuntu0.1) ...\\r'\n31. 'Setting up libcairo-script-interpreter2:amd64 (1.15.10-2ubuntu0.1) ...\\r'\n32. 'Setting up libxcb-shm0-dev:amd64 (1.13-2~ubuntu18.04) ...\\r'\n33. 'Setting up libpixman-1-dev:amd64 (0.34.0-2) ...\\r'\n34. 'Setting up libcairo2-dev:amd64 (1.15.10-2ubuntu0.1) ...\\r'\n35. 'Processing triggers for libc-bin (2.27-3ubuntu1.3) ...\\r'\n36. '/sbin/ldconfig.real: /usr/local/lib/python3.7/dist-packages/ideep4py/lib/libmkldnn.so.0 is not a symbolic link\\r'\n37. '\\r'\n\n\n",
            "text/html": [
              "<style>\n",
              ".list-inline {list-style: none; margin:0; padding: 0}\n",
              ".list-inline>li {display: inline-block}\n",
              ".list-inline>li:not(:last-child)::after {content: \"\\00b7\"; padding: 0 .5ex}\n",
              "</style>\n",
              "<ol class=list-inline><li>'Reading package lists...'</li><li>'Building dependency tree...'</li><li>'Reading state information...'</li><li>'The following additional packages will be installed:'</li><li><span style=white-space:pre-wrap>'  libcairo-script-interpreter2 libpixman-1-dev libxcb-shm0-dev'</span></li><li>'Suggested packages:'</li><li><span style=white-space:pre-wrap>'  libcairo2-doc'</span></li><li>'The following NEW packages will be installed:'</li><li><span style=white-space:pre-wrap>'  libcairo-script-interpreter2 libcairo2-dev libpixman-1-dev libxcb-shm0-dev'</span></li><li>'0 upgraded, 4 newly installed, 0 to remove and 37 not upgraded.'</li><li>'Need to get 930 kB of archives.'</li><li>'After this operation, 3,986 kB of additional disk space will be used.'</li><li>'Get:1 http://archive.ubuntu.com/ubuntu bionic-updates/main amd64 libcairo-script-interpreter2 amd64 1.15.10-2ubuntu0.1 [53.5 kB]'</li><li>'Get:2 http://archive.ubuntu.com/ubuntu bionic/main amd64 libpixman-1-dev amd64 0.34.0-2 [244 kB]'</li><li>'Get:3 http://archive.ubuntu.com/ubuntu bionic-updates/main amd64 libxcb-shm0-dev amd64 1.13-2~ubuntu18.04 [6,684 B]'</li><li>'Get:4 http://archive.ubuntu.com/ubuntu bionic-updates/main amd64 libcairo2-dev amd64 1.15.10-2ubuntu0.1 [626 kB]'</li><li>'Fetched 930 kB in 1s (1,095 kB/s)'</li><li>'Selecting previously unselected package libcairo-script-interpreter2:amd64.\\r'</li><li>'(Reading database ... \\r(Reading database ... 5%\\r(Reading database ... 10%\\r(Reading database ... 15%\\r(Reading database ... 20%\\r(Reading database ... 25%\\r(Reading database ... 30%\\r(Reading database ... 35%\\r(Reading database ... 40%\\r(Reading database ... 45%\\r(Reading database ... 50%\\r(Reading database ... 55%\\r(Reading database ... 60%\\r(Reading database ... 65%\\r(Reading database ... 70%\\r(Reading database ... 75%\\r(Reading database ... 80%\\r(Reading database ... 85%\\r(Reading database ... 90%\\r(Reading database ... 95%\\r(Reading database ... 100%\\r(Reading database ... 155319 files and directories currently installed.)\\r'</li><li>'Preparing to unpack .../libcairo-script-interpreter2_1.15.10-2ubuntu0.1_amd64.deb ...\\r'</li><li>'Unpacking libcairo-script-interpreter2:amd64 (1.15.10-2ubuntu0.1) ...\\r'</li><li>'Selecting previously unselected package libpixman-1-dev:amd64.\\r'</li><li>'Preparing to unpack .../libpixman-1-dev_0.34.0-2_amd64.deb ...\\r'</li><li>'Unpacking libpixman-1-dev:amd64 (0.34.0-2) ...\\r'</li><li>'Selecting previously unselected package libxcb-shm0-dev:amd64.\\r'</li><li>'Preparing to unpack .../libxcb-shm0-dev_1.13-2~ubuntu18.04_amd64.deb ...\\r'</li><li>'Unpacking libxcb-shm0-dev:amd64 (1.13-2~ubuntu18.04) ...\\r'</li><li>'Selecting previously unselected package libcairo2-dev:amd64.\\r'</li><li>'Preparing to unpack .../libcairo2-dev_1.15.10-2ubuntu0.1_amd64.deb ...\\r'</li><li>'Unpacking libcairo2-dev:amd64 (1.15.10-2ubuntu0.1) ...\\r'</li><li>'Setting up libcairo-script-interpreter2:amd64 (1.15.10-2ubuntu0.1) ...\\r'</li><li>'Setting up libxcb-shm0-dev:amd64 (1.13-2~ubuntu18.04) ...\\r'</li><li>'Setting up libpixman-1-dev:amd64 (0.34.0-2) ...\\r'</li><li>'Setting up libcairo2-dev:amd64 (1.15.10-2ubuntu0.1) ...\\r'</li><li>'Processing triggers for libc-bin (2.27-3ubuntu1.3) ...\\r'</li><li>'/sbin/ldconfig.real: /usr/local/lib/python3.7/dist-packages/ideep4py/lib/libmkldnn.so.0 is not a symbolic link\\r'</li><li>'\\r'</li></ol>\n"
            ]
          },
          "metadata": {}
        }
      ]
    },
    {
      "cell_type": "markdown",
      "metadata": {
        "id": "uY3cIu62WZd0"
      },
      "source": [
        "### Install R packages from CRAN"
      ]
    },
    {
      "cell_type": "code",
      "metadata": {
        "colab": {
          "base_uri": "https://localhost:8080/"
        },
        "id": "yfBnWIqfWZd0",
        "outputId": "4de9c554-628c-4950-c011-79f010f94063"
      },
      "source": [
        "install.packages('BiocManager')"
      ],
      "execution_count": 4,
      "outputs": [
        {
          "output_type": "stream",
          "name": "stderr",
          "text": [
            "Installing package into ‘/usr/local/lib/R/site-library’\n",
            "(as ‘lib’ is unspecified)\n",
            "\n"
          ]
        }
      ]
    },
    {
      "cell_type": "code",
      "metadata": {
        "id": "e5KbNCmTWZd0"
      },
      "source": [
        "required_packages <- c(\n",
        "  \"BSgenome.Mmusculus.UCSC.mm10\", 'TxDb.Mmusculus.UCSC.mm10.knownGene',\n",
        "  \"dplyr\", \n",
        "  'motifmatchr',\n",
        "  'cccd',\n",
        "  'patchwork'\n",
        ")"
      ],
      "execution_count": 5,
      "outputs": []
    },
    {
      "cell_type": "code",
      "metadata": {
        "id": "FzhTYT3EWZd0",
        "colab": {
          "base_uri": "https://localhost:8080/"
        },
        "outputId": "82c8d846-8358-477b-c513-adc25ed3a7d4"
      },
      "source": [
        "missing_packages <- required_packages[!required_packages %in% rownames(installed.packages())]\n",
        "if (length(missing_packages) > 0){\n",
        "    BiocManager::install(missing_packages)\n",
        "}"
      ],
      "execution_count": 6,
      "outputs": [
        {
          "output_type": "stream",
          "name": "stderr",
          "text": [
            "'getOption(\"repos\")' replaces Bioconductor standard repositories, see\n",
            "'?repositories' for details\n",
            "\n",
            "replacement repositories:\n",
            "    CRAN: https://cran.rstudio.com\n",
            "\n",
            "\n",
            "Bioconductor version 3.13 (BiocManager 1.30.16), R 4.1.1 (2021-08-10)\n",
            "\n",
            "Installing package(s) 'BiocVersion', 'BSgenome.Mmusculus.UCSC.mm10',\n",
            "  'TxDb.Mmusculus.UCSC.mm10.knownGene', 'motifmatchr', 'cccd', 'patchwork'\n",
            "\n",
            "also installing the dependencies ‘formatR’, ‘rjson’, ‘filelock’, ‘lambda.r’, ‘futile.options’, ‘plyr’, ‘pracma’, ‘xtable’, ‘R.oo’, ‘R.methodsS3’, ‘GenomicAlignments’, ‘restfulr’, ‘plogr’, ‘BiocFileCache’, ‘png’, ‘futile.logger’, ‘snow’, ‘BH’, ‘reshape2’, ‘poweRlaw’, ‘annotate’, ‘GO.db’, ‘R.utils’, ‘BiocGenerics’, ‘rtracklayer’, ‘matrixStats’, ‘XVector’, ‘RSQLite’, ‘RCurl’, ‘BiocIO’, ‘biomaRt’, ‘Biobase’, ‘KEGGREST’, ‘BiocParallel’, ‘caTools’, ‘CNEr’, ‘DirichletMultinomial’, ‘gtools’, ‘seqLogo’, ‘TFMPvalue’, ‘XML’, ‘MatrixGenerics’, ‘DelayedArray’, ‘zlibbioc’, ‘bitops’, ‘Rhtslib’, ‘GenomeInfoDbData’, ‘BSgenome’, ‘GenomicFeatures’, ‘AnnotationDbi’, ‘TFBSTools’, ‘Biostrings’, ‘S4Vectors’, ‘SummarizedExperiment’, ‘GenomicRanges’, ‘IRanges’, ‘Rsamtools’, ‘GenomeInfoDb’, ‘RcppArmadillo’, ‘igraph’, ‘proxy’, ‘deldir’, ‘FNN’\n",
            "\n",
            "\n",
            "Old packages: 'cpp11', 'data.table', 'desc', 'diffobj', 'digest', 'hms',\n",
            "  'knitr', 'lifecycle', 'lubridate', 'mime', 'openssl', 'pillar', 'rcmdcheck',\n",
            "  'readr', 'remotes', 'stringi', 'testthat', 'tibble', 'tidyr', 'tinytex',\n",
            "  'mgcv', 'nlme'\n",
            "\n"
          ]
        }
      ]
    },
    {
      "cell_type": "code",
      "metadata": {
        "id": "BMptTKnyWZd1",
        "colab": {
          "base_uri": "https://localhost:8080/"
        },
        "outputId": "449acf68-3f10-468b-a7be-32e77c85db38"
      },
      "source": [
        "library(devtools)"
      ],
      "execution_count": 7,
      "outputs": [
        {
          "output_type": "stream",
          "name": "stderr",
          "text": [
            "Loading required package: usethis\n",
            "\n"
          ]
        }
      ]
    },
    {
      "cell_type": "markdown",
      "metadata": {
        "id": "KHjoODrS2hKo"
      },
      "source": [
        "### Install R packages from github"
      ]
    },
    {
      "cell_type": "code",
      "metadata": {
        "colab": {
          "base_uri": "https://localhost:8080/"
        },
        "id": "30uvd1_Nrpy_",
        "outputId": "b04b061e-b14c-4a3a-c99d-11d8a1dc231b"
      },
      "source": [
        "install_github(\"GreenleafLab/chromVARmotifs\")"
      ],
      "execution_count": 8,
      "outputs": [
        {
          "output_type": "stream",
          "name": "stderr",
          "text": [
            "Downloading GitHub repo GreenleafLab/chromVARmotifs@HEAD\n",
            "\n"
          ]
        },
        {
          "output_type": "stream",
          "name": "stdout",
          "text": [
            "pillar    (1.6.2  -> 1.6.3 ) [CRAN]\n",
            "stringi   (1.7.4  -> 1.7.5 ) [CRAN]\n",
            "openssl   (1.4.3  -> 1.4.5 ) [CRAN]\n",
            "mime      (0.11   -> 0.12  ) [CRAN]\n",
            "cpp11     (0.3.1  -> 0.4.0 ) [CRAN]\n",
            "lifecycle (1.0.0  -> 1.0.1 ) [CRAN]\n",
            "hms       (1.1.0  -> 1.1.1 ) [CRAN]\n",
            "tibble    (3.1.4  -> 3.1.5 ) [CRAN]\n",
            "digest    (0.6.27 -> 0.6.28) [CRAN]\n",
            "readr     (2.0.1  -> 2.0.2 ) [CRAN]\n"
          ]
        },
        {
          "output_type": "stream",
          "name": "stderr",
          "text": [
            "Installing 10 packages: pillar, stringi, openssl, mime, cpp11, lifecycle, hms, tibble, digest, readr\n",
            "\n",
            "Installing packages into ‘/usr/local/lib/R/site-library’\n",
            "(as ‘lib’ is unspecified)\n",
            "\n"
          ]
        },
        {
          "output_type": "stream",
          "name": "stdout",
          "text": [
            "\u001b[32m✔\u001b[39m  \u001b[90mchecking for file ‘/tmp/RtmpxKO5yk/remotes4e3ef3f713/GreenleafLab-chromVARmotifs-38bed55/DESCRIPTION’\u001b[39m\u001b[36m\u001b[39m\n",
            "\u001b[90m─\u001b[39m\u001b[90m  \u001b[39m\u001b[90mpreparing ‘chromVARmotifs’:\u001b[39m\u001b[36m\u001b[39m\n",
            "\u001b[32m✔\u001b[39m  \u001b[90mchecking DESCRIPTION meta-information\u001b[39m\u001b[36m\u001b[39m\n",
            "\u001b[90m─\u001b[39m\u001b[90m  \u001b[39m\u001b[90mchecking for LF line-endings in source and make files and shell scripts\u001b[39m\u001b[36m\u001b[39m\n",
            "\u001b[90m─\u001b[39m\u001b[90m  \u001b[39m\u001b[90mchecking for empty or unneeded directories\u001b[39m\u001b[36m\u001b[39m\n",
            "\u001b[90m─\u001b[39m\u001b[90m  \u001b[39m\u001b[90mbuilding ‘chromVARmotifs_0.2.0.tar.gz’\u001b[39m\u001b[36m\u001b[39m\n",
            "   \n"
          ]
        },
        {
          "output_type": "stream",
          "name": "stderr",
          "text": [
            "Installing package into ‘/usr/local/lib/R/site-library’\n",
            "(as ‘lib’ is unspecified)\n",
            "\n"
          ]
        }
      ]
    },
    {
      "cell_type": "markdown",
      "metadata": {
        "id": "FfduHH8aWZd1"
      },
      "source": [
        "### Install `seatac` from github"
      ]
    },
    {
      "cell_type": "code",
      "metadata": {
        "colab": {
          "base_uri": "https://localhost:8080/"
        },
        "id": "6cbnrdk2WZd1",
        "outputId": "047366e0-f788-4ebb-8e86-7ec8094ed4a8"
      },
      "source": [
        "install_github('gongx030/seatac', quiet = FALSE)\n",
        "devtools::reload(pkgload::inst(\"seatac\"))\n",
        "library(seatac)"
      ],
      "execution_count": 131,
      "outputs": [
        {
          "output_type": "stream",
          "name": "stderr",
          "text": [
            "Downloading GitHub repo gongx030/seatac@HEAD\n",
            "\n"
          ]
        },
        {
          "output_type": "stream",
          "name": "stdout",
          "text": [
            "\n",
            "\u001b[32m✔\u001b[39m  \u001b[90mchecking for file ‘/tmp/RtmpxKO5yk/remotes4e5d595981/gongx030-seatac-382243e/DESCRIPTION’\u001b[39m\u001b[36m\u001b[36m (872ms)\u001b[36m\u001b[39m\n",
            "\u001b[90m─\u001b[39m\u001b[90m  \u001b[39m\u001b[90mpreparing ‘seatac’:\u001b[39m\u001b[36m\u001b[39m\n",
            "\u001b[32m✔\u001b[39m  \u001b[90mchecking DESCRIPTION meta-information\u001b[39m\u001b[36m\u001b[39m\n",
            "\u001b[90m─\u001b[39m\u001b[90m  \u001b[39m\u001b[90mchecking for LF line-endings in source and make files and shell scripts\u001b[39m\u001b[36m\u001b[39m\n",
            "\u001b[90m─\u001b[39m\u001b[90m  \u001b[39m\u001b[90mchecking for empty or unneeded directories\u001b[39m\u001b[36m\u001b[39m\n",
            "   Omitted ‘LazyData’ from DESCRIPTION\n",
            "\u001b[90m─\u001b[39m\u001b[90m  \u001b[39m\u001b[90mbuilding ‘seatac_0.3.33.tar.gz’\u001b[39m\u001b[36m\u001b[39m\n",
            "   \n"
          ]
        },
        {
          "output_type": "stream",
          "name": "stderr",
          "text": [
            "Installing package into ‘/usr/local/lib/R/site-library’\n",
            "(as ‘lib’ is unspecified)\n",
            "\n",
            "\u001b[36mℹ\u001b[39m Reloading attached \u001b[34m\u001b[34mseatac\u001b[34m\u001b[39m\n",
            "\n",
            "\n",
            "Attaching package: ‘seatac’\n",
            "\n",
            "\n",
            "The following object is masked from ‘package:tfdatasets’:\n",
            "\n",
            "    fit\n",
            "\n",
            "\n",
            "The following object is masked from ‘package:stats’:\n",
            "\n",
            "    predict\n",
            "\n",
            "\n"
          ]
        }
      ]
    },
    {
      "cell_type": "markdown",
      "metadata": {
        "id": "8LRcZG575RIi"
      },
      "source": [
        "### Load R packages"
      ]
    },
    {
      "cell_type": "code",
      "metadata": {
        "id": "xxvI6xd05RIi",
        "colab": {
          "base_uri": "https://localhost:8080/"
        },
        "outputId": "f8e7a2cf-caff-4932-bbad-a15bc19ecf88"
      },
      "source": [
        "library(BSgenome.Mmusculus.UCSC.mm10)\n",
        "library(TxDb.Mmusculus.UCSC.mm10.knownGene)\n",
        "library(dplyr)\n",
        "library(motifmatchr)\n",
        "library(chromVARmotifs)\n",
        "library(cccd)\n",
        "library(igraph)\n",
        "library(Matrix)\n",
        "library(ggplot2)\n",
        "library(patchwork)\n",
        "library(reshape2)"
      ],
      "execution_count": 10,
      "outputs": [
        {
          "output_type": "stream",
          "name": "stderr",
          "text": [
            "Loading required package: BSgenome\n",
            "\n",
            "Loading required package: Biostrings\n",
            "\n",
            "Loading required package: XVector\n",
            "\n",
            "\n",
            "Attaching package: ‘Biostrings’\n",
            "\n",
            "\n",
            "The following object is masked from ‘package:base’:\n",
            "\n",
            "    strsplit\n",
            "\n",
            "\n",
            "Loading required package: rtracklayer\n",
            "\n",
            "Loading required package: GenomicFeatures\n",
            "\n",
            "Loading required package: AnnotationDbi\n",
            "\n",
            "\n",
            "Attaching package: ‘dplyr’\n",
            "\n",
            "\n",
            "The following object is masked from ‘package:AnnotationDbi’:\n",
            "\n",
            "    select\n",
            "\n",
            "\n",
            "The following objects are masked from ‘package:Biostrings’:\n",
            "\n",
            "    collapse, intersect, setdiff, setequal, union\n",
            "\n",
            "\n",
            "The following object is masked from ‘package:XVector’:\n",
            "\n",
            "    slice\n",
            "\n",
            "\n",
            "The following object is masked from ‘package:Biobase’:\n",
            "\n",
            "    combine\n",
            "\n",
            "\n",
            "The following object is masked from ‘package:matrixStats’:\n",
            "\n",
            "    count\n",
            "\n",
            "\n",
            "The following objects are masked from ‘package:GenomicRanges’:\n",
            "\n",
            "    intersect, setdiff, union\n",
            "\n",
            "\n",
            "The following object is masked from ‘package:GenomeInfoDb’:\n",
            "\n",
            "    intersect\n",
            "\n",
            "\n",
            "The following objects are masked from ‘package:IRanges’:\n",
            "\n",
            "    collapse, desc, intersect, setdiff, slice, union\n",
            "\n",
            "\n",
            "The following objects are masked from ‘package:S4Vectors’:\n",
            "\n",
            "    first, intersect, rename, setdiff, setequal, union\n",
            "\n",
            "\n",
            "The following objects are masked from ‘package:BiocGenerics’:\n",
            "\n",
            "    combine, intersect, setdiff, union\n",
            "\n",
            "\n",
            "The following objects are masked from ‘package:stats’:\n",
            "\n",
            "    filter, lag\n",
            "\n",
            "\n",
            "The following objects are masked from ‘package:base’:\n",
            "\n",
            "    intersect, setdiff, setequal, union\n",
            "\n",
            "\n",
            "\n",
            "\n",
            "Loading required package: igraph\n",
            "\n",
            "\n",
            "Attaching package: ‘igraph’\n",
            "\n",
            "\n",
            "The following objects are masked from ‘package:dplyr’:\n",
            "\n",
            "    as_data_frame, groups, union\n",
            "\n",
            "\n",
            "The following objects are masked from ‘package:rtracklayer’:\n",
            "\n",
            "    blocks, path\n",
            "\n",
            "\n",
            "The following object is masked from ‘package:Biostrings’:\n",
            "\n",
            "    union\n",
            "\n",
            "\n",
            "The following object is masked from ‘package:XVector’:\n",
            "\n",
            "    path\n",
            "\n",
            "\n",
            "The following object is masked from ‘package:GenomicRanges’:\n",
            "\n",
            "    union\n",
            "\n",
            "\n",
            "The following object is masked from ‘package:IRanges’:\n",
            "\n",
            "    union\n",
            "\n",
            "\n",
            "The following object is masked from ‘package:S4Vectors’:\n",
            "\n",
            "    union\n",
            "\n",
            "\n",
            "The following objects are masked from ‘package:BiocGenerics’:\n",
            "\n",
            "    normalize, path, union\n",
            "\n",
            "\n",
            "The following objects are masked from ‘package:stats’:\n",
            "\n",
            "    decompose, spectrum\n",
            "\n",
            "\n",
            "The following object is masked from ‘package:base’:\n",
            "\n",
            "    union\n",
            "\n",
            "\n",
            "\n",
            "Attaching package: ‘Matrix’\n",
            "\n",
            "\n",
            "The following object is masked from ‘package:S4Vectors’:\n",
            "\n",
            "    expand\n",
            "\n",
            "\n"
          ]
        }
      ]
    },
    {
      "cell_type": "markdown",
      "metadata": {
        "id": "hl2lXOAv9ljx"
      },
      "source": [
        "## Parameters"
      ]
    },
    {
      "cell_type": "code",
      "metadata": {
        "id": "KMfU5_KD9nN9"
      },
      "source": [
        "ARGS <- list(\n",
        "  bin_size = 5L,\n",
        "  fragment_size_range_max = 640L,\n",
        "  fragment_size_interval = 20L,\n",
        "  window_size = 1000L,\n",
        "  block_size = 640L,\n",
        ")"
      ],
      "execution_count": 11,
      "outputs": []
    },
    {
      "cell_type": "markdown",
      "metadata": {
        "id": "KTlR7IjcYeAI"
      },
      "source": [
        "## Load data"
      ]
    },
    {
      "cell_type": "code",
      "metadata": {
        "id": "4C5C4mrdymmE"
      },
      "source": [
        "remote_bam_files = c(\n",
        "  EB_Dox_D25 = 'https://s3.msi.umn.edu/gongx030/datasets/dataset=Etv2ATAC_version=20190228b/EB_Dox_D25.bam',\n",
        "  EB_Dox_D25_Flk1pos = 'https://s3.msi.umn.edu/gongx030/datasets/dataset=Etv2ATAC_version=20190228b/EB_Dox_D25_Flk1pos.bam',\n",
        "  MEF_Dox_D7 = 'https://s3.msi.umn.edu/gongx030/datasets/dataset=Etv2ATAC_version=20190228b/MEF_Dox_D7.bam',\n",
        "  MEF_Dox_D7_Flk1pos = 'https://s3.msi.umn.edu/gongx030/datasets/dataset=Etv2ATAC_version=20190228b/MEF_Dox_D7_Flk1pos.bam'\n",
        ")\n",
        "for (f in remote_bam_files){\n",
        "  system(sprintf('wget -x -c -nH %s', f))\n",
        "}\n",
        "local_bam_files <- gsub('https://.+?/', './', remote_bam_files)"
      ],
      "execution_count": 76,
      "outputs": []
    },
    {
      "cell_type": "code",
      "metadata": {
        "id": "09ujkOkCyxtv"
      },
      "source": [
        "remote_bed_files <- gsub('.bam', '_summits.bed', remote_bam_files)\n",
        "for (f in remote_bed_files){\n",
        "  system(sprintf('wget -x -c -nH %s', f))\n",
        "}\n",
        "local_bed_files <- gsub('https://.+?/', './', remote_bed_files)"
      ],
      "execution_count": 77,
      "outputs": []
    },
    {
      "cell_type": "markdown",
      "metadata": {
        "id": "pIlGm6CFnr6k"
      },
      "source": [
        "## Read V-plots"
      ]
    },
    {
      "cell_type": "code",
      "metadata": {
        "id": "JnXiPxoSnbMM"
      },
      "source": [
        "gr0 <- lapply(local_bed_files, function(bed_file){\n",
        "  peaks <- read.table(bed_file, header = FALSE, sep = '\\t')\n",
        "  peaks <- GRanges(seqnames = peaks[, 1], range = IRanges(start = peaks[, 2], end = peaks[, 3]))\n",
        "  peaks <- resize(peaks, fix = 'center', width = 200L)\n",
        "  peaks\n",
        "}) %>%\n",
        "  GRangesList() %>%\n",
        "  coverage() %>%\n",
        "  IRanges::slice(lower = 1, rangesOnly = TRUE) %>%\n",
        "  GRanges() %>%\n",
        "  resize(fix = 'center', width = ARGS[['window_size']])\n",
        "gr0 <- gr0[!seqnames(gr0) %in% c('chrM', 'chrY')]"
      ],
      "execution_count": 78,
      "outputs": []
    },
    {
      "cell_type": "code",
      "metadata": {
        "colab": {
          "base_uri": "https://localhost:8080/"
        },
        "id": "cqnP7HphK885",
        "outputId": "df61e2a0-acca-42fc-fc6f-ce06e3e0cf3a"
      },
      "source": [
        "sprintf('number of aggregated ATAC-seq peaks: %d', length(gr0)) %>% message()"
      ],
      "execution_count": 79,
      "outputs": [
        {
          "output_type": "stream",
          "name": "stderr",
          "text": [
            "number of aggregated ATAC-seq peaks: 98030\n",
            "\n"
          ]
        }
      ]
    },
    {
      "cell_type": "markdown",
      "metadata": {
        "id": "bI2_cp3eMXOP"
      },
      "source": [
        "## Read the fragment size distribution"
      ]
    },
    {
      "cell_type": "code",
      "metadata": {
        "colab": {
          "base_uri": "https://localhost:8080/"
        },
        "id": "0bEeBNRKMGuR",
        "outputId": "f2ee1731-3b0c-4e61-ec2d-92cf7dbd77e9"
      },
      "source": [
        "df <- do.call('rbind', lapply(1:length(local_bam_files), function(i){\n",
        "  d <- read_fragment_size_profile(filename = local_bam_files[i], genome = BSgenome.Mmusculus.UCSC.mm10, fragment_size_range = c(0L, 2000L), fragment_size_interval = 1L)\n",
        "  cbind(d, sample = names(local_bam_files)[i])\n",
        "}))"
      ],
      "execution_count": 137,
      "outputs": [
        {
          "output_type": "stream",
          "name": "stderr",
          "text": [
            "read_bam | reading ./gongx030/datasets/dataset=Etv2ATAC_version=20190228b/EB_Dox_D25.bam\n",
            "\n",
            "read_bam | reading ./gongx030/datasets/dataset=Etv2ATAC_version=20190228b/EB_Dox_D25_Flk1pos.bam\n",
            "\n",
            "read_bam | reading ./gongx030/datasets/dataset=Etv2ATAC_version=20190228b/MEF_Dox_D7.bam\n",
            "\n",
            "read_bam | reading ./gongx030/datasets/dataset=Etv2ATAC_version=20190228b/MEF_Dox_D7_Flk1pos.bam\n",
            "\n"
          ]
        }
      ]
    },
    {
      "cell_type": "code",
      "metadata": {
        "colab": {
          "base_uri": "https://localhost:8080/",
          "height": 351
        },
        "id": "WUv6ynW5OLCr",
        "outputId": "3662aa02-d66c-4e60-ebb7-b5a07d53d630"
      },
      "source": [
        "options(repr.plot.width = 10, repr.plot.height = 5)\n",
        "df %>% \n",
        "  mutate(group = gsub('_Flk1pos', '', sample), Flk1pos = grepl('Flk1pos', sample)) %>%\n",
        "  filter(prob > 1e-5) %>%\n",
        "  ggplot(aes(x = fragment_size, y = prob, color = Flk1pos)) +\n",
        "    geom_line(size = 1) +\n",
        "    facet_grid(. ~ group) +\n",
        "    scale_y_log10() +\n",
        "    xlim(0, 640L) +\n",
        "    scale_color_manual(values = c('TRUE' = 'red', 'FALSE' = 'black'))"
      ],
      "execution_count": 138,
      "outputs": [
        {
          "output_type": "stream",
          "name": "stderr",
          "text": [
            "Warning message:\n",
            "“Removed 587 row(s) containing missing values (geom_path).”\n"
          ]
        },
        {
          "output_type": "display_data",
          "data": {
            "image/png": "[encoded data removed]",
            "text/plain": [
              "plot without title"
            ]
          },
          "metadata": {
            "image/png": {
              "width": 600,
              "height": 300
            }
          }
        }
      ]
    },
    {
      "cell_type": "markdown",
      "metadata": {
        "id": "x1s6YqbqLk4D"
      },
      "source": [
        "## Identify Etv2 motifs"
      ]
    },
    {
      "cell_type": "code",
      "metadata": {
        "id": "_JK-9LbsLk4E"
      },
      "source": [
        "data('homer_pwms') # 321 TF motifs from Homer database\n",
        "Etv2_canonical <- homer_pwms['Etv2(ETS)/ES-ER71-ChIP-Seq(GSE59402)/Homer(0.967)']\n",
        "gr <- matchMotifs(\n",
        "  Etv2_canonical,\n",
        "  reduce(gr0),\n",
        "  genome = BSgenome.Mmusculus.UCSC.mm10,\n",
        "  out = 'positions'\n",
        ")[[1]]"
      ],
      "execution_count": 107,
      "outputs": []
    },
    {
      "cell_type": "code",
      "metadata": {
        "colab": {
          "base_uri": "https://localhost:8080/"
        },
        "id": "Repup1I-LuHc",
        "outputId": "3a773f48-e448-4fff-ca03-bae59bd9d03d"
      },
      "source": [
        "sprintf('number of Etv2 motifs: %d', length(gr)) %>% message()"
      ],
      "execution_count": 108,
      "outputs": [
        {
          "output_type": "stream",
          "name": "stderr",
          "text": [
            "number of Etv2 motifs: 27066\n",
            "\n"
          ]
        }
      ]
    },
    {
      "cell_type": "code",
      "metadata": {
        "id": "PCdJAzpKP54m"
      },
      "source": [
        "gr <- resize(gr, fix = 'center', width = ARGS[['block_size']])"
      ],
      "execution_count": 109,
      "outputs": []
    },
    {
      "cell_type": "markdown",
      "metadata": {
        "id": "hfIkzuQ_3xz4"
      },
      "source": [
        "## Read Vplots"
      ]
    },
    {
      "cell_type": "code",
      "metadata": {
        "colab": {
          "base_uri": "https://localhost:8080/"
        },
        "id": "oBDyW_644EM3",
        "outputId": "3154b7cc-2ce1-4e5c-a991-9c9afb034ca1"
      },
      "source": [
        "x <- read_vplot(gr, filenames = local_bam_files, genome = BSgenome.Mmusculus.UCSC.mm10, bin_size = ARGS[['bin_size']], fragment_size_range = c(0, ARGS[['fragment_size_range_max']]), fragment_size_interval = ARGS[['fragment_size_interval']])"
      ],
      "execution_count": 110,
      "outputs": [
        {
          "output_type": "stream",
          "name": "stderr",
          "text": [
            "read_bam | reading ./gongx030/datasets/dataset=Etv2ATAC_version=20190228b/EB_Dox_D25.bam\n",
            "\n",
            "read_bam | reading ./gongx030/datasets/dataset=Etv2ATAC_version=20190228b/EB_Dox_D25_Flk1pos.bam\n",
            "\n",
            "read_bam | reading ./gongx030/datasets/dataset=Etv2ATAC_version=20190228b/MEF_Dox_D7.bam\n",
            "\n",
            "read_bam | reading ./gongx030/datasets/dataset=Etv2ATAC_version=20190228b/MEF_Dox_D7_Flk1pos.bam\n",
            "\n"
          ]
        }
      ]
    },
    {
      "cell_type": "markdown",
      "metadata": {
        "id": "SOwYANDMCLXh"
      },
      "source": [
        "## Plot Vplots"
      ]
    },
    {
      "cell_type": "code",
      "metadata": {
        "colab": {
          "base_uri": "https://localhost:8080/",
          "height": 521
        },
        "id": "iBEc7dCj6g2E",
        "outputId": "534a24ba-a9ca-45ba-a870-4ea7170a7605"
      },
      "source": [
        "options(repr.plot.width = 20, repr.plot.height = 5)\n",
        "par(mfrow = c(1, 4))\n",
        "vplot(x[rowData(x)$batch == 'EB_Dox_D25'])\n",
        "vplot(x[rowData(x)$batch == 'EB_Dox_D25_Flk1pos'])\n",
        "vplot(x[rowData(x)$batch == 'MEF_Dox_D7'])\n",
        "vplot(x[rowData(x)$batch == 'MEF_Dox_D7_Flk1pos'])"
      ],
      "execution_count": 118,
      "outputs": [
        {
          "output_type": "stream",
          "name": "stderr",
          "text": [
            "dimnames(.) <- NULL:  translated to \n",
            "dimnames(.) <- list(NULL,NULL)  <==>  unname(.)\n",
            "\n",
            "dimnames(.) <- NULL:  translated to \n",
            "dimnames(.) <- list(NULL,NULL)  <==>  unname(.)\n",
            "\n",
            "dimnames(.) <- NULL:  translated to \n",
            "dimnames(.) <- list(NULL,NULL)  <==>  unname(.)\n",
            "\n",
            "dimnames(.) <- NULL:  translated to \n",
            "dimnames(.) <- list(NULL,NULL)  <==>  unname(.)\n",
            "\n"
          ]
        },
        {
          "output_type": "display_data",
          "data": {
            "image/png": "[encoded data removed]",
            "text/plain": [
              "plot without title"
            ]
          },
          "metadata": {
            "image/png": {
              "width": 1200,
              "height": 300
            }
          }
        }
      ]
    },
    {
      "cell_type": "markdown",
      "metadata": {
        "id": "wjg4jMFjHz_P"
      },
      "source": [
        "## SessionInfo"
      ]
    },
    {
      "cell_type": "code",
      "metadata": {
        "id": "1O6H0QYdIBSN",
        "colab": {
          "base_uri": "https://localhost:8080/",
          "height": 1000
        },
        "outputId": "badcd5c6-a70a-4db5-dc78-5c6c98d9a26b"
      },
      "source": [
        "sessionInfo()"
      ],
      "execution_count": 139,
      "outputs": [
        {
          "output_type": "display_data",
          "data": {
            "text/plain": [
              "R version 4.1.1 (2021-08-10)\n",
              "Platform: x86_64-pc-linux-gnu (64-bit)\n",
              "Running under: Ubuntu 18.04.5 LTS\n",
              "\n",
              "Matrix products: default\n",
              "BLAS:   /usr/lib/x86_64-linux-gnu/openblas/libblas.so.3\n",
              "LAPACK: /usr/lib/x86_64-linux-gnu/libopenblasp-r0.2.20.so\n",
              "\n",
              "locale:\n",
              " [1] LC_CTYPE=en_US.UTF-8       LC_NUMERIC=C              \n",
              " [3] LC_TIME=en_US.UTF-8        LC_COLLATE=en_US.UTF-8    \n",
              " [5] LC_MONETARY=en_US.UTF-8    LC_MESSAGES=en_US.UTF-8   \n",
              " [7] LC_PAPER=en_US.UTF-8       LC_NAME=C                 \n",
              " [9] LC_ADDRESS=C               LC_TELEPHONE=C            \n",
              "[11] LC_MEASUREMENT=en_US.UTF-8 LC_IDENTIFICATION=C       \n",
              "\n",
              "attached base packages:\n",
              "[1] parallel  stats4    stats     graphics  grDevices utils     datasets \n",
              "[8] methods   base     \n",
              "\n",
              "other attached packages:\n",
              " [1] seatac_0.3.33                            \n",
              " [2] reshape2_1.4.4                           \n",
              " [3] patchwork_1.1.1                          \n",
              " [4] ggplot2_3.3.5                            \n",
              " [5] Matrix_1.3-4                             \n",
              " [6] cccd_1.5                                 \n",
              " [7] igraph_1.2.6                             \n",
              " [8] chromVARmotifs_0.2.0                     \n",
              " [9] motifmatchr_1.14.0                       \n",
              "[10] dplyr_1.0.7                              \n",
              "[11] TxDb.Mmusculus.UCSC.mm10.knownGene_3.10.0\n",
              "[12] GenomicFeatures_1.44.2                   \n",
              "[13] AnnotationDbi_1.54.1                     \n",
              "[14] BSgenome.Mmusculus.UCSC.mm10_1.4.0       \n",
              "[15] BSgenome_1.60.0                          \n",
              "[16] rtracklayer_1.52.1                       \n",
              "[17] Biostrings_2.60.2                        \n",
              "[18] XVector_0.32.0                           \n",
              "[19] SummarizedExperiment_1.22.0              \n",
              "[20] Biobase_2.52.0                           \n",
              "[21] MatrixGenerics_1.4.3                     \n",
              "[22] matrixStats_0.61.0                       \n",
              "[23] GenomicRanges_1.44.0                     \n",
              "[24] GenomeInfoDb_1.28.4                      \n",
              "[25] IRanges_2.26.0                           \n",
              "[26] S4Vectors_0.30.2                         \n",
              "[27] BiocGenerics_0.38.0                      \n",
              "[28] tfdatasets_2.6.0                         \n",
              "[29] tfprobability_0.12.0.0                   \n",
              "[30] tensorflow_2.6.0                         \n",
              "[31] devtools_2.4.2                           \n",
              "[32] usethis_2.0.1                            \n",
              "\n",
              "loaded via a namespace (and not attached):\n",
              "  [1] uuid_0.1-4                  BiocFileCache_2.0.0        \n",
              "  [3] plyr_1.8.6                  repr_1.1.3                 \n",
              "  [5] BiocParallel_1.26.2         tfruns_1.5.0               \n",
              "  [7] TFBSTools_1.30.0            digest_0.6.27              \n",
              "  [9] htmltools_0.5.2             GO.db_3.13.0               \n",
              " [11] fansi_0.5.0                 magrittr_2.0.1             \n",
              " [13] memoise_2.0.0               tzdb_0.1.2                 \n",
              " [15] remotes_2.4.0               readr_2.0.2                \n",
              " [17] annotate_1.70.0             R.utils_2.11.0             \n",
              " [19] prettyunits_1.1.1           colorspace_2.0-2           \n",
              " [21] blob_1.2.2                  rappdirs_0.3.3             \n",
              " [23] callr_3.7.0                 crayon_1.4.1               \n",
              " [25] RCurl_1.98-1.5              jsonlite_1.7.2             \n",
              " [27] TFMPvalue_0.0.8             zeallot_0.1.0              \n",
              " [29] glue_1.4.2                  gtable_0.3.0               \n",
              " [31] zlibbioc_1.38.0             DelayedArray_0.18.0        \n",
              " [33] pkgbuild_1.2.0              abind_1.4-5                \n",
              " [35] scales_1.1.1                DBI_1.1.1                  \n",
              " [37] Rcpp_1.0.7                  xtable_1.8-4               \n",
              " [39] progress_1.2.2              reticulate_1.22            \n",
              " [41] proxy_0.4-26                bit_4.0.4                  \n",
              " [43] httr_1.4.2                  FNN_1.1.3                  \n",
              " [45] gplots_3.1.1                ellipsis_0.3.2             \n",
              " [47] farver_2.1.0                pkgconfig_2.0.3            \n",
              " [49] XML_3.99-0.8                R.methodsS3_1.8.1          \n",
              " [51] deldir_1.0-5                dbplyr_2.1.1               \n",
              " [53] here_1.0.1                  utf8_1.2.2                 \n",
              " [55] labeling_0.4.2              tidyselect_1.1.1           \n",
              " [57] rlang_0.4.11                munsell_0.5.0              \n",
              " [59] tools_4.1.1                 cachem_1.0.6               \n",
              " [61] cli_3.0.1                   DirichletMultinomial_1.34.0\n",
              " [63] generics_0.1.0              RSQLite_2.2.8              \n",
              " [65] evaluate_0.14               stringr_1.4.0              \n",
              " [67] fastmap_1.1.0               yaml_2.2.1                 \n",
              " [69] processx_3.5.2              bit64_4.0.5                \n",
              " [71] fs_1.5.0                    caTools_1.18.2             \n",
              " [73] purrr_0.3.4                 KEGGREST_1.32.0            \n",
              " [75] whisker_0.4                 R.oo_1.24.0                \n",
              " [77] poweRlaw_0.70.6             pracma_2.3.3               \n",
              " [79] xml2_1.3.2                  biomaRt_2.48.3             \n",
              " [81] compiler_4.1.1              filelock_1.0.2             \n",
              " [83] curl_4.3.2                  png_0.1-7                  \n",
              " [85] testthat_3.0.4              tibble_3.1.5               \n",
              " [87] stringi_1.7.5               ps_1.6.0                   \n",
              " [89] desc_1.3.0                  lattice_0.20-45            \n",
              " [91] IRdisplay_1.0               CNEr_1.28.0                \n",
              " [93] keras_2.6.1                 vctrs_0.3.8                \n",
              " [95] pillar_1.6.2                lifecycle_1.0.0            \n",
              " [97] BiocManager_1.30.16         bitops_1.0-7               \n",
              " [99] R6_2.5.1                    BiocIO_1.2.0               \n",
              "[101] KernSmooth_2.23-20          sessioninfo_1.1.1          \n",
              "[103] gtools_3.9.2                assertthat_0.2.1           \n",
              "[105] seqLogo_1.58.0              pkgload_1.2.2              \n",
              "[107] rprojroot_2.0.2             rjson_0.2.20               \n",
              "[109] withr_2.4.2                 GenomicAlignments_1.28.0   \n",
              "[111] Rsamtools_2.8.0             GenomeInfoDbData_1.2.6     \n",
              "[113] hms_1.1.1                   grid_4.1.1                 \n",
              "[115] IRkernel_1.2                pbdZMQ_0.3-5               \n",
              "[117] base64enc_0.1-3             restfulr_0.0.13            "
            ]
          },
          "metadata": {}
        }
      ]
    },
    {
      "cell_type": "code",
      "metadata": {
        "id": "-4pQeVrGHxXr",
        "colab": {
          "base_uri": "https://localhost:8080/",
          "height": 34
        },
        "outputId": "76212007-e9d3-4d7c-dd15-251c4b2861a4"
      },
      "source": [
        "Sys.time() - start_time"
      ],
      "execution_count": null,
      "outputs": [
        {
          "output_type": "display_data",
          "data": {
            "text/plain": [
              "Time difference of 1.716737 hours"
            ]
          },
          "metadata": {}
        }
      ]
    }
  ]
}