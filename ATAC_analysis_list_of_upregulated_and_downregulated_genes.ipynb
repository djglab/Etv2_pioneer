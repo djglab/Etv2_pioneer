{
  "nbformat": 4,
  "nbformat_minor": 0,
  "metadata": {
    "kernelspec": {
      "display_name": "R",
      "language": "R",
      "name": "ir"
    },
    "language_info": {
      "codemirror_mode": "r",
      "file_extension": ".r",
      "mimetype": "text/x-r-source",
      "name": "R",
      "pygments_lexer": "r",
      "version": "3.3.1"
    },
    "colab": {
      "name": "ATAC_analysis_list_of_upregulated_and_downregulated_genes.ipynb",
      "provenance": [],
      "collapsed_sections": [],
      "machine_shape": "hm",
      "include_colab_link": true
    },
    "accelerator": "GPU"
  },
  "cells": [
    {
      "cell_type": "markdown",
      "metadata": {
        "id": "view-in-github",
        "colab_type": "text"
      },
      "source": [
        "<a href=\"https://colab.research.google.com/github/gongx030/Etv2_pioneer/blob/master/ATAC_analysis_list_of_upregulated_and_downregulated_genes.ipynb\" target=\"_parent\"><img src=\"https://colab.research.google.com/assets/colab-badge.svg\" alt=\"Open In Colab\"/></a>"
      ]
    },
    {
      "cell_type": "markdown",
      "metadata": {
        "id": "4TLq2MbDD3zq"
      },
      "source": [
        "# Analysis of ATAC-seq data and combined ATAC-seq/RNA-seq of Etv2 induced MEF reprogramming and ES/EB differentiation\n",
        "\n"
      ]
    },
    {
      "cell_type": "code",
      "metadata": {
        "id": "6OhqEEeZHroa"
      },
      "source": [
        "start_time0 <- Sys.time()"
      ],
      "execution_count": 1,
      "outputs": []
    },
    {
      "cell_type": "markdown",
      "metadata": {
        "id": "wFuTF2MUEiAk"
      },
      "source": [
        "## Install R packages"
      ]
    },
    {
      "cell_type": "code",
      "metadata": {
        "id": "b3J0sAX6ZKyi",
        "colab": {
          "base_uri": "https://localhost:8080/",
          "height": 191
        },
        "outputId": "3b14ffab-fb2b-4175-81a4-028bf95c77c3"
      },
      "source": [
        "system('apt-get -q install libgsl-dev', intern = TRUE)"
      ],
      "execution_count": 2,
      "outputs": [
        {
          "output_type": "display_data",
          "data": {
            "text/plain": [
              " [1] \"Reading package lists...\"                                                                                                                                                                                                                                                                                                                                                                                                                                                                                                                                                                                                                                      \n",
              " [2] \"Building dependency tree...\"                                                                                                                                                                                                                                                                                                                                                                                                                                                                                                                                                                                                                                   \n",
              " [3] \"Reading state information...\"                                                                                                                                                                                                                                                                                                                                                                                                                                                                                                                                                                                                                                  \n",
              " [4] \"The following additional packages will be installed:\"                                                                                                                                                                                                                                                                                                                                                                                                                                                                                                                                                                                                          \n",
              " [5] \"  libgsl23 libgslcblas0\"                                                                                                                                                                                                                                                                                                                                                                                                                                                                                                                                                                                                                                       \n",
              " [6] \"Suggested packages:\"                                                                                                                                                                                                                                                                                                                                                                                                                                                                                                                                                                                                                                           \n",
              " [7] \"  gsl-ref-psdoc | gsl-doc-pdf | gsl-doc-info | gsl-ref-html\"                                                                                                                                                                                                                                                                                                                                                                                                                                                                                                                                                                                                   \n",
              " [8] \"The following NEW packages will be installed:\"                                                                                                                                                                                                                                                                                                                                                                                                                                                                                                                                                                                                                 \n",
              " [9] \"  libgsl-dev libgsl23 libgslcblas0\"                                                                                                                                                                                                                                                                                                                                                                                                                                                                                                                                                                                                                            \n",
              "[10] \"0 upgraded, 3 newly installed, 0 to remove and 37 not upgraded.\"                                                                                                                                                                                                                                                                                                                                                                                                                                                                                                                                                                                               \n",
              "[11] \"Need to get 1,926 kB of archives.\"                                                                                                                                                                                                                                                                                                                                                                                                                                                                                                                                                                                                                             \n",
              "[12] \"After this operation, 9,474 kB of additional disk space will be used.\"                                                                                                                                                                                                                                                                                                                                                                                                                                                                                                                                                                                         \n",
              "[13] \"Get:1 http://archive.ubuntu.com/ubuntu bionic/universe amd64 libgslcblas0 amd64 2.4+dfsg-6 [79.7 kB]\"                                                                                                                                                                                                                                                                                                                                                                                                                                                                                                                                                          \n",
              "[14] \"Get:2 http://archive.ubuntu.com/ubuntu bionic/universe amd64 libgsl23 amd64 2.4+dfsg-6 [823 kB]\"                                                                                                                                                                                                                                                                                                                                                                                                                                                                                                                                                               \n",
              "[15] \"Get:3 http://archive.ubuntu.com/ubuntu bionic/universe amd64 libgsl-dev amd64 2.4+dfsg-6 [1,023 kB]\"                                                                                                                                                                                                                                                                                                                                                                                                                                                                                                                                                           \n",
              "[16] \"Fetched 1,926 kB in 2s (1,201 kB/s)\"                                                                                                                                                                                                                                                                                                                                                                                                                                                                                                                                                                                                                           \n",
              "[17] \"Selecting previously unselected package libgslcblas0:amd64.\\r\"                                                                                                                                                                                                                                                                                                                                                                                                                                                                                                                                                                                                 \n",
              "[18] \"(Reading database ... \\r(Reading database ... 5%\\r(Reading database ... 10%\\r(Reading database ... 15%\\r(Reading database ... 20%\\r(Reading database ... 25%\\r(Reading database ... 30%\\r(Reading database ... 35%\\r(Reading database ... 40%\\r(Reading database ... 45%\\r(Reading database ... 50%\\r(Reading database ... 55%\\r(Reading database ... 60%\\r(Reading database ... 65%\\r(Reading database ... 70%\\r(Reading database ... 75%\\r(Reading database ... 80%\\r(Reading database ... 85%\\r(Reading database ... 90%\\r(Reading database ... 95%\\r(Reading database ... 100%\\r(Reading database ... 155047 files and directories currently installed.)\\r\"\n",
              "[19] \"Preparing to unpack .../libgslcblas0_2.4+dfsg-6_amd64.deb ...\\r\"                                                                                                                                                                                                                                                                                                                                                                                                                                                                                                                                                                                               \n",
              "[20] \"Unpacking libgslcblas0:amd64 (2.4+dfsg-6) ...\\r\"                                                                                                                                                                                                                                                                                                                                                                                                                                                                                                                                                                                                               \n",
              "[21] \"Selecting previously unselected package libgsl23:amd64.\\r\"                                                                                                                                                                                                                                                                                                                                                                                                                                                                                                                                                                                                     \n",
              "[22] \"Preparing to unpack .../libgsl23_2.4+dfsg-6_amd64.deb ...\\r\"                                                                                                                                                                                                                                                                                                                                                                                                                                                                                                                                                                                                   \n",
              "[23] \"Unpacking libgsl23:amd64 (2.4+dfsg-6) ...\\r\"                                                                                                                                                                                                                                                                                                                                                                                                                                                                                                                                                                                                                   \n",
              "[24] \"Selecting previously unselected package libgsl-dev.\\r\"                                                                                                                                                                                                                                                                                                                                                                                                                                                                                                                                                                                                         \n",
              "[25] \"Preparing to unpack .../libgsl-dev_2.4+dfsg-6_amd64.deb ...\\r\"                                                                                                                                                                                                                                                                                                                                                                                                                                                                                                                                                                                                 \n",
              "[26] \"Unpacking libgsl-dev (2.4+dfsg-6) ...\\r\"                                                                                                                                                                                                                                                                                                                                                                                                                                                                                                                                                                                                                       \n",
              "[27] \"Setting up libgslcblas0:amd64 (2.4+dfsg-6) ...\\r\"                                                                                                                                                                                                                                                                                                                                                                                                                                                                                                                                                                                                              \n",
              "[28] \"Setting up libgsl23:amd64 (2.4+dfsg-6) ...\\r\"                                                                                                                                                                                                                                                                                                                                                                                                                                                                                                                                                                                                                  \n",
              "[29] \"Setting up libgsl-dev (2.4+dfsg-6) ...\\r\"                                                                                                                                                                                                                                                                                                                                                                                                                                                                                                                                                                                                                      \n",
              "[30] \"Processing triggers for man-db (2.8.3-2ubuntu0.1) ...\\r\"                                                                                                                                                                                                                                                                                                                                                                                                                                                                                                                                                                                                       \n",
              "[31] \"Processing triggers for libc-bin (2.27-3ubuntu1.3) ...\\r\"                                                                                                                                                                                                                                                                                                                                                                                                                                                                                                                                                                                                      \n",
              "[32] \"/sbin/ldconfig.real: /usr/local/lib/python3.7/dist-packages/ideep4py/lib/libmkldnn.so.0 is not a symbolic link\\r\"                                                                                                                                                                                                                                                                                                                                                                                                                                                                                                                                              \n",
              "[33] \"\\r\"                                                                                                                                                                                                                                                                                                                                                                                                                                                                                                                                                                                                                                                            "
            ],
            "text/latex": "\\begin{enumerate*}\n\\item 'Reading package lists...'\n\\item 'Building dependency tree...'\n\\item 'Reading state information...'\n\\item 'The following additional packages will be installed:'\n\\item '  libgsl23 libgslcblas0'\n\\item 'Suggested packages:'\n\\item '  gsl-ref-psdoc \\textbar{} gsl-doc-pdf \\textbar{} gsl-doc-info \\textbar{} gsl-ref-html'\n\\item 'The following NEW packages will be installed:'\n\\item '  libgsl-dev libgsl23 libgslcblas0'\n\\item '0 upgraded, 3 newly installed, 0 to remove and 37 not upgraded.'\n\\item 'Need to get 1,926 kB of archives.'\n\\item 'After this operation, 9,474 kB of additional disk space will be used.'\n\\item 'Get:1 http://archive.ubuntu.com/ubuntu bionic/universe amd64 libgslcblas0 amd64 2.4+dfsg-6 {[}79.7 kB{]}'\n\\item 'Get:2 http://archive.ubuntu.com/ubuntu bionic/universe amd64 libgsl23 amd64 2.4+dfsg-6 {[}823 kB{]}'\n\\item 'Get:3 http://archive.ubuntu.com/ubuntu bionic/universe amd64 libgsl-dev amd64 2.4+dfsg-6 {[}1,023 kB{]}'\n\\item 'Fetched 1,926 kB in 2s (1,201 kB/s)'\n\\item 'Selecting previously unselected package libgslcblas0:amd64.\\textbackslash{}r'\n\\item '(Reading database ... \\textbackslash{}r(Reading database ... 5\\%\\textbackslash{}r(Reading database ... 10\\%\\textbackslash{}r(Reading database ... 15\\%\\textbackslash{}r(Reading database ... 20\\%\\textbackslash{}r(Reading database ... 25\\%\\textbackslash{}r(Reading database ... 30\\%\\textbackslash{}r(Reading database ... 35\\%\\textbackslash{}r(Reading database ... 40\\%\\textbackslash{}r(Reading database ... 45\\%\\textbackslash{}r(Reading database ... 50\\%\\textbackslash{}r(Reading database ... 55\\%\\textbackslash{}r(Reading database ... 60\\%\\textbackslash{}r(Reading database ... 65\\%\\textbackslash{}r(Reading database ... 70\\%\\textbackslash{}r(Reading database ... 75\\%\\textbackslash{}r(Reading database ... 80\\%\\textbackslash{}r(Reading database ... 85\\%\\textbackslash{}r(Reading database ... 90\\%\\textbackslash{}r(Reading database ... 95\\%\\textbackslash{}r(Reading database ... 100\\%\\textbackslash{}r(Reading database ... 155047 files and directories currently installed.)\\textbackslash{}r'\n\\item 'Preparing to unpack .../libgslcblas0\\_2.4+dfsg-6\\_amd64.deb ...\\textbackslash{}r'\n\\item 'Unpacking libgslcblas0:amd64 (2.4+dfsg-6) ...\\textbackslash{}r'\n\\item 'Selecting previously unselected package libgsl23:amd64.\\textbackslash{}r'\n\\item 'Preparing to unpack .../libgsl23\\_2.4+dfsg-6\\_amd64.deb ...\\textbackslash{}r'\n\\item 'Unpacking libgsl23:amd64 (2.4+dfsg-6) ...\\textbackslash{}r'\n\\item 'Selecting previously unselected package libgsl-dev.\\textbackslash{}r'\n\\item 'Preparing to unpack .../libgsl-dev\\_2.4+dfsg-6\\_amd64.deb ...\\textbackslash{}r'\n\\item 'Unpacking libgsl-dev (2.4+dfsg-6) ...\\textbackslash{}r'\n\\item 'Setting up libgslcblas0:amd64 (2.4+dfsg-6) ...\\textbackslash{}r'\n\\item 'Setting up libgsl23:amd64 (2.4+dfsg-6) ...\\textbackslash{}r'\n\\item 'Setting up libgsl-dev (2.4+dfsg-6) ...\\textbackslash{}r'\n\\item 'Processing triggers for man-db (2.8.3-2ubuntu0.1) ...\\textbackslash{}r'\n\\item 'Processing triggers for libc-bin (2.27-3ubuntu1.3) ...\\textbackslash{}r'\n\\item '/sbin/ldconfig.real: /usr/local/lib/python3.7/dist-packages/ideep4py/lib/libmkldnn.so.0 is not a symbolic link\\textbackslash{}r'\n\\item '\\textbackslash{}r'\n\\end{enumerate*}\n",
            "text/markdown": "1. 'Reading package lists...'\n2. 'Building dependency tree...'\n3. 'Reading state information...'\n4. 'The following additional packages will be installed:'\n5. <span style=white-space:pre-wrap>'  libgsl23 libgslcblas0'</span>\n6. 'Suggested packages:'\n7. <span style=white-space:pre-wrap>'  gsl-ref-psdoc | gsl-doc-pdf | gsl-doc-info | gsl-ref-html'</span>\n8. 'The following NEW packages will be installed:'\n9. <span style=white-space:pre-wrap>'  libgsl-dev libgsl23 libgslcblas0'</span>\n10. '0 upgraded, 3 newly installed, 0 to remove and 37 not upgraded.'\n11. 'Need to get 1,926 kB of archives.'\n12. 'After this operation, 9,474 kB of additional disk space will be used.'\n13. 'Get:1 http://archive.ubuntu.com/ubuntu bionic/universe amd64 libgslcblas0 amd64 2.4+dfsg-6 [79.7 kB]'\n14. 'Get:2 http://archive.ubuntu.com/ubuntu bionic/universe amd64 libgsl23 amd64 2.4+dfsg-6 [823 kB]'\n15. 'Get:3 http://archive.ubuntu.com/ubuntu bionic/universe amd64 libgsl-dev amd64 2.4+dfsg-6 [1,023 kB]'\n16. 'Fetched 1,926 kB in 2s (1,201 kB/s)'\n17. 'Selecting previously unselected package libgslcblas0:amd64.\\r'\n18. '(Reading database ... \\r(Reading database ... 5%\\r(Reading database ... 10%\\r(Reading database ... 15%\\r(Reading database ... 20%\\r(Reading database ... 25%\\r(Reading database ... 30%\\r(Reading database ... 35%\\r(Reading database ... 40%\\r(Reading database ... 45%\\r(Reading database ... 50%\\r(Reading database ... 55%\\r(Reading database ... 60%\\r(Reading database ... 65%\\r(Reading database ... 70%\\r(Reading database ... 75%\\r(Reading database ... 80%\\r(Reading database ... 85%\\r(Reading database ... 90%\\r(Reading database ... 95%\\r(Reading database ... 100%\\r(Reading database ... 155047 files and directories currently installed.)\\r'\n19. 'Preparing to unpack .../libgslcblas0_2.4+dfsg-6_amd64.deb ...\\r'\n20. 'Unpacking libgslcblas0:amd64 (2.4+dfsg-6) ...\\r'\n21. 'Selecting previously unselected package libgsl23:amd64.\\r'\n22. 'Preparing to unpack .../libgsl23_2.4+dfsg-6_amd64.deb ...\\r'\n23. 'Unpacking libgsl23:amd64 (2.4+dfsg-6) ...\\r'\n24. 'Selecting previously unselected package libgsl-dev.\\r'\n25. 'Preparing to unpack .../libgsl-dev_2.4+dfsg-6_amd64.deb ...\\r'\n26. 'Unpacking libgsl-dev (2.4+dfsg-6) ...\\r'\n27. 'Setting up libgslcblas0:amd64 (2.4+dfsg-6) ...\\r'\n28. 'Setting up libgsl23:amd64 (2.4+dfsg-6) ...\\r'\n29. 'Setting up libgsl-dev (2.4+dfsg-6) ...\\r'\n30. 'Processing triggers for man-db (2.8.3-2ubuntu0.1) ...\\r'\n31. 'Processing triggers for libc-bin (2.27-3ubuntu1.3) ...\\r'\n32. '/sbin/ldconfig.real: /usr/local/lib/python3.7/dist-packages/ideep4py/lib/libmkldnn.so.0 is not a symbolic link\\r'\n33. '\\r'\n\n\n",
            "text/html": [
              "<style>\n",
              ".list-inline {list-style: none; margin:0; padding: 0}\n",
              ".list-inline>li {display: inline-block}\n",
              ".list-inline>li:not(:last-child)::after {content: \"\\00b7\"; padding: 0 .5ex}\n",
              "</style>\n",
              "<ol class=list-inline><li>'Reading package lists...'</li><li>'Building dependency tree...'</li><li>'Reading state information...'</li><li>'The following additional packages will be installed:'</li><li><span style=white-space:pre-wrap>'  libgsl23 libgslcblas0'</span></li><li>'Suggested packages:'</li><li><span style=white-space:pre-wrap>'  gsl-ref-psdoc | gsl-doc-pdf | gsl-doc-info | gsl-ref-html'</span></li><li>'The following NEW packages will be installed:'</li><li><span style=white-space:pre-wrap>'  libgsl-dev libgsl23 libgslcblas0'</span></li><li>'0 upgraded, 3 newly installed, 0 to remove and 37 not upgraded.'</li><li>'Need to get 1,926 kB of archives.'</li><li>'After this operation, 9,474 kB of additional disk space will be used.'</li><li>'Get:1 http://archive.ubuntu.com/ubuntu bionic/universe amd64 libgslcblas0 amd64 2.4+dfsg-6 [79.7 kB]'</li><li>'Get:2 http://archive.ubuntu.com/ubuntu bionic/universe amd64 libgsl23 amd64 2.4+dfsg-6 [823 kB]'</li><li>'Get:3 http://archive.ubuntu.com/ubuntu bionic/universe amd64 libgsl-dev amd64 2.4+dfsg-6 [1,023 kB]'</li><li>'Fetched 1,926 kB in 2s (1,201 kB/s)'</li><li>'Selecting previously unselected package libgslcblas0:amd64.\\r'</li><li>'(Reading database ... \\r(Reading database ... 5%\\r(Reading database ... 10%\\r(Reading database ... 15%\\r(Reading database ... 20%\\r(Reading database ... 25%\\r(Reading database ... 30%\\r(Reading database ... 35%\\r(Reading database ... 40%\\r(Reading database ... 45%\\r(Reading database ... 50%\\r(Reading database ... 55%\\r(Reading database ... 60%\\r(Reading database ... 65%\\r(Reading database ... 70%\\r(Reading database ... 75%\\r(Reading database ... 80%\\r(Reading database ... 85%\\r(Reading database ... 90%\\r(Reading database ... 95%\\r(Reading database ... 100%\\r(Reading database ... 155047 files and directories currently installed.)\\r'</li><li>'Preparing to unpack .../libgslcblas0_2.4+dfsg-6_amd64.deb ...\\r'</li><li>'Unpacking libgslcblas0:amd64 (2.4+dfsg-6) ...\\r'</li><li>'Selecting previously unselected package libgsl23:amd64.\\r'</li><li>'Preparing to unpack .../libgsl23_2.4+dfsg-6_amd64.deb ...\\r'</li><li>'Unpacking libgsl23:amd64 (2.4+dfsg-6) ...\\r'</li><li>'Selecting previously unselected package libgsl-dev.\\r'</li><li>'Preparing to unpack .../libgsl-dev_2.4+dfsg-6_amd64.deb ...\\r'</li><li>'Unpacking libgsl-dev (2.4+dfsg-6) ...\\r'</li><li>'Setting up libgslcblas0:amd64 (2.4+dfsg-6) ...\\r'</li><li>'Setting up libgsl23:amd64 (2.4+dfsg-6) ...\\r'</li><li>'Setting up libgsl-dev (2.4+dfsg-6) ...\\r'</li><li>'Processing triggers for man-db (2.8.3-2ubuntu0.1) ...\\r'</li><li>'Processing triggers for libc-bin (2.27-3ubuntu1.3) ...\\r'</li><li>'/sbin/ldconfig.real: /usr/local/lib/python3.7/dist-packages/ideep4py/lib/libmkldnn.so.0 is not a symbolic link\\r'</li><li>'\\r'</li></ol>\n"
            ]
          },
          "metadata": {}
        }
      ]
    },
    {
      "cell_type": "code",
      "metadata": {
        "colab": {
          "base_uri": "https://localhost:8080/",
          "height": 243
        },
        "id": "4VW4YMD8Xjfb",
        "outputId": "d06cd50e-6931-424b-c5fa-aa95c39e3446"
      },
      "source": [
        "system('apt-get install libcairo2-dev', intern = TRUE) # for Cairo package that is required by ComplexHeatmap package"
      ],
      "execution_count": 3,
      "outputs": [
        {
          "output_type": "display_data",
          "data": {
            "text/plain": [
              " [1] \"Reading package lists...\"                                                                                                                                                                                                                                                                                                                                                                                                                                                                                                                                                                                                                                      \n",
              " [2] \"Building dependency tree...\"                                                                                                                                                                                                                                                                                                                                                                                                                                                                                                                                                                                                                                   \n",
              " [3] \"Reading state information...\"                                                                                                                                                                                                                                                                                                                                                                                                                                                                                                                                                                                                                                  \n",
              " [4] \"The following additional packages will be installed:\"                                                                                                                                                                                                                                                                                                                                                                                                                                                                                                                                                                                                          \n",
              " [5] \"  libcairo-script-interpreter2 libpixman-1-dev libxcb-shm0-dev\"                                                                                                                                                                                                                                                                                                                                                                                                                                                                                                                                                                                                \n",
              " [6] \"Suggested packages:\"                                                                                                                                                                                                                                                                                                                                                                                                                                                                                                                                                                                                                                           \n",
              " [7] \"  libcairo2-doc\"                                                                                                                                                                                                                                                                                                                                                                                                                                                                                                                                                                                                                                               \n",
              " [8] \"The following NEW packages will be installed:\"                                                                                                                                                                                                                                                                                                                                                                                                                                                                                                                                                                                                                 \n",
              " [9] \"  libcairo-script-interpreter2 libcairo2-dev libpixman-1-dev libxcb-shm0-dev\"                                                                                                                                                                                                                                                                                                                                                                                                                                                                                                                                                                                  \n",
              "[10] \"0 upgraded, 4 newly installed, 0 to remove and 37 not upgraded.\"                                                                                                                                                                                                                                                                                                                                                                                                                                                                                                                                                                                               \n",
              "[11] \"Need to get 930 kB of archives.\"                                                                                                                                                                                                                                                                                                                                                                                                                                                                                                                                                                                                                               \n",
              "[12] \"After this operation, 3,986 kB of additional disk space will be used.\"                                                                                                                                                                                                                                                                                                                                                                                                                                                                                                                                                                                         \n",
              "[13] \"Get:1 http://archive.ubuntu.com/ubuntu bionic-updates/main amd64 libcairo-script-interpreter2 amd64 1.15.10-2ubuntu0.1 [53.5 kB]\"                                                                                                                                                                                                                                                                                                                                                                                                                                                                                                                              \n",
              "[14] \"Get:2 http://archive.ubuntu.com/ubuntu bionic/main amd64 libpixman-1-dev amd64 0.34.0-2 [244 kB]\"                                                                                                                                                                                                                                                                                                                                                                                                                                                                                                                                                              \n",
              "[15] \"Get:3 http://archive.ubuntu.com/ubuntu bionic-updates/main amd64 libxcb-shm0-dev amd64 1.13-2~ubuntu18.04 [6,684 B]\"                                                                                                                                                                                                                                                                                                                                                                                                                                                                                                                                           \n",
              "[16] \"Get:4 http://archive.ubuntu.com/ubuntu bionic-updates/main amd64 libcairo2-dev amd64 1.15.10-2ubuntu0.1 [626 kB]\"                                                                                                                                                                                                                                                                                                                                                                                                                                                                                                                                              \n",
              "[17] \"Fetched 930 kB in 1s (723 kB/s)\"                                                                                                                                                                                                                                                                                                                                                                                                                                                                                                                                                                                                                               \n",
              "[18] \"Selecting previously unselected package libcairo-script-interpreter2:amd64.\\r\"                                                                                                                                                                                                                                                                                                                                                                                                                                                                                                                                                                                 \n",
              "[19] \"(Reading database ... \\r(Reading database ... 5%\\r(Reading database ... 10%\\r(Reading database ... 15%\\r(Reading database ... 20%\\r(Reading database ... 25%\\r(Reading database ... 30%\\r(Reading database ... 35%\\r(Reading database ... 40%\\r(Reading database ... 45%\\r(Reading database ... 50%\\r(Reading database ... 55%\\r(Reading database ... 60%\\r(Reading database ... 65%\\r(Reading database ... 70%\\r(Reading database ... 75%\\r(Reading database ... 80%\\r(Reading database ... 85%\\r(Reading database ... 90%\\r(Reading database ... 95%\\r(Reading database ... 100%\\r(Reading database ... 155319 files and directories currently installed.)\\r\"\n",
              "[20] \"Preparing to unpack .../libcairo-script-interpreter2_1.15.10-2ubuntu0.1_amd64.deb ...\\r\"                                                                                                                                                                                                                                                                                                                                                                                                                                                                                                                                                                       \n",
              "[21] \"Unpacking libcairo-script-interpreter2:amd64 (1.15.10-2ubuntu0.1) ...\\r\"                                                                                                                                                                                                                                                                                                                                                                                                                                                                                                                                                                                       \n",
              "[22] \"Selecting previously unselected package libpixman-1-dev:amd64.\\r\"                                                                                                                                                                                                                                                                                                                                                                                                                                                                                                                                                                                              \n",
              "[23] \"Preparing to unpack .../libpixman-1-dev_0.34.0-2_amd64.deb ...\\r\"                                                                                                                                                                                                                                                                                                                                                                                                                                                                                                                                                                                              \n",
              "[24] \"Unpacking libpixman-1-dev:amd64 (0.34.0-2) ...\\r\"                                                                                                                                                                                                                                                                                                                                                                                                                                                                                                                                                                                                              \n",
              "[25] \"Selecting previously unselected package libxcb-shm0-dev:amd64.\\r\"                                                                                                                                                                                                                                                                                                                                                                                                                                                                                                                                                                                              \n",
              "[26] \"Preparing to unpack .../libxcb-shm0-dev_1.13-2~ubuntu18.04_amd64.deb ...\\r\"                                                                                                                                                                                                                                                                                                                                                                                                                                                                                                                                                                                    \n",
              "[27] \"Unpacking libxcb-shm0-dev:amd64 (1.13-2~ubuntu18.04) ...\\r\"                                                                                                                                                                                                                                                                                                                                                                                                                                                                                                                                                                                                    \n",
              "[28] \"Selecting previously unselected package libcairo2-dev:amd64.\\r\"                                                                                                                                                                                                                                                                                                                                                                                                                                                                                                                                                                                                \n",
              "[29] \"Preparing to unpack .../libcairo2-dev_1.15.10-2ubuntu0.1_amd64.deb ...\\r\"                                                                                                                                                                                                                                                                                                                                                                                                                                                                                                                                                                                      \n",
              "[30] \"Unpacking libcairo2-dev:amd64 (1.15.10-2ubuntu0.1) ...\\r\"                                                                                                                                                                                                                                                                                                                                                                                                                                                                                                                                                                                                      \n",
              "[31] \"Setting up libcairo-script-interpreter2:amd64 (1.15.10-2ubuntu0.1) ...\\r\"                                                                                                                                                                                                                                                                                                                                                                                                                                                                                                                                                                                      \n",
              "[32] \"Setting up libxcb-shm0-dev:amd64 (1.13-2~ubuntu18.04) ...\\r\"                                                                                                                                                                                                                                                                                                                                                                                                                                                                                                                                                                                                   \n",
              "[33] \"Setting up libpixman-1-dev:amd64 (0.34.0-2) ...\\r\"                                                                                                                                                                                                                                                                                                                                                                                                                                                                                                                                                                                                             \n",
              "[34] \"Setting up libcairo2-dev:amd64 (1.15.10-2ubuntu0.1) ...\\r\"                                                                                                                                                                                                                                                                                                                                                                                                                                                                                                                                                                                                     \n",
              "[35] \"Processing triggers for libc-bin (2.27-3ubuntu1.3) ...\\r\"                                                                                                                                                                                                                                                                                                                                                                                                                                                                                                                                                                                                      \n",
              "[36] \"/sbin/ldconfig.real: /usr/local/lib/python3.7/dist-packages/ideep4py/lib/libmkldnn.so.0 is not a symbolic link\\r\"                                                                                                                                                                                                                                                                                                                                                                                                                                                                                                                                              \n",
              "[37] \"\\r\"                                                                                                                                                                                                                                                                                                                                                                                                                                                                                                                                                                                                                                                            "
            ],
            "text/latex": "\\begin{enumerate*}\n\\item 'Reading package lists...'\n\\item 'Building dependency tree...'\n\\item 'Reading state information...'\n\\item 'The following additional packages will be installed:'\n\\item '  libcairo-script-interpreter2 libpixman-1-dev libxcb-shm0-dev'\n\\item 'Suggested packages:'\n\\item '  libcairo2-doc'\n\\item 'The following NEW packages will be installed:'\n\\item '  libcairo-script-interpreter2 libcairo2-dev libpixman-1-dev libxcb-shm0-dev'\n\\item '0 upgraded, 4 newly installed, 0 to remove and 37 not upgraded.'\n\\item 'Need to get 930 kB of archives.'\n\\item 'After this operation, 3,986 kB of additional disk space will be used.'\n\\item 'Get:1 http://archive.ubuntu.com/ubuntu bionic-updates/main amd64 libcairo-script-interpreter2 amd64 1.15.10-2ubuntu0.1 {[}53.5 kB{]}'\n\\item 'Get:2 http://archive.ubuntu.com/ubuntu bionic/main amd64 libpixman-1-dev amd64 0.34.0-2 {[}244 kB{]}'\n\\item 'Get:3 http://archive.ubuntu.com/ubuntu bionic-updates/main amd64 libxcb-shm0-dev amd64 1.13-2\\textasciitilde{}ubuntu18.04 {[}6,684 B{]}'\n\\item 'Get:4 http://archive.ubuntu.com/ubuntu bionic-updates/main amd64 libcairo2-dev amd64 1.15.10-2ubuntu0.1 {[}626 kB{]}'\n\\item 'Fetched 930 kB in 1s (723 kB/s)'\n\\item 'Selecting previously unselected package libcairo-script-interpreter2:amd64.\\textbackslash{}r'\n\\item '(Reading database ... \\textbackslash{}r(Reading database ... 5\\%\\textbackslash{}r(Reading database ... 10\\%\\textbackslash{}r(Reading database ... 15\\%\\textbackslash{}r(Reading database ... 20\\%\\textbackslash{}r(Reading database ... 25\\%\\textbackslash{}r(Reading database ... 30\\%\\textbackslash{}r(Reading database ... 35\\%\\textbackslash{}r(Reading database ... 40\\%\\textbackslash{}r(Reading database ... 45\\%\\textbackslash{}r(Reading database ... 50\\%\\textbackslash{}r(Reading database ... 55\\%\\textbackslash{}r(Reading database ... 60\\%\\textbackslash{}r(Reading database ... 65\\%\\textbackslash{}r(Reading database ... 70\\%\\textbackslash{}r(Reading database ... 75\\%\\textbackslash{}r(Reading database ... 80\\%\\textbackslash{}r(Reading database ... 85\\%\\textbackslash{}r(Reading database ... 90\\%\\textbackslash{}r(Reading database ... 95\\%\\textbackslash{}r(Reading database ... 100\\%\\textbackslash{}r(Reading database ... 155319 files and directories currently installed.)\\textbackslash{}r'\n\\item 'Preparing to unpack .../libcairo-script-interpreter2\\_1.15.10-2ubuntu0.1\\_amd64.deb ...\\textbackslash{}r'\n\\item 'Unpacking libcairo-script-interpreter2:amd64 (1.15.10-2ubuntu0.1) ...\\textbackslash{}r'\n\\item 'Selecting previously unselected package libpixman-1-dev:amd64.\\textbackslash{}r'\n\\item 'Preparing to unpack .../libpixman-1-dev\\_0.34.0-2\\_amd64.deb ...\\textbackslash{}r'\n\\item 'Unpacking libpixman-1-dev:amd64 (0.34.0-2) ...\\textbackslash{}r'\n\\item 'Selecting previously unselected package libxcb-shm0-dev:amd64.\\textbackslash{}r'\n\\item 'Preparing to unpack .../libxcb-shm0-dev\\_1.13-2\\textasciitilde{}ubuntu18.04\\_amd64.deb ...\\textbackslash{}r'\n\\item 'Unpacking libxcb-shm0-dev:amd64 (1.13-2\\textasciitilde{}ubuntu18.04) ...\\textbackslash{}r'\n\\item 'Selecting previously unselected package libcairo2-dev:amd64.\\textbackslash{}r'\n\\item 'Preparing to unpack .../libcairo2-dev\\_1.15.10-2ubuntu0.1\\_amd64.deb ...\\textbackslash{}r'\n\\item 'Unpacking libcairo2-dev:amd64 (1.15.10-2ubuntu0.1) ...\\textbackslash{}r'\n\\item 'Setting up libcairo-script-interpreter2:amd64 (1.15.10-2ubuntu0.1) ...\\textbackslash{}r'\n\\item 'Setting up libxcb-shm0-dev:amd64 (1.13-2\\textasciitilde{}ubuntu18.04) ...\\textbackslash{}r'\n\\item 'Setting up libpixman-1-dev:amd64 (0.34.0-2) ...\\textbackslash{}r'\n\\item 'Setting up libcairo2-dev:amd64 (1.15.10-2ubuntu0.1) ...\\textbackslash{}r'\n\\item 'Processing triggers for libc-bin (2.27-3ubuntu1.3) ...\\textbackslash{}r'\n\\item '/sbin/ldconfig.real: /usr/local/lib/python3.7/dist-packages/ideep4py/lib/libmkldnn.so.0 is not a symbolic link\\textbackslash{}r'\n\\item '\\textbackslash{}r'\n\\end{enumerate*}\n",
            "text/markdown": "1. 'Reading package lists...'\n2. 'Building dependency tree...'\n3. 'Reading state information...'\n4. 'The following additional packages will be installed:'\n5. <span style=white-space:pre-wrap>'  libcairo-script-interpreter2 libpixman-1-dev libxcb-shm0-dev'</span>\n6. 'Suggested packages:'\n7. <span style=white-space:pre-wrap>'  libcairo2-doc'</span>\n8. 'The following NEW packages will be installed:'\n9. <span style=white-space:pre-wrap>'  libcairo-script-interpreter2 libcairo2-dev libpixman-1-dev libxcb-shm0-dev'</span>\n10. '0 upgraded, 4 newly installed, 0 to remove and 37 not upgraded.'\n11. 'Need to get 930 kB of archives.'\n12. 'After this operation, 3,986 kB of additional disk space will be used.'\n13. 'Get:1 http://archive.ubuntu.com/ubuntu bionic-updates/main amd64 libcairo-script-interpreter2 amd64 1.15.10-2ubuntu0.1 [53.5 kB]'\n14. 'Get:2 http://archive.ubuntu.com/ubuntu bionic/main amd64 libpixman-1-dev amd64 0.34.0-2 [244 kB]'\n15. 'Get:3 http://archive.ubuntu.com/ubuntu bionic-updates/main amd64 libxcb-shm0-dev amd64 1.13-2~ubuntu18.04 [6,684 B]'\n16. 'Get:4 http://archive.ubuntu.com/ubuntu bionic-updates/main amd64 libcairo2-dev amd64 1.15.10-2ubuntu0.1 [626 kB]'\n17. 'Fetched 930 kB in 1s (723 kB/s)'\n18. 'Selecting previously unselected package libcairo-script-interpreter2:amd64.\\r'\n19. '(Reading database ... \\r(Reading database ... 5%\\r(Reading database ... 10%\\r(Reading database ... 15%\\r(Reading database ... 20%\\r(Reading database ... 25%\\r(Reading database ... 30%\\r(Reading database ... 35%\\r(Reading database ... 40%\\r(Reading database ... 45%\\r(Reading database ... 50%\\r(Reading database ... 55%\\r(Reading database ... 60%\\r(Reading database ... 65%\\r(Reading database ... 70%\\r(Reading database ... 75%\\r(Reading database ... 80%\\r(Reading database ... 85%\\r(Reading database ... 90%\\r(Reading database ... 95%\\r(Reading database ... 100%\\r(Reading database ... 155319 files and directories currently installed.)\\r'\n20. 'Preparing to unpack .../libcairo-script-interpreter2_1.15.10-2ubuntu0.1_amd64.deb ...\\r'\n21. 'Unpacking libcairo-script-interpreter2:amd64 (1.15.10-2ubuntu0.1) ...\\r'\n22. 'Selecting previously unselected package libpixman-1-dev:amd64.\\r'\n23. 'Preparing to unpack .../libpixman-1-dev_0.34.0-2_amd64.deb ...\\r'\n24. 'Unpacking libpixman-1-dev:amd64 (0.34.0-2) ...\\r'\n25. 'Selecting previously unselected package libxcb-shm0-dev:amd64.\\r'\n26. 'Preparing to unpack .../libxcb-shm0-dev_1.13-2~ubuntu18.04_amd64.deb ...\\r'\n27. 'Unpacking libxcb-shm0-dev:amd64 (1.13-2~ubuntu18.04) ...\\r'\n28. 'Selecting previously unselected package libcairo2-dev:amd64.\\r'\n29. 'Preparing to unpack .../libcairo2-dev_1.15.10-2ubuntu0.1_amd64.deb ...\\r'\n30. 'Unpacking libcairo2-dev:amd64 (1.15.10-2ubuntu0.1) ...\\r'\n31. 'Setting up libcairo-script-interpreter2:amd64 (1.15.10-2ubuntu0.1) ...\\r'\n32. 'Setting up libxcb-shm0-dev:amd64 (1.13-2~ubuntu18.04) ...\\r'\n33. 'Setting up libpixman-1-dev:amd64 (0.34.0-2) ...\\r'\n34. 'Setting up libcairo2-dev:amd64 (1.15.10-2ubuntu0.1) ...\\r'\n35. 'Processing triggers for libc-bin (2.27-3ubuntu1.3) ...\\r'\n36. '/sbin/ldconfig.real: /usr/local/lib/python3.7/dist-packages/ideep4py/lib/libmkldnn.so.0 is not a symbolic link\\r'\n37. '\\r'\n\n\n",
            "text/html": [
              "<style>\n",
              ".list-inline {list-style: none; margin:0; padding: 0}\n",
              ".list-inline>li {display: inline-block}\n",
              ".list-inline>li:not(:last-child)::after {content: \"\\00b7\"; padding: 0 .5ex}\n",
              "</style>\n",
              "<ol class=list-inline><li>'Reading package lists...'</li><li>'Building dependency tree...'</li><li>'Reading state information...'</li><li>'The following additional packages will be installed:'</li><li><span style=white-space:pre-wrap>'  libcairo-script-interpreter2 libpixman-1-dev libxcb-shm0-dev'</span></li><li>'Suggested packages:'</li><li><span style=white-space:pre-wrap>'  libcairo2-doc'</span></li><li>'The following NEW packages will be installed:'</li><li><span style=white-space:pre-wrap>'  libcairo-script-interpreter2 libcairo2-dev libpixman-1-dev libxcb-shm0-dev'</span></li><li>'0 upgraded, 4 newly installed, 0 to remove and 37 not upgraded.'</li><li>'Need to get 930 kB of archives.'</li><li>'After this operation, 3,986 kB of additional disk space will be used.'</li><li>'Get:1 http://archive.ubuntu.com/ubuntu bionic-updates/main amd64 libcairo-script-interpreter2 amd64 1.15.10-2ubuntu0.1 [53.5 kB]'</li><li>'Get:2 http://archive.ubuntu.com/ubuntu bionic/main amd64 libpixman-1-dev amd64 0.34.0-2 [244 kB]'</li><li>'Get:3 http://archive.ubuntu.com/ubuntu bionic-updates/main amd64 libxcb-shm0-dev amd64 1.13-2~ubuntu18.04 [6,684 B]'</li><li>'Get:4 http://archive.ubuntu.com/ubuntu bionic-updates/main amd64 libcairo2-dev amd64 1.15.10-2ubuntu0.1 [626 kB]'</li><li>'Fetched 930 kB in 1s (723 kB/s)'</li><li>'Selecting previously unselected package libcairo-script-interpreter2:amd64.\\r'</li><li>'(Reading database ... \\r(Reading database ... 5%\\r(Reading database ... 10%\\r(Reading database ... 15%\\r(Reading database ... 20%\\r(Reading database ... 25%\\r(Reading database ... 30%\\r(Reading database ... 35%\\r(Reading database ... 40%\\r(Reading database ... 45%\\r(Reading database ... 50%\\r(Reading database ... 55%\\r(Reading database ... 60%\\r(Reading database ... 65%\\r(Reading database ... 70%\\r(Reading database ... 75%\\r(Reading database ... 80%\\r(Reading database ... 85%\\r(Reading database ... 90%\\r(Reading database ... 95%\\r(Reading database ... 100%\\r(Reading database ... 155319 files and directories currently installed.)\\r'</li><li>'Preparing to unpack .../libcairo-script-interpreter2_1.15.10-2ubuntu0.1_amd64.deb ...\\r'</li><li>'Unpacking libcairo-script-interpreter2:amd64 (1.15.10-2ubuntu0.1) ...\\r'</li><li>'Selecting previously unselected package libpixman-1-dev:amd64.\\r'</li><li>'Preparing to unpack .../libpixman-1-dev_0.34.0-2_amd64.deb ...\\r'</li><li>'Unpacking libpixman-1-dev:amd64 (0.34.0-2) ...\\r'</li><li>'Selecting previously unselected package libxcb-shm0-dev:amd64.\\r'</li><li>'Preparing to unpack .../libxcb-shm0-dev_1.13-2~ubuntu18.04_amd64.deb ...\\r'</li><li>'Unpacking libxcb-shm0-dev:amd64 (1.13-2~ubuntu18.04) ...\\r'</li><li>'Selecting previously unselected package libcairo2-dev:amd64.\\r'</li><li>'Preparing to unpack .../libcairo2-dev_1.15.10-2ubuntu0.1_amd64.deb ...\\r'</li><li>'Unpacking libcairo2-dev:amd64 (1.15.10-2ubuntu0.1) ...\\r'</li><li>'Setting up libcairo-script-interpreter2:amd64 (1.15.10-2ubuntu0.1) ...\\r'</li><li>'Setting up libxcb-shm0-dev:amd64 (1.13-2~ubuntu18.04) ...\\r'</li><li>'Setting up libpixman-1-dev:amd64 (0.34.0-2) ...\\r'</li><li>'Setting up libcairo2-dev:amd64 (1.15.10-2ubuntu0.1) ...\\r'</li><li>'Processing triggers for libc-bin (2.27-3ubuntu1.3) ...\\r'</li><li>'/sbin/ldconfig.real: /usr/local/lib/python3.7/dist-packages/ideep4py/lib/libmkldnn.so.0 is not a symbolic link\\r'</li><li>'\\r'</li></ol>\n"
            ]
          },
          "metadata": {}
        }
      ]
    },
    {
      "cell_type": "code",
      "metadata": {
        "colab": {
          "base_uri": "https://localhost:8080/"
        },
        "id": "2AQqz-pyE0b7",
        "outputId": "9eed2d03-f1cc-4cda-f9d8-9a13aa405acd"
      },
      "source": [
        "install.packages('BiocManager')"
      ],
      "execution_count": 4,
      "outputs": [
        {
          "output_type": "stream",
          "name": "stderr",
          "text": [
            "Installing package into ‘/usr/local/lib/R/site-library’\n",
            "(as ‘lib’ is unspecified)\n",
            "\n"
          ]
        }
      ]
    },
    {
      "cell_type": "code",
      "metadata": {
        "id": "hv8nq9sjEzhx"
      },
      "source": [
        "required_packages <- c(\n",
        "  'devtools', 'circlize', 'dplyr', 'gplots', 'plyr',\n",
        "  'SummarizedExperiment', 'BSgenome.Mmusculus.UCSC.mm10', 'BiocParallel', \n",
        "  'rtracklayer', 'EnrichedHeatmap', 'ChIPpeakAnno', 'ChIPseeker', 'TxDb.Mmusculus.UCSC.mm10.knownGene', \n",
        "  'gsl', 'DirichletMultinomial', 'chromVAR', 'motifmatchr', 'PWMEnrich',\n",
        "  'ComplexHeatmap',\n",
        "  'DESeq2',\n",
        "  'VennDiagram', 'ggwordcloud'\n",
        ")"
      ],
      "execution_count": 5,
      "outputs": []
    },
    {
      "cell_type": "code",
      "metadata": {
        "id": "FDu62M5JFJZt",
        "colab": {
          "base_uri": "https://localhost:8080/"
        },
        "outputId": "09170bc5-5335-4d36-a400-27ba5b974cc3"
      },
      "source": [
        "missing_packages <- required_packages[!required_packages %in% rownames(installed.packages())]\n",
        "if (length(missing_packages) > 0){\n",
        "    BiocManager::install(missing_packages)\n",
        "}"
      ],
      "execution_count": 6,
      "outputs": [
        {
          "output_type": "stream",
          "name": "stderr",
          "text": [
            "'getOption(\"repos\")' replaces Bioconductor standard repositories, see\n",
            "'?repositories' for details\n",
            "\n",
            "replacement repositories:\n",
            "    CRAN: https://cran.rstudio.com\n",
            "\n",
            "\n",
            "Bioconductor version 3.13 (BiocManager 1.30.16), R 4.1.1 (2021-08-10)\n",
            "\n",
            "Installing package(s) 'BiocVersion', 'circlize', 'gplots', 'plyr',\n",
            "  'SummarizedExperiment', 'BSgenome.Mmusculus.UCSC.mm10', 'BiocParallel',\n",
            "  'rtracklayer', 'EnrichedHeatmap', 'ChIPpeakAnno', 'ChIPseeker',\n",
            "  'TxDb.Mmusculus.UCSC.mm10.knownGene', 'gsl', 'DirichletMultinomial',\n",
            "  'chromVAR', 'motifmatchr', 'PWMEnrich', 'ComplexHeatmap', 'DESeq2',\n",
            "  'VennDiagram', 'ggwordcloud'\n",
            "\n",
            "also installing the dependencies ‘gridGraphics’, ‘gridExtra’, ‘fastmatch’, ‘tweenr’, ‘polyclip’, ‘ggplotify’, ‘patchwork’, ‘pracma’, ‘R.oo’, ‘R.methodsS3’, ‘formatR’, ‘plogr’, ‘filelock’, ‘DO.db’, ‘fgsea’, ‘qvalue’, ‘ggforce’, ‘ggrepel’, ‘viridis’, ‘tidygraph’, ‘graphlayouts’, ‘ggfun’, ‘GO.db’, ‘ape’, ‘aplot’, ‘tidytree’, ‘treeio’, ‘yulab.utils’, ‘poweRlaw’, ‘R.utils’, ‘sass’, ‘bitops’, ‘GenomeInfoDbData’, ‘lambda.r’, ‘futile.options’, ‘Rhtslib’, ‘rjson’, ‘RSQLite’, ‘AnnotationFilter’, ‘ProtGenerics’, ‘BiocFileCache’, ‘cowplot’, ‘DOSE’, ‘ggraph’, ‘igraph’, ‘reshape2’, ‘scatterpie’, ‘shadowtext’, ‘GOSemSim’, ‘ggtree’, ‘RcppEigen’, ‘CNEr’, ‘TFMPvalue’, ‘htmlwidgets’, ‘lazyeval’, ‘crosstalk’, ‘promises’, ‘httpuv’, ‘xtable’, ‘fontawesome’, ‘sourcetools’, ‘later’, ‘bslib’, ‘iterators’, ‘annotate’, ‘GlobalOptions’, ‘shape’, ‘gtools’, ‘caTools’, ‘MatrixGenerics’, ‘GenomicRanges’, ‘Biobase’, ‘BiocGenerics’, ‘S4Vectors’, ‘IRanges’, ‘GenomeInfoDb’, ‘DelayedArray’, ‘BSgenome’, ‘futile.logger’, ‘snow’, ‘BH’, ‘XML’, ‘XVector’, ‘Biostrings’, ‘zlibbioc’, ‘RCurl’, ‘Rsamtools’, ‘GenomicAlignments’, ‘BiocIO’, ‘restfulr’, ‘matrixStats’, ‘GetoptLong’, ‘locfit’, ‘AnnotationDbi’, ‘ensembldb’, ‘GenomicFeatures’, ‘RBGL’, ‘biomaRt’, ‘graph’, ‘InteractionSet’, ‘KEGGREST’, ‘multtest’, ‘regioneR’, ‘enrichplot’, ‘plotrix’, ‘TxDb.Hsapiens.UCSC.hg19.knownGene’, ‘nabor’, ‘TFBSTools’, ‘plotly’, ‘shiny’, ‘miniUI’, ‘DT’, ‘Rtsne’, ‘RcppArmadillo’, ‘seqLogo’, ‘gdata’, ‘evd’, ‘clue’, ‘png’, ‘Cairo’, ‘foreach’, ‘doParallel’, ‘genefilter’, ‘geneplotter’\n",
            "\n",
            "\n",
            "Warning message in .inet_warning(msg):\n",
            "“installation of package ‘gsl’ had non-zero exit status”\n",
            "Old packages: 'cpp11', 'data.table', 'desc', 'diffobj', 'digest', 'hms',\n",
            "  'knitr', 'lifecycle', 'lubridate', 'mime', 'openssl', 'pillar', 'rcmdcheck',\n",
            "  'readr', 'remotes', 'stringi', 'systemfonts', 'testthat', 'tibble', 'tidyr',\n",
            "  'tinytex', 'mgcv', 'nlme'\n",
            "\n"
          ]
        }
      ]
    },
    {
      "cell_type": "code",
      "metadata": {
        "colab": {
          "base_uri": "https://localhost:8080/"
        },
        "id": "tiCmCMEMUzjH",
        "outputId": "a04024ee-4a08-4c52-9a28-71410bcc8c82"
      },
      "source": [
        "install.packages('xlsx')"
      ],
      "execution_count": 7,
      "outputs": [
        {
          "output_type": "stream",
          "name": "stderr",
          "text": [
            "Installing package into ‘/usr/local/lib/R/site-library’\n",
            "(as ‘lib’ is unspecified)\n",
            "\n",
            "also installing the dependencies ‘rJava’, ‘xlsxjars’\n",
            "\n",
            "\n"
          ]
        }
      ]
    },
    {
      "cell_type": "code",
      "metadata": {
        "colab": {
          "base_uri": "https://localhost:8080/"
        },
        "id": "7HiwIFHxX7p_",
        "outputId": "3a62934c-5163-4ee5-e0cf-10efd3aab939"
      },
      "source": [
        "devtools::install_github(\"GreenleafLab/chromVARmotifs\")"
      ],
      "execution_count": 8,
      "outputs": [
        {
          "output_type": "stream",
          "name": "stderr",
          "text": [
            "Downloading GitHub repo GreenleafLab/chromVARmotifs@HEAD\n",
            "\n"
          ]
        },
        {
          "output_type": "stream",
          "name": "stdout",
          "text": [
            "pillar    (1.6.2  -> 1.6.3 ) [CRAN]\n",
            "stringi   (1.7.4  -> 1.7.5 ) [CRAN]\n",
            "openssl   (1.4.3  -> 1.4.5 ) [CRAN]\n",
            "mime      (0.11   -> 0.12  ) [CRAN]\n",
            "cpp11     (0.3.1  -> 0.4.0 ) [CRAN]\n",
            "lifecycle (1.0.0  -> 1.0.1 ) [CRAN]\n",
            "hms       (1.1.0  -> 1.1.1 ) [CRAN]\n",
            "tibble    (3.1.4  -> 3.1.5 ) [CRAN]\n",
            "digest    (0.6.27 -> 0.6.28) [CRAN]\n",
            "readr     (2.0.1  -> 2.0.2 ) [CRAN]\n"
          ]
        },
        {
          "output_type": "stream",
          "name": "stderr",
          "text": [
            "Installing 10 packages: pillar, stringi, openssl, mime, cpp11, lifecycle, hms, tibble, digest, readr\n",
            "\n",
            "Installing packages into ‘/usr/local/lib/R/site-library’\n",
            "(as ‘lib’ is unspecified)\n",
            "\n"
          ]
        },
        {
          "output_type": "stream",
          "name": "stdout",
          "text": [
            "\u001b[32m✔\u001b[39m  \u001b[90mchecking for file ‘/tmp/RtmpO1mpMp/remotes59684acf2b/GreenleafLab-chromVARmotifs-38bed55/DESCRIPTION’\u001b[39m\u001b[36m\u001b[39m\n",
            "\u001b[90m─\u001b[39m\u001b[90m  \u001b[39m\u001b[90mpreparing ‘chromVARmotifs’:\u001b[39m\u001b[36m\u001b[39m\n",
            "\u001b[32m✔\u001b[39m  \u001b[90mchecking DESCRIPTION meta-information\u001b[39m\u001b[36m\u001b[39m\n",
            "\u001b[90m─\u001b[39m\u001b[90m  \u001b[39m\u001b[90mchecking for LF line-endings in source and make files and shell scripts\u001b[39m\u001b[36m\u001b[39m\n",
            "\u001b[90m─\u001b[39m\u001b[90m  \u001b[39m\u001b[90mchecking for empty or unneeded directories\u001b[39m\u001b[36m\u001b[39m\n",
            "\u001b[90m─\u001b[39m\u001b[90m  \u001b[39m\u001b[90mbuilding ‘chromVARmotifs_0.2.0.tar.gz’\u001b[39m\u001b[36m\u001b[39m\n",
            "   \n"
          ]
        },
        {
          "output_type": "stream",
          "name": "stderr",
          "text": [
            "Installing package into ‘/usr/local/lib/R/site-library’\n",
            "(as ‘lib’ is unspecified)\n",
            "\n"
          ]
        }
      ]
    },
    {
      "cell_type": "code",
      "metadata": {
        "id": "nQFQk04TzjFj",
        "colab": {
          "base_uri": "https://localhost:8080/"
        },
        "outputId": "5421b1a6-6fe2-4818-c302-03165654deff"
      },
      "source": [
        "library(chromVARmotifs)\n",
        "library(chromVAR)\n",
        "library(BSgenome.Mmusculus.UCSC.mm10)\n",
        "library(motifmatchr)\n",
        "library(BiocParallel)\n",
        "library(SummarizedExperiment)\n",
        "library(gplots)\n",
        "library(circlize)\n",
        "library(ComplexHeatmap)\n",
        "register(MulticoreParam(2)) \n",
        "library(plyr)\n",
        "library(dplyr)\n",
        "library(DESeq2)\n",
        "library(VennDiagram)\n",
        "library(ggwordcloud) \n",
        "library(xlsx)"
      ],
      "execution_count": 9,
      "outputs": [
        {
          "output_type": "stream",
          "name": "stderr",
          "text": [
            "\n",
            "\n",
            "Loading required package: BSgenome\n",
            "\n",
            "Loading required package: BiocGenerics\n",
            "\n",
            "Loading required package: parallel\n",
            "\n",
            "\n",
            "Attaching package: ‘BiocGenerics’\n",
            "\n",
            "\n",
            "The following objects are masked from ‘package:parallel’:\n",
            "\n",
            "    clusterApply, clusterApplyLB, clusterCall, clusterEvalQ,\n",
            "    clusterExport, clusterMap, parApply, parCapply, parLapply,\n",
            "    parLapplyLB, parRapply, parSapply, parSapplyLB\n",
            "\n",
            "\n",
            "The following objects are masked from ‘package:stats’:\n",
            "\n",
            "    IQR, mad, sd, var, xtabs\n",
            "\n",
            "\n",
            "The following objects are masked from ‘package:base’:\n",
            "\n",
            "    anyDuplicated, append, as.data.frame, basename, cbind, colnames,\n",
            "    dirname, do.call, duplicated, eval, evalq, Filter, Find, get, grep,\n",
            "    grepl, intersect, is.unsorted, lapply, Map, mapply, match, mget,\n",
            "    order, paste, pmax, pmax.int, pmin, pmin.int, Position, rank,\n",
            "    rbind, Reduce, rownames, sapply, setdiff, sort, table, tapply,\n",
            "    union, unique, unsplit, which.max, which.min\n",
            "\n",
            "\n",
            "Loading required package: S4Vectors\n",
            "\n",
            "Loading required package: stats4\n",
            "\n",
            "\n",
            "Attaching package: ‘S4Vectors’\n",
            "\n",
            "\n",
            "The following objects are masked from ‘package:base’:\n",
            "\n",
            "    expand.grid, I, unname\n",
            "\n",
            "\n",
            "Loading required package: IRanges\n",
            "\n",
            "Loading required package: GenomeInfoDb\n",
            "\n",
            "Loading required package: GenomicRanges\n",
            "\n",
            "Loading required package: Biostrings\n",
            "\n",
            "Loading required package: XVector\n",
            "\n",
            "\n",
            "Attaching package: ‘Biostrings’\n",
            "\n",
            "\n",
            "The following object is masked from ‘package:base’:\n",
            "\n",
            "    strsplit\n",
            "\n",
            "\n",
            "Loading required package: rtracklayer\n",
            "\n",
            "Loading required package: MatrixGenerics\n",
            "\n",
            "Loading required package: matrixStats\n",
            "\n",
            "\n",
            "Attaching package: ‘MatrixGenerics’\n",
            "\n",
            "\n",
            "The following objects are masked from ‘package:matrixStats’:\n",
            "\n",
            "    colAlls, colAnyNAs, colAnys, colAvgsPerRowSet, colCollapse,\n",
            "    colCounts, colCummaxs, colCummins, colCumprods, colCumsums,\n",
            "    colDiffs, colIQRDiffs, colIQRs, colLogSumExps, colMadDiffs,\n",
            "    colMads, colMaxs, colMeans2, colMedians, colMins, colOrderStats,\n",
            "    colProds, colQuantiles, colRanges, colRanks, colSdDiffs, colSds,\n",
            "    colSums2, colTabulates, colVarDiffs, colVars, colWeightedMads,\n",
            "    colWeightedMeans, colWeightedMedians, colWeightedSds,\n",
            "    colWeightedVars, rowAlls, rowAnyNAs, rowAnys, rowAvgsPerColSet,\n",
            "    rowCollapse, rowCounts, rowCummaxs, rowCummins, rowCumprods,\n",
            "    rowCumsums, rowDiffs, rowIQRDiffs, rowIQRs, rowLogSumExps,\n",
            "    rowMadDiffs, rowMads, rowMaxs, rowMeans2, rowMedians, rowMins,\n",
            "    rowOrderStats, rowProds, rowQuantiles, rowRanges, rowRanks,\n",
            "    rowSdDiffs, rowSds, rowSums2, rowTabulates, rowVarDiffs, rowVars,\n",
            "    rowWeightedMads, rowWeightedMeans, rowWeightedMedians,\n",
            "    rowWeightedSds, rowWeightedVars\n",
            "\n",
            "\n",
            "Loading required package: Biobase\n",
            "\n",
            "Welcome to Bioconductor\n",
            "\n",
            "    Vignettes contain introductory material; view with\n",
            "    'browseVignettes()'. To cite Bioconductor, see\n",
            "    'citation(\"Biobase\")', and for packages 'citation(\"pkgname\")'.\n",
            "\n",
            "\n",
            "\n",
            "Attaching package: ‘Biobase’\n",
            "\n",
            "\n",
            "The following object is masked from ‘package:MatrixGenerics’:\n",
            "\n",
            "    rowMedians\n",
            "\n",
            "\n",
            "The following objects are masked from ‘package:matrixStats’:\n",
            "\n",
            "    anyMissing, rowMedians\n",
            "\n",
            "\n",
            "\n",
            "Attaching package: ‘gplots’\n",
            "\n",
            "\n",
            "The following object is masked from ‘package:rtracklayer’:\n",
            "\n",
            "    space\n",
            "\n",
            "\n",
            "The following object is masked from ‘package:IRanges’:\n",
            "\n",
            "    space\n",
            "\n",
            "\n",
            "The following object is masked from ‘package:S4Vectors’:\n",
            "\n",
            "    space\n",
            "\n",
            "\n",
            "The following object is masked from ‘package:stats’:\n",
            "\n",
            "    lowess\n",
            "\n",
            "\n",
            "========================================\n",
            "circlize version 0.4.13\n",
            "CRAN page: https://cran.r-project.org/package=circlize\n",
            "Github page: https://github.com/jokergoo/circlize\n",
            "Documentation: https://jokergoo.github.io/circlize_book/book/\n",
            "\n",
            "If you use it in published research, please cite:\n",
            "Gu, Z. circlize implements and enhances circular visualization\n",
            "  in R. Bioinformatics 2014.\n",
            "\n",
            "This message can be suppressed by:\n",
            "  suppressPackageStartupMessages(library(circlize))\n",
            "========================================\n",
            "\n",
            "\n",
            "Loading required package: grid\n",
            "\n",
            "\n",
            "Attaching package: ‘grid’\n",
            "\n",
            "\n",
            "The following object is masked from ‘package:Biostrings’:\n",
            "\n",
            "    pattern\n",
            "\n",
            "\n",
            "========================================\n",
            "ComplexHeatmap version 2.8.0\n",
            "Bioconductor page: http://bioconductor.org/packages/ComplexHeatmap/\n",
            "Github page: https://github.com/jokergoo/ComplexHeatmap\n",
            "Documentation: http://jokergoo.github.io/ComplexHeatmap-reference\n",
            "\n",
            "If you use it in published research, please cite:\n",
            "Gu, Z. Complex heatmaps reveal patterns and correlations in multidimensional \n",
            "  genomic data. Bioinformatics 2016.\n",
            "\n",
            "The new InteractiveComplexHeatmap package can directly export static \n",
            "complex heatmaps into an interactive Shiny app with zero effort. Have a try!\n",
            "\n",
            "This message can be suppressed by:\n",
            "  suppressPackageStartupMessages(library(ComplexHeatmap))\n",
            "========================================\n",
            "\n",
            "\n",
            "\n",
            "Attaching package: ‘plyr’\n",
            "\n",
            "\n",
            "The following object is masked from ‘package:matrixStats’:\n",
            "\n",
            "    count\n",
            "\n",
            "\n",
            "The following object is masked from ‘package:XVector’:\n",
            "\n",
            "    compact\n",
            "\n",
            "\n",
            "The following object is masked from ‘package:IRanges’:\n",
            "\n",
            "    desc\n",
            "\n",
            "\n",
            "The following object is masked from ‘package:S4Vectors’:\n",
            "\n",
            "    rename\n",
            "\n",
            "\n",
            "\n",
            "Attaching package: ‘dplyr’\n",
            "\n",
            "\n",
            "The following objects are masked from ‘package:plyr’:\n",
            "\n",
            "    arrange, count, desc, failwith, id, mutate, rename, summarise,\n",
            "    summarize\n",
            "\n",
            "\n",
            "The following object is masked from ‘package:Biobase’:\n",
            "\n",
            "    combine\n",
            "\n",
            "\n",
            "The following object is masked from ‘package:matrixStats’:\n",
            "\n",
            "    count\n",
            "\n",
            "\n",
            "The following objects are masked from ‘package:Biostrings’:\n",
            "\n",
            "    collapse, intersect, setdiff, setequal, union\n",
            "\n",
            "\n",
            "The following object is masked from ‘package:XVector’:\n",
            "\n",
            "    slice\n",
            "\n",
            "\n",
            "The following objects are masked from ‘package:GenomicRanges’:\n",
            "\n",
            "    intersect, setdiff, union\n",
            "\n",
            "\n",
            "The following object is masked from ‘package:GenomeInfoDb’:\n",
            "\n",
            "    intersect\n",
            "\n",
            "\n",
            "The following objects are masked from ‘package:IRanges’:\n",
            "\n",
            "    collapse, desc, intersect, setdiff, slice, union\n",
            "\n",
            "\n",
            "The following objects are masked from ‘package:S4Vectors’:\n",
            "\n",
            "    first, intersect, rename, setdiff, setequal, union\n",
            "\n",
            "\n",
            "The following objects are masked from ‘package:BiocGenerics’:\n",
            "\n",
            "    combine, intersect, setdiff, union\n",
            "\n",
            "\n",
            "The following objects are masked from ‘package:stats’:\n",
            "\n",
            "    filter, lag\n",
            "\n",
            "\n",
            "The following objects are masked from ‘package:base’:\n",
            "\n",
            "    intersect, setdiff, setequal, union\n",
            "\n",
            "\n",
            "Loading required package: futile.logger\n",
            "\n",
            "Loading required package: ggplot2\n",
            "\n"
          ]
        }
      ]
    },
    {
      "cell_type": "markdown",
      "metadata": {
        "id": "PyJoh9bxbC1C"
      },
      "source": [
        "## Read replicate-level ATAC-seq data"
      ]
    },
    {
      "cell_type": "code",
      "metadata": {
        "id": "ojuU1ngisM0z",
        "colab": {
          "base_uri": "https://localhost:8080/",
          "height": 162
        },
        "outputId": "db05944e-ce95-4a67-f97c-88acd522d093"
      },
      "source": [
        "# Read the ATAC-seq read counts data for each sample and count the motifs at each interval\n",
        "se <- readRDS(gzcon(url('https://s3.msi.umn.edu/gongx030/datasets/dataset=Etv2ATAC_version=20190228b/ATAC_peaks_Etv2_reprogramming.rds')))\n",
        "se <- se[, colData(se)$group %in% c('EB_NoDox_D25', 'EB_Dox_D25', 'EB_Dox_D25_Flk1pos', 'MEF_NoDox', 'MEF_Dox_D1', 'MEF_Dox_D2', 'MEF_Dox_D7', 'MEF_Dox_D7_Flk1pos')]\n",
        "se <- se[rowSums(assays(se)$counts > 0) >= 2]\n",
        "is_MEF <- colData(se)$group %in% c('MEF_NoDox', 'MEF_Dox_D1', 'MEF_Dox_D2', 'MEF_Dox_D7', 'MEF_Dox_D7_Flk1pos')\n",
        "is_EB <- colData(se)$group %in% c('EB_NoDox_D25', 'EB_Dox_D25', 'EB_Dox_D25_Flk1pos')\n",
        "se"
      ],
      "execution_count": 10,
      "outputs": [
        {
          "output_type": "display_data",
          "data": {
            "text/plain": [
              "class: RangedSummarizedExperiment \n",
              "dim: 168305 16 \n",
              "metadata(0):\n",
              "assays(1): counts\n",
              "rownames(168305): chr1 chr1 ... chrY chrY\n",
              "rowData names(0):\n",
              "colnames: NULL\n",
              "colData names(9): study_accession run ... tissue bw_file"
            ]
          },
          "metadata": {}
        }
      ]
    },
    {
      "cell_type": "code",
      "metadata": {
        "id": "gFjZopZkb1xX",
        "colab": {
          "base_uri": "https://localhost:8080/",
          "height": 108
        },
        "outputId": "34469920-7785-46b0-948e-cc2bb19fc7c3"
      },
      "source": [
        "colData(se)$group %>% table()"
      ],
      "execution_count": 11,
      "outputs": [
        {
          "output_type": "display_data",
          "data": {
            "text/plain": [
              ".\n",
              "        EB_Dox_D25 EB_Dox_D25_Flk1pos       EB_NoDox_D25         MEF_Dox_D1 \n",
              "                 2                  2                  2                  2 \n",
              "        MEF_Dox_D2         MEF_Dox_D7 MEF_Dox_D7_Flk1pos          MEF_NoDox \n",
              "                 2                  2                  2                  2 "
            ]
          },
          "metadata": {}
        }
      ]
    },
    {
      "cell_type": "markdown",
      "metadata": {
        "id": "i7P7x1pncBax"
      },
      "source": [
        "## Read scRNA-seq of MEF reprogramming"
      ]
    },
    {
      "cell_type": "code",
      "metadata": {
        "id": "nI2NMXboqGxI"
      },
      "source": [
        "sc_file <- 'https://s3.msi.umn.edu/gongx030/etv2_pioneer/data/processed_Etv2_scRNAseq.rds'\n",
        "command <- sprintf('wget -x -c -nH %s', sc_file)\n",
        "command %>% system()"
      ],
      "execution_count": 12,
      "outputs": []
    },
    {
      "cell_type": "code",
      "metadata": {
        "id": "556fcwk5cAWq",
        "colab": {
          "base_uri": "https://localhost:8080/",
          "height": 72
        },
        "outputId": "02f7e2d7-cbdd-40df-f282-5404025da6a1"
      },
      "source": [
        "se_sc <- gsub('https://s3.msi.umn.edu/', './', sc_file) %>% readRDS()\n",
        "table(colData(se_sc)$group)"
      ],
      "execution_count": 13,
      "outputs": [
        {
          "output_type": "display_data",
          "data": {
            "text/plain": [
              "\n",
              "  MEF_NoDox  MEF_Dox_D1  MEF_Dox_D2 MEF_Dox_D7a MEF_Dox_D7b \n",
              "       3562         948        2936        7202         827 "
            ]
          },
          "metadata": {}
        }
      ]
    },
    {
      "cell_type": "markdown",
      "metadata": {
        "id": "s-UvBnXSha6_"
      },
      "source": [
        "## Find the DE genes between MEF D7 Flk1+ cells and undifferentiated MEF"
      ]
    },
    {
      "cell_type": "code",
      "metadata": {
        "id": "iGplSK6GsYPk",
        "colab": {
          "base_uri": "https://localhost:8080/"
        },
        "outputId": "8ce7e9e9-0914-499f-bc62-8352066c491b"
      },
      "source": [
        "X <- assays(se_sc)$scaled_counts\n",
        "j_MEF_NoDox <- colData(se_sc)$group %in% 'MEF_NoDox'\n",
        "j_MEF_Dox_D7_Flk1pos <- colData(se_sc)$group %in% c('MEF_Dox_D7b')\n",
        "pvalues <- mclapply(\n",
        "  1:nrow(X), \n",
        "  function(i) wilcox.test(X[i, j_MEF_Dox_D7_Flk1pos], X[i, j_MEF_NoDox])$p.value,\n",
        "  mc.cores = 2\n",
        ") %>% unlist()"
      ],
      "execution_count": 14,
      "outputs": [
        {
          "output_type": "stream",
          "name": "stderr",
          "text": [
            "dimnames(.) <- NULL:  translated to \n",
            "dimnames(.) <- list(NULL,NULL)  <==>  unname(.)\n",
            "\n",
            "dimnames(.) <- NULL:  translated to \n",
            "dimnames(.) <- list(NULL,NULL)  <==>  unname(.)\n",
            "\n"
          ]
        }
      ]
    },
    {
      "cell_type": "markdown",
      "metadata": {
        "id": "suGsvJ4wtKZD"
      },
      "source": [
        "## Read bulk RNA-seq of EB differentiation"
      ]
    },
    {
      "cell_type": "code",
      "metadata": {
        "id": "frgpTS3xhprU"
      },
      "source": [
        "se_bulk <- readRDS(gzcon(url('https://s3.msi.umn.edu/gongx030/datasets/dataset=Etv2RNA-seq_version=20190909a/se.rds')))"
      ],
      "execution_count": 15,
      "outputs": []
    },
    {
      "cell_type": "markdown",
      "metadata": {
        "id": "l4iZYk_Ihqzu"
      },
      "source": [
        "## Find  DE genes between no dox and Flk1+ cells post induction"
      ]
    },
    {
      "cell_type": "code",
      "metadata": {
        "id": "BomFTf6KsnEp",
        "colab": {
          "base_uri": "https://localhost:8080/"
        },
        "outputId": "a0cd45e5-20ac-43b9-91fb-4abae6ee0d2d"
      },
      "source": [
        "se_bulk <- DESeqDataSet(se_bulk, design = ~ group)\n",
        "se_bulk <- estimateSizeFactors(se_bulk)\n",
        "se_bulk <- DESeq(se_bulk)\n",
        "assays(se_bulk)$normalized_counts <- log2(counts(se_bulk, normalized = TRUE) + 1)\n",
        "res <- results(se_bulk, contrast = c('group', 'EB_Dox_D25_Flk1pos_Etv2', 'EB_NoDox_D25_Etv2'))"
      ],
      "execution_count": 16,
      "outputs": [
        {
          "output_type": "stream",
          "name": "stderr",
          "text": [
            "Warning message in DESeqDataSet(se_bulk, design = ~group):\n",
            "“some variables in design formula are characters, converting to factors”\n",
            "using pre-existing size factors\n",
            "\n",
            "estimating dispersions\n",
            "\n",
            "gene-wise dispersion estimates\n",
            "\n",
            "mean-dispersion relationship\n",
            "\n",
            "final dispersion estimates\n",
            "\n",
            "fitting model and testing\n",
            "\n"
          ]
        }
      ]
    },
    {
      "cell_type": "markdown",
      "metadata": {
        "id": "RlMai_kNh2hc"
      },
      "source": [
        "## Merge the scRNA-seq and bulk RNA-seq by gene symbols.\n"
      ]
    },
    {
      "cell_type": "code",
      "metadata": {
        "id": "17mqW7Gsh1sN",
        "colab": {
          "base_uri": "https://localhost:8080/",
          "height": 254
        },
        "outputId": "acca69c1-8ddd-4355-b369-57113cb2ec4f"
      },
      "source": [
        "d_rna_merge <- merge(\n",
        "  data.frame(\n",
        "    symbol = rownames(res), \n",
        "    EB_log2FoldChange = res$log2FoldChange, \n",
        "    EB_pvalue = res$pvalue\n",
        "  ),\n",
        "  data.frame(\n",
        "    symbol = rowData(se_sc)$name, \n",
        "    MEF_log2FoldChange = rowMeans(X[, j_MEF_Dox_D7_Flk1pos]) - rowMeans(X[, j_MEF_NoDox]), \n",
        "    MEF_pvalue = pvalues\n",
        "  ),\n",
        "  by.x = 'symbol',\n",
        "  by.y = 'symbol'\n",
        ") %>%\n",
        "  filter(!is.na(EB_pvalue) & !is.na(MEF_pvalue)) %>%\n",
        "  filter(!duplicated(symbol))\n",
        "rownames(d_rna_merge) <- d_rna_merge$symbol\n",
        "d_rna_merge %>% filter(symbol %in% c('Etv2', 'Kdr', 'Emcn', 'Cdh5', 'Runx1'))"
      ],
      "execution_count": 17,
      "outputs": [
        {
          "output_type": "display_data",
          "data": {
            "text/plain": [
              "      symbol EB_log2FoldChange EB_pvalue    MEF_log2FoldChange MEF_pvalue   \n",
              "Cdh5  Cdh5   7.534863          1.315189e-43  1.5647330          0.000000e+00\n",
              "Emcn  Emcn   5.908320          6.634402e-03  1.4578199          0.000000e+00\n",
              "Etv2  Etv2   5.462880          0.000000e+00  1.1166636         3.666651e-272\n",
              "Kdr   Kdr    7.093824          0.000000e+00  1.7277936          0.000000e+00\n",
              "Runx1 Runx1  1.891086          1.139845e-11 -0.3865211          1.138801e-25"
            ],
            "text/latex": "A data.frame: 5 × 5\n\\begin{tabular}{r|lllll}\n  & symbol & EB\\_log2FoldChange & EB\\_pvalue & MEF\\_log2FoldChange & MEF\\_pvalue\\\\\n  & <chr> & <dbl> & <dbl> & <dbl> & <dbl>\\\\\n\\hline\n\tCdh5 & Cdh5  & 7.534863 & 1.315189e-43 &  1.5647330 &  0.000000e+00\\\\\n\tEmcn & Emcn  & 5.908320 & 6.634402e-03 &  1.4578199 &  0.000000e+00\\\\\n\tEtv2 & Etv2  & 5.462880 & 0.000000e+00 &  1.1166636 & 3.666651e-272\\\\\n\tKdr & Kdr   & 7.093824 & 0.000000e+00 &  1.7277936 &  0.000000e+00\\\\\n\tRunx1 & Runx1 & 1.891086 & 1.139845e-11 & -0.3865211 &  1.138801e-25\\\\\n\\end{tabular}\n",
            "text/markdown": "\nA data.frame: 5 × 5\n\n| <!--/--> | symbol &lt;chr&gt; | EB_log2FoldChange &lt;dbl&gt; | EB_pvalue &lt;dbl&gt; | MEF_log2FoldChange &lt;dbl&gt; | MEF_pvalue &lt;dbl&gt; |\n|---|---|---|---|---|---|\n| Cdh5 | Cdh5  | 7.534863 | 1.315189e-43 |  1.5647330 |  0.000000e+00 |\n| Emcn | Emcn  | 5.908320 | 6.634402e-03 |  1.4578199 |  0.000000e+00 |\n| Etv2 | Etv2  | 5.462880 | 0.000000e+00 |  1.1166636 | 3.666651e-272 |\n| Kdr | Kdr   | 7.093824 | 0.000000e+00 |  1.7277936 |  0.000000e+00 |\n| Runx1 | Runx1 | 1.891086 | 1.139845e-11 | -0.3865211 |  1.138801e-25 |\n\n",
            "text/html": [
              "<table class=\"dataframe\">\n",
              "<caption>A data.frame: 5 × 5</caption>\n",
              "<thead>\n",
              "\t<tr><th></th><th scope=col>symbol</th><th scope=col>EB_log2FoldChange</th><th scope=col>EB_pvalue</th><th scope=col>MEF_log2FoldChange</th><th scope=col>MEF_pvalue</th></tr>\n",
              "\t<tr><th></th><th scope=col>&lt;chr&gt;</th><th scope=col>&lt;dbl&gt;</th><th scope=col>&lt;dbl&gt;</th><th scope=col>&lt;dbl&gt;</th><th scope=col>&lt;dbl&gt;</th></tr>\n",
              "</thead>\n",
              "<tbody>\n",
              "\t<tr><th scope=row>Cdh5</th><td>Cdh5 </td><td>7.534863</td><td>1.315189e-43</td><td> 1.5647330</td><td> 0.000000e+00</td></tr>\n",
              "\t<tr><th scope=row>Emcn</th><td>Emcn </td><td>5.908320</td><td>6.634402e-03</td><td> 1.4578199</td><td> 0.000000e+00</td></tr>\n",
              "\t<tr><th scope=row>Etv2</th><td>Etv2 </td><td>5.462880</td><td>0.000000e+00</td><td> 1.1166636</td><td>3.666651e-272</td></tr>\n",
              "\t<tr><th scope=row>Kdr</th><td>Kdr  </td><td>7.093824</td><td>0.000000e+00</td><td> 1.7277936</td><td> 0.000000e+00</td></tr>\n",
              "\t<tr><th scope=row>Runx1</th><td>Runx1</td><td>1.891086</td><td>1.139845e-11</td><td>-0.3865211</td><td> 1.138801e-25</td></tr>\n",
              "</tbody>\n",
              "</table>\n"
            ]
          },
          "metadata": {}
        }
      ]
    },
    {
      "cell_type": "markdown",
      "metadata": {
        "id": "OnBJllfEh_dI"
      },
      "source": [
        "## chromVAR analysis of combined ATAC-seq data\n"
      ]
    },
    {
      "cell_type": "code",
      "metadata": {
        "id": "tPhgnHQSstWP"
      },
      "source": [
        "data(\"mouse_pwms_v2\") \n",
        "se <- addGCBias(se, genome = BSgenome.Mmusculus.UCSC.mm10)\n",
        "motif_ix <- matchMotifs(mouse_pwms_v2, se, genome = 'mm10')"
      ],
      "execution_count": 18,
      "outputs": []
    },
    {
      "cell_type": "markdown",
      "metadata": {
        "id": "a1oPR4cGiJEV"
      },
      "source": [
        "### Looking for significantly changed motifs in EB"
      ]
    },
    {
      "cell_type": "code",
      "metadata": {
        "id": "-OmwHpVaiHbP"
      },
      "source": [
        "set.seed(4321)\n",
        "valid <- rowSums(assays(se[, is_EB])$counts > 0) >= 2\n",
        "dev_EB <- computeDeviations(object = se[valid, is_EB], annotations = motif_ix[valid, ])\n",
        "v_EB <- computeVariability(dev_EB)"
      ],
      "execution_count": 19,
      "outputs": []
    },
    {
      "cell_type": "code",
      "metadata": {
        "id": "YCOUyiKsSRMw"
      },
      "source": [
        "d_EB_Dox_D25_Flk1pos <- rowMeans(assays(dev_EB)$deviations[, colData(dev_EB)$group %in% c('EB_Dox_D25_Flk1pos')])\n",
        "d_EB_NoDox_D25 <- rowMeans(assays(dev_EB)$deviations[, colData(dev_EB)$group %in% c('EB_NoDox_D25')])"
      ],
      "execution_count": 20,
      "outputs": []
    },
    {
      "cell_type": "code",
      "metadata": {
        "id": "jlOoKnFNiIhY"
      },
      "source": [
        "dat_EB <- assays(dev_EB)$deviations\n",
        "colnames(dat_EB) <- colData(dev_EB)$group"
      ],
      "execution_count": 21,
      "outputs": []
    },
    {
      "cell_type": "code",
      "metadata": {
        "id": "NtDKecG_jUzA"
      },
      "source": [
        "nms <- unique(colnames(dat_EB))"
      ],
      "execution_count": 22,
      "outputs": []
    },
    {
      "cell_type": "code",
      "metadata": {
        "id": "7LkP0lgejS0J"
      },
      "source": [
        "EB <- as.data.frame(sapply(nms, function(x)  rowMeans(dat_EB[,colnames(dat_EB) %in% x])))"
      ],
      "execution_count": 23,
      "outputs": []
    },
    {
      "cell_type": "markdown",
      "metadata": {
        "id": "Y0mVsjX9iOZL"
      },
      "source": [
        "### Looking for significantly changed motifs in MEF"
      ]
    },
    {
      "cell_type": "code",
      "metadata": {
        "id": "CBB7TJIoiNq8"
      },
      "source": [
        "set.seed(8765)\n",
        "valid <- rowSums(assays(se[, is_MEF])$counts > 0) >= 2\n",
        "dev_MEF <- computeDeviations(object = se[valid, is_MEF], annotations = motif_ix[valid, ])\n",
        "v_MEF <- computeVariability(dev_MEF)"
      ],
      "execution_count": 24,
      "outputs": []
    },
    {
      "cell_type": "code",
      "metadata": {
        "id": "peBg2XioSVb_"
      },
      "source": [
        "d_MEF_Dox_D7_Flk1pos <- rowMeans(assays(dev_MEF)$deviations[, colData(dev_MEF)$group %in% c('MEF_Dox_D7_Flk1pos')])\n",
        "d_MEF_NoDox <- rowMeans(assays(dev_MEF)$deviations[, colData(dev_MEF)$group %in% c('MEF_NoDox')])"
      ],
      "execution_count": 25,
      "outputs": []
    },
    {
      "cell_type": "code",
      "metadata": {
        "id": "sbAgWwFkjq2g"
      },
      "source": [
        "dat_MEF <- assays(dev_MEF)$deviations\n",
        "colnames(dat_MEF) <- colData(dev_MEF)$group"
      ],
      "execution_count": 26,
      "outputs": []
    },
    {
      "cell_type": "code",
      "metadata": {
        "id": "hZ6tprPeS5ni"
      },
      "source": [
        "nms <- unique(colnames(dat_MEF))"
      ],
      "execution_count": 27,
      "outputs": []
    },
    {
      "cell_type": "code",
      "metadata": {
        "id": "IvR0hJAYS9Uc"
      },
      "source": [
        "MEF <- as.data.frame(sapply(nms, function(x)  rowMeans(dat_MEF[,colnames(dat_MEF) %in% x])))"
      ],
      "execution_count": 28,
      "outputs": []
    },
    {
      "cell_type": "markdown",
      "metadata": {
        "id": "c5_XtZlRQfYs"
      },
      "source": [
        "# Table containing the list of upregulated TFs"
      ]
    },
    {
      "cell_type": "code",
      "metadata": {
        "id": "1-_dgMr-vYOd"
      },
      "source": [
        "up_overlap <- v_EB$p_value_adj < 0.05 & d_EB_Dox_D25_Flk1pos > d_EB_NoDox_D25 & v_MEF$p_value_adj < 0.05 & d_MEF_Dox_D7_Flk1pos > d_MEF_NoDox"
      ],
      "execution_count": 29,
      "outputs": []
    },
    {
      "cell_type": "code",
      "metadata": {
        "id": "-JlCvHMfvZTd"
      },
      "source": [
        "up <- v_EB[up_overlap,]\n",
        "up$p_value_MEF <- v_MEF$p_value[match(up$name, v_MEF$name)]\n",
        "up$p_value_adj_MEF <- v_MEF$p_value_adj[match(up$name, v_MEF$name)]\n",
        "up$EB_D25_NoDox <- EB$EB_NoDox_D25[match(rownames(up), rownames(EB))]\n",
        "up$EB_D25_Dox_Flk1pos <- EB$EB_Dox_D25_Flk1pos[match(rownames(up), rownames(EB))]\n",
        "up$MEF_NoDox <- MEF$MEF_NoDox[match(rownames(up), rownames(MEF))]\n",
        "up$MEF_Dox_D7_Flk1pos <- MEF$MEF_Dox_D7_Flk1pos[match(rownames(up), rownames(MEF))]"
      ],
      "execution_count": 30,
      "outputs": []
    },
    {
      "cell_type": "code",
      "metadata": {
        "id": "U7VBDC6phf_j"
      },
      "source": [
        "up_names <- colnames(up)"
      ],
      "execution_count": 31,
      "outputs": []
    },
    {
      "cell_type": "code",
      "metadata": {
        "id": "L0X9oykGUU42"
      },
      "source": [
        "up_names <- up_names[!grepl('var|bound', up_names)]"
      ],
      "execution_count": 32,
      "outputs": []
    },
    {
      "cell_type": "code",
      "metadata": {
        "id": "DBA2YTe0U_DX"
      },
      "source": [
        "write.xlsx(up[,up_names], 'pioneer_supplementary_table4.xlsx', sheetName = 'Sheet1', col.names = TRUE, row.names = TRUE)"
      ],
      "execution_count": 33,
      "outputs": []
    },
    {
      "cell_type": "markdown",
      "metadata": {
        "id": "o5k6YXlBVmUd"
      },
      "source": [
        "#  Table containing the list of downregulated TFs"
      ]
    },
    {
      "cell_type": "code",
      "metadata": {
        "id": "mHEKgZezVyDY"
      },
      "source": [
        "down_overlap <- v_EB$p_value_adj < 0.05 & d_EB_Dox_D25_Flk1pos < d_EB_NoDox_D25 & v_MEF$p_value_adj < 0.05 & d_MEF_Dox_D7_Flk1pos < d_MEF_NoDox"
      ],
      "execution_count": 34,
      "outputs": []
    },
    {
      "cell_type": "code",
      "metadata": {
        "id": "9BW5dHNtV3zl"
      },
      "source": [
        "down <- v_EB[down_overlap,]\n",
        "down$p_value_MEF <- v_MEF$p_value[match(down$name, v_MEF$name)]\n",
        "down$p_value_adj_MEF <- v_MEF$p_value_adj[match(down$name, v_MEF$name)]\n",
        "down$EB_D25_NoDox <- EB$EB_NoDox_D25[match(rownames(down), rownames(EB))]\n",
        "down$EB_D25_Dox_Flk1pos <- EB$EB_Dox_D25_Flk1pos[match(rownames(down), rownames(EB))]\n",
        "down$MEF_NoDox <- MEF$MEF_NoDox[match(rownames(down), rownames(MEF))]\n",
        "down$MEF_Dox_D7_Flk1pos <- MEF$MEF_Dox_D7_Flk1pos[match(rownames(down), rownames(MEF))]\n"
      ],
      "execution_count": 35,
      "outputs": []
    },
    {
      "cell_type": "code",
      "metadata": {
        "id": "nebWuVYQWblU"
      },
      "source": [
        "down_names <- colnames(down)"
      ],
      "execution_count": 36,
      "outputs": []
    },
    {
      "cell_type": "code",
      "metadata": {
        "id": "BKTaCCeaWfps"
      },
      "source": [
        "down_names <- down_names[!grepl('var|bound', down_names)]"
      ],
      "execution_count": 37,
      "outputs": []
    },
    {
      "cell_type": "code",
      "metadata": {
        "id": "ttjjC-paWkzM"
      },
      "source": [
        "write.xlsx(down[,down_names], 'pioneer_supplementary_table5.xlsx', sheetName = 'Sheet1', col.names = TRUE, row.names = TRUE)"
      ],
      "execution_count": 38,
      "outputs": []
    },
    {
      "cell_type": "code",
      "metadata": {
        "id": "DLYh9wPhxed2",
        "colab": {
          "base_uri": "https://localhost:8080/",
          "height": 1000
        },
        "outputId": "78f02239-84c2-4fa7-853b-e258ec833d6b"
      },
      "source": [
        "sessionInfo()"
      ],
      "execution_count": 39,
      "outputs": [
        {
          "output_type": "display_data",
          "data": {
            "text/plain": [
              "R version 4.1.1 (2021-08-10)\n",
              "Platform: x86_64-pc-linux-gnu (64-bit)\n",
              "Running under: Ubuntu 18.04.5 LTS\n",
              "\n",
              "Matrix products: default\n",
              "BLAS:   /usr/lib/x86_64-linux-gnu/openblas/libblas.so.3\n",
              "LAPACK: /usr/lib/x86_64-linux-gnu/libopenblasp-r0.2.20.so\n",
              "\n",
              "locale:\n",
              " [1] LC_CTYPE=en_US.UTF-8          LC_NUMERIC=C                 \n",
              " [3] LC_TIME=en_US.UTF-8           LC_COLLATE=en_US.UTF-8       \n",
              " [5] LC_MONETARY=en_US.UTF-8       LC_MESSAGES=en_US.UTF-8      \n",
              " [7] LC_PAPER=en_US.UTF-8          LC_NAME=en_US.UTF-8          \n",
              " [9] LC_ADDRESS=en_US.UTF-8        LC_TELEPHONE=en_US.UTF-8     \n",
              "[11] LC_MEASUREMENT=en_US.UTF-8    LC_IDENTIFICATION=en_US.UTF-8\n",
              "\n",
              "attached base packages:\n",
              " [1] grid      stats4    parallel  stats     graphics  grDevices utils    \n",
              " [8] datasets  methods   base     \n",
              "\n",
              "other attached packages:\n",
              " [1] xlsx_0.6.5                         ggwordcloud_0.5.0                 \n",
              " [3] ggplot2_3.3.5                      VennDiagram_1.6.20                \n",
              " [5] futile.logger_1.4.3                DESeq2_1.32.0                     \n",
              " [7] dplyr_1.0.7                        plyr_1.8.6                        \n",
              " [9] ComplexHeatmap_2.8.0               circlize_0.4.13                   \n",
              "[11] gplots_3.1.1                       SummarizedExperiment_1.22.0       \n",
              "[13] Biobase_2.52.0                     MatrixGenerics_1.4.3              \n",
              "[15] matrixStats_0.61.0                 BiocParallel_1.26.2               \n",
              "[17] motifmatchr_1.14.0                 BSgenome.Mmusculus.UCSC.mm10_1.4.0\n",
              "[19] BSgenome_1.60.0                    rtracklayer_1.52.1                \n",
              "[21] Biostrings_2.60.2                  XVector_0.32.0                    \n",
              "[23] GenomicRanges_1.44.0               GenomeInfoDb_1.28.4               \n",
              "[25] IRanges_2.26.0                     S4Vectors_0.30.2                  \n",
              "[27] BiocGenerics_0.38.0                chromVAR_1.14.0                   \n",
              "[29] chromVARmotifs_0.2.0              \n",
              "\n",
              "loaded via a namespace (and not attached):\n",
              "  [1] uuid_0.1-4                  repr_1.1.3                 \n",
              "  [3] lazyeval_0.2.2              splines_4.1.1              \n",
              "  [5] usethis_2.0.1               TFBSTools_1.30.0           \n",
              "  [7] digest_0.6.27               foreach_1.5.1              \n",
              "  [9] htmltools_0.5.2             GO.db_3.13.0               \n",
              " [11] fansi_0.5.0                 magrittr_2.0.1             \n",
              " [13] memoise_2.0.0               cluster_2.1.2              \n",
              " [15] doParallel_1.0.16           tzdb_0.1.2                 \n",
              " [17] remotes_2.4.0               readr_2.0.2                \n",
              " [19] annotate_1.70.0             R.utils_2.11.0             \n",
              " [21] prettyunits_1.1.1           colorspace_2.0-2           \n",
              " [23] blob_1.2.2                  callr_3.7.0                \n",
              " [25] crayon_1.4.1                RCurl_1.98-1.5             \n",
              " [27] jsonlite_1.7.2              genefilter_1.74.0          \n",
              " [29] TFMPvalue_0.0.8             survival_3.2-13            \n",
              " [31] iterators_1.0.13            glue_1.4.2                 \n",
              " [33] gtable_0.3.0                zlibbioc_1.38.0            \n",
              " [35] GetoptLong_1.0.5            DelayedArray_0.18.0        \n",
              " [37] pkgbuild_1.2.0              shape_1.4.6                \n",
              " [39] scales_1.1.1                futile.options_1.0.1       \n",
              " [41] DBI_1.1.1                   miniUI_0.1.1.1             \n",
              " [43] Rcpp_1.0.7                  viridisLite_0.4.0          \n",
              " [45] xtable_1.8-4                clue_0.3-60                \n",
              " [47] bit_4.0.4                   DT_0.19                    \n",
              " [49] htmlwidgets_1.5.4           httr_1.4.2                 \n",
              " [51] RColorBrewer_1.1-2          nabor_0.5.0                \n",
              " [53] ellipsis_0.3.2              rJava_1.0-5                \n",
              " [55] pkgconfig_2.0.3             XML_3.99-0.8               \n",
              " [57] R.methodsS3_1.8.1           locfit_1.5-9.4             \n",
              " [59] utf8_1.2.2                  tidyselect_1.1.1           \n",
              " [61] rlang_0.4.11                reshape2_1.4.4             \n",
              " [63] later_1.3.0                 AnnotationDbi_1.54.1       \n",
              " [65] munsell_0.5.0               tools_4.1.1                \n",
              " [67] cachem_1.0.6                cli_3.0.1                  \n",
              " [69] DirichletMultinomial_1.34.0 generics_0.1.0             \n",
              " [71] RSQLite_2.2.8               devtools_2.4.2             \n",
              " [73] evaluate_0.14               stringr_1.4.0              \n",
              " [75] fastmap_1.1.0               yaml_2.2.1                 \n",
              " [77] processx_3.5.2              bit64_4.0.5                \n",
              " [79] fs_1.5.0                    caTools_1.18.2             \n",
              " [81] purrr_0.3.4                 KEGGREST_1.32.0            \n",
              " [83] mime_0.12                   formatR_1.11               \n",
              " [85] R.oo_1.24.0                 poweRlaw_0.70.6            \n",
              " [87] pracma_2.3.3                compiler_4.1.1             \n",
              " [89] plotly_4.10.0               curl_4.3.2                 \n",
              " [91] png_0.1-7                   testthat_3.0.4             \n",
              " [93] geneplotter_1.70.0          tibble_3.1.5               \n",
              " [95] stringi_1.7.5               ps_1.6.0                   \n",
              " [97] desc_1.3.0                  lattice_0.20-45            \n",
              " [99] IRdisplay_1.0               CNEr_1.28.0                \n",
              "[101] Matrix_1.3-4                vctrs_0.3.8                \n",
              "[103] pillar_1.6.2                lifecycle_1.0.0            \n",
              "[105] BiocManager_1.30.16         GlobalOptions_0.1.2        \n",
              "[107] data.table_1.14.0           bitops_1.0-7               \n",
              "[109] httpuv_1.6.3                R6_2.5.1                   \n",
              "[111] BiocIO_1.2.0                promises_1.2.0.1           \n",
              "[113] KernSmooth_2.23-20          sessioninfo_1.1.1          \n",
              "[115] codetools_0.2-18            lambda.r_1.2.4             \n",
              "[117] gtools_3.9.2                assertthat_0.2.1           \n",
              "[119] seqLogo_1.58.0              pkgload_1.2.2              \n",
              "[121] xlsxjars_0.6.1              rprojroot_2.0.2            \n",
              "[123] rjson_0.2.20                withr_2.4.2                \n",
              "[125] GenomicAlignments_1.28.0    Rsamtools_2.8.0            \n",
              "[127] GenomeInfoDbData_1.2.6      hms_1.1.1                  \n",
              "[129] IRkernel_1.2                tidyr_1.1.3                \n",
              "[131] Cairo_1.5-12.2              pbdZMQ_0.3-5               \n",
              "[133] shiny_1.7.1                 base64enc_0.1-3            \n",
              "[135] restfulr_0.0.13            "
            ]
          },
          "metadata": {}
        }
      ]
    },
    {
      "cell_type": "code",
      "metadata": {
        "id": "t8JLxMUeybHs",
        "colab": {
          "base_uri": "https://localhost:8080/",
          "height": 35
        },
        "outputId": "cf7d58f2-7ace-47f1-a6ac-59b3c947b01f"
      },
      "source": [
        "Sys.time() - start_time0"
      ],
      "execution_count": 40,
      "outputs": [
        {
          "output_type": "display_data",
          "data": {
            "text/plain": [
              "Time difference of 44.51343 mins"
            ]
          },
          "metadata": {}
        }
      ]
    }
  ]
}