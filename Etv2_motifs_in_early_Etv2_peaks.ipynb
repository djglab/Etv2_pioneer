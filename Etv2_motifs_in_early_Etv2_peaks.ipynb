{
  "nbformat": 4,
  "nbformat_minor": 0,
  "metadata": {
    "kernelspec": {
      "display_name": "R",
      "language": "R",
      "name": "ir"
    },
    "language_info": {
      "codemirror_mode": "r",
      "file_extension": ".r",
      "mimetype": "text/x-r-source",
      "name": "R",
      "pygments_lexer": "r",
      "version": "3.3.1"
    },
    "colab": {
      "name": "Copy of Etv2_motifs_in_early_Etv2_peaks.ipynb",
      "provenance": [],
      "collapsed_sections": [],
      "toc_visible": true,
      "machine_shape": "hm",
      "include_colab_link": true
    }
  },
  "cells": [
    {
      "cell_type": "markdown",
      "metadata": {
        "id": "view-in-github",
        "colab_type": "text"
      },
      "source": [
        "<a href=\"https://colab.research.google.com/github/gongx030/etv2_pioneer/blob/master/Etv2_motifs_in_early_Etv2_peaks.ipynb\" target=\"_parent\"><img src=\"https://colab.research.google.com/assets/colab-badge.svg\" alt=\"Open In Colab\"/></a>"
      ]
    },
    {
      "cell_type": "markdown",
      "metadata": {
        "id": "4TLq2MbDD3zq"
      },
      "source": [
        "# Examine proportion of early, late and sustained Etv2 peaks having canonical Etv2 motifs.\n",
        "by Wuming Gong\n",
        "\n"
      ]
    },
    {
      "cell_type": "markdown",
      "metadata": {
        "id": "Cg_z0P3gg4T9"
      },
      "source": [
        "Current analysis showed that there are a large proportion `early` Etv2 peaks that are present in D1 post induction and disappear during the reprogramming.  Most of these early peaks may be due to the random `scanning` events, that are not associated with particular epigenetic environment or motif pattern.  This notebook is to examine the features of early peaks."
      ]
    },
    {
      "cell_type": "code",
      "metadata": {
        "id": "6OhqEEeZHroa"
      },
      "source": [
        "start_time0 <- Sys.time()\n",
        "options(max.print=1000)"
      ],
      "execution_count": 147,
      "outputs": []
    },
    {
      "cell_type": "markdown",
      "metadata": {
        "id": "obcf6pAcw6TQ"
      },
      "source": [
        "### Install external packages"
      ]
    },
    {
      "cell_type": "code",
      "metadata": {
        "id": "99vS8MZUxApi",
        "colab": {
          "base_uri": "https://localhost:8080/",
          "height": 34
        },
        "outputId": "18836e28-d0fa-4362-bfb2-37c272d51c6f"
      },
      "source": [
        "system('apt-get -q install libgsl-dev', intern = TRUE)"
      ],
      "execution_count": 148,
      "outputs": [
        {
          "output_type": "display_data",
          "data": {
            "text/plain": [
              "[1] \"Reading package lists...\"                                       \n",
              "[2] \"Building dependency tree...\"                                    \n",
              "[3] \"Reading state information...\"                                   \n",
              "[4] \"libgsl-dev is already the newest version (2.4+dfsg-6).\"         \n",
              "[5] \"0 upgraded, 0 newly installed, 0 to remove and 14 not upgraded.\""
            ],
            "text/latex": "\\begin{enumerate*}\n\\item 'Reading package lists...'\n\\item 'Building dependency tree...'\n\\item 'Reading state information...'\n\\item 'libgsl-dev is already the newest version (2.4+dfsg-6).'\n\\item '0 upgraded, 0 newly installed, 0 to remove and 14 not upgraded.'\n\\end{enumerate*}\n",
            "text/markdown": "1. 'Reading package lists...'\n2. 'Building dependency tree...'\n3. 'Reading state information...'\n4. 'libgsl-dev is already the newest version (2.4+dfsg-6).'\n5. '0 upgraded, 0 newly installed, 0 to remove and 14 not upgraded.'\n\n\n",
            "text/html": [
              "<style>\n",
              ".list-inline {list-style: none; margin:0; padding: 0}\n",
              ".list-inline>li {display: inline-block}\n",
              ".list-inline>li:not(:last-child)::after {content: \"\\00b7\"; padding: 0 .5ex}\n",
              "</style>\n",
              "<ol class=list-inline><li>'Reading package lists...'</li><li>'Building dependency tree...'</li><li>'Reading state information...'</li><li>'libgsl-dev is already the newest version (2.4+dfsg-6).'</li><li>'0 upgraded, 0 newly installed, 0 to remove and 14 not upgraded.'</li></ol>\n"
            ]
          },
          "metadata": {
            "tags": []
          }
        }
      ]
    },
    {
      "cell_type": "code",
      "metadata": {
        "id": "HgPXAFx1xZHE",
        "colab": {
          "base_uri": "https://localhost:8080/",
          "height": 34
        },
        "outputId": "c97f7d34-2dd7-4722-e6d9-da8c03550563"
      },
      "source": [
        "system('apt-get install libcairo2-dev', intern = TRUE) # for Cairo package that is required by ComplexHeatmap package"
      ],
      "execution_count": 149,
      "outputs": [
        {
          "output_type": "display_data",
          "data": {
            "text/plain": [
              "[1] \"Reading package lists...\"                                         \n",
              "[2] \"Building dependency tree...\"                                      \n",
              "[3] \"Reading state information...\"                                     \n",
              "[4] \"libcairo2-dev is already the newest version (1.15.10-2ubuntu0.1).\"\n",
              "[5] \"0 upgraded, 0 newly installed, 0 to remove and 14 not upgraded.\"  "
            ],
            "text/latex": "\\begin{enumerate*}\n\\item 'Reading package lists...'\n\\item 'Building dependency tree...'\n\\item 'Reading state information...'\n\\item 'libcairo2-dev is already the newest version (1.15.10-2ubuntu0.1).'\n\\item '0 upgraded, 0 newly installed, 0 to remove and 14 not upgraded.'\n\\end{enumerate*}\n",
            "text/markdown": "1. 'Reading package lists...'\n2. 'Building dependency tree...'\n3. 'Reading state information...'\n4. 'libcairo2-dev is already the newest version (1.15.10-2ubuntu0.1).'\n5. '0 upgraded, 0 newly installed, 0 to remove and 14 not upgraded.'\n\n\n",
            "text/html": [
              "<style>\n",
              ".list-inline {list-style: none; margin:0; padding: 0}\n",
              ".list-inline>li {display: inline-block}\n",
              ".list-inline>li:not(:last-child)::after {content: \"\\00b7\"; padding: 0 .5ex}\n",
              "</style>\n",
              "<ol class=list-inline><li>'Reading package lists...'</li><li>'Building dependency tree...'</li><li>'Reading state information...'</li><li>'libcairo2-dev is already the newest version (1.15.10-2ubuntu0.1).'</li><li>'0 upgraded, 0 newly installed, 0 to remove and 14 not upgraded.'</li></ol>\n"
            ]
          },
          "metadata": {
            "tags": []
          }
        }
      ]
    },
    {
      "cell_type": "markdown",
      "metadata": {
        "id": "wFuTF2MUEiAk"
      },
      "source": [
        "## Install R packages"
      ]
    },
    {
      "cell_type": "code",
      "metadata": {
        "colab": {
          "base_uri": "https://localhost:8080/"
        },
        "id": "0c02HPWEh2nU",
        "outputId": "0021e66e-563e-459d-a9b7-f35e33dd34c2"
      },
      "source": [
        "install.packages('BiocManager')"
      ],
      "execution_count": 150,
      "outputs": [
        {
          "output_type": "stream",
          "text": [
            "Installing package into ‘/usr/local/lib/R/site-library’\n",
            "(as ‘lib’ is unspecified)\n",
            "\n"
          ],
          "name": "stderr"
        }
      ]
    },
    {
      "cell_type": "code",
      "metadata": {
        "id": "8EZ8Zm7zagc0"
      },
      "source": [
        "required_packages <- c(\n",
        "  'devtools', 'BiocManager', \n",
        "  'circlize',\n",
        "  'GenomicRanges', 'rtracklayer', 'EnrichedHeatmap', 'BSgenome.Mmusculus.UCSC.mm10', 'EnrichedHeatmap',\n",
        "  'gsl', 'DirichletMultinomial', 'motifmatchr', 'chromVAR'\n",
        ")"
      ],
      "execution_count": 151,
      "outputs": []
    },
    {
      "cell_type": "code",
      "metadata": {
        "id": "icve41ciuJim"
      },
      "source": [
        "missing_packages <- required_packages[!required_packages %in% rownames(installed.packages())]\n",
        "if (length(missing_packages) > 0){\n",
        "    BiocManager::install(missing_packages)\n",
        "}"
      ],
      "execution_count": 152,
      "outputs": []
    },
    {
      "cell_type": "code",
      "metadata": {
        "id": "-_8xrWHvdUyQ"
      },
      "source": [
        "library(devtools)"
      ],
      "execution_count": 153,
      "outputs": []
    },
    {
      "cell_type": "markdown",
      "metadata": {
        "id": "9g5wfSlVIro3"
      },
      "source": [
        "### Install R packages that are not available on CRAN or Bioc"
      ]
    },
    {
      "cell_type": "code",
      "metadata": {
        "id": "wINp9j--IFpj"
      },
      "source": [
        "if (!require('chromVARmotifs'))\n",
        "  devtools::install_github(\"GreenleafLab/chromVARmotifs\")"
      ],
      "execution_count": 154,
      "outputs": []
    },
    {
      "cell_type": "code",
      "metadata": {
        "id": "Y2rJbPhbKceU"
      },
      "source": [
        "if (!require('ComplexHeatmap'))\n",
        "  devtools::install_github(\"jokergoo/ComplexHeatmap\")"
      ],
      "execution_count": 155,
      "outputs": []
    },
    {
      "cell_type": "markdown",
      "metadata": {
        "id": "-r47NH7jiD99"
      },
      "source": [
        "## Load R packages"
      ]
    },
    {
      "cell_type": "code",
      "metadata": {
        "id": "nQFQk04TzjFj"
      },
      "source": [
        "library(GenomicRanges)\n",
        "library(dplyr)\n",
        "library(BSgenome.Mmusculus.UCSC.mm10)\n",
        "library(motifmatchr)\n",
        "library(chromVARmotifs)\n",
        "library(SummarizedExperiment)\n",
        "library(ggplot2)\n",
        "library(ComplexHeatmap)\n",
        "library(EnrichedHeatmap)\n",
        "library(circlize) # colorRamp2"
      ],
      "execution_count": 156,
      "outputs": []
    },
    {
      "cell_type": "markdown",
      "metadata": {
        "id": "PyJoh9bxbC1C"
      },
      "source": [
        "## Read a combined Etv2 ChIP-seq peak set"
      ]
    },
    {
      "cell_type": "code",
      "metadata": {
        "id": "ojuU1ngisM0z",
        "colab": {
          "base_uri": "https://localhost:8080/",
          "height": 527
        },
        "outputId": "7446afc3-dbc3-4b16-f187-a2c3a621c2b2"
      },
      "source": [
        "all_etv2_peaks_url <- 'https://s3.msi.umn.edu/gongx030/datasets/dataset=Etv2PioneerChIPseq_version=20191203a/all_Etv2_peaks.rds'\n",
        "gr <- all_etv2_peaks_url %>%\n",
        "  url() %>%\n",
        "  gzcon() %>%\n",
        "  readRDS()\n",
        "gr\n",
        "colnames(gr$group)"
      ],
      "execution_count": 157,
      "outputs": [
        {
          "output_type": "display_data",
          "data": {
            "text/plain": [
              "GRanges object with 162010 ranges and 4 metadata columns:\n",
              "           seqnames            ranges strand |                peak_id     score\n",
              "              <Rle>         <IRanges>  <Rle> |            <character> <numeric>\n",
              "       [1]     chr1   3037784-3037983      * | /panfs/roc/scratch/g..  16.22768\n",
              "       [2]     chr1   3263790-3263989      * | /panfs/roc/scratch/g..   8.36521\n",
              "       [3]     chr1   3344682-3344881      * | /panfs/roc/scratch/g..   9.73217\n",
              "       [4]     chr1   3460640-3460839      * | /panfs/roc/scratch/g..   3.92081\n",
              "       [5]     chr1   3490314-3490513      * | /panfs/roc/scratch/g..  12.29730\n",
              "       ...      ...               ...    ... .                    ...       ...\n",
              "  [162006]     chrY 90828936-90829135      * | /panfs/roc/scratch/g.. 160.15463\n",
              "  [162007]     chrY 90836259-90836458      * | /panfs/roc/scratch/g..   8.27339\n",
              "  [162008]     chrY 90841624-90841823      * | /panfs/roc/scratch/g..   1.53792\n",
              "  [162009]     chrY 90842563-90842762      * | /panfs/roc/scratch/g..  11.78216\n",
              "  [162010]     chrY 90843810-90844009      * | /panfs/roc/scratch/g..   5.92807\n",
              "                    source                 group\n",
              "               <character>              <matrix>\n",
              "       [1] MEF_Dox_d2_Etv2   TRUE:TRUE:FALSE:...\n",
              "       [2]  EB_Dox_3h_Etv2 FALSE:FALSE:FALSE:...\n",
              "       [3] MEF_Dox_d2_Etv2  FALSE:TRUE:FALSE:...\n",
              "       [4] MEF_Dox_d2_Etv2  FALSE:TRUE:FALSE:...\n",
              "       [5] MEF_Dox_d2_Etv2   TRUE:TRUE:FALSE:...\n",
              "       ...             ...                   ...\n",
              "  [162006] MEF_Dox_d2_Etv2    TRUE:TRUE:TRUE:...\n",
              "  [162007] MEF_Dox_d7_Etv2  FALSE:FALSE:TRUE:...\n",
              "  [162008] MEF_Dox_d1_Etv2  TRUE:FALSE:FALSE:...\n",
              "  [162009] MEF_Dox_d1_Etv2  TRUE:FALSE:FALSE:...\n",
              "  [162010] MEF_Dox_d1_Etv2  TRUE:FALSE:FALSE:...\n",
              "  -------\n",
              "  seqinfo: 21 sequences from an unspecified genome; no seqlengths"
            ]
          },
          "metadata": {
            "tags": []
          }
        },
        {
          "output_type": "display_data",
          "data": {
            "text/plain": [
              "[1] \"MEF_Dox_d1_Etv2\" \"MEF_Dox_d2_Etv2\" \"MEF_Dox_d7_Etv2\" \"EB_Dox_3h_Etv2\" \n",
              "[5] \"EB_Dox_12h_Etv2\""
            ],
            "text/latex": "\\begin{enumerate*}\n\\item 'MEF\\_Dox\\_d1\\_Etv2'\n\\item 'MEF\\_Dox\\_d2\\_Etv2'\n\\item 'MEF\\_Dox\\_d7\\_Etv2'\n\\item 'EB\\_Dox\\_3h\\_Etv2'\n\\item 'EB\\_Dox\\_12h\\_Etv2'\n\\end{enumerate*}\n",
            "text/markdown": "1. 'MEF_Dox_d1_Etv2'\n2. 'MEF_Dox_d2_Etv2'\n3. 'MEF_Dox_d7_Etv2'\n4. 'EB_Dox_3h_Etv2'\n5. 'EB_Dox_12h_Etv2'\n\n\n",
            "text/html": [
              "<style>\n",
              ".list-inline {list-style: none; margin:0; padding: 0}\n",
              ".list-inline>li {display: inline-block}\n",
              ".list-inline>li:not(:last-child)::after {content: \"\\00b7\"; padding: 0 .5ex}\n",
              "</style>\n",
              "<ol class=list-inline><li>'MEF_Dox_d1_Etv2'</li><li>'MEF_Dox_d2_Etv2'</li><li>'MEF_Dox_d7_Etv2'</li><li>'EB_Dox_3h_Etv2'</li><li>'EB_Dox_12h_Etv2'</li></ol>\n"
            ]
          },
          "metadata": {
            "tags": []
          }
        }
      ]
    },
    {
      "cell_type": "markdown",
      "metadata": {
        "id": "a1hv-1rW-Qji"
      },
      "source": [
        "## Split the Etv2 MEF peaks into three groups\n",
        "1. on at D1 and off at D7 (early)\n",
        "2. off at D1 and on at D7 (late)\n",
        "3. on at both D1 and D7 (sustained)"
      ]
    },
    {
      "cell_type": "code",
      "metadata": {
        "id": "hOy8j6dS-PB9",
        "colab": {
          "base_uri": "https://localhost:8080/"
        },
        "outputId": "8c7f76cd-604b-484e-b194-8b1d9cb6a91b"
      },
      "source": [
        "peaks_MEF <- gr[gr$group[, 'MEF_Dox_d1_Etv2'] | gr$group[, 'MEF_Dox_d7_Etv2']]\n",
        "message(sprintf('number of early peaks: %d\\n', sum(peaks_MEF$group[, 'MEF_Dox_d1_Etv2'] & !peaks_MEF$group[, 'MEF_Dox_d7_Etv2'])))\n",
        "message(sprintf('number of late peaks: %d\\n', sum(!peaks_MEF$group[, 'MEF_Dox_d1_Etv2'] & peaks_MEF$group[, 'MEF_Dox_d7_Etv2'])))\n",
        "message(sprintf('number of sustained peaks: %d\\n', sum(peaks_MEF$group[, 'MEF_Dox_d1_Etv2'] & peaks_MEF$group[, 'MEF_Dox_d7_Etv2'])))"
      ],
      "execution_count": 158,
      "outputs": [
        {
          "output_type": "stream",
          "text": [
            "number of early peaks: 111167\n",
            "\n",
            "\n",
            "number of late peaks: 4222\n",
            "\n",
            "\n",
            "number of sustained peaks: 12170\n",
            "\n",
            "\n"
          ],
          "name": "stderr"
        }
      ]
    },
    {
      "cell_type": "markdown",
      "metadata": {
        "id": "B8uNZcPJo7un"
      },
      "source": [
        "### Split the Etv2 ES/SB peaks into three groups\n",
        "1. on at 3h and off at 12h (early)\n",
        "2. off at 3h and on at 12h (late)\n",
        "3. on at both 3h and 12h (sustained)\n"
      ]
    },
    {
      "cell_type": "code",
      "metadata": {
        "id": "Bmcfzjduo7uo",
        "colab": {
          "base_uri": "https://localhost:8080/"
        },
        "outputId": "52191138-1218-4203-b034-e8c55e93c59c"
      },
      "source": [
        "peaks_EB <- gr[gr$group[, 'EB_Dox_3h_Etv2'] | gr$group[, 'EB_Dox_12h_Etv2']]\n",
        "cat(sprintf('number of early peaks: %d\\n', sum(peaks_EB$group[, 'EB_Dox_3h_Etv2'] & !peaks_EB$group[, 'EB_Dox_12h_Etv2'])))\n",
        "cat(sprintf('number of late peaks: %d\\n', sum(!peaks_EB$group[, 'EB_Dox_3h_Etv2'] & peaks_EB$group[, 'EB_Dox_12h_Etv2'])))\n",
        "cat(sprintf('number of sustained peaks: %d\\n', sum(peaks_EB$group[, 'EB_Dox_3h_Etv2'] & peaks_EB$group[, 'EB_Dox_12h_Etv2'])))"
      ],
      "execution_count": 159,
      "outputs": [
        {
          "output_type": "stream",
          "text": [
            "number of early peaks: 8488\n",
            "number of late peaks: 3356\n",
            "number of sustained peaks: 7807\n"
          ],
          "name": "stdout"
        }
      ]
    },
    {
      "cell_type": "markdown",
      "metadata": {
        "id": "vyT2iPxhe4Y8"
      },
      "source": [
        "## Load motifs"
      ]
    },
    {
      "cell_type": "code",
      "metadata": {
        "id": "r5n2v0oPe2mK"
      },
      "source": [
        "data('homer_pwms')"
      ],
      "execution_count": 160,
      "outputs": []
    },
    {
      "cell_type": "code",
      "metadata": {
        "colab": {
          "base_uri": "https://localhost:8080/",
          "height": 51
        },
        "id": "okwfYJmLn1y-",
        "outputId": "c5eb10d4-2407-43f5-8209-a30f82b10ca8"
      },
      "source": [
        "homer_pwms['Etv2(ETS)/ES-ER71-ChIP-Seq(GSE59402)/Homer(0.967)']"
      ],
      "execution_count": 161,
      "outputs": [
        {
          "output_type": "display_data",
          "data": {
            "text/plain": [
              "PWMatrixList of length 1\n",
              "names(1): Etv2(ETS)/ES-ER71-ChIP-Seq(GSE59402)/Homer(0.967)"
            ]
          },
          "metadata": {
            "tags": []
          }
        }
      ]
    },
    {
      "cell_type": "markdown",
      "metadata": {
        "id": "CuLDYqqVhl_P"
      },
      "source": [
        "## Find motif binding sites"
      ]
    },
    {
      "cell_type": "code",
      "metadata": {
        "id": "mw2Z2x3RpuWA"
      },
      "source": [
        "cutoff <- 5e-4\n",
        "width <- 50L"
      ],
      "execution_count": 162,
      "outputs": []
    },
    {
      "cell_type": "code",
      "metadata": {
        "id": "PPjdFRavh0bG"
      },
      "source": [
        "motif_ix <- matchMotifs(\n",
        "  homer_pwms['Etv2(ETS)/ES-ER71-ChIP-Seq(GSE59402)/Homer(0.967)'], \n",
        "  resize(peaks_MEF, width = width, fix = 'center'), \n",
        "  genome = BSgenome.Mmusculus.UCSC.mm10,\n",
        "  p.cutoff = cutoff\n",
        ")\n",
        "has_motif_MEF  <- assays(motif_ix)$motifMatches[, 1]"
      ],
      "execution_count": 163,
      "outputs": []
    },
    {
      "cell_type": "code",
      "metadata": {
        "id": "SBefpwA1Xezy"
      },
      "source": [
        "motif_ix <- matchMotifs(\n",
        "  homer_pwms['Etv2(ETS)/ES-ER71-ChIP-Seq(GSE59402)/Homer(0.967)'], \n",
        "  resize(peaks_EB, width = width, fix = 'center'), \n",
        "  genome = BSgenome.Mmusculus.UCSC.mm10,\n",
        "  p.cutoff = cutoff\n",
        ")\n",
        "has_motif_EB  <- assays(motif_ix)$motifMatches[, 1]"
      ],
      "execution_count": 164,
      "outputs": []
    },
    {
      "cell_type": "code",
      "metadata": {
        "colab": {
          "base_uri": "https://localhost:8080/",
          "height": 204
        },
        "id": "XLf6RtIhXlVO",
        "outputId": "2e5c7b06-72e2-40d1-9ceb-dfc86efe9c5a"
      },
      "source": [
        "d <- rbind(\n",
        "  data.frame(\n",
        "    n = sum(peaks_MEF$group[, 'MEF_Dox_d1_Etv2'] & !peaks_MEF$group[, 'MEF_Dox_d7_Etv2']),\n",
        "    type = 'early',\n",
        "    n_Etv2 = sum(has_motif_MEF & peaks_MEF$group[, 'MEF_Dox_d1_Etv2'] & !peaks_MEF$group[, 'MEF_Dox_d7_Etv2']),\n",
        "    celltype = 'MEF'\n",
        "  ),\n",
        "  data.frame(\n",
        "    n = sum(peaks_MEF$group[, 'MEF_Dox_d1_Etv2'] & peaks_MEF$group[, 'MEF_Dox_d7_Etv2']),\n",
        "    type = 'sustained',\n",
        "    n_Etv2 = sum(has_motif_MEF & peaks_MEF$group[, 'MEF_Dox_d1_Etv2'] & peaks_MEF$group[, 'MEF_Dox_d7_Etv2']),\n",
        "    celltype = 'MEF'\n",
        "  ),\n",
        "  data.frame(\n",
        "    n = sum(!peaks_MEF$group[, 'MEF_Dox_d1_Etv2'] & peaks_MEF$group[, 'MEF_Dox_d7_Etv2']),\n",
        "    type = 'late',\n",
        "    n_Etv2 = sum(has_motif_MEF & !peaks_MEF$group[, 'MEF_Dox_d1_Etv2'] & peaks_MEF$group[, 'MEF_Dox_d7_Etv2']),\n",
        "    celltype = 'MEF'\n",
        "  ),\n",
        "  data.frame(\n",
        "    n = sum(peaks_EB$group[, 'EB_Dox_3h_Etv2'] & !peaks_EB$group[, 'EB_Dox_12h_Etv2']),\n",
        "    type = 'early',\n",
        "    n_Etv2 = sum(has_motif_EB & peaks_EB$group[, 'EB_Dox_3h_Etv2'] & !peaks_EB$group[, 'EB_Dox_12h_Etv2']),\n",
        "    celltype = 'EB'\n",
        "  ),\n",
        "  data.frame(\n",
        "    n = sum(peaks_EB$group[, 'EB_Dox_3h_Etv2'] & peaks_EB$group[, 'EB_Dox_12h_Etv2']),\n",
        "    type = 'sustained',\n",
        "    n_Etv2 = sum(has_motif_EB & peaks_EB$group[, 'EB_Dox_3h_Etv2'] & peaks_EB$group[, 'EB_Dox_12h_Etv2']),\n",
        "    celltype = 'EB'\n",
        "  ),\n",
        "  data.frame(\n",
        "    n = sum(!peaks_EB$group[, 'EB_Dox_3h_Etv2'] & peaks_EB$group[, 'EB_Dox_12h_Etv2']),\n",
        "    type = 'late',\n",
        "    n_Etv2 = sum(has_motif_EB & !peaks_EB$group[, 'EB_Dox_3h_Etv2'] & peaks_EB$group[, 'EB_Dox_12h_Etv2']),\n",
        "    celltype = 'EB'\n",
        "  )\n",
        ")\n",
        "d"
      ],
      "execution_count": 165,
      "outputs": [
        {
          "output_type": "display_data",
          "data": {
            "text/plain": [
              "  n      type      n_Etv2 celltype\n",
              "1 111167 early     14074  MEF     \n",
              "2  12170 sustained  4965  MEF     \n",
              "3   4222 late       2304  MEF     \n",
              "4   8488 early      3058  EB      \n",
              "5   7807 sustained  4470  EB      \n",
              "6   3356 late       1962  EB      "
            ],
            "text/latex": "A data.frame: 6 × 4\n\\begin{tabular}{llll}\n n & type & n\\_Etv2 & celltype\\\\\n <int> & <chr> & <int> & <chr>\\\\\n\\hline\n\t 111167 & early     & 14074 & MEF\\\\\n\t  12170 & sustained &  4965 & MEF\\\\\n\t   4222 & late      &  2304 & MEF\\\\\n\t   8488 & early     &  3058 & EB \\\\\n\t   7807 & sustained &  4470 & EB \\\\\n\t   3356 & late      &  1962 & EB \\\\\n\\end{tabular}\n",
            "text/markdown": "\nA data.frame: 6 × 4\n\n| n &lt;int&gt; | type &lt;chr&gt; | n_Etv2 &lt;int&gt; | celltype &lt;chr&gt; |\n|---|---|---|---|\n| 111167 | early     | 14074 | MEF |\n|  12170 | sustained |  4965 | MEF |\n|   4222 | late      |  2304 | MEF |\n|   8488 | early     |  3058 | EB  |\n|   7807 | sustained |  4470 | EB  |\n|   3356 | late      |  1962 | EB  |\n\n",
            "text/html": [
              "<table>\n",
              "<caption>A data.frame: 6 × 4</caption>\n",
              "<thead>\n",
              "\t<tr><th scope=col>n</th><th scope=col>type</th><th scope=col>n_Etv2</th><th scope=col>celltype</th></tr>\n",
              "\t<tr><th scope=col>&lt;int&gt;</th><th scope=col>&lt;chr&gt;</th><th scope=col>&lt;int&gt;</th><th scope=col>&lt;chr&gt;</th></tr>\n",
              "</thead>\n",
              "<tbody>\n",
              "\t<tr><td>111167</td><td>early    </td><td>14074</td><td>MEF</td></tr>\n",
              "\t<tr><td> 12170</td><td>sustained</td><td> 4965</td><td>MEF</td></tr>\n",
              "\t<tr><td>  4222</td><td>late     </td><td> 2304</td><td>MEF</td></tr>\n",
              "\t<tr><td>  8488</td><td>early    </td><td> 3058</td><td>EB </td></tr>\n",
              "\t<tr><td>  7807</td><td>sustained</td><td> 4470</td><td>EB </td></tr>\n",
              "\t<tr><td>  3356</td><td>late     </td><td> 1962</td><td>EB </td></tr>\n",
              "</tbody>\n",
              "</table>\n"
            ]
          },
          "metadata": {
            "tags": []
          }
        }
      ]
    },
    {
      "cell_type": "code",
      "metadata": {
        "colab": {
          "base_uri": "https://localhost:8080/",
          "height": 317
        },
        "id": "pow5vAWjt2Ur",
        "outputId": "c6dc33aa-6936-407c-b944-2b2721b5867f"
      },
      "source": [
        "options(repr.plot.width = 5, repr.plot.height = 5)\n",
        "d %>% \n",
        "  mutate(ratio = n_Etv2 / n) %>%\n",
        "  mutate(type = factor(type, c('late', 'early', 'sustained'))) %>% \n",
        "  ggplot(aes(x = type, y = ratio, fill = celltype)) +\n",
        "    geom_bar(stat=\"identity\", position=position_dodge()) "
      ],
      "execution_count": 166,
      "outputs": [
        {
          "output_type": "display_data",
          "data": {
            "image/png": "[encoded data removed]",
            "text/plain": [
              "plot without title"
            ]
          },
          "metadata": {
            "tags": [],
            "image/png": {
              "width": 300,
              "height": 300
            }
          }
        }
      ]
    },
    {
      "cell_type": "markdown",
      "metadata": {
        "id": "Nl1WoYgwBevl"
      },
      "source": [
        "A significantly larger proportion of early peaks in EB has Etv2 motifs than early peaks in MEF.  This suggested that in EB, the Etv2 is less likely to be trapped by some random sites."
      ]
    },
    {
      "cell_type": "markdown",
      "metadata": {
        "id": "HFpxGir4YWAB"
      },
      "source": [
        "## Examine the distribution of Etv2 motifs for each binding group"
      ]
    },
    {
      "cell_type": "code",
      "metadata": {
        "id": "9RDYzeSTZ8az"
      },
      "source": [
        "width <- 501\n",
        "peaks_MEF2 <- resize(peaks_MEF, fix = 'center', width = width)"
      ],
      "execution_count": 167,
      "outputs": []
    },
    {
      "cell_type": "code",
      "metadata": {
        "id": "c8HMlXSbYZsY"
      },
      "source": [
        "binding_sites <- matchMotifs(\n",
        "  homer_pwms['Etv2(ETS)/ES-ER71-ChIP-Seq(GSE59402)/Homer(0.967)'], \n",
        "  resize(peaks_MEF2, width = 2 * width, fix = 'center'),\n",
        "  genome = BSgenome.Mmusculus.UCSC.mm10,\n",
        "  p.cutoff = cutoff,\n",
        "  out = 'positions'\n",
        ")[[1]]"
      ],
      "execution_count": 168,
      "outputs": []
    },
    {
      "cell_type": "code",
      "metadata": {
        "colab": {
          "base_uri": "https://localhost:8080/"
        },
        "id": "auPOQiVKaBRx",
        "outputId": "fc0d4c52-c658-4267-cd4f-70e1c0fd247d"
      },
      "source": [
        "seqlevels(binding_sites) <- seqlevels(BSgenome.Mmusculus.UCSC.mm10)\n",
        "seqlengths(seqinfo(binding_sites)) <- seqlengths(BSgenome.Mmusculus.UCSC.mm10)\n",
        "genome(seqinfo(binding_sites)) <- providerVersion(BSgenome.Mmusculus.UCSC.mm10)"
      ],
      "execution_count": 169,
      "outputs": [
        {
          "output_type": "stream",
          "text": [
            "Warning message:\n",
            "“  Using providerVersion() on a BSgenome object is deprecated. Please use\n",
            "  'metadata(x)$genome' instead.”\n"
          ],
          "name": "stderr"
        }
      ]
    },
    {
      "cell_type": "code",
      "metadata": {
        "id": "s1gF8cv4Yykp"
      },
      "source": [
        "cvg <- coverage(binding_sites, weight = 'score')"
      ],
      "execution_count": 170,
      "outputs": []
    },
    {
      "cell_type": "code",
      "metadata": {
        "id": "l-DwuR1Sgsrv"
      },
      "source": [
        "pos <- 1:width - (width + 1)/2"
      ],
      "execution_count": 171,
      "outputs": []
    },
    {
      "cell_type": "code",
      "metadata": {
        "id": "rCvnMw10gURC"
      },
      "source": [
        "df_MEF <- rbind(\n",
        "  data.frame(\n",
        "    position = pos,\n",
        "    density = cvg[peaks_MEF2[peaks_MEF2$group[, 'MEF_Dox_d1_Etv2'] & !peaks_MEF2$group[, 'MEF_Dox_d7_Etv2']]]  %>% as.matrix() %>% colMeans(),\n",
        "    group = 'early'\n",
        "  ),\n",
        "  data.frame(\n",
        "    position = pos,\n",
        "    density = cvg[peaks_MEF2[!peaks_MEF2$group[, 'MEF_Dox_d1_Etv2'] & peaks_MEF2$group[, 'MEF_Dox_d7_Etv2']]]  %>% as.matrix() %>% colMeans(),\n",
        "    group = 'late'\n",
        "  ),\n",
        "  data.frame(\n",
        "    position = pos,\n",
        "    density = cvg[peaks_MEF2[peaks_MEF2$group[, 'MEF_Dox_d1_Etv2'] & peaks_MEF2$group[, 'MEF_Dox_d7_Etv2']]]  %>% as.matrix() %>% colMeans(),\n",
        "    group = 'sustained'\n",
        "  )\n",
        ")"
      ],
      "execution_count": 172,
      "outputs": []
    },
    {
      "cell_type": "code",
      "metadata": {
        "id": "CBUxNGMPiQiV"
      },
      "source": [
        "peaks_EB2 <- resize(peaks_EB, fix = 'center', width = width)"
      ],
      "execution_count": 173,
      "outputs": []
    },
    {
      "cell_type": "code",
      "metadata": {
        "id": "qmGaAGQ_iQig"
      },
      "source": [
        "binding_sites <- matchMotifs(\n",
        "  homer_pwms['Etv2(ETS)/ES-ER71-ChIP-Seq(GSE59402)/Homer(0.967)'], \n",
        "  resize(peaks_EB2, width = 2 * width, fix = 'center'),\n",
        "  genome = BSgenome.Mmusculus.UCSC.mm10,\n",
        "  p.cutoff = cutoff,\n",
        "  out = 'positions'\n",
        ")[[1]]"
      ],
      "execution_count": 174,
      "outputs": []
    },
    {
      "cell_type": "code",
      "metadata": {
        "colab": {
          "base_uri": "https://localhost:8080/"
        },
        "id": "PCLmALMQiQig",
        "outputId": "ea23e77b-4915-40b1-edf6-71bd9d49f695"
      },
      "source": [
        "seqlevels(binding_sites) <- seqlevels(BSgenome.Mmusculus.UCSC.mm10)\n",
        "seqlengths(seqinfo(binding_sites)) <- seqlengths(BSgenome.Mmusculus.UCSC.mm10)\n",
        "genome(seqinfo(binding_sites)) <- providerVersion(BSgenome.Mmusculus.UCSC.mm10)"
      ],
      "execution_count": 175,
      "outputs": [
        {
          "output_type": "stream",
          "text": [
            "Warning message:\n",
            "“  Using providerVersion() on a BSgenome object is deprecated. Please use\n",
            "  'metadata(x)$genome' instead.”\n"
          ],
          "name": "stderr"
        }
      ]
    },
    {
      "cell_type": "code",
      "metadata": {
        "id": "pSjs9IEriQih"
      },
      "source": [
        "cvg <- coverage(binding_sites, weight = 'score')"
      ],
      "execution_count": 176,
      "outputs": []
    },
    {
      "cell_type": "code",
      "metadata": {
        "id": "FypVMYYDiQih"
      },
      "source": [
        "df_EB <- rbind(\n",
        "  data.frame(\n",
        "    position = pos,\n",
        "    density = cvg[peaks_EB2[peaks_EB2$group[, 'EB_Dox_3h_Etv2'] & !peaks_EB2$group[, 'EB_Dox_12h_Etv2']]]  %>% as.matrix() %>% colMeans(),\n",
        "    group = 'early'\n",
        "  ),\n",
        "  data.frame(\n",
        "    position = pos,\n",
        "    density = cvg[peaks_EB2[!peaks_EB2$group[, 'EB_Dox_3h_Etv2'] & peaks_EB2$group[, 'EB_Dox_12h_Etv2']]]  %>% as.matrix() %>% colMeans(),\n",
        "    group = 'late'\n",
        "  ),\n",
        "  data.frame(\n",
        "    position = pos,\n",
        "    density = cvg[peaks_EB2[peaks_EB2$group[, 'EB_Dox_3h_Etv2'] & peaks_EB2$group[, 'EB_Dox_12h_Etv2']]]  %>% as.matrix() %>% colMeans(),\n",
        "    group = 'sustained'\n",
        "  )\n",
        ")"
      ],
      "execution_count": 184,
      "outputs": []
    },
    {
      "cell_type": "code",
      "metadata": {
        "colab": {
          "base_uri": "https://localhost:8080/",
          "height": 317
        },
        "id": "5qWa1LuhZiwF",
        "outputId": "320ab0f9-f630-4645-97b0-133683f8cb4e"
      },
      "source": [
        "options(repr.plot.width = 10, repr.plot.height = 5)\n",
        "rbind(\n",
        "  cbind(df_MEF, cell = 'MEF'),\n",
        "  cbind(df_EB, cell = 'EB')\n",
        ") %>%\n",
        "  ggplot(aes(x = position, y = density, color = group)) +\n",
        "    geom_line(size = 1.1) +\n",
        "    scale_x_continuous(name = 'Position', breaks = c(-250, 0, 250), expand = c(0, 0)) +\n",
        "    scale_color_manual(values=c(early = \"red\", late = \"black\", sustained = 'darkgreen')) +\n",
        "    facet_grid(~ cell)\n"
      ],
      "execution_count": 185,
      "outputs": [
        {
          "output_type": "display_data",
          "data": {
            "image/png": "[encoded data removed]",
            "text/plain": [
              "plot without title"
            ]
          },
          "metadata": {
            "tags": [],
            "image/png": {
              "width": 600,
              "height": 300
            }
          }
        }
      ]
    },
    {
      "cell_type": "code",
      "metadata": {
        "id": "DLYh9wPhxed2",
        "colab": {
          "base_uri": "https://localhost:8080/",
          "height": 1000
        },
        "outputId": "b3661f04-f8be-4005-b860-3cd4dce8e91d"
      },
      "source": [
        "sessionInfo()"
      ],
      "execution_count": 179,
      "outputs": [
        {
          "output_type": "display_data",
          "data": {
            "text/plain": [
              "R version 4.0.3 (2020-10-10)\n",
              "Platform: x86_64-pc-linux-gnu (64-bit)\n",
              "Running under: Ubuntu 18.04.5 LTS\n",
              "\n",
              "Matrix products: default\n",
              "BLAS:   /usr/lib/x86_64-linux-gnu/openblas/libblas.so.3\n",
              "LAPACK: /usr/lib/x86_64-linux-gnu/libopenblasp-r0.2.20.so\n",
              "\n",
              "locale:\n",
              " [1] LC_CTYPE=en_US.UTF-8       LC_NUMERIC=C              \n",
              " [3] LC_TIME=en_US.UTF-8        LC_COLLATE=en_US.UTF-8    \n",
              " [5] LC_MONETARY=en_US.UTF-8    LC_MESSAGES=en_US.UTF-8   \n",
              " [7] LC_PAPER=en_US.UTF-8       LC_NAME=C                 \n",
              " [9] LC_ADDRESS=C               LC_TELEPHONE=C            \n",
              "[11] LC_MEASUREMENT=en_US.UTF-8 LC_IDENTIFICATION=C       \n",
              "\n",
              "attached base packages:\n",
              " [1] parallel  stats4    grid      stats     graphics  grDevices utils    \n",
              " [8] datasets  methods   base     \n",
              "\n",
              "other attached packages:\n",
              " [1] circlize_0.4.11                    EnrichedHeatmap_1.20.0            \n",
              " [3] ggplot2_3.3.2                      SummarizedExperiment_1.20.0       \n",
              " [5] Biobase_2.50.0                     MatrixGenerics_1.2.0              \n",
              " [7] matrixStats_0.57.0                 chromVARmotifs_0.2.0              \n",
              " [9] motifmatchr_1.12.0                 BSgenome.Mmusculus.UCSC.mm10_1.4.0\n",
              "[11] BSgenome_1.58.0                    rtracklayer_1.50.0                \n",
              "[13] Biostrings_2.58.0                  XVector_0.30.0                    \n",
              "[15] dplyr_1.0.2                        GenomicRanges_1.42.0              \n",
              "[17] GenomeInfoDb_1.26.2                IRanges_2.24.1                    \n",
              "[19] S4Vectors_0.28.1                   BiocGenerics_0.36.0               \n",
              "[21] ComplexHeatmap_2.6.2               devtools_2.3.2                    \n",
              "[23] usethis_1.6.3                     \n",
              "\n",
              "loaded via a namespace (and not attached):\n",
              "  [1] colorspace_2.0-0            rjson_0.2.20               \n",
              "  [3] ellipsis_0.3.1              rprojroot_2.0.2            \n",
              "  [5] IRdisplay_0.7.0             GlobalOptions_0.1.2        \n",
              "  [7] base64enc_0.1-3             fs_1.5.0                   \n",
              "  [9] clue_0.3-58                 farver_2.0.3               \n",
              " [11] remotes_2.2.0               bit64_4.0.5                \n",
              " [13] AnnotationDbi_1.52.0        fansi_0.4.1                \n",
              " [15] R.methodsS3_1.8.1           pkgload_1.1.0              \n",
              " [17] IRkernel_1.1.1              jsonlite_1.7.1             \n",
              " [19] Rsamtools_2.6.0             Cairo_1.5-12.2             \n",
              " [21] seqLogo_1.56.0              annotate_1.68.0            \n",
              " [23] cluster_2.1.0               GO.db_3.12.1               \n",
              " [25] R.oo_1.24.0                 png_0.1-7                  \n",
              " [27] BiocManager_1.30.10         readr_1.4.0                \n",
              " [29] compiler_4.0.3              httr_1.4.2                 \n",
              " [31] assertthat_0.2.1            Matrix_1.2-18              \n",
              " [33] cli_2.2.0                   htmltools_0.5.0            \n",
              " [35] prettyunits_1.1.1           tools_4.0.3                \n",
              " [37] gtable_0.3.0                glue_1.4.2                 \n",
              " [39] TFMPvalue_0.0.8             GenomeInfoDbData_1.2.4     \n",
              " [41] reshape2_1.4.4              Rcpp_1.0.5                 \n",
              " [43] vctrs_0.3.5                 CNEr_1.26.0                \n",
              " [45] stringr_1.4.0               ps_1.4.0                   \n",
              " [47] testthat_3.0.0              lifecycle_0.2.0            \n",
              " [49] poweRlaw_0.70.6             gtools_3.8.2               \n",
              " [51] XML_3.99-0.5                zlibbioc_1.36.0            \n",
              " [53] scales_1.1.1                hms_0.5.3                  \n",
              " [55] RColorBrewer_1.1-2          curl_4.3                   \n",
              " [57] memoise_1.1.0               stringi_1.5.3              \n",
              " [59] RSQLite_2.2.1               desc_1.2.0                 \n",
              " [61] caTools_1.18.0              pkgbuild_1.1.0             \n",
              " [63] BiocParallel_1.24.1         shape_1.4.5                \n",
              " [65] repr_1.1.0                  rlang_0.4.9                \n",
              " [67] pkgconfig_2.0.3             bitops_1.0-6               \n",
              " [69] pracma_2.2.9                evaluate_0.14              \n",
              " [71] lattice_0.20-41             purrr_0.3.4                \n",
              " [73] labeling_0.4.2              GenomicAlignments_1.26.0   \n",
              " [75] bit_4.0.4                   processx_3.4.5             \n",
              " [77] tidyselect_1.1.0            plyr_1.8.6                 \n",
              " [79] magrittr_2.0.1              R6_2.5.0                   \n",
              " [81] generics_0.1.0              pbdZMQ_0.3-3.1             \n",
              " [83] DelayedArray_0.16.0         DBI_1.1.0                  \n",
              " [85] pillar_1.4.7                withr_2.3.0                \n",
              " [87] KEGGREST_1.30.1             RCurl_1.98-1.2             \n",
              " [89] tibble_3.0.4                crayon_1.3.4               \n",
              " [91] uuid_0.1-4                  GetoptLong_1.0.4           \n",
              " [93] TFBSTools_1.28.0            locfit_1.5-9.4             \n",
              " [95] blob_1.2.1                  callr_3.5.1                \n",
              " [97] digest_0.6.27               xtable_1.8-4               \n",
              " [99] R.utils_2.10.1              munsell_0.5.0              \n",
              "[101] DirichletMultinomial_1.32.0 sessioninfo_1.1.1          "
            ]
          },
          "metadata": {
            "tags": []
          }
        }
      ]
    },
    {
      "cell_type": "code",
      "metadata": {
        "id": "t8JLxMUeybHs",
        "colab": {
          "base_uri": "https://localhost:8080/",
          "height": 34
        },
        "outputId": "c0aee09e-17ae-4c76-a88e-79f3463911f0"
      },
      "source": [
        "Sys.time() - start_time0"
      ],
      "execution_count": 180,
      "outputs": [
        {
          "output_type": "display_data",
          "data": {
            "text/plain": [
              "Time difference of 21.2844 secs"
            ]
          },
          "metadata": {
            "tags": []
          }
        }
      ]
    },
    {
      "cell_type": "code",
      "metadata": {
        "id": "K89EGe2ByhLp"
      },
      "source": [
        ""
      ],
      "execution_count": 181,
      "outputs": []
    },
    {
      "cell_type": "code",
      "metadata": {
        "id": "4hpLCs7bA2AF"
      },
      "source": [
        ""
      ],
      "execution_count": 182,
      "outputs": []
    },
    {
      "cell_type": "code",
      "metadata": {
        "id": "-oajFg17l8aH"
      },
      "source": [
        ""
      ],
      "execution_count": 183,
      "outputs": []
    }
  ]
}