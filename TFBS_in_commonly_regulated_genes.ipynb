{
  "nbformat": 4,
  "nbformat_minor": 0,
  "metadata": {
    "kernelspec": {
      "display_name": "R",
      "language": "R",
      "name": "ir"
    },
    "language_info": {
      "codemirror_mode": "r",
      "file_extension": ".r",
      "mimetype": "text/x-r-source",
      "name": "R",
      "pygments_lexer": "r",
      "version": "3.3.1"
    },
    "colab": {
      "name": "TFBS_in_commonly_regulated_genes.ipynb",
      "provenance": [],
      "collapsed_sections": [],
      "toc_visible": true,
      "machine_shape": "hm",
      "include_colab_link": true
    }
  },
  "cells": [
    {
      "cell_type": "markdown",
      "metadata": {
        "id": "view-in-github",
        "colab_type": "text"
      },
      "source": [
        "<a href=\"https://colab.research.google.com/github/gongx030/etv2_pioneer/blob/master/TFBS_in_commonly_regulated_genes.ipynb\" target=\"_parent\"><img src=\"https://colab.research.google.com/assets/colab-badge.svg\" alt=\"Open In Colab\"/></a>"
      ]
    },
    {
      "cell_type": "markdown",
      "metadata": {
        "id": "4TLq2MbDD3zq"
      },
      "source": [
        "# Find the enriched TFBS (motifs) in commonly up- and down-regulated genes in EB and MEFs on Etv2 induction.\n",
        "by Wuming Gong\n",
        "\n"
      ]
    },
    {
      "cell_type": "code",
      "metadata": {
        "id": "6OhqEEeZHroa"
      },
      "source": [
        "start_time0 <- Sys.time()"
      ],
      "execution_count": 1,
      "outputs": []
    },
    {
      "cell_type": "markdown",
      "metadata": {
        "id": "wFuTF2MUEiAk"
      },
      "source": [
        "## Install R packages"
      ]
    },
    {
      "cell_type": "code",
      "metadata": {
        "id": "b3J0sAX6ZKyi",
        "colab": {
          "base_uri": "https://localhost:8080/",
          "height": 34
        },
        "outputId": "7a76da3e-a1cc-461c-c09a-f356ef0c19bf"
      },
      "source": [
        "system('apt-get -q install libgsl-dev', intern = TRUE)"
      ],
      "execution_count": 2,
      "outputs": [
        {
          "output_type": "display_data",
          "data": {
            "text/plain": [
              "[1] \"Reading package lists...\"                                       \n",
              "[2] \"Building dependency tree...\"                                    \n",
              "[3] \"Reading state information...\"                                   \n",
              "[4] \"libgsl-dev is already the newest version (2.4+dfsg-6).\"         \n",
              "[5] \"0 upgraded, 0 newly installed, 0 to remove and 13 not upgraded.\""
            ],
            "text/latex": "\\begin{enumerate*}\n\\item 'Reading package lists...'\n\\item 'Building dependency tree...'\n\\item 'Reading state information...'\n\\item 'libgsl-dev is already the newest version (2.4+dfsg-6).'\n\\item '0 upgraded, 0 newly installed, 0 to remove and 13 not upgraded.'\n\\end{enumerate*}\n",
            "text/markdown": "1. 'Reading package lists...'\n2. 'Building dependency tree...'\n3. 'Reading state information...'\n4. 'libgsl-dev is already the newest version (2.4+dfsg-6).'\n5. '0 upgraded, 0 newly installed, 0 to remove and 13 not upgraded.'\n\n\n",
            "text/html": [
              "<style>\n",
              ".list-inline {list-style: none; margin:0; padding: 0}\n",
              ".list-inline>li {display: inline-block}\n",
              ".list-inline>li:not(:last-child)::after {content: \"\\00b7\"; padding: 0 .5ex}\n",
              "</style>\n",
              "<ol class=list-inline><li>'Reading package lists...'</li><li>'Building dependency tree...'</li><li>'Reading state information...'</li><li>'libgsl-dev is already the newest version (2.4+dfsg-6).'</li><li>'0 upgraded, 0 newly installed, 0 to remove and 13 not upgraded.'</li></ol>\n"
            ]
          },
          "metadata": {
            "tags": []
          }
        }
      ]
    },
    {
      "cell_type": "code",
      "metadata": {
        "colab": {
          "base_uri": "https://localhost:8080/",
          "height": 34
        },
        "id": "4VW4YMD8Xjfb",
        "outputId": "f0a5bffc-313c-4f3e-ae61-307ea9dec768"
      },
      "source": [
        "system('apt-get install libcairo2-dev', intern = TRUE) # for Cairo package that is required by ComplexHeatmap package"
      ],
      "execution_count": 3,
      "outputs": [
        {
          "output_type": "display_data",
          "data": {
            "text/plain": [
              "[1] \"Reading package lists...\"                                         \n",
              "[2] \"Building dependency tree...\"                                      \n",
              "[3] \"Reading state information...\"                                     \n",
              "[4] \"libcairo2-dev is already the newest version (1.15.10-2ubuntu0.1).\"\n",
              "[5] \"0 upgraded, 0 newly installed, 0 to remove and 13 not upgraded.\"  "
            ],
            "text/latex": "\\begin{enumerate*}\n\\item 'Reading package lists...'\n\\item 'Building dependency tree...'\n\\item 'Reading state information...'\n\\item 'libcairo2-dev is already the newest version (1.15.10-2ubuntu0.1).'\n\\item '0 upgraded, 0 newly installed, 0 to remove and 13 not upgraded.'\n\\end{enumerate*}\n",
            "text/markdown": "1. 'Reading package lists...'\n2. 'Building dependency tree...'\n3. 'Reading state information...'\n4. 'libcairo2-dev is already the newest version (1.15.10-2ubuntu0.1).'\n5. '0 upgraded, 0 newly installed, 0 to remove and 13 not upgraded.'\n\n\n",
            "text/html": [
              "<style>\n",
              ".list-inline {list-style: none; margin:0; padding: 0}\n",
              ".list-inline>li {display: inline-block}\n",
              ".list-inline>li:not(:last-child)::after {content: \"\\00b7\"; padding: 0 .5ex}\n",
              "</style>\n",
              "<ol class=list-inline><li>'Reading package lists...'</li><li>'Building dependency tree...'</li><li>'Reading state information...'</li><li>'libcairo2-dev is already the newest version (1.15.10-2ubuntu0.1).'</li><li>'0 upgraded, 0 newly installed, 0 to remove and 13 not upgraded.'</li></ol>\n"
            ]
          },
          "metadata": {
            "tags": []
          }
        }
      ]
    },
    {
      "cell_type": "code",
      "metadata": {
        "colab": {
          "base_uri": "https://localhost:8080/"
        },
        "id": "2AQqz-pyE0b7",
        "outputId": "36fda5a5-6302-47aa-fd75-e94bcee2326a"
      },
      "source": [
        "install.packages('BiocManager')"
      ],
      "execution_count": 4,
      "outputs": [
        {
          "output_type": "stream",
          "text": [
            "Installing package into ‘/usr/local/lib/R/site-library’\n",
            "(as ‘lib’ is unspecified)\n",
            "\n"
          ],
          "name": "stderr"
        }
      ]
    },
    {
      "cell_type": "code",
      "metadata": {
        "id": "hv8nq9sjEzhx"
      },
      "source": [
        "required_packages <- c(\n",
        "  'devtools', 'circlize', 'dplyr', 'gplots', 'plyr',\n",
        "  'SummarizedExperiment', 'BSgenome.Mmusculus.UCSC.mm10', 'BiocParallel', \n",
        "  'rtracklayer', 'EnrichedHeatmap', 'ChIPpeakAnno', 'ChIPseeker', 'TxDb.Mmusculus.UCSC.mm10.knownGene', \n",
        "  'gsl', 'DirichletMultinomial', 'chromVAR', 'motifmatchr', 'PWMEnrich',\n",
        "  'ComplexHeatmap',\n",
        "  'DESeq2',\n",
        "  'VennDiagram', 'ggwordcloud',\n",
        "  'biomaRt'\n",
        ")"
      ],
      "execution_count": 5,
      "outputs": []
    },
    {
      "cell_type": "code",
      "metadata": {
        "id": "FDu62M5JFJZt"
      },
      "source": [
        "missing_packages <- required_packages[!required_packages %in% rownames(installed.packages())]\n",
        "if (length(missing_packages) > 0){\n",
        "    BiocManager::install(missing_packages)\n",
        "}"
      ],
      "execution_count": 6,
      "outputs": []
    },
    {
      "cell_type": "code",
      "metadata": {
        "colab": {
          "base_uri": "https://localhost:8080/"
        },
        "id": "7HiwIFHxX7p_",
        "outputId": "82ee0cb7-07c4-41c4-a12f-86f1d83656c5"
      },
      "source": [
        "devtools::install_github(\"GreenleafLab/chromVARmotifs\")"
      ],
      "execution_count": 7,
      "outputs": [
        {
          "output_type": "stream",
          "text": [
            "Skipping install of 'chromVARmotifs' from a github remote, the SHA1 (38bed559) has not changed since last install.\n",
            "  Use `force = TRUE` to force installation\n",
            "\n"
          ],
          "name": "stderr"
        }
      ]
    },
    {
      "cell_type": "code",
      "metadata": {
        "id": "nQFQk04TzjFj",
        "colab": {
          "base_uri": "https://localhost:8080/"
        },
        "outputId": "c364dab4-94e3-4fd8-cae1-8fdaf003b2b5"
      },
      "source": [
        "library(chromVARmotifs)\n",
        "library(chromVAR)\n",
        "library(BSgenome.Mmusculus.UCSC.mm10)\n",
        "library(motifmatchr)\n",
        "library(BiocParallel)\n",
        "library(SummarizedExperiment)\n",
        "library(gplots)\n",
        "library(circlize)\n",
        "library(ComplexHeatmap)\n",
        "register(MulticoreParam(2)) \n",
        "library(plyr)\n",
        "library(dplyr)\n",
        "library(DESeq2)\n",
        "library(VennDiagram)\n",
        "library(ggwordcloud)\n",
        "library(biomaRt)\n",
        "library(GenomicFeatures)\n",
        "library(Matrix)"
      ],
      "execution_count": 35,
      "outputs": [
        {
          "output_type": "stream",
          "text": [
            "\n",
            "Attaching package: ‘Matrix’\n",
            "\n",
            "\n",
            "The following object is masked from ‘package:S4Vectors’:\n",
            "\n",
            "    expand\n",
            "\n",
            "\n"
          ],
          "name": "stderr"
        }
      ]
    },
    {
      "cell_type": "markdown",
      "metadata": {
        "id": "i7P7x1pncBax"
      },
      "source": [
        "## Read scRNA-seq of MEF reprogramming"
      ]
    },
    {
      "cell_type": "code",
      "metadata": {
        "id": "nI2NMXboqGxI"
      },
      "source": [
        "sc_file <- 'https://s3.msi.umn.edu/gongx030/etv2_pioneer/data/processed_Etv2_scRNAseq.rds'\n",
        "command <- sprintf('wget -x -c -nH %s', sc_file)\n",
        "command %>% system()"
      ],
      "execution_count": 9,
      "outputs": []
    },
    {
      "cell_type": "code",
      "metadata": {
        "id": "556fcwk5cAWq",
        "colab": {
          "base_uri": "https://localhost:8080/",
          "height": 68
        },
        "outputId": "64c7d328-a009-4933-9254-2d14fb11cba3"
      },
      "source": [
        "se_sc <- gsub('https://s3.msi.umn.edu/', './', sc_file) %>% readRDS()\n",
        "table(colData(se_sc)$group)"
      ],
      "execution_count": 10,
      "outputs": [
        {
          "output_type": "display_data",
          "data": {
            "text/plain": [
              "\n",
              "  MEF_NoDox  MEF_Dox_D1  MEF_Dox_D2 MEF_Dox_D7a MEF_Dox_D7b \n",
              "       3562         948        2936        7202         827 "
            ]
          },
          "metadata": {
            "tags": []
          }
        }
      ]
    },
    {
      "cell_type": "markdown",
      "metadata": {
        "id": "s-UvBnXSha6_"
      },
      "source": [
        "## Find the DE genes between MEF D7 Flk1+ cells and undifferentiated MEF"
      ]
    },
    {
      "cell_type": "code",
      "metadata": {
        "id": "iGplSK6GsYPk",
        "colab": {
          "base_uri": "https://localhost:8080/"
        },
        "outputId": "ba2e576a-1511-4f28-ee08-13fae9a4449e"
      },
      "source": [
        "X <- assays(se_sc)$scaled_counts\n",
        "j_MEF_NoDox <- colData(se_sc)$group %in% 'MEF_NoDox'\n",
        "j_MEF_Dox_D7_Flk1pos <- colData(se_sc)$group %in% c('MEF_Dox_D7b')\n",
        "pvalues <- mclapply(\n",
        "  1:nrow(X), \n",
        "  function(i) wilcox.test(X[i, j_MEF_Dox_D7_Flk1pos], X[i, j_MEF_NoDox])$p.value,\n",
        "  mc.cores = 2\n",
        ") %>% unlist()"
      ],
      "execution_count": 11,
      "outputs": [
        {
          "output_type": "stream",
          "text": [
            "dimnames(.) <- NULL:  translated to \n",
            "dimnames(.) <- list(NULL,NULL)  <==>  unname(.)\n",
            "\n",
            "dimnames(.) <- NULL:  translated to \n",
            "dimnames(.) <- list(NULL,NULL)  <==>  unname(.)\n",
            "\n"
          ],
          "name": "stderr"
        }
      ]
    },
    {
      "cell_type": "markdown",
      "metadata": {
        "id": "suGsvJ4wtKZD"
      },
      "source": [
        "## Read bulk RNA-seq of EB differentiation"
      ]
    },
    {
      "cell_type": "code",
      "metadata": {
        "id": "frgpTS3xhprU"
      },
      "source": [
        "se_bulk <- readRDS(gzcon(url('https://s3.msi.umn.edu/gongx030/datasets/dataset=Etv2RNA-seq_version=20190909a/se.rds')))"
      ],
      "execution_count": 12,
      "outputs": []
    },
    {
      "cell_type": "markdown",
      "metadata": {
        "id": "l4iZYk_Ihqzu"
      },
      "source": [
        "## Find  DE genes between no dox and Flk1+ cells post induction"
      ]
    },
    {
      "cell_type": "code",
      "metadata": {
        "id": "BomFTf6KsnEp",
        "colab": {
          "base_uri": "https://localhost:8080/"
        },
        "outputId": "524066ac-18ec-430d-b263-8ec714e94247"
      },
      "source": [
        "se_bulk <- DESeqDataSet(se_bulk, design = ~ group)\n",
        "se_bulk <- estimateSizeFactors(se_bulk)\n",
        "se_bulk <- DESeq(se_bulk)\n",
        "assays(se_bulk)$normalized_counts <- log2(counts(se_bulk, normalized = TRUE) + 1)\n",
        "res <- results(se_bulk, contrast = c('group', 'EB_Dox_D25_Flk1pos_Etv2', 'EB_NoDox_D25_Etv2'))"
      ],
      "execution_count": 13,
      "outputs": [
        {
          "output_type": "stream",
          "text": [
            "Warning message in DESeqDataSet(se_bulk, design = ~group):\n",
            "“some variables in design formula are characters, converting to factors”\n",
            "using pre-existing size factors\n",
            "\n",
            "estimating dispersions\n",
            "\n",
            "gene-wise dispersion estimates\n",
            "\n",
            "mean-dispersion relationship\n",
            "\n",
            "final dispersion estimates\n",
            "\n",
            "fitting model and testing\n",
            "\n"
          ],
          "name": "stderr"
        }
      ]
    },
    {
      "cell_type": "markdown",
      "metadata": {
        "id": "RlMai_kNh2hc"
      },
      "source": [
        "## Merge the scRNA-seq and bulk RNA-seq by gene symbols.\n"
      ]
    },
    {
      "cell_type": "code",
      "metadata": {
        "id": "17mqW7Gsh1sN",
        "colab": {
          "base_uri": "https://localhost:8080/",
          "height": 183
        },
        "outputId": "752b385e-2885-4c04-a01f-dbec83f75858"
      },
      "source": [
        "d_rna_merge <- merge(\n",
        "  data.frame(\n",
        "    symbol = rownames(res), \n",
        "    EB_log2FoldChange = res$log2FoldChange, \n",
        "    EB_pvalue = res$pvalue\n",
        "  ),\n",
        "  data.frame(\n",
        "    symbol = rowData(se_sc)$name, \n",
        "    MEF_log2FoldChange = rowMeans(X[, j_MEF_Dox_D7_Flk1pos]) - rowMeans(X[, j_MEF_NoDox]), \n",
        "    MEF_pvalue = pvalues\n",
        "  ),\n",
        "  by.x = 'symbol',\n",
        "  by.y = 'symbol'\n",
        ") %>%\n",
        "  filter(!is.na(EB_pvalue) & !is.na(MEF_pvalue)) %>%\n",
        "  filter(!duplicated(symbol))\n",
        "rownames(d_rna_merge) <- d_rna_merge$symbol\n",
        "d_rna_merge %>% filter(symbol %in% c('Etv2', 'Kdr', 'Emcn', 'Cdh5', 'Runx1'))"
      ],
      "execution_count": 14,
      "outputs": [
        {
          "output_type": "display_data",
          "data": {
            "text/plain": [
              "      symbol EB_log2FoldChange EB_pvalue    MEF_log2FoldChange MEF_pvalue   \n",
              "Cdh5  Cdh5   7.534863          1.315189e-43  1.5647330          0.000000e+00\n",
              "Emcn  Emcn   5.908320          6.634402e-03  1.4578199          0.000000e+00\n",
              "Etv2  Etv2   5.462880          0.000000e+00  1.1166636         3.666651e-272\n",
              "Kdr   Kdr    7.093824          0.000000e+00  1.7277936          0.000000e+00\n",
              "Runx1 Runx1  1.891086          1.139845e-11 -0.3865211          1.138801e-25"
            ],
            "text/latex": "A data.frame: 5 × 5\n\\begin{tabular}{r|lllll}\n  & symbol & EB\\_log2FoldChange & EB\\_pvalue & MEF\\_log2FoldChange & MEF\\_pvalue\\\\\n  & <chr> & <dbl> & <dbl> & <dbl> & <dbl>\\\\\n\\hline\n\tCdh5 & Cdh5  & 7.534863 & 1.315189e-43 &  1.5647330 &  0.000000e+00\\\\\n\tEmcn & Emcn  & 5.908320 & 6.634402e-03 &  1.4578199 &  0.000000e+00\\\\\n\tEtv2 & Etv2  & 5.462880 & 0.000000e+00 &  1.1166636 & 3.666651e-272\\\\\n\tKdr & Kdr   & 7.093824 & 0.000000e+00 &  1.7277936 &  0.000000e+00\\\\\n\tRunx1 & Runx1 & 1.891086 & 1.139845e-11 & -0.3865211 &  1.138801e-25\\\\\n\\end{tabular}\n",
            "text/markdown": "\nA data.frame: 5 × 5\n\n| <!--/--> | symbol &lt;chr&gt; | EB_log2FoldChange &lt;dbl&gt; | EB_pvalue &lt;dbl&gt; | MEF_log2FoldChange &lt;dbl&gt; | MEF_pvalue &lt;dbl&gt; |\n|---|---|---|---|---|---|\n| Cdh5 | Cdh5  | 7.534863 | 1.315189e-43 |  1.5647330 |  0.000000e+00 |\n| Emcn | Emcn  | 5.908320 | 6.634402e-03 |  1.4578199 |  0.000000e+00 |\n| Etv2 | Etv2  | 5.462880 | 0.000000e+00 |  1.1166636 | 3.666651e-272 |\n| Kdr | Kdr   | 7.093824 | 0.000000e+00 |  1.7277936 |  0.000000e+00 |\n| Runx1 | Runx1 | 1.891086 | 1.139845e-11 | -0.3865211 |  1.138801e-25 |\n\n",
            "text/html": [
              "<table>\n",
              "<caption>A data.frame: 5 × 5</caption>\n",
              "<thead>\n",
              "\t<tr><th></th><th scope=col>symbol</th><th scope=col>EB_log2FoldChange</th><th scope=col>EB_pvalue</th><th scope=col>MEF_log2FoldChange</th><th scope=col>MEF_pvalue</th></tr>\n",
              "\t<tr><th></th><th scope=col>&lt;chr&gt;</th><th scope=col>&lt;dbl&gt;</th><th scope=col>&lt;dbl&gt;</th><th scope=col>&lt;dbl&gt;</th><th scope=col>&lt;dbl&gt;</th></tr>\n",
              "</thead>\n",
              "<tbody>\n",
              "\t<tr><th scope=row>Cdh5</th><td>Cdh5 </td><td>7.534863</td><td>1.315189e-43</td><td> 1.5647330</td><td> 0.000000e+00</td></tr>\n",
              "\t<tr><th scope=row>Emcn</th><td>Emcn </td><td>5.908320</td><td>6.634402e-03</td><td> 1.4578199</td><td> 0.000000e+00</td></tr>\n",
              "\t<tr><th scope=row>Etv2</th><td>Etv2 </td><td>5.462880</td><td>0.000000e+00</td><td> 1.1166636</td><td>3.666651e-272</td></tr>\n",
              "\t<tr><th scope=row>Kdr</th><td>Kdr  </td><td>7.093824</td><td>0.000000e+00</td><td> 1.7277936</td><td> 0.000000e+00</td></tr>\n",
              "\t<tr><th scope=row>Runx1</th><td>Runx1</td><td>1.891086</td><td>1.139845e-11</td><td>-0.3865211</td><td> 1.138801e-25</td></tr>\n",
              "</tbody>\n",
              "</table>\n"
            ]
          },
          "metadata": {
            "tags": []
          }
        }
      ]
    },
    {
      "cell_type": "markdown",
      "metadata": {
        "id": "rrrMd9K3VJea"
      },
      "source": [
        "## Summarize commonly up- and down-regulated genes"
      ]
    },
    {
      "cell_type": "code",
      "metadata": {
        "colab": {
          "base_uri": "https://localhost:8080/"
        },
        "id": "_o-qYASFUEUZ",
        "outputId": "9812e94a-586d-4ba7-d5d2-5e1742d28647"
      },
      "source": [
        "up_in_EB <- d_rna_merge$EB_pvalue < 1e-3 & d_rna_merge$EB_log2FoldChange > 0\n",
        "up_in_MEF <- d_rna_merge$MEF_pvalue < 1e-3 & d_rna_merge$MEF_log2FoldChange > 0\n",
        "down_in_EB <- d_rna_merge$EB_pvalue < 1e-3 & d_rna_merge$EB_log2FoldChange < 0\n",
        "down_in_MEF <- d_rna_merge$MEF_pvalue < 1e-3 & d_rna_merge$MEF_log2FoldChange < 0\n",
        "sprintf('# of up-regulated genes in EB: %d', sum(up_in_EB)) %>% message()\n",
        "sprintf('# of up-regulated genes in MEF: %d', sum(up_in_MEF)) %>% message()\n",
        "sprintf('# of up-regulated genes in both EB and MEF: %d', sum(up_in_EB & up_in_MEF)) %>% message()\n",
        "sprintf('# of down-regulated genes in EB: %d', sum(down_in_EB)) %>% message()\n",
        "sprintf('# of down-regulated genes in MEF: %d', sum(down_in_MEF)) %>% message()\n",
        "sprintf('# of down-regulated genes in both EB and MEF: %d', sum(down_in_EB & down_in_MEF)) %>% message()"
      ],
      "execution_count": 15,
      "outputs": [
        {
          "output_type": "stream",
          "text": [
            "# of up-regulated genes in EB: 2308\n",
            "\n",
            "# of up-regulated genes in MEF: 2057\n",
            "\n",
            "# of up-regulated genes in both EB and MEF: 615\n",
            "\n",
            "# of down-regulated genes in EB: 2319\n",
            "\n",
            "# of down-regulated genes in MEF: 5421\n",
            "\n",
            "# of down-regulated genes in both EB and MEF: 1395\n",
            "\n"
          ],
          "name": "stderr"
        }
      ]
    },
    {
      "cell_type": "markdown",
      "metadata": {
        "id": "aMsXyzR2Xwu2"
      },
      "source": [
        "## Retrieve the TSS regions of all genes"
      ]
    },
    {
      "cell_type": "code",
      "metadata": {
        "colab": {
          "base_uri": "https://localhost:8080/"
        },
        "id": "h1wzPO00V9cA",
        "outputId": "f84a987a-66a3-41d0-8cb9-631ace79a9fc"
      },
      "source": [
        "mouse <- useMart(\"ensembl\", dataset = \"mmusculus_gene_ensembl\") # mm10"
      ],
      "execution_count": 16,
      "outputs": [
        {
          "output_type": "stream",
          "text": [
            "Ensembl site unresponsive, trying useast mirror\n",
            "\n",
            "Ensembl site unresponsive, trying asia mirror\n",
            "\n"
          ],
          "name": "stderr"
        }
      ]
    },
    {
      "cell_type": "code",
      "metadata": {
        "id": "1jVVUcm1YVGF"
      },
      "source": [
        "bm <- getBM(\n",
        "  attributes = c('external_gene_name', 'ensembl_transcript_id', 'chromosome_name', 'transcription_start_site', 'strand'),\n",
        "  filters = 'external_gene_name',\n",
        "  values = d_rna_merge$symbol,\n",
        "  mart = mouse\n",
        ")"
      ],
      "execution_count": 17,
      "outputs": []
    },
    {
      "cell_type": "code",
      "metadata": {
        "id": "DhTwcDrIUqPk"
      },
      "source": [
        "bm <- bm %>% \n",
        "  filter(chromosome_name %in% c(1:19, 'X', 'Y')) %>%\n",
        "  mutate(strand = if_else(strand == 1, '+', '-')) %>%\n",
        "  mutate(seqnames = sprintf('chr%s', chromosome_name)) "
      ],
      "execution_count": 18,
      "outputs": []
    },
    {
      "cell_type": "code",
      "metadata": {
        "colab": {
          "base_uri": "https://localhost:8080/",
          "height": 34
        },
        "id": "6rXrC4k_cby3",
        "outputId": "dcc7f8e0-0631-4cce-aa90-6ffb1cb4273d"
      },
      "source": [
        "d_rna_merge$symbol[up_in_EB] %>% head()"
      ],
      "execution_count": 19,
      "outputs": [
        {
          "output_type": "display_data",
          "data": {
            "text/plain": [
              "[1] \"1110059E24Rik\" \"1500009L16Rik\" \"1600012H06Rik\" \"1600020E01Rik\"\n",
              "[5] \"1700020I14Rik\" \"1700029J07Rik\""
            ],
            "text/latex": "\\begin{enumerate*}\n\\item '1110059E24Rik'\n\\item '1500009L16Rik'\n\\item '1600012H06Rik'\n\\item '1600020E01Rik'\n\\item '1700020I14Rik'\n\\item '1700029J07Rik'\n\\end{enumerate*}\n",
            "text/markdown": "1. '1110059E24Rik'\n2. '1500009L16Rik'\n3. '1600012H06Rik'\n4. '1600020E01Rik'\n5. '1700020I14Rik'\n6. '1700029J07Rik'\n\n\n",
            "text/html": [
              "<style>\n",
              ".list-inline {list-style: none; margin:0; padding: 0}\n",
              ".list-inline>li {display: inline-block}\n",
              ".list-inline>li:not(:last-child)::after {content: \"\\00b7\"; padding: 0 .5ex}\n",
              "</style>\n",
              "<ol class=list-inline><li>'1110059E24Rik'</li><li>'1500009L16Rik'</li><li>'1600012H06Rik'</li><li>'1600020E01Rik'</li><li>'1700020I14Rik'</li><li>'1700029J07Rik'</li></ol>\n"
            ]
          },
          "metadata": {
            "tags": []
          }
        }
      ]
    },
    {
      "cell_type": "code",
      "metadata": {
        "id": "bBz7OSF6cGnN"
      },
      "source": [
        "gr <- GRanges(\n",
        "  seqnames = bm$seqnames,\n",
        "  range = IRanges(start = bm$transcription_start_site, width = 1L),\n",
        "  strand = bm$strand,\n",
        "  external_gene_name = bm$external_gene_name,\n",
        "  ensembl_transcript_id = bm$ensembl_transcript_id,\n",
        "  up_in_EB = bm$external_gene_name %in% d_rna_merge$symbol[up_in_EB],\n",
        "  up_in_MEF = bm$external_gene_name %in% d_rna_merge$symbol[up_in_MEF],\n",
        "  down_in_EB = bm$external_gene_name %in% d_rna_merge$symbol[down_in_EB],\n",
        "  down_in_MEF = bm$external_gene_name %in% d_rna_merge$symbol[down_in_MEF],\n",
        "  up_in_both = bm$external_gene_name %in% d_rna_merge$symbol[up_in_EB] & bm$external_gene_name %in% d_rna_merge$symbol[up_in_MEF],\n",
        "  down_in_both = bm$external_gene_name %in% d_rna_merge$symbol[down_in_EB] & bm$external_gene_name %in% d_rna_merge$symbol[down_in_MEF]\n",
        ")"
      ],
      "execution_count": 20,
      "outputs": []
    },
    {
      "cell_type": "markdown",
      "metadata": {
        "id": "dMvu96ZPde52"
      },
      "source": [
        "The upstream/downstream 10K region of each TSS"
      ]
    },
    {
      "cell_type": "code",
      "metadata": {
        "id": "ETsNYj_gcxoM"
      },
      "source": [
        "gr <- gr %>% resize(fix = 'center', width = 5000)"
      ],
      "execution_count": 21,
      "outputs": []
    },
    {
      "cell_type": "code",
      "metadata": {
        "id": "6O3eP3KBuNrQ"
      },
      "source": [
        "GT <- sparseMatrix(\n",
        "  i = as.numeric(factor(gr$external_gene_name, rownames(d_rna_merge))),\n",
        "  j = 1:length(gr),\n",
        "  dims = c(nrow(d_rna_merge), length(gr)),\n",
        "  dimnames = list(rownames(d_rna_merge), NULL)\n",
        ") # gene ~ transcripts (TSS)"
      ],
      "execution_count": 47,
      "outputs": []
    },
    {
      "cell_type": "markdown",
      "metadata": {
        "id": "OnBJllfEh_dI"
      },
      "source": [
        "## Find the motifs that are present in each extended TSS region"
      ]
    },
    {
      "cell_type": "code",
      "metadata": {
        "id": "tPhgnHQSstWP"
      },
      "source": [
        "data(\"homer_pwms\") \n",
        "motif_ix <- matchMotifs(homer_pwms, gr, genome = 'mm10', out = 'positions')"
      ],
      "execution_count": 22,
      "outputs": []
    },
    {
      "cell_type": "code",
      "metadata": {
        "id": "TzfYGX1NhONr"
      },
      "source": [
        "ids <- rep(1:length(motif_ix), sapply(motif_ix, length))"
      ],
      "execution_count": 26,
      "outputs": []
    },
    {
      "cell_type": "code",
      "metadata": {
        "id": "p4lyCzztnrjg"
      },
      "source": [
        "motif_ix <- unlist(motif_ix)"
      ],
      "execution_count": 27,
      "outputs": []
    },
    {
      "cell_type": "code",
      "metadata": {
        "id": "iyDO53VQtSJ5"
      },
      "source": [
        "MB <- sparseMatrix(\n",
        "  i = ids,\n",
        "  j = 1:length(motif_ix),\n",
        "  dims = c(length(homer_pwms), length(motif_ix)),\n",
        "  dimnames = list(names(homer_pwms), NULL)\n",
        ") %>% \n",
        "  as('dgCMatrix') # motif ~ TFBS"
      ],
      "execution_count": 42,
      "outputs": []
    },
    {
      "cell_type": "code",
      "metadata": {
        "id": "WMfuxFvhoZ6C"
      },
      "source": [
        "mm <- findOverlaps(motif_ix, gr) %>% as.matrix()"
      ],
      "execution_count": 29,
      "outputs": []
    },
    {
      "cell_type": "code",
      "metadata": {
        "id": "_PYHvqJWhVT2"
      },
      "source": [
        "BT <- sparseMatrix(\n",
        "  i = mm[, 1],\n",
        "  j = mm[, 2],\n",
        "  dims = c(length(motif_ix), length(gr))\n",
        ") # TFBS ~ TSS"
      ],
      "execution_count": 39,
      "outputs": []
    },
    {
      "cell_type": "code",
      "metadata": {
        "id": "7IpbA-oqh5eh"
      },
      "source": [
        "MT <- MB %*% BT # motif ~ TSS, occurence"
      ],
      "execution_count": 43,
      "outputs": []
    },
    {
      "cell_type": "code",
      "metadata": {
        "id": "VpQKHU-Gu1VD"
      },
      "source": [
        "GM <- Diagonal(x = 1 / rowSums(GT)) %*% GT %*% t(MT)"
      ],
      "execution_count": 54,
      "outputs": []
    },
    {
      "cell_type": "code",
      "metadata": {
        "id": "hL83lJ_Cvi2A"
      },
      "source": [
        "pvalue_up_EB <- sapply(1:ncol(GM), function(i) wilcox.test(GM[up_in_EB , i],GM[!up_in_EB, i], alternative = 'greater')$p.value)\n",
        "pvalue_up_MEF <- sapply(1:ncol(GM), function(i) wilcox.test(GM[up_in_MEF, i],GM[!up_in_MEF, i], alternative = 'greater')$p.value)\n",
        "pvalue_down_MEF <- sapply(1:ncol(GM), function(i) wilcox.test(GM[down_in_MEF, i],GM[!down_in_MEF, i], alternative = 'greater')$p.value)\n",
        "pvalue_down_EB <- sapply(1:ncol(GM), function(i) wilcox.test(GM[down_in_EB, i],GM[!down_in_EB, i], alternative = 'greater')$p.value)"
      ],
      "execution_count": 94,
      "outputs": []
    },
    {
      "cell_type": "code",
      "metadata": {
        "id": "YkJWtGxNzZBO"
      },
      "source": [
        "df <- data.frame(\n",
        "  name = colnames(GM),\n",
        "  up_EB = pvalue_up_EB,\n",
        "  down_EB = pvalue_down_EB,\n",
        "  up_MEF = pvalue_up_MEF,\n",
        "  down_MEF = pvalue_down_MEF\n",
        ")"
      ],
      "execution_count": 137,
      "outputs": []
    },
    {
      "cell_type": "code",
      "metadata": {
        "id": "iNnpRjb0xn2Q"
      },
      "source": [
        "df <- df %>%\n",
        "  filter((up_EB < 0.001 & up_MEF < 0.001) | (down_EB < 0.001 & down_MEF < 0.001))"
      ],
      "execution_count": 167,
      "outputs": []
    },
    {
      "cell_type": "code",
      "metadata": {
        "id": "ZM0P1bIv0fVm"
      },
      "source": [
        "xx <- df[, c('up_EB', 'up_MEF', 'down_EB', 'down_MEF')] %>% \n",
        "  as.matrix()\n",
        "rownames(xx) <- gsub('\\\\(.+.+', '', df$name)"
      ],
      "execution_count": 168,
      "outputs": []
    },
    {
      "cell_type": "code",
      "metadata": {
        "id": "H00bd-I_3NdZ"
      },
      "source": [
        "column_annotation <- HeatmapAnnotation(\n",
        "  direction = c('up', 'up', 'down', 'down'),\n",
        "  cell_type = c('EB', 'MEF', 'EB', 'MEF'),\n",
        "  col = list(\n",
        "    cell_type = c(\n",
        "      'EB' = 'yellow',\n",
        "      'MEF' = 'lightpink'\n",
        "    ),\n",
        "    direction = c(\n",
        "      'up' = 'red',\n",
        "      'down' = 'blue'\n",
        "    )\n",
        "  ),\n",
        "  show_legend = TRUE,\n",
        "  annotation_name_side = \"left\"\n",
        ")"
      ],
      "execution_count": 169,
      "outputs": []
    },
    {
      "cell_type": "code",
      "metadata": {
        "colab": {
          "base_uri": "https://localhost:8080/",
          "height": 437
        },
        "id": "bTWf_J_OwiIe",
        "outputId": "da74486a-a99a-4151-b1ec-adad25d19b63"
      },
      "source": [
        "options(repr.plot.width = 8, repr.plot.height = 7)\n",
        "col_fun <- colorRamp2(c(0, -log10(0.05), -log10(1e-10)), c(\"black\", \"black\", \"green\"))\n",
        "Heatmap(\n",
        "  -log10(xx),\n",
        "  cluster_rows = TRUE,\n",
        "  cluster_columns = FALSE,\n",
        "  show_column_dend = FALSE,\n",
        "  show_row_dend = FALSE,\n",
        "  show_column_names = FALSE,\n",
        "  show_row_names = TRUE,\n",
        "  col = col_fun,\n",
        "  row_names_gp = gpar(fontsize = 20),\n",
        "  top_annotation = column_annotation,\n",
        ")"
      ],
      "execution_count": 172,
      "outputs": [
        {
          "output_type": "display_data",
          "data": {
            "image/png": "[encoded data removed]",
            "text/plain": [
              "plot without title"
            ]
          },
          "metadata": {
            "tags": [],
            "image/png": {
              "width": 480,
              "height": 420
            }
          }
        }
      ]
    },
    {
      "cell_type": "code",
      "metadata": {
        "colab": {
          "base_uri": "https://localhost:8080/",
          "height": 1000
        },
        "id": "mSL4_8H84n43",
        "outputId": "dfb55d6c-f6db-4692-f369-a3600dd941de"
      },
      "source": [
        "sessionInfo()"
      ],
      "execution_count": 166,
      "outputs": [
        {
          "output_type": "display_data",
          "data": {
            "text/plain": [
              "R version 4.0.3 (2020-10-10)\n",
              "Platform: x86_64-pc-linux-gnu (64-bit)\n",
              "Running under: Ubuntu 18.04.5 LTS\n",
              "\n",
              "Matrix products: default\n",
              "BLAS:   /usr/lib/x86_64-linux-gnu/openblas/libblas.so.3\n",
              "LAPACK: /usr/lib/x86_64-linux-gnu/libopenblasp-r0.2.20.so\n",
              "\n",
              "locale:\n",
              " [1] LC_CTYPE=en_US.UTF-8       LC_NUMERIC=C              \n",
              " [3] LC_TIME=en_US.UTF-8        LC_COLLATE=en_US.UTF-8    \n",
              " [5] LC_MONETARY=en_US.UTF-8    LC_MESSAGES=en_US.UTF-8   \n",
              " [7] LC_PAPER=en_US.UTF-8       LC_NAME=C                 \n",
              " [9] LC_ADDRESS=C               LC_TELEPHONE=C            \n",
              "[11] LC_MEASUREMENT=en_US.UTF-8 LC_IDENTIFICATION=C       \n",
              "\n",
              "attached base packages:\n",
              " [1] grid      stats4    parallel  stats     graphics  grDevices utils    \n",
              " [8] datasets  methods   base     \n",
              "\n",
              "other attached packages:\n",
              " [1] Matrix_1.3-2                       GenomicFeatures_1.42.1            \n",
              " [3] AnnotationDbi_1.52.0               biomaRt_2.46.1                    \n",
              " [5] ggwordcloud_0.5.0                  ggplot2_3.3.3                     \n",
              " [7] VennDiagram_1.6.20                 futile.logger_1.4.3               \n",
              " [9] DESeq2_1.30.0                      dplyr_1.0.3                       \n",
              "[11] plyr_1.8.6                         ComplexHeatmap_2.6.2              \n",
              "[13] circlize_0.4.12                    gplots_3.1.1                      \n",
              "[15] SummarizedExperiment_1.20.0        Biobase_2.50.0                    \n",
              "[17] MatrixGenerics_1.2.0               matrixStats_0.57.0                \n",
              "[19] BiocParallel_1.24.1                motifmatchr_1.12.0                \n",
              "[21] BSgenome.Mmusculus.UCSC.mm10_1.4.0 BSgenome_1.58.0                   \n",
              "[23] rtracklayer_1.50.0                 Biostrings_2.58.0                 \n",
              "[25] XVector_0.30.0                     GenomicRanges_1.42.0              \n",
              "[27] GenomeInfoDb_1.26.2                IRanges_2.24.1                    \n",
              "[29] S4Vectors_0.28.1                   BiocGenerics_0.36.0               \n",
              "[31] chromVAR_1.12.0                    chromVARmotifs_0.2.0              \n",
              "\n",
              "loaded via a namespace (and not attached):\n",
              "  [1] uuid_0.1-4                  BiocFileCache_1.14.0       \n",
              "  [3] repr_1.1.0                  lazyeval_0.2.2             \n",
              "  [5] splines_4.0.3               usethis_2.0.0              \n",
              "  [7] TFBSTools_1.28.0            digest_0.6.27              \n",
              "  [9] htmltools_0.5.1             GO.db_3.12.1               \n",
              " [11] fansi_0.4.2                 magrittr_2.0.1             \n",
              " [13] memoise_1.1.0               cluster_2.1.0              \n",
              " [15] remotes_2.2.0               readr_1.4.0                \n",
              " [17] annotate_1.68.0             R.utils_2.10.1             \n",
              " [19] askpass_1.1                 prettyunits_1.1.1          \n",
              " [21] colorspace_2.0-0            rappdirs_0.3.1             \n",
              " [23] blob_1.2.1                  callr_3.5.1                \n",
              " [25] crayon_1.3.4                RCurl_1.98-1.2             \n",
              " [27] jsonlite_1.7.2              genefilter_1.72.1          \n",
              " [29] TFMPvalue_0.0.8             survival_3.2-7             \n",
              " [31] glue_1.4.2                  gtable_0.3.0               \n",
              " [33] zlibbioc_1.36.0             GetoptLong_1.0.5           \n",
              " [35] DelayedArray_0.16.1         pkgbuild_1.2.0             \n",
              " [37] shape_1.4.5                 scales_1.1.1               \n",
              " [39] futile.options_1.0.1        DBI_1.1.1                  \n",
              " [41] miniUI_0.1.1.1              Rcpp_1.0.6                 \n",
              " [43] progress_1.2.2              viridisLite_0.3.0          \n",
              " [45] xtable_1.8-4                clue_0.3-58                \n",
              " [47] bit_4.0.4                   DT_0.17                    \n",
              " [49] htmlwidgets_1.5.3           httr_1.4.2                 \n",
              " [51] RColorBrewer_1.1-2          ellipsis_0.3.1             \n",
              " [53] pkgconfig_2.0.3             XML_3.99-0.5               \n",
              " [55] R.methodsS3_1.8.1           dbplyr_2.0.0               \n",
              " [57] locfit_1.5-9.4              tidyselect_1.1.0           \n",
              " [59] rlang_0.4.10                reshape2_1.4.4             \n",
              " [61] later_1.1.0.1               munsell_0.5.0              \n",
              " [63] tools_4.0.3                 cli_2.2.0                  \n",
              " [65] DirichletMultinomial_1.32.0 generics_0.1.0             \n",
              " [67] RSQLite_2.2.3               devtools_2.3.2             \n",
              " [69] evaluate_0.14               stringr_1.4.0              \n",
              " [71] fastmap_1.0.1               processx_3.4.5             \n",
              " [73] bit64_4.0.5                 fs_1.5.0                   \n",
              " [75] caTools_1.18.1              purrr_0.3.4                \n",
              " [77] KEGGREST_1.30.1             mime_0.9                   \n",
              " [79] formatR_1.7                 R.oo_1.24.0                \n",
              " [81] poweRlaw_0.70.6             xml2_1.3.2                 \n",
              " [83] pracma_2.3.3                compiler_4.0.3             \n",
              " [85] plotly_4.9.3                curl_4.3                   \n",
              " [87] png_0.1-7                   testthat_3.0.1             \n",
              " [89] tibble_3.0.5                geneplotter_1.68.0         \n",
              " [91] stringi_1.5.3               ps_1.5.0                   \n",
              " [93] desc_1.2.0                  lattice_0.20-41            \n",
              " [95] IRdisplay_0.7.0             CNEr_1.26.0                \n",
              " [97] vctrs_0.3.6                 pillar_1.4.7               \n",
              " [99] lifecycle_0.2.0             GlobalOptions_0.1.2        \n",
              "[101] data.table_1.13.6           bitops_1.0-6               \n",
              "[103] httpuv_1.5.5                R6_2.5.0                   \n",
              "[105] promises_1.1.1              KernSmooth_2.23-18         \n",
              "[107] sessioninfo_1.1.1           lambda.r_1.2.4             \n",
              "[109] gtools_3.8.2                assertthat_0.2.1           \n",
              "[111] seqLogo_1.56.0              pkgload_1.1.0              \n",
              "[113] openssl_1.4.3               rprojroot_2.0.2            \n",
              "[115] rjson_0.2.20                withr_2.4.0                \n",
              "[117] GenomicAlignments_1.26.0    Rsamtools_2.6.0            \n",
              "[119] GenomeInfoDbData_1.2.4      hms_1.0.0                  \n",
              "[121] IRkernel_1.1.1              tidyr_1.1.2                \n",
              "[123] Cairo_1.5-12.2              pbdZMQ_0.3-4               \n",
              "[125] shiny_1.5.0                 base64enc_0.1-3            "
            ]
          },
          "metadata": {
            "tags": []
          }
        }
      ]
    },
    {
      "cell_type": "code",
      "metadata": {
        "id": "eDYUJYV-4oiR"
      },
      "source": [
        ""
      ],
      "execution_count": null,
      "outputs": []
    }
  ]
}