{
  "nbformat": 4,
  "nbformat_minor": 0,
  "metadata": {
    "kernelspec": {
      "display_name": "R",
      "language": "R",
      "name": "ir"
    },
    "language_info": {
      "codemirror_mode": "r",
      "file_extension": ".r",
      "mimetype": "text/x-r-source",
      "name": "R",
      "pygments_lexer": "r",
      "version": "3.3.1"
    },
    "colab": {
      "name": "2e_NOME_Enriched_Heatmap_with_MNase_and_Etv2_v1.ipynb",
      "provenance": [],
      "collapsed_sections": [],
      "machine_shape": "hm",
      "include_colab_link": true
    }
  },
  "cells": [
    {
      "cell_type": "markdown",
      "metadata": {
        "id": "view-in-github",
        "colab_type": "text"
      },
      "source": [
        "<a href=\"https://colab.research.google.com/github/gongx030/Etv2_pioneer/blob/master/2e_NOME_Enriched_Heatmap_with_MNase_and_Etv2_v1.ipynb\" target=\"_parent\"><img src=\"https://colab.research.google.com/assets/colab-badge.svg\" alt=\"Open In Colab\"/></a>"
      ]
    },
    {
      "cell_type": "markdown",
      "metadata": {
        "id": "4TLq2MbDD3zq"
      },
      "source": [
        "# This notebook examines the MEF MNase-seq signal at the Etv2 binding sites at MEF D1 post Etv2 induction.  The anaysis shows that Etv2 binds both NFR and NOR regions\n",
        "by Nikita Dsouza\n",
        "\n"
      ]
    },
    {
      "cell_type": "code",
      "metadata": {
        "id": "6OhqEEeZHroa"
      },
      "source": [
        "start_time0 <- Sys.time()\n",
        "options(max.print=1000)"
      ],
      "execution_count": 1,
      "outputs": []
    },
    {
      "cell_type": "markdown",
      "metadata": {
        "id": "obcf6pAcw6TQ"
      },
      "source": [
        "### Install external packages"
      ]
    },
    {
      "cell_type": "code",
      "metadata": {
        "id": "99vS8MZUxApi",
        "colab": {
          "base_uri": "https://localhost:8080/",
          "height": 173
        },
        "outputId": "439ce2c3-7fc1-470e-d1e9-8f85e45d1123"
      },
      "source": [
        "system('apt-get -q install libgsl-dev', intern = TRUE)"
      ],
      "execution_count": 2,
      "outputs": [
        {
          "output_type": "display_data",
          "data": {
            "text/plain": [
              " [1] \"Reading package lists...\"                                                                                                                                                                                                                                                                                                                                                                                                                                                                                                                                                                                                                                      \n",
              " [2] \"Building dependency tree...\"                                                                                                                                                                                                                                                                                                                                                                                                                                                                                                                                                                                                                                   \n",
              " [3] \"Reading state information...\"                                                                                                                                                                                                                                                                                                                                                                                                                                                                                                                                                                                                                                  \n",
              " [4] \"The following additional packages will be installed:\"                                                                                                                                                                                                                                                                                                                                                                                                                                                                                                                                                                                                          \n",
              " [5] \"  libgsl23 libgslcblas0\"                                                                                                                                                                                                                                                                                                                                                                                                                                                                                                                                                                                                                                       \n",
              " [6] \"Suggested packages:\"                                                                                                                                                                                                                                                                                                                                                                                                                                                                                                                                                                                                                                           \n",
              " [7] \"  gsl-ref-psdoc | gsl-doc-pdf | gsl-doc-info | gsl-ref-html\"                                                                                                                                                                                                                                                                                                                                                                                                                                                                                                                                                                                                   \n",
              " [8] \"The following NEW packages will be installed:\"                                                                                                                                                                                                                                                                                                                                                                                                                                                                                                                                                                                                                 \n",
              " [9] \"  libgsl-dev libgsl23 libgslcblas0\"                                                                                                                                                                                                                                                                                                                                                                                                                                                                                                                                                                                                                            \n",
              "[10] \"0 upgraded, 3 newly installed, 0 to remove and 37 not upgraded.\"                                                                                                                                                                                                                                                                                                                                                                                                                                                                                                                                                                                               \n",
              "[11] \"Need to get 1,926 kB of archives.\"                                                                                                                                                                                                                                                                                                                                                                                                                                                                                                                                                                                                                             \n",
              "[12] \"After this operation, 9,474 kB of additional disk space will be used.\"                                                                                                                                                                                                                                                                                                                                                                                                                                                                                                                                                                                         \n",
              "[13] \"Get:1 http://archive.ubuntu.com/ubuntu bionic/universe amd64 libgslcblas0 amd64 2.4+dfsg-6 [79.7 kB]\"                                                                                                                                                                                                                                                                                                                                                                                                                                                                                                                                                          \n",
              "[14] \"Get:2 http://archive.ubuntu.com/ubuntu bionic/universe amd64 libgsl23 amd64 2.4+dfsg-6 [823 kB]\"                                                                                                                                                                                                                                                                                                                                                                                                                                                                                                                                                               \n",
              "[15] \"Get:3 http://archive.ubuntu.com/ubuntu bionic/universe amd64 libgsl-dev amd64 2.4+dfsg-6 [1,023 kB]\"                                                                                                                                                                                                                                                                                                                                                                                                                                                                                                                                                           \n",
              "[16] \"Fetched 1,926 kB in 0s (14.4 MB/s)\"                                                                                                                                                                                                                                                                                                                                                                                                                                                                                                                                                                                                                            \n",
              "[17] \"Selecting previously unselected package libgslcblas0:amd64.\\r\"                                                                                                                                                                                                                                                                                                                                                                                                                                                                                                                                                                                                 \n",
              "[18] \"(Reading database ... \\r(Reading database ... 5%\\r(Reading database ... 10%\\r(Reading database ... 15%\\r(Reading database ... 20%\\r(Reading database ... 25%\\r(Reading database ... 30%\\r(Reading database ... 35%\\r(Reading database ... 40%\\r(Reading database ... 45%\\r(Reading database ... 50%\\r(Reading database ... 55%\\r(Reading database ... 60%\\r(Reading database ... 65%\\r(Reading database ... 70%\\r(Reading database ... 75%\\r(Reading database ... 80%\\r(Reading database ... 85%\\r(Reading database ... 90%\\r(Reading database ... 95%\\r(Reading database ... 100%\\r(Reading database ... 155222 files and directories currently installed.)\\r\"\n",
              "[19] \"Preparing to unpack .../libgslcblas0_2.4+dfsg-6_amd64.deb ...\\r\"                                                                                                                                                                                                                                                                                                                                                                                                                                                                                                                                                                                               \n",
              "[20] \"Unpacking libgslcblas0:amd64 (2.4+dfsg-6) ...\\r\"                                                                                                                                                                                                                                                                                                                                                                                                                                                                                                                                                                                                               \n",
              "[21] \"Selecting previously unselected package libgsl23:amd64.\\r\"                                                                                                                                                                                                                                                                                                                                                                                                                                                                                                                                                                                                     \n",
              "[22] \"Preparing to unpack .../libgsl23_2.4+dfsg-6_amd64.deb ...\\r\"                                                                                                                                                                                                                                                                                                                                                                                                                                                                                                                                                                                                   \n",
              "[23] \"Unpacking libgsl23:amd64 (2.4+dfsg-6) ...\\r\"                                                                                                                                                                                                                                                                                                                                                                                                                                                                                                                                                                                                                   \n",
              "[24] \"Selecting previously unselected package libgsl-dev.\\r\"                                                                                                                                                                                                                                                                                                                                                                                                                                                                                                                                                                                                         \n",
              "[25] \"Preparing to unpack .../libgsl-dev_2.4+dfsg-6_amd64.deb ...\\r\"                                                                                                                                                                                                                                                                                                                                                                                                                                                                                                                                                                                                 \n",
              "[26] \"Unpacking libgsl-dev (2.4+dfsg-6) ...\\r\"                                                                                                                                                                                                                                                                                                                                                                                                                                                                                                                                                                                                                       \n",
              "[27] \"Setting up libgslcblas0:amd64 (2.4+dfsg-6) ...\\r\"                                                                                                                                                                                                                                                                                                                                                                                                                                                                                                                                                                                                              \n",
              "[28] \"Setting up libgsl23:amd64 (2.4+dfsg-6) ...\\r\"                                                                                                                                                                                                                                                                                                                                                                                                                                                                                                                                                                                                                  \n",
              "[29] \"Setting up libgsl-dev (2.4+dfsg-6) ...\\r\"                                                                                                                                                                                                                                                                                                                                                                                                                                                                                                                                                                                                                      \n",
              "[30] \"Processing triggers for man-db (2.8.3-2ubuntu0.1) ...\\r\"                                                                                                                                                                                                                                                                                                                                                                                                                                                                                                                                                                                                       \n",
              "[31] \"Processing triggers for libc-bin (2.27-3ubuntu1.3) ...\\r\"                                                                                                                                                                                                                                                                                                                                                                                                                                                                                                                                                                                                      \n",
              "[32] \"/sbin/ldconfig.real: /usr/local/lib/python3.7/dist-packages/ideep4py/lib/libmkldnn.so.0 is not a symbolic link\\r\"                                                                                                                                                                                                                                                                                                                                                                                                                                                                                                                                              \n",
              "[33] \"\\r\"                                                                                                                                                                                                                                                                                                                                                                                                                                                                                                                                                                                                                                                            "
            ],
            "text/latex": "\\begin{enumerate*}\n\\item 'Reading package lists...'\n\\item 'Building dependency tree...'\n\\item 'Reading state information...'\n\\item 'The following additional packages will be installed:'\n\\item '  libgsl23 libgslcblas0'\n\\item 'Suggested packages:'\n\\item '  gsl-ref-psdoc \\textbar{} gsl-doc-pdf \\textbar{} gsl-doc-info \\textbar{} gsl-ref-html'\n\\item 'The following NEW packages will be installed:'\n\\item '  libgsl-dev libgsl23 libgslcblas0'\n\\item '0 upgraded, 3 newly installed, 0 to remove and 37 not upgraded.'\n\\item 'Need to get 1,926 kB of archives.'\n\\item 'After this operation, 9,474 kB of additional disk space will be used.'\n\\item 'Get:1 http://archive.ubuntu.com/ubuntu bionic/universe amd64 libgslcblas0 amd64 2.4+dfsg-6 {[}79.7 kB{]}'\n\\item 'Get:2 http://archive.ubuntu.com/ubuntu bionic/universe amd64 libgsl23 amd64 2.4+dfsg-6 {[}823 kB{]}'\n\\item 'Get:3 http://archive.ubuntu.com/ubuntu bionic/universe amd64 libgsl-dev amd64 2.4+dfsg-6 {[}1,023 kB{]}'\n\\item 'Fetched 1,926 kB in 0s (14.4 MB/s)'\n\\item 'Selecting previously unselected package libgslcblas0:amd64.\\textbackslash{}r'\n\\item '(Reading database ... \\textbackslash{}r(Reading database ... 5\\%\\textbackslash{}r(Reading database ... 10\\%\\textbackslash{}r(Reading database ... 15\\%\\textbackslash{}r(Reading database ... 20\\%\\textbackslash{}r(Reading database ... 25\\%\\textbackslash{}r(Reading database ... 30\\%\\textbackslash{}r(Reading database ... 35\\%\\textbackslash{}r(Reading database ... 40\\%\\textbackslash{}r(Reading database ... 45\\%\\textbackslash{}r(Reading database ... 50\\%\\textbackslash{}r(Reading database ... 55\\%\\textbackslash{}r(Reading database ... 60\\%\\textbackslash{}r(Reading database ... 65\\%\\textbackslash{}r(Reading database ... 70\\%\\textbackslash{}r(Reading database ... 75\\%\\textbackslash{}r(Reading database ... 80\\%\\textbackslash{}r(Reading database ... 85\\%\\textbackslash{}r(Reading database ... 90\\%\\textbackslash{}r(Reading database ... 95\\%\\textbackslash{}r(Reading database ... 100\\%\\textbackslash{}r(Reading database ... 155222 files and directories currently installed.)\\textbackslash{}r'\n\\item 'Preparing to unpack .../libgslcblas0\\_2.4+dfsg-6\\_amd64.deb ...\\textbackslash{}r'\n\\item 'Unpacking libgslcblas0:amd64 (2.4+dfsg-6) ...\\textbackslash{}r'\n\\item 'Selecting previously unselected package libgsl23:amd64.\\textbackslash{}r'\n\\item 'Preparing to unpack .../libgsl23\\_2.4+dfsg-6\\_amd64.deb ...\\textbackslash{}r'\n\\item 'Unpacking libgsl23:amd64 (2.4+dfsg-6) ...\\textbackslash{}r'\n\\item 'Selecting previously unselected package libgsl-dev.\\textbackslash{}r'\n\\item 'Preparing to unpack .../libgsl-dev\\_2.4+dfsg-6\\_amd64.deb ...\\textbackslash{}r'\n\\item 'Unpacking libgsl-dev (2.4+dfsg-6) ...\\textbackslash{}r'\n\\item 'Setting up libgslcblas0:amd64 (2.4+dfsg-6) ...\\textbackslash{}r'\n\\item 'Setting up libgsl23:amd64 (2.4+dfsg-6) ...\\textbackslash{}r'\n\\item 'Setting up libgsl-dev (2.4+dfsg-6) ...\\textbackslash{}r'\n\\item 'Processing triggers for man-db (2.8.3-2ubuntu0.1) ...\\textbackslash{}r'\n\\item 'Processing triggers for libc-bin (2.27-3ubuntu1.3) ...\\textbackslash{}r'\n\\item '/sbin/ldconfig.real: /usr/local/lib/python3.7/dist-packages/ideep4py/lib/libmkldnn.so.0 is not a symbolic link\\textbackslash{}r'\n\\item '\\textbackslash{}r'\n\\end{enumerate*}\n",
            "text/markdown": "1. 'Reading package lists...'\n2. 'Building dependency tree...'\n3. 'Reading state information...'\n4. 'The following additional packages will be installed:'\n5. <span style=white-space:pre-wrap>'  libgsl23 libgslcblas0'</span>\n6. 'Suggested packages:'\n7. <span style=white-space:pre-wrap>'  gsl-ref-psdoc | gsl-doc-pdf | gsl-doc-info | gsl-ref-html'</span>\n8. 'The following NEW packages will be installed:'\n9. <span style=white-space:pre-wrap>'  libgsl-dev libgsl23 libgslcblas0'</span>\n10. '0 upgraded, 3 newly installed, 0 to remove and 37 not upgraded.'\n11. 'Need to get 1,926 kB of archives.'\n12. 'After this operation, 9,474 kB of additional disk space will be used.'\n13. 'Get:1 http://archive.ubuntu.com/ubuntu bionic/universe amd64 libgslcblas0 amd64 2.4+dfsg-6 [79.7 kB]'\n14. 'Get:2 http://archive.ubuntu.com/ubuntu bionic/universe amd64 libgsl23 amd64 2.4+dfsg-6 [823 kB]'\n15. 'Get:3 http://archive.ubuntu.com/ubuntu bionic/universe amd64 libgsl-dev amd64 2.4+dfsg-6 [1,023 kB]'\n16. 'Fetched 1,926 kB in 0s (14.4 MB/s)'\n17. 'Selecting previously unselected package libgslcblas0:amd64.\\r'\n18. '(Reading database ... \\r(Reading database ... 5%\\r(Reading database ... 10%\\r(Reading database ... 15%\\r(Reading database ... 20%\\r(Reading database ... 25%\\r(Reading database ... 30%\\r(Reading database ... 35%\\r(Reading database ... 40%\\r(Reading database ... 45%\\r(Reading database ... 50%\\r(Reading database ... 55%\\r(Reading database ... 60%\\r(Reading database ... 65%\\r(Reading database ... 70%\\r(Reading database ... 75%\\r(Reading database ... 80%\\r(Reading database ... 85%\\r(Reading database ... 90%\\r(Reading database ... 95%\\r(Reading database ... 100%\\r(Reading database ... 155222 files and directories currently installed.)\\r'\n19. 'Preparing to unpack .../libgslcblas0_2.4+dfsg-6_amd64.deb ...\\r'\n20. 'Unpacking libgslcblas0:amd64 (2.4+dfsg-6) ...\\r'\n21. 'Selecting previously unselected package libgsl23:amd64.\\r'\n22. 'Preparing to unpack .../libgsl23_2.4+dfsg-6_amd64.deb ...\\r'\n23. 'Unpacking libgsl23:amd64 (2.4+dfsg-6) ...\\r'\n24. 'Selecting previously unselected package libgsl-dev.\\r'\n25. 'Preparing to unpack .../libgsl-dev_2.4+dfsg-6_amd64.deb ...\\r'\n26. 'Unpacking libgsl-dev (2.4+dfsg-6) ...\\r'\n27. 'Setting up libgslcblas0:amd64 (2.4+dfsg-6) ...\\r'\n28. 'Setting up libgsl23:amd64 (2.4+dfsg-6) ...\\r'\n29. 'Setting up libgsl-dev (2.4+dfsg-6) ...\\r'\n30. 'Processing triggers for man-db (2.8.3-2ubuntu0.1) ...\\r'\n31. 'Processing triggers for libc-bin (2.27-3ubuntu1.3) ...\\r'\n32. '/sbin/ldconfig.real: /usr/local/lib/python3.7/dist-packages/ideep4py/lib/libmkldnn.so.0 is not a symbolic link\\r'\n33. '\\r'\n\n\n",
            "text/html": [
              "<style>\n",
              ".list-inline {list-style: none; margin:0; padding: 0}\n",
              ".list-inline>li {display: inline-block}\n",
              ".list-inline>li:not(:last-child)::after {content: \"\\00b7\"; padding: 0 .5ex}\n",
              "</style>\n",
              "<ol class=list-inline><li>'Reading package lists...'</li><li>'Building dependency tree...'</li><li>'Reading state information...'</li><li>'The following additional packages will be installed:'</li><li><span style=white-space:pre-wrap>'  libgsl23 libgslcblas0'</span></li><li>'Suggested packages:'</li><li><span style=white-space:pre-wrap>'  gsl-ref-psdoc | gsl-doc-pdf | gsl-doc-info | gsl-ref-html'</span></li><li>'The following NEW packages will be installed:'</li><li><span style=white-space:pre-wrap>'  libgsl-dev libgsl23 libgslcblas0'</span></li><li>'0 upgraded, 3 newly installed, 0 to remove and 37 not upgraded.'</li><li>'Need to get 1,926 kB of archives.'</li><li>'After this operation, 9,474 kB of additional disk space will be used.'</li><li>'Get:1 http://archive.ubuntu.com/ubuntu bionic/universe amd64 libgslcblas0 amd64 2.4+dfsg-6 [79.7 kB]'</li><li>'Get:2 http://archive.ubuntu.com/ubuntu bionic/universe amd64 libgsl23 amd64 2.4+dfsg-6 [823 kB]'</li><li>'Get:3 http://archive.ubuntu.com/ubuntu bionic/universe amd64 libgsl-dev amd64 2.4+dfsg-6 [1,023 kB]'</li><li>'Fetched 1,926 kB in 0s (14.4 MB/s)'</li><li>'Selecting previously unselected package libgslcblas0:amd64.\\r'</li><li>'(Reading database ... \\r(Reading database ... 5%\\r(Reading database ... 10%\\r(Reading database ... 15%\\r(Reading database ... 20%\\r(Reading database ... 25%\\r(Reading database ... 30%\\r(Reading database ... 35%\\r(Reading database ... 40%\\r(Reading database ... 45%\\r(Reading database ... 50%\\r(Reading database ... 55%\\r(Reading database ... 60%\\r(Reading database ... 65%\\r(Reading database ... 70%\\r(Reading database ... 75%\\r(Reading database ... 80%\\r(Reading database ... 85%\\r(Reading database ... 90%\\r(Reading database ... 95%\\r(Reading database ... 100%\\r(Reading database ... 155222 files and directories currently installed.)\\r'</li><li>'Preparing to unpack .../libgslcblas0_2.4+dfsg-6_amd64.deb ...\\r'</li><li>'Unpacking libgslcblas0:amd64 (2.4+dfsg-6) ...\\r'</li><li>'Selecting previously unselected package libgsl23:amd64.\\r'</li><li>'Preparing to unpack .../libgsl23_2.4+dfsg-6_amd64.deb ...\\r'</li><li>'Unpacking libgsl23:amd64 (2.4+dfsg-6) ...\\r'</li><li>'Selecting previously unselected package libgsl-dev.\\r'</li><li>'Preparing to unpack .../libgsl-dev_2.4+dfsg-6_amd64.deb ...\\r'</li><li>'Unpacking libgsl-dev (2.4+dfsg-6) ...\\r'</li><li>'Setting up libgslcblas0:amd64 (2.4+dfsg-6) ...\\r'</li><li>'Setting up libgsl23:amd64 (2.4+dfsg-6) ...\\r'</li><li>'Setting up libgsl-dev (2.4+dfsg-6) ...\\r'</li><li>'Processing triggers for man-db (2.8.3-2ubuntu0.1) ...\\r'</li><li>'Processing triggers for libc-bin (2.27-3ubuntu1.3) ...\\r'</li><li>'/sbin/ldconfig.real: /usr/local/lib/python3.7/dist-packages/ideep4py/lib/libmkldnn.so.0 is not a symbolic link\\r'</li><li>'\\r'</li></ol>\n"
            ]
          },
          "metadata": {}
        }
      ]
    },
    {
      "cell_type": "code",
      "metadata": {
        "id": "HgPXAFx1xZHE",
        "colab": {
          "base_uri": "https://localhost:8080/",
          "height": 243
        },
        "outputId": "a3fddf48-887c-4592-ed61-14a0c0e02db9"
      },
      "source": [
        "system('apt-get install libcairo2-dev', intern = TRUE) # for Cairo package that is required by ComplexHeatmap package"
      ],
      "execution_count": 3,
      "outputs": [
        {
          "output_type": "display_data",
          "data": {
            "text/plain": [
              " [1] \"Reading package lists...\"                                                                                                                                                                                                                                                                                                                                                                                                                                                                                                                                                                                                                                      \n",
              " [2] \"Building dependency tree...\"                                                                                                                                                                                                                                                                                                                                                                                                                                                                                                                                                                                                                                   \n",
              " [3] \"Reading state information...\"                                                                                                                                                                                                                                                                                                                                                                                                                                                                                                                                                                                                                                  \n",
              " [4] \"The following additional packages will be installed:\"                                                                                                                                                                                                                                                                                                                                                                                                                                                                                                                                                                                                          \n",
              " [5] \"  libcairo-script-interpreter2 libpixman-1-dev libxcb-shm0-dev\"                                                                                                                                                                                                                                                                                                                                                                                                                                                                                                                                                                                                \n",
              " [6] \"Suggested packages:\"                                                                                                                                                                                                                                                                                                                                                                                                                                                                                                                                                                                                                                           \n",
              " [7] \"  libcairo2-doc\"                                                                                                                                                                                                                                                                                                                                                                                                                                                                                                                                                                                                                                               \n",
              " [8] \"The following NEW packages will be installed:\"                                                                                                                                                                                                                                                                                                                                                                                                                                                                                                                                                                                                                 \n",
              " [9] \"  libcairo-script-interpreter2 libcairo2-dev libpixman-1-dev libxcb-shm0-dev\"                                                                                                                                                                                                                                                                                                                                                                                                                                                                                                                                                                                  \n",
              "[10] \"0 upgraded, 4 newly installed, 0 to remove and 37 not upgraded.\"                                                                                                                                                                                                                                                                                                                                                                                                                                                                                                                                                                                               \n",
              "[11] \"Need to get 930 kB of archives.\"                                                                                                                                                                                                                                                                                                                                                                                                                                                                                                                                                                                                                               \n",
              "[12] \"After this operation, 3,986 kB of additional disk space will be used.\"                                                                                                                                                                                                                                                                                                                                                                                                                                                                                                                                                                                         \n",
              "[13] \"Get:1 http://archive.ubuntu.com/ubuntu bionic-updates/main amd64 libcairo-script-interpreter2 amd64 1.15.10-2ubuntu0.1 [53.5 kB]\"                                                                                                                                                                                                                                                                                                                                                                                                                                                                                                                              \n",
              "[14] \"Get:2 http://archive.ubuntu.com/ubuntu bionic/main amd64 libpixman-1-dev amd64 0.34.0-2 [244 kB]\"                                                                                                                                                                                                                                                                                                                                                                                                                                                                                                                                                              \n",
              "[15] \"Get:3 http://archive.ubuntu.com/ubuntu bionic-updates/main amd64 libxcb-shm0-dev amd64 1.13-2~ubuntu18.04 [6,684 B]\"                                                                                                                                                                                                                                                                                                                                                                                                                                                                                                                                           \n",
              "[16] \"Get:4 http://archive.ubuntu.com/ubuntu bionic-updates/main amd64 libcairo2-dev amd64 1.15.10-2ubuntu0.1 [626 kB]\"                                                                                                                                                                                                                                                                                                                                                                                                                                                                                                                                              \n",
              "[17] \"Fetched 930 kB in 0s (5,139 kB/s)\"                                                                                                                                                                                                                                                                                                                                                                                                                                                                                                                                                                                                                             \n",
              "[18] \"Selecting previously unselected package libcairo-script-interpreter2:amd64.\\r\"                                                                                                                                                                                                                                                                                                                                                                                                                                                                                                                                                                                 \n",
              "[19] \"(Reading database ... \\r(Reading database ... 5%\\r(Reading database ... 10%\\r(Reading database ... 15%\\r(Reading database ... 20%\\r(Reading database ... 25%\\r(Reading database ... 30%\\r(Reading database ... 35%\\r(Reading database ... 40%\\r(Reading database ... 45%\\r(Reading database ... 50%\\r(Reading database ... 55%\\r(Reading database ... 60%\\r(Reading database ... 65%\\r(Reading database ... 70%\\r(Reading database ... 75%\\r(Reading database ... 80%\\r(Reading database ... 85%\\r(Reading database ... 90%\\r(Reading database ... 95%\\r(Reading database ... 100%\\r(Reading database ... 155494 files and directories currently installed.)\\r\"\n",
              "[20] \"Preparing to unpack .../libcairo-script-interpreter2_1.15.10-2ubuntu0.1_amd64.deb ...\\r\"                                                                                                                                                                                                                                                                                                                                                                                                                                                                                                                                                                       \n",
              "[21] \"Unpacking libcairo-script-interpreter2:amd64 (1.15.10-2ubuntu0.1) ...\\r\"                                                                                                                                                                                                                                                                                                                                                                                                                                                                                                                                                                                       \n",
              "[22] \"Selecting previously unselected package libpixman-1-dev:amd64.\\r\"                                                                                                                                                                                                                                                                                                                                                                                                                                                                                                                                                                                              \n",
              "[23] \"Preparing to unpack .../libpixman-1-dev_0.34.0-2_amd64.deb ...\\r\"                                                                                                                                                                                                                                                                                                                                                                                                                                                                                                                                                                                              \n",
              "[24] \"Unpacking libpixman-1-dev:amd64 (0.34.0-2) ...\\r\"                                                                                                                                                                                                                                                                                                                                                                                                                                                                                                                                                                                                              \n",
              "[25] \"Selecting previously unselected package libxcb-shm0-dev:amd64.\\r\"                                                                                                                                                                                                                                                                                                                                                                                                                                                                                                                                                                                              \n",
              "[26] \"Preparing to unpack .../libxcb-shm0-dev_1.13-2~ubuntu18.04_amd64.deb ...\\r\"                                                                                                                                                                                                                                                                                                                                                                                                                                                                                                                                                                                    \n",
              "[27] \"Unpacking libxcb-shm0-dev:amd64 (1.13-2~ubuntu18.04) ...\\r\"                                                                                                                                                                                                                                                                                                                                                                                                                                                                                                                                                                                                    \n",
              "[28] \"Selecting previously unselected package libcairo2-dev:amd64.\\r\"                                                                                                                                                                                                                                                                                                                                                                                                                                                                                                                                                                                                \n",
              "[29] \"Preparing to unpack .../libcairo2-dev_1.15.10-2ubuntu0.1_amd64.deb ...\\r\"                                                                                                                                                                                                                                                                                                                                                                                                                                                                                                                                                                                      \n",
              "[30] \"Unpacking libcairo2-dev:amd64 (1.15.10-2ubuntu0.1) ...\\r\"                                                                                                                                                                                                                                                                                                                                                                                                                                                                                                                                                                                                      \n",
              "[31] \"Setting up libcairo-script-interpreter2:amd64 (1.15.10-2ubuntu0.1) ...\\r\"                                                                                                                                                                                                                                                                                                                                                                                                                                                                                                                                                                                      \n",
              "[32] \"Setting up libxcb-shm0-dev:amd64 (1.13-2~ubuntu18.04) ...\\r\"                                                                                                                                                                                                                                                                                                                                                                                                                                                                                                                                                                                                   \n",
              "[33] \"Setting up libpixman-1-dev:amd64 (0.34.0-2) ...\\r\"                                                                                                                                                                                                                                                                                                                                                                                                                                                                                                                                                                                                             \n",
              "[34] \"Setting up libcairo2-dev:amd64 (1.15.10-2ubuntu0.1) ...\\r\"                                                                                                                                                                                                                                                                                                                                                                                                                                                                                                                                                                                                     \n",
              "[35] \"Processing triggers for libc-bin (2.27-3ubuntu1.3) ...\\r\"                                                                                                                                                                                                                                                                                                                                                                                                                                                                                                                                                                                                      \n",
              "[36] \"/sbin/ldconfig.real: /usr/local/lib/python3.7/dist-packages/ideep4py/lib/libmkldnn.so.0 is not a symbolic link\\r\"                                                                                                                                                                                                                                                                                                                                                                                                                                                                                                                                              \n",
              "[37] \"\\r\"                                                                                                                                                                                                                                                                                                                                                                                                                                                                                                                                                                                                                                                            "
            ],
            "text/latex": "\\begin{enumerate*}\n\\item 'Reading package lists...'\n\\item 'Building dependency tree...'\n\\item 'Reading state information...'\n\\item 'The following additional packages will be installed:'\n\\item '  libcairo-script-interpreter2 libpixman-1-dev libxcb-shm0-dev'\n\\item 'Suggested packages:'\n\\item '  libcairo2-doc'\n\\item 'The following NEW packages will be installed:'\n\\item '  libcairo-script-interpreter2 libcairo2-dev libpixman-1-dev libxcb-shm0-dev'\n\\item '0 upgraded, 4 newly installed, 0 to remove and 37 not upgraded.'\n\\item 'Need to get 930 kB of archives.'\n\\item 'After this operation, 3,986 kB of additional disk space will be used.'\n\\item 'Get:1 http://archive.ubuntu.com/ubuntu bionic-updates/main amd64 libcairo-script-interpreter2 amd64 1.15.10-2ubuntu0.1 {[}53.5 kB{]}'\n\\item 'Get:2 http://archive.ubuntu.com/ubuntu bionic/main amd64 libpixman-1-dev amd64 0.34.0-2 {[}244 kB{]}'\n\\item 'Get:3 http://archive.ubuntu.com/ubuntu bionic-updates/main amd64 libxcb-shm0-dev amd64 1.13-2\\textasciitilde{}ubuntu18.04 {[}6,684 B{]}'\n\\item 'Get:4 http://archive.ubuntu.com/ubuntu bionic-updates/main amd64 libcairo2-dev amd64 1.15.10-2ubuntu0.1 {[}626 kB{]}'\n\\item 'Fetched 930 kB in 0s (5,139 kB/s)'\n\\item 'Selecting previously unselected package libcairo-script-interpreter2:amd64.\\textbackslash{}r'\n\\item '(Reading database ... \\textbackslash{}r(Reading database ... 5\\%\\textbackslash{}r(Reading database ... 10\\%\\textbackslash{}r(Reading database ... 15\\%\\textbackslash{}r(Reading database ... 20\\%\\textbackslash{}r(Reading database ... 25\\%\\textbackslash{}r(Reading database ... 30\\%\\textbackslash{}r(Reading database ... 35\\%\\textbackslash{}r(Reading database ... 40\\%\\textbackslash{}r(Reading database ... 45\\%\\textbackslash{}r(Reading database ... 50\\%\\textbackslash{}r(Reading database ... 55\\%\\textbackslash{}r(Reading database ... 60\\%\\textbackslash{}r(Reading database ... 65\\%\\textbackslash{}r(Reading database ... 70\\%\\textbackslash{}r(Reading database ... 75\\%\\textbackslash{}r(Reading database ... 80\\%\\textbackslash{}r(Reading database ... 85\\%\\textbackslash{}r(Reading database ... 90\\%\\textbackslash{}r(Reading database ... 95\\%\\textbackslash{}r(Reading database ... 100\\%\\textbackslash{}r(Reading database ... 155494 files and directories currently installed.)\\textbackslash{}r'\n\\item 'Preparing to unpack .../libcairo-script-interpreter2\\_1.15.10-2ubuntu0.1\\_amd64.deb ...\\textbackslash{}r'\n\\item 'Unpacking libcairo-script-interpreter2:amd64 (1.15.10-2ubuntu0.1) ...\\textbackslash{}r'\n\\item 'Selecting previously unselected package libpixman-1-dev:amd64.\\textbackslash{}r'\n\\item 'Preparing to unpack .../libpixman-1-dev\\_0.34.0-2\\_amd64.deb ...\\textbackslash{}r'\n\\item 'Unpacking libpixman-1-dev:amd64 (0.34.0-2) ...\\textbackslash{}r'\n\\item 'Selecting previously unselected package libxcb-shm0-dev:amd64.\\textbackslash{}r'\n\\item 'Preparing to unpack .../libxcb-shm0-dev\\_1.13-2\\textasciitilde{}ubuntu18.04\\_amd64.deb ...\\textbackslash{}r'\n\\item 'Unpacking libxcb-shm0-dev:amd64 (1.13-2\\textasciitilde{}ubuntu18.04) ...\\textbackslash{}r'\n\\item 'Selecting previously unselected package libcairo2-dev:amd64.\\textbackslash{}r'\n\\item 'Preparing to unpack .../libcairo2-dev\\_1.15.10-2ubuntu0.1\\_amd64.deb ...\\textbackslash{}r'\n\\item 'Unpacking libcairo2-dev:amd64 (1.15.10-2ubuntu0.1) ...\\textbackslash{}r'\n\\item 'Setting up libcairo-script-interpreter2:amd64 (1.15.10-2ubuntu0.1) ...\\textbackslash{}r'\n\\item 'Setting up libxcb-shm0-dev:amd64 (1.13-2\\textasciitilde{}ubuntu18.04) ...\\textbackslash{}r'\n\\item 'Setting up libpixman-1-dev:amd64 (0.34.0-2) ...\\textbackslash{}r'\n\\item 'Setting up libcairo2-dev:amd64 (1.15.10-2ubuntu0.1) ...\\textbackslash{}r'\n\\item 'Processing triggers for libc-bin (2.27-3ubuntu1.3) ...\\textbackslash{}r'\n\\item '/sbin/ldconfig.real: /usr/local/lib/python3.7/dist-packages/ideep4py/lib/libmkldnn.so.0 is not a symbolic link\\textbackslash{}r'\n\\item '\\textbackslash{}r'\n\\end{enumerate*}\n",
            "text/markdown": "1. 'Reading package lists...'\n2. 'Building dependency tree...'\n3. 'Reading state information...'\n4. 'The following additional packages will be installed:'\n5. <span style=white-space:pre-wrap>'  libcairo-script-interpreter2 libpixman-1-dev libxcb-shm0-dev'</span>\n6. 'Suggested packages:'\n7. <span style=white-space:pre-wrap>'  libcairo2-doc'</span>\n8. 'The following NEW packages will be installed:'\n9. <span style=white-space:pre-wrap>'  libcairo-script-interpreter2 libcairo2-dev libpixman-1-dev libxcb-shm0-dev'</span>\n10. '0 upgraded, 4 newly installed, 0 to remove and 37 not upgraded.'\n11. 'Need to get 930 kB of archives.'\n12. 'After this operation, 3,986 kB of additional disk space will be used.'\n13. 'Get:1 http://archive.ubuntu.com/ubuntu bionic-updates/main amd64 libcairo-script-interpreter2 amd64 1.15.10-2ubuntu0.1 [53.5 kB]'\n14. 'Get:2 http://archive.ubuntu.com/ubuntu bionic/main amd64 libpixman-1-dev amd64 0.34.0-2 [244 kB]'\n15. 'Get:3 http://archive.ubuntu.com/ubuntu bionic-updates/main amd64 libxcb-shm0-dev amd64 1.13-2~ubuntu18.04 [6,684 B]'\n16. 'Get:4 http://archive.ubuntu.com/ubuntu bionic-updates/main amd64 libcairo2-dev amd64 1.15.10-2ubuntu0.1 [626 kB]'\n17. 'Fetched 930 kB in 0s (5,139 kB/s)'\n18. 'Selecting previously unselected package libcairo-script-interpreter2:amd64.\\r'\n19. '(Reading database ... \\r(Reading database ... 5%\\r(Reading database ... 10%\\r(Reading database ... 15%\\r(Reading database ... 20%\\r(Reading database ... 25%\\r(Reading database ... 30%\\r(Reading database ... 35%\\r(Reading database ... 40%\\r(Reading database ... 45%\\r(Reading database ... 50%\\r(Reading database ... 55%\\r(Reading database ... 60%\\r(Reading database ... 65%\\r(Reading database ... 70%\\r(Reading database ... 75%\\r(Reading database ... 80%\\r(Reading database ... 85%\\r(Reading database ... 90%\\r(Reading database ... 95%\\r(Reading database ... 100%\\r(Reading database ... 155494 files and directories currently installed.)\\r'\n20. 'Preparing to unpack .../libcairo-script-interpreter2_1.15.10-2ubuntu0.1_amd64.deb ...\\r'\n21. 'Unpacking libcairo-script-interpreter2:amd64 (1.15.10-2ubuntu0.1) ...\\r'\n22. 'Selecting previously unselected package libpixman-1-dev:amd64.\\r'\n23. 'Preparing to unpack .../libpixman-1-dev_0.34.0-2_amd64.deb ...\\r'\n24. 'Unpacking libpixman-1-dev:amd64 (0.34.0-2) ...\\r'\n25. 'Selecting previously unselected package libxcb-shm0-dev:amd64.\\r'\n26. 'Preparing to unpack .../libxcb-shm0-dev_1.13-2~ubuntu18.04_amd64.deb ...\\r'\n27. 'Unpacking libxcb-shm0-dev:amd64 (1.13-2~ubuntu18.04) ...\\r'\n28. 'Selecting previously unselected package libcairo2-dev:amd64.\\r'\n29. 'Preparing to unpack .../libcairo2-dev_1.15.10-2ubuntu0.1_amd64.deb ...\\r'\n30. 'Unpacking libcairo2-dev:amd64 (1.15.10-2ubuntu0.1) ...\\r'\n31. 'Setting up libcairo-script-interpreter2:amd64 (1.15.10-2ubuntu0.1) ...\\r'\n32. 'Setting up libxcb-shm0-dev:amd64 (1.13-2~ubuntu18.04) ...\\r'\n33. 'Setting up libpixman-1-dev:amd64 (0.34.0-2) ...\\r'\n34. 'Setting up libcairo2-dev:amd64 (1.15.10-2ubuntu0.1) ...\\r'\n35. 'Processing triggers for libc-bin (2.27-3ubuntu1.3) ...\\r'\n36. '/sbin/ldconfig.real: /usr/local/lib/python3.7/dist-packages/ideep4py/lib/libmkldnn.so.0 is not a symbolic link\\r'\n37. '\\r'\n\n\n",
            "text/html": [
              "<style>\n",
              ".list-inline {list-style: none; margin:0; padding: 0}\n",
              ".list-inline>li {display: inline-block}\n",
              ".list-inline>li:not(:last-child)::after {content: \"\\00b7\"; padding: 0 .5ex}\n",
              "</style>\n",
              "<ol class=list-inline><li>'Reading package lists...'</li><li>'Building dependency tree...'</li><li>'Reading state information...'</li><li>'The following additional packages will be installed:'</li><li><span style=white-space:pre-wrap>'  libcairo-script-interpreter2 libpixman-1-dev libxcb-shm0-dev'</span></li><li>'Suggested packages:'</li><li><span style=white-space:pre-wrap>'  libcairo2-doc'</span></li><li>'The following NEW packages will be installed:'</li><li><span style=white-space:pre-wrap>'  libcairo-script-interpreter2 libcairo2-dev libpixman-1-dev libxcb-shm0-dev'</span></li><li>'0 upgraded, 4 newly installed, 0 to remove and 37 not upgraded.'</li><li>'Need to get 930 kB of archives.'</li><li>'After this operation, 3,986 kB of additional disk space will be used.'</li><li>'Get:1 http://archive.ubuntu.com/ubuntu bionic-updates/main amd64 libcairo-script-interpreter2 amd64 1.15.10-2ubuntu0.1 [53.5 kB]'</li><li>'Get:2 http://archive.ubuntu.com/ubuntu bionic/main amd64 libpixman-1-dev amd64 0.34.0-2 [244 kB]'</li><li>'Get:3 http://archive.ubuntu.com/ubuntu bionic-updates/main amd64 libxcb-shm0-dev amd64 1.13-2~ubuntu18.04 [6,684 B]'</li><li>'Get:4 http://archive.ubuntu.com/ubuntu bionic-updates/main amd64 libcairo2-dev amd64 1.15.10-2ubuntu0.1 [626 kB]'</li><li>'Fetched 930 kB in 0s (5,139 kB/s)'</li><li>'Selecting previously unselected package libcairo-script-interpreter2:amd64.\\r'</li><li>'(Reading database ... \\r(Reading database ... 5%\\r(Reading database ... 10%\\r(Reading database ... 15%\\r(Reading database ... 20%\\r(Reading database ... 25%\\r(Reading database ... 30%\\r(Reading database ... 35%\\r(Reading database ... 40%\\r(Reading database ... 45%\\r(Reading database ... 50%\\r(Reading database ... 55%\\r(Reading database ... 60%\\r(Reading database ... 65%\\r(Reading database ... 70%\\r(Reading database ... 75%\\r(Reading database ... 80%\\r(Reading database ... 85%\\r(Reading database ... 90%\\r(Reading database ... 95%\\r(Reading database ... 100%\\r(Reading database ... 155494 files and directories currently installed.)\\r'</li><li>'Preparing to unpack .../libcairo-script-interpreter2_1.15.10-2ubuntu0.1_amd64.deb ...\\r'</li><li>'Unpacking libcairo-script-interpreter2:amd64 (1.15.10-2ubuntu0.1) ...\\r'</li><li>'Selecting previously unselected package libpixman-1-dev:amd64.\\r'</li><li>'Preparing to unpack .../libpixman-1-dev_0.34.0-2_amd64.deb ...\\r'</li><li>'Unpacking libpixman-1-dev:amd64 (0.34.0-2) ...\\r'</li><li>'Selecting previously unselected package libxcb-shm0-dev:amd64.\\r'</li><li>'Preparing to unpack .../libxcb-shm0-dev_1.13-2~ubuntu18.04_amd64.deb ...\\r'</li><li>'Unpacking libxcb-shm0-dev:amd64 (1.13-2~ubuntu18.04) ...\\r'</li><li>'Selecting previously unselected package libcairo2-dev:amd64.\\r'</li><li>'Preparing to unpack .../libcairo2-dev_1.15.10-2ubuntu0.1_amd64.deb ...\\r'</li><li>'Unpacking libcairo2-dev:amd64 (1.15.10-2ubuntu0.1) ...\\r'</li><li>'Setting up libcairo-script-interpreter2:amd64 (1.15.10-2ubuntu0.1) ...\\r'</li><li>'Setting up libxcb-shm0-dev:amd64 (1.13-2~ubuntu18.04) ...\\r'</li><li>'Setting up libpixman-1-dev:amd64 (0.34.0-2) ...\\r'</li><li>'Setting up libcairo2-dev:amd64 (1.15.10-2ubuntu0.1) ...\\r'</li><li>'Processing triggers for libc-bin (2.27-3ubuntu1.3) ...\\r'</li><li>'/sbin/ldconfig.real: /usr/local/lib/python3.7/dist-packages/ideep4py/lib/libmkldnn.so.0 is not a symbolic link\\r'</li><li>'\\r'</li></ol>\n"
            ]
          },
          "metadata": {}
        }
      ]
    },
    {
      "cell_type": "markdown",
      "metadata": {
        "id": "wFuTF2MUEiAk"
      },
      "source": [
        "## Install R packages"
      ]
    },
    {
      "cell_type": "code",
      "metadata": {
        "colab": {
          "base_uri": "https://localhost:8080/"
        },
        "id": "0c02HPWEh2nU",
        "outputId": "69f2d673-19a4-4e39-dcac-fc90e530ce54"
      },
      "source": [
        "install.packages('BiocManager', version = 3.12)"
      ],
      "execution_count": 4,
      "outputs": [
        {
          "output_type": "stream",
          "name": "stderr",
          "text": [
            "Installing package into ‘/usr/local/lib/R/site-library’\n",
            "(as ‘lib’ is unspecified)\n",
            "\n"
          ]
        }
      ]
    },
    {
      "cell_type": "code",
      "metadata": {
        "id": "8EZ8Zm7zagc0"
      },
      "source": [
        "required_packages <- c(\n",
        "  'devtools',\n",
        "  'GenomicRanges', 'rtracklayer', \n",
        "  'BSgenome.Mmusculus.UCSC.mm10',\n",
        "  'EnrichedHeatmap',  'circlize'\n",
        ")"
      ],
      "execution_count": 5,
      "outputs": []
    },
    {
      "cell_type": "code",
      "metadata": {
        "id": "icve41ciuJim",
        "colab": {
          "base_uri": "https://localhost:8080/"
        },
        "outputId": "05cb6593-9842-43f3-c4df-a094f18acbca"
      },
      "source": [
        "missing_packages <- required_packages[!required_packages %in% rownames(installed.packages())]\n",
        "if (length(missing_packages) > 0){\n",
        "    BiocManager::install(missing_packages)\n",
        "}"
      ],
      "execution_count": 6,
      "outputs": [
        {
          "output_type": "stream",
          "name": "stderr",
          "text": [
            "'getOption(\"repos\")' replaces Bioconductor standard repositories, see\n",
            "'?repositories' for details\n",
            "\n",
            "replacement repositories:\n",
            "    CRAN: https://cran.rstudio.com\n",
            "\n",
            "\n",
            "Bioconductor version 3.14 (BiocManager 1.30.16), R 4.1.2 (2021-11-01)\n",
            "\n",
            "Installing package(s) 'BiocVersion', 'GenomicRanges', 'rtracklayer',\n",
            "  'BSgenome.Mmusculus.UCSC.mm10', 'EnrichedHeatmap', 'circlize'\n",
            "\n",
            "also installing the dependencies ‘formatR’, ‘lambda.r’, ‘futile.options’, ‘futile.logger’, ‘snow’, ‘BH’, ‘MatrixGenerics’, ‘Biobase’, ‘DelayedArray’, ‘iterators’, ‘GenomeInfoDbData’, ‘bitops’, ‘BiocParallel’, ‘Rhtslib’, ‘SummarizedExperiment’, ‘rjson’, ‘clue’, ‘png’, ‘foreach’, ‘doParallel’, ‘BiocGenerics’, ‘S4Vectors’, ‘IRanges’, ‘GenomeInfoDb’, ‘XVector’, ‘XML’, ‘Biostrings’, ‘zlibbioc’, ‘RCurl’, ‘Rsamtools’, ‘GenomicAlignments’, ‘BiocIO’, ‘restfulr’, ‘BSgenome’, ‘ComplexHeatmap’, ‘matrixStats’, ‘GetoptLong’, ‘locfit’, ‘GlobalOptions’, ‘shape’\n",
            "\n",
            "\n",
            "Old packages: 'backports', 'brio', 'cpp11', 'credentials', 'devtools',\n",
            "  'digest', 'fs', 'glue', 'memoise', 'openssl', 'pkgbuild', 'pkgload', 'readr',\n",
            "  'remotes', 'stringi', 'vroom', 'withr', 'xml2', 'nlme'\n",
            "\n"
          ]
        }
      ]
    },
    {
      "cell_type": "markdown",
      "metadata": {
        "id": "-r47NH7jiD99"
      },
      "source": [
        "## Load R packages"
      ]
    },
    {
      "cell_type": "code",
      "metadata": {
        "id": "nQFQk04TzjFj",
        "colab": {
          "base_uri": "https://localhost:8080/"
        },
        "outputId": "4744890e-7a40-4bba-a25b-f1c65efea3f2"
      },
      "source": [
        "library(GenomicRanges)\n",
        "library(dplyr)\n",
        "library(BSgenome.Mmusculus.UCSC.mm10)\n",
        "library(SummarizedExperiment)\n",
        "library(ggplot2)\n",
        "library(EnrichedHeatmap)\n",
        "library(circlize) # colorRamp2\n",
        "library(devtools)"
      ],
      "execution_count": 7,
      "outputs": [
        {
          "output_type": "stream",
          "name": "stderr",
          "text": [
            "Loading required package: stats4\n",
            "\n",
            "Loading required package: BiocGenerics\n",
            "\n",
            "\n",
            "Attaching package: ‘BiocGenerics’\n",
            "\n",
            "\n",
            "The following objects are masked from ‘package:stats’:\n",
            "\n",
            "    IQR, mad, sd, var, xtabs\n",
            "\n",
            "\n",
            "The following objects are masked from ‘package:base’:\n",
            "\n",
            "    anyDuplicated, append, as.data.frame, basename, cbind, colnames,\n",
            "    dirname, do.call, duplicated, eval, evalq, Filter, Find, get, grep,\n",
            "    grepl, intersect, is.unsorted, lapply, Map, mapply, match, mget,\n",
            "    order, paste, pmax, pmax.int, pmin, pmin.int, Position, rank,\n",
            "    rbind, Reduce, rownames, sapply, setdiff, sort, table, tapply,\n",
            "    union, unique, unsplit, which.max, which.min\n",
            "\n",
            "\n",
            "Loading required package: S4Vectors\n",
            "\n",
            "\n",
            "Attaching package: ‘S4Vectors’\n",
            "\n",
            "\n",
            "The following objects are masked from ‘package:base’:\n",
            "\n",
            "    expand.grid, I, unname\n",
            "\n",
            "\n",
            "Loading required package: IRanges\n",
            "\n",
            "Loading required package: GenomeInfoDb\n",
            "\n",
            "\n",
            "Attaching package: ‘dplyr’\n",
            "\n",
            "\n",
            "The following objects are masked from ‘package:GenomicRanges’:\n",
            "\n",
            "    intersect, setdiff, union\n",
            "\n",
            "\n",
            "The following object is masked from ‘package:GenomeInfoDb’:\n",
            "\n",
            "    intersect\n",
            "\n",
            "\n",
            "The following objects are masked from ‘package:IRanges’:\n",
            "\n",
            "    collapse, desc, intersect, setdiff, slice, union\n",
            "\n",
            "\n",
            "The following objects are masked from ‘package:S4Vectors’:\n",
            "\n",
            "    first, intersect, rename, setdiff, setequal, union\n",
            "\n",
            "\n",
            "The following objects are masked from ‘package:BiocGenerics’:\n",
            "\n",
            "    combine, intersect, setdiff, union\n",
            "\n",
            "\n",
            "The following objects are masked from ‘package:stats’:\n",
            "\n",
            "    filter, lag\n",
            "\n",
            "\n",
            "The following objects are masked from ‘package:base’:\n",
            "\n",
            "    intersect, setdiff, setequal, union\n",
            "\n",
            "\n",
            "Loading required package: BSgenome\n",
            "\n",
            "Loading required package: Biostrings\n",
            "\n",
            "Loading required package: XVector\n",
            "\n",
            "\n",
            "Attaching package: ‘Biostrings’\n",
            "\n",
            "\n",
            "The following object is masked from ‘package:base’:\n",
            "\n",
            "    strsplit\n",
            "\n",
            "\n",
            "Loading required package: rtracklayer\n",
            "\n",
            "Loading required package: MatrixGenerics\n",
            "\n",
            "Loading required package: matrixStats\n",
            "\n",
            "\n",
            "Attaching package: ‘matrixStats’\n",
            "\n",
            "\n",
            "The following object is masked from ‘package:dplyr’:\n",
            "\n",
            "    count\n",
            "\n",
            "\n",
            "\n",
            "Attaching package: ‘MatrixGenerics’\n",
            "\n",
            "\n",
            "The following objects are masked from ‘package:matrixStats’:\n",
            "\n",
            "    colAlls, colAnyNAs, colAnys, colAvgsPerRowSet, colCollapse,\n",
            "    colCounts, colCummaxs, colCummins, colCumprods, colCumsums,\n",
            "    colDiffs, colIQRDiffs, colIQRs, colLogSumExps, colMadDiffs,\n",
            "    colMads, colMaxs, colMeans2, colMedians, colMins, colOrderStats,\n",
            "    colProds, colQuantiles, colRanges, colRanks, colSdDiffs, colSds,\n",
            "    colSums2, colTabulates, colVarDiffs, colVars, colWeightedMads,\n",
            "    colWeightedMeans, colWeightedMedians, colWeightedSds,\n",
            "    colWeightedVars, rowAlls, rowAnyNAs, rowAnys, rowAvgsPerColSet,\n",
            "    rowCollapse, rowCounts, rowCummaxs, rowCummins, rowCumprods,\n",
            "    rowCumsums, rowDiffs, rowIQRDiffs, rowIQRs, rowLogSumExps,\n",
            "    rowMadDiffs, rowMads, rowMaxs, rowMeans2, rowMedians, rowMins,\n",
            "    rowOrderStats, rowProds, rowQuantiles, rowRanges, rowRanks,\n",
            "    rowSdDiffs, rowSds, rowSums2, rowTabulates, rowVarDiffs, rowVars,\n",
            "    rowWeightedMads, rowWeightedMeans, rowWeightedMedians,\n",
            "    rowWeightedSds, rowWeightedVars\n",
            "\n",
            "\n",
            "Loading required package: Biobase\n",
            "\n",
            "Welcome to Bioconductor\n",
            "\n",
            "    Vignettes contain introductory material; view with\n",
            "    'browseVignettes()'. To cite Bioconductor, see\n",
            "    'citation(\"Biobase\")', and for packages 'citation(\"pkgname\")'.\n",
            "\n",
            "\n",
            "\n",
            "Attaching package: ‘Biobase’\n",
            "\n",
            "\n",
            "The following object is masked from ‘package:MatrixGenerics’:\n",
            "\n",
            "    rowMedians\n",
            "\n",
            "\n",
            "The following objects are masked from ‘package:matrixStats’:\n",
            "\n",
            "    anyMissing, rowMedians\n",
            "\n",
            "\n",
            "Loading required package: grid\n",
            "\n",
            "\n",
            "Attaching package: ‘grid’\n",
            "\n",
            "\n",
            "The following object is masked from ‘package:Biostrings’:\n",
            "\n",
            "    pattern\n",
            "\n",
            "\n",
            "Loading required package: ComplexHeatmap\n",
            "\n",
            "========================================\n",
            "ComplexHeatmap version 2.10.0\n",
            "Bioconductor page: http://bioconductor.org/packages/ComplexHeatmap/\n",
            "Github page: https://github.com/jokergoo/ComplexHeatmap\n",
            "Documentation: http://jokergoo.github.io/ComplexHeatmap-reference\n",
            "\n",
            "If you use it in published research, please cite:\n",
            "Gu, Z. Complex heatmaps reveal patterns and correlations in multidimensional \n",
            "  genomic data. Bioinformatics 2016.\n",
            "\n",
            "The new InteractiveComplexHeatmap package can directly export static \n",
            "complex heatmaps into an interactive Shiny app with zero effort. Have a try!\n",
            "\n",
            "This message can be suppressed by:\n",
            "  suppressPackageStartupMessages(library(ComplexHeatmap))\n",
            "========================================\n",
            "\n",
            "\n",
            "========================================\n",
            "EnrichedHeatmap version 1.24.0\n",
            "Bioconductor page: http://bioconductor.org/packages/EnrichedHeatmap/\n",
            "Github page: https://github.com/jokergoo/EnrichedHeatmap\n",
            "Documentation: http://bioconductor.org/packages/EnrichedHeatmap/\n",
            "\n",
            "If you use it in published research, please cite:\n",
            "Gu, Z. EnrichedHeatmap: an R/Bioconductor package for comprehensive \n",
            "visualization of genomic signal associations. BMC Genomics 2018.\n",
            "\n",
            "This message can be suppressed by:\n",
            "  suppressPackageStartupMessages(library(EnrichedHeatmap))\n",
            "========================================\n",
            "\n",
            "\n",
            "========================================\n",
            "circlize version 0.4.13\n",
            "CRAN page: https://cran.r-project.org/package=circlize\n",
            "Github page: https://github.com/jokergoo/circlize\n",
            "Documentation: https://jokergoo.github.io/circlize_book/book/\n",
            "\n",
            "If you use it in published research, please cite:\n",
            "Gu, Z. circlize implements and enhances circular visualization\n",
            "  in R. Bioinformatics 2014.\n",
            "\n",
            "This message can be suppressed by:\n",
            "  suppressPackageStartupMessages(library(circlize))\n",
            "========================================\n",
            "\n",
            "\n",
            "Loading required package: usethis\n",
            "\n"
          ]
        }
      ]
    },
    {
      "cell_type": "markdown",
      "metadata": {
        "id": "PyJoh9bxbC1C"
      },
      "source": [
        "## Read the Etv2 ChIP-seq peaks at D1 MEF reprogramming"
      ]
    },
    {
      "cell_type": "code",
      "metadata": {
        "id": "nZtoB27dBsjA",
        "colab": {
          "base_uri": "https://localhost:8080/",
          "height": 566
        },
        "outputId": "69e42384-5a42-4621-f2f0-09da38a22f1f"
      },
      "source": [
        "all_etv2_peaks_url <- 'https://s3.msi.umn.edu/gongx030/datasets/dataset=Etv2PioneerChIPseq_version=20191203a/all_Etv2_peaks.rds'\n",
        "gr <- readRDS(gzcon(url(all_etv2_peaks_url)))\n",
        "gr\n",
        "colnames(gr$group)"
      ],
      "execution_count": 8,
      "outputs": [
        {
          "output_type": "display_data",
          "data": {
            "text/plain": [
              "GRanges object with 162010 ranges and 4 metadata columns:\n",
              "           seqnames            ranges strand |                peak_id     score\n",
              "              <Rle>         <IRanges>  <Rle> |            <character> <numeric>\n",
              "       [1]     chr1   3037784-3037983      * | /panfs/roc/scratch/g..  16.22768\n",
              "       [2]     chr1   3263790-3263989      * | /panfs/roc/scratch/g..   8.36521\n",
              "       [3]     chr1   3344682-3344881      * | /panfs/roc/scratch/g..   9.73217\n",
              "       [4]     chr1   3460640-3460839      * | /panfs/roc/scratch/g..   3.92081\n",
              "       [5]     chr1   3490314-3490513      * | /panfs/roc/scratch/g..  12.29730\n",
              "       ...      ...               ...    ... .                    ...       ...\n",
              "  [162006]     chrY 90828936-90829135      * | /panfs/roc/scratch/g.. 160.15463\n",
              "  [162007]     chrY 90836259-90836458      * | /panfs/roc/scratch/g..   8.27339\n",
              "  [162008]     chrY 90841624-90841823      * | /panfs/roc/scratch/g..   1.53792\n",
              "  [162009]     chrY 90842563-90842762      * | /panfs/roc/scratch/g..  11.78216\n",
              "  [162010]     chrY 90843810-90844009      * | /panfs/roc/scratch/g..   5.92807\n",
              "                    source                 group\n",
              "               <character>              <matrix>\n",
              "       [1] MEF_Dox_d2_Etv2   TRUE:TRUE:FALSE:...\n",
              "       [2]  EB_Dox_3h_Etv2 FALSE:FALSE:FALSE:...\n",
              "       [3] MEF_Dox_d2_Etv2  FALSE:TRUE:FALSE:...\n",
              "       [4] MEF_Dox_d2_Etv2  FALSE:TRUE:FALSE:...\n",
              "       [5] MEF_Dox_d2_Etv2   TRUE:TRUE:FALSE:...\n",
              "       ...             ...                   ...\n",
              "  [162006] MEF_Dox_d2_Etv2    TRUE:TRUE:TRUE:...\n",
              "  [162007] MEF_Dox_d7_Etv2  FALSE:FALSE:TRUE:...\n",
              "  [162008] MEF_Dox_d1_Etv2  TRUE:FALSE:FALSE:...\n",
              "  [162009] MEF_Dox_d1_Etv2  TRUE:FALSE:FALSE:...\n",
              "  [162010] MEF_Dox_d1_Etv2  TRUE:FALSE:FALSE:...\n",
              "  -------\n",
              "  seqinfo: 21 sequences from an unspecified genome; no seqlengths"
            ]
          },
          "metadata": {}
        },
        {
          "output_type": "display_data",
          "data": {
            "text/plain": [
              "[1] \"MEF_Dox_d1_Etv2\" \"MEF_Dox_d2_Etv2\" \"MEF_Dox_d7_Etv2\" \"EB_Dox_3h_Etv2\" \n",
              "[5] \"EB_Dox_12h_Etv2\""
            ],
            "text/latex": "\\begin{enumerate*}\n\\item 'MEF\\_Dox\\_d1\\_Etv2'\n\\item 'MEF\\_Dox\\_d2\\_Etv2'\n\\item 'MEF\\_Dox\\_d7\\_Etv2'\n\\item 'EB\\_Dox\\_3h\\_Etv2'\n\\item 'EB\\_Dox\\_12h\\_Etv2'\n\\end{enumerate*}\n",
            "text/markdown": "1. 'MEF_Dox_d1_Etv2'\n2. 'MEF_Dox_d2_Etv2'\n3. 'MEF_Dox_d7_Etv2'\n4. 'EB_Dox_3h_Etv2'\n5. 'EB_Dox_12h_Etv2'\n\n\n",
            "text/html": [
              "<style>\n",
              ".list-inline {list-style: none; margin:0; padding: 0}\n",
              ".list-inline>li {display: inline-block}\n",
              ".list-inline>li:not(:last-child)::after {content: \"\\00b7\"; padding: 0 .5ex}\n",
              "</style>\n",
              "<ol class=list-inline><li>'MEF_Dox_d1_Etv2'</li><li>'MEF_Dox_d2_Etv2'</li><li>'MEF_Dox_d7_Etv2'</li><li>'EB_Dox_3h_Etv2'</li><li>'EB_Dox_12h_Etv2'</li></ol>\n"
            ]
          },
          "metadata": {}
        }
      ]
    },
    {
      "cell_type": "code",
      "metadata": {
        "id": "bCsSZJp7BS4r",
        "colab": {
          "base_uri": "https://localhost:8080/",
          "height": 548
        },
        "outputId": "43b85684-4d15-406a-d8a8-e90dccf8c11b"
      },
      "source": [
        "peaks <- gr[gr$group[, 'MEF_Dox_d1_Etv2']]\n",
        "seqlevels(peaks) <- seqlevels(BSgenome.Mmusculus.UCSC.mm10)\n",
        "seqlengths(peaks) <- seqlengths(BSgenome.Mmusculus.UCSC.mm10)\n",
        "seqinfo(peaks) <- seqinfo(BSgenome.Mmusculus.UCSC.mm10)\n",
        "peaks"
      ],
      "execution_count": 9,
      "outputs": [
        {
          "output_type": "display_data",
          "data": {
            "text/plain": [
              "GRanges object with 123337 ranges and 4 metadata columns:\n",
              "           seqnames            ranges strand |                peak_id     score\n",
              "              <Rle>         <IRanges>  <Rle> |            <character> <numeric>\n",
              "       [1]     chr1   3037784-3037983      * | /panfs/roc/scratch/g..  16.22768\n",
              "       [2]     chr1   3490314-3490513      * | /panfs/roc/scratch/g..  12.29730\n",
              "       [3]     chr1   3531626-3531825      * | /panfs/roc/scratch/g..  16.22768\n",
              "       [4]     chr1   3671125-3671324      * | /panfs/roc/scratch/g..   6.73792\n",
              "       [5]     chr1   3671746-3671945      * | /panfs/roc/scratch/g..   9.54304\n",
              "       ...      ...               ...    ... .                    ...       ...\n",
              "  [123333]     chrY 90828479-90828678      * | /panfs/roc/scratch/g..  20.49355\n",
              "  [123334]     chrY 90828936-90829135      * | /panfs/roc/scratch/g.. 160.15463\n",
              "  [123335]     chrY 90841624-90841823      * | /panfs/roc/scratch/g..   1.53792\n",
              "  [123336]     chrY 90842563-90842762      * | /panfs/roc/scratch/g..  11.78216\n",
              "  [123337]     chrY 90843810-90844009      * | /panfs/roc/scratch/g..   5.92807\n",
              "                    source                group\n",
              "               <character>             <matrix>\n",
              "       [1] MEF_Dox_d2_Etv2  TRUE:TRUE:FALSE:...\n",
              "       [2] MEF_Dox_d2_Etv2  TRUE:TRUE:FALSE:...\n",
              "       [3] MEF_Dox_d2_Etv2  TRUE:TRUE:FALSE:...\n",
              "       [4] MEF_Dox_d1_Etv2 TRUE:FALSE:FALSE:...\n",
              "       [5] MEF_Dox_d1_Etv2 TRUE:FALSE:FALSE:...\n",
              "       ...             ...                  ...\n",
              "  [123333] MEF_Dox_d2_Etv2  TRUE:TRUE:FALSE:...\n",
              "  [123334] MEF_Dox_d2_Etv2   TRUE:TRUE:TRUE:...\n",
              "  [123335] MEF_Dox_d1_Etv2 TRUE:FALSE:FALSE:...\n",
              "  [123336] MEF_Dox_d1_Etv2 TRUE:FALSE:FALSE:...\n",
              "  [123337] MEF_Dox_d1_Etv2 TRUE:FALSE:FALSE:...\n",
              "  -------\n",
              "  seqinfo: 239 sequences (1 circular) from mm10 genome"
            ]
          },
          "metadata": {}
        }
      ]
    },
    {
      "cell_type": "markdown",
      "metadata": {
        "id": "H955kYDsAlxh"
      },
      "source": [
        "## Download related `pileup` and `fold enrichment` bigwig files"
      ]
    },
    {
      "cell_type": "markdown",
      "metadata": {
        "id": "yrzjts0fA4fn"
      },
      "source": [
        "`rtracklayer::import` does not support importing bigwig files with URL starting with 'https://'. We need to download the bigwig files first."
      ]
    },
    {
      "cell_type": "code",
      "metadata": {
        "id": "556fcwk5cAWq"
      },
      "source": [
        "bw_files <- c('MEF_Dox_D1_Etv2' = 'https://s3.msi.umn.edu/gongx030/datasets/dataset=Etv2PioneerChIPseq_version=20191203a/MEF_Dox_d1_Etv2_FE.bw',\n",
        "\t'MNase' = 'https://s3.msi.umn.edu/gongx030/datasets/dataset=Chronis_version=20170519a/MNase_treat_pileup.bw')"
      ],
      "execution_count": 10,
      "outputs": []
    },
    {
      "cell_type": "code",
      "metadata": {
        "id": "JwWXtA14AwNX"
      },
      "source": [
        "for (i in 1:length(bw_files)){\n",
        "  sprintf('wget -x -c -nH %s', bw_files[i]) %>% system()\n",
        "}\n",
        "local_bw_files <- gsub('https://s3.msi.umn.edu/', './', bw_files)"
      ],
      "execution_count": 11,
      "outputs": []
    },
    {
      "cell_type": "code",
      "metadata": {
        "id": "CpCEsYACEJSG",
        "colab": {
          "base_uri": "https://localhost:8080/"
        },
        "outputId": "67bfbb98-b64a-408b-ad2c-a6ced3236d0d"
      },
      "source": [
        "message(sprintf('all local_bw_files exist: %s', all(file.exists(local_bw_files))))"
      ],
      "execution_count": 12,
      "outputs": [
        {
          "output_type": "stream",
          "name": "stderr",
          "text": [
            "all local_bw_files exist: TRUE\n",
            "\n"
          ]
        }
      ]
    },
    {
      "cell_type": "markdown",
      "metadata": {
        "id": "RV0xMlSjC8pD"
      },
      "source": [
        "## Prepare normalized matrix for MNase-seq and Etv2 ChIP-seq data for `EnrichedHeatmap`"
      ]
    },
    {
      "cell_type": "code",
      "metadata": {
        "id": "WV4fG0M9J9IN",
        "colab": {
          "base_uri": "https://localhost:8080/"
        },
        "outputId": "08ae49a3-067e-4e71-c8c8-7473a9c90971"
      },
      "source": [
        "sprintf('number of Etv2 peaks in MEFS: %d', length(peaks)) %>% message()"
      ],
      "execution_count": 13,
      "outputs": [
        {
          "output_type": "stream",
          "name": "stderr",
          "text": [
            "number of Etv2 peaks in MEFS: 123337\n",
            "\n"
          ]
        }
      ]
    },
    {
      "cell_type": "code",
      "metadata": {
        "id": "JXCBI_lSAPiy",
        "colab": {
          "base_uri": "https://localhost:8080/"
        },
        "outputId": "a6388c39-5b72-4fc3-b4bd-2a2bc4b8d11d"
      },
      "source": [
        "extend <- 1000\n",
        "w <- 50\n",
        "smooth <- FALSE\n",
        "target_ratio <- 0.2\n",
        "target_width <- width(peaks)[1]\n",
        "message(sprintf('target width: %d\\n', target_width))"
      ],
      "execution_count": 14,
      "outputs": [
        {
          "output_type": "stream",
          "name": "stderr",
          "text": [
            "target width: 200\n",
            "\n",
            "\n"
          ]
        }
      ]
    },
    {
      "cell_type": "code",
      "metadata": {
        "id": "AxPghLVvBKqh",
        "colab": {
          "base_uri": "https://localhost:8080/"
        },
        "outputId": "1927c8dc-465e-4c1f-d2ba-d3194113b1c5"
      },
      "source": [
        "mat <- lapply(local_bw_files, function(bw_file){\n",
        "  cvg <- rtracklayer::import(\n",
        "    bw_file, \n",
        "    which = trim(GenomicRanges::reduce(resize(peaks, fix = 'center', width = target_width + extend * 2)))\n",
        "  )  # returned as a GRanges object\n",
        "  normalizeToMatrix(\n",
        "    cvg, \n",
        "    resize(peaks, fix = 'center', width = 1), \n",
        "    extend = extend, \n",
        "    value_column = 'score', \n",
        "    mean_mode = 'w0', \n",
        "    w = w, \n",
        "    smooth = smooth, \n",
        "    target_ratio = target_ratio\n",
        "  )\n",
        "})"
      ],
      "execution_count": 15,
      "outputs": [
        {
          "output_type": "stream",
          "name": "stderr",
          "text": [
            "Warning message in .normarg_seqnames2(seqnames, seqinfo):\n",
            "“levels in 'seqnames' with no entries in 'seqinfo' were dropped”\n",
            "Warning message in .normarg_seqnames2(seqnames, seqinfo):\n",
            "“levels in 'seqnames' with no entries in 'seqinfo' were dropped”\n"
          ]
        }
      ]
    },
    {
      "cell_type": "markdown",
      "metadata": {
        "id": "pI1aOBKhoMpf"
      },
      "source": [
        "### Getting the cluster information from MNase seq data as done previously by Dr. Wuming"
      ]
    },
    {
      "cell_type": "code",
      "metadata": {
        "id": "9XAB8IrgmU_G"
      },
      "source": [
        "i <- seq_len(length(peaks))\n",
        "mean_mnase <- rowMeans(mat[['MNase']][, (extend / w - 1):(extend / w  + 1)])\n",
        "cls <- as.numeric(cut(mean_mnase, quantile(mean_mnase, c(1, 0.75, 0.25, 0)), include.lowest = TRUE))\n",
        "sp <- factor(cls)\n"
      ],
      "execution_count": 16,
      "outputs": []
    },
    {
      "cell_type": "code",
      "metadata": {
        "id": "5B11yYfkFoM3"
      },
      "source": [
        "peaks$sp <- sp"
      ],
      "execution_count": 17,
      "outputs": []
    },
    {
      "cell_type": "markdown",
      "metadata": {
        "id": "KqVjgBZ2BuGU"
      },
      "source": [
        "## Process the GC percent using the bed files"
      ]
    },
    {
      "cell_type": "code",
      "metadata": {
        "id": "jBgCKmpxOMBb"
      },
      "source": [
        "bed <- c('D0_Pos' = 'https://s3.msi.umn.edu/dsouz072/datasets/dataset=NOMeseq_MEF_version=20210923a/D0_NOME.bed',\n",
        "         'D1_Pos' = 'https://s3.msi.umn.edu/dsouz072/datasets/dataset=NOMeseq_MEF_version=20210923a/D1_NOME.bed'\n",
        "         )"
      ],
      "execution_count": 18,
      "outputs": []
    },
    {
      "cell_type": "code",
      "metadata": {
        "id": "JsMGTpqW306S",
        "colab": {
          "base_uri": "https://localhost:8080/"
        },
        "outputId": "e4776c56-9081-4e0b-930d-232794d8ea94"
      },
      "source": [
        "for (i in 1:length(bed)){\n",
        "  sprintf('wget -x -c -nH %s', bed[i]) %>% system()\n",
        "}\n",
        "bed <- gsub('https://s3.msi.umn.edu/', './', bed)\n",
        "message(sprintf('all local_bw_files exist: %s', all(file.exists(bed))))"
      ],
      "execution_count": 19,
      "outputs": [
        {
          "output_type": "stream",
          "name": "stderr",
          "text": [
            "all local_bw_files exist: TRUE\n",
            "\n"
          ]
        }
      ]
    },
    {
      "cell_type": "code",
      "metadata": {
        "id": "GBcs67R634EW"
      },
      "source": [
        "tab <- lapply(bed, function(b){read.table(b, sep = '\\t')})\n",
        "GCH <- lapply(tab, function(t){GRanges(t$V1, IRanges(t$V2, width=1))})\n",
        "GCH <- lapply(GCH, function(g){\n",
        "  seqlengths(g) <- seqlengths(Mmusculus)[seqlevels(g)]\n",
        "  return(g)})\n",
        "GCH <- lapply(1:length(GCH), function(g){\n",
        "  values(GCH[[g]]) <- as.data.frame(tab[[g]])[,-c(1:3)]\n",
        "  return(GCH[[g]])\n",
        "})"
      ],
      "execution_count": 20,
      "outputs": []
    },
    {
      "cell_type": "code",
      "metadata": {
        "id": "TH0GwYJ936dW"
      },
      "source": [
        "names(GCH) <- names(tab)\n",
        "GCH <- lapply(names(GCH), function(g){\n",
        "          colnames(mcols(GCH[[g]])) <- c(sprintf('%s.C',g),sprintf('%s.cov',g))\n",
        "          return(GCH[[g]])\n",
        "})\n",
        "names(GCH) <- names(tab)"
      ],
      "execution_count": 21,
      "outputs": []
    },
    {
      "cell_type": "code",
      "metadata": {
        "id": "IYwqLJMkJpNw"
      },
      "source": [
        "GCH_percent <- GCH"
      ],
      "execution_count": 22,
      "outputs": []
    },
    {
      "cell_type": "markdown",
      "metadata": {
        "id": "fpXDyjGh4fqJ"
      },
      "source": [
        "Changing the score to 1-GpC methylation percent "
      ]
    },
    {
      "cell_type": "code",
      "metadata": {
        "id": "DEz-Qu9isbpb"
      },
      "source": [
        "GCH_percent[[1]]$D0_Pos.C <- 100*(1- GCH_percent[[1]]$D0_Pos.C)"
      ],
      "execution_count": 23,
      "outputs": []
    },
    {
      "cell_type": "code",
      "metadata": {
        "id": "Yk8q7cghtMt8"
      },
      "source": [
        "GCH_percent[[2]]$D1_Pos.C <- 100*(1- GCH_percent[[2]]$D1_Pos.C)"
      ],
      "execution_count": 24,
      "outputs": []
    },
    {
      "cell_type": "markdown",
      "metadata": {
        "id": "iiOkEnCuSuYD"
      },
      "source": [
        "Changing the score to 1-GpC methylation"
      ]
    },
    {
      "cell_type": "code",
      "metadata": {
        "id": "a8JvSAzLMugA"
      },
      "source": [
        "GCH[[1]]$D0_Pos.C <- (1- GCH[[1]]$D0_Pos.C)"
      ],
      "execution_count": 25,
      "outputs": []
    },
    {
      "cell_type": "code",
      "metadata": {
        "id": "v4qZSWEpMvVX"
      },
      "source": [
        "GCH[[2]]$D1_Pos.C <- (1- GCH[[2]]$D1_Pos.C)"
      ],
      "execution_count": 26,
      "outputs": []
    },
    {
      "cell_type": "markdown",
      "metadata": {
        "id": "VOTMsSc54fCK"
      },
      "source": [
        "# Normalized matrix calculation for Day 0 and Day 1 NOMeseq"
      ]
    },
    {
      "cell_type": "code",
      "metadata": {
        "id": "4_rboJtOG3xE",
        "colab": {
          "base_uri": "https://localhost:8080/"
        },
        "outputId": "52c13511-18e1-4632-d15c-dcbbb9c41510"
      },
      "source": [
        "mat_d0_percent <-  normalizeToMatrix(\n",
        "    resize(GCH_percent[[1]], width = 200, fix = 'center'), \n",
        "    resize(peaks, fix = 'center', width = 1), \n",
        "    extend = extend, \n",
        "    value_column = 'D0_Pos.C', \n",
        "    mean_mode = 'w0', \n",
        "    w = w, \n",
        "    smooth = smooth, \n",
        "    target_ratio = target_ratio\n",
        "  )"
      ],
      "execution_count": 27,
      "outputs": [
        {
          "output_type": "stream",
          "name": "stderr",
          "text": [
            "Warning message in valid.GenomicRanges.seqinfo(x, suggest.trim = TRUE):\n",
            "“GRanges object contains 11 out-of-bound ranges located on sequence\n",
            "  chrM. Note that ranges located on a sequence whose length is unknown\n",
            "  (NA) or on a circular sequence are not considered out-of-bound (use\n",
            "  seqlengths() and isCircular() to get the lengths and circularity flags\n",
            "  of the underlying sequences). You can use trim() to trim these ranges.\n",
            "  See ?`trim,GenomicRanges-method` for more information.”\n"
          ]
        }
      ]
    },
    {
      "cell_type": "code",
      "metadata": {
        "colab": {
          "base_uri": "https://localhost:8080/"
        },
        "id": "QcX8Lg7qGlDR",
        "outputId": "123c01b2-ddfc-416a-f50d-c29b4feaa226"
      },
      "source": [
        "mat_d0 <-  normalizeToMatrix(\n",
        "    resize(GCH[[1]], width = 200, fix = 'center'), \n",
        "    resize(peaks, fix = 'center', width = 1), \n",
        "    extend = extend, \n",
        "    value_column = 'D0_Pos.C', \n",
        "    mean_mode = 'w0', \n",
        "    w = w, \n",
        "    smooth = smooth, \n",
        "    target_ratio = target_ratio\n",
        "  )"
      ],
      "execution_count": 28,
      "outputs": [
        {
          "output_type": "stream",
          "name": "stderr",
          "text": [
            "Warning message in valid.GenomicRanges.seqinfo(x, suggest.trim = TRUE):\n",
            "“GRanges object contains 11 out-of-bound ranges located on sequence\n",
            "  chrM. Note that ranges located on a sequence whose length is unknown\n",
            "  (NA) or on a circular sequence are not considered out-of-bound (use\n",
            "  seqlengths() and isCircular() to get the lengths and circularity flags\n",
            "  of the underlying sequences). You can use trim() to trim these ranges.\n",
            "  See ?`trim,GenomicRanges-method` for more information.”\n"
          ]
        }
      ]
    },
    {
      "cell_type": "code",
      "metadata": {
        "id": "N12MAl2gphlv",
        "colab": {
          "base_uri": "https://localhost:8080/"
        },
        "outputId": "145087dd-2cfe-4d86-fd7a-89bc2a8bc264"
      },
      "source": [
        "mat_d1_percent <-  normalizeToMatrix(\n",
        "    resize(GCH_percent[[2]], width = 200, fix = 'center'), \n",
        "    resize(peaks, fix = 'center', width = 1), \n",
        "    extend = extend, \n",
        "    value_column = 'D1_Pos.C', \n",
        "    mean_mode = 'w0', \n",
        "    w = w, \n",
        "    smooth = smooth, \n",
        "    target_ratio = target_ratio\n",
        "  )"
      ],
      "execution_count": 29,
      "outputs": [
        {
          "output_type": "stream",
          "name": "stderr",
          "text": [
            "Warning message in valid.GenomicRanges.seqinfo(x, suggest.trim = TRUE):\n",
            "“GRanges object contains 11 out-of-bound ranges located on sequence\n",
            "  chrM. Note that ranges located on a sequence whose length is unknown\n",
            "  (NA) or on a circular sequence are not considered out-of-bound (use\n",
            "  seqlengths() and isCircular() to get the lengths and circularity flags\n",
            "  of the underlying sequences). You can use trim() to trim these ranges.\n",
            "  See ?`trim,GenomicRanges-method` for more information.”\n"
          ]
        }
      ]
    },
    {
      "cell_type": "code",
      "metadata": {
        "colab": {
          "base_uri": "https://localhost:8080/"
        },
        "id": "3-AEATXQGqWt",
        "outputId": "da767433-b8e0-45f8-994b-4030aeaca881"
      },
      "source": [
        "mat_d1 <-  normalizeToMatrix(\n",
        "    resize(GCH[[2]], width = 200, fix = 'center'), \n",
        "    resize(peaks, fix = 'center', width = 1), \n",
        "    extend = extend, \n",
        "    value_column = 'D1_Pos.C', \n",
        "    mean_mode = 'w0', \n",
        "    w = w, \n",
        "    smooth = smooth, \n",
        "    target_ratio = target_ratio\n",
        "  )"
      ],
      "execution_count": 30,
      "outputs": [
        {
          "output_type": "stream",
          "name": "stderr",
          "text": [
            "Warning message in valid.GenomicRanges.seqinfo(x, suggest.trim = TRUE):\n",
            "“GRanges object contains 11 out-of-bound ranges located on sequence\n",
            "  chrM. Note that ranges located on a sequence whose length is unknown\n",
            "  (NA) or on a circular sequence are not considered out-of-bound (use\n",
            "  seqlengths() and isCircular() to get the lengths and circularity flags\n",
            "  of the underlying sequences). You can use trim() to trim these ranges.\n",
            "  See ?`trim,GenomicRanges-method` for more information.”\n"
          ]
        }
      ]
    },
    {
      "cell_type": "code",
      "metadata": {
        "id": "ilbeIaRpcN2Q",
        "colab": {
          "base_uri": "https://localhost:8080/",
          "height": 34
        },
        "outputId": "ef8123a6-6ada-4708-e4a1-47870d7ec30e"
      },
      "source": [
        "length(which(rowSums(mat_d0_percent) > 0))"
      ],
      "execution_count": 31,
      "outputs": [
        {
          "output_type": "display_data",
          "data": {
            "text/plain": [
              "[1] 91391"
            ],
            "text/latex": "91391",
            "text/markdown": "91391",
            "text/html": [
              "91391"
            ]
          },
          "metadata": {}
        }
      ]
    },
    {
      "cell_type": "code",
      "metadata": {
        "id": "kCLGKghWXDKu"
      },
      "source": [
        "r <- which(rowSums(mat_d0_percent) > 0) #Removing rows with all zeroes in matrix for D0"
      ],
      "execution_count": 32,
      "outputs": []
    },
    {
      "cell_type": "markdown",
      "metadata": {
        "id": "XlTRCZ6L7e7Q"
      },
      "source": [
        "#Subsetting normalized matrix to exclude rows that are all 0 in D0 NOMe-seq "
      ]
    },
    {
      "cell_type": "code",
      "metadata": {
        "id": "utdQDKtRXkVR"
      },
      "source": [
        "mat_d0_percent_sub <- mat_d0_percent[r,]\n",
        "mat_d1_percent_sub <- mat_d1_percent[r,]\n",
        "mat_d0_sub <- mat_d0[r,]\n",
        "mat_d1_sub <- mat_d1[r,]\n",
        "mat_sub <- mat[['MNase']][r,]\n",
        "mat_etv2 <- mat[['MEF_Dox_D1_Etv2']][r,]"
      ],
      "execution_count": 33,
      "outputs": []
    },
    {
      "cell_type": "markdown",
      "metadata": {
        "id": "HEIW8kLi7req"
      },
      "source": [
        "## Splitting regions into different clusters based on the mean of center 150 bp region\n"
      ]
    },
    {
      "cell_type": "code",
      "metadata": {
        "id": "UkxU9q__kmWh"
      },
      "source": [
        "i <- seq_len(length(peaks))\n",
        "mean_d0 <- rowMeans(mat_d0_percent_sub[, (extend / w - 1):(extend / w  + 1)])\n",
        "cls_d0 <- as.numeric(cut(mean_d0, quantile(mean_d0, c(1, 0.55, 0)), include.lowest = TRUE))\n",
        "sp_d0 <- factor(cls_d0)"
      ],
      "execution_count": 34,
      "outputs": []
    },
    {
      "cell_type": "code",
      "metadata": {
        "colab": {
          "base_uri": "https://localhost:8080/"
        },
        "id": "yocdyAEJJAjS",
        "outputId": "e9222d67-510a-49b6-928d-52bd642ba6c9"
      },
      "source": [
        "message(sprintf('The number of peaks that are nucleosome occupied in Day 0 NOMe-seq: %s', length(sp_d0[sp_d0 == 2])))"
      ],
      "execution_count": 35,
      "outputs": [
        {
          "output_type": "stream",
          "name": "stderr",
          "text": [
            "The number of peaks that are nucleosome occupied in Day 0 NOMe-seq: 41126\n",
            "\n"
          ]
        }
      ]
    },
    {
      "cell_type": "markdown",
      "metadata": {
        "id": "HoVoxdms8Tlr"
      },
      "source": [
        "# Subsetting the normalized matrix to include nucleosome occupied regions in day 0"
      ]
    },
    {
      "cell_type": "code",
      "metadata": {
        "id": "mUAIPcfdM0T-"
      },
      "source": [
        "mat_d0_nor <- mat_d0_sub[sp_d0 == 2,]\n",
        "mat_d1_nor <- mat_d1_sub[sp_d0 == 2,]\n",
        "mat_sub_nor <- mat_sub[sp_d0 == 2,]\n",
        "mat_etv2_nor <- mat_etv2[sp_d0 == 2,]"
      ],
      "execution_count": 36,
      "outputs": []
    },
    {
      "cell_type": "markdown",
      "metadata": {
        "id": "4O62XKVCJeVA"
      },
      "source": [
        "#Testing the significance of the ~41000 peaks in Day 0 NOMe-seq to obtain Nucleosome regions changing to Nucleosome depleted regions in Day 1"
      ]
    },
    {
      "cell_type": "markdown",
      "metadata": {
        "id": "wYkpv2YxKfRc"
      },
      "source": [
        "Subsetting ETV2 ChIP-seq peaks to the 41126 regions"
      ]
    },
    {
      "cell_type": "code",
      "metadata": {
        "id": "BaWD9nDuMRG1"
      },
      "source": [
        "peaks_sub <- peaks[r,]"
      ],
      "execution_count": 37,
      "outputs": []
    },
    {
      "cell_type": "code",
      "metadata": {
        "id": "aBpMpC_zMcyO"
      },
      "source": [
        "peaks_sub$sp <- sp_d0"
      ],
      "execution_count": 38,
      "outputs": []
    },
    {
      "cell_type": "code",
      "metadata": {
        "id": "iJ_UB-AHMfcE"
      },
      "source": [
        "peaks_nor <- peaks_sub[sp_d0 ==2,]"
      ],
      "execution_count": 39,
      "outputs": []
    },
    {
      "cell_type": "code",
      "metadata": {
        "colab": {
          "base_uri": "https://localhost:8080/",
          "height": 548
        },
        "id": "x6IBdw2PKtlF",
        "outputId": "be31de9d-223c-4f25-b0d2-439d82ea24bf"
      },
      "source": [
        "peaks_nor"
      ],
      "execution_count": 40,
      "outputs": [
        {
          "output_type": "display_data",
          "data": {
            "text/plain": [
              "GRanges object with 41126 ranges and 5 metadata columns:\n",
              "          seqnames            ranges strand |                peak_id     score\n",
              "             <Rle>         <IRanges>  <Rle> |            <character> <numeric>\n",
              "      [1]     chr1   3490314-3490513      * | /panfs/roc/scratch/g..  12.29730\n",
              "      [2]     chr1   3531626-3531825      * | /panfs/roc/scratch/g..  16.22768\n",
              "      [3]     chr1   3671125-3671324      * | /panfs/roc/scratch/g..   6.73792\n",
              "      [4]     chr1   3754485-3754684      * | /panfs/roc/scratch/g..   4.97274\n",
              "      [5]     chr1   4090307-4090506      * | /panfs/roc/scratch/g..   8.57992\n",
              "      ...      ...               ...    ... .                    ...       ...\n",
              "  [41122]     chrY 90800337-90800536      * | /panfs/roc/scratch/g..   69.3242\n",
              "  [41123]     chrY 90807354-90807553      * | /panfs/roc/scratch/g..  103.2391\n",
              "  [41124]     chrY 90811392-90811591      * | /panfs/roc/scratch/g..   74.1391\n",
              "  [41125]     chrY 90812310-90812509      * | /panfs/roc/scratch/g..   42.5433\n",
              "  [41126]     chrY 90825070-90825269      * | /panfs/roc/scratch/g..   17.6273\n",
              "                   source                group       sp\n",
              "              <character>             <matrix> <factor>\n",
              "      [1] MEF_Dox_d2_Etv2  TRUE:TRUE:FALSE:...        2\n",
              "      [2] MEF_Dox_d2_Etv2  TRUE:TRUE:FALSE:...        2\n",
              "      [3] MEF_Dox_d1_Etv2 TRUE:FALSE:FALSE:...        2\n",
              "      [4] MEF_Dox_d2_Etv2  TRUE:TRUE:FALSE:...        2\n",
              "      [5] MEF_Dox_d1_Etv2  TRUE:TRUE:FALSE:...        2\n",
              "      ...             ...                  ...      ...\n",
              "  [41122] MEF_Dox_d2_Etv2  TRUE:TRUE:FALSE:...        2\n",
              "  [41123] MEF_Dox_d2_Etv2   TRUE:TRUE:TRUE:...        2\n",
              "  [41124]  EB_Dox_3h_Etv2 TRUE:FALSE:FALSE:...        2\n",
              "  [41125]  EB_Dox_3h_Etv2  TRUE:TRUE:FALSE:...        2\n",
              "  [41126] MEF_Dox_d2_Etv2  TRUE:TRUE:FALSE:...        2\n",
              "  -------\n",
              "  seqinfo: 239 sequences (1 circular) from mm10 genome"
            ]
          },
          "metadata": {}
        }
      ]
    },
    {
      "cell_type": "markdown",
      "metadata": {
        "id": "_6vEtgVYMA9j"
      },
      "source": [
        "# Calculating the number of methylated cytosine multiplying the coverage information and percent of accessibilty "
      ]
    },
    {
      "cell_type": "code",
      "metadata": {
        "id": "hYFOMKwsR6n0"
      },
      "source": [
        "center_width <- 200L"
      ],
      "execution_count": 41,
      "outputs": []
    },
    {
      "cell_type": "code",
      "metadata": {
        "id": "3ghVyQvJQ1B7"
      },
      "source": [
        "GCH[[1]]$D0_Pos.nC <- round(GCH[[1]]$D0_Pos.cov * GCH[[1]]$D0_Pos.C)\n",
        "GCH[[2]]$D1_Pos.nC <- round(GCH[[2]]$D1_Pos.cov * GCH[[2]]$D1_Pos.C)"
      ],
      "execution_count": 42,
      "outputs": []
    },
    {
      "cell_type": "markdown",
      "metadata": {
        "id": "aygsnmZdK9Q0"
      },
      "source": [
        "## Calculating the coverage extending the region to 2000kb \n"
      ]
    },
    {
      "cell_type": "code",
      "metadata": {
        "id": "N_Tzd0UrMjkH"
      },
      "source": [
        "GCH_cov <- list()\n",
        "GCH_cov[[1]] <- GCH[[1]] %>% coverage(weight = 'D0_Pos.cov')\n",
        "GCH_cov[[2]] <- GCH[[2]] %>% coverage(weight = 'D1_Pos.cov')\n",
        "GCH_C <- list()\n",
        "GCH_C[[1]] <- GCH[[1]] %>% coverage(weight = 'D0_Pos.nC')\n",
        "GCH_C[[2]] <- GCH[[2]] %>% coverage(weight = 'D1_Pos.nC')"
      ],
      "execution_count": 43,
      "outputs": []
    },
    {
      "cell_type": "markdown",
      "metadata": {
        "id": "uGhQ73fHLjml"
      },
      "source": [
        "## Defining a 200 bp sliding windows with 20 bp steps"
      ]
    },
    {
      "cell_type": "code",
      "metadata": {
        "id": "WWcLmJ1-NYGW"
      },
      "source": [
        "wins <- peaks_nor %>% \n",
        "  resize(fix = 'center', width = 2000L) %>% \n",
        "  slidingWindows(width = center_width, step = 20L) %>%\n",
        "  unlist()"
      ],
      "execution_count": 44,
      "outputs": []
    },
    {
      "cell_type": "code",
      "metadata": {
        "id": "EeNqVHy9MuPG"
      },
      "source": [
        "GCH_win_conv <- lapply(GCH_cov, function(cov) cov[wins] %>% sum())\n",
        "GCH_win_C <- lapply(GCH_C, function(cov) cov[wins] %>% sum())"
      ],
      "execution_count": 45,
      "outputs": []
    },
    {
      "cell_type": "code",
      "metadata": {
        "id": "yYk7a_3ySMfy"
      },
      "source": [
        "p_C <- sum(GCH_win_C[[2]]) / sum(GCH_win_conv[[2]])"
      ],
      "execution_count": 46,
      "outputs": []
    },
    {
      "cell_type": "code",
      "metadata": {
        "id": "0LVk0IBjVfVX"
      },
      "source": [
        "centers <- peaks_nor %>%\n",
        "  resize(fix = 'center', width = center_width)"
      ],
      "execution_count": 47,
      "outputs": []
    },
    {
      "cell_type": "code",
      "metadata": {
        "id": "bs4SO1cDVl1B"
      },
      "source": [
        "GCH_win_conv_centers <- lapply(GCH_cov, function(cov) cov[centers] %>% sum())\n",
        "GCH_win_C_centers <- lapply(GCH_C, function(cov) cov[centers] %>% sum())"
      ],
      "execution_count": 48,
      "outputs": []
    },
    {
      "cell_type": "code",
      "metadata": {
        "id": "abuf64I5TC9T"
      },
      "source": [
        "x <- lapply(1:2, function(i) cbind(C = GCH_win_C_centers[[i]], not_C = GCH_win_conv_centers[[i]] - GCH_win_C_centers[[i]]))\n",
        "x <- rbind(data.frame(x[[1]], group = 'D0'), data.frame(x[[2]], group = 'D1'))"
      ],
      "execution_count": 49,
      "outputs": []
    },
    {
      "cell_type": "markdown",
      "metadata": {
        "id": "1bCg2_Uyk7BU"
      },
      "source": [
        "# P-values obtained using test of equal or given proportions to find nucleosome occupied region that are significant "
      ]
    },
    {
      "cell_type": "code",
      "metadata": {
        "id": "CQGnhFI0Tce5"
      },
      "source": [
        "set.seed(1234)\n",
        "not_zeros <- x[, 'C'] > 0\n",
        "pvalue <- rep(1, nrow(x))\n",
        "pvalue[not_zeros] <- sapply(which(not_zeros), function(i) suppressWarnings(prop.test(x[i, 'C'], n = x[i, 'C'] + x[i, 'not_C'], p = p_C, alternative = 'greater')$p.value))"
      ],
      "execution_count": 50,
      "outputs": []
    },
    {
      "cell_type": "code",
      "metadata": {
        "id": "HnapXKVvUC4h"
      },
      "source": [
        "x <- cbind(x, pvalue = pvalue)"
      ],
      "execution_count": 51,
      "outputs": []
    },
    {
      "cell_type": "code",
      "metadata": {
        "colab": {
          "base_uri": "https://localhost:8080/",
          "height": 160
        },
        "id": "m5W-AY4fVAhY",
        "outputId": "802b6d0e-998a-4192-a7a7-ce57ffb627a8"
      },
      "source": [
        "x %>% group_by(group) %>% summarize(n = sum(pvalue < 0.05, na.rm = TRUE))"
      ],
      "execution_count": 52,
      "outputs": [
        {
          "output_type": "display_data",
          "data": {
            "text/plain": [
              "  group n   \n",
              "1 D0    5320\n",
              "2 D1    2481"
            ],
            "text/latex": "A tibble: 2 × 2\n\\begin{tabular}{ll}\n group & n\\\\\n <chr> & <int>\\\\\n\\hline\n\t D0 & 5320\\\\\n\t D1 & 2481\\\\\n\\end{tabular}\n",
            "text/markdown": "\nA tibble: 2 × 2\n\n| group &lt;chr&gt; | n &lt;int&gt; |\n|---|---|\n| D0 | 5320 |\n| D1 | 2481 |\n\n",
            "text/html": [
              "<table class=\"dataframe\">\n",
              "<caption>A tibble: 2 × 2</caption>\n",
              "<thead>\n",
              "\t<tr><th scope=col>group</th><th scope=col>n</th></tr>\n",
              "\t<tr><th scope=col>&lt;chr&gt;</th><th scope=col>&lt;int&gt;</th></tr>\n",
              "</thead>\n",
              "<tbody>\n",
              "\t<tr><td>D0</td><td>5320</td></tr>\n",
              "\t<tr><td>D1</td><td>2481</td></tr>\n",
              "</tbody>\n",
              "</table>\n"
            ]
          },
          "metadata": {}
        }
      ]
    },
    {
      "cell_type": "markdown",
      "metadata": {
        "id": "NFfiUisdNecS"
      },
      "source": [
        "# Subsetting the number of peaks to the 5320 Nucleosome occupied peaks in Day 0 that are significant"
      ]
    },
    {
      "cell_type": "code",
      "metadata": {
        "id": "KPYQlg1rlMjS"
      },
      "source": [
        "x_D0 <- x %>% filter(group == 'D0')"
      ],
      "execution_count": 53,
      "outputs": []
    },
    {
      "cell_type": "code",
      "metadata": {
        "id": "1RT7nMJ4lY4S"
      },
      "source": [
        "p_D0 <- (which(x_D0$pvalue < 0.05))"
      ],
      "execution_count": 54,
      "outputs": []
    },
    {
      "cell_type": "code",
      "metadata": {
        "colab": {
          "base_uri": "https://localhost:8080/"
        },
        "id": "UcbfiNdqOYNX",
        "outputId": "3bc04978-2535-4c1b-f7b9-8ee9ccd0fbf6"
      },
      "source": [
        "message(sprintf('The number of peaks that are nucleosome occupied and significant in Day 0 NOMe-seq: %s', length(p_D0)))"
      ],
      "execution_count": 55,
      "outputs": [
        {
          "output_type": "stream",
          "name": "stderr",
          "text": [
            "The number of peaks that are nucleosome occupied and significant in Day 0 NOMe-seq: 5320\n",
            "\n"
          ]
        }
      ]
    },
    {
      "cell_type": "markdown",
      "metadata": {
        "id": "v5vEJPc5OniM"
      },
      "source": [
        "## Subsetting normalized matrix to include 5320 rows that are significant"
      ]
    },
    {
      "cell_type": "code",
      "metadata": {
        "id": "2SSMwiN8lwKR"
      },
      "source": [
        "mat_sig_d0 <- mat_d0_nor[p_D0,]\n",
        "mat_sig_d1 <- mat_d1_nor[p_D0,]\n",
        "mat_sig_mnase <- mat_sub_nor[p_D0,]\n",
        "mat_sig_etv2 <- mat_etv2_nor[p_D0,]"
      ],
      "execution_count": 56,
      "outputs": []
    },
    {
      "cell_type": "code",
      "metadata": {
        "id": "vsd56iBpZbTj"
      },
      "source": [
        "xx <- matrix(x$pvalue, nrow(x) / 2, 2)"
      ],
      "execution_count": 57,
      "outputs": []
    },
    {
      "cell_type": "markdown",
      "metadata": {
        "id": "UnyMqwCdR5Gj"
      },
      "source": [
        "# The number of Nucleosome depleted regions and Nucleosome occupied regions in D1 NOMe-seq"
      ]
    },
    {
      "cell_type": "code",
      "metadata": {
        "colab": {
          "base_uri": "https://localhost:8080/"
        },
        "id": "9l34QogVZ7y1",
        "outputId": "c53cc669-d7f7-4630-ec22-e036307be1ee"
      },
      "source": [
        "message(sprintf('The number of peaks that are nucleosome occupied and significant in Day 0 and nucleosome depleted in Day 1 NOMe-seq: %s', sum(xx[, 1] < 0.05 & xx[, 2] > 0.05, na.rm = TRUE)))"
      ],
      "execution_count": 58,
      "outputs": [
        {
          "output_type": "stream",
          "name": "stderr",
          "text": [
            "The number of peaks that are nucleosome occupied and significant in Day 0 and nucleosome depleted in Day 1 NOMe-seq: 4744\n",
            "\n"
          ]
        }
      ]
    },
    {
      "cell_type": "code",
      "metadata": {
        "colab": {
          "base_uri": "https://localhost:8080/"
        },
        "id": "_y4teLKXl84Y",
        "outputId": "33859d28-4cb3-425c-91db-64502b22eadd"
      },
      "source": [
        "message(sprintf('The number of peaks that are nucleosome occupied and significant in Day 0 and nucleosome occupied in Day 1 NOMe-seq: %s', sum(xx[, 1] < 0.05 & xx[, 2] < 0.05, na.rm = TRUE)))"
      ],
      "execution_count": 59,
      "outputs": [
        {
          "output_type": "stream",
          "name": "stderr",
          "text": [
            "The number of peaks that are nucleosome occupied and significant in Day 0 and nucleosome occupied in Day 1 NOMe-seq: 576\n",
            "\n"
          ]
        }
      ]
    },
    {
      "cell_type": "markdown",
      "metadata": {
        "id": "zi1V1ZhoPMmq"
      },
      "source": [
        "# Splitting the 5320 peaks into 2 groups Nucleosome occupied regions and Nucleosome depleted regions"
      ]
    },
    {
      "cell_type": "code",
      "metadata": {
        "id": "mE1BuYbonN86"
      },
      "source": [
        "dat_xx <- data.frame(xx)"
      ],
      "execution_count": 60,
      "outputs": []
    },
    {
      "cell_type": "code",
      "metadata": {
        "id": "RDqQcoHLnX8A"
      },
      "source": [
        "dat_xx$sp <- ifelse(xx[, 1] < 0.05 & xx[, 2] > 0.05, 'NDR', 'NOR')"
      ],
      "execution_count": 61,
      "outputs": []
    },
    {
      "cell_type": "code",
      "metadata": {
        "id": "Egct2rAMns4I"
      },
      "source": [
        "clus <- dat_xx$sp[p_D0] #NOR and NDR groups used for the enriched heatmap"
      ],
      "execution_count": 62,
      "outputs": []
    },
    {
      "cell_type": "code",
      "metadata": {
        "id": "3kK2X1jdowIi"
      },
      "source": [
        "clus <- factor(clus)"
      ],
      "execution_count": 63,
      "outputs": []
    },
    {
      "cell_type": "code",
      "metadata": {
        "id": "lOZXo63oZtRs"
      },
      "source": [
        "sig_d0 <- which(xx[, 1] < 0.05 & xx[, 2] > 0.05)"
      ],
      "execution_count": 64,
      "outputs": []
    },
    {
      "cell_type": "markdown",
      "metadata": {
        "id": "phdlLCr4P0H6"
      },
      "source": [
        "# Enriched Heatmap"
      ]
    },
    {
      "cell_type": "markdown",
      "metadata": {
        "id": "AzzX0YsuPzEB"
      },
      "source": [
        "# Color annotation"
      ]
    },
    {
      "cell_type": "code",
      "metadata": {
        "id": "GfHsjtoPn4HQ"
      },
      "source": [
        "col_fun_d0 <- colorRamp2(quantile(mat_sig_d0, c(0.01, 0.99)), c('white', 'brown'))\n",
        "col_fun_d1 <- colorRamp2(quantile(mat_sig_d1, c(0.01, 0.99)), c('white', 'brown'))\n",
        "col_fun_mn <- colorRamp2(quantile(mat_sig_mnase, c(0.01, 0.99)), c('white', 'navyblue'))\n",
        "col_fun_etv2 <- colorRamp2(quantile(mat_sig_etv2, c(0.01, 0.99)), c('white', 'red'))"
      ],
      "execution_count": 65,
      "outputs": []
    },
    {
      "cell_type": "markdown",
      "metadata": {
        "id": "aoVFCyd0P9fI"
      },
      "source": [
        "## Top annotation for the line plot"
      ]
    },
    {
      "cell_type": "code",
      "metadata": {
        "id": "2KA8w7CEoB6s"
      },
      "source": [
        "ta <- HeatmapAnnotation(\n",
        "  enriched = anno_enriched(gp = gpar(lty = 1, lwd = 2, col = 1:nlevels(clus))\n",
        "  #axis_param = list(facing = 'inside', at = -1000)\n",
        "#ylim = c(-0.5,2)\n",
        "  )\n",
        ")"
      ],
      "execution_count": 66,
      "outputs": []
    },
    {
      "cell_type": "code",
      "metadata": {
        "colab": {
          "base_uri": "https://localhost:8080/",
          "height": 1000
        },
        "id": "cUFn-9HZoHqz",
        "outputId": "d49b157c-1c25-49fe-8762-0d3932634bbd"
      },
      "source": [
        "h <-  EnrichedHeatmap(mat_sig_mnase, col = col_fun_mn, name = 'MNase', top_annotation = ta, pos_line = FALSE) +\n",
        "      EnrichedHeatmap(mat_sig_d0, col = col_fun_d0, name = 'D0_NOMe', top_annotation = ta, pos_line = FALSE) +\n",
        "      EnrichedHeatmap(mat_sig_d1, col = col_fun_d1, name = 'D1_NOMe', top_annotation = ta, pos_line = FALSE) +\n",
        "      EnrichedHeatmap(mat_sig_etv2, col = col_fun_etv2, name = 'D1_Etv2', top_annotation = ta, pos_line = FALSE) \n",
        "\n",
        "\n",
        "options(repr.plot.width = 5, repr.plot.height = 5)\n",
        "draw(h, heatmap_legend_side = 'bottom', split = clus )"
      ],
      "execution_count": 67,
      "outputs": [
        {
          "output_type": "stream",
          "name": "stderr",
          "text": [
            "`use_raster` is automatically set to TRUE for a matrix with more than\n",
            "2000 rows. You can control `use_raster` argument by explicitly setting\n",
            "TRUE/FALSE to it.\n",
            "\n",
            "Set `ht_opt$message = FALSE` to turn off this message.\n",
            "\n",
            "'magick' package is suggested to install to give better rasterization.\n",
            "\n",
            "Set `ht_opt$message = FALSE` to turn off this message.\n",
            "\n",
            "`use_raster` is automatically set to TRUE for a matrix with more than\n",
            "2000 rows. You can control `use_raster` argument by explicitly setting\n",
            "TRUE/FALSE to it.\n",
            "\n",
            "Set `ht_opt$message = FALSE` to turn off this message.\n",
            "\n",
            "'magick' package is suggested to install to give better rasterization.\n",
            "\n",
            "Set `ht_opt$message = FALSE` to turn off this message.\n",
            "\n",
            "`use_raster` is automatically set to TRUE for a matrix with more than\n",
            "2000 rows. You can control `use_raster` argument by explicitly setting\n",
            "TRUE/FALSE to it.\n",
            "\n",
            "Set `ht_opt$message = FALSE` to turn off this message.\n",
            "\n",
            "'magick' package is suggested to install to give better rasterization.\n",
            "\n",
            "Set `ht_opt$message = FALSE` to turn off this message.\n",
            "\n",
            "`use_raster` is automatically set to TRUE for a matrix with more than\n",
            "2000 rows. You can control `use_raster` argument by explicitly setting\n",
            "TRUE/FALSE to it.\n",
            "\n",
            "Set `ht_opt$message = FALSE` to turn off this message.\n",
            "\n",
            "'magick' package is suggested to install to give better rasterization.\n",
            "\n",
            "Set `ht_opt$message = FALSE` to turn off this message.\n",
            "\n"
          ]
        },
        {
          "output_type": "display_data",
          "data": {
            "image/png": "[encoded data removed]",
            "text/plain": [
              "plot without title"
            ]
          },
          "metadata": {
            "image/png": {
              "width": 300,
              "height": 300
            }
          }
        }
      ]
    },
    {
      "cell_type": "code",
      "metadata": {
        "id": "DLYh9wPhxed2",
        "colab": {
          "base_uri": "https://localhost:8080/",
          "height": 1000
        },
        "outputId": "150f1281-e28e-4696-bbe1-64fb712ce540"
      },
      "source": [
        "sessionInfo()"
      ],
      "execution_count": 68,
      "outputs": [
        {
          "output_type": "display_data",
          "data": {
            "text/plain": [
              "R version 4.1.2 (2021-11-01)\n",
              "Platform: x86_64-pc-linux-gnu (64-bit)\n",
              "Running under: Ubuntu 18.04.5 LTS\n",
              "\n",
              "Matrix products: default\n",
              "BLAS:   /usr/lib/x86_64-linux-gnu/openblas/libblas.so.3\n",
              "LAPACK: /usr/lib/x86_64-linux-gnu/libopenblasp-r0.2.20.so\n",
              "\n",
              "locale:\n",
              " [1] LC_CTYPE=en_US.UTF-8       LC_NUMERIC=C              \n",
              " [3] LC_TIME=en_US.UTF-8        LC_COLLATE=en_US.UTF-8    \n",
              " [5] LC_MONETARY=en_US.UTF-8    LC_MESSAGES=en_US.UTF-8   \n",
              " [7] LC_PAPER=en_US.UTF-8       LC_NAME=C                 \n",
              " [9] LC_ADDRESS=C               LC_TELEPHONE=C            \n",
              "[11] LC_MEASUREMENT=en_US.UTF-8 LC_IDENTIFICATION=C       \n",
              "\n",
              "attached base packages:\n",
              "[1] grid      stats4    stats     graphics  grDevices utils     datasets \n",
              "[8] methods   base     \n",
              "\n",
              "other attached packages:\n",
              " [1] devtools_2.4.2                     usethis_2.1.3                     \n",
              " [3] circlize_0.4.13                    EnrichedHeatmap_1.24.0            \n",
              " [5] ComplexHeatmap_2.10.0              ggplot2_3.3.5                     \n",
              " [7] SummarizedExperiment_1.24.0        Biobase_2.54.0                    \n",
              " [9] MatrixGenerics_1.6.0               matrixStats_0.61.0                \n",
              "[11] BSgenome.Mmusculus.UCSC.mm10_1.4.3 BSgenome_1.62.0                   \n",
              "[13] rtracklayer_1.54.0                 Biostrings_2.62.0                 \n",
              "[15] XVector_0.34.0                     dplyr_1.0.7                       \n",
              "[17] GenomicRanges_1.46.1               GenomeInfoDb_1.30.0               \n",
              "[19] IRanges_2.28.0                     S4Vectors_0.32.3                  \n",
              "[21] BiocGenerics_0.40.0               \n",
              "\n",
              "loaded via a namespace (and not attached):\n",
              " [1] bitops_1.0-7             fs_1.5.0                 doParallel_1.0.16       \n",
              " [4] RColorBrewer_1.1-2       rprojroot_2.0.2          repr_1.1.3              \n",
              " [7] tools_4.1.2              utf8_1.2.2               R6_2.5.1                \n",
              "[10] DBI_1.1.1                colorspace_2.0-2         GetoptLong_1.0.5        \n",
              "[13] withr_2.4.2              tidyselect_1.1.1         prettyunits_1.1.1       \n",
              "[16] processx_3.5.2           compiler_4.1.2           cli_3.1.0               \n",
              "[19] desc_1.4.0               DelayedArray_0.20.0      scales_1.1.1            \n",
              "[22] callr_3.7.0              pbdZMQ_0.3-6             digest_0.6.28           \n",
              "[25] Rsamtools_2.10.0         base64enc_0.1-3          pkgconfig_2.0.3         \n",
              "[28] htmltools_0.5.2          sessioninfo_1.2.1        fastmap_1.1.0           \n",
              "[31] rlang_0.4.12             GlobalOptions_0.1.2      shape_1.4.6             \n",
              "[34] BiocIO_1.4.0             generics_0.1.1           jsonlite_1.7.2          \n",
              "[37] BiocParallel_1.28.2      RCurl_1.98-1.5           magrittr_2.0.1          \n",
              "[40] GenomeInfoDbData_1.2.7   Matrix_1.3-4             Rcpp_1.0.7              \n",
              "[43] IRkernel_1.2             munsell_0.5.0            fansi_0.5.0             \n",
              "[46] lifecycle_1.0.1          yaml_2.2.1               zlibbioc_1.40.0         \n",
              "[49] pkgbuild_1.2.0           parallel_4.1.2           crayon_1.4.2            \n",
              "[52] lattice_0.20-45          IRdisplay_1.0            locfit_1.5-9.4          \n",
              "[55] ps_1.6.0                 pillar_1.6.4             uuid_1.0-3              \n",
              "[58] rjson_0.2.20             codetools_0.2-18         pkgload_1.2.3           \n",
              "[61] XML_3.99-0.8             glue_1.5.0               evaluate_0.14           \n",
              "[64] remotes_2.4.1            BiocManager_1.30.16      png_0.1-7               \n",
              "[67] vctrs_0.3.8              foreach_1.5.1            testthat_3.1.0          \n",
              "[70] gtable_0.3.0             purrr_0.3.4              clue_0.3-60             \n",
              "[73] assertthat_0.2.1         cachem_1.0.6             restfulr_0.0.13         \n",
              "[76] tibble_3.1.6             iterators_1.0.13         GenomicAlignments_1.30.0\n",
              "[79] memoise_2.0.0            cluster_2.1.2            ellipsis_0.3.2          "
            ]
          },
          "metadata": {}
        }
      ]
    },
    {
      "cell_type": "code",
      "metadata": {
        "id": "t8JLxMUeybHs",
        "colab": {
          "base_uri": "https://localhost:8080/",
          "height": 35
        },
        "outputId": "c42ea07b-0860-4caa-ff14-a7a5f18d4a26"
      },
      "source": [
        "Sys.time() - start_time0"
      ],
      "execution_count": 69,
      "outputs": [
        {
          "output_type": "display_data",
          "data": {
            "text/plain": [
              "Time difference of 37.54176 mins"
            ]
          },
          "metadata": {}
        }
      ]
    }
  ]
}