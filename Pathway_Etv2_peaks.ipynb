{
  "nbformat": 4,
  "nbformat_minor": 0,
  "metadata": {
    "kernelspec": {
      "display_name": "R",
      "language": "R",
      "name": "ir"
    },
    "language_info": {
      "codemirror_mode": "r",
      "file_extension": ".r",
      "mimetype": "text/x-r-source",
      "name": "R",
      "pygments_lexer": "r",
      "version": "3.3.1"
    },
    "colab": {
      "name": "Pathway_Etv2_peaks.ipynb",
      "provenance": [],
      "collapsed_sections": [],
      "toc_visible": true,
      "machine_shape": "hm",
      "include_colab_link": true
    }
  },
  "cells": [
    {
      "cell_type": "markdown",
      "metadata": {
        "id": "view-in-github",
        "colab_type": "text"
      },
      "source": [
        "<a href=\"https://colab.research.google.com/github/gongx030/etv2_pioneer/blob/master/Pathway_Etv2_peaks.ipynb\" target=\"_parent\"><img src=\"https://colab.research.google.com/assets/colab-badge.svg\" alt=\"Open In Colab\"/></a>"
      ]
    },
    {
      "cell_type": "markdown",
      "metadata": {
        "id": "4TLq2MbDD3zq"
      },
      "source": [
        "# Pathway analysis of late, early and sustained Etv2 peaks\n",
        "by Wuming Gong\n",
        "\n"
      ]
    },
    {
      "cell_type": "code",
      "metadata": {
        "id": "6OhqEEeZHroa"
      },
      "source": [
        "start_time0 <- Sys.time()"
      ],
      "execution_count": 40,
      "outputs": []
    },
    {
      "cell_type": "markdown",
      "metadata": {
        "id": "wFuTF2MUEiAk"
      },
      "source": [
        "## Install R packages"
      ]
    },
    {
      "cell_type": "code",
      "metadata": {
        "id": "8EZ8Zm7zagc0",
        "outputId": "d488bbbf-9e75-4771-ea68-d95c39852054",
        "colab": {
          "base_uri": "https://localhost:8080/"
        }
      },
      "source": [
        "if (!requireNamespace(\"BiocManager\", quietly = TRUE))\n",
        "  install.packages(\"BiocManager\")\n",
        "BiocManager::install(c(\n",
        "  'GenomicRanges', 'rtracklayer', 'EnrichedHeatmap', 'BSgenome.Mmusculus.UCSC.mm10',\n",
        "  'circlize', 'ChIPseeker', 'TxDb.Mmusculus.UCSC.mm10.knownGene', 'org.Mm.eg.db',\n",
        "  'GO.db'\n",
        "), Ncpus = 2)"
      ],
      "execution_count": 41,
      "outputs": [
        {
          "output_type": "stream",
          "text": [
            "Bioconductor version 3.11 (BiocManager 1.30.10), R 4.0.2 (2020-06-22)\n",
            "\n",
            "Installing package(s) 'GenomicRanges', 'rtracklayer', 'EnrichedHeatmap',\n",
            "  'BSgenome.Mmusculus.UCSC.mm10', 'circlize', 'ChIPseeker',\n",
            "  'TxDb.Mmusculus.UCSC.mm10.knownGene', 'org.Mm.eg.db', 'GO.db'\n",
            "\n",
            "Old packages: 'htmlwidgets', 'ps', 'readr', 'foreign'\n",
            "\n"
          ],
          "name": "stderr"
        }
      ]
    },
    {
      "cell_type": "code",
      "metadata": {
        "id": "nQFQk04TzjFj"
      },
      "source": [
        "library(GenomicRanges)\n",
        "library(circlize)\n",
        "#library(VennDiagram)\n",
        "library(dplyr)\n",
        "#library(grid)\n",
        "library(BSgenome.Mmusculus.UCSC.mm10)\n",
        "library(ChIPseeker)\n",
        "library(TxDb.Mmusculus.UCSC.mm10.knownGene)\n",
        "library(org.Mm.eg.db)\n",
        "library(GO.db)\n",
        "library(EnrichedHeatmap)\n",
        "library(rtracklayer)"
      ],
      "execution_count": 42,
      "outputs": []
    },
    {
      "cell_type": "markdown",
      "metadata": {
        "id": "PyJoh9bxbC1C"
      },
      "source": [
        "## Read a combined Etv2 ChIP-seq peak set"
      ]
    },
    {
      "cell_type": "code",
      "metadata": {
        "id": "ojuU1ngisM0z",
        "outputId": "e4b36119-39f9-49b0-a0af-673981105496",
        "colab": {
          "base_uri": "https://localhost:8080/",
          "height": 748
        }
      },
      "source": [
        "all_etv2_peaks_url <- 'https://s3.msi.umn.edu/gongx030/datasets/dataset=Etv2PioneerChIPseq_version=20191203a/all_Etv2_peaks.rds'\n",
        "gr <- readRDS(gzcon(url(all_etv2_peaks_url)))\n",
        "gr\n",
        "colnames(gr$group)"
      ],
      "execution_count": 43,
      "outputs": [
        {
          "output_type": "display_data",
          "data": {
            "text/plain": [
              "GRanges object with 162010 ranges and 4 metadata columns:\n",
              "           seqnames            ranges strand |\n",
              "              <Rle>         <IRanges>  <Rle> |\n",
              "       [1]     chr1   3037784-3037983      * |\n",
              "       [2]     chr1   3263790-3263989      * |\n",
              "       [3]     chr1   3344682-3344881      * |\n",
              "       [4]     chr1   3460640-3460839      * |\n",
              "       [5]     chr1   3490314-3490513      * |\n",
              "       ...      ...               ...    ... .\n",
              "  [162006]     chrY 90828936-90829135      * |\n",
              "  [162007]     chrY 90836259-90836458      * |\n",
              "  [162008]     chrY 90841624-90841823      * |\n",
              "  [162009]     chrY 90842563-90842762      * |\n",
              "  [162010]     chrY 90843810-90844009      * |\n",
              "                                                                                                                 peak_id\n",
              "                                                                                                             <character>\n",
              "       [1]      /panfs/roc/scratch/gongx030/datasets/dataset=Etv2PioneerChIPseq_version=20191203a/MEF_Dox_d2_Etv2_peak_1\n",
              "       [2]       /panfs/roc/scratch/gongx030/datasets/dataset=Etv2PioneerChIPseq_version=20191203a/EB_Dox_3h_Etv2_peak_1\n",
              "       [3]      /panfs/roc/scratch/gongx030/datasets/dataset=Etv2PioneerChIPseq_version=20191203a/MEF_Dox_d2_Etv2_peak_2\n",
              "       [4]      /panfs/roc/scratch/gongx030/datasets/dataset=Etv2PioneerChIPseq_version=20191203a/MEF_Dox_d2_Etv2_peak_3\n",
              "       [5]      /panfs/roc/scratch/gongx030/datasets/dataset=Etv2PioneerChIPseq_version=20191203a/MEF_Dox_d2_Etv2_peak_4\n",
              "       ...                                                                                                           ...\n",
              "  [162006] /panfs/roc/scratch/gongx030/datasets/dataset=Etv2PioneerChIPseq_version=20191203a/MEF_Dox_d2_Etv2_peak_61360b\n",
              "  [162007]  /panfs/roc/scratch/gongx030/datasets/dataset=Etv2PioneerChIPseq_version=20191203a/MEF_Dox_d7_Etv2_peak_16842\n",
              "  [162008] /panfs/roc/scratch/gongx030/datasets/dataset=Etv2PioneerChIPseq_version=20191203a/MEF_Dox_d1_Etv2_peak_114014\n",
              "  [162009] /panfs/roc/scratch/gongx030/datasets/dataset=Etv2PioneerChIPseq_version=20191203a/MEF_Dox_d1_Etv2_peak_114015\n",
              "  [162010] /panfs/roc/scratch/gongx030/datasets/dataset=Etv2PioneerChIPseq_version=20191203a/MEF_Dox_d1_Etv2_peak_114016\n",
              "               score          source                 group\n",
              "           <numeric>     <character>              <matrix>\n",
              "       [1]  16.22768 MEF_Dox_d2_Etv2   TRUE:TRUE:FALSE:...\n",
              "       [2]   8.36521  EB_Dox_3h_Etv2 FALSE:FALSE:FALSE:...\n",
              "       [3]   9.73217 MEF_Dox_d2_Etv2  FALSE:TRUE:FALSE:...\n",
              "       [4]   3.92081 MEF_Dox_d2_Etv2  FALSE:TRUE:FALSE:...\n",
              "       [5]  12.29730 MEF_Dox_d2_Etv2   TRUE:TRUE:FALSE:...\n",
              "       ...       ...             ...                   ...\n",
              "  [162006] 160.15463 MEF_Dox_d2_Etv2    TRUE:TRUE:TRUE:...\n",
              "  [162007]   8.27339 MEF_Dox_d7_Etv2  FALSE:FALSE:TRUE:...\n",
              "  [162008]   1.53792 MEF_Dox_d1_Etv2  TRUE:FALSE:FALSE:...\n",
              "  [162009]  11.78216 MEF_Dox_d1_Etv2  TRUE:FALSE:FALSE:...\n",
              "  [162010]   5.92807 MEF_Dox_d1_Etv2  TRUE:FALSE:FALSE:...\n",
              "  -------\n",
              "  seqinfo: 21 sequences from an unspecified genome; no seqlengths"
            ]
          },
          "metadata": {
            "tags": []
          }
        },
        {
          "output_type": "display_data",
          "data": {
            "text/plain": [
              "[1] \"MEF_Dox_d1_Etv2\" \"MEF_Dox_d2_Etv2\" \"MEF_Dox_d7_Etv2\" \"EB_Dox_3h_Etv2\" \n",
              "[5] \"EB_Dox_12h_Etv2\""
            ],
            "text/latex": "\\begin{enumerate*}\n\\item 'MEF\\_Dox\\_d1\\_Etv2'\n\\item 'MEF\\_Dox\\_d2\\_Etv2'\n\\item 'MEF\\_Dox\\_d7\\_Etv2'\n\\item 'EB\\_Dox\\_3h\\_Etv2'\n\\item 'EB\\_Dox\\_12h\\_Etv2'\n\\end{enumerate*}\n",
            "text/markdown": "1. 'MEF_Dox_d1_Etv2'\n2. 'MEF_Dox_d2_Etv2'\n3. 'MEF_Dox_d7_Etv2'\n4. 'EB_Dox_3h_Etv2'\n5. 'EB_Dox_12h_Etv2'\n\n\n",
            "text/html": [
              "<style>\n",
              ".list-inline {list-style: none; margin:0; padding: 0}\n",
              ".list-inline>li {display: inline-block}\n",
              ".list-inline>li:not(:last-child)::after {content: \"\\00b7\"; padding: 0 .5ex}\n",
              "</style>\n",
              "<ol class=list-inline><li>'MEF_Dox_d1_Etv2'</li><li>'MEF_Dox_d2_Etv2'</li><li>'MEF_Dox_d7_Etv2'</li><li>'EB_Dox_3h_Etv2'</li><li>'EB_Dox_12h_Etv2'</li></ol>\n"
            ]
          },
          "metadata": {
            "tags": []
          }
        }
      ]
    },
    {
      "cell_type": "markdown",
      "metadata": {
        "id": "gUDmdrSN2BEq"
      },
      "source": [
        "## Examine the endothelial and neural genes near the late/early/sustained Etv2 peaks in both EB and MEF"
      ]
    },
    {
      "cell_type": "code",
      "metadata": {
        "id": "UOvRc4WL4m2X",
        "outputId": "05caa4c5-9a56-4bb2-d89e-5c5a96dd07ed",
        "colab": {
          "base_uri": "https://localhost:8080/"
        }
      },
      "source": [
        "anno <- annotatePeak(\n",
        "  gr, tssRegion = c(-5000, 1000), \n",
        "  TxDb = TxDb.Mmusculus.UCSC.mm10.knownGene, \n",
        "  annoDb = 'org.Mm.eg.db'\n",
        ")"
      ],
      "execution_count": 44,
      "outputs": [
        {
          "output_type": "stream",
          "text": [
            ">> preparing features information...\t\t 2020-10-07 10:06:00 PM \n",
            ">> identifying nearest features...\t\t 2020-10-07 10:06:00 PM \n",
            ">> calculating distance from peak to TSS...\t 2020-10-07 10:06:04 PM \n",
            ">> assigning genomic annotation...\t\t 2020-10-07 10:06:04 PM \n",
            ">> adding gene annotation...\t\t\t 2020-10-07 10:06:10 PM \n"
          ],
          "name": "stdout"
        },
        {
          "output_type": "stream",
          "text": [
            "'select()' returned 1:many mapping between keys and columns\n",
            "\n"
          ],
          "name": "stderr"
        },
        {
          "output_type": "stream",
          "text": [
            ">> assigning chromosome lengths\t\t\t 2020-10-07 10:06:11 PM \n",
            ">> done...\t\t\t\t\t 2020-10-07 10:06:11 PM \n"
          ],
          "name": "stdout"
        }
      ]
    },
    {
      "cell_type": "code",
      "metadata": {
        "id": "vOO5c7UuAYQZ"
      },
      "source": [
        "anno <- as.data.frame(anno)"
      ],
      "execution_count": 45,
      "outputs": []
    },
    {
      "cell_type": "code",
      "metadata": {
        "id": "KHtmhCNlAeVB",
        "outputId": "fa07f21f-9cfa-4ed7-8e3e-4c025c601fd2",
        "colab": {
          "base_uri": "https://localhost:8080/",
          "height": 428
        }
      },
      "source": [
        "head(anno)"
      ],
      "execution_count": 46,
      "outputs": [
        {
          "output_type": "display_data",
          "data": {
            "text/plain": [
              "  seqnames start   end     width strand\n",
              "1 chr1     3037784 3037983 200   *     \n",
              "2 chr1     3263790 3263989 200   *     \n",
              "3 chr1     3344682 3344881 200   *     \n",
              "4 chr1     3460640 3460839 200   *     \n",
              "5 chr1     3490314 3490513 200   *     \n",
              "6 chr1     3499647 3499846 200   *     \n",
              "  peak_id                                                                                                 \n",
              "1 /panfs/roc/scratch/gongx030/datasets/dataset=Etv2PioneerChIPseq_version=20191203a/MEF_Dox_d2_Etv2_peak_1\n",
              "2 /panfs/roc/scratch/gongx030/datasets/dataset=Etv2PioneerChIPseq_version=20191203a/EB_Dox_3h_Etv2_peak_1 \n",
              "3 /panfs/roc/scratch/gongx030/datasets/dataset=Etv2PioneerChIPseq_version=20191203a/MEF_Dox_d2_Etv2_peak_2\n",
              "4 /panfs/roc/scratch/gongx030/datasets/dataset=Etv2PioneerChIPseq_version=20191203a/MEF_Dox_d2_Etv2_peak_3\n",
              "5 /panfs/roc/scratch/gongx030/datasets/dataset=Etv2PioneerChIPseq_version=20191203a/MEF_Dox_d2_Etv2_peak_4\n",
              "6 /panfs/roc/scratch/gongx030/datasets/dataset=Etv2PioneerChIPseq_version=20191203a/MEF_Dox_d2_Etv2_peak_5\n",
              "  score    source          group.MEF_Dox_d1_Etv2 group.MEF_Dox_d2_Etv2 ⋯\n",
              "1 16.22768 MEF_Dox_d2_Etv2  TRUE                  TRUE                 ⋯\n",
              "2  8.36521 EB_Dox_3h_Etv2  FALSE                 FALSE                 ⋯\n",
              "3  9.73217 MEF_Dox_d2_Etv2 FALSE                  TRUE                 ⋯\n",
              "4  3.92081 MEF_Dox_d2_Etv2 FALSE                  TRUE                 ⋯\n",
              "5 12.29730 MEF_Dox_d2_Etv2  TRUE                  TRUE                 ⋯\n",
              "6  1.48802 MEF_Dox_d2_Etv2 FALSE                  TRUE                 ⋯\n",
              "  geneStart geneEnd geneLength geneStrand geneId transcriptId        \n",
              "1 3214482   3671498 457017     2          497097 ENSMUST00000070533.4\n",
              "2 3214482   3671498 457017     2          497097 ENSMUST00000070533.4\n",
              "3 3214482   3671498 457017     2          497097 ENSMUST00000070533.4\n",
              "4 3214482   3671498 457017     2          497097 ENSMUST00000070533.4\n",
              "5 3214482   3671498 457017     2          497097 ENSMUST00000070533.4\n",
              "6 3214482   3671498 457017     2          497097 ENSMUST00000070533.4\n",
              "  distanceToTSS ENSEMBL            SYMBOL GENENAME                         \n",
              "1 633515        ENSMUSG00000051951 Xkr4   X-linked Kx blood group related 4\n",
              "2 407509        ENSMUSG00000051951 Xkr4   X-linked Kx blood group related 4\n",
              "3 326617        ENSMUSG00000051951 Xkr4   X-linked Kx blood group related 4\n",
              "4 210659        ENSMUSG00000051951 Xkr4   X-linked Kx blood group related 4\n",
              "5 180985        ENSMUSG00000051951 Xkr4   X-linked Kx blood group related 4\n",
              "6 171652        ENSMUSG00000051951 Xkr4   X-linked Kx blood group related 4"
            ],
            "text/latex": "A data.frame: 6 × 25\n\\begin{tabular}{r|lllllllllllllllllllll}\n  & seqnames & start & end & width & strand & peak\\_id & score & source & group.MEF\\_Dox\\_d1\\_Etv2 & group.MEF\\_Dox\\_d2\\_Etv2 & ⋯ & geneStart & geneEnd & geneLength & geneStrand & geneId & transcriptId & distanceToTSS & ENSEMBL & SYMBOL & GENENAME\\\\\n  & <fct> & <int> & <int> & <int> & <fct> & <chr> & <dbl> & <chr> & <lgl> & <lgl> & ⋯ & <int> & <int> & <int> & <int> & <chr> & <chr> & <dbl> & <chr> & <chr> & <chr>\\\\\n\\hline\n\t1 & chr1 & 3037784 & 3037983 & 200 & * & /panfs/roc/scratch/gongx030/datasets/dataset=Etv2PioneerChIPseq\\_version=20191203a/MEF\\_Dox\\_d2\\_Etv2\\_peak\\_1 & 16.22768 & MEF\\_Dox\\_d2\\_Etv2 &  TRUE &  TRUE & ⋯ & 3214482 & 3671498 & 457017 & 2 & 497097 & ENSMUST00000070533.4 & 633515 & ENSMUSG00000051951 & Xkr4 & X-linked Kx blood group related 4\\\\\n\t2 & chr1 & 3263790 & 3263989 & 200 & * & /panfs/roc/scratch/gongx030/datasets/dataset=Etv2PioneerChIPseq\\_version=20191203a/EB\\_Dox\\_3h\\_Etv2\\_peak\\_1  &  8.36521 & EB\\_Dox\\_3h\\_Etv2  & FALSE & FALSE & ⋯ & 3214482 & 3671498 & 457017 & 2 & 497097 & ENSMUST00000070533.4 & 407509 & ENSMUSG00000051951 & Xkr4 & X-linked Kx blood group related 4\\\\\n\t3 & chr1 & 3344682 & 3344881 & 200 & * & /panfs/roc/scratch/gongx030/datasets/dataset=Etv2PioneerChIPseq\\_version=20191203a/MEF\\_Dox\\_d2\\_Etv2\\_peak\\_2 &  9.73217 & MEF\\_Dox\\_d2\\_Etv2 & FALSE &  TRUE & ⋯ & 3214482 & 3671498 & 457017 & 2 & 497097 & ENSMUST00000070533.4 & 326617 & ENSMUSG00000051951 & Xkr4 & X-linked Kx blood group related 4\\\\\n\t4 & chr1 & 3460640 & 3460839 & 200 & * & /panfs/roc/scratch/gongx030/datasets/dataset=Etv2PioneerChIPseq\\_version=20191203a/MEF\\_Dox\\_d2\\_Etv2\\_peak\\_3 &  3.92081 & MEF\\_Dox\\_d2\\_Etv2 & FALSE &  TRUE & ⋯ & 3214482 & 3671498 & 457017 & 2 & 497097 & ENSMUST00000070533.4 & 210659 & ENSMUSG00000051951 & Xkr4 & X-linked Kx blood group related 4\\\\\n\t5 & chr1 & 3490314 & 3490513 & 200 & * & /panfs/roc/scratch/gongx030/datasets/dataset=Etv2PioneerChIPseq\\_version=20191203a/MEF\\_Dox\\_d2\\_Etv2\\_peak\\_4 & 12.29730 & MEF\\_Dox\\_d2\\_Etv2 &  TRUE &  TRUE & ⋯ & 3214482 & 3671498 & 457017 & 2 & 497097 & ENSMUST00000070533.4 & 180985 & ENSMUSG00000051951 & Xkr4 & X-linked Kx blood group related 4\\\\\n\t6 & chr1 & 3499647 & 3499846 & 200 & * & /panfs/roc/scratch/gongx030/datasets/dataset=Etv2PioneerChIPseq\\_version=20191203a/MEF\\_Dox\\_d2\\_Etv2\\_peak\\_5 &  1.48802 & MEF\\_Dox\\_d2\\_Etv2 & FALSE &  TRUE & ⋯ & 3214482 & 3671498 & 457017 & 2 & 497097 & ENSMUST00000070533.4 & 171652 & ENSMUSG00000051951 & Xkr4 & X-linked Kx blood group related 4\\\\\n\\end{tabular}\n",
            "text/markdown": "\nA data.frame: 6 × 25\n\n| <!--/--> | seqnames &lt;fct&gt; | start &lt;int&gt; | end &lt;int&gt; | width &lt;int&gt; | strand &lt;fct&gt; | peak_id &lt;chr&gt; | score &lt;dbl&gt; | source &lt;chr&gt; | group.MEF_Dox_d1_Etv2 &lt;lgl&gt; | group.MEF_Dox_d2_Etv2 &lt;lgl&gt; | ⋯ ⋯ | geneStart &lt;int&gt; | geneEnd &lt;int&gt; | geneLength &lt;int&gt; | geneStrand &lt;int&gt; | geneId &lt;chr&gt; | transcriptId &lt;chr&gt; | distanceToTSS &lt;dbl&gt; | ENSEMBL &lt;chr&gt; | SYMBOL &lt;chr&gt; | GENENAME &lt;chr&gt; |\n|---|---|---|---|---|---|---|---|---|---|---|---|---|---|---|---|---|---|---|---|---|---|\n| 1 | chr1 | 3037784 | 3037983 | 200 | * | /panfs/roc/scratch/gongx030/datasets/dataset=Etv2PioneerChIPseq_version=20191203a/MEF_Dox_d2_Etv2_peak_1 | 16.22768 | MEF_Dox_d2_Etv2 |  TRUE |  TRUE | ⋯ | 3214482 | 3671498 | 457017 | 2 | 497097 | ENSMUST00000070533.4 | 633515 | ENSMUSG00000051951 | Xkr4 | X-linked Kx blood group related 4 |\n| 2 | chr1 | 3263790 | 3263989 | 200 | * | /panfs/roc/scratch/gongx030/datasets/dataset=Etv2PioneerChIPseq_version=20191203a/EB_Dox_3h_Etv2_peak_1  |  8.36521 | EB_Dox_3h_Etv2  | FALSE | FALSE | ⋯ | 3214482 | 3671498 | 457017 | 2 | 497097 | ENSMUST00000070533.4 | 407509 | ENSMUSG00000051951 | Xkr4 | X-linked Kx blood group related 4 |\n| 3 | chr1 | 3344682 | 3344881 | 200 | * | /panfs/roc/scratch/gongx030/datasets/dataset=Etv2PioneerChIPseq_version=20191203a/MEF_Dox_d2_Etv2_peak_2 |  9.73217 | MEF_Dox_d2_Etv2 | FALSE |  TRUE | ⋯ | 3214482 | 3671498 | 457017 | 2 | 497097 | ENSMUST00000070533.4 | 326617 | ENSMUSG00000051951 | Xkr4 | X-linked Kx blood group related 4 |\n| 4 | chr1 | 3460640 | 3460839 | 200 | * | /panfs/roc/scratch/gongx030/datasets/dataset=Etv2PioneerChIPseq_version=20191203a/MEF_Dox_d2_Etv2_peak_3 |  3.92081 | MEF_Dox_d2_Etv2 | FALSE |  TRUE | ⋯ | 3214482 | 3671498 | 457017 | 2 | 497097 | ENSMUST00000070533.4 | 210659 | ENSMUSG00000051951 | Xkr4 | X-linked Kx blood group related 4 |\n| 5 | chr1 | 3490314 | 3490513 | 200 | * | /panfs/roc/scratch/gongx030/datasets/dataset=Etv2PioneerChIPseq_version=20191203a/MEF_Dox_d2_Etv2_peak_4 | 12.29730 | MEF_Dox_d2_Etv2 |  TRUE |  TRUE | ⋯ | 3214482 | 3671498 | 457017 | 2 | 497097 | ENSMUST00000070533.4 | 180985 | ENSMUSG00000051951 | Xkr4 | X-linked Kx blood group related 4 |\n| 6 | chr1 | 3499647 | 3499846 | 200 | * | /panfs/roc/scratch/gongx030/datasets/dataset=Etv2PioneerChIPseq_version=20191203a/MEF_Dox_d2_Etv2_peak_5 |  1.48802 | MEF_Dox_d2_Etv2 | FALSE |  TRUE | ⋯ | 3214482 | 3671498 | 457017 | 2 | 497097 | ENSMUST00000070533.4 | 171652 | ENSMUSG00000051951 | Xkr4 | X-linked Kx blood group related 4 |\n\n",
            "text/html": [
              "<table>\n",
              "<caption>A data.frame: 6 × 25</caption>\n",
              "<thead>\n",
              "\t<tr><th></th><th scope=col>seqnames</th><th scope=col>start</th><th scope=col>end</th><th scope=col>width</th><th scope=col>strand</th><th scope=col>peak_id</th><th scope=col>score</th><th scope=col>source</th><th scope=col>group.MEF_Dox_d1_Etv2</th><th scope=col>group.MEF_Dox_d2_Etv2</th><th scope=col>⋯</th><th scope=col>geneStart</th><th scope=col>geneEnd</th><th scope=col>geneLength</th><th scope=col>geneStrand</th><th scope=col>geneId</th><th scope=col>transcriptId</th><th scope=col>distanceToTSS</th><th scope=col>ENSEMBL</th><th scope=col>SYMBOL</th><th scope=col>GENENAME</th></tr>\n",
              "\t<tr><th></th><th scope=col>&lt;fct&gt;</th><th scope=col>&lt;int&gt;</th><th scope=col>&lt;int&gt;</th><th scope=col>&lt;int&gt;</th><th scope=col>&lt;fct&gt;</th><th scope=col>&lt;chr&gt;</th><th scope=col>&lt;dbl&gt;</th><th scope=col>&lt;chr&gt;</th><th scope=col>&lt;lgl&gt;</th><th scope=col>&lt;lgl&gt;</th><th scope=col>⋯</th><th scope=col>&lt;int&gt;</th><th scope=col>&lt;int&gt;</th><th scope=col>&lt;int&gt;</th><th scope=col>&lt;int&gt;</th><th scope=col>&lt;chr&gt;</th><th scope=col>&lt;chr&gt;</th><th scope=col>&lt;dbl&gt;</th><th scope=col>&lt;chr&gt;</th><th scope=col>&lt;chr&gt;</th><th scope=col>&lt;chr&gt;</th></tr>\n",
              "</thead>\n",
              "<tbody>\n",
              "\t<tr><th scope=row>1</th><td>chr1</td><td>3037784</td><td>3037983</td><td>200</td><td>*</td><td>/panfs/roc/scratch/gongx030/datasets/dataset=Etv2PioneerChIPseq_version=20191203a/MEF_Dox_d2_Etv2_peak_1</td><td>16.22768</td><td>MEF_Dox_d2_Etv2</td><td> TRUE</td><td> TRUE</td><td>⋯</td><td>3214482</td><td>3671498</td><td>457017</td><td>2</td><td>497097</td><td>ENSMUST00000070533.4</td><td>633515</td><td>ENSMUSG00000051951</td><td>Xkr4</td><td>X-linked Kx blood group related 4</td></tr>\n",
              "\t<tr><th scope=row>2</th><td>chr1</td><td>3263790</td><td>3263989</td><td>200</td><td>*</td><td>/panfs/roc/scratch/gongx030/datasets/dataset=Etv2PioneerChIPseq_version=20191203a/EB_Dox_3h_Etv2_peak_1 </td><td> 8.36521</td><td>EB_Dox_3h_Etv2 </td><td>FALSE</td><td>FALSE</td><td>⋯</td><td>3214482</td><td>3671498</td><td>457017</td><td>2</td><td>497097</td><td>ENSMUST00000070533.4</td><td>407509</td><td>ENSMUSG00000051951</td><td>Xkr4</td><td>X-linked Kx blood group related 4</td></tr>\n",
              "\t<tr><th scope=row>3</th><td>chr1</td><td>3344682</td><td>3344881</td><td>200</td><td>*</td><td>/panfs/roc/scratch/gongx030/datasets/dataset=Etv2PioneerChIPseq_version=20191203a/MEF_Dox_d2_Etv2_peak_2</td><td> 9.73217</td><td>MEF_Dox_d2_Etv2</td><td>FALSE</td><td> TRUE</td><td>⋯</td><td>3214482</td><td>3671498</td><td>457017</td><td>2</td><td>497097</td><td>ENSMUST00000070533.4</td><td>326617</td><td>ENSMUSG00000051951</td><td>Xkr4</td><td>X-linked Kx blood group related 4</td></tr>\n",
              "\t<tr><th scope=row>4</th><td>chr1</td><td>3460640</td><td>3460839</td><td>200</td><td>*</td><td>/panfs/roc/scratch/gongx030/datasets/dataset=Etv2PioneerChIPseq_version=20191203a/MEF_Dox_d2_Etv2_peak_3</td><td> 3.92081</td><td>MEF_Dox_d2_Etv2</td><td>FALSE</td><td> TRUE</td><td>⋯</td><td>3214482</td><td>3671498</td><td>457017</td><td>2</td><td>497097</td><td>ENSMUST00000070533.4</td><td>210659</td><td>ENSMUSG00000051951</td><td>Xkr4</td><td>X-linked Kx blood group related 4</td></tr>\n",
              "\t<tr><th scope=row>5</th><td>chr1</td><td>3490314</td><td>3490513</td><td>200</td><td>*</td><td>/panfs/roc/scratch/gongx030/datasets/dataset=Etv2PioneerChIPseq_version=20191203a/MEF_Dox_d2_Etv2_peak_4</td><td>12.29730</td><td>MEF_Dox_d2_Etv2</td><td> TRUE</td><td> TRUE</td><td>⋯</td><td>3214482</td><td>3671498</td><td>457017</td><td>2</td><td>497097</td><td>ENSMUST00000070533.4</td><td>180985</td><td>ENSMUSG00000051951</td><td>Xkr4</td><td>X-linked Kx blood group related 4</td></tr>\n",
              "\t<tr><th scope=row>6</th><td>chr1</td><td>3499647</td><td>3499846</td><td>200</td><td>*</td><td>/panfs/roc/scratch/gongx030/datasets/dataset=Etv2PioneerChIPseq_version=20191203a/MEF_Dox_d2_Etv2_peak_5</td><td> 1.48802</td><td>MEF_Dox_d2_Etv2</td><td>FALSE</td><td> TRUE</td><td>⋯</td><td>3214482</td><td>3671498</td><td>457017</td><td>2</td><td>497097</td><td>ENSMUST00000070533.4</td><td>171652</td><td>ENSMUSG00000051951</td><td>Xkr4</td><td>X-linked Kx blood group related 4</td></tr>\n",
              "</tbody>\n",
              "</table>\n"
            ]
          },
          "metadata": {
            "tags": []
          }
        }
      ]
    },
    {
      "cell_type": "code",
      "metadata": {
        "id": "rQbAFtigAqeC"
      },
      "source": [
        "groups <- list(\t# six groups of genes \n",
        "\tEB_late = unique(anno$geneId[!anno$group.EB_Dox_3h_Etv2 & anno$group.EB_Dox_12h_Etv2]),\n",
        "\tEB_early = unique(anno$geneId[anno$group.EB_Dox_3h_Etv2 & !anno$group.EB_Dox_12h_Etv2]),\n",
        "\tEB_sustained = unique(anno$geneId[anno$group.EB_Dox_3h_Etv2 & anno$group.EB_Dox_12h_Etv2]),\n",
        "\tMEF_late  = unique(anno$geneId[!anno$group.MEF_Dox_d1_Etv2 & anno$group.MEF_Dox_d7_Etv2]),\n",
        "\tMEF_early  = unique(anno$geneId[anno$group.MEF_Dox_d1_Etv2 & !anno$group.MEF_Dox_d7_Etv2]),\n",
        "\tMEF_sustained = unique(anno$geneId[anno$group.MEF_Dox_d1_Etv2 & anno$group.MEF_Dox_d7_Etv2])\n",
        ")\n",
        "gos <- c(\n",
        "\t'endothelium development' = 'GO:0003158',\n",
        "\t'vasculature development' = 'GO:0001944',\n",
        "\t'nervous system development' = 'GO:0007399',\n",
        "\t'cardiovascular system development' =  'GO:0072358',\n",
        "\t'stem cell population maintenance' = 'GO:0019827',\n",
        "\t'heart development' = 'GO:0007507',\n",
        "\t'blood vessel development' = 'GO:0001568'\n",
        ")"
      ],
      "execution_count": 47,
      "outputs": []
    },
    {
      "cell_type": "code",
      "metadata": {
        "id": "W4mOE17eA0hX"
      },
      "source": [
        "gs <- mget(gos, org.Mm.egGO2ALLEGS)\n",
        "names(gs) <- names(gos)"
      ],
      "execution_count": 48,
      "outputs": []
    },
    {
      "cell_type": "code",
      "metadata": {
        "id": "jp6ra_WtC3F_",
        "outputId": "5d8deefb-e60f-46a5-e2ff-243e2d581945",
        "colab": {
          "base_uri": "https://localhost:8080/",
          "height": 183
        }
      },
      "source": [
        "x <- do.call('rbind', lapply(groups, function(genes) do.call('cbind', lapply(gs, function(go) sum(genes %in% go)))))\n",
        "rownames(x) <- names(groups)\n",
        "x"
      ],
      "execution_count": 49,
      "outputs": [
        {
          "output_type": "display_data",
          "data": {
            "text/plain": [
              "              endothelium development vasculature development\n",
              "EB_late        31                     192                    \n",
              "EB_early       45                     279                    \n",
              "EB_sustained   61                     293                    \n",
              "MEF_late       31                     178                    \n",
              "MEF_early     114                     701                    \n",
              "MEF_sustained  76                     405                    \n",
              "              nervous system development cardiovascular system development\n",
              "EB_late        465                       195                              \n",
              "EB_early       928                       287                              \n",
              "EB_sustained   885                       300                              \n",
              "MEF_late       444                       183                              \n",
              "MEF_early     2164                       714                              \n",
              "MEF_sustained 1058                       412                              \n",
              "              stem cell population maintenance heart development\n",
              "EB_late        25                              163              \n",
              "EB_early       79                              251              \n",
              "EB_sustained   78                              245              \n",
              "MEF_late       23                              147              \n",
              "MEF_early     147                              582              \n",
              "MEF_sustained  91                              333              \n",
              "              blood vessel development\n",
              "EB_late       184                     \n",
              "EB_early      272                     \n",
              "EB_sustained  280                     \n",
              "MEF_late      172                     \n",
              "MEF_early     669                     \n",
              "MEF_sustained 386                     "
            ],
            "text/latex": "A matrix: 6 × 7 of type int\n\\begin{tabular}{r|lllllll}\n  & endothelium development & vasculature development & nervous system development & cardiovascular system development & stem cell population maintenance & heart development & blood vessel development\\\\\n\\hline\n\tEB\\_late &  31 & 192 &  465 & 195 &  25 & 163 & 184\\\\\n\tEB\\_early &  45 & 279 &  928 & 287 &  79 & 251 & 272\\\\\n\tEB\\_sustained &  61 & 293 &  885 & 300 &  78 & 245 & 280\\\\\n\tMEF\\_late &  31 & 178 &  444 & 183 &  23 & 147 & 172\\\\\n\tMEF\\_early & 114 & 701 & 2164 & 714 & 147 & 582 & 669\\\\\n\tMEF\\_sustained &  76 & 405 & 1058 & 412 &  91 & 333 & 386\\\\\n\\end{tabular}\n",
            "text/markdown": "\nA matrix: 6 × 7 of type int\n\n| <!--/--> | endothelium development | vasculature development | nervous system development | cardiovascular system development | stem cell population maintenance | heart development | blood vessel development |\n|---|---|---|---|---|---|---|---|\n| EB_late |  31 | 192 |  465 | 195 |  25 | 163 | 184 |\n| EB_early |  45 | 279 |  928 | 287 |  79 | 251 | 272 |\n| EB_sustained |  61 | 293 |  885 | 300 |  78 | 245 | 280 |\n| MEF_late |  31 | 178 |  444 | 183 |  23 | 147 | 172 |\n| MEF_early | 114 | 701 | 2164 | 714 | 147 | 582 | 669 |\n| MEF_sustained |  76 | 405 | 1058 | 412 |  91 | 333 | 386 |\n\n",
            "text/html": [
              "<table>\n",
              "<caption>A matrix: 6 × 7 of type int</caption>\n",
              "<thead>\n",
              "\t<tr><th></th><th scope=col>endothelium development</th><th scope=col>vasculature development</th><th scope=col>nervous system development</th><th scope=col>cardiovascular system development</th><th scope=col>stem cell population maintenance</th><th scope=col>heart development</th><th scope=col>blood vessel development</th></tr>\n",
              "</thead>\n",
              "<tbody>\n",
              "\t<tr><th scope=row>EB_late</th><td> 31</td><td>192</td><td> 465</td><td>195</td><td> 25</td><td>163</td><td>184</td></tr>\n",
              "\t<tr><th scope=row>EB_early</th><td> 45</td><td>279</td><td> 928</td><td>287</td><td> 79</td><td>251</td><td>272</td></tr>\n",
              "\t<tr><th scope=row>EB_sustained</th><td> 61</td><td>293</td><td> 885</td><td>300</td><td> 78</td><td>245</td><td>280</td></tr>\n",
              "\t<tr><th scope=row>MEF_late</th><td> 31</td><td>178</td><td> 444</td><td>183</td><td> 23</td><td>147</td><td>172</td></tr>\n",
              "\t<tr><th scope=row>MEF_early</th><td>114</td><td>701</td><td>2164</td><td>714</td><td>147</td><td>582</td><td>669</td></tr>\n",
              "\t<tr><th scope=row>MEF_sustained</th><td> 76</td><td>405</td><td>1058</td><td>412</td><td> 91</td><td>333</td><td>386</td></tr>\n",
              "</tbody>\n",
              "</table>\n"
            ]
          },
          "metadata": {
            "tags": []
          }
        }
      ]
    },
    {
      "cell_type": "code",
      "metadata": {
        "id": "1lZaHZqrDITt",
        "outputId": "c9cf0e97-98c0-42ac-c088-b5f49f7bbe23",
        "colab": {
          "base_uri": "https://localhost:8080/"
        }
      },
      "source": [
        "for (i in 1:length(gs)){\n",
        "  cat(sprintf('total genes in %s:%d\\n', names(gs)[i], length(gs[[i]])))\n",
        "}"
      ],
      "execution_count": 50,
      "outputs": [
        {
          "output_type": "stream",
          "text": [
            "total genes in endothelium development:147\n",
            "total genes in vasculature development:1098\n",
            "total genes in nervous system development:4007\n",
            "total genes in cardiovascular system development:1117\n",
            "total genes in stem cell population maintenance:200\n",
            "total genes in heart development:900\n",
            "total genes in blood vessel development:1032\n"
          ],
          "name": "stdout"
        }
      ]
    },
    {
      "cell_type": "code",
      "metadata": {
        "id": "BB344XEXEN7n",
        "outputId": "f37700e3-3c34-4898-8aea-14c297d8cb60",
        "colab": {
          "base_uri": "https://localhost:8080/"
        }
      },
      "source": [
        "for (i in 1:length(groups)){\n",
        "  cat(sprintf('total genes in %s:%d\\n', names(groups)[i], length(groups[[i]])))\n",
        "}"
      ],
      "execution_count": 51,
      "outputs": [
        {
          "output_type": "stream",
          "text": [
            "total genes in EB_late:2703\n",
            "total genes in EB_early:5392\n",
            "total genes in EB_sustained:5825\n",
            "total genes in MEF_late:2997\n",
            "total genes in MEF_early:19448\n",
            "total genes in MEF_sustained:8054\n"
          ],
          "name": "stdout"
        }
      ]
    },
    {
      "cell_type": "code",
      "metadata": {
        "id": "6j2W18qv2Uuw",
        "outputId": "93056e8b-81fc-4241-e4d1-d989dfba97c1",
        "colab": {
          "base_uri": "https://localhost:8080/",
          "height": 204
        }
      },
      "source": [
        "x <- do.call('rbind', lapply(groups, function(genes) do.call('cbind', lapply(gs, function(go) sum(genes %in% go) / length(genes)))))\n",
        "rownames(x) <- names(groups)\n",
        "t(x)"
      ],
      "execution_count": 52,
      "outputs": [
        {
          "output_type": "display_data",
          "data": {
            "text/plain": [
              "                                  EB_late     EB_early    EB_sustained\n",
              "endothelium development           0.011468738 0.008345697 0.01047210  \n",
              "vasculature development           0.071032186 0.051743323 0.05030043  \n",
              "nervous system development        0.172031077 0.172106825 0.15193133  \n",
              "cardiovascular system development 0.072142064 0.053227003 0.05150215  \n",
              "stem cell population maintenance  0.009248983 0.014651335 0.01339056  \n",
              "heart development                 0.060303367 0.046550445 0.04206009  \n",
              "blood vessel development          0.068072512 0.050445104 0.04806867  \n",
              "                                  MEF_late    MEF_early   MEF_sustained\n",
              "endothelium development           0.010343677 0.005861785 0.009436305  \n",
              "vasculature development           0.059392726 0.036044838 0.050285572  \n",
              "nervous system development        0.148148148 0.111271082 0.131363298  \n",
              "cardiovascular system development 0.061061061 0.036713287 0.051154706  \n",
              "stem cell population maintenance  0.007674341 0.007558618 0.011298734  \n",
              "heart development                 0.049049049 0.029925956 0.041345915  \n",
              "blood vessel development          0.057390724 0.034399424 0.047926496  "
            ],
            "text/latex": "A matrix: 7 × 6 of type dbl\n\\begin{tabular}{r|llllll}\n  & EB\\_late & EB\\_early & EB\\_sustained & MEF\\_late & MEF\\_early & MEF\\_sustained\\\\\n\\hline\n\tendothelium development & 0.011468738 & 0.008345697 & 0.01047210 & 0.010343677 & 0.005861785 & 0.009436305\\\\\n\tvasculature development & 0.071032186 & 0.051743323 & 0.05030043 & 0.059392726 & 0.036044838 & 0.050285572\\\\\n\tnervous system development & 0.172031077 & 0.172106825 & 0.15193133 & 0.148148148 & 0.111271082 & 0.131363298\\\\\n\tcardiovascular system development & 0.072142064 & 0.053227003 & 0.05150215 & 0.061061061 & 0.036713287 & 0.051154706\\\\\n\tstem cell population maintenance & 0.009248983 & 0.014651335 & 0.01339056 & 0.007674341 & 0.007558618 & 0.011298734\\\\\n\theart development & 0.060303367 & 0.046550445 & 0.04206009 & 0.049049049 & 0.029925956 & 0.041345915\\\\\n\tblood vessel development & 0.068072512 & 0.050445104 & 0.04806867 & 0.057390724 & 0.034399424 & 0.047926496\\\\\n\\end{tabular}\n",
            "text/markdown": "\nA matrix: 7 × 6 of type dbl\n\n| <!--/--> | EB_late | EB_early | EB_sustained | MEF_late | MEF_early | MEF_sustained |\n|---|---|---|---|---|---|---|\n| endothelium development | 0.011468738 | 0.008345697 | 0.01047210 | 0.010343677 | 0.005861785 | 0.009436305 |\n| vasculature development | 0.071032186 | 0.051743323 | 0.05030043 | 0.059392726 | 0.036044838 | 0.050285572 |\n| nervous system development | 0.172031077 | 0.172106825 | 0.15193133 | 0.148148148 | 0.111271082 | 0.131363298 |\n| cardiovascular system development | 0.072142064 | 0.053227003 | 0.05150215 | 0.061061061 | 0.036713287 | 0.051154706 |\n| stem cell population maintenance | 0.009248983 | 0.014651335 | 0.01339056 | 0.007674341 | 0.007558618 | 0.011298734 |\n| heart development | 0.060303367 | 0.046550445 | 0.04206009 | 0.049049049 | 0.029925956 | 0.041345915 |\n| blood vessel development | 0.068072512 | 0.050445104 | 0.04806867 | 0.057390724 | 0.034399424 | 0.047926496 |\n\n",
            "text/html": [
              "<table>\n",
              "<caption>A matrix: 7 × 6 of type dbl</caption>\n",
              "<thead>\n",
              "\t<tr><th></th><th scope=col>EB_late</th><th scope=col>EB_early</th><th scope=col>EB_sustained</th><th scope=col>MEF_late</th><th scope=col>MEF_early</th><th scope=col>MEF_sustained</th></tr>\n",
              "</thead>\n",
              "<tbody>\n",
              "\t<tr><th scope=row>endothelium development</th><td>0.011468738</td><td>0.008345697</td><td>0.01047210</td><td>0.010343677</td><td>0.005861785</td><td>0.009436305</td></tr>\n",
              "\t<tr><th scope=row>vasculature development</th><td>0.071032186</td><td>0.051743323</td><td>0.05030043</td><td>0.059392726</td><td>0.036044838</td><td>0.050285572</td></tr>\n",
              "\t<tr><th scope=row>nervous system development</th><td>0.172031077</td><td>0.172106825</td><td>0.15193133</td><td>0.148148148</td><td>0.111271082</td><td>0.131363298</td></tr>\n",
              "\t<tr><th scope=row>cardiovascular system development</th><td>0.072142064</td><td>0.053227003</td><td>0.05150215</td><td>0.061061061</td><td>0.036713287</td><td>0.051154706</td></tr>\n",
              "\t<tr><th scope=row>stem cell population maintenance</th><td>0.009248983</td><td>0.014651335</td><td>0.01339056</td><td>0.007674341</td><td>0.007558618</td><td>0.011298734</td></tr>\n",
              "\t<tr><th scope=row>heart development</th><td>0.060303367</td><td>0.046550445</td><td>0.04206009</td><td>0.049049049</td><td>0.029925956</td><td>0.041345915</td></tr>\n",
              "\t<tr><th scope=row>blood vessel development</th><td>0.068072512</td><td>0.050445104</td><td>0.04806867</td><td>0.057390724</td><td>0.034399424</td><td>0.047926496</td></tr>\n",
              "</tbody>\n",
              "</table>\n"
            ]
          },
          "metadata": {
            "tags": []
          }
        }
      ]
    },
    {
      "cell_type": "code",
      "metadata": {
        "id": "5zs30QGnFHEF",
        "outputId": "b4f13d31-31bd-4504-dd51-c4b3b75ac3c6",
        "colab": {
          "base_uri": "https://localhost:8080/",
          "height": 317
        }
      },
      "source": [
        "options(repr.plot.width = 10, repr.plot.height = 5)\n",
        "barplot(x[, 'blood vessel development'], col = c('black', 'red', 'darkgreen'))"
      ],
      "execution_count": 53,
      "outputs": [
        {
          "output_type": "display_data",
          "data": {
            "image/png": "[encoded data removed]",
            "text/plain": [
              "plot without title"
            ]
          },
          "metadata": {
            "tags": [],
            "image/png": {
              "width": 600,
              "height": 300
            }
          }
        }
      ]
    },
    {
      "cell_type": "markdown",
      "metadata": {
        "id": "vM0dIRDX2f9X"
      },
      "source": [
        "## Overlapped late peaks"
      ]
    },
    {
      "cell_type": "code",
      "metadata": {
        "id": "2f97CUSN2jYi",
        "outputId": "5e4c3fbe-8c01-41ac-ac3f-6754a089bc48",
        "colab": {
          "base_uri": "https://localhost:8080/"
        }
      },
      "source": [
        "cat(sprintf('number of unique genes near common late  Etv2 peaks: %d\\n', length(unique(anno$geneId[anno$group.EB_Dox_12h_Etv2 & anno$group.MEF_Dox_d7_Etv2]))))\n",
        "cat(sprintf('number of unique genes near late MEF Etv2 peaks: %d\\n', length(unique(anno$geneId[!anno$group.EB_Dox_12h_Etv2 & anno$group.MEF_Dox_d7_Etv2]))))\n",
        "cat(sprintf('number of unique genes near late EB Etv2 peaks: %d\\n', length(unique(anno$geneId[anno$group.EB_Dox_12h_Etv2 & !anno$group.MEF_Dox_d7_Etv2]))))"
      ],
      "execution_count": 54,
      "outputs": [
        {
          "output_type": "stream",
          "text": [
            "number of unique genes near common late  Etv2 peaks: 4033\n",
            "number of unique genes near late MEF Etv2 peaks: 6924\n",
            "number of unique genes near late EB Etv2 peaks: 4354\n"
          ],
          "name": "stdout"
        }
      ]
    },
    {
      "cell_type": "code",
      "metadata": {
        "id": "rIu9kuzbWUqC",
        "outputId": "9a44a1b8-3b3b-4dbc-97f2-82aadbea699e",
        "colab": {
          "base_uri": "https://localhost:8080/"
        }
      },
      "source": [
        "cat(sprintf('number of common late Etv2 peaks: %d\\n', sum(gr$group[, 'EB_Dox_12h_Etv2'] & gr$group[, 'MEF_Dox_d7_Etv2'])))\n",
        "cat(sprintf('number of MEF specific late Etv2 peaks: %d\\n', sum(!gr$group[, 'EB_Dox_12h_Etv2'] & gr$group[, 'MEF_Dox_d7_Etv2'])))\n",
        "cat(sprintf('number of EB specific late Etv2 peaks: %d\\n', sum(gr$group[, 'EB_Dox_12h_Etv2'] & !gr$group[, 'MEF_Dox_d7_Etv2'])))"
      ],
      "execution_count": 55,
      "outputs": [
        {
          "output_type": "stream",
          "text": [
            "number of common late Etv2 peaks: 4790\n",
            "number of MEF specific late Etv2 peaks: 11602\n",
            "number of EB specific late Etv2 peaks: 6373\n"
          ],
          "name": "stdout"
        }
      ]
    },
    {
      "cell_type": "code",
      "metadata": {
        "id": "DLYh9wPhxed2",
        "outputId": "89d3ba14-92f3-4831-b81b-dc20db1449ff",
        "colab": {
          "base_uri": "https://localhost:8080/",
          "height": 1000
        }
      },
      "source": [
        "sessionInfo()"
      ],
      "execution_count": 56,
      "outputs": [
        {
          "output_type": "display_data",
          "data": {
            "text/plain": [
              "R version 4.0.2 (2020-06-22)\n",
              "Platform: x86_64-pc-linux-gnu (64-bit)\n",
              "Running under: Ubuntu 18.04.5 LTS\n",
              "\n",
              "Matrix products: default\n",
              "BLAS:   /usr/lib/x86_64-linux-gnu/openblas/libblas.so.3\n",
              "LAPACK: /usr/lib/x86_64-linux-gnu/libopenblasp-r0.2.20.so\n",
              "\n",
              "locale:\n",
              " [1] LC_CTYPE=en_US.UTF-8       LC_NUMERIC=C              \n",
              " [3] LC_TIME=en_US.UTF-8        LC_COLLATE=en_US.UTF-8    \n",
              " [5] LC_MONETARY=en_US.UTF-8    LC_MESSAGES=en_US.UTF-8   \n",
              " [7] LC_PAPER=en_US.UTF-8       LC_NAME=C                 \n",
              " [9] LC_ADDRESS=C               LC_TELEPHONE=C            \n",
              "[11] LC_MEASUREMENT=en_US.UTF-8 LC_IDENTIFICATION=C       \n",
              "\n",
              "attached base packages:\n",
              " [1] grid      parallel  stats4    stats     graphics  grDevices utils    \n",
              " [8] datasets  methods   base     \n",
              "\n",
              "other attached packages:\n",
              " [1] EnrichedHeatmap_1.18.2                   \n",
              " [2] ComplexHeatmap_2.4.3                     \n",
              " [3] GO.db_3.11.4                             \n",
              " [4] org.Mm.eg.db_3.11.4                      \n",
              " [5] TxDb.Mmusculus.UCSC.mm10.knownGene_3.10.0\n",
              " [6] GenomicFeatures_1.40.1                   \n",
              " [7] AnnotationDbi_1.50.3                     \n",
              " [8] Biobase_2.48.0                           \n",
              " [9] ChIPseeker_1.24.0                        \n",
              "[10] BSgenome.Mmusculus.UCSC.mm10_1.4.0       \n",
              "[11] BSgenome_1.56.0                          \n",
              "[12] rtracklayer_1.48.0                       \n",
              "[13] Biostrings_2.56.0                        \n",
              "[14] XVector_0.28.0                           \n",
              "[15] dplyr_1.0.2                              \n",
              "[16] circlize_0.4.10                          \n",
              "[17] GenomicRanges_1.40.0                     \n",
              "[18] GenomeInfoDb_1.24.2                      \n",
              "[19] IRanges_2.22.2                           \n",
              "[20] S4Vectors_0.26.1                         \n",
              "[21] BiocGenerics_0.34.0                      \n",
              "\n",
              "loaded via a namespace (and not attached):\n",
              "  [1] uuid_0.1-4                             \n",
              "  [2] fastmatch_1.1-0                        \n",
              "  [3] BiocFileCache_1.12.1                   \n",
              "  [4] plyr_1.8.6                             \n",
              "  [5] igraph_1.2.6                           \n",
              "  [6] repr_1.1.0                             \n",
              "  [7] splines_4.0.2                          \n",
              "  [8] BiocParallel_1.22.0                    \n",
              "  [9] ggplot2_3.3.2                          \n",
              " [10] urltools_1.7.3                         \n",
              " [11] digest_0.6.25                          \n",
              " [12] htmltools_0.5.0                        \n",
              " [13] GOSemSim_2.14.2                        \n",
              " [14] viridis_0.5.1                          \n",
              " [15] magrittr_1.5                           \n",
              " [16] memoise_1.1.0                          \n",
              " [17] cluster_2.1.0                          \n",
              " [18] graphlayouts_0.7.0                     \n",
              " [19] matrixStats_0.57.0                     \n",
              " [20] askpass_1.1                            \n",
              " [21] enrichplot_1.8.1                       \n",
              " [22] prettyunits_1.1.1                      \n",
              " [23] colorspace_1.4-1                       \n",
              " [24] blob_1.2.1                             \n",
              " [25] rappdirs_0.3.1                         \n",
              " [26] ggrepel_0.8.2                          \n",
              " [27] crayon_1.3.4                           \n",
              " [28] RCurl_1.98-1.2                         \n",
              " [29] jsonlite_1.7.1                         \n",
              " [30] TxDb.Hsapiens.UCSC.hg19.knownGene_3.2.2\n",
              " [31] scatterpie_0.1.5                       \n",
              " [32] glue_1.4.2                             \n",
              " [33] polyclip_1.10-0                        \n",
              " [34] gtable_0.3.0                           \n",
              " [35] zlibbioc_1.34.0                        \n",
              " [36] GetoptLong_1.0.3                       \n",
              " [37] DelayedArray_0.14.1                    \n",
              " [38] shape_1.4.5                            \n",
              " [39] scales_1.1.1                           \n",
              " [40] DOSE_3.14.0                            \n",
              " [41] DBI_1.1.0                              \n",
              " [42] Rcpp_1.0.5                             \n",
              " [43] plotrix_3.7-8                          \n",
              " [44] viridisLite_0.3.0                      \n",
              " [45] progress_1.2.2                         \n",
              " [46] clue_0.3-57                            \n",
              " [47] gridGraphics_0.5-0                     \n",
              " [48] bit_4.0.4                              \n",
              " [49] europepmc_0.4                          \n",
              " [50] httr_1.4.2                             \n",
              " [51] fgsea_1.14.0                           \n",
              " [52] gplots_3.1.0                           \n",
              " [53] RColorBrewer_1.1-2                     \n",
              " [54] ellipsis_0.3.1                         \n",
              " [55] pkgconfig_2.0.3                        \n",
              " [56] XML_3.99-0.5                           \n",
              " [57] farver_2.0.3                           \n",
              " [58] dbplyr_1.4.4                           \n",
              " [59] locfit_1.5-9.4                         \n",
              " [60] ggplotify_0.0.5                        \n",
              " [61] tidyselect_1.1.0                       \n",
              " [62] rlang_0.4.7                            \n",
              " [63] reshape2_1.4.4                         \n",
              " [64] munsell_0.5.0                          \n",
              " [65] tools_4.0.2                            \n",
              " [66] generics_0.0.2                         \n",
              " [67] RSQLite_2.2.1                          \n",
              " [68] ggridges_0.5.2                         \n",
              " [69] evaluate_0.14                          \n",
              " [70] stringr_1.4.0                          \n",
              " [71] bit64_4.0.5                            \n",
              " [72] tidygraph_1.2.0                        \n",
              " [73] caTools_1.18.0                         \n",
              " [74] purrr_0.3.4                            \n",
              " [75] ggraph_2.0.3                           \n",
              " [76] DO.db_2.9                              \n",
              " [77] xml2_1.3.2                             \n",
              " [78] biomaRt_2.44.1                         \n",
              " [79] compiler_4.0.2                         \n",
              " [80] curl_4.3                               \n",
              " [81] png_0.1-7                              \n",
              " [82] tibble_3.0.3                           \n",
              " [83] tweenr_1.0.1                           \n",
              " [84] stringi_1.5.3                          \n",
              " [85] lattice_0.20-41                        \n",
              " [86] IRdisplay_0.7.0                        \n",
              " [87] Matrix_1.2-18                          \n",
              " [88] vctrs_0.3.4                            \n",
              " [89] pillar_1.4.6                           \n",
              " [90] lifecycle_0.2.0                        \n",
              " [91] BiocManager_1.30.10                    \n",
              " [92] triebeard_0.3.0                        \n",
              " [93] GlobalOptions_0.1.2                    \n",
              " [94] data.table_1.13.0                      \n",
              " [95] cowplot_1.1.0                          \n",
              " [96] bitops_1.0-6                           \n",
              " [97] qvalue_2.20.0                          \n",
              " [98] R6_2.4.1                               \n",
              " [99] KernSmooth_2.23-17                     \n",
              "[100] gridExtra_2.3                          \n",
              "[101] boot_1.3-25                            \n",
              "[102] MASS_7.3-53                            \n",
              "[103] gtools_3.8.2                           \n",
              "[104] assertthat_0.2.1                       \n",
              "[105] SummarizedExperiment_1.18.2            \n",
              "[106] openssl_1.4.3                          \n",
              "[107] rjson_0.2.20                           \n",
              "[108] GenomicAlignments_1.24.0               \n",
              "[109] Rsamtools_2.4.0                        \n",
              "[110] GenomeInfoDbData_1.2.3                 \n",
              "[111] hms_0.5.3                              \n",
              "[112] IRkernel_1.1.1                         \n",
              "[113] tidyr_1.1.2                            \n",
              "[114] rvcheck_0.1.8                          \n",
              "[115] pbdZMQ_0.3-3                           \n",
              "[116] ggforce_0.3.2                          \n",
              "[117] base64enc_0.1-3                        "
            ]
          },
          "metadata": {
            "tags": []
          }
        }
      ]
    },
    {
      "cell_type": "code",
      "metadata": {
        "id": "t8JLxMUeybHs",
        "outputId": "72103d8c-5580-4b60-a6af-9321d9bfa3ed",
        "colab": {
          "base_uri": "https://localhost:8080/",
          "height": 34
        }
      },
      "source": [
        "Sys.time() - start_time0"
      ],
      "execution_count": 57,
      "outputs": [
        {
          "output_type": "display_data",
          "data": {
            "text/plain": [
              "Time difference of 3.971081 mins"
            ]
          },
          "metadata": {
            "tags": []
          }
        }
      ]
    },
    {
      "cell_type": "code",
      "metadata": {
        "id": "K89EGe2ByhLp"
      },
      "source": [
        ""
      ],
      "execution_count": 58,
      "outputs": []
    },
    {
      "cell_type": "code",
      "metadata": {
        "id": "4hpLCs7bA2AF"
      },
      "source": [
        ""
      ],
      "execution_count": 59,
      "outputs": []
    },
    {
      "cell_type": "code",
      "metadata": {
        "id": "-oajFg17l8aH"
      },
      "source": [
        ""
      ],
      "execution_count": 60,
      "outputs": []
    }
  ]
}