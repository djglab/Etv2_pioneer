{
  "nbformat": 4,
  "nbformat_minor": 0,
  "metadata": {
    "kernelspec": {
      "display_name": "R",
      "language": "R",
      "name": "ir"
    },
    "language_info": {
      "codemirror_mode": "r",
      "file_extension": ".r",
      "mimetype": "text/x-r-source",
      "name": "R",
      "pygments_lexer": "r",
      "version": "3.3.1"
    },
    "colab": {
      "name": "scRNA-seq_D1.ipynb",
      "provenance": [],
      "collapsed_sections": [
        "Z40Gu-PttQSy"
      ],
      "toc_visible": true,
      "machine_shape": "hm",
      "include_colab_link": true
    },
    "accelerator": "GPU"
  },
  "cells": [
    {
      "cell_type": "markdown",
      "metadata": {
        "id": "view-in-github",
        "colab_type": "text"
      },
      "source": [
        "<a href=\"https://colab.research.google.com/github/gongx030/etv2_pioneer/blob/master/scRNA_seq_D1.ipynb\" target=\"_parent\"><img src=\"https://colab.research.google.com/assets/colab-badge.svg\" alt=\"Open In Colab\"/></a>"
      ]
    },
    {
      "cell_type": "markdown",
      "metadata": {
        "id": "4TLq2MbDD3zq"
      },
      "source": [
        "# Analysis of scRNA-seq of Etv2 induced reprogramming at D0 and D1\n",
        "\n",
        "by Wuming Gong\n",
        "\n"
      ]
    },
    {
      "cell_type": "markdown",
      "metadata": {
        "id": "eqzajOl0Z7XX"
      },
      "source": [
        "Explore the diversified MEF population and see which subpopulation differentiated into HE population"
      ]
    },
    {
      "cell_type": "code",
      "metadata": {
        "id": "6OhqEEeZHroa"
      },
      "source": [
        "start_time0 <- Sys.time()"
      ],
      "execution_count": null,
      "outputs": []
    },
    {
      "cell_type": "markdown",
      "metadata": {
        "id": "obcf6pAcw6TQ"
      },
      "source": [
        "### Install external packages"
      ]
    },
    {
      "cell_type": "code",
      "metadata": {
        "id": "99vS8MZUxApi",
        "colab": {
          "base_uri": "https://localhost:8080/",
          "height": 1000
        },
        "outputId": "2ada8684-e94a-4150-e554-ba4eac94444c"
      },
      "source": [
        "system('apt-get -q install libgsl-dev', intern = TRUE)"
      ],
      "execution_count": null,
      "outputs": [
        {
          "output_type": "display_data",
          "data": {
            "text/plain": [
              " [1] \"Reading package lists...\"                                                                                                                                                                                                                                                                                                                                                                                                                                                                                                                                                                                                                                      \n",
              " [2] \"Building dependency tree...\"                                                                                                                                                                                                                                                                                                                                                                                                                                                                                                                                                                                                                                   \n",
              " [3] \"Reading state information...\"                                                                                                                                                                                                                                                                                                                                                                                                                                                                                                                                                                                                                                  \n",
              " [4] \"The following additional packages will be installed:\"                                                                                                                                                                                                                                                                                                                                                                                                                                                                                                                                                                                                          \n",
              " [5] \"  libgsl23 libgslcblas0\"                                                                                                                                                                                                                                                                                                                                                                                                                                                                                                                                                                                                                                       \n",
              " [6] \"Suggested packages:\"                                                                                                                                                                                                                                                                                                                                                                                                                                                                                                                                                                                                                                           \n",
              " [7] \"  gsl-ref-psdoc | gsl-doc-pdf | gsl-doc-info | gsl-ref-html\"                                                                                                                                                                                                                                                                                                                                                                                                                                                                                                                                                                                                   \n",
              " [8] \"The following NEW packages will be installed:\"                                                                                                                                                                                                                                                                                                                                                                                                                                                                                                                                                                                                                 \n",
              " [9] \"  libgsl-dev libgsl23 libgslcblas0\"                                                                                                                                                                                                                                                                                                                                                                                                                                                                                                                                                                                                                            \n",
              "[10] \"0 upgraded, 3 newly installed, 0 to remove and 17 not upgraded.\"                                                                                                                                                                                                                                                                                                                                                                                                                                                                                                                                                                                               \n",
              "[11] \"Need to get 1,926 kB of archives.\"                                                                                                                                                                                                                                                                                                                                                                                                                                                                                                                                                                                                                             \n",
              "[12] \"After this operation, 9,474 kB of additional disk space will be used.\"                                                                                                                                                                                                                                                                                                                                                                                                                                                                                                                                                                                         \n",
              "[13] \"Get:1 http://archive.ubuntu.com/ubuntu bionic/universe amd64 libgslcblas0 amd64 2.4+dfsg-6 [79.7 kB]\"                                                                                                                                                                                                                                                                                                                                                                                                                                                                                                                                                          \n",
              "[14] \"Get:2 http://archive.ubuntu.com/ubuntu bionic/universe amd64 libgsl23 amd64 2.4+dfsg-6 [823 kB]\"                                                                                                                                                                                                                                                                                                                                                                                                                                                                                                                                                               \n",
              "[15] \"Get:3 http://archive.ubuntu.com/ubuntu bionic/universe amd64 libgsl-dev amd64 2.4+dfsg-6 [1,023 kB]\"                                                                                                                                                                                                                                                                                                                                                                                                                                                                                                                                                           \n",
              "[16] \"Fetched 1,926 kB in 1s (1,315 kB/s)\"                                                                                                                                                                                                                                                                                                                                                                                                                                                                                                                                                                                                                           \n",
              "[17] \"Selecting previously unselected package libgslcblas0:amd64.\\r\"                                                                                                                                                                                                                                                                                                                                                                                                                                                                                                                                                                                                 \n",
              "[18] \"(Reading database ... \\r(Reading database ... 5%\\r(Reading database ... 10%\\r(Reading database ... 15%\\r(Reading database ... 20%\\r(Reading database ... 25%\\r(Reading database ... 30%\\r(Reading database ... 35%\\r(Reading database ... 40%\\r(Reading database ... 45%\\r(Reading database ... 50%\\r(Reading database ... 55%\\r(Reading database ... 60%\\r(Reading database ... 65%\\r(Reading database ... 70%\\r(Reading database ... 75%\\r(Reading database ... 80%\\r(Reading database ... 85%\\r(Reading database ... 90%\\r(Reading database ... 95%\\r(Reading database ... 100%\\r(Reading database ... 146425 files and directories currently installed.)\\r\"\n",
              "[19] \"Preparing to unpack .../libgslcblas0_2.4+dfsg-6_amd64.deb ...\\r\"                                                                                                                                                                                                                                                                                                                                                                                                                                                                                                                                                                                               \n",
              "[20] \"Unpacking libgslcblas0:amd64 (2.4+dfsg-6) ...\\r\"                                                                                                                                                                                                                                                                                                                                                                                                                                                                                                                                                                                                               \n",
              "[21] \"Selecting previously unselected package libgsl23:amd64.\\r\"                                                                                                                                                                                                                                                                                                                                                                                                                                                                                                                                                                                                     \n",
              "[22] \"Preparing to unpack .../libgsl23_2.4+dfsg-6_amd64.deb ...\\r\"                                                                                                                                                                                                                                                                                                                                                                                                                                                                                                                                                                                                   \n",
              "[23] \"Unpacking libgsl23:amd64 (2.4+dfsg-6) ...\\r\"                                                                                                                                                                                                                                                                                                                                                                                                                                                                                                                                                                                                                   \n",
              "[24] \"Selecting previously unselected package libgsl-dev.\\r\"                                                                                                                                                                                                                                                                                                                                                                                                                                                                                                                                                                                                         \n",
              "[25] \"Preparing to unpack .../libgsl-dev_2.4+dfsg-6_amd64.deb ...\\r\"                                                                                                                                                                                                                                                                                                                                                                                                                                                                                                                                                                                                 \n",
              "[26] \"Unpacking libgsl-dev (2.4+dfsg-6) ...\\r\"                                                                                                                                                                                                                                                                                                                                                                                                                                                                                                                                                                                                                       \n",
              "[27] \"Setting up libgslcblas0:amd64 (2.4+dfsg-6) ...\\r\"                                                                                                                                                                                                                                                                                                                                                                                                                                                                                                                                                                                                              \n",
              "[28] \"Setting up libgsl23:amd64 (2.4+dfsg-6) ...\\r\"                                                                                                                                                                                                                                                                                                                                                                                                                                                                                                                                                                                                                  \n",
              "[29] \"Setting up libgsl-dev (2.4+dfsg-6) ...\\r\"                                                                                                                                                                                                                                                                                                                                                                                                                                                                                                                                                                                                                      \n",
              "[30] \"Processing triggers for man-db (2.8.3-2ubuntu0.1) ...\\r\"                                                                                                                                                                                                                                                                                                                                                                                                                                                                                                                                                                                                       \n",
              "[31] \"Processing triggers for libc-bin (2.27-3ubuntu1.3) ...\\r\"                                                                                                                                                                                                                                                                                                                                                                                                                                                                                                                                                                                                      \n",
              "[32] \"/sbin/ldconfig.real: /usr/local/lib/python3.6/dist-packages/ideep4py/lib/libmkldnn.so.0 is not a symbolic link\\r\"                                                                                                                                                                                                                                                                                                                                                                                                                                                                                                                                              \n",
              "[33] \"\\r\"                                                                                                                                                                                                                                                                                                                                                                                                                                                                                                                                                                                                                                                            "
            ],
            "text/latex": "\\begin{enumerate*}\n\\item 'Reading package lists...'\n\\item 'Building dependency tree...'\n\\item 'Reading state information...'\n\\item 'The following additional packages will be installed:'\n\\item '  libgsl23 libgslcblas0'\n\\item 'Suggested packages:'\n\\item '  gsl-ref-psdoc \\textbar{} gsl-doc-pdf \\textbar{} gsl-doc-info \\textbar{} gsl-ref-html'\n\\item 'The following NEW packages will be installed:'\n\\item '  libgsl-dev libgsl23 libgslcblas0'\n\\item '0 upgraded, 3 newly installed, 0 to remove and 17 not upgraded.'\n\\item 'Need to get 1,926 kB of archives.'\n\\item 'After this operation, 9,474 kB of additional disk space will be used.'\n\\item 'Get:1 http://archive.ubuntu.com/ubuntu bionic/universe amd64 libgslcblas0 amd64 2.4+dfsg-6 {[}79.7 kB{]}'\n\\item 'Get:2 http://archive.ubuntu.com/ubuntu bionic/universe amd64 libgsl23 amd64 2.4+dfsg-6 {[}823 kB{]}'\n\\item 'Get:3 http://archive.ubuntu.com/ubuntu bionic/universe amd64 libgsl-dev amd64 2.4+dfsg-6 {[}1,023 kB{]}'\n\\item 'Fetched 1,926 kB in 1s (1,315 kB/s)'\n\\item 'Selecting previously unselected package libgslcblas0:amd64.\\textbackslash{}r'\n\\item '(Reading database ... \\textbackslash{}r(Reading database ... 5\\%\\textbackslash{}r(Reading database ... 10\\%\\textbackslash{}r(Reading database ... 15\\%\\textbackslash{}r(Reading database ... 20\\%\\textbackslash{}r(Reading database ... 25\\%\\textbackslash{}r(Reading database ... 30\\%\\textbackslash{}r(Reading database ... 35\\%\\textbackslash{}r(Reading database ... 40\\%\\textbackslash{}r(Reading database ... 45\\%\\textbackslash{}r(Reading database ... 50\\%\\textbackslash{}r(Reading database ... 55\\%\\textbackslash{}r(Reading database ... 60\\%\\textbackslash{}r(Reading database ... 65\\%\\textbackslash{}r(Reading database ... 70\\%\\textbackslash{}r(Reading database ... 75\\%\\textbackslash{}r(Reading database ... 80\\%\\textbackslash{}r(Reading database ... 85\\%\\textbackslash{}r(Reading database ... 90\\%\\textbackslash{}r(Reading database ... 95\\%\\textbackslash{}r(Reading database ... 100\\%\\textbackslash{}r(Reading database ... 146425 files and directories currently installed.)\\textbackslash{}r'\n\\item 'Preparing to unpack .../libgslcblas0\\_2.4+dfsg-6\\_amd64.deb ...\\textbackslash{}r'\n\\item 'Unpacking libgslcblas0:amd64 (2.4+dfsg-6) ...\\textbackslash{}r'\n\\item 'Selecting previously unselected package libgsl23:amd64.\\textbackslash{}r'\n\\item 'Preparing to unpack .../libgsl23\\_2.4+dfsg-6\\_amd64.deb ...\\textbackslash{}r'\n\\item 'Unpacking libgsl23:amd64 (2.4+dfsg-6) ...\\textbackslash{}r'\n\\item 'Selecting previously unselected package libgsl-dev.\\textbackslash{}r'\n\\item 'Preparing to unpack .../libgsl-dev\\_2.4+dfsg-6\\_amd64.deb ...\\textbackslash{}r'\n\\item 'Unpacking libgsl-dev (2.4+dfsg-6) ...\\textbackslash{}r'\n\\item 'Setting up libgslcblas0:amd64 (2.4+dfsg-6) ...\\textbackslash{}r'\n\\item 'Setting up libgsl23:amd64 (2.4+dfsg-6) ...\\textbackslash{}r'\n\\item 'Setting up libgsl-dev (2.4+dfsg-6) ...\\textbackslash{}r'\n\\item 'Processing triggers for man-db (2.8.3-2ubuntu0.1) ...\\textbackslash{}r'\n\\item 'Processing triggers for libc-bin (2.27-3ubuntu1.3) ...\\textbackslash{}r'\n\\item '/sbin/ldconfig.real: /usr/local/lib/python3.6/dist-packages/ideep4py/lib/libmkldnn.so.0 is not a symbolic link\\textbackslash{}r'\n\\item '\\textbackslash{}r'\n\\end{enumerate*}\n",
            "text/markdown": "1. 'Reading package lists...'\n2. 'Building dependency tree...'\n3. 'Reading state information...'\n4. 'The following additional packages will be installed:'\n5. <span style=white-space:pre-wrap>'  libgsl23 libgslcblas0'</span>\n6. 'Suggested packages:'\n7. <span style=white-space:pre-wrap>'  gsl-ref-psdoc | gsl-doc-pdf | gsl-doc-info | gsl-ref-html'</span>\n8. 'The following NEW packages will be installed:'\n9. <span style=white-space:pre-wrap>'  libgsl-dev libgsl23 libgslcblas0'</span>\n10. '0 upgraded, 3 newly installed, 0 to remove and 17 not upgraded.'\n11. 'Need to get 1,926 kB of archives.'\n12. 'After this operation, 9,474 kB of additional disk space will be used.'\n13. 'Get:1 http://archive.ubuntu.com/ubuntu bionic/universe amd64 libgslcblas0 amd64 2.4+dfsg-6 [79.7 kB]'\n14. 'Get:2 http://archive.ubuntu.com/ubuntu bionic/universe amd64 libgsl23 amd64 2.4+dfsg-6 [823 kB]'\n15. 'Get:3 http://archive.ubuntu.com/ubuntu bionic/universe amd64 libgsl-dev amd64 2.4+dfsg-6 [1,023 kB]'\n16. 'Fetched 1,926 kB in 1s (1,315 kB/s)'\n17. 'Selecting previously unselected package libgslcblas0:amd64.\\r'\n18. '(Reading database ... \\r(Reading database ... 5%\\r(Reading database ... 10%\\r(Reading database ... 15%\\r(Reading database ... 20%\\r(Reading database ... 25%\\r(Reading database ... 30%\\r(Reading database ... 35%\\r(Reading database ... 40%\\r(Reading database ... 45%\\r(Reading database ... 50%\\r(Reading database ... 55%\\r(Reading database ... 60%\\r(Reading database ... 65%\\r(Reading database ... 70%\\r(Reading database ... 75%\\r(Reading database ... 80%\\r(Reading database ... 85%\\r(Reading database ... 90%\\r(Reading database ... 95%\\r(Reading database ... 100%\\r(Reading database ... 146425 files and directories currently installed.)\\r'\n19. 'Preparing to unpack .../libgslcblas0_2.4+dfsg-6_amd64.deb ...\\r'\n20. 'Unpacking libgslcblas0:amd64 (2.4+dfsg-6) ...\\r'\n21. 'Selecting previously unselected package libgsl23:amd64.\\r'\n22. 'Preparing to unpack .../libgsl23_2.4+dfsg-6_amd64.deb ...\\r'\n23. 'Unpacking libgsl23:amd64 (2.4+dfsg-6) ...\\r'\n24. 'Selecting previously unselected package libgsl-dev.\\r'\n25. 'Preparing to unpack .../libgsl-dev_2.4+dfsg-6_amd64.deb ...\\r'\n26. 'Unpacking libgsl-dev (2.4+dfsg-6) ...\\r'\n27. 'Setting up libgslcblas0:amd64 (2.4+dfsg-6) ...\\r'\n28. 'Setting up libgsl23:amd64 (2.4+dfsg-6) ...\\r'\n29. 'Setting up libgsl-dev (2.4+dfsg-6) ...\\r'\n30. 'Processing triggers for man-db (2.8.3-2ubuntu0.1) ...\\r'\n31. 'Processing triggers for libc-bin (2.27-3ubuntu1.3) ...\\r'\n32. '/sbin/ldconfig.real: /usr/local/lib/python3.6/dist-packages/ideep4py/lib/libmkldnn.so.0 is not a symbolic link\\r'\n33. '\\r'\n\n\n",
            "text/html": [
              "<style>\n",
              ".list-inline {list-style: none; margin:0; padding: 0}\n",
              ".list-inline>li {display: inline-block}\n",
              ".list-inline>li:not(:last-child)::after {content: \"\\00b7\"; padding: 0 .5ex}\n",
              "</style>\n",
              "<ol class=list-inline><li>'Reading package lists...'</li><li>'Building dependency tree...'</li><li>'Reading state information...'</li><li>'The following additional packages will be installed:'</li><li><span style=white-space:pre-wrap>'  libgsl23 libgslcblas0'</span></li><li>'Suggested packages:'</li><li><span style=white-space:pre-wrap>'  gsl-ref-psdoc | gsl-doc-pdf | gsl-doc-info | gsl-ref-html'</span></li><li>'The following NEW packages will be installed:'</li><li><span style=white-space:pre-wrap>'  libgsl-dev libgsl23 libgslcblas0'</span></li><li>'0 upgraded, 3 newly installed, 0 to remove and 17 not upgraded.'</li><li>'Need to get 1,926 kB of archives.'</li><li>'After this operation, 9,474 kB of additional disk space will be used.'</li><li>'Get:1 http://archive.ubuntu.com/ubuntu bionic/universe amd64 libgslcblas0 amd64 2.4+dfsg-6 [79.7 kB]'</li><li>'Get:2 http://archive.ubuntu.com/ubuntu bionic/universe amd64 libgsl23 amd64 2.4+dfsg-6 [823 kB]'</li><li>'Get:3 http://archive.ubuntu.com/ubuntu bionic/universe amd64 libgsl-dev amd64 2.4+dfsg-6 [1,023 kB]'</li><li>'Fetched 1,926 kB in 1s (1,315 kB/s)'</li><li>'Selecting previously unselected package libgslcblas0:amd64.\\r'</li><li>'(Reading database ... \\r(Reading database ... 5%\\r(Reading database ... 10%\\r(Reading database ... 15%\\r(Reading database ... 20%\\r(Reading database ... 25%\\r(Reading database ... 30%\\r(Reading database ... 35%\\r(Reading database ... 40%\\r(Reading database ... 45%\\r(Reading database ... 50%\\r(Reading database ... 55%\\r(Reading database ... 60%\\r(Reading database ... 65%\\r(Reading database ... 70%\\r(Reading database ... 75%\\r(Reading database ... 80%\\r(Reading database ... 85%\\r(Reading database ... 90%\\r(Reading database ... 95%\\r(Reading database ... 100%\\r(Reading database ... 146425 files and directories currently installed.)\\r'</li><li>'Preparing to unpack .../libgslcblas0_2.4+dfsg-6_amd64.deb ...\\r'</li><li>'Unpacking libgslcblas0:amd64 (2.4+dfsg-6) ...\\r'</li><li>'Selecting previously unselected package libgsl23:amd64.\\r'</li><li>'Preparing to unpack .../libgsl23_2.4+dfsg-6_amd64.deb ...\\r'</li><li>'Unpacking libgsl23:amd64 (2.4+dfsg-6) ...\\r'</li><li>'Selecting previously unselected package libgsl-dev.\\r'</li><li>'Preparing to unpack .../libgsl-dev_2.4+dfsg-6_amd64.deb ...\\r'</li><li>'Unpacking libgsl-dev (2.4+dfsg-6) ...\\r'</li><li>'Setting up libgslcblas0:amd64 (2.4+dfsg-6) ...\\r'</li><li>'Setting up libgsl23:amd64 (2.4+dfsg-6) ...\\r'</li><li>'Setting up libgsl-dev (2.4+dfsg-6) ...\\r'</li><li>'Processing triggers for man-db (2.8.3-2ubuntu0.1) ...\\r'</li><li>'Processing triggers for libc-bin (2.27-3ubuntu1.3) ...\\r'</li><li>'/sbin/ldconfig.real: /usr/local/lib/python3.6/dist-packages/ideep4py/lib/libmkldnn.so.0 is not a symbolic link\\r'</li><li>'\\r'</li></ol>\n"
            ]
          },
          "metadata": {
            "tags": []
          }
        }
      ]
    },
    {
      "cell_type": "code",
      "metadata": {
        "colab": {
          "base_uri": "https://localhost:8080/",
          "height": 1000
        },
        "id": "nGBlrxdZEtzm",
        "outputId": "d57c17a5-9bbc-418f-e2bb-b1b7d439543a"
      },
      "source": [
        "system('apt-get install libcairo2-dev', intern = TRUE) # required by R package ComplexHeatmap "
      ],
      "execution_count": null,
      "outputs": [
        {
          "output_type": "display_data",
          "data": {
            "text/plain": [
              " [1] \"Reading package lists...\"                                                                                                                                                                                                                                                                                                                                                                                                                                                                                                                                                                                                                                      \n",
              " [2] \"Building dependency tree...\"                                                                                                                                                                                                                                                                                                                                                                                                                                                                                                                                                                                                                                   \n",
              " [3] \"Reading state information...\"                                                                                                                                                                                                                                                                                                                                                                                                                                                                                                                                                                                                                                  \n",
              " [4] \"The following additional packages will be installed:\"                                                                                                                                                                                                                                                                                                                                                                                                                                                                                                                                                                                                          \n",
              " [5] \"  libcairo-script-interpreter2 libpixman-1-dev libxcb-shm0-dev\"                                                                                                                                                                                                                                                                                                                                                                                                                                                                                                                                                                                                \n",
              " [6] \"Suggested packages:\"                                                                                                                                                                                                                                                                                                                                                                                                                                                                                                                                                                                                                                           \n",
              " [7] \"  libcairo2-doc\"                                                                                                                                                                                                                                                                                                                                                                                                                                                                                                                                                                                                                                               \n",
              " [8] \"The following NEW packages will be installed:\"                                                                                                                                                                                                                                                                                                                                                                                                                                                                                                                                                                                                                 \n",
              " [9] \"  libcairo-script-interpreter2 libcairo2-dev libpixman-1-dev libxcb-shm0-dev\"                                                                                                                                                                                                                                                                                                                                                                                                                                                                                                                                                                                  \n",
              "[10] \"0 upgraded, 4 newly installed, 0 to remove and 17 not upgraded.\"                                                                                                                                                                                                                                                                                                                                                                                                                                                                                                                                                                                               \n",
              "[11] \"Need to get 930 kB of archives.\"                                                                                                                                                                                                                                                                                                                                                                                                                                                                                                                                                                                                                               \n",
              "[12] \"After this operation, 3,986 kB of additional disk space will be used.\"                                                                                                                                                                                                                                                                                                                                                                                                                                                                                                                                                                                         \n",
              "[13] \"Get:1 http://archive.ubuntu.com/ubuntu bionic-updates/main amd64 libcairo-script-interpreter2 amd64 1.15.10-2ubuntu0.1 [53.5 kB]\"                                                                                                                                                                                                                                                                                                                                                                                                                                                                                                                              \n",
              "[14] \"Get:2 http://archive.ubuntu.com/ubuntu bionic/main amd64 libpixman-1-dev amd64 0.34.0-2 [244 kB]\"                                                                                                                                                                                                                                                                                                                                                                                                                                                                                                                                                              \n",
              "[15] \"Get:3 http://archive.ubuntu.com/ubuntu bionic-updates/main amd64 libxcb-shm0-dev amd64 1.13-2~ubuntu18.04 [6,684 B]\"                                                                                                                                                                                                                                                                                                                                                                                                                                                                                                                                           \n",
              "[16] \"Get:4 http://archive.ubuntu.com/ubuntu bionic-updates/main amd64 libcairo2-dev amd64 1.15.10-2ubuntu0.1 [626 kB]\"                                                                                                                                                                                                                                                                                                                                                                                                                                                                                                                                              \n",
              "[17] \"Fetched 930 kB in 1s (739 kB/s)\"                                                                                                                                                                                                                                                                                                                                                                                                                                                                                                                                                                                                                               \n",
              "[18] \"Selecting previously unselected package libcairo-script-interpreter2:amd64.\\r\"                                                                                                                                                                                                                                                                                                                                                                                                                                                                                                                                                                                 \n",
              "[19] \"(Reading database ... \\r(Reading database ... 5%\\r(Reading database ... 10%\\r(Reading database ... 15%\\r(Reading database ... 20%\\r(Reading database ... 25%\\r(Reading database ... 30%\\r(Reading database ... 35%\\r(Reading database ... 40%\\r(Reading database ... 45%\\r(Reading database ... 50%\\r(Reading database ... 55%\\r(Reading database ... 60%\\r(Reading database ... 65%\\r(Reading database ... 70%\\r(Reading database ... 75%\\r(Reading database ... 80%\\r(Reading database ... 85%\\r(Reading database ... 90%\\r(Reading database ... 95%\\r(Reading database ... 100%\\r(Reading database ... 146697 files and directories currently installed.)\\r\"\n",
              "[20] \"Preparing to unpack .../libcairo-script-interpreter2_1.15.10-2ubuntu0.1_amd64.deb ...\\r\"                                                                                                                                                                                                                                                                                                                                                                                                                                                                                                                                                                       \n",
              "[21] \"Unpacking libcairo-script-interpreter2:amd64 (1.15.10-2ubuntu0.1) ...\\r\"                                                                                                                                                                                                                                                                                                                                                                                                                                                                                                                                                                                       \n",
              "[22] \"Selecting previously unselected package libpixman-1-dev:amd64.\\r\"                                                                                                                                                                                                                                                                                                                                                                                                                                                                                                                                                                                              \n",
              "[23] \"Preparing to unpack .../libpixman-1-dev_0.34.0-2_amd64.deb ...\\r\"                                                                                                                                                                                                                                                                                                                                                                                                                                                                                                                                                                                              \n",
              "[24] \"Unpacking libpixman-1-dev:amd64 (0.34.0-2) ...\\r\"                                                                                                                                                                                                                                                                                                                                                                                                                                                                                                                                                                                                              \n",
              "[25] \"Selecting previously unselected package libxcb-shm0-dev:amd64.\\r\"                                                                                                                                                                                                                                                                                                                                                                                                                                                                                                                                                                                              \n",
              "[26] \"Preparing to unpack .../libxcb-shm0-dev_1.13-2~ubuntu18.04_amd64.deb ...\\r\"                                                                                                                                                                                                                                                                                                                                                                                                                                                                                                                                                                                    \n",
              "[27] \"Unpacking libxcb-shm0-dev:amd64 (1.13-2~ubuntu18.04) ...\\r\"                                                                                                                                                                                                                                                                                                                                                                                                                                                                                                                                                                                                    \n",
              "[28] \"Selecting previously unselected package libcairo2-dev:amd64.\\r\"                                                                                                                                                                                                                                                                                                                                                                                                                                                                                                                                                                                                \n",
              "[29] \"Preparing to unpack .../libcairo2-dev_1.15.10-2ubuntu0.1_amd64.deb ...\\r\"                                                                                                                                                                                                                                                                                                                                                                                                                                                                                                                                                                                      \n",
              "[30] \"Unpacking libcairo2-dev:amd64 (1.15.10-2ubuntu0.1) ...\\r\"                                                                                                                                                                                                                                                                                                                                                                                                                                                                                                                                                                                                      \n",
              "[31] \"Setting up libcairo-script-interpreter2:amd64 (1.15.10-2ubuntu0.1) ...\\r\"                                                                                                                                                                                                                                                                                                                                                                                                                                                                                                                                                                                      \n",
              "[32] \"Setting up libxcb-shm0-dev:amd64 (1.13-2~ubuntu18.04) ...\\r\"                                                                                                                                                                                                                                                                                                                                                                                                                                                                                                                                                                                                   \n",
              "[33] \"Setting up libpixman-1-dev:amd64 (0.34.0-2) ...\\r\"                                                                                                                                                                                                                                                                                                                                                                                                                                                                                                                                                                                                             \n",
              "[34] \"Setting up libcairo2-dev:amd64 (1.15.10-2ubuntu0.1) ...\\r\"                                                                                                                                                                                                                                                                                                                                                                                                                                                                                                                                                                                                     \n",
              "[35] \"Processing triggers for libc-bin (2.27-3ubuntu1.3) ...\\r\"                                                                                                                                                                                                                                                                                                                                                                                                                                                                                                                                                                                                      \n",
              "[36] \"/sbin/ldconfig.real: /usr/local/lib/python3.6/dist-packages/ideep4py/lib/libmkldnn.so.0 is not a symbolic link\\r\"                                                                                                                                                                                                                                                                                                                                                                                                                                                                                                                                              \n",
              "[37] \"\\r\"                                                                                                                                                                                                                                                                                                                                                                                                                                                                                                                                                                                                                                                            "
            ],
            "text/latex": "\\begin{enumerate*}\n\\item 'Reading package lists...'\n\\item 'Building dependency tree...'\n\\item 'Reading state information...'\n\\item 'The following additional packages will be installed:'\n\\item '  libcairo-script-interpreter2 libpixman-1-dev libxcb-shm0-dev'\n\\item 'Suggested packages:'\n\\item '  libcairo2-doc'\n\\item 'The following NEW packages will be installed:'\n\\item '  libcairo-script-interpreter2 libcairo2-dev libpixman-1-dev libxcb-shm0-dev'\n\\item '0 upgraded, 4 newly installed, 0 to remove and 17 not upgraded.'\n\\item 'Need to get 930 kB of archives.'\n\\item 'After this operation, 3,986 kB of additional disk space will be used.'\n\\item 'Get:1 http://archive.ubuntu.com/ubuntu bionic-updates/main amd64 libcairo-script-interpreter2 amd64 1.15.10-2ubuntu0.1 {[}53.5 kB{]}'\n\\item 'Get:2 http://archive.ubuntu.com/ubuntu bionic/main amd64 libpixman-1-dev amd64 0.34.0-2 {[}244 kB{]}'\n\\item 'Get:3 http://archive.ubuntu.com/ubuntu bionic-updates/main amd64 libxcb-shm0-dev amd64 1.13-2\\textasciitilde{}ubuntu18.04 {[}6,684 B{]}'\n\\item 'Get:4 http://archive.ubuntu.com/ubuntu bionic-updates/main amd64 libcairo2-dev amd64 1.15.10-2ubuntu0.1 {[}626 kB{]}'\n\\item 'Fetched 930 kB in 1s (739 kB/s)'\n\\item 'Selecting previously unselected package libcairo-script-interpreter2:amd64.\\textbackslash{}r'\n\\item '(Reading database ... \\textbackslash{}r(Reading database ... 5\\%\\textbackslash{}r(Reading database ... 10\\%\\textbackslash{}r(Reading database ... 15\\%\\textbackslash{}r(Reading database ... 20\\%\\textbackslash{}r(Reading database ... 25\\%\\textbackslash{}r(Reading database ... 30\\%\\textbackslash{}r(Reading database ... 35\\%\\textbackslash{}r(Reading database ... 40\\%\\textbackslash{}r(Reading database ... 45\\%\\textbackslash{}r(Reading database ... 50\\%\\textbackslash{}r(Reading database ... 55\\%\\textbackslash{}r(Reading database ... 60\\%\\textbackslash{}r(Reading database ... 65\\%\\textbackslash{}r(Reading database ... 70\\%\\textbackslash{}r(Reading database ... 75\\%\\textbackslash{}r(Reading database ... 80\\%\\textbackslash{}r(Reading database ... 85\\%\\textbackslash{}r(Reading database ... 90\\%\\textbackslash{}r(Reading database ... 95\\%\\textbackslash{}r(Reading database ... 100\\%\\textbackslash{}r(Reading database ... 146697 files and directories currently installed.)\\textbackslash{}r'\n\\item 'Preparing to unpack .../libcairo-script-interpreter2\\_1.15.10-2ubuntu0.1\\_amd64.deb ...\\textbackslash{}r'\n\\item 'Unpacking libcairo-script-interpreter2:amd64 (1.15.10-2ubuntu0.1) ...\\textbackslash{}r'\n\\item 'Selecting previously unselected package libpixman-1-dev:amd64.\\textbackslash{}r'\n\\item 'Preparing to unpack .../libpixman-1-dev\\_0.34.0-2\\_amd64.deb ...\\textbackslash{}r'\n\\item 'Unpacking libpixman-1-dev:amd64 (0.34.0-2) ...\\textbackslash{}r'\n\\item 'Selecting previously unselected package libxcb-shm0-dev:amd64.\\textbackslash{}r'\n\\item 'Preparing to unpack .../libxcb-shm0-dev\\_1.13-2\\textasciitilde{}ubuntu18.04\\_amd64.deb ...\\textbackslash{}r'\n\\item 'Unpacking libxcb-shm0-dev:amd64 (1.13-2\\textasciitilde{}ubuntu18.04) ...\\textbackslash{}r'\n\\item 'Selecting previously unselected package libcairo2-dev:amd64.\\textbackslash{}r'\n\\item 'Preparing to unpack .../libcairo2-dev\\_1.15.10-2ubuntu0.1\\_amd64.deb ...\\textbackslash{}r'\n\\item 'Unpacking libcairo2-dev:amd64 (1.15.10-2ubuntu0.1) ...\\textbackslash{}r'\n\\item 'Setting up libcairo-script-interpreter2:amd64 (1.15.10-2ubuntu0.1) ...\\textbackslash{}r'\n\\item 'Setting up libxcb-shm0-dev:amd64 (1.13-2\\textasciitilde{}ubuntu18.04) ...\\textbackslash{}r'\n\\item 'Setting up libpixman-1-dev:amd64 (0.34.0-2) ...\\textbackslash{}r'\n\\item 'Setting up libcairo2-dev:amd64 (1.15.10-2ubuntu0.1) ...\\textbackslash{}r'\n\\item 'Processing triggers for libc-bin (2.27-3ubuntu1.3) ...\\textbackslash{}r'\n\\item '/sbin/ldconfig.real: /usr/local/lib/python3.6/dist-packages/ideep4py/lib/libmkldnn.so.0 is not a symbolic link\\textbackslash{}r'\n\\item '\\textbackslash{}r'\n\\end{enumerate*}\n",
            "text/markdown": "1. 'Reading package lists...'\n2. 'Building dependency tree...'\n3. 'Reading state information...'\n4. 'The following additional packages will be installed:'\n5. <span style=white-space:pre-wrap>'  libcairo-script-interpreter2 libpixman-1-dev libxcb-shm0-dev'</span>\n6. 'Suggested packages:'\n7. <span style=white-space:pre-wrap>'  libcairo2-doc'</span>\n8. 'The following NEW packages will be installed:'\n9. <span style=white-space:pre-wrap>'  libcairo-script-interpreter2 libcairo2-dev libpixman-1-dev libxcb-shm0-dev'</span>\n10. '0 upgraded, 4 newly installed, 0 to remove and 17 not upgraded.'\n11. 'Need to get 930 kB of archives.'\n12. 'After this operation, 3,986 kB of additional disk space will be used.'\n13. 'Get:1 http://archive.ubuntu.com/ubuntu bionic-updates/main amd64 libcairo-script-interpreter2 amd64 1.15.10-2ubuntu0.1 [53.5 kB]'\n14. 'Get:2 http://archive.ubuntu.com/ubuntu bionic/main amd64 libpixman-1-dev amd64 0.34.0-2 [244 kB]'\n15. 'Get:3 http://archive.ubuntu.com/ubuntu bionic-updates/main amd64 libxcb-shm0-dev amd64 1.13-2~ubuntu18.04 [6,684 B]'\n16. 'Get:4 http://archive.ubuntu.com/ubuntu bionic-updates/main amd64 libcairo2-dev amd64 1.15.10-2ubuntu0.1 [626 kB]'\n17. 'Fetched 930 kB in 1s (739 kB/s)'\n18. 'Selecting previously unselected package libcairo-script-interpreter2:amd64.\\r'\n19. '(Reading database ... \\r(Reading database ... 5%\\r(Reading database ... 10%\\r(Reading database ... 15%\\r(Reading database ... 20%\\r(Reading database ... 25%\\r(Reading database ... 30%\\r(Reading database ... 35%\\r(Reading database ... 40%\\r(Reading database ... 45%\\r(Reading database ... 50%\\r(Reading database ... 55%\\r(Reading database ... 60%\\r(Reading database ... 65%\\r(Reading database ... 70%\\r(Reading database ... 75%\\r(Reading database ... 80%\\r(Reading database ... 85%\\r(Reading database ... 90%\\r(Reading database ... 95%\\r(Reading database ... 100%\\r(Reading database ... 146697 files and directories currently installed.)\\r'\n20. 'Preparing to unpack .../libcairo-script-interpreter2_1.15.10-2ubuntu0.1_amd64.deb ...\\r'\n21. 'Unpacking libcairo-script-interpreter2:amd64 (1.15.10-2ubuntu0.1) ...\\r'\n22. 'Selecting previously unselected package libpixman-1-dev:amd64.\\r'\n23. 'Preparing to unpack .../libpixman-1-dev_0.34.0-2_amd64.deb ...\\r'\n24. 'Unpacking libpixman-1-dev:amd64 (0.34.0-2) ...\\r'\n25. 'Selecting previously unselected package libxcb-shm0-dev:amd64.\\r'\n26. 'Preparing to unpack .../libxcb-shm0-dev_1.13-2~ubuntu18.04_amd64.deb ...\\r'\n27. 'Unpacking libxcb-shm0-dev:amd64 (1.13-2~ubuntu18.04) ...\\r'\n28. 'Selecting previously unselected package libcairo2-dev:amd64.\\r'\n29. 'Preparing to unpack .../libcairo2-dev_1.15.10-2ubuntu0.1_amd64.deb ...\\r'\n30. 'Unpacking libcairo2-dev:amd64 (1.15.10-2ubuntu0.1) ...\\r'\n31. 'Setting up libcairo-script-interpreter2:amd64 (1.15.10-2ubuntu0.1) ...\\r'\n32. 'Setting up libxcb-shm0-dev:amd64 (1.13-2~ubuntu18.04) ...\\r'\n33. 'Setting up libpixman-1-dev:amd64 (0.34.0-2) ...\\r'\n34. 'Setting up libcairo2-dev:amd64 (1.15.10-2ubuntu0.1) ...\\r'\n35. 'Processing triggers for libc-bin (2.27-3ubuntu1.3) ...\\r'\n36. '/sbin/ldconfig.real: /usr/local/lib/python3.6/dist-packages/ideep4py/lib/libmkldnn.so.0 is not a symbolic link\\r'\n37. '\\r'\n\n\n",
            "text/html": [
              "<style>\n",
              ".list-inline {list-style: none; margin:0; padding: 0}\n",
              ".list-inline>li {display: inline-block}\n",
              ".list-inline>li:not(:last-child)::after {content: \"\\00b7\"; padding: 0 .5ex}\n",
              "</style>\n",
              "<ol class=list-inline><li>'Reading package lists...'</li><li>'Building dependency tree...'</li><li>'Reading state information...'</li><li>'The following additional packages will be installed:'</li><li><span style=white-space:pre-wrap>'  libcairo-script-interpreter2 libpixman-1-dev libxcb-shm0-dev'</span></li><li>'Suggested packages:'</li><li><span style=white-space:pre-wrap>'  libcairo2-doc'</span></li><li>'The following NEW packages will be installed:'</li><li><span style=white-space:pre-wrap>'  libcairo-script-interpreter2 libcairo2-dev libpixman-1-dev libxcb-shm0-dev'</span></li><li>'0 upgraded, 4 newly installed, 0 to remove and 17 not upgraded.'</li><li>'Need to get 930 kB of archives.'</li><li>'After this operation, 3,986 kB of additional disk space will be used.'</li><li>'Get:1 http://archive.ubuntu.com/ubuntu bionic-updates/main amd64 libcairo-script-interpreter2 amd64 1.15.10-2ubuntu0.1 [53.5 kB]'</li><li>'Get:2 http://archive.ubuntu.com/ubuntu bionic/main amd64 libpixman-1-dev amd64 0.34.0-2 [244 kB]'</li><li>'Get:3 http://archive.ubuntu.com/ubuntu bionic-updates/main amd64 libxcb-shm0-dev amd64 1.13-2~ubuntu18.04 [6,684 B]'</li><li>'Get:4 http://archive.ubuntu.com/ubuntu bionic-updates/main amd64 libcairo2-dev amd64 1.15.10-2ubuntu0.1 [626 kB]'</li><li>'Fetched 930 kB in 1s (739 kB/s)'</li><li>'Selecting previously unselected package libcairo-script-interpreter2:amd64.\\r'</li><li>'(Reading database ... \\r(Reading database ... 5%\\r(Reading database ... 10%\\r(Reading database ... 15%\\r(Reading database ... 20%\\r(Reading database ... 25%\\r(Reading database ... 30%\\r(Reading database ... 35%\\r(Reading database ... 40%\\r(Reading database ... 45%\\r(Reading database ... 50%\\r(Reading database ... 55%\\r(Reading database ... 60%\\r(Reading database ... 65%\\r(Reading database ... 70%\\r(Reading database ... 75%\\r(Reading database ... 80%\\r(Reading database ... 85%\\r(Reading database ... 90%\\r(Reading database ... 95%\\r(Reading database ... 100%\\r(Reading database ... 146697 files and directories currently installed.)\\r'</li><li>'Preparing to unpack .../libcairo-script-interpreter2_1.15.10-2ubuntu0.1_amd64.deb ...\\r'</li><li>'Unpacking libcairo-script-interpreter2:amd64 (1.15.10-2ubuntu0.1) ...\\r'</li><li>'Selecting previously unselected package libpixman-1-dev:amd64.\\r'</li><li>'Preparing to unpack .../libpixman-1-dev_0.34.0-2_amd64.deb ...\\r'</li><li>'Unpacking libpixman-1-dev:amd64 (0.34.0-2) ...\\r'</li><li>'Selecting previously unselected package libxcb-shm0-dev:amd64.\\r'</li><li>'Preparing to unpack .../libxcb-shm0-dev_1.13-2~ubuntu18.04_amd64.deb ...\\r'</li><li>'Unpacking libxcb-shm0-dev:amd64 (1.13-2~ubuntu18.04) ...\\r'</li><li>'Selecting previously unselected package libcairo2-dev:amd64.\\r'</li><li>'Preparing to unpack .../libcairo2-dev_1.15.10-2ubuntu0.1_amd64.deb ...\\r'</li><li>'Unpacking libcairo2-dev:amd64 (1.15.10-2ubuntu0.1) ...\\r'</li><li>'Setting up libcairo-script-interpreter2:amd64 (1.15.10-2ubuntu0.1) ...\\r'</li><li>'Setting up libxcb-shm0-dev:amd64 (1.13-2~ubuntu18.04) ...\\r'</li><li>'Setting up libpixman-1-dev:amd64 (0.34.0-2) ...\\r'</li><li>'Setting up libcairo2-dev:amd64 (1.15.10-2ubuntu0.1) ...\\r'</li><li>'Processing triggers for libc-bin (2.27-3ubuntu1.3) ...\\r'</li><li>'/sbin/ldconfig.real: /usr/local/lib/python3.6/dist-packages/ideep4py/lib/libmkldnn.so.0 is not a symbolic link\\r'</li><li>'\\r'</li></ol>\n"
            ]
          },
          "metadata": {
            "tags": []
          }
        }
      ]
    },
    {
      "cell_type": "code",
      "metadata": {
        "id": "b4lXIkzUZ7Y7"
      },
      "source": [
        "system('apt-get install libudunits2-dev') # required by R package 'units'"
      ],
      "execution_count": null,
      "outputs": []
    },
    {
      "cell_type": "code",
      "metadata": {
        "id": "79C0wR0SbLHP"
      },
      "source": [
        "system('apt-get install -y libgdal-dev libgeos-dev libproj-dev') # required by R package sf"
      ],
      "execution_count": null,
      "outputs": []
    },
    {
      "cell_type": "markdown",
      "metadata": {
        "id": "wFuTF2MUEiAk"
      },
      "source": [
        "### Install R packages"
      ]
    },
    {
      "cell_type": "code",
      "metadata": {
        "id": "ExKtFfHyaLza",
        "colab": {
          "base_uri": "https://localhost:8080/"
        },
        "outputId": "f0eeffaf-88f9-48a8-d501-97386af94d17"
      },
      "source": [
        "install.packages('BiocManager')"
      ],
      "execution_count": null,
      "outputs": [
        {
          "output_type": "stream",
          "text": [
            "Installing package into ‘/usr/local/lib/R/site-library’\n",
            "(as ‘lib’ is unspecified)\n",
            "\n"
          ],
          "name": "stderr"
        }
      ]
    },
    {
      "cell_type": "code",
      "metadata": {
        "id": "4p92tnHMaNwu"
      },
      "source": [
        "required_packages <- c(\n",
        "  'devtools',\n",
        "  'ggplot2', 'circlize', 'ComplexHeatmap',\n",
        "  'TxDb.Mmusculus.UCSC.mm10.knownGene',\n",
        "  'BiocGenerics', 'DelayedArray', 'DelayedMatrixStats', 'limma', 'S4Vectors', 'SingleCellExperiment', 'SummarizedExperiment', 'batchelor', 'Matrix.utils', 'units', 'sf' # required by Monocle3\n",
        "  , 'org.Mm.eg.db', 'CHIPseeker', 'clusterProfiler', 'ggplot2', 'tidyr', \n",
        "  'biomaRt', 'GO.db','biomaRt', 'ReactomePA', 'ggnewscale',\n",
        "  'GO.db' \n",
        ")"
      ],
      "execution_count": null,
      "outputs": []
    },
    {
      "cell_type": "code",
      "metadata": {
        "id": "FDu62M5JFJZt",
        "colab": {
          "base_uri": "https://localhost:8080/"
        },
        "outputId": "3c0f26a6-25a6-4c21-9121-1684786652a8"
      },
      "source": [
        "missing_packages <- required_packages[!required_packages %in% rownames(installed.packages())]\n",
        "if (length(missing_packages) > 0){\n",
        "    BiocManager::install(missing_packages)\n",
        "}"
      ],
      "execution_count": null,
      "outputs": [
        {
          "output_type": "stream",
          "text": [
            "Bioconductor version 3.12 (BiocManager 1.30.10), R 4.0.3 (2020-10-10)\n",
            "\n",
            "Installing package(s) 'BiocVersion', 'circlize', 'ComplexHeatmap',\n",
            "  'TxDb.Mmusculus.UCSC.mm10.knownGene', 'BiocGenerics', 'DelayedArray',\n",
            "  'DelayedMatrixStats', 'limma', 'S4Vectors', 'SingleCellExperiment',\n",
            "  'SummarizedExperiment', 'batchelor', 'Matrix.utils', 'units', 'sf',\n",
            "  'org.Mm.eg.db', 'CHIPseeker', 'clusterProfiler', 'biomaRt', 'GO.db',\n",
            "  'ReactomePA', 'ggnewscale'\n",
            "\n",
            "Warning message:\n",
            "“package ‘CHIPseeker’ is not available for this version of R\n",
            "\n",
            "A version of this package for your version of R might be available elsewhere,\n",
            "see the ideas at\n",
            "https://cran.r-project.org/doc/manuals/r-patched/R-admin.html#Installing-packages”\n",
            "Warning message:\n",
            "“Perhaps you meant ‘ChIPseeker’ ?”\n",
            "also installing the dependencies ‘bit’, ‘Rhtslib’, ‘formatR’, ‘bit64’, ‘plogr’, ‘bitops’, ‘zlibbioc’, ‘Rsamtools’, ‘GenomicAlignments’, ‘rhdf5filters’, ‘lambda.r’, ‘futile.options’, ‘data.table’, ‘gridExtra’, ‘fastmatch’, ‘tweenr’, ‘polyclip’, ‘RcppEigen’, ‘RcppArmadillo’, ‘rjson’, ‘RSQLite’, ‘RCurl’, ‘XVector’, ‘Biostrings’, ‘rtracklayer’, ‘rhdf5’, ‘Rhdf5lib’, ‘futile.logger’, ‘snow’, ‘GenomeInfoDbData’, ‘RcppHNSW’, ‘irlba’, ‘rsvd’, ‘beachmat’, ‘e1071’, ‘DO.db’, ‘fgsea’, ‘reshape2’, ‘cowplot’, ‘scatterpie’, ‘shadowtext’, ‘ggforce’, ‘ggrepel’, ‘viridis’, ‘tidygraph’, ‘graphlayouts’, ‘checkmate’, ‘graph’, ‘GlobalOptions’, ‘shape’, ‘GetoptLong’, ‘clue’, ‘png’, ‘Cairo’, ‘IRanges’, ‘matrixStats’, ‘GenomicFeatures’, ‘AnnotationDbi’, ‘MatrixGenerics’, ‘sparseMatrixStats’, ‘HDF5Array’, ‘BiocParallel’, ‘GenomicRanges’, ‘Biobase’, ‘GenomeInfoDb’, ‘igraph’, ‘BiocNeighbors’, ‘BiocSingular’, ‘scuttle’, ‘ResidualMatrix’, ‘grr’, ‘classInt’, ‘downloader’, ‘DOSE’, ‘enrichplot’, ‘GOSemSim’, ‘plyr’, ‘qvalue’, ‘rvcheck’, ‘XML’, ‘BiocFileCache’, ‘ggraph’, ‘reactome.db’, ‘graphite’\n",
            "\n",
            "\n"
          ],
          "name": "stderr"
        }
      ]
    },
    {
      "cell_type": "markdown",
      "metadata": {
        "id": "JV2N0ehhUtZm"
      },
      "source": [
        "### Install Monocle3 from github"
      ]
    },
    {
      "cell_type": "code",
      "metadata": {
        "id": "p9iI0Qk5Usy7"
      },
      "source": [
        "devtools::install_github('cole-trapnell-lab/leidenbase', force = TRUE)"
      ],
      "execution_count": null,
      "outputs": []
    },
    {
      "cell_type": "code",
      "metadata": {
        "id": "5wvdFRBIYslA"
      },
      "source": [
        "devtools::install_github('cole-trapnell-lab/monocle3', force = TRUE)"
      ],
      "execution_count": null,
      "outputs": []
    },
    {
      "cell_type": "markdown",
      "metadata": {
        "id": "h4yfGJcsobW0"
      },
      "source": [
        "### Load R packages"
      ]
    },
    {
      "cell_type": "code",
      "metadata": {
        "id": "8zaZgK-MxBHG"
      },
      "source": [
        "library(devtools)"
      ],
      "execution_count": null,
      "outputs": []
    },
    {
      "cell_type": "code",
      "metadata": {
        "id": "nQFQk04TzjFj"
      },
      "source": [
        "library(SummarizedExperiment)\n",
        "library(RColorBrewer)\n",
        "library(monocle3)\n",
        "library(dplyr)\n",
        "library(ggplot2)\n",
        "library(Matrix)\n",
        "library(circlize)\n",
        "library(igraph)\n",
        "library(ComplexHeatmap)\n",
        "library(org.Mm.eg.db)\n",
        "library(TxDb.Mmusculus.UCSC.mm10.knownGene)\n",
        "library(clusterProfiler)\n",
        "library(ggplot2)\n",
        "library(tidyr)\n",
        "library(biomaRt)\n",
        "library(Matrix)\n",
        "library(GO.db)\n",
        "library(matrixStats)\n",
        "library(ComplexHeatmap)\n",
        "library(stringr)\n",
        "library(DOSE)\n",
        "library(ReactomePA)\n",
        "library(ggnewscale)\n",
        "library(GOSemSim)\n",
        "library(enrichplot)"
      ],
      "execution_count": null,
      "outputs": []
    },
    {
      "cell_type": "markdown",
      "metadata": {
        "id": "X7jl3EBdW22C"
      },
      "source": [
        "## Load processed scRNA-seq data"
      ]
    },
    {
      "cell_type": "code",
      "metadata": {
        "id": "KIXgDtzKj1I7"
      },
      "source": [
        "remote_rds_file <- 'https://s3.msi.umn.edu/gongx030/etv2_pioneer/data/processed_Etv2_scRNAseq.rds'\n",
        "system(sprintf('wget -x -c -nH %s', remote_rds_file))"
      ],
      "execution_count": null,
      "outputs": []
    },
    {
      "cell_type": "code",
      "metadata": {
        "id": "ojuU1ngisM0z"
      },
      "source": [
        "local_rds_file <- gsub('https://s3.msi.umn.edu/', './', remote_rds_file)\n",
        "se <- readRDS(local_rds_file)\n",
        "table(colData(se)$group)"
      ],
      "execution_count": null,
      "outputs": []
    },
    {
      "cell_type": "markdown",
      "metadata": {
        "id": "apmAcUhlkrJL"
      },
      "source": [
        "## Subset the cells from MEF and D1"
      ]
    },
    {
      "cell_type": "code",
      "metadata": {
        "id": "tvifFjy7kqMN"
      },
      "source": [
        "se <- se[, colData(se)$group %in% c('MEF_NoDox', 'MEF_Dox_D1')]"
      ],
      "execution_count": null,
      "outputs": []
    },
    {
      "cell_type": "code",
      "metadata": {
        "id": "YWNvwPm2k-5I"
      },
      "source": [
        "table(colData(se)$group)"
      ],
      "execution_count": null,
      "outputs": []
    },
    {
      "cell_type": "markdown",
      "metadata": {
        "id": "Z40Gu-PttQSy"
      },
      "source": [
        "## Trajectory analysis"
      ]
    },
    {
      "cell_type": "code",
      "metadata": {
        "id": "3MfL29DYurAV"
      },
      "source": [
        "num_pca_dim <- 50L\n",
        "min_expr_cells <- 10L\n",
        "k_neighbors <- 200L"
      ],
      "execution_count": null,
      "outputs": []
    },
    {
      "cell_type": "code",
      "metadata": {
        "id": "FCBYQDmHtxiE"
      },
      "source": [
        "counts <- assays(se)$counts\n",
        "cell_metadata <- colData(se)\n",
        "colnames(counts) <- 1:ncol(counts)\n",
        "rownames(cell_metadata) <- 1:ncol(counts)\n",
        "gene_metadata <- rowData(se)\n",
        "rownames(counts) <- gene_metadata[, 'name']\n",
        "rownames(gene_metadata) <- gene_metadata[, 'name']\n",
        "gene_metadata$gene_short_name <- gene_metadata[, 'name']"
      ],
      "execution_count": null,
      "outputs": []
    },
    {
      "cell_type": "code",
      "metadata": {
        "id": "Ze5FgyEG25A8"
      },
      "source": [
        "x <- new_cell_data_set(counts, cell_metadata = cell_metadata, gene_metadata = gene_metadata)"
      ],
      "execution_count": null,
      "outputs": []
    },
    {
      "cell_type": "code",
      "metadata": {
        "id": "bpIITD9Nu10P"
      },
      "source": [
        "x <- x[rowSums(assays(x)$counts > 0) >= min_expr_cells, ]"
      ],
      "execution_count": null,
      "outputs": []
    },
    {
      "cell_type": "code",
      "metadata": {
        "id": "5CFsdJoiXvhl"
      },
      "source": [
        "x <- preprocess_cds(x, method = 'PCA', num_dim = num_pca_dim)"
      ],
      "execution_count": null,
      "outputs": []
    },
    {
      "cell_type": "code",
      "metadata": {
        "id": "92LfQkdAul1Q"
      },
      "source": [
        "x <- reduce_dimension(x, reduction_method = 'UMAP', verbose = TRUE, cores = 2L)"
      ],
      "execution_count": null,
      "outputs": []
    },
    {
      "cell_type": "code",
      "metadata": {
        "id": "EEhWe5tjupIp"
      },
      "source": [
        "x <- cluster_cells(x, reduction_method = 'UMAP', k = k_neighbors)"
      ],
      "execution_count": null,
      "outputs": []
    },
    {
      "cell_type": "code",
      "metadata": {
        "id": "AYOSUA-6vmVc"
      },
      "source": [
        "x <- learn_graph(x, use_partition = FALSE)"
      ],
      "execution_count": null,
      "outputs": []
    },
    {
      "cell_type": "code",
      "metadata": {
        "id": "YvWASSjsEwew"
      },
      "source": [
        "x"
      ],
      "execution_count": null,
      "outputs": []
    },
    {
      "cell_type": "markdown",
      "metadata": {
        "id": "dB3mu5ATpb3S"
      },
      "source": [
        "## Plot the trajectories"
      ]
    },
    {
      "cell_type": "code",
      "metadata": {
        "id": "ehvF1tSWUe3_"
      },
      "source": [
        "options(repr.plot.width = 8, repr.plot.height = 6)\n",
        "plot_cells(\n",
        "  x, \n",
        "  label_groups_by_cluster = FALSE,  \n",
        "  color_cells_by = \"group\", \n",
        "  group_label_size = 4,\n",
        "  show_trajectory_graph = TRUE,\n",
        "  label_cell_groups = FALSE,\n",
        "  label_roots = FALSE,\n",
        "  label_leaves = FALSE,\n",
        "  label_branch_points = FALSE,\n",
        "  trajectory_graph_segment_size = 0.5,\n",
        "  cell_size = 1,\n",
        ") + scale_color_manual(\n",
        "    values = c(\n",
        "      \"MEF_NoDox\" = \"lightgreen\", \n",
        "      \"MEF_Dox_D1\" = \"lightblue\"\n",
        "    ),\n",
        "    name = 'group'\n",
        "  ) +\n",
        "  theme_bw() +\n",
        "  theme(panel.grid.major = element_blank(), panel.grid.minor = element_blank())"
      ],
      "execution_count": null,
      "outputs": []
    },
    {
      "cell_type": "markdown",
      "metadata": {
        "id": "NVJKQPdwVL4_"
      },
      "source": [
        "## Determine the center vertices of each cell type"
      ]
    },
    {
      "cell_type": "code",
      "metadata": {
        "id": "qyxTtrHKVHUz"
      },
      "source": [
        "groups <- unique(colData(x)$group)\n",
        "CT <- sparseMatrix(\n",
        "  i = 1:ncol(x),\n",
        "  j = as.numeric(factor(colData(x)$group, groups)),\n",
        "  dims = c(ncol(x), length(groups)),\n",
        "  dimnames = list(NULL, groups)\n",
        ") # cell id ~ cell type"
      ],
      "execution_count": null,
      "outputs": []
    },
    {
      "cell_type": "code",
      "metadata": {
        "id": "aCq31JNkJu9h"
      },
      "source": [
        "CV <- sparseMatrix(\n",
        "  i = 1:ncol(x),\n",
        "  j = x@principal_graph_aux[[\"UMAP\"]]$pr_graph_cell_proj_closest_vertex,\n",
        "  dims = c(ncol(x), max(x@principal_graph_aux[[\"UMAP\"]]$pr_graph_cell_proj_closest_vertex))\n",
        ") # cell ~ vertex"
      ],
      "execution_count": null,
      "outputs": []
    },
    {
      "cell_type": "code",
      "metadata": {
        "id": "zdu4dR1fKACz"
      },
      "source": [
        "VT <- as(t(CV), 'dgCMatrix') %*% CT # vertex ~ cell type"
      ],
      "execution_count": null,
      "outputs": []
    },
    {
      "cell_type": "code",
      "metadata": {
        "id": "MhRBzcXY1aIZ"
      },
      "source": [
        "C1_center <- order(VT[, 'MEF_Dox_D1'], decreasing = TRUE)[1]\n",
        "x <- order_cells(x, root_pr_nodes = sprintf('Y_%d', C1_center))\n",
        "options(repr.plot.width = 8, repr.plot.height = 6)\n",
        "plot_cells(\n",
        "  x,\n",
        "  color_cells_by = \"pseudotime\",\n",
        "  label_cell_groups=FALSE,\n",
        "  label_leaves=FALSE,\n",
        "  label_branch_points=FALSE,\n",
        "  graph_label_size=1.5\n",
        ")"
      ],
      "execution_count": null,
      "outputs": []
    },
    {
      "cell_type": "code",
      "metadata": {
        "id": "U4lpILul11t7"
      },
      "source": [
        "C2_center <- order(VT[, 'MEF_Dox_D1'], decreasing = TRUE)[2]\n",
        "x <- order_cells(x, root_pr_nodes = sprintf('Y_%d', C2_center))\n",
        "options(repr.plot.width = 8, repr.plot.height = 6)\n",
        "plot_cells(\n",
        "  x,\n",
        "  color_cells_by = \"pseudotime\",\n",
        "  label_cell_groups=FALSE,\n",
        "  label_leaves=FALSE,\n",
        "  label_branch_points=FALSE,\n",
        "  graph_label_size=1.5\n",
        ")"
      ],
      "execution_count": null,
      "outputs": []
    },
    {
      "cell_type": "markdown",
      "metadata": {
        "id": "ZuvbZz8LRgX5"
      },
      "source": [
        "## Find the shortest pathway between cell types"
      ]
    },
    {
      "cell_type": "code",
      "metadata": {
        "id": "VchLeEKBQ4jx"
      },
      "source": [
        "graph <- x@principal_graph_aux[[\"UMAP\"]]$stree %>% \n",
        "  graph.adjacency() # graph of vertices only"
      ],
      "execution_count": null,
      "outputs": []
    },
    {
      "cell_type": "code",
      "metadata": {
        "id": "OV7CwYNOSjxw"
      },
      "source": [
        "path <- shortest_paths(graph, from = C1_center, to = C2_center)$vpath[[1]] %>%\n",
        "  as.numeric()"
      ],
      "execution_count": null,
      "outputs": []
    },
    {
      "cell_type": "markdown",
      "metadata": {
        "id": "sg4IDYeBtpWm"
      },
      "source": [
        "Remove the vertices that have no associated cells"
      ]
    },
    {
      "cell_type": "code",
      "metadata": {
        "id": "7Bo_-zNXtozD"
      },
      "source": [
        "path <- path[colSums(CV[, path] ) > 0]"
      ],
      "execution_count": null,
      "outputs": []
    },
    {
      "cell_type": "markdown",
      "metadata": {
        "id": "NZK0m0FbZJAT"
      },
      "source": [
        "## Calculate the aggregated normalized counts for each vertex along the path"
      ]
    },
    {
      "cell_type": "code",
      "metadata": {
        "id": "iAz-GVX4jpsr"
      },
      "source": [
        "x_path <- log(assays(x)$counts + 1) %*% CV[, path] %*% Diagonal(x = 1 / (colSums(CV[, path]) +1 ))"
      ],
      "execution_count": null,
      "outputs": []
    },
    {
      "cell_type": "markdown",
      "metadata": {
        "id": "MXEIbaQ6ZGHe"
      },
      "source": [
        "## Find the genes that are significantly up-regulated in each of three trajectories"
      ]
    },
    {
      "cell_type": "code",
      "metadata": {
        "id": "AFSUWzKWlHv7"
      },
      "source": [
        "res <- do.call('rbind', lapply(1:nrow(x_path), function(i){\n",
        "  mod <- lm(\n",
        "    y ~ pseudotime, \n",
        "    data.frame(\n",
        "      y = x_path[i, ],\n",
        "      pseudotime = 1:ncol(x_path)\n",
        "    )\n",
        "  )\n",
        "  coef(summary(mod))[2, c(1, 4)]\n",
        "}))"
      ],
      "execution_count": null,
      "outputs": []
    },
    {
      "cell_type": "code",
      "metadata": {
        "id": "sMMvPOX-mhe-"
      },
      "source": [
        "rownames(res) <- rownames(x_path)"
      ],
      "execution_count": null,
      "outputs": []
    },
    {
      "cell_type": "code",
      "metadata": {
        "id": "mbLu4pyAm_iv"
      },
      "source": [
        "res_top <- res %>% \n",
        "  as.data.frame() %>%\n",
        "  filter(Estimate > 0) %>%\n",
        "  arrange(`Pr(>|t|)`) %>% \n",
        "  head(10)\n",
        "res_top"
      ],
      "execution_count": null,
      "outputs": []
    },
    {
      "cell_type": "code",
      "metadata": {
        "id": "q65aSoEd5Cvb"
      },
      "source": [
        "res_bottom <- res %>% \n",
        "  as.data.frame() %>%\n",
        "  filter(Estimate < 0) %>%\n",
        "  arrange(`Pr(>|t|)`) %>% \n",
        "  head(10)\n",
        "res_bottom"
      ],
      "execution_count": null,
      "outputs": []
    },
    {
      "cell_type": "code",
      "metadata": {
        "id": "CbMpvbl1rrNG"
      },
      "source": [
        "y <- x_path[c(rownames(res_top), rownames(res_bottom), 'Kdr'), ] %>% \n",
        "  as.matrix() %>% \n",
        "  t() %>%\n",
        "  scale() %>%\n",
        "  t()"
      ],
      "execution_count": null,
      "outputs": []
    },
    {
      "cell_type": "code",
      "metadata": {
        "id": "RQnvrErVsKGt"
      },
      "source": [
        "options(repr.plot.width = 10, repr.plot.height = 7)\n",
        "col_fun <- colorRamp2(c(-2, 0, 2), c(\"purple\", \"black\", \"yellow\"))\n",
        "column_annotation <-  columnAnnotation(\n",
        "  group = colData(x)$group[CV[, path] %>% t() %>% max.col()],\n",
        "  col = list(\n",
        "    group = c(\n",
        "      \"MEF_NoDox\" = \"lightgreen\", \n",
        "      \"MEF_Dox_D1\" = \"lightblue\"\n",
        "    )\n",
        "  ),\n",
        "  show_legend = TRUE,\n",
        "  annotation_name_side = 'left'\n",
        ")\n",
        "Heatmap(\n",
        "  y,\n",
        "  cluster_rows = TRUE,\n",
        "  cluster_columns = FALSE,\n",
        "  show_column_dend = FALSE,\n",
        "  show_row_dend = FALSE,\n",
        "  show_column_names = FALSE,\n",
        "  show_row_names = TRUE,\n",
        "  col = col_fun,\n",
        "  row_names_gp = gpar(fontsize = 20),\n",
        "  top_annotation = column_annotation\n",
        ") "
      ],
      "execution_count": null,
      "outputs": []
    },
    {
      "cell_type": "markdown",
      "metadata": {
        "id": "mXvMXAswK-fq"
      },
      "source": [
        "## Pathway analysis"
      ]
    },
    {
      "cell_type": "code",
      "metadata": {
        "id": "Bt0S8P2Pb2jP"
      },
      "source": [
        "res_top_pathway <- res %>% \n",
        "  as.data.frame() %>%\n",
        "  filter(Estimate > 0) %>%\n",
        "  arrange(`Pr(>|t|)`) %>% \n",
        "  head(500)\n",
        "head(res_top_pathway) #Top 100 genes upregulated using the res_top filter"
      ],
      "execution_count": null,
      "outputs": []
    },
    {
      "cell_type": "code",
      "metadata": {
        "id": "TcWlk4lkK9vi",
        "colab": {
          "base_uri": "https://localhost:8080/",
          "height": 286
        },
        "outputId": "5385851b-17ae-442f-da51-359ee82507ab"
      },
      "source": [
        "res_bottom_pathway <- res %>% \n",
        "  as.data.frame() %>%\n",
        "  filter(Estimate < 0) %>%\n",
        "  arrange(`Pr(>|t|)`) %>% \n",
        "  head(500)\n",
        "head(res_bottom_pathway) ##Top 100 genes upregulated using the res_bottom filter"
      ],
      "execution_count": null,
      "outputs": [
        {
          "output_type": "display_data",
          "data": {
            "text/plain": [
              "        Estimate    Pr(>|t|)    \n",
              "Ylpm1   -0.02955021 6.458971e-15\n",
              "Prrc2c  -0.07403798 1.057186e-14\n",
              "Tmem245 -0.03952889 3.510028e-14\n",
              "Phip    -0.03582109 4.242656e-14\n",
              "Ly6e    -0.05623937 5.423112e-14\n",
              "Sypl    -0.04267287 6.627477e-14"
            ],
            "text/latex": "A data.frame: 6 × 2\n\\begin{tabular}{r|ll}\n  & Estimate & Pr(>\\textbar{}t\\textbar{})\\\\\n  & <dbl> & <dbl>\\\\\n\\hline\n\tYlpm1 & -0.02955021 & 6.458971e-15\\\\\n\tPrrc2c & -0.07403798 & 1.057186e-14\\\\\n\tTmem245 & -0.03952889 & 3.510028e-14\\\\\n\tPhip & -0.03582109 & 4.242656e-14\\\\\n\tLy6e & -0.05623937 & 5.423112e-14\\\\\n\tSypl & -0.04267287 & 6.627477e-14\\\\\n\\end{tabular}\n",
            "text/markdown": "\nA data.frame: 6 × 2\n\n| <!--/--> | Estimate &lt;dbl&gt; | Pr(&gt;|t|) &lt;dbl&gt; |\n|---|---|---|\n| Ylpm1 | -0.02955021 | 6.458971e-15 |\n| Prrc2c | -0.07403798 | 1.057186e-14 |\n| Tmem245 | -0.03952889 | 3.510028e-14 |\n| Phip | -0.03582109 | 4.242656e-14 |\n| Ly6e | -0.05623937 | 5.423112e-14 |\n| Sypl | -0.04267287 | 6.627477e-14 |\n\n",
            "text/html": [
              "<table class=\"dataframe\">\n",
              "<caption>A data.frame: 6 × 2</caption>\n",
              "<thead>\n",
              "\t<tr><th></th><th scope=col>Estimate</th><th scope=col>Pr(&gt;|t|)</th></tr>\n",
              "\t<tr><th></th><th scope=col>&lt;dbl&gt;</th><th scope=col>&lt;dbl&gt;</th></tr>\n",
              "</thead>\n",
              "<tbody>\n",
              "\t<tr><th scope=row>Ylpm1</th><td>-0.02955021</td><td>6.458971e-15</td></tr>\n",
              "\t<tr><th scope=row>Prrc2c</th><td>-0.07403798</td><td>1.057186e-14</td></tr>\n",
              "\t<tr><th scope=row>Tmem245</th><td>-0.03952889</td><td>3.510028e-14</td></tr>\n",
              "\t<tr><th scope=row>Phip</th><td>-0.03582109</td><td>4.242656e-14</td></tr>\n",
              "\t<tr><th scope=row>Ly6e</th><td>-0.05623937</td><td>5.423112e-14</td></tr>\n",
              "\t<tr><th scope=row>Sypl</th><td>-0.04267287</td><td>6.627477e-14</td></tr>\n",
              "</tbody>\n",
              "</table>\n"
            ]
          },
          "metadata": {
            "tags": []
          }
        }
      ]
    },
    {
      "cell_type": "markdown",
      "metadata": {
        "id": "woxb7DKIp2h5"
      },
      "source": [
        "### Convert Gene Symbols to Entrez ID's"
      ]
    },
    {
      "cell_type": "code",
      "metadata": {
        "id": "ISdVxuluhY5d",
        "colab": {
          "base_uri": "https://localhost:8080/",
          "height": 104
        },
        "outputId": "2ebc2ca3-6eab-40cb-a54b-b1ac0d8bb85b"
      },
      "source": [
        "symbols_top <- rownames(res_top_pathway)\n",
        "symbols_top ##gene symbols from res_top"
      ],
      "execution_count": null,
      "outputs": [
        {
          "output_type": "display_data",
          "data": {
            "text/plain": [
              "  [1] \"Psmc5\"         \"Etfb\"          \"Cops6\"         \"Cope\"         \n",
              "  [5] \"Acy1\"          \"Prmt1\"         \"Acot10\"        \"Fdps\"         \n",
              "  [9] \"Nthl1\"         \"Psmc4\"         \"Upp1\"          \"Acadvl\"       \n",
              " [13] \"Xlr\"           \"Uqcrc1\"        \"Eno3\"          \"Hspb1\"        \n",
              " [17] \"Lgals3\"        \"Yjefn3\"        \"Hspb2\"         \"Renbp\"        \n",
              " [21] \"Psmc2\"         \"Capg\"          \"Nnat\"          \"Myl7\"         \n",
              " [25] \"Isyna1\"        \"Aimp2\"         \"Naprt\"         \"Eci1\"         \n",
              " [29] \"Rpp40\"         \"Psmb6\"         \"Lce1g\"         \"Samm50\"       \n",
              " [33] \"Rogdi\"         \"Bloc1s1\"       \"Crabp1\"        \"Nup62cl\"      \n",
              " [37] \"Psmb5\"         \"Slc6a15\"       \"3830403N18Rik\" \"Ndufa9\"       \n",
              " [41] \"Ruvbl2\"        \"Lce1h\"         \"Ndufv1\"        \"Fam71f2\"      \n",
              " [45] \"Fgf13\"         \"Trim54\"        \"Dnajc17\"       \"Serpinb2\"     \n",
              " [49] \"Fahd2a\"        \"Nudt17\"        \"Fcf1\"          \"Dpysl3\"       \n",
              " [53] \"Dynap\"         \"Eno1\"          \"Phb\"           \"Aldoa\"        \n",
              " [57] \"Fam241b\"       \"Xlr3a\"         \"Nefl\"          \"Hoxb5os\"      \n",
              " [61] \"Acot13\"        \"Rasgrf1\"       \"Chaf1b\"        \"Gsta1\"        \n",
              " [65] \"Iqcd\"          \"Asl\"           \"Ngef\"          \"Gzmd\"         \n",
              " [69] \"Xlr4a\"         \"Mecr\"          \"Arl2\"          \"Asns\"         \n",
              " [73] \"Ubb\"           \"Eif3g\"         \"Spink2\"        \"Gm39473\"      \n",
              " [77] \"Gcat\"          \"Hsd17b10\"      \"Npl\"           \"3300005D01Rik\"\n",
              " [81] \"Tbcb\"          \"Ddx39\"         \"A730056A06Rik\" \"Rbm42\"        \n",
              " [85] \"Rars\"          \"Atp6v0e2\"      \"Cct5\"          \"Krt19\"        \n",
              " [89] \"1700003F12Rik\" \"Gm12415\"       \"Eno1b\"         \"Rnh1\"         \n",
              " [93] \"Taldo1\"        \"Ubl7\"          \"Apip\"          \"Igfbp6\"       \n",
              " [97] \"Rbks\"          \"Psmd4\"         \"1700012B09Rik\" \"Eif2s3y\"      "
            ],
            "text/latex": "\\begin{enumerate*}\n\\item 'Psmc5'\n\\item 'Etfb'\n\\item 'Cops6'\n\\item 'Cope'\n\\item 'Acy1'\n\\item 'Prmt1'\n\\item 'Acot10'\n\\item 'Fdps'\n\\item 'Nthl1'\n\\item 'Psmc4'\n\\item 'Upp1'\n\\item 'Acadvl'\n\\item 'Xlr'\n\\item 'Uqcrc1'\n\\item 'Eno3'\n\\item 'Hspb1'\n\\item 'Lgals3'\n\\item 'Yjefn3'\n\\item 'Hspb2'\n\\item 'Renbp'\n\\item 'Psmc2'\n\\item 'Capg'\n\\item 'Nnat'\n\\item 'Myl7'\n\\item 'Isyna1'\n\\item 'Aimp2'\n\\item 'Naprt'\n\\item 'Eci1'\n\\item 'Rpp40'\n\\item 'Psmb6'\n\\item 'Lce1g'\n\\item 'Samm50'\n\\item 'Rogdi'\n\\item 'Bloc1s1'\n\\item 'Crabp1'\n\\item 'Nup62cl'\n\\item 'Psmb5'\n\\item 'Slc6a15'\n\\item '3830403N18Rik'\n\\item 'Ndufa9'\n\\item 'Ruvbl2'\n\\item 'Lce1h'\n\\item 'Ndufv1'\n\\item 'Fam71f2'\n\\item 'Fgf13'\n\\item 'Trim54'\n\\item 'Dnajc17'\n\\item 'Serpinb2'\n\\item 'Fahd2a'\n\\item 'Nudt17'\n\\item 'Fcf1'\n\\item 'Dpysl3'\n\\item 'Dynap'\n\\item 'Eno1'\n\\item 'Phb'\n\\item 'Aldoa'\n\\item 'Fam241b'\n\\item 'Xlr3a'\n\\item 'Nefl'\n\\item 'Hoxb5os'\n\\item 'Acot13'\n\\item 'Rasgrf1'\n\\item 'Chaf1b'\n\\item 'Gsta1'\n\\item 'Iqcd'\n\\item 'Asl'\n\\item 'Ngef'\n\\item 'Gzmd'\n\\item 'Xlr4a'\n\\item 'Mecr'\n\\item 'Arl2'\n\\item 'Asns'\n\\item 'Ubb'\n\\item 'Eif3g'\n\\item 'Spink2'\n\\item 'Gm39473'\n\\item 'Gcat'\n\\item 'Hsd17b10'\n\\item 'Npl'\n\\item '3300005D01Rik'\n\\item 'Tbcb'\n\\item 'Ddx39'\n\\item 'A730056A06Rik'\n\\item 'Rbm42'\n\\item 'Rars'\n\\item 'Atp6v0e2'\n\\item 'Cct5'\n\\item 'Krt19'\n\\item '1700003F12Rik'\n\\item 'Gm12415'\n\\item 'Eno1b'\n\\item 'Rnh1'\n\\item 'Taldo1'\n\\item 'Ubl7'\n\\item 'Apip'\n\\item 'Igfbp6'\n\\item 'Rbks'\n\\item 'Psmd4'\n\\item '1700012B09Rik'\n\\item 'Eif2s3y'\n\\end{enumerate*}\n",
            "text/markdown": "1. 'Psmc5'\n2. 'Etfb'\n3. 'Cops6'\n4. 'Cope'\n5. 'Acy1'\n6. 'Prmt1'\n7. 'Acot10'\n8. 'Fdps'\n9. 'Nthl1'\n10. 'Psmc4'\n11. 'Upp1'\n12. 'Acadvl'\n13. 'Xlr'\n14. 'Uqcrc1'\n15. 'Eno3'\n16. 'Hspb1'\n17. 'Lgals3'\n18. 'Yjefn3'\n19. 'Hspb2'\n20. 'Renbp'\n21. 'Psmc2'\n22. 'Capg'\n23. 'Nnat'\n24. 'Myl7'\n25. 'Isyna1'\n26. 'Aimp2'\n27. 'Naprt'\n28. 'Eci1'\n29. 'Rpp40'\n30. 'Psmb6'\n31. 'Lce1g'\n32. 'Samm50'\n33. 'Rogdi'\n34. 'Bloc1s1'\n35. 'Crabp1'\n36. 'Nup62cl'\n37. 'Psmb5'\n38. 'Slc6a15'\n39. '3830403N18Rik'\n40. 'Ndufa9'\n41. 'Ruvbl2'\n42. 'Lce1h'\n43. 'Ndufv1'\n44. 'Fam71f2'\n45. 'Fgf13'\n46. 'Trim54'\n47. 'Dnajc17'\n48. 'Serpinb2'\n49. 'Fahd2a'\n50. 'Nudt17'\n51. 'Fcf1'\n52. 'Dpysl3'\n53. 'Dynap'\n54. 'Eno1'\n55. 'Phb'\n56. 'Aldoa'\n57. 'Fam241b'\n58. 'Xlr3a'\n59. 'Nefl'\n60. 'Hoxb5os'\n61. 'Acot13'\n62. 'Rasgrf1'\n63. 'Chaf1b'\n64. 'Gsta1'\n65. 'Iqcd'\n66. 'Asl'\n67. 'Ngef'\n68. 'Gzmd'\n69. 'Xlr4a'\n70. 'Mecr'\n71. 'Arl2'\n72. 'Asns'\n73. 'Ubb'\n74. 'Eif3g'\n75. 'Spink2'\n76. 'Gm39473'\n77. 'Gcat'\n78. 'Hsd17b10'\n79. 'Npl'\n80. '3300005D01Rik'\n81. 'Tbcb'\n82. 'Ddx39'\n83. 'A730056A06Rik'\n84. 'Rbm42'\n85. 'Rars'\n86. 'Atp6v0e2'\n87. 'Cct5'\n88. 'Krt19'\n89. '1700003F12Rik'\n90. 'Gm12415'\n91. 'Eno1b'\n92. 'Rnh1'\n93. 'Taldo1'\n94. 'Ubl7'\n95. 'Apip'\n96. 'Igfbp6'\n97. 'Rbks'\n98. 'Psmd4'\n99. '1700012B09Rik'\n100. 'Eif2s3y'\n\n\n",
            "text/html": [
              "<style>\n",
              ".list-inline {list-style: none; margin:0; padding: 0}\n",
              ".list-inline>li {display: inline-block}\n",
              ".list-inline>li:not(:last-child)::after {content: \"\\00b7\"; padding: 0 .5ex}\n",
              "</style>\n",
              "<ol class=list-inline><li>'Psmc5'</li><li>'Etfb'</li><li>'Cops6'</li><li>'Cope'</li><li>'Acy1'</li><li>'Prmt1'</li><li>'Acot10'</li><li>'Fdps'</li><li>'Nthl1'</li><li>'Psmc4'</li><li>'Upp1'</li><li>'Acadvl'</li><li>'Xlr'</li><li>'Uqcrc1'</li><li>'Eno3'</li><li>'Hspb1'</li><li>'Lgals3'</li><li>'Yjefn3'</li><li>'Hspb2'</li><li>'Renbp'</li><li>'Psmc2'</li><li>'Capg'</li><li>'Nnat'</li><li>'Myl7'</li><li>'Isyna1'</li><li>'Aimp2'</li><li>'Naprt'</li><li>'Eci1'</li><li>'Rpp40'</li><li>'Psmb6'</li><li>'Lce1g'</li><li>'Samm50'</li><li>'Rogdi'</li><li>'Bloc1s1'</li><li>'Crabp1'</li><li>'Nup62cl'</li><li>'Psmb5'</li><li>'Slc6a15'</li><li>'3830403N18Rik'</li><li>'Ndufa9'</li><li>'Ruvbl2'</li><li>'Lce1h'</li><li>'Ndufv1'</li><li>'Fam71f2'</li><li>'Fgf13'</li><li>'Trim54'</li><li>'Dnajc17'</li><li>'Serpinb2'</li><li>'Fahd2a'</li><li>'Nudt17'</li><li>'Fcf1'</li><li>'Dpysl3'</li><li>'Dynap'</li><li>'Eno1'</li><li>'Phb'</li><li>'Aldoa'</li><li>'Fam241b'</li><li>'Xlr3a'</li><li>'Nefl'</li><li>'Hoxb5os'</li><li>'Acot13'</li><li>'Rasgrf1'</li><li>'Chaf1b'</li><li>'Gsta1'</li><li>'Iqcd'</li><li>'Asl'</li><li>'Ngef'</li><li>'Gzmd'</li><li>'Xlr4a'</li><li>'Mecr'</li><li>'Arl2'</li><li>'Asns'</li><li>'Ubb'</li><li>'Eif3g'</li><li>'Spink2'</li><li>'Gm39473'</li><li>'Gcat'</li><li>'Hsd17b10'</li><li>'Npl'</li><li>'3300005D01Rik'</li><li>'Tbcb'</li><li>'Ddx39'</li><li>'A730056A06Rik'</li><li>'Rbm42'</li><li>'Rars'</li><li>'Atp6v0e2'</li><li>'Cct5'</li><li>'Krt19'</li><li>'1700003F12Rik'</li><li>'Gm12415'</li><li>'Eno1b'</li><li>'Rnh1'</li><li>'Taldo1'</li><li>'Ubl7'</li><li>'Apip'</li><li>'Igfbp6'</li><li>'Rbks'</li><li>'Psmd4'</li><li>'1700012B09Rik'</li><li>'Eif2s3y'</li></ol>\n"
            ]
          },
          "metadata": {
            "tags": []
          }
        }
      ]
    },
    {
      "cell_type": "code",
      "metadata": {
        "id": "pz9PcjaghlVe",
        "colab": {
          "base_uri": "https://localhost:8080/",
          "height": 104
        },
        "outputId": "acdc4650-9646-4030-9a65-f2ddb5010dbb"
      },
      "source": [
        "symbols_bottom <- rownames(res_bottom_pathway)\n",
        "symbols_bottom ##gene symbols from res_bottom"
      ],
      "execution_count": null,
      "outputs": [
        {
          "output_type": "display_data",
          "data": {
            "text/plain": [
              "  [1] \"Ylpm1\"         \"Prrc2c\"        \"Tmem245\"       \"Phip\"         \n",
              "  [5] \"Ly6e\"          \"Sypl\"          \"Ankrd11\"       \"Gclc\"         \n",
              "  [9] \"Zfhx4\"         \"Slc39a10\"      \"Taf1d\"         \"Ahctf1\"       \n",
              " [13] \"Acaca\"         \"Gtf3c2\"        \"Nav3\"          \"Ddost\"        \n",
              " [17] \"Prpf38b\"       \"Cpd\"           \"Mtdh\"          \"Ppm1a\"        \n",
              " [21] \"Eif2s3x\"       \"Wnk1\"          \"Elovl6\"        \"Eif4g1\"       \n",
              " [25] \"Zfp106\"        \"Heatr5a\"       \"Alyref\"        \"Gxylt1\"       \n",
              " [29] \"Tm4sf1\"        \"Tspan4\"        \"Zc3h4\"         \"Hnrnph1\"      \n",
              " [33] \"Prrc2b\"        \"Txndc5\"        \"Suz12\"         \"Eea1\"         \n",
              " [37] \"Cpsf2\"         \"Pam\"           \"Atp11c\"        \"Ccdc47\"       \n",
              " [41] \"Slc12a2\"       \"Bptf\"          \"Lztfl1\"        \"Macf1\"        \n",
              " [45] \"Mycbp2\"        \"Pabpc4\"        \"Man1a2\"        \"Ankrd26\"      \n",
              " [49] \"Smc1a\"         \"Matr3\"         \"Larp1\"         \"Asph\"         \n",
              " [53] \"Baz1b\"         \"Cep170\"        \"Amfr\"          \"Ttc14\"        \n",
              " [57] \"Mlec\"          \"Zcchc11\"       \"Dhx36\"         \"Lpgat1\"       \n",
              " [61] \"Huwe1\"         \"Hnrnpa0\"       \"Cnot6l\"        \"2610507B11Rik\"\n",
              " [65] \"Arid1a\"        \"Ppic\"          \"Rcc2\"          \"Arfgef1\"      \n",
              " [69] \"Sacs\"          \"Khsrp\"         \"Tmed9\"         \"Lpl\"          \n",
              " [73] \"Gpatch8\"       \"Purb\"          \"Gja1\"          \"Tmem30a\"      \n",
              " [77] \"Sel1l\"         \"Taf15\"         \"Uxs1\"          \"Yy1\"          \n",
              " [81] \"Rapgef6\"       \"Bcap29\"        \"Tpbg\"          \"Ktn1\"         \n",
              " [85] \"Sfpq\"          \"Tra2a\"         \"Acsl5\"         \"Ipo7\"         \n",
              " [89] \"Phf14\"         \"Polr2a\"        \"Eif4ebp2\"      \"Impad1\"       \n",
              " [93] \"Rsbn1l\"        \"Evl\"           \"Gpd2\"          \"Ptp4a2\"       \n",
              " [97] \"Usp16\"         \"Abcb1b\"        \"Cdv3\"          \"Akap1\"        "
            ],
            "text/latex": "\\begin{enumerate*}\n\\item 'Ylpm1'\n\\item 'Prrc2c'\n\\item 'Tmem245'\n\\item 'Phip'\n\\item 'Ly6e'\n\\item 'Sypl'\n\\item 'Ankrd11'\n\\item 'Gclc'\n\\item 'Zfhx4'\n\\item 'Slc39a10'\n\\item 'Taf1d'\n\\item 'Ahctf1'\n\\item 'Acaca'\n\\item 'Gtf3c2'\n\\item 'Nav3'\n\\item 'Ddost'\n\\item 'Prpf38b'\n\\item 'Cpd'\n\\item 'Mtdh'\n\\item 'Ppm1a'\n\\item 'Eif2s3x'\n\\item 'Wnk1'\n\\item 'Elovl6'\n\\item 'Eif4g1'\n\\item 'Zfp106'\n\\item 'Heatr5a'\n\\item 'Alyref'\n\\item 'Gxylt1'\n\\item 'Tm4sf1'\n\\item 'Tspan4'\n\\item 'Zc3h4'\n\\item 'Hnrnph1'\n\\item 'Prrc2b'\n\\item 'Txndc5'\n\\item 'Suz12'\n\\item 'Eea1'\n\\item 'Cpsf2'\n\\item 'Pam'\n\\item 'Atp11c'\n\\item 'Ccdc47'\n\\item 'Slc12a2'\n\\item 'Bptf'\n\\item 'Lztfl1'\n\\item 'Macf1'\n\\item 'Mycbp2'\n\\item 'Pabpc4'\n\\item 'Man1a2'\n\\item 'Ankrd26'\n\\item 'Smc1a'\n\\item 'Matr3'\n\\item 'Larp1'\n\\item 'Asph'\n\\item 'Baz1b'\n\\item 'Cep170'\n\\item 'Amfr'\n\\item 'Ttc14'\n\\item 'Mlec'\n\\item 'Zcchc11'\n\\item 'Dhx36'\n\\item 'Lpgat1'\n\\item 'Huwe1'\n\\item 'Hnrnpa0'\n\\item 'Cnot6l'\n\\item '2610507B11Rik'\n\\item 'Arid1a'\n\\item 'Ppic'\n\\item 'Rcc2'\n\\item 'Arfgef1'\n\\item 'Sacs'\n\\item 'Khsrp'\n\\item 'Tmed9'\n\\item 'Lpl'\n\\item 'Gpatch8'\n\\item 'Purb'\n\\item 'Gja1'\n\\item 'Tmem30a'\n\\item 'Sel1l'\n\\item 'Taf15'\n\\item 'Uxs1'\n\\item 'Yy1'\n\\item 'Rapgef6'\n\\item 'Bcap29'\n\\item 'Tpbg'\n\\item 'Ktn1'\n\\item 'Sfpq'\n\\item 'Tra2a'\n\\item 'Acsl5'\n\\item 'Ipo7'\n\\item 'Phf14'\n\\item 'Polr2a'\n\\item 'Eif4ebp2'\n\\item 'Impad1'\n\\item 'Rsbn1l'\n\\item 'Evl'\n\\item 'Gpd2'\n\\item 'Ptp4a2'\n\\item 'Usp16'\n\\item 'Abcb1b'\n\\item 'Cdv3'\n\\item 'Akap1'\n\\end{enumerate*}\n",
            "text/markdown": "1. 'Ylpm1'\n2. 'Prrc2c'\n3. 'Tmem245'\n4. 'Phip'\n5. 'Ly6e'\n6. 'Sypl'\n7. 'Ankrd11'\n8. 'Gclc'\n9. 'Zfhx4'\n10. 'Slc39a10'\n11. 'Taf1d'\n12. 'Ahctf1'\n13. 'Acaca'\n14. 'Gtf3c2'\n15. 'Nav3'\n16. 'Ddost'\n17. 'Prpf38b'\n18. 'Cpd'\n19. 'Mtdh'\n20. 'Ppm1a'\n21. 'Eif2s3x'\n22. 'Wnk1'\n23. 'Elovl6'\n24. 'Eif4g1'\n25. 'Zfp106'\n26. 'Heatr5a'\n27. 'Alyref'\n28. 'Gxylt1'\n29. 'Tm4sf1'\n30. 'Tspan4'\n31. 'Zc3h4'\n32. 'Hnrnph1'\n33. 'Prrc2b'\n34. 'Txndc5'\n35. 'Suz12'\n36. 'Eea1'\n37. 'Cpsf2'\n38. 'Pam'\n39. 'Atp11c'\n40. 'Ccdc47'\n41. 'Slc12a2'\n42. 'Bptf'\n43. 'Lztfl1'\n44. 'Macf1'\n45. 'Mycbp2'\n46. 'Pabpc4'\n47. 'Man1a2'\n48. 'Ankrd26'\n49. 'Smc1a'\n50. 'Matr3'\n51. 'Larp1'\n52. 'Asph'\n53. 'Baz1b'\n54. 'Cep170'\n55. 'Amfr'\n56. 'Ttc14'\n57. 'Mlec'\n58. 'Zcchc11'\n59. 'Dhx36'\n60. 'Lpgat1'\n61. 'Huwe1'\n62. 'Hnrnpa0'\n63. 'Cnot6l'\n64. '2610507B11Rik'\n65. 'Arid1a'\n66. 'Ppic'\n67. 'Rcc2'\n68. 'Arfgef1'\n69. 'Sacs'\n70. 'Khsrp'\n71. 'Tmed9'\n72. 'Lpl'\n73. 'Gpatch8'\n74. 'Purb'\n75. 'Gja1'\n76. 'Tmem30a'\n77. 'Sel1l'\n78. 'Taf15'\n79. 'Uxs1'\n80. 'Yy1'\n81. 'Rapgef6'\n82. 'Bcap29'\n83. 'Tpbg'\n84. 'Ktn1'\n85. 'Sfpq'\n86. 'Tra2a'\n87. 'Acsl5'\n88. 'Ipo7'\n89. 'Phf14'\n90. 'Polr2a'\n91. 'Eif4ebp2'\n92. 'Impad1'\n93. 'Rsbn1l'\n94. 'Evl'\n95. 'Gpd2'\n96. 'Ptp4a2'\n97. 'Usp16'\n98. 'Abcb1b'\n99. 'Cdv3'\n100. 'Akap1'\n\n\n",
            "text/html": [
              "<style>\n",
              ".list-inline {list-style: none; margin:0; padding: 0}\n",
              ".list-inline>li {display: inline-block}\n",
              ".list-inline>li:not(:last-child)::after {content: \"\\00b7\"; padding: 0 .5ex}\n",
              "</style>\n",
              "<ol class=list-inline><li>'Ylpm1'</li><li>'Prrc2c'</li><li>'Tmem245'</li><li>'Phip'</li><li>'Ly6e'</li><li>'Sypl'</li><li>'Ankrd11'</li><li>'Gclc'</li><li>'Zfhx4'</li><li>'Slc39a10'</li><li>'Taf1d'</li><li>'Ahctf1'</li><li>'Acaca'</li><li>'Gtf3c2'</li><li>'Nav3'</li><li>'Ddost'</li><li>'Prpf38b'</li><li>'Cpd'</li><li>'Mtdh'</li><li>'Ppm1a'</li><li>'Eif2s3x'</li><li>'Wnk1'</li><li>'Elovl6'</li><li>'Eif4g1'</li><li>'Zfp106'</li><li>'Heatr5a'</li><li>'Alyref'</li><li>'Gxylt1'</li><li>'Tm4sf1'</li><li>'Tspan4'</li><li>'Zc3h4'</li><li>'Hnrnph1'</li><li>'Prrc2b'</li><li>'Txndc5'</li><li>'Suz12'</li><li>'Eea1'</li><li>'Cpsf2'</li><li>'Pam'</li><li>'Atp11c'</li><li>'Ccdc47'</li><li>'Slc12a2'</li><li>'Bptf'</li><li>'Lztfl1'</li><li>'Macf1'</li><li>'Mycbp2'</li><li>'Pabpc4'</li><li>'Man1a2'</li><li>'Ankrd26'</li><li>'Smc1a'</li><li>'Matr3'</li><li>'Larp1'</li><li>'Asph'</li><li>'Baz1b'</li><li>'Cep170'</li><li>'Amfr'</li><li>'Ttc14'</li><li>'Mlec'</li><li>'Zcchc11'</li><li>'Dhx36'</li><li>'Lpgat1'</li><li>'Huwe1'</li><li>'Hnrnpa0'</li><li>'Cnot6l'</li><li>'2610507B11Rik'</li><li>'Arid1a'</li><li>'Ppic'</li><li>'Rcc2'</li><li>'Arfgef1'</li><li>'Sacs'</li><li>'Khsrp'</li><li>'Tmed9'</li><li>'Lpl'</li><li>'Gpatch8'</li><li>'Purb'</li><li>'Gja1'</li><li>'Tmem30a'</li><li>'Sel1l'</li><li>'Taf15'</li><li>'Uxs1'</li><li>'Yy1'</li><li>'Rapgef6'</li><li>'Bcap29'</li><li>'Tpbg'</li><li>'Ktn1'</li><li>'Sfpq'</li><li>'Tra2a'</li><li>'Acsl5'</li><li>'Ipo7'</li><li>'Phf14'</li><li>'Polr2a'</li><li>'Eif4ebp2'</li><li>'Impad1'</li><li>'Rsbn1l'</li><li>'Evl'</li><li>'Gpd2'</li><li>'Ptp4a2'</li><li>'Usp16'</li><li>'Abcb1b'</li><li>'Cdv3'</li><li>'Akap1'</li></ol>\n"
            ]
          },
          "metadata": {
            "tags": []
          }
        }
      ]
    },
    {
      "cell_type": "code",
      "metadata": {
        "id": "sRgZ09g-htvO",
        "colab": {
          "base_uri": "https://localhost:8080/"
        },
        "outputId": "c8a6726c-85ca-4cc2-b7b9-8032b9a1f326"
      },
      "source": [
        "top_id <- mapIds(org.Mm.eg.db, symbols_top, 'ENTREZID', 'SYMBOL') ##Converting symbols to geneID"
      ],
      "execution_count": null,
      "outputs": [
        {
          "output_type": "stream",
          "text": [
            "'select()' returned 1:1 mapping between keys and columns\n",
            "\n"
          ],
          "name": "stderr"
        }
      ]
    },
    {
      "cell_type": "code",
      "metadata": {
        "id": "pT3Tu4mah6xt",
        "colab": {
          "base_uri": "https://localhost:8080/"
        },
        "outputId": "91cdc510-1d3b-4349-bf91-0aab30416e85"
      },
      "source": [
        "bottom_id <- mapIds(org.Mm.eg.db, symbols_bottom, 'ENTREZID', 'SYMBOL')##Converting symbols to geneID"
      ],
      "execution_count": null,
      "outputs": [
        {
          "output_type": "stream",
          "text": [
            "'select()' returned 1:1 mapping between keys and columns\n",
            "\n"
          ],
          "name": "stderr"
        }
      ]
    },
    {
      "cell_type": "markdown",
      "metadata": {
        "id": "O-_8fXoLqOWY"
      },
      "source": [
        "### GO Enrichment analysis "
      ]
    },
    {
      "cell_type": "code",
      "metadata": {
        "id": "XhokDUrJiVQw"
      },
      "source": [
        "top_dat <- enrichGO(gene = top_id,\n",
        "                OrgDb         = org.Mm.eg.db,\n",
        "                ont           = \"BP\",\n",
        "                pAdjustMethod = \"BH\",\n",
        "                pvalueCutoff  = 0.05,\n",
        "                qvalueCutoff  = 0.05,\n",
        "        readable      = TRUE) #res_top over representation data"
      ],
      "execution_count": null,
      "outputs": []
    },
    {
      "cell_type": "code",
      "metadata": {
        "id": "n4pyS1TXqvuz",
        "colab": {
          "base_uri": "https://localhost:8080/",
          "height": 454
        },
        "outputId": "f6038594-6704-419c-f628-fc8456224563"
      },
      "source": [
        "top_dat"
      ],
      "execution_count": null,
      "outputs": [
        {
          "output_type": "display_data",
          "data": {
            "text/plain": [
              "#\n",
              "# over-representation test\n",
              "#\n",
              "#...@organism \t Mus musculus \n",
              "#...@ontology \t BP \n",
              "#...@keytype \t ENTREZID \n",
              "#...@gene \t chr [1:100] \"19184\" \"110826\" \"26893\" \"59042\" \"109652\" \"15469\" \"64833\" ...\n",
              "#...pvalues adjusted by 'BH' with cutoff <0.05 \n",
              "#...28 enriched terms found\n",
              "'data.frame':\t28 obs. of  9 variables:\n",
              " $ ID         : chr  \"GO:0045899\" \"GO:0045898\" \"GO:0016054\" \"GO:0046395\" ...\n",
              " $ Description: chr  \"positive regulation of RNA polymerase II transcription preinitiation complex assembly\" \"regulation of RNA polymerase II transcription preinitiation complex assembly\" \"organic acid catabolic process\" \"carboxylic acid catabolic process\" ...\n",
              " $ GeneRatio  : chr  \"3/91\" \"3/91\" \"7/91\" \"7/91\" ...\n",
              " $ BgRatio    : chr  \"12/23328\" \"14/23328\" \"223/23328\" \"223/23328\" ...\n",
              " $ pvalue     : num  1.23e-05 2.03e-05 2.72e-05 2.72e-05 3.64e-05 ...\n",
              " $ p.adjust   : num  0.00823 0.00823 0.00823 0.00823 0.0088 ...\n",
              " $ qvalue     : num  0.00727 0.00727 0.00727 0.00727 0.00777 ...\n",
              " $ geneID     : chr  \"Psmc5/Psmc4/Psmc2\" \"Psmc5/Psmc4/Psmc2\" \"Etfb/Acadvl/Renbp/Eci1/Crabp1/Gcat/Npl\" \"Etfb/Acadvl/Renbp/Eci1/Crabp1/Gcat/Npl\" ...\n",
              " $ Count      : int  3 3 7 7 8 3 8 3 8 8 ...\n",
              "#...Citation\n",
              "  Guangchuang Yu, Li-Gen Wang, Yanyan Han and Qing-Yu He.\n",
              "  clusterProfiler: an R package for comparing biological themes among\n",
              "  gene clusters. OMICS: A Journal of Integrative Biology\n",
              "  2012, 16(5):284-287 \n"
            ]
          },
          "metadata": {
            "tags": []
          }
        }
      ]
    },
    {
      "cell_type": "code",
      "metadata": {
        "id": "N53EZ9dliuA8",
        "colab": {
          "base_uri": "https://localhost:8080/",
          "height": 156
        },
        "outputId": "9c874476-6af5-4aff-99c5-3b00f822ca27"
      },
      "source": [
        "top_dat$Description"
      ],
      "execution_count": null,
      "outputs": [
        {
          "output_type": "display_data",
          "data": {
            "text/plain": [
              " [1] \"positive regulation of RNA polymerase II transcription preinitiation complex assembly\"\n",
              " [2] \"regulation of RNA polymerase II transcription preinitiation complex assembly\"         \n",
              " [3] \"organic acid catabolic process\"                                                       \n",
              " [4] \"carboxylic acid catabolic process\"                                                    \n",
              " [5] \"small molecule catabolic process\"                                                     \n",
              " [6] \"RNA polymerase II preinitiation complex assembly\"                                     \n",
              " [7] \"generation of precursor metabolites and energy\"                                       \n",
              " [8] \"transcription preinitiation complex assembly\"                                         \n",
              " [9] \"nucleotide metabolic process\"                                                         \n",
              "[10] \"nucleoside phosphate metabolic process\"                                               \n",
              "[11] \"positive regulation of transcription initiation from RNA polymerase II promoter\"      \n",
              "[12] \"aspartate family amino acid metabolic process\"                                        \n",
              "[13] \"cellular amino acid metabolic process\"                                                \n",
              "[14] \"glycolytic process\"                                                                   \n",
              "[15] \"ATP metabolic process\"                                                                \n",
              "[16] \"ATP generation from ADP\"                                                              \n",
              "[17] \"regulation of transcription initiation from RNA polymerase II promoter\"               \n",
              "[18] \"ADP metabolic process\"                                                                \n",
              "[19] \"positive regulation of DNA-templated transcription, initiation\"                       \n",
              "[20] \"purine nucleoside diphosphate metabolic process\"                                      \n",
              "[21] \"purine ribonucleoside diphosphate metabolic process\"                                  \n",
              "[22] \"nucleoside diphosphate phosphorylation\"                                               \n",
              "[23] \"N-acetylneuraminate metabolic process\"                                                \n",
              "[24] \"fatty acid beta-oxidation using acyl-CoA dehydrogenase\"                               \n",
              "[25] \"ribonucleoside diphosphate metabolic process\"                                         \n",
              "[26] \"nucleotide phosphorylation\"                                                           \n",
              "[27] \"anterograde axonal transport\"                                                         \n",
              "[28] \"regulation of DNA-templated transcription, initiation\"                                "
            ],
            "text/latex": "\\begin{enumerate*}\n\\item 'positive regulation of RNA polymerase II transcription preinitiation complex assembly'\n\\item 'regulation of RNA polymerase II transcription preinitiation complex assembly'\n\\item 'organic acid catabolic process'\n\\item 'carboxylic acid catabolic process'\n\\item 'small molecule catabolic process'\n\\item 'RNA polymerase II preinitiation complex assembly'\n\\item 'generation of precursor metabolites and energy'\n\\item 'transcription preinitiation complex assembly'\n\\item 'nucleotide metabolic process'\n\\item 'nucleoside phosphate metabolic process'\n\\item 'positive regulation of transcription initiation from RNA polymerase II promoter'\n\\item 'aspartate family amino acid metabolic process'\n\\item 'cellular amino acid metabolic process'\n\\item 'glycolytic process'\n\\item 'ATP metabolic process'\n\\item 'ATP generation from ADP'\n\\item 'regulation of transcription initiation from RNA polymerase II promoter'\n\\item 'ADP metabolic process'\n\\item 'positive regulation of DNA-templated transcription, initiation'\n\\item 'purine nucleoside diphosphate metabolic process'\n\\item 'purine ribonucleoside diphosphate metabolic process'\n\\item 'nucleoside diphosphate phosphorylation'\n\\item 'N-acetylneuraminate metabolic process'\n\\item 'fatty acid beta-oxidation using acyl-CoA dehydrogenase'\n\\item 'ribonucleoside diphosphate metabolic process'\n\\item 'nucleotide phosphorylation'\n\\item 'anterograde axonal transport'\n\\item 'regulation of DNA-templated transcription, initiation'\n\\end{enumerate*}\n",
            "text/markdown": "1. 'positive regulation of RNA polymerase II transcription preinitiation complex assembly'\n2. 'regulation of RNA polymerase II transcription preinitiation complex assembly'\n3. 'organic acid catabolic process'\n4. 'carboxylic acid catabolic process'\n5. 'small molecule catabolic process'\n6. 'RNA polymerase II preinitiation complex assembly'\n7. 'generation of precursor metabolites and energy'\n8. 'transcription preinitiation complex assembly'\n9. 'nucleotide metabolic process'\n10. 'nucleoside phosphate metabolic process'\n11. 'positive regulation of transcription initiation from RNA polymerase II promoter'\n12. 'aspartate family amino acid metabolic process'\n13. 'cellular amino acid metabolic process'\n14. 'glycolytic process'\n15. 'ATP metabolic process'\n16. 'ATP generation from ADP'\n17. 'regulation of transcription initiation from RNA polymerase II promoter'\n18. 'ADP metabolic process'\n19. 'positive regulation of DNA-templated transcription, initiation'\n20. 'purine nucleoside diphosphate metabolic process'\n21. 'purine ribonucleoside diphosphate metabolic process'\n22. 'nucleoside diphosphate phosphorylation'\n23. 'N-acetylneuraminate metabolic process'\n24. 'fatty acid beta-oxidation using acyl-CoA dehydrogenase'\n25. 'ribonucleoside diphosphate metabolic process'\n26. 'nucleotide phosphorylation'\n27. 'anterograde axonal transport'\n28. 'regulation of DNA-templated transcription, initiation'\n\n\n",
            "text/html": [
              "<style>\n",
              ".list-inline {list-style: none; margin:0; padding: 0}\n",
              ".list-inline>li {display: inline-block}\n",
              ".list-inline>li:not(:last-child)::after {content: \"\\00b7\"; padding: 0 .5ex}\n",
              "</style>\n",
              "<ol class=list-inline><li>'positive regulation of RNA polymerase II transcription preinitiation complex assembly'</li><li>'regulation of RNA polymerase II transcription preinitiation complex assembly'</li><li>'organic acid catabolic process'</li><li>'carboxylic acid catabolic process'</li><li>'small molecule catabolic process'</li><li>'RNA polymerase II preinitiation complex assembly'</li><li>'generation of precursor metabolites and energy'</li><li>'transcription preinitiation complex assembly'</li><li>'nucleotide metabolic process'</li><li>'nucleoside phosphate metabolic process'</li><li>'positive regulation of transcription initiation from RNA polymerase II promoter'</li><li>'aspartate family amino acid metabolic process'</li><li>'cellular amino acid metabolic process'</li><li>'glycolytic process'</li><li>'ATP metabolic process'</li><li>'ATP generation from ADP'</li><li>'regulation of transcription initiation from RNA polymerase II promoter'</li><li>'ADP metabolic process'</li><li>'positive regulation of DNA-templated transcription, initiation'</li><li>'purine nucleoside diphosphate metabolic process'</li><li>'purine ribonucleoside diphosphate metabolic process'</li><li>'nucleoside diphosphate phosphorylation'</li><li>'N-acetylneuraminate metabolic process'</li><li>'fatty acid beta-oxidation using acyl-CoA dehydrogenase'</li><li>'ribonucleoside diphosphate metabolic process'</li><li>'nucleotide phosphorylation'</li><li>'anterograde axonal transport'</li><li>'regulation of DNA-templated transcription, initiation'</li></ol>\n"
            ]
          },
          "metadata": {
            "tags": []
          }
        }
      ]
    },
    {
      "cell_type": "code",
      "metadata": {
        "id": "bJ-lxRzYi3Pc"
      },
      "source": [
        "top_subset <- top_dat %>% filter(!str_detect(Description, 'negative|positive')) ##subsetting data to exclude terms that have negative and positive"
      ],
      "execution_count": null,
      "outputs": []
    },
    {
      "cell_type": "code",
      "metadata": {
        "id": "eV0N98FDinJT"
      },
      "source": [
        "bottom_dat <- enrichGO(gene = bottom_id,\n",
        "                OrgDb         = org.Mm.eg.db,\n",
        "                ont           = \"BP\",\n",
        "                pAdjustMethod = \"BH\",\n",
        "                pvalueCutoff  = 0.05,\n",
        "                qvalueCutoff  = 0.05,\n",
        "        readable      = TRUE) #res_bottom over representation data"
      ],
      "execution_count": null,
      "outputs": []
    },
    {
      "cell_type": "code",
      "metadata": {
        "id": "o5zFvZEnq0Ex",
        "colab": {
          "base_uri": "https://localhost:8080/",
          "height": 454
        },
        "outputId": "c1942b81-be3d-40b1-8fe5-bc65d58fa713"
      },
      "source": [
        "bottom_dat"
      ],
      "execution_count": null,
      "outputs": [
        {
          "output_type": "display_data",
          "data": {
            "text/plain": [
              "#\n",
              "# over-representation test\n",
              "#\n",
              "#...@organism \t Mus musculus \n",
              "#...@ontology \t BP \n",
              "#...@keytype \t ENTREZID \n",
              "#...@gene \t chr [1:99] \"56531\" \"226562\" \"242474\" \"83946\" \"17069\" \"19027\" \"77087\" ...\n",
              "#...pvalues adjusted by 'BH' with cutoff <0.05 \n",
              "#...24 enriched terms found\n",
              "'data.frame':\t24 obs. of  9 variables:\n",
              " $ ID         : chr  \"GO:0043488\" \"GO:0043487\" \"GO:0061013\" \"GO:1903311\" ...\n",
              " $ Description: chr  \"regulation of mRNA stability\" \"regulation of RNA stability\" \"regulation of mRNA catabolic process\" \"regulation of mRNA metabolic process\" ...\n",
              " $ GeneRatio  : chr  \"7/94\" \"7/94\" \"7/94\" \"8/94\" ...\n",
              " $ BgRatio    : chr  \"104/23328\" \"116/23328\" \"128/23328\" \"266/23328\" ...\n",
              " $ pvalue     : num  2.13e-07 4.49e-07 8.74e-07 1.23e-05 1.35e-05 ...\n",
              " $ p.adjust   : num  0.00037 0.00039 0.000507 0.004694 0.004694 ...\n",
              " $ qvalue     : num  0.000328 0.000346 0.000449 0.004162 0.004162 ...\n",
              " $ geneID     : chr  \"Pabpc4/Larp1/Dhx36/Hnrnpa0/Cnot6l/Khsrp/Taf15\" \"Pabpc4/Larp1/Dhx36/Hnrnpa0/Cnot6l/Khsrp/Taf15\" \"Pabpc4/Larp1/Dhx36/Hnrnpa0/Cnot6l/Khsrp/Taf15\" \"Pabpc4/Larp1/Dhx36/Hnrnpa0/Cnot6l/Khsrp/Taf15/Tra2a\" ...\n",
              " $ Count      : int  7 7 7 8 9 6 7 9 6 7 ...\n",
              "#...Citation\n",
              "  Guangchuang Yu, Li-Gen Wang, Yanyan Han and Qing-Yu He.\n",
              "  clusterProfiler: an R package for comparing biological themes among\n",
              "  gene clusters. OMICS: A Journal of Integrative Biology\n",
              "  2012, 16(5):284-287 \n"
            ]
          },
          "metadata": {
            "tags": []
          }
        }
      ]
    },
    {
      "cell_type": "code",
      "metadata": {
        "id": "8pVhzHvHjXJ0",
        "colab": {
          "base_uri": "https://localhost:8080/",
          "height": 104
        },
        "outputId": "34ad9021-58f0-45b2-edfc-565dbaa94af5"
      },
      "source": [
        "bottom_dat$Description"
      ],
      "execution_count": null,
      "outputs": [
        {
          "output_type": "display_data",
          "data": {
            "text/plain": [
              " [1] \"regulation of mRNA stability\"                           \n",
              " [2] \"regulation of RNA stability\"                            \n",
              " [3] \"regulation of mRNA catabolic process\"                   \n",
              " [4] \"regulation of mRNA metabolic process\"                   \n",
              " [5] \"regulation of translation\"                              \n",
              " [6] \"negative regulation of translation\"                     \n",
              " [7] \"mRNA catabolic process\"                                 \n",
              " [8] \"regulation of cellular amide metabolic process\"         \n",
              " [9] \"negative regulation of cellular amide metabolic process\"\n",
              "[10] \"RNA catabolic process\"                                  \n",
              "[11] \"RNA stabilization\"                                      \n",
              "[12] \"RNA localization\"                                       \n",
              "[13] \"mRNA processing\"                                        \n",
              "[14] \"positive regulation of catabolic process\"               \n",
              "[15] \"negative regulation of RNA catabolic process\"           \n",
              "[16] \"RNA splicing\"                                           \n",
              "[17] \"positive regulation of translation\"                     \n",
              "[18] \"positive regulation of cellular catabolic process\"      \n",
              "[19] \"negative regulation of GTPase activity\"                 \n",
              "[20] \"mRNA destabilization\"                                   \n",
              "[21] \"RNA destabilization\"                                    \n",
              "[22] \"positive regulation of cellular amide metabolic process\"\n",
              "[23] \"nucleobase-containing compound catabolic process\"       \n",
              "[24] \"positive regulation of mRNA metabolic process\"          "
            ],
            "text/latex": "\\begin{enumerate*}\n\\item 'regulation of mRNA stability'\n\\item 'regulation of RNA stability'\n\\item 'regulation of mRNA catabolic process'\n\\item 'regulation of mRNA metabolic process'\n\\item 'regulation of translation'\n\\item 'negative regulation of translation'\n\\item 'mRNA catabolic process'\n\\item 'regulation of cellular amide metabolic process'\n\\item 'negative regulation of cellular amide metabolic process'\n\\item 'RNA catabolic process'\n\\item 'RNA stabilization'\n\\item 'RNA localization'\n\\item 'mRNA processing'\n\\item 'positive regulation of catabolic process'\n\\item 'negative regulation of RNA catabolic process'\n\\item 'RNA splicing'\n\\item 'positive regulation of translation'\n\\item 'positive regulation of cellular catabolic process'\n\\item 'negative regulation of GTPase activity'\n\\item 'mRNA destabilization'\n\\item 'RNA destabilization'\n\\item 'positive regulation of cellular amide metabolic process'\n\\item 'nucleobase-containing compound catabolic process'\n\\item 'positive regulation of mRNA metabolic process'\n\\end{enumerate*}\n",
            "text/markdown": "1. 'regulation of mRNA stability'\n2. 'regulation of RNA stability'\n3. 'regulation of mRNA catabolic process'\n4. 'regulation of mRNA metabolic process'\n5. 'regulation of translation'\n6. 'negative regulation of translation'\n7. 'mRNA catabolic process'\n8. 'regulation of cellular amide metabolic process'\n9. 'negative regulation of cellular amide metabolic process'\n10. 'RNA catabolic process'\n11. 'RNA stabilization'\n12. 'RNA localization'\n13. 'mRNA processing'\n14. 'positive regulation of catabolic process'\n15. 'negative regulation of RNA catabolic process'\n16. 'RNA splicing'\n17. 'positive regulation of translation'\n18. 'positive regulation of cellular catabolic process'\n19. 'negative regulation of GTPase activity'\n20. 'mRNA destabilization'\n21. 'RNA destabilization'\n22. 'positive regulation of cellular amide metabolic process'\n23. 'nucleobase-containing compound catabolic process'\n24. 'positive regulation of mRNA metabolic process'\n\n\n",
            "text/html": [
              "<style>\n",
              ".list-inline {list-style: none; margin:0; padding: 0}\n",
              ".list-inline>li {display: inline-block}\n",
              ".list-inline>li:not(:last-child)::after {content: \"\\00b7\"; padding: 0 .5ex}\n",
              "</style>\n",
              "<ol class=list-inline><li>'regulation of mRNA stability'</li><li>'regulation of RNA stability'</li><li>'regulation of mRNA catabolic process'</li><li>'regulation of mRNA metabolic process'</li><li>'regulation of translation'</li><li>'negative regulation of translation'</li><li>'mRNA catabolic process'</li><li>'regulation of cellular amide metabolic process'</li><li>'negative regulation of cellular amide metabolic process'</li><li>'RNA catabolic process'</li><li>'RNA stabilization'</li><li>'RNA localization'</li><li>'mRNA processing'</li><li>'positive regulation of catabolic process'</li><li>'negative regulation of RNA catabolic process'</li><li>'RNA splicing'</li><li>'positive regulation of translation'</li><li>'positive regulation of cellular catabolic process'</li><li>'negative regulation of GTPase activity'</li><li>'mRNA destabilization'</li><li>'RNA destabilization'</li><li>'positive regulation of cellular amide metabolic process'</li><li>'nucleobase-containing compound catabolic process'</li><li>'positive regulation of mRNA metabolic process'</li></ol>\n"
            ]
          },
          "metadata": {
            "tags": []
          }
        }
      ]
    },
    {
      "cell_type": "code",
      "metadata": {
        "id": "VnrePfDWiwRG"
      },
      "source": [
        "bottom_subset <- bottom_dat %>% filter(!str_detect(Description, 'negative|positive')) ####subsetting data to exclude terms that have negative and positive"
      ],
      "execution_count": null,
      "outputs": []
    },
    {
      "cell_type": "markdown",
      "metadata": {
        "id": "FTHqyObWq4Vx"
      },
      "source": [
        "### KEGG pathway analysis"
      ]
    },
    {
      "cell_type": "code",
      "metadata": {
        "id": "i8qtoNhQjy38",
        "colab": {
          "base_uri": "https://localhost:8080/"
        },
        "outputId": "4323c9d7-0da3-40a1-c355-05a9a0349d6a"
      },
      "source": [
        "kegg_top <- enrichKEGG(gene = top_id,\n",
        "                organism = 'mouse',\n",
        "                keyType = 'kegg',\n",
        "                pAdjustMethod = \"BH\",\n",
        "                pvalueCutoff  = 0.05,\n",
        "                qvalueCutoff  = 0.05)"
      ],
      "execution_count": null,
      "outputs": [
        {
          "output_type": "stream",
          "text": [
            "Reading KEGG annotation online:\n",
            "\n",
            "\n",
            "Reading KEGG annotation online:\n",
            "\n",
            "\n"
          ],
          "name": "stderr"
        }
      ]
    },
    {
      "cell_type": "code",
      "metadata": {
        "id": "CF6f6i_dkCD4",
        "colab": {
          "base_uri": "https://localhost:8080/",
          "height": 454
        },
        "outputId": "3c420d36-2a2e-4486-9a9f-72496db8452b"
      },
      "source": [
        "kegg_top"
      ],
      "execution_count": null,
      "outputs": [
        {
          "output_type": "display_data",
          "data": {
            "text/plain": [
              "#\n",
              "# over-representation test\n",
              "#\n",
              "#...@organism \t mmu \n",
              "#...@ontology \t KEGG \n",
              "#...@keytype \t kegg \n",
              "#...@gene \t chr [1:100] \"19184\" \"110826\" \"26893\" \"59042\" \"109652\" \"15469\" \"64833\" ...\n",
              "#...pvalues adjusted by 'BH' with cutoff <0.05 \n",
              "#...16 enriched terms found\n",
              "'data.frame':\t16 obs. of  9 variables:\n",
              " $ ID         : chr  \"mmu01230\" \"mmu03050\" \"mmu05012\" \"mmu05022\" ...\n",
              " $ Description: chr  \"Biosynthesis of amino acids\" \"Proteasome\" \"Parkinson disease\" \"Pathways of neurodegeneration - multiple diseases\" ...\n",
              " $ GeneRatio  : chr  \"8/48\" \"6/48\" \"10/48\" \"12/48\" ...\n",
              " $ BgRatio    : chr  \"79/8907\" \"47/8907\" \"247/8907\" \"472/8907\" ...\n",
              " $ pvalue     : num  7.56e-09 1.61e-07 5.80e-07 5.17e-06 1.06e-05 ...\n",
              " $ p.adjust   : num  5.60e-07 5.96e-06 1.43e-05 9.57e-05 1.57e-04 ...\n",
              " $ qvalue     : num  4.14e-07 4.41e-06 1.06e-05 7.08e-05 1.16e-04 ...\n",
              " $ geneID     : chr  \"109652/13808/13806/11674/109900/27053/433182/21351\" \"19184/23996/19181/19175/19173/19185\" \"19184/23996/22273/19181/19175/19173/66108/17995/22187/19185\" \"19184/23996/22273/19181/19175/19173/66108/17995/18039/22187/15108/19185\" ...\n",
              " $ Count      : int  8 6 10 12 9 10 10 9 6 4 ...\n",
              "#...Citation\n",
              "  Guangchuang Yu, Li-Gen Wang, Yanyan Han and Qing-Yu He.\n",
              "  clusterProfiler: an R package for comparing biological themes among\n",
              "  gene clusters. OMICS: A Journal of Integrative Biology\n",
              "  2012, 16(5):284-287 \n"
            ]
          },
          "metadata": {
            "tags": []
          }
        }
      ]
    },
    {
      "cell_type": "code",
      "metadata": {
        "id": "3csJUtp5kGP0",
        "colab": {
          "base_uri": "https://localhost:8080/",
          "height": 69
        },
        "outputId": "470325cc-e1cb-4383-ee62-90cd253939b6"
      },
      "source": [
        "kegg_top$Description"
      ],
      "execution_count": null,
      "outputs": [
        {
          "output_type": "display_data",
          "data": {
            "text/plain": [
              " [1] \"Biosynthesis of amino acids\"                      \n",
              " [2] \"Proteasome\"                                       \n",
              " [3] \"Parkinson disease\"                                \n",
              " [4] \"Pathways of neurodegeneration - multiple diseases\"\n",
              " [5] \"Prion disease\"                                    \n",
              " [6] \"Alzheimer disease\"                                \n",
              " [7] \"Amyotrophic lateral sclerosis\"                    \n",
              " [8] \"Huntington disease\"                               \n",
              " [9] \"Spinocerebellar ataxia\"                           \n",
              "[10] \"Glycolysis / Gluconeogenesis\"                     \n",
              "[11] \"Carbon metabolism\"                                \n",
              "[12] \"Pentose phosphate pathway\"                        \n",
              "[13] \"HIF-1 signaling pathway\"                          \n",
              "[14] \"Arginine biosynthesis\"                            \n",
              "[15] \"Oxidative phosphorylation\"                        \n",
              "[16] \"RNA degradation\"                                  "
            ],
            "text/latex": "\\begin{enumerate*}\n\\item 'Biosynthesis of amino acids'\n\\item 'Proteasome'\n\\item 'Parkinson disease'\n\\item 'Pathways of neurodegeneration - multiple diseases'\n\\item 'Prion disease'\n\\item 'Alzheimer disease'\n\\item 'Amyotrophic lateral sclerosis'\n\\item 'Huntington disease'\n\\item 'Spinocerebellar ataxia'\n\\item 'Glycolysis / Gluconeogenesis'\n\\item 'Carbon metabolism'\n\\item 'Pentose phosphate pathway'\n\\item 'HIF-1 signaling pathway'\n\\item 'Arginine biosynthesis'\n\\item 'Oxidative phosphorylation'\n\\item 'RNA degradation'\n\\end{enumerate*}\n",
            "text/markdown": "1. 'Biosynthesis of amino acids'\n2. 'Proteasome'\n3. 'Parkinson disease'\n4. 'Pathways of neurodegeneration - multiple diseases'\n5. 'Prion disease'\n6. 'Alzheimer disease'\n7. 'Amyotrophic lateral sclerosis'\n8. 'Huntington disease'\n9. 'Spinocerebellar ataxia'\n10. 'Glycolysis / Gluconeogenesis'\n11. 'Carbon metabolism'\n12. 'Pentose phosphate pathway'\n13. 'HIF-1 signaling pathway'\n14. 'Arginine biosynthesis'\n15. 'Oxidative phosphorylation'\n16. 'RNA degradation'\n\n\n",
            "text/html": [
              "<style>\n",
              ".list-inline {list-style: none; margin:0; padding: 0}\n",
              ".list-inline>li {display: inline-block}\n",
              ".list-inline>li:not(:last-child)::after {content: \"\\00b7\"; padding: 0 .5ex}\n",
              "</style>\n",
              "<ol class=list-inline><li>'Biosynthesis of amino acids'</li><li>'Proteasome'</li><li>'Parkinson disease'</li><li>'Pathways of neurodegeneration - multiple diseases'</li><li>'Prion disease'</li><li>'Alzheimer disease'</li><li>'Amyotrophic lateral sclerosis'</li><li>'Huntington disease'</li><li>'Spinocerebellar ataxia'</li><li>'Glycolysis / Gluconeogenesis'</li><li>'Carbon metabolism'</li><li>'Pentose phosphate pathway'</li><li>'HIF-1 signaling pathway'</li><li>'Arginine biosynthesis'</li><li>'Oxidative phosphorylation'</li><li>'RNA degradation'</li></ol>\n"
            ]
          },
          "metadata": {
            "tags": []
          }
        }
      ]
    },
    {
      "cell_type": "code",
      "metadata": {
        "id": "B8oKIouyj9ef"
      },
      "source": [
        "kegg_bottom <- enrichKEGG(gene = bottom_id,\n",
        "                organism = 'mouse',\n",
        "                keyType = 'kegg',\n",
        "                pAdjustMethod = \"BH\",\n",
        "                pvalueCutoff  = 0.05,\n",
        "                qvalueCutoff  = 0.05)"
      ],
      "execution_count": null,
      "outputs": []
    },
    {
      "cell_type": "code",
      "metadata": {
        "id": "LNMbDqTAq-bg",
        "colab": {
          "base_uri": "https://localhost:8080/",
          "height": 434
        },
        "outputId": "9d231276-958c-4e56-bee0-21074a48d481"
      },
      "source": [
        "kegg_bottom"
      ],
      "execution_count": null,
      "outputs": [
        {
          "output_type": "display_data",
          "data": {
            "text/plain": [
              "#\n",
              "# over-representation test\n",
              "#\n",
              "#...@organism \t mmu \n",
              "#...@ontology \t KEGG \n",
              "#...@keytype \t kegg \n",
              "#...@gene \t chr [1:99] \"56531\" \"226562\" \"242474\" \"83946\" \"17069\" \"19027\" \"77087\" ...\n",
              "#...pvalues adjusted by 'BH' with cutoff <0.05 \n",
              "#...4 enriched terms found\n",
              "'data.frame':\t4 obs. of  9 variables:\n",
              " $ ID         : chr  \"mmu04141\" \"mmu03013\" \"mmu01212\" \"mmu00061\"\n",
              " $ Description: chr  \"Protein processing in endoplasmic reticulum\" \"RNA transport\" \"Fatty acid metabolism\" \"Fatty acid biosynthesis\"\n",
              " $ GeneRatio  : chr  \"5/39\" \"5/39\" \"3/39\" \"2/39\"\n",
              " $ BgRatio    : chr  \"172/8907\" \"183/8907\" \"62/8907\" \"19/8907\"\n",
              " $ pvalue     : num  0.000857 0.001132 0.002456 0.003048\n",
              " $ p.adjust   : num  0.0334 0.0334 0.045 0.045\n",
              " $ qvalue     : num  0.0292 0.0292 0.0393 0.0393\n",
              " $ geneID     : chr  \"13200/105245/17156/23802/20338\" \"26905/208643/21681/230721/13688\" \"107476/170439/433256\" \"107476/433256\"\n",
              " $ Count      : int  5 5 3 2\n",
              "#...Citation\n",
              "  Guangchuang Yu, Li-Gen Wang, Yanyan Han and Qing-Yu He.\n",
              "  clusterProfiler: an R package for comparing biological themes among\n",
              "  gene clusters. OMICS: A Journal of Integrative Biology\n",
              "  2012, 16(5):284-287 \n"
            ]
          },
          "metadata": {
            "tags": []
          }
        }
      ]
    },
    {
      "cell_type": "code",
      "metadata": {
        "id": "Yd-j6T3gkNJw",
        "colab": {
          "base_uri": "https://localhost:8080/",
          "height": 34
        },
        "outputId": "b72d2e49-0deb-411a-8b51-a7665a5647b4"
      },
      "source": [
        "kegg_bottom$Description"
      ],
      "execution_count": null,
      "outputs": [
        {
          "output_type": "display_data",
          "data": {
            "text/plain": [
              "[1] \"Protein processing in endoplasmic reticulum\"\n",
              "[2] \"RNA transport\"                              \n",
              "[3] \"Fatty acid metabolism\"                      \n",
              "[4] \"Fatty acid biosynthesis\"                    "
            ],
            "text/latex": "\\begin{enumerate*}\n\\item 'Protein processing in endoplasmic reticulum'\n\\item 'RNA transport'\n\\item 'Fatty acid metabolism'\n\\item 'Fatty acid biosynthesis'\n\\end{enumerate*}\n",
            "text/markdown": "1. 'Protein processing in endoplasmic reticulum'\n2. 'RNA transport'\n3. 'Fatty acid metabolism'\n4. 'Fatty acid biosynthesis'\n\n\n",
            "text/html": [
              "<style>\n",
              ".list-inline {list-style: none; margin:0; padding: 0}\n",
              ".list-inline>li {display: inline-block}\n",
              ".list-inline>li:not(:last-child)::after {content: \"\\00b7\"; padding: 0 .5ex}\n",
              "</style>\n",
              "<ol class=list-inline><li>'Protein processing in endoplasmic reticulum'</li><li>'RNA transport'</li><li>'Fatty acid metabolism'</li><li>'Fatty acid biosynthesis'</li></ol>\n"
            ]
          },
          "metadata": {
            "tags": []
          }
        }
      ]
    },
    {
      "cell_type": "markdown",
      "metadata": {
        "id": "_FhTwf1SrDDU"
      },
      "source": [
        "### Reactome Pathway analysis"
      ]
    },
    {
      "cell_type": "code",
      "metadata": {
        "id": "5RW8wdZsm_J5"
      },
      "source": [
        "reactome_top <- enrichPathway(gene = top_id,\n",
        "                organism = \"mouse\",\n",
        "                pvalueCutoff  = 0.05)"
      ],
      "execution_count": null,
      "outputs": []
    },
    {
      "cell_type": "code",
      "metadata": {
        "id": "jJlIIKBioAxy",
        "colab": {
          "base_uri": "https://localhost:8080/",
          "height": 436
        },
        "outputId": "d28c999d-38fa-4f30-d309-6c941cfad417"
      },
      "source": [
        "reactome_top"
      ],
      "execution_count": null,
      "outputs": [
        {
          "output_type": "display_data",
          "data": {
            "text/plain": [
              "#\n",
              "# over-representation test\n",
              "#\n",
              "#...@organism \t mouse \n",
              "#...@ontology \t Reactome \n",
              "#...@keytype \t ENTREZID \n",
              "#...@gene \t chr [1:100] \"19184\" \"110826\" \"26893\" \"59042\" \"109652\" \"15469\" \"64833\" ...\n",
              "#...pvalues adjusted by 'BH' with cutoff <0.05 \n",
              "#...115 enriched terms found\n",
              "'data.frame':\t115 obs. of  9 variables:\n",
              " $ ID         : chr  \"R-MMU-450408\" \"R-MMU-5687128\" \"R-MMU-75815\" \"R-MMU-349425\" ...\n",
              " $ Description: chr  \"AUF1 (hnRNP D0) binds and destabilizes mRNA\" \"MAPK6/MAPK4 signaling\" \"Ubiquitin-dependent degradation of Cyclin D\" \"Autodegradation of the E3 ubiquitin ligase COP1\" ...\n",
              " $ GeneRatio  : chr  \"8/55\" \"8/55\" \"7/55\" \"7/55\" ...\n",
              " $ BgRatio    : chr  \"56/8733\" \"73/8733\" \"51/8733\" \"52/8733\" ...\n",
              " $ pvalue     : num  1.64e-09 1.43e-08 2.48e-08 2.85e-08 2.85e-08 ...\n",
              " $ p.adjust   : num  6.31e-07 1.17e-06 1.17e-06 1.17e-06 1.17e-06 ...\n",
              " $ qvalue     : num  4.56e-07 8.49e-07 8.49e-07 8.49e-07 8.49e-07 ...\n",
              " $ geneID     : chr  \"19184/23996/15507/19181/19175/19173/22187/19185\" \"19184/23996/15507/19181/19175/19173/22187/19185\" \"19184/23996/19181/19175/19173/22187/19185\" \"19184/23996/19181/19175/19173/22187/19185\" ...\n",
              " $ Count      : int  8 8 7 7 7 7 7 7 7 7 ...\n",
              "#...Citation\n",
              "  Guangchuang Yu, Qing-Yu He. ReactomePA: an R/Bioconductor package for\n",
              "  reactome pathway analysis and visualization. Molecular BioSystems\n",
              "  2016, 12(2):477-479 \n"
            ]
          },
          "metadata": {
            "tags": []
          }
        }
      ]
    },
    {
      "cell_type": "code",
      "metadata": {
        "id": "J-YYLhTbojF_",
        "colab": {
          "base_uri": "https://localhost:8080/",
          "height": 469
        },
        "outputId": "99e8d324-995c-4d1f-da40-6410c58ff54e"
      },
      "source": [
        "reactome_top$Description"
      ],
      "execution_count": null,
      "outputs": [
        {
          "output_type": "display_data",
          "data": {
            "text/plain": [
              "  [1] \"AUF1 (hnRNP D0) binds and destabilizes mRNA\"                                                                        \n",
              "  [2] \"MAPK6/MAPK4 signaling\"                                                                                              \n",
              "  [3] \"Ubiquitin-dependent degradation of Cyclin D\"                                                                        \n",
              "  [4] \"Autodegradation of the E3 ubiquitin ligase COP1\"                                                                    \n",
              "  [5] \"Ubiquitin Mediated Degradation of Phosphorylated Cdc25A\"                                                            \n",
              "  [6] \"p53-Independent DNA Damage Response\"                                                                                \n",
              "  [7] \"p53-Independent G1/S DNA damage checkpoint\"                                                                         \n",
              "  [8] \"Regulation of RUNX2 expression and activity\"                                                                        \n",
              "  [9] \"Regulation of RUNX3 expression and activity\"                                                                        \n",
              " [10] \"FBXL7 down-regulates AURKA during mitotic entry and in early mitosis\"                                               \n",
              " [11] \"Degradation of AXIN\"                                                                                                \n",
              " [12] \"Regulation of mRNA stability by proteins that bind AU-rich elements\"                                                \n",
              " [13] \"Degradation of GLI1 by the proteasome\"                                                                              \n",
              " [14] \"Stabilization of p53\"                                                                                               \n",
              " [15] \"Degradation of DVL\"                                                                                                 \n",
              " [16] \"Dectin-1 mediated noncanonical NF-kB signaling\"                                                                     \n",
              " [17] \"GLI3 is processed to GLI3R by the proteasome\"                                                                       \n",
              " [18] \"NIK-->noncanonical NF-kB signaling\"                                                                                 \n",
              " [19] \"CDT1 association with the CDC6:ORC:origin complex\"                                                                  \n",
              " [20] \"SCF(Skp2)-mediated degradation of p27/p21\"                                                                          \n",
              " [21] \"Asymmetric localization of PCP proteins\"                                                                            \n",
              " [22] \"Hedgehog ligand biogenesis\"                                                                                         \n",
              " [23] \"Activation of NF-kappaB in B cells\"                                                                                 \n",
              " [24] \"Transcriptional regulation by RUNX2\"                                                                                \n",
              " [25] \"Autodegradation of Cdh1 by Cdh1:APC/C\"                                                                              \n",
              " [26] \"p53-Dependent G1 DNA Damage Response\"                                                                               \n",
              " [27] \"p53-Dependent G1/S DNA damage checkpoint\"                                                                           \n",
              " [28] \"MAPK family signaling cascades\"                                                                                     \n",
              " [29] \"Oxygen-dependent proline hydroxylation of Hypoxia-inducible Factor Alpha\"                                           \n",
              " [30] \"RUNX1 regulates transcription of genes involved in differentiation of HSCs\"                                         \n",
              " [31] \"Regulation of RAS by GAPs\"                                                                                          \n",
              " [32] \"Assembly of the pre-replicative complex\"                                                                            \n",
              " [33] \"G1/S DNA Damage Checkpoints\"                                                                                        \n",
              " [34] \"APC/C:Cdc20 mediated degradation of Securin\"                                                                        \n",
              " [35] \"Regulation of PTEN stability and activity\"                                                                          \n",
              " [36] \"Cellular response to hypoxia\"                                                                                       \n",
              " [37] \"Orc1 removal from chromatin\"                                                                                        \n",
              " [38] \"Cyclin E associated events during G1/S transition \"                                                                 \n",
              " [39] \"Cdc20:Phospho-APC/C mediated degradation of Cyclin A\"                                                               \n",
              " [40] \"CDK-mediated phosphorylation and removal of Cdc6\"                                                                   \n",
              " [41] \"Cyclin A:Cdk2-associated events at S phase entry\"                                                                   \n",
              " [42] \"APC/C:Cdh1 mediated degradation of Cdc20 and other APC/C:Cdh1 targeted proteins in late mitosis/early G1\"           \n",
              " [43] \"APC:Cdc20 mediated degradation of cell cycle proteins prior to satisfation of the cell cycle checkpoint\"            \n",
              " [44] \"Downstream signaling events of B Cell Receptor (BCR)\"                                                               \n",
              " [45] \"The role of GTSE1 in G2/M progression after G2 checkpoint\"                                                          \n",
              " [46] \"APC/C:Cdc20 mediated degradation of mitotic proteins\"                                                               \n",
              " [47] \"FCERI mediated NF-kB activation\"                                                                                    \n",
              " [48] \"RAF/MAP kinase cascade\"                                                                                             \n",
              " [49] \"Activation of APC/C and APC/C:Cdc20 mediated degradation of mitotic proteins\"                                       \n",
              " [50] \"Degradation of beta-catenin by the destruction complex\"                                                             \n",
              " [51] \"Transcriptional regulation by RUNX3\"                                                                                \n",
              " [52] \"MAPK1/MAPK3 signaling\"                                                                                              \n",
              " [53] \"Cross-presentation of soluble exogenous antigens (endosomes)\"                                                       \n",
              " [54] \"FLT3 Signaling\"                                                                                                     \n",
              " [55] \"Hedgehog 'on' state\"                                                                                                \n",
              " [56] \"Regulation of ornithine decarboxylase (ODC)\"                                                                        \n",
              " [57] \"DNA Replication Pre-Initiation\"                                                                                     \n",
              " [58] \"APC/C-mediated degradation of cell cycle proteins\"                                                                  \n",
              " [59] \"Downstream TCR signaling\"                                                                                           \n",
              " [60] \"Regulation of mitotic cell cycle\"                                                                                   \n",
              " [61] \"PCP/CE pathway\"                                                                                                     \n",
              " [62] \"CLEC7A (Dectin-1) signaling\"                                                                                        \n",
              " [63] \"Switching of origins to a post-replicative state\"                                                                   \n",
              " [64] \"Metabolism of polyamines\"                                                                                           \n",
              " [65] \"UCH proteinases\"                                                                                                    \n",
              " [66] \"Interleukin-1 signaling\"                                                                                            \n",
              " [67] \"TNFR2 non-canonical NF-kB pathway\"                                                                                  \n",
              " [68] \"ABC-family proteins mediated transport\"                                                                             \n",
              " [69] \"Signaling by the B Cell Receptor (BCR)\"                                                                             \n",
              " [70] \"TCR signaling\"                                                                                                      \n",
              " [71] \"G1/S Transition\"                                                                                                    \n",
              " [72] \"Interleukin-1 family signaling\"                                                                                     \n",
              " [73] \"Hedgehog 'off' state\"                                                                                               \n",
              " [74] \"C-type lectin receptors (CLRs)\"                                                                                     \n",
              " [75] \"PTEN Regulation\"                                                                                                    \n",
              " [76] \"Synthesis of DNA\"                                                                                                   \n",
              " [77] \"Fc epsilon receptor (FCERI) signaling\"                                                                              \n",
              " [78] \"DNA Replication\"                                                                                                    \n",
              " [79] \"Beta-catenin independent WNT signaling\"                                                                             \n",
              " [80] \"Mitotic G1 phase and G1/S transition\"                                                                               \n",
              " [81] \"Signaling by Hedgehog\"                                                                                              \n",
              " [82] \"Antigen processing-Cross presentation\"                                                                              \n",
              " [83] \"S Phase\"                                                                                                            \n",
              " [84] \"TCF dependent signaling in response to WNT\"                                                                         \n",
              " [85] \"Transcriptional regulation by RUNX1\"                                                                                \n",
              " [86] \"Neddylation\"                                                                                                        \n",
              " [87] \"Gluconeogenesis\"                                                                                                    \n",
              " [88] \"G2/M Checkpoints\"                                                                                                   \n",
              " [89] \"Mitochondrial Fatty Acid Beta-Oxidation\"                                                                            \n",
              " [90] \"G2/M Transition\"                                                                                                    \n",
              " [91] \"Mitotic G2-G2/M phases\"                                                                                             \n",
              " [92] \"Ub-specific processing proteases\"                                                                                   \n",
              " [93] \"Separation of Sister Chromatids\"                                                                                    \n",
              " [94] \"Metabolism of amino acids and derivatives\"                                                                          \n",
              " [95] \"Mitotic Anaphase\"                                                                                                   \n",
              " [96] \"Mitotic Metaphase and Anaphase\"                                                                                     \n",
              " [97] \"Signaling by WNT\"                                                                                                   \n",
              " [98] \"PIP3 activates AKT signaling\"                                                                                       \n",
              " [99] \"Glycolysis\"                                                                                                         \n",
              "[100] \"Deubiquitination\"                                                                                                   \n",
              "[101] \"Respiratory electron transport\"                                                                                     \n",
              "[102] \"Intracellular signaling by second messengers\"                                                                       \n",
              "[103] \"Signaling by Interleukins\"                                                                                          \n",
              "[104] \"Glucose metabolism\"                                                                                                 \n",
              "[105] \"Antigen processing: Ubiquitination & Proteasome degradation\"                                                        \n",
              "[106] \"Cell Cycle Checkpoints\"                                                                                             \n",
              "[107] \"Respiratory electron transport, ATP synthesis by chemiosmotic coupling, and heat production by uncoupling proteins.\"\n",
              "[108] \"Pentose phosphate pathway\"                                                                                          \n",
              "[109] \"Cellular responses to stress\"                                                                                       \n",
              "[110] \"Cellular responses to external stimuli\"                                                                             \n",
              "[111] \"Class I MHC mediated antigen processing & presentation\"                                                             \n",
              "[112] \"Metabolism of carbohydrates\"                                                                                        \n",
              "[113] \"RAS processing\"                                                                                                     \n",
              "[114] \"M Phase\"                                                                                                            \n",
              "[115] \"The citric acid (TCA) cycle and respiratory electron transport\"                                                     "
            ],
            "text/latex": "\\begin{enumerate*}\n\\item 'AUF1 (hnRNP D0) binds and destabilizes mRNA'\n\\item 'MAPK6/MAPK4 signaling'\n\\item 'Ubiquitin-dependent degradation of Cyclin D'\n\\item 'Autodegradation of the E3 ubiquitin ligase COP1'\n\\item 'Ubiquitin Mediated Degradation of Phosphorylated Cdc25A'\n\\item 'p53-Independent DNA Damage Response'\n\\item 'p53-Independent G1/S DNA damage checkpoint'\n\\item 'Regulation of RUNX2 expression and activity'\n\\item 'Regulation of RUNX3 expression and activity'\n\\item 'FBXL7 down-regulates AURKA during mitotic entry and in early mitosis'\n\\item 'Degradation of AXIN'\n\\item 'Regulation of mRNA stability by proteins that bind AU-rich elements'\n\\item 'Degradation of GLI1 by the proteasome'\n\\item 'Stabilization of p53'\n\\item 'Degradation of DVL'\n\\item 'Dectin-1 mediated noncanonical NF-kB signaling'\n\\item 'GLI3 is processed to GLI3R by the proteasome'\n\\item 'NIK-->noncanonical NF-kB signaling'\n\\item 'CDT1 association with the CDC6:ORC:origin complex'\n\\item 'SCF(Skp2)-mediated degradation of p27/p21'\n\\item 'Asymmetric localization of PCP proteins'\n\\item 'Hedgehog ligand biogenesis'\n\\item 'Activation of NF-kappaB in B cells'\n\\item 'Transcriptional regulation by RUNX2'\n\\item 'Autodegradation of Cdh1 by Cdh1:APC/C'\n\\item 'p53-Dependent G1 DNA Damage Response'\n\\item 'p53-Dependent G1/S DNA damage checkpoint'\n\\item 'MAPK family signaling cascades'\n\\item 'Oxygen-dependent proline hydroxylation of Hypoxia-inducible Factor Alpha'\n\\item 'RUNX1 regulates transcription of genes involved in differentiation of HSCs'\n\\item 'Regulation of RAS by GAPs'\n\\item 'Assembly of the pre-replicative complex'\n\\item 'G1/S DNA Damage Checkpoints'\n\\item 'APC/C:Cdc20 mediated degradation of Securin'\n\\item 'Regulation of PTEN stability and activity'\n\\item 'Cellular response to hypoxia'\n\\item 'Orc1 removal from chromatin'\n\\item 'Cyclin E associated events during G1/S transition '\n\\item 'Cdc20:Phospho-APC/C mediated degradation of Cyclin A'\n\\item 'CDK-mediated phosphorylation and removal of Cdc6'\n\\item 'Cyclin A:Cdk2-associated events at S phase entry'\n\\item 'APC/C:Cdh1 mediated degradation of Cdc20 and other APC/C:Cdh1 targeted proteins in late mitosis/early G1'\n\\item 'APC:Cdc20 mediated degradation of cell cycle proteins prior to satisfation of the cell cycle checkpoint'\n\\item 'Downstream signaling events of B Cell Receptor (BCR)'\n\\item 'The role of GTSE1 in G2/M progression after G2 checkpoint'\n\\item 'APC/C:Cdc20 mediated degradation of mitotic proteins'\n\\item 'FCERI mediated NF-kB activation'\n\\item 'RAF/MAP kinase cascade'\n\\item 'Activation of APC/C and APC/C:Cdc20 mediated degradation of mitotic proteins'\n\\item 'Degradation of beta-catenin by the destruction complex'\n\\item 'Transcriptional regulation by RUNX3'\n\\item 'MAPK1/MAPK3 signaling'\n\\item 'Cross-presentation of soluble exogenous antigens (endosomes)'\n\\item 'FLT3 Signaling'\n\\item 'Hedgehog \\textbackslash{}'on\\textbackslash{}' state'\n\\item 'Regulation of ornithine decarboxylase (ODC)'\n\\item 'DNA Replication Pre-Initiation'\n\\item 'APC/C-mediated degradation of cell cycle proteins'\n\\item 'Downstream TCR signaling'\n\\item 'Regulation of mitotic cell cycle'\n\\item 'PCP/CE pathway'\n\\item 'CLEC7A (Dectin-1) signaling'\n\\item 'Switching of origins to a post-replicative state'\n\\item 'Metabolism of polyamines'\n\\item 'UCH proteinases'\n\\item 'Interleukin-1 signaling'\n\\item 'TNFR2 non-canonical NF-kB pathway'\n\\item 'ABC-family proteins mediated transport'\n\\item 'Signaling by the B Cell Receptor (BCR)'\n\\item 'TCR signaling'\n\\item 'G1/S Transition'\n\\item 'Interleukin-1 family signaling'\n\\item 'Hedgehog \\textbackslash{}'off\\textbackslash{}' state'\n\\item 'C-type lectin receptors (CLRs)'\n\\item 'PTEN Regulation'\n\\item 'Synthesis of DNA'\n\\item 'Fc epsilon receptor (FCERI) signaling'\n\\item 'DNA Replication'\n\\item 'Beta-catenin independent WNT signaling'\n\\item 'Mitotic G1 phase and G1/S transition'\n\\item 'Signaling by Hedgehog'\n\\item 'Antigen processing-Cross presentation'\n\\item 'S Phase'\n\\item 'TCF dependent signaling in response to WNT'\n\\item 'Transcriptional regulation by RUNX1'\n\\item 'Neddylation'\n\\item 'Gluconeogenesis'\n\\item 'G2/M Checkpoints'\n\\item 'Mitochondrial Fatty Acid Beta-Oxidation'\n\\item 'G2/M Transition'\n\\item 'Mitotic G2-G2/M phases'\n\\item 'Ub-specific processing proteases'\n\\item 'Separation of Sister Chromatids'\n\\item 'Metabolism of amino acids and derivatives'\n\\item 'Mitotic Anaphase'\n\\item 'Mitotic Metaphase and Anaphase'\n\\item 'Signaling by WNT'\n\\item 'PIP3 activates AKT signaling'\n\\item 'Glycolysis'\n\\item 'Deubiquitination'\n\\item 'Respiratory electron transport'\n\\item 'Intracellular signaling by second messengers'\n\\item 'Signaling by Interleukins'\n\\item 'Glucose metabolism'\n\\item 'Antigen processing: Ubiquitination \\& Proteasome degradation'\n\\item 'Cell Cycle Checkpoints'\n\\item 'Respiratory electron transport, ATP synthesis by chemiosmotic coupling, and heat production by uncoupling proteins.'\n\\item 'Pentose phosphate pathway'\n\\item 'Cellular responses to stress'\n\\item 'Cellular responses to external stimuli'\n\\item 'Class I MHC mediated antigen processing \\& presentation'\n\\item 'Metabolism of carbohydrates'\n\\item 'RAS processing'\n\\item 'M Phase'\n\\item 'The citric acid (TCA) cycle and respiratory electron transport'\n\\end{enumerate*}\n",
            "text/markdown": "1. 'AUF1 (hnRNP D0) binds and destabilizes mRNA'\n2. 'MAPK6/MAPK4 signaling'\n3. 'Ubiquitin-dependent degradation of Cyclin D'\n4. 'Autodegradation of the E3 ubiquitin ligase COP1'\n5. 'Ubiquitin Mediated Degradation of Phosphorylated Cdc25A'\n6. 'p53-Independent DNA Damage Response'\n7. 'p53-Independent G1/S DNA damage checkpoint'\n8. 'Regulation of RUNX2 expression and activity'\n9. 'Regulation of RUNX3 expression and activity'\n10. 'FBXL7 down-regulates AURKA during mitotic entry and in early mitosis'\n11. 'Degradation of AXIN'\n12. 'Regulation of mRNA stability by proteins that bind AU-rich elements'\n13. 'Degradation of GLI1 by the proteasome'\n14. 'Stabilization of p53'\n15. 'Degradation of DVL'\n16. 'Dectin-1 mediated noncanonical NF-kB signaling'\n17. 'GLI3 is processed to GLI3R by the proteasome'\n18. 'NIK--&gt;noncanonical NF-kB signaling'\n19. 'CDT1 association with the CDC6:ORC:origin complex'\n20. 'SCF(Skp2)-mediated degradation of p27/p21'\n21. 'Asymmetric localization of PCP proteins'\n22. 'Hedgehog ligand biogenesis'\n23. 'Activation of NF-kappaB in B cells'\n24. 'Transcriptional regulation by RUNX2'\n25. 'Autodegradation of Cdh1 by Cdh1:APC/C'\n26. 'p53-Dependent G1 DNA Damage Response'\n27. 'p53-Dependent G1/S DNA damage checkpoint'\n28. 'MAPK family signaling cascades'\n29. 'Oxygen-dependent proline hydroxylation of Hypoxia-inducible Factor Alpha'\n30. 'RUNX1 regulates transcription of genes involved in differentiation of HSCs'\n31. 'Regulation of RAS by GAPs'\n32. 'Assembly of the pre-replicative complex'\n33. 'G1/S DNA Damage Checkpoints'\n34. 'APC/C:Cdc20 mediated degradation of Securin'\n35. 'Regulation of PTEN stability and activity'\n36. 'Cellular response to hypoxia'\n37. 'Orc1 removal from chromatin'\n38. 'Cyclin E associated events during G1/S transition '\n39. 'Cdc20:Phospho-APC/C mediated degradation of Cyclin A'\n40. 'CDK-mediated phosphorylation and removal of Cdc6'\n41. 'Cyclin A:Cdk2-associated events at S phase entry'\n42. 'APC/C:Cdh1 mediated degradation of Cdc20 and other APC/C:Cdh1 targeted proteins in late mitosis/early G1'\n43. 'APC:Cdc20 mediated degradation of cell cycle proteins prior to satisfation of the cell cycle checkpoint'\n44. 'Downstream signaling events of B Cell Receptor (BCR)'\n45. 'The role of GTSE1 in G2/M progression after G2 checkpoint'\n46. 'APC/C:Cdc20 mediated degradation of mitotic proteins'\n47. 'FCERI mediated NF-kB activation'\n48. 'RAF/MAP kinase cascade'\n49. 'Activation of APC/C and APC/C:Cdc20 mediated degradation of mitotic proteins'\n50. 'Degradation of beta-catenin by the destruction complex'\n51. 'Transcriptional regulation by RUNX3'\n52. 'MAPK1/MAPK3 signaling'\n53. 'Cross-presentation of soluble exogenous antigens (endosomes)'\n54. 'FLT3 Signaling'\n55. 'Hedgehog \\'on\\' state'\n56. 'Regulation of ornithine decarboxylase (ODC)'\n57. 'DNA Replication Pre-Initiation'\n58. 'APC/C-mediated degradation of cell cycle proteins'\n59. 'Downstream TCR signaling'\n60. 'Regulation of mitotic cell cycle'\n61. 'PCP/CE pathway'\n62. 'CLEC7A (Dectin-1) signaling'\n63. 'Switching of origins to a post-replicative state'\n64. 'Metabolism of polyamines'\n65. 'UCH proteinases'\n66. 'Interleukin-1 signaling'\n67. 'TNFR2 non-canonical NF-kB pathway'\n68. 'ABC-family proteins mediated transport'\n69. 'Signaling by the B Cell Receptor (BCR)'\n70. 'TCR signaling'\n71. 'G1/S Transition'\n72. 'Interleukin-1 family signaling'\n73. 'Hedgehog \\'off\\' state'\n74. 'C-type lectin receptors (CLRs)'\n75. 'PTEN Regulation'\n76. 'Synthesis of DNA'\n77. 'Fc epsilon receptor (FCERI) signaling'\n78. 'DNA Replication'\n79. 'Beta-catenin independent WNT signaling'\n80. 'Mitotic G1 phase and G1/S transition'\n81. 'Signaling by Hedgehog'\n82. 'Antigen processing-Cross presentation'\n83. 'S Phase'\n84. 'TCF dependent signaling in response to WNT'\n85. 'Transcriptional regulation by RUNX1'\n86. 'Neddylation'\n87. 'Gluconeogenesis'\n88. 'G2/M Checkpoints'\n89. 'Mitochondrial Fatty Acid Beta-Oxidation'\n90. 'G2/M Transition'\n91. 'Mitotic G2-G2/M phases'\n92. 'Ub-specific processing proteases'\n93. 'Separation of Sister Chromatids'\n94. 'Metabolism of amino acids and derivatives'\n95. 'Mitotic Anaphase'\n96. 'Mitotic Metaphase and Anaphase'\n97. 'Signaling by WNT'\n98. 'PIP3 activates AKT signaling'\n99. 'Glycolysis'\n100. 'Deubiquitination'\n101. 'Respiratory electron transport'\n102. 'Intracellular signaling by second messengers'\n103. 'Signaling by Interleukins'\n104. 'Glucose metabolism'\n105. 'Antigen processing: Ubiquitination &amp; Proteasome degradation'\n106. 'Cell Cycle Checkpoints'\n107. 'Respiratory electron transport, ATP synthesis by chemiosmotic coupling, and heat production by uncoupling proteins.'\n108. 'Pentose phosphate pathway'\n109. 'Cellular responses to stress'\n110. 'Cellular responses to external stimuli'\n111. 'Class I MHC mediated antigen processing &amp; presentation'\n112. 'Metabolism of carbohydrates'\n113. 'RAS processing'\n114. 'M Phase'\n115. 'The citric acid (TCA) cycle and respiratory electron transport'\n\n\n",
            "text/html": [
              "<style>\n",
              ".list-inline {list-style: none; margin:0; padding: 0}\n",
              ".list-inline>li {display: inline-block}\n",
              ".list-inline>li:not(:last-child)::after {content: \"\\00b7\"; padding: 0 .5ex}\n",
              "</style>\n",
              "<ol class=list-inline><li>'AUF1 (hnRNP D0) binds and destabilizes mRNA'</li><li>'MAPK6/MAPK4 signaling'</li><li>'Ubiquitin-dependent degradation of Cyclin D'</li><li>'Autodegradation of the E3 ubiquitin ligase COP1'</li><li>'Ubiquitin Mediated Degradation of Phosphorylated Cdc25A'</li><li>'p53-Independent DNA Damage Response'</li><li>'p53-Independent G1/S DNA damage checkpoint'</li><li>'Regulation of RUNX2 expression and activity'</li><li>'Regulation of RUNX3 expression and activity'</li><li>'FBXL7 down-regulates AURKA during mitotic entry and in early mitosis'</li><li>'Degradation of AXIN'</li><li>'Regulation of mRNA stability by proteins that bind AU-rich elements'</li><li>'Degradation of GLI1 by the proteasome'</li><li>'Stabilization of p53'</li><li>'Degradation of DVL'</li><li>'Dectin-1 mediated noncanonical NF-kB signaling'</li><li>'GLI3 is processed to GLI3R by the proteasome'</li><li>'NIK--&gt;noncanonical NF-kB signaling'</li><li>'CDT1 association with the CDC6:ORC:origin complex'</li><li>'SCF(Skp2)-mediated degradation of p27/p21'</li><li>'Asymmetric localization of PCP proteins'</li><li>'Hedgehog ligand biogenesis'</li><li>'Activation of NF-kappaB in B cells'</li><li>'Transcriptional regulation by RUNX2'</li><li>'Autodegradation of Cdh1 by Cdh1:APC/C'</li><li>'p53-Dependent G1 DNA Damage Response'</li><li>'p53-Dependent G1/S DNA damage checkpoint'</li><li>'MAPK family signaling cascades'</li><li>'Oxygen-dependent proline hydroxylation of Hypoxia-inducible Factor Alpha'</li><li>'RUNX1 regulates transcription of genes involved in differentiation of HSCs'</li><li>'Regulation of RAS by GAPs'</li><li>'Assembly of the pre-replicative complex'</li><li>'G1/S DNA Damage Checkpoints'</li><li>'APC/C:Cdc20 mediated degradation of Securin'</li><li>'Regulation of PTEN stability and activity'</li><li>'Cellular response to hypoxia'</li><li>'Orc1 removal from chromatin'</li><li>'Cyclin E associated events during G1/S transition '</li><li>'Cdc20:Phospho-APC/C mediated degradation of Cyclin A'</li><li>'CDK-mediated phosphorylation and removal of Cdc6'</li><li>'Cyclin A:Cdk2-associated events at S phase entry'</li><li>'APC/C:Cdh1 mediated degradation of Cdc20 and other APC/C:Cdh1 targeted proteins in late mitosis/early G1'</li><li>'APC:Cdc20 mediated degradation of cell cycle proteins prior to satisfation of the cell cycle checkpoint'</li><li>'Downstream signaling events of B Cell Receptor (BCR)'</li><li>'The role of GTSE1 in G2/M progression after G2 checkpoint'</li><li>'APC/C:Cdc20 mediated degradation of mitotic proteins'</li><li>'FCERI mediated NF-kB activation'</li><li>'RAF/MAP kinase cascade'</li><li>'Activation of APC/C and APC/C:Cdc20 mediated degradation of mitotic proteins'</li><li>'Degradation of beta-catenin by the destruction complex'</li><li>'Transcriptional regulation by RUNX3'</li><li>'MAPK1/MAPK3 signaling'</li><li>'Cross-presentation of soluble exogenous antigens (endosomes)'</li><li>'FLT3 Signaling'</li><li>'Hedgehog \\'on\\' state'</li><li>'Regulation of ornithine decarboxylase (ODC)'</li><li>'DNA Replication Pre-Initiation'</li><li>'APC/C-mediated degradation of cell cycle proteins'</li><li>'Downstream TCR signaling'</li><li>'Regulation of mitotic cell cycle'</li><li>'PCP/CE pathway'</li><li>'CLEC7A (Dectin-1) signaling'</li><li>'Switching of origins to a post-replicative state'</li><li>'Metabolism of polyamines'</li><li>'UCH proteinases'</li><li>'Interleukin-1 signaling'</li><li>'TNFR2 non-canonical NF-kB pathway'</li><li>'ABC-family proteins mediated transport'</li><li>'Signaling by the B Cell Receptor (BCR)'</li><li>'TCR signaling'</li><li>'G1/S Transition'</li><li>'Interleukin-1 family signaling'</li><li>'Hedgehog \\'off\\' state'</li><li>'C-type lectin receptors (CLRs)'</li><li>'PTEN Regulation'</li><li>'Synthesis of DNA'</li><li>'Fc epsilon receptor (FCERI) signaling'</li><li>'DNA Replication'</li><li>'Beta-catenin independent WNT signaling'</li><li>'Mitotic G1 phase and G1/S transition'</li><li>'Signaling by Hedgehog'</li><li>'Antigen processing-Cross presentation'</li><li>'S Phase'</li><li>'TCF dependent signaling in response to WNT'</li><li>'Transcriptional regulation by RUNX1'</li><li>'Neddylation'</li><li>'Gluconeogenesis'</li><li>'G2/M Checkpoints'</li><li>'Mitochondrial Fatty Acid Beta-Oxidation'</li><li>'G2/M Transition'</li><li>'Mitotic G2-G2/M phases'</li><li>'Ub-specific processing proteases'</li><li>'Separation of Sister Chromatids'</li><li>'Metabolism of amino acids and derivatives'</li><li>'Mitotic Anaphase'</li><li>'Mitotic Metaphase and Anaphase'</li><li>'Signaling by WNT'</li><li>'PIP3 activates AKT signaling'</li><li>'Glycolysis'</li><li>'Deubiquitination'</li><li>'Respiratory electron transport'</li><li>'Intracellular signaling by second messengers'</li><li>'Signaling by Interleukins'</li><li>'Glucose metabolism'</li><li>'Antigen processing: Ubiquitination &amp; Proteasome degradation'</li><li>'Cell Cycle Checkpoints'</li><li>'Respiratory electron transport, ATP synthesis by chemiosmotic coupling, and heat production by uncoupling proteins.'</li><li>'Pentose phosphate pathway'</li><li>'Cellular responses to stress'</li><li>'Cellular responses to external stimuli'</li><li>'Class I MHC mediated antigen processing &amp; presentation'</li><li>'Metabolism of carbohydrates'</li><li>'RAS processing'</li><li>'M Phase'</li><li>'The citric acid (TCA) cycle and respiratory electron transport'</li></ol>\n"
            ]
          },
          "metadata": {
            "tags": []
          }
        }
      ]
    },
    {
      "cell_type": "code",
      "metadata": {
        "id": "lfr7sh58oVpe"
      },
      "source": [
        "reactome_bottom <- enrichPathway(gene = bottom_id,\n",
        "                organism = \"mouse\",\n",
        "                pvalueCutoff  = 0.05)"
      ],
      "execution_count": null,
      "outputs": []
    },
    {
      "cell_type": "code",
      "metadata": {
        "id": "oV4jljnModDx",
        "colab": {
          "base_uri": "https://localhost:8080/",
          "height": 243
        },
        "outputId": "96af14af-7aa1-47d7-d986-f4ec3b30f1fe"
      },
      "source": [
        "reactome_bottom ##No pathway terms found with 0.05 as the p-value cutoff"
      ],
      "execution_count": null,
      "outputs": [
        {
          "output_type": "display_data",
          "data": {
            "text/plain": [
              "#\n",
              "# over-representation test\n",
              "#\n",
              "#...@organism \t mouse \n",
              "#...@ontology \t Reactome \n",
              "#...@keytype \t ENTREZID \n",
              "#...@gene \t chr [1:99] \"56531\" \"226562\" \"242474\" \"83946\" \"17069\" \"19027\" \"77087\" ...\n",
              "#...pvalues adjusted by 'BH' with cutoff <0.05 \n",
              "#...0 enriched terms found\n",
              "#...Citation\n",
              "  Guangchuang Yu, Qing-Yu He. ReactomePA: an R/Bioconductor package for\n",
              "  reactome pathway analysis and visualization. Molecular BioSystems\n",
              "  2016, 12(2):477-479 \n"
            ]
          },
          "metadata": {
            "tags": []
          }
        }
      ]
    }
  ]
}